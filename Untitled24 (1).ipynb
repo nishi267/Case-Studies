{
 "cells": [
  {
   "cell_type": "code",
   "execution_count": 2,
   "metadata": {},
   "outputs": [],
   "source": [
    "from sklearn.metrics.pairwise import cosine_similarity\n",
    "from sklearn.feature_extraction.text import TfidfVectorizer\n",
    "def cosinesimilar1(path1, path2):\n",
    "    #path1=re.sub(r'[^a-zA-Z0-9. ]',' ',path1)\n",
    "    #path2=re.sub(r'[^a-zA-Z0-9. ]',' ',path2)\n",
    "    document=[path1,path2]\n",
    "    vectorizer=TfidfVectorizer(stop_words='english', sublinear_tf=True,norm='l2',ngram_range=(1,3))\n",
    "    vector=vectorizer.fit_transform(document)\n",
    "    similarity=cosine_similarity(vector[1],vector[0])\n",
    "    return similarity[0][0]"
   ]
  },
  {
   "cell_type": "code",
   "execution_count": 3,
   "metadata": {},
   "outputs": [],
   "source": [
    "path1='<td><input type=\"text\" id=\"firstname\" class=\"name1\" required></td>'\n",
    "path2='<td><input type=\"text\" id=\"name\" class=\"name\" required></td>'"
   ]
  },
  {
   "cell_type": "code",
   "execution_count": 4,
   "metadata": {},
   "outputs": [
    {
     "data": {
      "text/plain": [
       "0.5249950193472411"
      ]
     },
     "execution_count": 4,
     "metadata": {},
     "output_type": "execute_result"
    }
   ],
   "source": [
    "sim=cosinesimilar1(path1,path2)\n",
    "sim"
   ]
  },
  {
   "cell_type": "code",
   "execution_count": null,
   "metadata": {},
   "outputs": [],
   "source": []
  }
 ],
 "metadata": {
  "kernelspec": {
   "display_name": "Python 3",
   "language": "python",
   "name": "python3"
  },
  "language_info": {
   "codemirror_mode": {
    "name": "ipython",
    "version": 3
   },
   "file_extension": ".py",
   "mimetype": "text/x-python",
   "name": "python",
   "nbconvert_exporter": "python",
   "pygments_lexer": "ipython3",
   "version": "3.6.10"
  }
 },
 "nbformat": 4,
 "nbformat_minor": 4
}
