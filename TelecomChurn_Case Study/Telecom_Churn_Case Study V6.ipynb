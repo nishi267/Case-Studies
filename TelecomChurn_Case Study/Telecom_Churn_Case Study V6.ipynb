{
 "cells": [
  {
   "cell_type": "markdown",
   "metadata": {
    "colab_type": "text",
    "id": "w8oZVDM7dtSP"
   },
   "source": [
    "# Telecom Churn - ML Group Case Study\n",
    "\n",
    "##### By: Nisha Kumar "
   ]
  },
  {
   "cell_type": "markdown",
   "metadata": {},
   "source": [
    "###### Business Problem Overview\n",
    "In the telecom industry, customers are able to choose from multiple service providers and actively switch from one operator to another. In this highly competitive market, the telecommunications industry experiences an average of 15-25% annual churn rate. Given the fact that it costs 5-10 times more to acquire a new customer than to retain an existing one, customer retention has now become even more important than customer acquisition.\n",
    "\n",
    " \n",
    "\n",
    "For many incumbent operators, retaining high profitable customers is the number one business goal.\n",
    " \n",
    " \n",
    "\n",
    "To reduce customer churn, telecom companies need to predict which customers are at high risk of churn.\n",
    "\n",
    " \n",
    "\n",
    "In this project, you will analyse customer-level data of a leading telecom firm, build predictive models to identify customers at high risk of churn and identify the main indicators of churn.\n",
    "\n",
    "###### Definitions of Churn\n",
    "There are various ways to define churn, such as: 1. Revenue-based churn   2.Usage-based churn\n",
    "\n",
    "For this project, you will use the **usage-based** definition to define churn.\n",
    "\n",
    "**Usage-based churn:** Customers who have not done any usage, either incoming or outgoing - in terms of calls, internet etc. over a period of time.\n",
    "A potential shortcoming of this definition is that when the customer has stopped using the services for a while, it may be too late to take any corrective actions to retain them. For e.g., if you define churn based on a ‘two-months zero usage’ period, predicting churn could be useless since by that time the customer would have already switched to another operator. \n",
    "\n",
    "###### business objective:\n",
    "The business objective is to predict the churn in the last (i.e. the ninth) month using the data (features) from the first three months. To do this task well, understanding the typical customer behaviour during churn will be helpful.\n",
    "\n",
    "Filename: telecom_churn_data_v1.csv"
   ]
  },
  {
   "cell_type": "code",
   "execution_count": 1,
   "metadata": {
    "colab": {},
    "colab_type": "code",
    "id": "UbR1PWaxdtSR"
   },
   "outputs": [],
   "source": [
    "import pandas as pd"
   ]
  },
  {
   "cell_type": "markdown",
   "metadata": {},
   "source": [
    "**** Importing Data"
   ]
  },
  {
   "cell_type": "code",
   "execution_count": 2,
   "metadata": {},
   "outputs": [],
   "source": [
    "churn=pd.read_csv(\"/Users/nisha/Downloads/telecom_churn_data_v1.csv\")"
   ]
  },
  {
   "cell_type": "code",
   "execution_count": 3,
   "metadata": {
    "colab": {
     "base_uri": "https://localhost:8080/",
     "height": 253
    },
    "colab_type": "code",
    "id": "KXQEyrnpHV3j",
    "outputId": "47c768ad-a75e-45af-f5b7-a9b672ac46ba",
    "scrolled": true
   },
   "outputs": [
    {
     "data": {
      "text/html": [
       "<div>\n",
       "<style scoped>\n",
       "    .dataframe tbody tr th:only-of-type {\n",
       "        vertical-align: middle;\n",
       "    }\n",
       "\n",
       "    .dataframe tbody tr th {\n",
       "        vertical-align: top;\n",
       "    }\n",
       "\n",
       "    .dataframe thead th {\n",
       "        text-align: right;\n",
       "    }\n",
       "</style>\n",
       "<table border=\"1\" class=\"dataframe\">\n",
       "  <thead>\n",
       "    <tr style=\"text-align: right;\">\n",
       "      <th></th>\n",
       "      <th>mobile_number</th>\n",
       "      <th>circle_id</th>\n",
       "      <th>loc_og_t2o_mou</th>\n",
       "      <th>std_og_t2o_mou</th>\n",
       "      <th>loc_ic_t2o_mou</th>\n",
       "      <th>last_date_of_month_6</th>\n",
       "      <th>last_date_of_month_7</th>\n",
       "      <th>last_date_of_month_8</th>\n",
       "      <th>last_date_of_month_9</th>\n",
       "      <th>arpu_6</th>\n",
       "      <th>...</th>\n",
       "      <th>sachet_3g_9</th>\n",
       "      <th>fb_user_6</th>\n",
       "      <th>fb_user_7</th>\n",
       "      <th>fb_user_8</th>\n",
       "      <th>fb_user_9</th>\n",
       "      <th>aon</th>\n",
       "      <th>aug_vbc_3g</th>\n",
       "      <th>jul_vbc_3g</th>\n",
       "      <th>jun_vbc_3g</th>\n",
       "      <th>sep_vbc_3g</th>\n",
       "    </tr>\n",
       "  </thead>\n",
       "  <tbody>\n",
       "    <tr>\n",
       "      <th>0</th>\n",
       "      <td>7000842753</td>\n",
       "      <td>109</td>\n",
       "      <td>0.0</td>\n",
       "      <td>0.0</td>\n",
       "      <td>0.0</td>\n",
       "      <td>6/30/2014</td>\n",
       "      <td>7/31/2014</td>\n",
       "      <td>8/31/2014</td>\n",
       "      <td>9/30/2014</td>\n",
       "      <td>197.385</td>\n",
       "      <td>...</td>\n",
       "      <td>0</td>\n",
       "      <td>1.0</td>\n",
       "      <td>1.0</td>\n",
       "      <td>1.0</td>\n",
       "      <td>NaN</td>\n",
       "      <td>968</td>\n",
       "      <td>30.4</td>\n",
       "      <td>0.0</td>\n",
       "      <td>101.20</td>\n",
       "      <td>3.58</td>\n",
       "    </tr>\n",
       "    <tr>\n",
       "      <th>1</th>\n",
       "      <td>7001865778</td>\n",
       "      <td>109</td>\n",
       "      <td>0.0</td>\n",
       "      <td>0.0</td>\n",
       "      <td>0.0</td>\n",
       "      <td>6/30/2014</td>\n",
       "      <td>7/31/2014</td>\n",
       "      <td>8/31/2014</td>\n",
       "      <td>9/30/2014</td>\n",
       "      <td>34.047</td>\n",
       "      <td>...</td>\n",
       "      <td>0</td>\n",
       "      <td>NaN</td>\n",
       "      <td>1.0</td>\n",
       "      <td>1.0</td>\n",
       "      <td>NaN</td>\n",
       "      <td>1006</td>\n",
       "      <td>0.0</td>\n",
       "      <td>0.0</td>\n",
       "      <td>0.00</td>\n",
       "      <td>0.00</td>\n",
       "    </tr>\n",
       "    <tr>\n",
       "      <th>2</th>\n",
       "      <td>7001625959</td>\n",
       "      <td>109</td>\n",
       "      <td>0.0</td>\n",
       "      <td>0.0</td>\n",
       "      <td>0.0</td>\n",
       "      <td>6/30/2014</td>\n",
       "      <td>7/31/2014</td>\n",
       "      <td>8/31/2014</td>\n",
       "      <td>9/30/2014</td>\n",
       "      <td>167.690</td>\n",
       "      <td>...</td>\n",
       "      <td>0</td>\n",
       "      <td>NaN</td>\n",
       "      <td>NaN</td>\n",
       "      <td>NaN</td>\n",
       "      <td>1.0</td>\n",
       "      <td>1103</td>\n",
       "      <td>0.0</td>\n",
       "      <td>0.0</td>\n",
       "      <td>4.17</td>\n",
       "      <td>0.00</td>\n",
       "    </tr>\n",
       "    <tr>\n",
       "      <th>3</th>\n",
       "      <td>7001204172</td>\n",
       "      <td>109</td>\n",
       "      <td>0.0</td>\n",
       "      <td>0.0</td>\n",
       "      <td>0.0</td>\n",
       "      <td>6/30/2014</td>\n",
       "      <td>7/31/2014</td>\n",
       "      <td>8/31/2014</td>\n",
       "      <td>9/30/2014</td>\n",
       "      <td>221.338</td>\n",
       "      <td>...</td>\n",
       "      <td>0</td>\n",
       "      <td>NaN</td>\n",
       "      <td>NaN</td>\n",
       "      <td>NaN</td>\n",
       "      <td>NaN</td>\n",
       "      <td>2491</td>\n",
       "      <td>0.0</td>\n",
       "      <td>0.0</td>\n",
       "      <td>0.00</td>\n",
       "      <td>0.00</td>\n",
       "    </tr>\n",
       "    <tr>\n",
       "      <th>4</th>\n",
       "      <td>7000142493</td>\n",
       "      <td>109</td>\n",
       "      <td>0.0</td>\n",
       "      <td>0.0</td>\n",
       "      <td>0.0</td>\n",
       "      <td>6/30/2014</td>\n",
       "      <td>7/31/2014</td>\n",
       "      <td>8/31/2014</td>\n",
       "      <td>9/30/2014</td>\n",
       "      <td>261.636</td>\n",
       "      <td>...</td>\n",
       "      <td>0</td>\n",
       "      <td>0.0</td>\n",
       "      <td>NaN</td>\n",
       "      <td>NaN</td>\n",
       "      <td>NaN</td>\n",
       "      <td>1526</td>\n",
       "      <td>0.0</td>\n",
       "      <td>0.0</td>\n",
       "      <td>0.00</td>\n",
       "      <td>0.00</td>\n",
       "    </tr>\n",
       "  </tbody>\n",
       "</table>\n",
       "<p>5 rows × 226 columns</p>\n",
       "</div>"
      ],
      "text/plain": [
       "   mobile_number  circle_id  loc_og_t2o_mou  std_og_t2o_mou  loc_ic_t2o_mou  \\\n",
       "0     7000842753        109             0.0             0.0             0.0   \n",
       "1     7001865778        109             0.0             0.0             0.0   \n",
       "2     7001625959        109             0.0             0.0             0.0   \n",
       "3     7001204172        109             0.0             0.0             0.0   \n",
       "4     7000142493        109             0.0             0.0             0.0   \n",
       "\n",
       "  last_date_of_month_6 last_date_of_month_7 last_date_of_month_8  \\\n",
       "0            6/30/2014            7/31/2014            8/31/2014   \n",
       "1            6/30/2014            7/31/2014            8/31/2014   \n",
       "2            6/30/2014            7/31/2014            8/31/2014   \n",
       "3            6/30/2014            7/31/2014            8/31/2014   \n",
       "4            6/30/2014            7/31/2014            8/31/2014   \n",
       "\n",
       "  last_date_of_month_9   arpu_6  ...  sachet_3g_9  fb_user_6  fb_user_7  \\\n",
       "0            9/30/2014  197.385  ...            0        1.0        1.0   \n",
       "1            9/30/2014   34.047  ...            0        NaN        1.0   \n",
       "2            9/30/2014  167.690  ...            0        NaN        NaN   \n",
       "3            9/30/2014  221.338  ...            0        NaN        NaN   \n",
       "4            9/30/2014  261.636  ...            0        0.0        NaN   \n",
       "\n",
       "   fb_user_8  fb_user_9   aon  aug_vbc_3g  jul_vbc_3g  jun_vbc_3g  sep_vbc_3g  \n",
       "0        1.0        NaN   968        30.4         0.0      101.20        3.58  \n",
       "1        1.0        NaN  1006         0.0         0.0        0.00        0.00  \n",
       "2        NaN        1.0  1103         0.0         0.0        4.17        0.00  \n",
       "3        NaN        NaN  2491         0.0         0.0        0.00        0.00  \n",
       "4        NaN        NaN  1526         0.0         0.0        0.00        0.00  \n",
       "\n",
       "[5 rows x 226 columns]"
      ]
     },
     "execution_count": 3,
     "metadata": {},
     "output_type": "execute_result"
    }
   ],
   "source": [
    "churn.head()"
   ]
  },
  {
   "cell_type": "code",
   "execution_count": 4,
   "metadata": {
    "colab": {
     "base_uri": "https://localhost:8080/",
     "height": 34
    },
    "colab_type": "code",
    "id": "RlB1ewCDHj12",
    "outputId": "ab0e6276-9d55-4c2f-ef38-482556a58887"
   },
   "outputs": [
    {
     "data": {
      "text/plain": [
       "(99999, 226)"
      ]
     },
     "execution_count": 4,
     "metadata": {},
     "output_type": "execute_result"
    }
   ],
   "source": [
    "churn.shape"
   ]
  },
  {
   "cell_type": "markdown",
   "metadata": {},
   "source": [
    "### Data Cleaning and Data Preparation"
   ]
  },
  {
   "cell_type": "markdown",
   "metadata": {},
   "source": [
    "**** Handling missing data*****"
   ]
  },
  {
   "cell_type": "markdown",
   "metadata": {},
   "source": [
    "**** Missing Values more than 50%"
   ]
  },
  {
   "cell_type": "code",
   "execution_count": 5,
   "metadata": {},
   "outputs": [
    {
     "name": "stdout",
     "output_type": "stream",
     "text": [
      "Columns with more than 50% missing values:  40\n"
     ]
    },
    {
     "data": {
      "text/plain": [
       "date_of_last_rech_data_6    74.85\n",
       "date_of_last_rech_data_7    74.43\n",
       "date_of_last_rech_data_8    73.66\n",
       "date_of_last_rech_data_9    74.08\n",
       "total_rech_data_6           74.85\n",
       "total_rech_data_7           74.43\n",
       "total_rech_data_8           73.66\n",
       "total_rech_data_9           74.08\n",
       "max_rech_data_6             74.85\n",
       "max_rech_data_7             74.43\n",
       "max_rech_data_8             73.66\n",
       "max_rech_data_9             74.08\n",
       "count_rech_2g_6             74.85\n",
       "count_rech_2g_7             74.43\n",
       "count_rech_2g_8             73.66\n",
       "count_rech_2g_9             74.08\n",
       "count_rech_3g_6             74.85\n",
       "count_rech_3g_7             74.43\n",
       "count_rech_3g_8             73.66\n",
       "count_rech_3g_9             74.08\n",
       "av_rech_amt_data_6          74.85\n",
       "av_rech_amt_data_7          74.43\n",
       "av_rech_amt_data_8          73.66\n",
       "av_rech_amt_data_9          74.08\n",
       "arpu_3g_6                   74.85\n",
       "arpu_3g_7                   74.43\n",
       "arpu_3g_8                   73.66\n",
       "arpu_3g_9                   74.08\n",
       "arpu_2g_6                   74.85\n",
       "arpu_2g_7                   74.43\n",
       "arpu_2g_8                   73.66\n",
       "arpu_2g_9                   74.08\n",
       "night_pck_user_6            74.85\n",
       "night_pck_user_7            74.43\n",
       "night_pck_user_8            73.66\n",
       "night_pck_user_9            74.08\n",
       "fb_user_6                   74.85\n",
       "fb_user_7                   74.43\n",
       "fb_user_8                   73.66\n",
       "fb_user_9                   74.08\n",
       "dtype: float64"
      ]
     },
     "execution_count": 5,
     "metadata": {},
     "output_type": "execute_result"
    }
   ],
   "source": [
    "missing=round(100*churn.isnull().sum()/len(churn),2)\n",
    "print(\"Columns with more than 50% missing values: \",len(missing.loc[missing>50]))\n",
    "missing.loc[missing>50]"
   ]
  },
  {
   "cell_type": "markdown",
   "metadata": {},
   "source": [
    "**** Imputing with 0 for few missing values*****\n",
    "Out the these 40 features, many are required and are essential for analysis. The missing values for these features seems to suggest that these customers KPI's did not have any value at that month. We can choose to impute these values with 0 to make enable these features to give value to analysis."
   ]
  },
  {
   "cell_type": "code",
   "execution_count": 6,
   "metadata": {
    "colab": {},
    "colab_type": "code",
    "id": "bwzuxqJEdtS5"
   },
   "outputs": [],
   "source": [
    "impute0 = ['av_rech_amt_data_6', 'arpu_2g_6', 'arpu_3g_6', 'count_rech_2g_6', 'count_rech_3g_6',\n",
    "             'max_rech_data_6', 'total_rech_data_6','fb_user_6','night_pck_user_6','av_rech_amt_data_7', 'arpu_2g_7', 'arpu_3g_7', 'count_rech_2g_7', 'count_rech_3g_7',\n",
    "             'max_rech_data_7', 'total_rech_data_7','fb_user_7','night_pck_user_7','av_rech_amt_data_8', 'arpu_2g_8', 'arpu_3g_8', 'count_rech_2g_8', 'count_rech_3g_8',\n",
    "             'max_rech_data_8', 'total_rech_data_8','fb_user_8','night_pck_user_8','av_rech_amt_data_9', 'arpu_2g_9', 'arpu_3g_9', 'count_rech_2g_9', 'count_rech_3g_9',\n",
    "             'max_rech_data_9', 'total_rech_data_9','fb_user_9','night_pck_user_9']"
   ]
  },
  {
   "cell_type": "code",
   "execution_count": 7,
   "metadata": {
    "colab": {},
    "colab_type": "code",
    "id": "HDT5K1EAdtS-"
   },
   "outputs": [],
   "source": [
    "for i in impute0:\n",
    "    churn[i].fillna(0,inplace=True)"
   ]
  },
  {
   "cell_type": "markdown",
   "metadata": {},
   "source": [
    "****missing Values more than 50% after 0 imputation*******"
   ]
  },
  {
   "cell_type": "code",
   "execution_count": 8,
   "metadata": {
    "colab": {},
    "colab_type": "code",
    "id": "o5d1NLQZdtTF"
   },
   "outputs": [
    {
     "data": {
      "text/plain": [
       "date_of_last_rech_data_6    74.85\n",
       "date_of_last_rech_data_7    74.43\n",
       "date_of_last_rech_data_8    73.66\n",
       "date_of_last_rech_data_9    74.08\n",
       "dtype: float64"
      ]
     },
     "execution_count": 8,
     "metadata": {},
     "output_type": "execute_result"
    }
   ],
   "source": [
    "missing=round(100*churn.isnull().sum()/len(churn),2)\n",
    "missing.loc[missing>50]"
   ]
  },
  {
   "cell_type": "markdown",
   "metadata": {},
   "source": [
    "*****dropping columns with more than 50% missing values****"
   ]
  },
  {
   "cell_type": "code",
   "execution_count": 9,
   "metadata": {
    "colab": {},
    "colab_type": "code",
    "id": "93oMyYO_dtTP"
   },
   "outputs": [],
   "source": [
    "d=['date_of_last_rech_data_6','date_of_last_rech_data_7','date_of_last_rech_data_8','date_of_last_rech_data_9']\n",
    "churn.drop(d,axis=1,inplace=True)"
   ]
  },
  {
   "cell_type": "markdown",
   "metadata": {},
   "source": [
    "*****missing values more than 2% for columns*****"
   ]
  },
  {
   "cell_type": "code",
   "execution_count": 10,
   "metadata": {
    "colab": {
     "base_uri": "https://localhost:8080/",
     "height": 34
    },
    "colab_type": "code",
    "id": "gGc9IlVIdtTS",
    "outputId": "cb1ae0db-5cb0-4a93-a299-623f3709b9cf"
   },
   "outputs": [
    {
     "name": "stdout",
     "output_type": "stream",
     "text": [
      "Total missing values with more tha 3% missing values : 118\n"
     ]
    }
   ],
   "source": [
    "missing=round(100*churn.isnull().sum()/len(churn),2)\n",
    "miss=missing.loc[missing>2]\n",
    "miss=list(miss.index) \n",
    "print(\"Total missing values with more tha 3% missing values :\",len(miss))"
   ]
  },
  {
   "cell_type": "code",
   "execution_count": 11,
   "metadata": {
    "colab": {},
    "colab_type": "code",
    "id": "DBnJjZXkdtTc"
   },
   "outputs": [],
   "source": [
    "churn=churn[~churn[miss].isnull().all(axis=1)]"
   ]
  },
  {
   "cell_type": "code",
   "execution_count": 12,
   "metadata": {
    "colab": {
     "base_uri": "https://localhost:8080/",
     "height": 34
    },
    "colab_type": "code",
    "id": "OMGhf1sFdtTh",
    "outputId": "9f015fe0-8f96-42f8-ff9c-410a6a84e411"
   },
   "outputs": [
    {
     "data": {
      "text/plain": [
       "(99618, 222)"
      ]
     },
     "execution_count": 12,
     "metadata": {},
     "output_type": "execute_result"
    }
   ],
   "source": [
    "churn.shape"
   ]
  },
  {
   "cell_type": "markdown",
   "metadata": {
    "colab_type": "text",
    "id": "4ldgo2b7dtT3"
   },
   "source": [
    "*********Adding New Features:***********\n",
    "\n",
    "        total_rechg_data6=total_rech_data_6*av_rech_amt_data_6\n",
    "        1. Total rech_6=total rech_amt_6 +total rechg_data_6\n",
    "        2. Total rech_7=total rech_amt_7 +total rechg_data_7\n",
    "        3. avg rechg for 6 &7 =(Total rech_6+Total rech_7)/2"
   ]
  },
  {
   "cell_type": "code",
   "execution_count": 13,
   "metadata": {
    "colab": {},
    "colab_type": "code",
    "id": "i2T-KSRwdtT4"
   },
   "outputs": [],
   "source": [
    "churn['rech_data_6_total']=churn['total_rech_data_6']*churn['av_rech_amt_data_6']\n",
    "churn['rech_data_7_total']=churn['total_rech_data_7']*churn['av_rech_amt_data_7']\n",
    "#churn['rech_data_8_total']=churn['total_rech_data_6']*churn['av_rech_amt_data_6']\n"
   ]
  },
  {
   "cell_type": "code",
   "execution_count": 14,
   "metadata": {
    "colab": {},
    "colab_type": "code",
    "id": "5O2bOq_sdtT8"
   },
   "outputs": [],
   "source": [
    "churn['Total rech_6']=churn['rech_data_6_total']+churn['total_rech_amt_6']\n",
    "churn['Total rech_7']=churn['rech_data_7_total']+churn['total_rech_amt_7']"
   ]
  },
  {
   "cell_type": "code",
   "execution_count": 15,
   "metadata": {
    "colab": {},
    "colab_type": "code",
    "id": "baMOuPlfdtT_"
   },
   "outputs": [],
   "source": [
    "churn['avg_amt_6_7']=churn[['Total rech_6','Total rech_7']].mean(axis=1)\n"
   ]
  },
  {
   "cell_type": "markdown",
   "metadata": {},
   "source": [
    "******High profitable customer******\n",
    "    finding 70th percentile and extracting data with more than 70% percentile avg recharge amount for both data & calling -"
   ]
  },
  {
   "cell_type": "code",
   "execution_count": 16,
   "metadata": {
    "colab": {},
    "colab_type": "code",
    "id": "71A9It8idtUF"
   },
   "outputs": [],
   "source": [
    "import numpy as np\n",
    "amount_70th_percentile = np.percentile(churn['avg_amt_6_7'], 70)"
   ]
  },
  {
   "cell_type": "code",
   "execution_count": 17,
   "metadata": {
    "colab": {
     "base_uri": "https://localhost:8080/",
     "height": 34
    },
    "colab_type": "code",
    "id": "8JsfyAv2dtUI",
    "outputId": "28e2ac9b-4a46-4563-83e6-89afa123b5c8"
   },
   "outputs": [
    {
     "name": "stdout",
     "output_type": "stream",
     "text": [
      "479.5\n"
     ]
    }
   ],
   "source": [
    "print(amount_70th_percentile)"
   ]
  },
  {
   "cell_type": "markdown",
   "metadata": {},
   "source": [
    "        ******Deriving records containing only High profitable customer in a DataFrame and resetting index *********"
   ]
  },
  {
   "cell_type": "code",
   "execution_count": 18,
   "metadata": {
    "colab": {},
    "colab_type": "code",
    "id": "SbSb-vvCdtUM"
   },
   "outputs": [],
   "source": [
    "hvc=churn[churn['avg_amt_6_7']>=amount_70th_percentile] "
   ]
  },
  {
   "cell_type": "code",
   "execution_count": 19,
   "metadata": {
    "colab": {
     "base_uri": "https://localhost:8080/",
     "height": 34
    },
    "colab_type": "code",
    "id": "F_cnK6vOdtUQ",
    "outputId": "106895b7-e7f6-462c-de79-f842e0e21ea1"
   },
   "outputs": [
    {
     "data": {
      "text/plain": [
       "(29906, 227)"
      ]
     },
     "execution_count": 19,
     "metadata": {},
     "output_type": "execute_result"
    }
   ],
   "source": [
    "hvc.shape"
   ]
  },
  {
   "cell_type": "markdown",
   "metadata": {},
   "source": [
    "**** Total Records for High Profitable Customers= 29906********"
   ]
  },
  {
   "cell_type": "code",
   "execution_count": 20,
   "metadata": {
    "colab": {},
    "colab_type": "code",
    "id": "ip_FqBfydtUY"
   },
   "outputs": [],
   "source": [
    "hvc = hvc.reset_index(drop=True)\n"
   ]
  },
  {
   "cell_type": "code",
   "execution_count": 21,
   "metadata": {
    "colab": {
     "base_uri": "https://localhost:8080/",
     "height": 270
    },
    "colab_type": "code",
    "id": "sGiuwVKudtUh",
    "outputId": "446db434-418d-43a2-95ab-2731e37eb4ce"
   },
   "outputs": [
    {
     "data": {
      "text/html": [
       "<div>\n",
       "<style scoped>\n",
       "    .dataframe tbody tr th:only-of-type {\n",
       "        vertical-align: middle;\n",
       "    }\n",
       "\n",
       "    .dataframe tbody tr th {\n",
       "        vertical-align: top;\n",
       "    }\n",
       "\n",
       "    .dataframe thead th {\n",
       "        text-align: right;\n",
       "    }\n",
       "</style>\n",
       "<table border=\"1\" class=\"dataframe\">\n",
       "  <thead>\n",
       "    <tr style=\"text-align: right;\">\n",
       "      <th></th>\n",
       "      <th>mobile_number</th>\n",
       "      <th>circle_id</th>\n",
       "      <th>loc_og_t2o_mou</th>\n",
       "      <th>std_og_t2o_mou</th>\n",
       "      <th>loc_ic_t2o_mou</th>\n",
       "      <th>last_date_of_month_6</th>\n",
       "      <th>last_date_of_month_7</th>\n",
       "      <th>last_date_of_month_8</th>\n",
       "      <th>last_date_of_month_9</th>\n",
       "      <th>arpu_6</th>\n",
       "      <th>...</th>\n",
       "      <th>aon</th>\n",
       "      <th>aug_vbc_3g</th>\n",
       "      <th>jul_vbc_3g</th>\n",
       "      <th>jun_vbc_3g</th>\n",
       "      <th>sep_vbc_3g</th>\n",
       "      <th>rech_data_6_total</th>\n",
       "      <th>rech_data_7_total</th>\n",
       "      <th>Total rech_6</th>\n",
       "      <th>Total rech_7</th>\n",
       "      <th>avg_amt_6_7</th>\n",
       "    </tr>\n",
       "  </thead>\n",
       "  <tbody>\n",
       "    <tr>\n",
       "      <th>0</th>\n",
       "      <td>7000842753</td>\n",
       "      <td>109</td>\n",
       "      <td>0.0</td>\n",
       "      <td>0.0</td>\n",
       "      <td>0.0</td>\n",
       "      <td>6/30/2014</td>\n",
       "      <td>7/31/2014</td>\n",
       "      <td>8/31/2014</td>\n",
       "      <td>9/30/2014</td>\n",
       "      <td>197.385</td>\n",
       "      <td>...</td>\n",
       "      <td>968</td>\n",
       "      <td>30.40</td>\n",
       "      <td>0.00</td>\n",
       "      <td>101.20</td>\n",
       "      <td>3.58</td>\n",
       "      <td>252.0</td>\n",
       "      <td>252.0</td>\n",
       "      <td>614.0</td>\n",
       "      <td>504.0</td>\n",
       "      <td>559.0</td>\n",
       "    </tr>\n",
       "    <tr>\n",
       "      <th>1</th>\n",
       "      <td>7000701601</td>\n",
       "      <td>109</td>\n",
       "      <td>0.0</td>\n",
       "      <td>0.0</td>\n",
       "      <td>0.0</td>\n",
       "      <td>6/30/2014</td>\n",
       "      <td>7/31/2014</td>\n",
       "      <td>8/31/2014</td>\n",
       "      <td>9/30/2014</td>\n",
       "      <td>1069.180</td>\n",
       "      <td>...</td>\n",
       "      <td>802</td>\n",
       "      <td>57.74</td>\n",
       "      <td>19.38</td>\n",
       "      <td>18.74</td>\n",
       "      <td>0.00</td>\n",
       "      <td>0.0</td>\n",
       "      <td>0.0</td>\n",
       "      <td>1580.0</td>\n",
       "      <td>790.0</td>\n",
       "      <td>1185.0</td>\n",
       "    </tr>\n",
       "    <tr>\n",
       "      <th>2</th>\n",
       "      <td>7001524846</td>\n",
       "      <td>109</td>\n",
       "      <td>0.0</td>\n",
       "      <td>0.0</td>\n",
       "      <td>0.0</td>\n",
       "      <td>6/30/2014</td>\n",
       "      <td>7/31/2014</td>\n",
       "      <td>8/31/2014</td>\n",
       "      <td>9/30/2014</td>\n",
       "      <td>378.721</td>\n",
       "      <td>...</td>\n",
       "      <td>315</td>\n",
       "      <td>21.03</td>\n",
       "      <td>910.65</td>\n",
       "      <td>122.16</td>\n",
       "      <td>0.00</td>\n",
       "      <td>0.0</td>\n",
       "      <td>354.0</td>\n",
       "      <td>437.0</td>\n",
       "      <td>955.0</td>\n",
       "      <td>696.0</td>\n",
       "    </tr>\n",
       "    <tr>\n",
       "      <th>3</th>\n",
       "      <td>7002124215</td>\n",
       "      <td>109</td>\n",
       "      <td>0.0</td>\n",
       "      <td>0.0</td>\n",
       "      <td>0.0</td>\n",
       "      <td>6/30/2014</td>\n",
       "      <td>7/31/2014</td>\n",
       "      <td>8/31/2014</td>\n",
       "      <td>9/30/2014</td>\n",
       "      <td>514.453</td>\n",
       "      <td>...</td>\n",
       "      <td>720</td>\n",
       "      <td>0.00</td>\n",
       "      <td>0.00</td>\n",
       "      <td>0.00</td>\n",
       "      <td>0.00</td>\n",
       "      <td>0.0</td>\n",
       "      <td>0.0</td>\n",
       "      <td>600.0</td>\n",
       "      <td>680.0</td>\n",
       "      <td>640.0</td>\n",
       "    </tr>\n",
       "    <tr>\n",
       "      <th>4</th>\n",
       "      <td>7000887461</td>\n",
       "      <td>109</td>\n",
       "      <td>0.0</td>\n",
       "      <td>0.0</td>\n",
       "      <td>0.0</td>\n",
       "      <td>6/30/2014</td>\n",
       "      <td>7/31/2014</td>\n",
       "      <td>8/31/2014</td>\n",
       "      <td>9/30/2014</td>\n",
       "      <td>74.350</td>\n",
       "      <td>...</td>\n",
       "      <td>604</td>\n",
       "      <td>40.45</td>\n",
       "      <td>51.86</td>\n",
       "      <td>0.00</td>\n",
       "      <td>0.00</td>\n",
       "      <td>0.0</td>\n",
       "      <td>712.0</td>\n",
       "      <td>0.0</td>\n",
       "      <td>1166.0</td>\n",
       "      <td>583.0</td>\n",
       "    </tr>\n",
       "  </tbody>\n",
       "</table>\n",
       "<p>5 rows × 227 columns</p>\n",
       "</div>"
      ],
      "text/plain": [
       "   mobile_number  circle_id  loc_og_t2o_mou  std_og_t2o_mou  loc_ic_t2o_mou  \\\n",
       "0     7000842753        109             0.0             0.0             0.0   \n",
       "1     7000701601        109             0.0             0.0             0.0   \n",
       "2     7001524846        109             0.0             0.0             0.0   \n",
       "3     7002124215        109             0.0             0.0             0.0   \n",
       "4     7000887461        109             0.0             0.0             0.0   \n",
       "\n",
       "  last_date_of_month_6 last_date_of_month_7 last_date_of_month_8  \\\n",
       "0            6/30/2014            7/31/2014            8/31/2014   \n",
       "1            6/30/2014            7/31/2014            8/31/2014   \n",
       "2            6/30/2014            7/31/2014            8/31/2014   \n",
       "3            6/30/2014            7/31/2014            8/31/2014   \n",
       "4            6/30/2014            7/31/2014            8/31/2014   \n",
       "\n",
       "  last_date_of_month_9    arpu_6  ...  aon  aug_vbc_3g  jul_vbc_3g  \\\n",
       "0            9/30/2014   197.385  ...  968       30.40        0.00   \n",
       "1            9/30/2014  1069.180  ...  802       57.74       19.38   \n",
       "2            9/30/2014   378.721  ...  315       21.03      910.65   \n",
       "3            9/30/2014   514.453  ...  720        0.00        0.00   \n",
       "4            9/30/2014    74.350  ...  604       40.45       51.86   \n",
       "\n",
       "   jun_vbc_3g  sep_vbc_3g  rech_data_6_total  rech_data_7_total  Total rech_6  \\\n",
       "0      101.20        3.58              252.0              252.0         614.0   \n",
       "1       18.74        0.00                0.0                0.0        1580.0   \n",
       "2      122.16        0.00                0.0              354.0         437.0   \n",
       "3        0.00        0.00                0.0                0.0         600.0   \n",
       "4        0.00        0.00                0.0              712.0           0.0   \n",
       "\n",
       "   Total rech_7  avg_amt_6_7  \n",
       "0         504.0        559.0  \n",
       "1         790.0       1185.0  \n",
       "2         955.0        696.0  \n",
       "3         680.0        640.0  \n",
       "4        1166.0        583.0  \n",
       "\n",
       "[5 rows x 227 columns]"
      ]
     },
     "execution_count": 21,
     "metadata": {},
     "output_type": "execute_result"
    }
   ],
   "source": [
    "hvc.head()"
   ]
  },
  {
   "cell_type": "markdown",
   "metadata": {
    "colab_type": "text",
    "id": "p5jarHk9dtUk"
   },
   "source": [
    "    ****finding columns with 0 variance and dropping them as they have not much significance to show any pattern********"
   ]
  },
  {
   "cell_type": "code",
   "execution_count": 22,
   "metadata": {
    "colab": {},
    "colab_type": "code",
    "id": "I_e2KAU-dtUl"
   },
   "outputs": [],
   "source": [
    "zero_var=hvc.var()==0\n"
   ]
  },
  {
   "cell_type": "code",
   "execution_count": 23,
   "metadata": {
    "colab": {
     "base_uri": "https://localhost:8080/",
     "height": 119
    },
    "colab_type": "code",
    "id": "RPz7EmrsdtUn",
    "outputId": "0a2d7ff8-e16e-45f6-866c-d34997bf8f4d"
   },
   "outputs": [
    {
     "name": "stdout",
     "output_type": "stream",
     "text": [
      "12\n",
      "Index(['circle_id', 'loc_og_t2o_mou', 'std_og_t2o_mou', 'loc_ic_t2o_mou',\n",
      "       'std_og_t2c_mou_6', 'std_og_t2c_mou_7', 'std_og_t2c_mou_8',\n",
      "       'std_og_t2c_mou_9', 'std_ic_t2o_mou_6', 'std_ic_t2o_mou_7',\n",
      "       'std_ic_t2o_mou_8', 'std_ic_t2o_mou_9'],\n",
      "      dtype='object')\n"
     ]
    }
   ],
   "source": [
    "print(zero_var.sum())\n",
    "zero_var1=zero_var[zero_var==1].index\n",
    "print(zero_var1)"
   ]
  },
  {
   "cell_type": "code",
   "execution_count": 24,
   "metadata": {
    "colab": {},
    "colab_type": "code",
    "id": "d5qv1wyrdtUq"
   },
   "outputs": [],
   "source": [
    "hvc.drop(zero_var1,axis=1,inplace=True)"
   ]
  },
  {
   "cell_type": "markdown",
   "metadata": {},
   "source": [
    "*****Deriving and adding the churn variable using features:\n",
    "total_ic_mou_9,total_ic_mou_9,vol_2g_mb_9,vol_3g_mb_9*****\n",
    "\n",
    "****where :\n",
    "        total_ic_mou_9+total_ic_mou_9+vol_2g_mb_9+vol_3g_mb_9==0-> 1 (churned)\n",
    "    else :\n",
    "        0: not churned"
   ]
  },
  {
   "cell_type": "code",
   "execution_count": 25,
   "metadata": {
    "colab": {},
    "colab_type": "code",
    "id": "YjFH_RoZdtU9"
   },
   "outputs": [],
   "source": [
    "import numpy as np\n",
    "hvc['churn']=np.where((hvc['total_ic_mou_9']+hvc['total_og_mou_9']+ hvc['vol_2g_mb_9']+hvc['vol_3g_mb_9']==0),1,0)\n",
    "\n",
    "#hvc['churn']=hvc.apply(lambda x: 1 if ((x.total_ic_mou_9==0) and x.total_og_mou_9==0 and x.vol_2g_mb_9==0 and x.vol_3g_mb_9'==0 else 0)"
   ]
  },
  {
   "cell_type": "code",
   "execution_count": 26,
   "metadata": {
    "colab": {
     "base_uri": "https://localhost:8080/",
     "height": 34
    },
    "colab_type": "code",
    "id": "7QQ9wxMGdtVE",
    "outputId": "ee27c273-ae62-48e6-f2cb-5675d43f9de1"
   },
   "outputs": [
    {
     "name": "stdout",
     "output_type": "stream",
     "text": [
      "Total Churned Customers:  2418\n"
     ]
    }
   ],
   "source": [
    "print(\"Total Churned Customers: \",hvc['churn'].sum())"
   ]
  },
  {
   "cell_type": "code",
   "execution_count": 27,
   "metadata": {
    "colab": {
     "base_uri": "https://localhost:8080/",
     "height": 34
    },
    "colab_type": "code",
    "id": "D5W5Z6DcdtVV",
    "outputId": "76ffef72-5f26-4328-aaea-e6f115841540"
   },
   "outputs": [
    {
     "name": "stdout",
     "output_type": "stream",
     "text": [
      "Total % of Churned Customers:  8.09\n"
     ]
    }
   ],
   "source": [
    "print(\"Total % of Churned Customers: \" ,round(100* hvc['churn'].sum()/len(hvc),2)) # churn %"
   ]
  },
  {
   "cell_type": "markdown",
   "metadata": {},
   "source": [
    "******We need to drop the above list of last month columns entirely.********"
   ]
  },
  {
   "cell_type": "code",
   "execution_count": 28,
   "metadata": {
    "colab": {},
    "colab_type": "code",
    "id": "NrmR5-MQdtVh"
   },
   "outputs": [],
   "source": [
    "col_9List = hvc.filter(regex=('_9')).columns"
   ]
  },
  {
   "cell_type": "code",
   "execution_count": 29,
   "metadata": {
    "colab": {},
    "colab_type": "code",
    "id": "a5wIyLs6dtVm"
   },
   "outputs": [],
   "source": [
    "hvc.drop(col_9List, axis=1, inplace=True)"
   ]
  },
  {
   "cell_type": "code",
   "execution_count": 30,
   "metadata": {
    "colab": {
     "base_uri": "https://localhost:8080/",
     "height": 34
    },
    "colab_type": "code",
    "id": "2nX005tfdtVr",
    "outputId": "0b5ef639-830a-494e-da40-483fde0baace"
   },
   "outputs": [
    {
     "data": {
      "text/plain": [
       "(29906, 165)"
      ]
     },
     "execution_count": 30,
     "metadata": {},
     "output_type": "execute_result"
    }
   ],
   "source": [
    "hvc.shape"
   ]
  },
  {
   "cell_type": "markdown",
   "metadata": {},
   "source": [
    "****Dropping some more columns*****"
   ]
  },
  {
   "cell_type": "code",
   "execution_count": 31,
   "metadata": {},
   "outputs": [],
   "source": [
    "hvc.drop(['mobile_number'], axis=1, inplace = True)"
   ]
  },
  {
   "cell_type": "code",
   "execution_count": 32,
   "metadata": {},
   "outputs": [],
   "source": [
    "hvc.drop(['last_date_of_month_6','last_date_of_month_7','last_date_of_month_8'],axis=1,inplace=True)"
   ]
  },
  {
   "cell_type": "code",
   "execution_count": 33,
   "metadata": {},
   "outputs": [],
   "source": [
    "hvc.drop(['date_of_last_rech_6', 'date_of_last_rech_7', 'date_of_last_rech_8'],axis=1, inplace=True)"
   ]
  },
  {
   "cell_type": "code",
   "execution_count": 34,
   "metadata": {
    "colab": {
     "base_uri": "https://localhost:8080/",
     "height": 270
    },
    "colab_type": "code",
    "id": "CSN6B2zEdtV_",
    "outputId": "9d4b1617-b35b-42b8-d0df-975b30397ad3"
   },
   "outputs": [
    {
     "data": {
      "text/html": [
       "<div>\n",
       "<style scoped>\n",
       "    .dataframe tbody tr th:only-of-type {\n",
       "        vertical-align: middle;\n",
       "    }\n",
       "\n",
       "    .dataframe tbody tr th {\n",
       "        vertical-align: top;\n",
       "    }\n",
       "\n",
       "    .dataframe thead th {\n",
       "        text-align: right;\n",
       "    }\n",
       "</style>\n",
       "<table border=\"1\" class=\"dataframe\">\n",
       "  <thead>\n",
       "    <tr style=\"text-align: right;\">\n",
       "      <th></th>\n",
       "      <th>arpu_6</th>\n",
       "      <th>arpu_7</th>\n",
       "      <th>arpu_8</th>\n",
       "      <th>onnet_mou_6</th>\n",
       "      <th>onnet_mou_7</th>\n",
       "      <th>onnet_mou_8</th>\n",
       "      <th>offnet_mou_6</th>\n",
       "      <th>offnet_mou_7</th>\n",
       "      <th>offnet_mou_8</th>\n",
       "      <th>roam_ic_mou_6</th>\n",
       "      <th>...</th>\n",
       "      <th>aug_vbc_3g</th>\n",
       "      <th>jul_vbc_3g</th>\n",
       "      <th>jun_vbc_3g</th>\n",
       "      <th>sep_vbc_3g</th>\n",
       "      <th>rech_data_6_total</th>\n",
       "      <th>rech_data_7_total</th>\n",
       "      <th>Total rech_6</th>\n",
       "      <th>Total rech_7</th>\n",
       "      <th>avg_amt_6_7</th>\n",
       "      <th>churn</th>\n",
       "    </tr>\n",
       "  </thead>\n",
       "  <tbody>\n",
       "    <tr>\n",
       "      <th>0</th>\n",
       "      <td>197.385</td>\n",
       "      <td>214.816</td>\n",
       "      <td>213.803</td>\n",
       "      <td>NaN</td>\n",
       "      <td>NaN</td>\n",
       "      <td>0.00</td>\n",
       "      <td>NaN</td>\n",
       "      <td>NaN</td>\n",
       "      <td>0.00</td>\n",
       "      <td>NaN</td>\n",
       "      <td>...</td>\n",
       "      <td>30.40</td>\n",
       "      <td>0.00</td>\n",
       "      <td>101.20</td>\n",
       "      <td>3.58</td>\n",
       "      <td>252.0</td>\n",
       "      <td>252.0</td>\n",
       "      <td>614.0</td>\n",
       "      <td>504.0</td>\n",
       "      <td>559.0</td>\n",
       "      <td>1</td>\n",
       "    </tr>\n",
       "    <tr>\n",
       "      <th>1</th>\n",
       "      <td>1069.180</td>\n",
       "      <td>1349.850</td>\n",
       "      <td>3171.480</td>\n",
       "      <td>57.84</td>\n",
       "      <td>54.68</td>\n",
       "      <td>52.29</td>\n",
       "      <td>453.43</td>\n",
       "      <td>567.16</td>\n",
       "      <td>325.91</td>\n",
       "      <td>16.23</td>\n",
       "      <td>...</td>\n",
       "      <td>57.74</td>\n",
       "      <td>19.38</td>\n",
       "      <td>18.74</td>\n",
       "      <td>0.00</td>\n",
       "      <td>0.0</td>\n",
       "      <td>0.0</td>\n",
       "      <td>1580.0</td>\n",
       "      <td>790.0</td>\n",
       "      <td>1185.0</td>\n",
       "      <td>1</td>\n",
       "    </tr>\n",
       "    <tr>\n",
       "      <th>2</th>\n",
       "      <td>378.721</td>\n",
       "      <td>492.223</td>\n",
       "      <td>137.362</td>\n",
       "      <td>413.69</td>\n",
       "      <td>351.03</td>\n",
       "      <td>35.08</td>\n",
       "      <td>94.66</td>\n",
       "      <td>80.63</td>\n",
       "      <td>136.48</td>\n",
       "      <td>0.00</td>\n",
       "      <td>...</td>\n",
       "      <td>21.03</td>\n",
       "      <td>910.65</td>\n",
       "      <td>122.16</td>\n",
       "      <td>0.00</td>\n",
       "      <td>0.0</td>\n",
       "      <td>354.0</td>\n",
       "      <td>437.0</td>\n",
       "      <td>955.0</td>\n",
       "      <td>696.0</td>\n",
       "      <td>0</td>\n",
       "    </tr>\n",
       "    <tr>\n",
       "      <th>3</th>\n",
       "      <td>514.453</td>\n",
       "      <td>597.753</td>\n",
       "      <td>637.760</td>\n",
       "      <td>102.41</td>\n",
       "      <td>132.11</td>\n",
       "      <td>85.14</td>\n",
       "      <td>757.93</td>\n",
       "      <td>896.68</td>\n",
       "      <td>983.39</td>\n",
       "      <td>0.00</td>\n",
       "      <td>...</td>\n",
       "      <td>0.00</td>\n",
       "      <td>0.00</td>\n",
       "      <td>0.00</td>\n",
       "      <td>0.00</td>\n",
       "      <td>0.0</td>\n",
       "      <td>0.0</td>\n",
       "      <td>600.0</td>\n",
       "      <td>680.0</td>\n",
       "      <td>640.0</td>\n",
       "      <td>0</td>\n",
       "    </tr>\n",
       "    <tr>\n",
       "      <th>4</th>\n",
       "      <td>74.350</td>\n",
       "      <td>193.897</td>\n",
       "      <td>366.966</td>\n",
       "      <td>48.96</td>\n",
       "      <td>50.66</td>\n",
       "      <td>33.58</td>\n",
       "      <td>85.41</td>\n",
       "      <td>89.36</td>\n",
       "      <td>205.89</td>\n",
       "      <td>0.00</td>\n",
       "      <td>...</td>\n",
       "      <td>40.45</td>\n",
       "      <td>51.86</td>\n",
       "      <td>0.00</td>\n",
       "      <td>0.00</td>\n",
       "      <td>0.0</td>\n",
       "      <td>712.0</td>\n",
       "      <td>0.0</td>\n",
       "      <td>1166.0</td>\n",
       "      <td>583.0</td>\n",
       "      <td>0</td>\n",
       "    </tr>\n",
       "  </tbody>\n",
       "</table>\n",
       "<p>5 rows × 158 columns</p>\n",
       "</div>"
      ],
      "text/plain": [
       "     arpu_6    arpu_7    arpu_8  onnet_mou_6  onnet_mou_7  onnet_mou_8  \\\n",
       "0   197.385   214.816   213.803          NaN          NaN         0.00   \n",
       "1  1069.180  1349.850  3171.480        57.84        54.68        52.29   \n",
       "2   378.721   492.223   137.362       413.69       351.03        35.08   \n",
       "3   514.453   597.753   637.760       102.41       132.11        85.14   \n",
       "4    74.350   193.897   366.966        48.96        50.66        33.58   \n",
       "\n",
       "   offnet_mou_6  offnet_mou_7  offnet_mou_8  roam_ic_mou_6  ...  aug_vbc_3g  \\\n",
       "0           NaN           NaN          0.00            NaN  ...       30.40   \n",
       "1        453.43        567.16        325.91          16.23  ...       57.74   \n",
       "2         94.66         80.63        136.48           0.00  ...       21.03   \n",
       "3        757.93        896.68        983.39           0.00  ...        0.00   \n",
       "4         85.41         89.36        205.89           0.00  ...       40.45   \n",
       "\n",
       "   jul_vbc_3g  jun_vbc_3g  sep_vbc_3g  rech_data_6_total  rech_data_7_total  \\\n",
       "0        0.00      101.20        3.58              252.0              252.0   \n",
       "1       19.38       18.74        0.00                0.0                0.0   \n",
       "2      910.65      122.16        0.00                0.0              354.0   \n",
       "3        0.00        0.00        0.00                0.0                0.0   \n",
       "4       51.86        0.00        0.00                0.0              712.0   \n",
       "\n",
       "   Total rech_6  Total rech_7  avg_amt_6_7  churn  \n",
       "0         614.0         504.0        559.0      1  \n",
       "1        1580.0         790.0       1185.0      1  \n",
       "2         437.0         955.0        696.0      0  \n",
       "3         600.0         680.0        640.0      0  \n",
       "4           0.0        1166.0        583.0      0  \n",
       "\n",
       "[5 rows x 158 columns]"
      ]
     },
     "execution_count": 34,
     "metadata": {},
     "output_type": "execute_result"
    }
   ],
   "source": [
    "hvc.head()"
   ]
  },
  {
   "cell_type": "code",
   "execution_count": 35,
   "metadata": {
    "colab": {},
    "colab_type": "code",
    "id": "EHwlHV4OdtWX"
   },
   "outputs": [
    {
     "name": "stderr",
     "output_type": "stream",
     "text": [
      "Using TensorFlow backend.\n"
     ]
    }
   ],
   "source": [
    "\n",
    "from fancyimpute import IterativeImputer"
   ]
  },
  {
   "cell_type": "code",
   "execution_count": 36,
   "metadata": {
    "colab": {
     "base_uri": "https://localhost:8080/",
     "height": 34
    },
    "colab_type": "code",
    "id": "EYedChalTRQj",
    "outputId": "70f9855d-cb6f-4437-e21c-64b4d57e9470"
   },
   "outputs": [
    {
     "data": {
      "text/plain": [
       "27"
      ]
     },
     "execution_count": 36,
     "metadata": {},
     "output_type": "execute_result"
    }
   ],
   "source": [
    "missing=round(100*hvc.isnull().sum()/len(hvc),2)\n",
    "miss=missing.loc[missing>3]\n",
    "miss=list(miss.index) \n",
    "len(miss)"
   ]
  },
  {
   "cell_type": "markdown",
   "metadata": {},
   "source": [
    "****Using Iterative Imputer to impute columns with more than 3% missing values********\n",
    "    Note- Iterative Imputer used only for a chunk of columns as it was making the system very slow and it was done in parts due to performance issues"
   ]
  },
  {
   "cell_type": "code",
   "execution_count": 37,
   "metadata": {
    "colab": {},
    "colab_type": "code",
    "id": "uMzlL50oY9uq"
   },
   "outputs": [],
   "source": [
    "temp=hvc[['total_rech_num_6', 'total_rech_num_7', 'total_rech_num_8']]"
   ]
  },
  {
   "cell_type": "code",
   "execution_count": 38,
   "metadata": {
    "colab": {},
    "colab_type": "code",
    "id": "6UTQyIKJdtWt"
   },
   "outputs": [],
   "source": [
    "\n",
    "df_columns = temp.columns\n",
    "ii = IterativeImputer()\n",
    "dftemp= pd.DataFrame(ii.fit_transform(temp))\n",
    "dftemp.columns=df_columns\n",
    "hvc[['total_rech_num_6', 'total_rech_num_7', 'total_rech_num_8']]=dftemp[['total_rech_num_6', 'total_rech_num_7', 'total_rech_num_8']]"
   ]
  },
  {
   "cell_type": "code",
   "execution_count": 39,
   "metadata": {
    "colab": {
     "base_uri": "https://localhost:8080/",
     "height": 71
    },
    "colab_type": "code",
    "id": "Kx7hrvfea5aF",
    "outputId": "65dc88d7-2396-4de0-95dc-f76669942c9d"
   },
   "outputs": [
    {
     "name": "stdout",
     "output_type": "stream",
     "text": [
      "['onnet_mou_8', 'offnet_mou_8', 'roam_ic_mou_8', 'roam_og_mou_8', 'loc_og_t2t_mou_8', 'loc_og_t2m_mou_8', 'loc_og_t2f_mou_8', 'loc_og_t2c_mou_8', 'loc_og_mou_8', 'std_og_t2t_mou_8', 'std_og_t2m_mou_8', 'std_og_t2f_mou_8', 'std_og_mou_8', 'isd_og_mou_8', 'spl_og_mou_8', 'og_others_8', 'loc_ic_t2t_mou_8', 'loc_ic_t2m_mou_8', 'loc_ic_t2f_mou_8', 'loc_ic_mou_8', 'std_ic_t2t_mou_8', 'std_ic_t2m_mou_8', 'std_ic_t2f_mou_8', 'std_ic_mou_8', 'spl_ic_mou_8', 'isd_ic_mou_8', 'ic_others_8']\n"
     ]
    },
    {
     "data": {
      "text/plain": [
       "(29906, 158)"
      ]
     },
     "execution_count": 39,
     "metadata": {},
     "output_type": "execute_result"
    }
   ],
   "source": [
    "#for i in list(df_clean.columns):\n",
    " # hvc[i]=df_clean[i]\n",
    "missing=round(100*hvc.isnull().sum()/len(hvc),2)\n",
    "miss=missing.loc[missing>3]\n",
    "miss=list(miss.index) \n",
    "len(miss)\n",
    "print(miss)\n",
    "hvc.shape"
   ]
  },
  {
   "cell_type": "markdown",
   "metadata": {},
   "source": [
    "****Iterative Imputation for more columns***"
   ]
  },
  {
   "cell_type": "code",
   "execution_count": 40,
   "metadata": {
    "colab": {
     "base_uri": "https://localhost:8080/",
     "height": 1000
    },
    "colab_type": "code",
    "id": "otVOiVZ6iJno",
    "outputId": "9e2f93e5-e268-48d4-b309-0f58b35c1870"
   },
   "outputs": [],
   "source": [
    "temp2=hvc[['onnet_mou_8', 'offnet_mou_8', 'roam_ic_mou_8', 'roam_og_mou_8', 'loc_og_t2t_mou_8',\n",
    "           'loc_og_t2m_mou_8', 'loc_og_t2f_mou_8', 'loc_og_t2c_mou_8', 'loc_og_mou_8', 'std_og_t2t_mou_8', \n",
    "           'std_og_t2m_mou_8', 'std_og_t2f_mou_8', 'std_og_mou_8', 'isd_og_mou_8', 'spl_og_mou_8', 'og_others_8', \n",
    "           'loc_ic_t2t_mou_8', 'loc_ic_t2m_mou_8', 'loc_ic_t2f_mou_8', 'loc_ic_mou_8', 'std_ic_t2t_mou_8', \n",
    "           'std_ic_t2m_mou_8', 'std_ic_t2f_mou_8', 'std_ic_mou_8', 'spl_ic_mou_8', 'isd_ic_mou_8', 'ic_others_8']]\n",
    "df_columns = temp2.columns    \n",
    "ii = IterativeImputer()\n",
    "dftemp2= pd.DataFrame(ii.fit_transform(temp2))\n",
    "dftemp2.columns=df_columns  \n",
    "hvc[['onnet_mou_8', 'offnet_mou_8', 'roam_ic_mou_8', 'roam_og_mou_8', 'loc_og_t2t_mou_8',\n",
    "           'loc_og_t2m_mou_8', 'loc_og_t2f_mou_8', 'loc_og_t2c_mou_8', 'loc_og_mou_8', 'std_og_t2t_mou_8', \n",
    "           'std_og_t2m_mou_8', 'std_og_t2f_mou_8', 'std_og_mou_8', 'isd_og_mou_8', 'spl_og_mou_8', 'og_others_8', \n",
    "           'loc_ic_t2t_mou_8', 'loc_ic_t2m_mou_8', 'loc_ic_t2f_mou_8', 'loc_ic_mou_8', 'std_ic_t2t_mou_8', \n",
    "           'std_ic_t2m_mou_8', 'std_ic_t2f_mou_8', 'std_ic_mou_8', 'spl_ic_mou_8', 'isd_ic_mou_8', 'ic_others_8']]=dftemp2[['onnet_mou_8', 'offnet_mou_8', 'roam_ic_mou_8', 'roam_og_mou_8', 'loc_og_t2t_mou_8',\n",
    "           'loc_og_t2m_mou_8', 'loc_og_t2f_mou_8', 'loc_og_t2c_mou_8', 'loc_og_mou_8', 'std_og_t2t_mou_8', \n",
    "           'std_og_t2m_mou_8', 'std_og_t2f_mou_8', 'std_og_mou_8', 'isd_og_mou_8', 'spl_og_mou_8', 'og_others_8', \n",
    "           'loc_ic_t2t_mou_8', 'loc_ic_t2m_mou_8', 'loc_ic_t2f_mou_8', 'loc_ic_mou_8', 'std_ic_t2t_mou_8', \n",
    "           'std_ic_t2m_mou_8', 'std_ic_t2f_mou_8', 'std_ic_mou_8', 'spl_ic_mou_8', 'isd_ic_mou_8', 'ic_others_8']]\n"
   ]
  },
  {
   "cell_type": "code",
   "execution_count": 41,
   "metadata": {
    "colab": {
     "base_uri": "https://localhost:8080/",
     "height": 34
    },
    "colab_type": "code",
    "id": "GgZ59wfwdtWx",
    "outputId": "d63d307a-ca2c-44e2-8398-3f3299e2d35c"
   },
   "outputs": [
    {
     "name": "stdout",
     "output_type": "stream",
     "text": [
      "Columns with more than 2-3 % missing Values:  0\n"
     ]
    }
   ],
   "source": [
    "\n",
    "missing=round(100*hvc.isnull().sum()/len(hvc),2)\n",
    "miss=missing.loc[missing>2]\n",
    "print(\"Columns with more than 2-3 % missing Values: \",len(miss))"
   ]
  },
  {
   "cell_type": "code",
   "execution_count": 42,
   "metadata": {
    "colab": {
     "base_uri": "https://localhost:8080/",
     "height": 34
    },
    "colab_type": "code",
    "id": "Si0ox_SblEpx",
    "outputId": "ff51d70c-de53-443b-cf81-23556b19813a"
   },
   "outputs": [
    {
     "data": {
      "text/plain": [
       "(29906, 158)"
      ]
     },
     "execution_count": 42,
     "metadata": {},
     "output_type": "execute_result"
    }
   ],
   "source": [
    "hvc.shape"
   ]
  },
  {
   "cell_type": "code",
   "execution_count": null,
   "metadata": {},
   "outputs": [],
   "source": []
  },
  {
   "cell_type": "code",
   "execution_count": 43,
   "metadata": {
    "colab": {
     "base_uri": "https://localhost:8080/",
     "height": 34
    },
    "colab_type": "code",
    "id": "zPOnAGSjlJmn",
    "outputId": "3e5ef999-4e86-475b-fa1d-183156869db1"
   },
   "outputs": [
    {
     "name": "stdout",
     "output_type": "stream",
     "text": [
      "Remaining columns with missing values i.e more than 0% and less than 3%) :  54\n"
     ]
    }
   ],
   "source": [
    "missing=round(100*hvc.isnull().sum()/len(hvc),2)\n",
    "miss=missing.loc[missing>0]\n",
    "print(\"Remaining columns with missing values i.e more than 0% and less than 3%) : \",len(miss))\n"
   ]
  },
  {
   "cell_type": "code",
   "execution_count": 44,
   "metadata": {
    "colab": {},
    "colab_type": "code",
    "id": "dsYTXlZkKahR"
   },
   "outputs": [],
   "source": [
    "hvc_clean=hvc"
   ]
  },
  {
   "cell_type": "markdown",
   "metadata": {},
   "source": [
    "*****Using median Technique to impute remaining columns with missing values (less than 3%)****"
   ]
  },
  {
   "cell_type": "code",
   "execution_count": 45,
   "metadata": {
    "colab": {
     "base_uri": "https://localhost:8080/",
     "height": 34
    },
    "colab_type": "code",
    "id": "OE3y2vTAsv7O",
    "outputId": "29519500-163e-4203-db9b-52c32e5c4916"
   },
   "outputs": [
    {
     "name": "stdout",
     "output_type": "stream",
     "text": [
      "Missing values columns :  0\n"
     ]
    }
   ],
   "source": [
    "hvc_clean=hvc.fillna(hvc.mean())\n",
    "missing=round(100*hvc_clean.isnull().sum()/len(hvc_clean),2)\n",
    "miss=missing.loc[missing>0]\n",
    "print(\"Missing values columns : \" , len(miss))"
   ]
  },
  {
   "cell_type": "code",
   "execution_count": 46,
   "metadata": {
    "colab": {
     "base_uri": "https://localhost:8080/",
     "height": 34
    },
    "colab_type": "code",
    "id": "uXt3DFawdtW7",
    "outputId": "ded98c14-3813-45a2-9ecb-d4479bd725b2"
   },
   "outputs": [
    {
     "data": {
      "text/plain": [
       "(29906, 158)"
      ]
     },
     "execution_count": 46,
     "metadata": {},
     "output_type": "execute_result"
    }
   ],
   "source": [
    "hvc_clean.shape"
   ]
  },
  {
   "cell_type": "markdown",
   "metadata": {
    "colab_type": "text",
    "id": "HrJvghYn8-z9"
   },
   "source": [
    "Looking at the problem statement, attributes total_ic_mou_9, total_og_mou_9, vol_2g_mb_9 and vol_3g_mb_9 are used to tag churners. So, it is clearly evident from the problem statement that the individual incoming and outgoing attributes are not used for data analysis. Dropping the individual columns (whose totals are already available like incoming, outgoing, arpu, etc) can help us in better analysis. Also, dropping these individual columns will help in removing the multicollinearity."
   ]
  },
  {
   "cell_type": "code",
   "execution_count": 47,
   "metadata": {
    "colab": {},
    "colab_type": "code",
    "id": "taXEdlCe9LQY"
   },
   "outputs": [],
   "source": [
    "individual_cols = ['loc_ic_t2t_mou_6', 'loc_ic_t2t_mou_7', 'loc_ic_t2t_mou_8',\n",
    "                   'loc_ic_t2m_mou_6', 'loc_ic_t2m_mou_7', 'loc_ic_t2m_mou_8',\n",
    "                   'loc_ic_t2f_mou_6', 'loc_ic_t2f_mou_7', 'loc_ic_t2f_mou_8',\n",
    "                   'std_ic_t2t_mou_6', 'std_ic_t2t_mou_7', 'std_ic_t2t_mou_8',\n",
    "                   'std_ic_t2m_mou_6', 'std_ic_t2m_mou_7', 'std_ic_t2m_mou_8',\n",
    "                   'std_ic_t2f_mou_6', 'std_ic_t2f_mou_7', 'std_ic_t2f_mou_8',\n",
    "                   'loc_og_t2t_mou_6', 'loc_og_t2t_mou_7', 'loc_og_t2t_mou_8',\n",
    "                   'loc_og_t2m_mou_6', 'loc_og_t2m_mou_7', 'loc_og_t2m_mou_8',\n",
    "                   'loc_og_t2f_mou_6', 'loc_og_t2f_mou_7', 'loc_og_t2f_mou_8',\n",
    "                   'loc_og_t2c_mou_6', 'loc_og_t2c_mou_7', 'loc_og_t2c_mou_8',\n",
    "                   'std_og_t2t_mou_6', 'std_og_t2t_mou_7', 'std_og_t2t_mou_8',\n",
    "                   'std_og_t2m_mou_6', 'std_og_t2m_mou_7', 'std_og_t2m_mou_8',\n",
    "                   'std_og_t2f_mou_6', 'std_og_t2f_mou_7', 'std_og_t2f_mou_8',\n",
    "                   'last_day_rch_amt_6', 'last_day_rch_amt_7', 'last_day_rch_amt_8',\n",
    "                   'arpu_3g_6', 'arpu_3g_7', 'arpu_3g_8',\n",
    "                   'arpu_2g_6', 'arpu_2g_7', 'arpu_2g_8',\n",
    "                   'av_rech_amt_data_6', 'av_rech_amt_data_7', 'av_rech_amt_data_8']\n",
    "                   \n",
    "hvc_clean.drop(individual_cols, axis=1, inplace=True)"
   ]
  },
  {
   "cell_type": "code",
   "execution_count": 652,
   "metadata": {
    "colab": {
     "base_uri": "https://localhost:8080/",
     "height": 34
    },
    "colab_type": "code",
    "id": "SGrEd-C89bZ7",
    "outputId": "f18c0b72-bfe3-4013-ffa2-42ade9688a57"
   },
   "outputs": [
    {
     "data": {
      "text/plain": [
       "(29906, 107)"
      ]
     },
     "execution_count": 652,
     "metadata": {},
     "output_type": "execute_result"
    }
   ],
   "source": [
    "hvc_clean.shape"
   ]
  },
  {
   "cell_type": "markdown",
   "metadata": {
    "colab_type": "text",
    "id": "ZxHID5UW95p0"
   },
   "source": [
    "Variables night_pck_user_6, night_pck_user_7, night_pck_user_8, fb_user_6, fb_user_7 and fb_user_8 are encoded with number 0 and 1. These variables can be considered as Ordered Categorical columns.\n",
    "Also, the datatype of these variables can be converted to integer.Also"
   ]
  },
  {
   "cell_type": "code",
   "execution_count": 48,
   "metadata": {
    "colab": {},
    "colab_type": "code",
    "id": "sHH3DvwAIC9I"
   },
   "outputs": [],
   "source": [
    "hvc_final=hvc_clean"
   ]
  },
  {
   "cell_type": "code",
   "execution_count": 50,
   "metadata": {
    "colab": {
     "base_uri": "https://localhost:8080/",
     "height": 238
    },
    "colab_type": "code",
    "id": "QmtEl5TP9YJO",
    "outputId": "9fcd9480-93da-4495-8816-581b4e47c75f"
   },
   "outputs": [],
   "source": [
    "category_list = ['night_pck_user_6', 'night_pck_user_7', 'night_pck_user_8', 'fb_user_6', 'fb_user_7', 'fb_user_8']\n",
    "\n",
    "hvc_clean[category_list] = hvc_clean[category_list].astype(int)\n"
   ]
  },
  {
   "cell_type": "code",
   "execution_count": 51,
   "metadata": {},
   "outputs": [
    {
     "ename": "NameError",
     "evalue": "name 'plt' is not defined",
     "output_type": "error",
     "traceback": [
      "\u001b[0;31m---------------------------------------------------------------------------\u001b[0m",
      "\u001b[0;31mNameError\u001b[0m                                 Traceback (most recent call last)",
      "\u001b[0;32m<ipython-input-51-d1334a297fb7>\u001b[0m in \u001b[0;36m<module>\u001b[0;34m\u001b[0m\n\u001b[0;32m----> 1\u001b[0;31m \u001b[0mplt\u001b[0m\u001b[0;34m.\u001b[0m\u001b[0mfigure\u001b[0m\u001b[0;34m(\u001b[0m\u001b[0mfigsize\u001b[0m\u001b[0;34m=\u001b[0m\u001b[0;34m(\u001b[0m\u001b[0;36m20\u001b[0m\u001b[0;34m,\u001b[0m \u001b[0;36m5\u001b[0m\u001b[0;34m)\u001b[0m\u001b[0;34m)\u001b[0m\u001b[0;34m\u001b[0m\u001b[0;34m\u001b[0m\u001b[0m\n\u001b[0m\u001b[1;32m      2\u001b[0m \u001b[0;34m\u001b[0m\u001b[0m\n\u001b[1;32m      3\u001b[0m \u001b[0;34m\u001b[0m\u001b[0m\n\u001b[1;32m      4\u001b[0m \u001b[0mvar\u001b[0m \u001b[0;34m=\u001b[0m \u001b[0;34m[\u001b[0m\u001b[0;34m'max_rech_data_6'\u001b[0m\u001b[0;34m,\u001b[0m \u001b[0;34m'max_rech_data_7'\u001b[0m\u001b[0;34m,\u001b[0m\u001b[0;34m'max_rech_data_8'\u001b[0m\u001b[0;34m]\u001b[0m\u001b[0;34m\u001b[0m\u001b[0;34m\u001b[0m\u001b[0m\n\u001b[1;32m      5\u001b[0m \u001b[0;34m\u001b[0m\u001b[0m\n",
      "\u001b[0;31mNameError\u001b[0m: name 'plt' is not defined"
     ]
    }
   ],
   "source": [
    "plt.figure(figsize=(20, 5))\n",
    "\n",
    "\n",
    "var = ['max_rech_data_6', 'max_rech_data_7','max_rech_data_8']\n",
    "           \n",
    "for i in enumerate(var[0:3]):\n",
    "    plt.subplot(1,3,i[0]+1)\n",
    "    sns.boxplot(x = i[1], data = hvc_clean)\n",
    "    plt.title(i[1])\n",
    "\n",
    "    'roam_og_mou_8'"
   ]
  },
  {
   "cell_type": "code",
   "execution_count": 784,
   "metadata": {},
   "outputs": [
    {
     "data": {
      "image/png": "[encoded data removed]",
      "text/plain": [
       "<Figure size 1440x360 with 3 Axes>"
      ]
     },
     "metadata": {
      "needs_background": "light"
     },
     "output_type": "display_data"
    }
   ],
   "source": [
    "plt.figure(figsize=(20, 5))\n",
    "\n",
    "\n",
    "var = ['roam_og_mou_6',  'roam_og_mou_7', 'roam_og_mou_8']\n",
    "           \n",
    "for i in enumerate(var[0:3]):\n",
    "    plt.subplot(1,3,i[0]+1)\n",
    "    sns.boxplot(x = i[1], data = hvc_clean)\n",
    "    plt.title(i[1])\n",
    "\n",
    "   "
   ]
  },
  {
   "cell_type": "code",
   "execution_count": 52,
   "metadata": {},
   "outputs": [
    {
     "data": {
      "text/html": [
       "<div>\n",
       "<style scoped>\n",
       "    .dataframe tbody tr th:only-of-type {\n",
       "        vertical-align: middle;\n",
       "    }\n",
       "\n",
       "    .dataframe tbody tr th {\n",
       "        vertical-align: top;\n",
       "    }\n",
       "\n",
       "    .dataframe thead th {\n",
       "        text-align: right;\n",
       "    }\n",
       "</style>\n",
       "<table border=\"1\" class=\"dataframe\">\n",
       "  <thead>\n",
       "    <tr style=\"text-align: right;\">\n",
       "      <th></th>\n",
       "      <th>roam_og_mou_6</th>\n",
       "      <th>roam_og_mou_7</th>\n",
       "      <th>roam_og_mou_8</th>\n",
       "    </tr>\n",
       "  </thead>\n",
       "  <tbody>\n",
       "    <tr>\n",
       "      <th>count</th>\n",
       "      <td>29906.000000</td>\n",
       "      <td>29906.000000</td>\n",
       "      <td>29906.000000</td>\n",
       "    </tr>\n",
       "    <tr>\n",
       "      <th>mean</th>\n",
       "      <td>27.105763</td>\n",
       "      <td>20.545711</td>\n",
       "      <td>20.721445</td>\n",
       "    </tr>\n",
       "    <tr>\n",
       "      <th>std</th>\n",
       "      <td>116.299660</td>\n",
       "      <td>96.168645</td>\n",
       "      <td>104.802679</td>\n",
       "    </tr>\n",
       "    <tr>\n",
       "      <th>min</th>\n",
       "      <td>0.000000</td>\n",
       "      <td>0.000000</td>\n",
       "      <td>0.000000</td>\n",
       "    </tr>\n",
       "    <tr>\n",
       "      <th>5%</th>\n",
       "      <td>0.000000</td>\n",
       "      <td>0.000000</td>\n",
       "      <td>0.000000</td>\n",
       "    </tr>\n",
       "    <tr>\n",
       "      <th>10%</th>\n",
       "      <td>0.000000</td>\n",
       "      <td>0.000000</td>\n",
       "      <td>0.000000</td>\n",
       "    </tr>\n",
       "    <tr>\n",
       "      <th>25%</th>\n",
       "      <td>0.000000</td>\n",
       "      <td>0.000000</td>\n",
       "      <td>0.000000</td>\n",
       "    </tr>\n",
       "    <tr>\n",
       "      <th>50%</th>\n",
       "      <td>0.000000</td>\n",
       "      <td>0.000000</td>\n",
       "      <td>0.000000</td>\n",
       "    </tr>\n",
       "    <tr>\n",
       "      <th>75%</th>\n",
       "      <td>0.000000</td>\n",
       "      <td>0.000000</td>\n",
       "      <td>0.000000</td>\n",
       "    </tr>\n",
       "    <tr>\n",
       "      <th>90%</th>\n",
       "      <td>50.510000</td>\n",
       "      <td>31.180000</td>\n",
       "      <td>29.025000</td>\n",
       "    </tr>\n",
       "    <tr>\n",
       "      <th>95%</th>\n",
       "      <td>145.632500</td>\n",
       "      <td>104.470000</td>\n",
       "      <td>101.117500</td>\n",
       "    </tr>\n",
       "    <tr>\n",
       "      <th>99%</th>\n",
       "      <td>531.973500</td>\n",
       "      <td>438.512500</td>\n",
       "      <td>427.106000</td>\n",
       "    </tr>\n",
       "    <tr>\n",
       "      <th>max</th>\n",
       "      <td>3775.110000</td>\n",
       "      <td>2812.040000</td>\n",
       "      <td>5337.040000</td>\n",
       "    </tr>\n",
       "  </tbody>\n",
       "</table>\n",
       "</div>"
      ],
      "text/plain": [
       "       roam_og_mou_6  roam_og_mou_7  roam_og_mou_8\n",
       "count   29906.000000   29906.000000   29906.000000\n",
       "mean       27.105763      20.545711      20.721445\n",
       "std       116.299660      96.168645     104.802679\n",
       "min         0.000000       0.000000       0.000000\n",
       "5%          0.000000       0.000000       0.000000\n",
       "10%         0.000000       0.000000       0.000000\n",
       "25%         0.000000       0.000000       0.000000\n",
       "50%         0.000000       0.000000       0.000000\n",
       "75%         0.000000       0.000000       0.000000\n",
       "90%        50.510000      31.180000      29.025000\n",
       "95%       145.632500     104.470000     101.117500\n",
       "99%       531.973500     438.512500     427.106000\n",
       "max      3775.110000    2812.040000    5337.040000"
      ]
     },
     "execution_count": 52,
     "metadata": {},
     "output_type": "execute_result"
    }
   ],
   "source": [
    "hvc_clean[['roam_og_mou_6',  'roam_og_mou_7', 'roam_og_mou_8']].describe(percentiles = [0.05,.10,.25,.50,.75,.90,.95,.99])"
   ]
  },
  {
   "cell_type": "markdown",
   "metadata": {
    "colab_type": "text",
    "id": "PWPwnGbqEAOJ"
   },
   "source": [
    "#### Correlation Matrix"
   ]
  },
  {
   "cell_type": "code",
   "execution_count": 53,
   "metadata": {
    "colab": {
     "base_uri": "https://localhost:8080/",
     "height": 34
    },
    "colab_type": "code",
    "id": "xmc0RZOsD97T",
    "outputId": "d3d9c8cf-8834-4a16-9677-b7f25dc7dbde"
   },
   "outputs": [
    {
     "data": {
      "text/plain": [
       "(29906, 107)"
      ]
     },
     "execution_count": 53,
     "metadata": {},
     "output_type": "execute_result"
    }
   ],
   "source": [
    "hvc_clean.shape"
   ]
  },
  {
   "cell_type": "code",
   "execution_count": 54,
   "metadata": {
    "colab": {
     "base_uri": "https://localhost:8080/",
     "height": 456
    },
    "colab_type": "code",
    "id": "6ug312dbIOWi",
    "outputId": "040ebe39-5744-4302-caa6-b1e7648e562b"
   },
   "outputs": [
    {
     "data": {
      "text/html": [
       "<div>\n",
       "<style scoped>\n",
       "    .dataframe tbody tr th:only-of-type {\n",
       "        vertical-align: middle;\n",
       "    }\n",
       "\n",
       "    .dataframe tbody tr th {\n",
       "        vertical-align: top;\n",
       "    }\n",
       "\n",
       "    .dataframe thead th {\n",
       "        text-align: right;\n",
       "    }\n",
       "</style>\n",
       "<table border=\"1\" class=\"dataframe\">\n",
       "  <thead>\n",
       "    <tr style=\"text-align: right;\">\n",
       "      <th></th>\n",
       "      <th>arpu_6</th>\n",
       "      <th>arpu_7</th>\n",
       "      <th>arpu_8</th>\n",
       "      <th>onnet_mou_6</th>\n",
       "      <th>onnet_mou_7</th>\n",
       "      <th>onnet_mou_8</th>\n",
       "      <th>offnet_mou_6</th>\n",
       "      <th>offnet_mou_7</th>\n",
       "      <th>offnet_mou_8</th>\n",
       "      <th>roam_ic_mou_6</th>\n",
       "      <th>...</th>\n",
       "      <th>aug_vbc_3g</th>\n",
       "      <th>jul_vbc_3g</th>\n",
       "      <th>jun_vbc_3g</th>\n",
       "      <th>sep_vbc_3g</th>\n",
       "      <th>rech_data_6_total</th>\n",
       "      <th>rech_data_7_total</th>\n",
       "      <th>Total rech_6</th>\n",
       "      <th>Total rech_7</th>\n",
       "      <th>avg_amt_6_7</th>\n",
       "      <th>churn</th>\n",
       "    </tr>\n",
       "  </thead>\n",
       "  <tbody>\n",
       "    <tr>\n",
       "      <th>arpu_6</th>\n",
       "      <td>1.000000</td>\n",
       "      <td>0.673890</td>\n",
       "      <td>0.614850</td>\n",
       "      <td>0.336680</td>\n",
       "      <td>0.216372</td>\n",
       "      <td>0.189865</td>\n",
       "      <td>0.503186</td>\n",
       "      <td>0.341108</td>\n",
       "      <td>0.291456</td>\n",
       "      <td>0.124468</td>\n",
       "      <td>...</td>\n",
       "      <td>0.058837</td>\n",
       "      <td>0.055373</td>\n",
       "      <td>0.112206</td>\n",
       "      <td>0.045143</td>\n",
       "      <td>0.089110</td>\n",
       "      <td>-0.023862</td>\n",
       "      <td>0.419419</td>\n",
       "      <td>0.211270</td>\n",
       "      <td>0.368623</td>\n",
       "      <td>0.065642</td>\n",
       "    </tr>\n",
       "    <tr>\n",
       "      <th>arpu_7</th>\n",
       "      <td>0.673890</td>\n",
       "      <td>1.000000</td>\n",
       "      <td>0.759918</td>\n",
       "      <td>0.210143</td>\n",
       "      <td>0.314374</td>\n",
       "      <td>0.261969</td>\n",
       "      <td>0.350875</td>\n",
       "      <td>0.482936</td>\n",
       "      <td>0.386513</td>\n",
       "      <td>0.091613</td>\n",
       "      <td>...</td>\n",
       "      <td>0.083545</td>\n",
       "      <td>0.102169</td>\n",
       "      <td>0.055121</td>\n",
       "      <td>0.059089</td>\n",
       "      <td>-0.013729</td>\n",
       "      <td>0.091538</td>\n",
       "      <td>0.230773</td>\n",
       "      <td>0.419401</td>\n",
       "      <td>0.384910</td>\n",
       "      <td>-0.011052</td>\n",
       "    </tr>\n",
       "    <tr>\n",
       "      <th>arpu_8</th>\n",
       "      <td>0.614850</td>\n",
       "      <td>0.759918</td>\n",
       "      <td>1.000000</td>\n",
       "      <td>0.149375</td>\n",
       "      <td>0.228362</td>\n",
       "      <td>0.331684</td>\n",
       "      <td>0.276933</td>\n",
       "      <td>0.370811</td>\n",
       "      <td>0.505523</td>\n",
       "      <td>0.086920</td>\n",
       "      <td>...</td>\n",
       "      <td>0.146394</td>\n",
       "      <td>0.085114</td>\n",
       "      <td>0.073724</td>\n",
       "      <td>0.104801</td>\n",
       "      <td>-0.004020</td>\n",
       "      <td>0.028596</td>\n",
       "      <td>0.215430</td>\n",
       "      <td>0.295716</td>\n",
       "      <td>0.301778</td>\n",
       "      <td>-0.159777</td>\n",
       "    </tr>\n",
       "    <tr>\n",
       "      <th>onnet_mou_6</th>\n",
       "      <td>0.336680</td>\n",
       "      <td>0.210143</td>\n",
       "      <td>0.149375</td>\n",
       "      <td>1.000000</td>\n",
       "      <td>0.750729</td>\n",
       "      <td>0.623379</td>\n",
       "      <td>0.083074</td>\n",
       "      <td>0.032867</td>\n",
       "      <td>0.034148</td>\n",
       "      <td>0.022285</td>\n",
       "      <td>...</td>\n",
       "      <td>-0.104990</td>\n",
       "      <td>-0.110913</td>\n",
       "      <td>-0.102253</td>\n",
       "      <td>-0.034119</td>\n",
       "      <td>-0.098787</td>\n",
       "      <td>-0.101304</td>\n",
       "      <td>0.027959</td>\n",
       "      <td>-0.020083</td>\n",
       "      <td>0.004051</td>\n",
       "      <td>0.077764</td>\n",
       "    </tr>\n",
       "    <tr>\n",
       "      <th>onnet_mou_7</th>\n",
       "      <td>0.216372</td>\n",
       "      <td>0.314374</td>\n",
       "      <td>0.228362</td>\n",
       "      <td>0.750729</td>\n",
       "      <td>1.000000</td>\n",
       "      <td>0.804208</td>\n",
       "      <td>0.049301</td>\n",
       "      <td>0.077852</td>\n",
       "      <td>0.066843</td>\n",
       "      <td>0.036976</td>\n",
       "      <td>...</td>\n",
       "      <td>-0.103066</td>\n",
       "      <td>-0.108839</td>\n",
       "      <td>-0.106994</td>\n",
       "      <td>-0.033976</td>\n",
       "      <td>-0.101599</td>\n",
       "      <td>-0.099503</td>\n",
       "      <td>-0.014524</td>\n",
       "      <td>0.018716</td>\n",
       "      <td>0.002871</td>\n",
       "      <td>0.027333</td>\n",
       "    </tr>\n",
       "    <tr>\n",
       "      <th>onnet_mou_8</th>\n",
       "      <td>0.189865</td>\n",
       "      <td>0.261969</td>\n",
       "      <td>0.331684</td>\n",
       "      <td>0.623379</td>\n",
       "      <td>0.804208</td>\n",
       "      <td>1.000000</td>\n",
       "      <td>0.060984</td>\n",
       "      <td>0.080573</td>\n",
       "      <td>0.117753</td>\n",
       "      <td>0.050030</td>\n",
       "      <td>...</td>\n",
       "      <td>-0.084375</td>\n",
       "      <td>-0.091661</td>\n",
       "      <td>-0.083225</td>\n",
       "      <td>-0.029142</td>\n",
       "      <td>-0.086766</td>\n",
       "      <td>-0.077776</td>\n",
       "      <td>-0.009964</td>\n",
       "      <td>0.022254</td>\n",
       "      <td>0.007624</td>\n",
       "      <td>-0.033193</td>\n",
       "    </tr>\n",
       "    <tr>\n",
       "      <th>offnet_mou_6</th>\n",
       "      <td>0.503186</td>\n",
       "      <td>0.350875</td>\n",
       "      <td>0.276933</td>\n",
       "      <td>0.083074</td>\n",
       "      <td>0.049301</td>\n",
       "      <td>0.060984</td>\n",
       "      <td>1.000000</td>\n",
       "      <td>0.738677</td>\n",
       "      <td>0.585810</td>\n",
       "      <td>0.045584</td>\n",
       "      <td>...</td>\n",
       "      <td>-0.093339</td>\n",
       "      <td>-0.102188</td>\n",
       "      <td>-0.087114</td>\n",
       "      <td>-0.019576</td>\n",
       "      <td>-0.110378</td>\n",
       "      <td>-0.129202</td>\n",
       "      <td>0.076745</td>\n",
       "      <td>0.003750</td>\n",
       "      <td>0.046484</td>\n",
       "      <td>0.071395</td>\n",
       "    </tr>\n",
       "    <tr>\n",
       "      <th>offnet_mou_7</th>\n",
       "      <td>0.341108</td>\n",
       "      <td>0.482936</td>\n",
       "      <td>0.370811</td>\n",
       "      <td>0.032867</td>\n",
       "      <td>0.077852</td>\n",
       "      <td>0.080573</td>\n",
       "      <td>0.738677</td>\n",
       "      <td>1.000000</td>\n",
       "      <td>0.764275</td>\n",
       "      <td>0.060886</td>\n",
       "      <td>...</td>\n",
       "      <td>-0.094018</td>\n",
       "      <td>-0.103996</td>\n",
       "      <td>-0.099186</td>\n",
       "      <td>-0.021006</td>\n",
       "      <td>-0.116278</td>\n",
       "      <td>-0.122034</td>\n",
       "      <td>0.016966</td>\n",
       "      <td>0.058003</td>\n",
       "      <td>0.044617</td>\n",
       "      <td>0.018751</td>\n",
       "    </tr>\n",
       "    <tr>\n",
       "      <th>offnet_mou_8</th>\n",
       "      <td>0.291456</td>\n",
       "      <td>0.386513</td>\n",
       "      <td>0.505523</td>\n",
       "      <td>0.034148</td>\n",
       "      <td>0.066843</td>\n",
       "      <td>0.117753</td>\n",
       "      <td>0.585810</td>\n",
       "      <td>0.764275</td>\n",
       "      <td>1.000000</td>\n",
       "      <td>0.070330</td>\n",
       "      <td>...</td>\n",
       "      <td>-0.064109</td>\n",
       "      <td>-0.077817</td>\n",
       "      <td>-0.071355</td>\n",
       "      <td>-0.011492</td>\n",
       "      <td>-0.094247</td>\n",
       "      <td>-0.102169</td>\n",
       "      <td>0.020232</td>\n",
       "      <td>0.045225</td>\n",
       "      <td>0.038824</td>\n",
       "      <td>-0.060208</td>\n",
       "    </tr>\n",
       "    <tr>\n",
       "      <th>roam_ic_mou_6</th>\n",
       "      <td>0.124468</td>\n",
       "      <td>0.091613</td>\n",
       "      <td>0.086920</td>\n",
       "      <td>0.022285</td>\n",
       "      <td>0.036976</td>\n",
       "      <td>0.050030</td>\n",
       "      <td>0.045584</td>\n",
       "      <td>0.060886</td>\n",
       "      <td>0.070330</td>\n",
       "      <td>1.000000</td>\n",
       "      <td>...</td>\n",
       "      <td>0.007527</td>\n",
       "      <td>-0.002358</td>\n",
       "      <td>0.011203</td>\n",
       "      <td>0.006639</td>\n",
       "      <td>-0.027176</td>\n",
       "      <td>-0.022674</td>\n",
       "      <td>0.019186</td>\n",
       "      <td>0.010767</td>\n",
       "      <td>0.017525</td>\n",
       "      <td>0.053387</td>\n",
       "    </tr>\n",
       "    <tr>\n",
       "      <th>roam_ic_mou_7</th>\n",
       "      <td>0.083454</td>\n",
       "      <td>0.091537</td>\n",
       "      <td>0.075989</td>\n",
       "      <td>0.023526</td>\n",
       "      <td>0.006666</td>\n",
       "      <td>0.018601</td>\n",
       "      <td>0.040497</td>\n",
       "      <td>0.036850</td>\n",
       "      <td>0.038735</td>\n",
       "      <td>0.510178</td>\n",
       "      <td>...</td>\n",
       "      <td>0.010751</td>\n",
       "      <td>0.010394</td>\n",
       "      <td>0.023286</td>\n",
       "      <td>0.007657</td>\n",
       "      <td>-0.017023</td>\n",
       "      <td>-0.022481</td>\n",
       "      <td>0.014508</td>\n",
       "      <td>0.012203</td>\n",
       "      <td>0.015692</td>\n",
       "      <td>0.071773</td>\n",
       "    </tr>\n",
       "    <tr>\n",
       "      <th>roam_ic_mou_8</th>\n",
       "      <td>0.091067</td>\n",
       "      <td>0.090747</td>\n",
       "      <td>0.105062</td>\n",
       "      <td>0.043455</td>\n",
       "      <td>0.034607</td>\n",
       "      <td>0.019631</td>\n",
       "      <td>0.056898</td>\n",
       "      <td>0.055579</td>\n",
       "      <td>0.043211</td>\n",
       "      <td>0.372345</td>\n",
       "      <td>...</td>\n",
       "      <td>0.011619</td>\n",
       "      <td>0.018169</td>\n",
       "      <td>0.021013</td>\n",
       "      <td>0.011155</td>\n",
       "      <td>-0.015496</td>\n",
       "      <td>-0.013236</td>\n",
       "      <td>0.018222</td>\n",
       "      <td>0.021142</td>\n",
       "      <td>0.023201</td>\n",
       "      <td>0.074465</td>\n",
       "    </tr>\n",
       "    <tr>\n",
       "      <th>roam_og_mou_6</th>\n",
       "      <td>0.193622</td>\n",
       "      <td>0.132633</td>\n",
       "      <td>0.127220</td>\n",
       "      <td>0.075074</td>\n",
       "      <td>0.080194</td>\n",
       "      <td>0.096236</td>\n",
       "      <td>0.117270</td>\n",
       "      <td>0.111390</td>\n",
       "      <td>0.119896</td>\n",
       "      <td>0.645453</td>\n",
       "      <td>...</td>\n",
       "      <td>-0.014803</td>\n",
       "      <td>-0.023772</td>\n",
       "      <td>-0.012651</td>\n",
       "      <td>-0.000523</td>\n",
       "      <td>-0.039300</td>\n",
       "      <td>-0.035726</td>\n",
       "      <td>0.034844</td>\n",
       "      <td>0.015545</td>\n",
       "      <td>0.029419</td>\n",
       "      <td>0.068277</td>\n",
       "    </tr>\n",
       "    <tr>\n",
       "      <th>roam_og_mou_7</th>\n",
       "      <td>0.143380</td>\n",
       "      <td>0.177333</td>\n",
       "      <td>0.139405</td>\n",
       "      <td>0.074509</td>\n",
       "      <td>0.066588</td>\n",
       "      <td>0.082141</td>\n",
       "      <td>0.100606</td>\n",
       "      <td>0.107174</td>\n",
       "      <td>0.094025</td>\n",
       "      <td>0.368852</td>\n",
       "      <td>...</td>\n",
       "      <td>-0.011471</td>\n",
       "      <td>-0.013570</td>\n",
       "      <td>-0.002024</td>\n",
       "      <td>0.002350</td>\n",
       "      <td>-0.030845</td>\n",
       "      <td>-0.032750</td>\n",
       "      <td>0.025966</td>\n",
       "      <td>0.034986</td>\n",
       "      <td>0.035979</td>\n",
       "      <td>0.097692</td>\n",
       "    </tr>\n",
       "    <tr>\n",
       "      <th>roam_og_mou_8</th>\n",
       "      <td>0.125832</td>\n",
       "      <td>0.148654</td>\n",
       "      <td>0.192735</td>\n",
       "      <td>0.072225</td>\n",
       "      <td>0.080985</td>\n",
       "      <td>0.092154</td>\n",
       "      <td>0.103231</td>\n",
       "      <td>0.117254</td>\n",
       "      <td>0.127114</td>\n",
       "      <td>0.241672</td>\n",
       "      <td>...</td>\n",
       "      <td>-0.003717</td>\n",
       "      <td>-0.006961</td>\n",
       "      <td>0.007083</td>\n",
       "      <td>0.012732</td>\n",
       "      <td>-0.025874</td>\n",
       "      <td>-0.025653</td>\n",
       "      <td>0.025228</td>\n",
       "      <td>0.032114</td>\n",
       "      <td>0.033829</td>\n",
       "      <td>0.084833</td>\n",
       "    </tr>\n",
       "    <tr>\n",
       "      <th>loc_og_mou_6</th>\n",
       "      <td>0.322348</td>\n",
       "      <td>0.211648</td>\n",
       "      <td>0.205902</td>\n",
       "      <td>0.290101</td>\n",
       "      <td>0.198764</td>\n",
       "      <td>0.187931</td>\n",
       "      <td>0.371259</td>\n",
       "      <td>0.234644</td>\n",
       "      <td>0.224549</td>\n",
       "      <td>-0.045898</td>\n",
       "      <td>...</td>\n",
       "      <td>0.000053</td>\n",
       "      <td>-0.013418</td>\n",
       "      <td>-0.004351</td>\n",
       "      <td>0.002673</td>\n",
       "      <td>-0.062817</td>\n",
       "      <td>-0.079649</td>\n",
       "      <td>0.055295</td>\n",
       "      <td>0.001797</td>\n",
       "      <td>0.032948</td>\n",
       "      <td>-0.052634</td>\n",
       "    </tr>\n",
       "    <tr>\n",
       "      <th>loc_og_mou_7</th>\n",
       "      <td>0.246894</td>\n",
       "      <td>0.296860</td>\n",
       "      <td>0.258626</td>\n",
       "      <td>0.221321</td>\n",
       "      <td>0.300140</td>\n",
       "      <td>0.251068</td>\n",
       "      <td>0.279074</td>\n",
       "      <td>0.334004</td>\n",
       "      <td>0.283808</td>\n",
       "      <td>0.002119</td>\n",
       "      <td>...</td>\n",
       "      <td>-0.001325</td>\n",
       "      <td>-0.016297</td>\n",
       "      <td>-0.015214</td>\n",
       "      <td>0.000921</td>\n",
       "      <td>-0.069777</td>\n",
       "      <td>-0.079741</td>\n",
       "      <td>0.024651</td>\n",
       "      <td>0.030920</td>\n",
       "      <td>0.032779</td>\n",
       "      <td>-0.079922</td>\n",
       "    </tr>\n",
       "    <tr>\n",
       "      <th>loc_og_mou_8</th>\n",
       "      <td>0.227920</td>\n",
       "      <td>0.245504</td>\n",
       "      <td>0.327574</td>\n",
       "      <td>0.187777</td>\n",
       "      <td>0.232229</td>\n",
       "      <td>0.324027</td>\n",
       "      <td>0.248762</td>\n",
       "      <td>0.265343</td>\n",
       "      <td>0.368019</td>\n",
       "      <td>0.023215</td>\n",
       "      <td>...</td>\n",
       "      <td>0.011171</td>\n",
       "      <td>-0.002409</td>\n",
       "      <td>0.004411</td>\n",
       "      <td>0.004447</td>\n",
       "      <td>-0.059874</td>\n",
       "      <td>-0.067938</td>\n",
       "      <td>0.027429</td>\n",
       "      <td>0.026041</td>\n",
       "      <td>0.031450</td>\n",
       "      <td>-0.095708</td>\n",
       "    </tr>\n",
       "    <tr>\n",
       "      <th>std_og_mou_6</th>\n",
       "      <td>0.380325</td>\n",
       "      <td>0.247334</td>\n",
       "      <td>0.148494</td>\n",
       "      <td>0.625309</td>\n",
       "      <td>0.466829</td>\n",
       "      <td>0.383590</td>\n",
       "      <td>0.591512</td>\n",
       "      <td>0.435050</td>\n",
       "      <td>0.319757</td>\n",
       "      <td>-0.040799</td>\n",
       "      <td>...</td>\n",
       "      <td>-0.150109</td>\n",
       "      <td>-0.151163</td>\n",
       "      <td>-0.140634</td>\n",
       "      <td>-0.044266</td>\n",
       "      <td>-0.115355</td>\n",
       "      <td>-0.121710</td>\n",
       "      <td>0.028658</td>\n",
       "      <td>-0.026319</td>\n",
       "      <td>0.000709</td>\n",
       "      <td>0.133404</td>\n",
       "    </tr>\n",
       "    <tr>\n",
       "      <th>std_og_mou_7</th>\n",
       "      <td>0.230870</td>\n",
       "      <td>0.375422</td>\n",
       "      <td>0.254126</td>\n",
       "      <td>0.447699</td>\n",
       "      <td>0.623831</td>\n",
       "      <td>0.505982</td>\n",
       "      <td>0.425998</td>\n",
       "      <td>0.616311</td>\n",
       "      <td>0.456904</td>\n",
       "      <td>0.019192</td>\n",
       "      <td>...</td>\n",
       "      <td>-0.148175</td>\n",
       "      <td>-0.150983</td>\n",
       "      <td>-0.147738</td>\n",
       "      <td>-0.044472</td>\n",
       "      <td>-0.120745</td>\n",
       "      <td>-0.117962</td>\n",
       "      <td>-0.026494</td>\n",
       "      <td>0.023851</td>\n",
       "      <td>-0.000944</td>\n",
       "      <td>0.066927</td>\n",
       "    </tr>\n",
       "    <tr>\n",
       "      <th>std_og_mou_8</th>\n",
       "      <td>0.185396</td>\n",
       "      <td>0.297237</td>\n",
       "      <td>0.386341</td>\n",
       "      <td>0.371508</td>\n",
       "      <td>0.504859</td>\n",
       "      <td>0.635303</td>\n",
       "      <td>0.334641</td>\n",
       "      <td>0.477418</td>\n",
       "      <td>0.626756</td>\n",
       "      <td>0.038110</td>\n",
       "      <td>...</td>\n",
       "      <td>-0.120592</td>\n",
       "      <td>-0.127412</td>\n",
       "      <td>-0.122329</td>\n",
       "      <td>-0.036101</td>\n",
       "      <td>-0.098945</td>\n",
       "      <td>-0.093760</td>\n",
       "      <td>-0.022330</td>\n",
       "      <td>0.020713</td>\n",
       "      <td>-0.000428</td>\n",
       "      <td>-0.029261</td>\n",
       "    </tr>\n",
       "    <tr>\n",
       "      <th>isd_og_mou_6</th>\n",
       "      <td>0.467276</td>\n",
       "      <td>0.417040</td>\n",
       "      <td>0.394498</td>\n",
       "      <td>-0.015336</td>\n",
       "      <td>-0.013289</td>\n",
       "      <td>-0.012673</td>\n",
       "      <td>0.079478</td>\n",
       "      <td>0.067643</td>\n",
       "      <td>0.072824</td>\n",
       "      <td>-0.004199</td>\n",
       "      <td>...</td>\n",
       "      <td>0.002667</td>\n",
       "      <td>-0.003644</td>\n",
       "      <td>-0.005227</td>\n",
       "      <td>-0.002427</td>\n",
       "      <td>-0.007013</td>\n",
       "      <td>-0.010088</td>\n",
       "      <td>0.157708</td>\n",
       "      <td>0.130690</td>\n",
       "      <td>0.169390</td>\n",
       "      <td>0.014769</td>\n",
       "    </tr>\n",
       "    <tr>\n",
       "      <th>isd_og_mou_7</th>\n",
       "      <td>0.421577</td>\n",
       "      <td>0.508579</td>\n",
       "      <td>0.437533</td>\n",
       "      <td>-0.015835</td>\n",
       "      <td>-0.014553</td>\n",
       "      <td>-0.013856</td>\n",
       "      <td>0.073679</td>\n",
       "      <td>0.073803</td>\n",
       "      <td>0.074465</td>\n",
       "      <td>-0.004972</td>\n",
       "      <td>...</td>\n",
       "      <td>0.005649</td>\n",
       "      <td>0.002205</td>\n",
       "      <td>-0.002207</td>\n",
       "      <td>-0.000431</td>\n",
       "      <td>-0.005092</td>\n",
       "      <td>-0.004867</td>\n",
       "      <td>0.146122</td>\n",
       "      <td>0.168829</td>\n",
       "      <td>0.185621</td>\n",
       "      <td>0.007721</td>\n",
       "    </tr>\n",
       "    <tr>\n",
       "      <th>isd_og_mou_8</th>\n",
       "      <td>0.414536</td>\n",
       "      <td>0.451791</td>\n",
       "      <td>0.453813</td>\n",
       "      <td>-0.013748</td>\n",
       "      <td>-0.012626</td>\n",
       "      <td>-0.012247</td>\n",
       "      <td>0.073955</td>\n",
       "      <td>0.071155</td>\n",
       "      <td>0.081030</td>\n",
       "      <td>-0.004194</td>\n",
       "      <td>...</td>\n",
       "      <td>0.007993</td>\n",
       "      <td>-0.000176</td>\n",
       "      <td>-0.001402</td>\n",
       "      <td>0.000330</td>\n",
       "      <td>-0.006368</td>\n",
       "      <td>-0.007860</td>\n",
       "      <td>0.141694</td>\n",
       "      <td>0.145378</td>\n",
       "      <td>0.168983</td>\n",
       "      <td>-0.000908</td>\n",
       "    </tr>\n",
       "    <tr>\n",
       "      <th>spl_og_mou_6</th>\n",
       "      <td>0.118770</td>\n",
       "      <td>0.065878</td>\n",
       "      <td>0.098316</td>\n",
       "      <td>0.095789</td>\n",
       "      <td>0.059666</td>\n",
       "      <td>0.051958</td>\n",
       "      <td>0.124200</td>\n",
       "      <td>0.073708</td>\n",
       "      <td>0.056568</td>\n",
       "      <td>-0.034164</td>\n",
       "      <td>...</td>\n",
       "      <td>-0.023900</td>\n",
       "      <td>-0.018095</td>\n",
       "      <td>-0.007365</td>\n",
       "      <td>0.056729</td>\n",
       "      <td>0.014470</td>\n",
       "      <td>-0.001882</td>\n",
       "      <td>0.051525</td>\n",
       "      <td>0.016609</td>\n",
       "      <td>0.039672</td>\n",
       "      <td>0.027645</td>\n",
       "    </tr>\n",
       "    <tr>\n",
       "      <th>spl_og_mou_7</th>\n",
       "      <td>0.068735</td>\n",
       "      <td>0.110754</td>\n",
       "      <td>0.121643</td>\n",
       "      <td>0.077070</td>\n",
       "      <td>0.107708</td>\n",
       "      <td>0.077222</td>\n",
       "      <td>0.075367</td>\n",
       "      <td>0.119898</td>\n",
       "      <td>0.082519</td>\n",
       "      <td>-0.014753</td>\n",
       "      <td>...</td>\n",
       "      <td>-0.027527</td>\n",
       "      <td>-0.022858</td>\n",
       "      <td>-0.031948</td>\n",
       "      <td>0.051836</td>\n",
       "      <td>-0.004683</td>\n",
       "      <td>0.010451</td>\n",
       "      <td>0.016995</td>\n",
       "      <td>0.043766</td>\n",
       "      <td>0.036082</td>\n",
       "      <td>0.010153</td>\n",
       "    </tr>\n",
       "    <tr>\n",
       "      <th>spl_og_mou_8</th>\n",
       "      <td>0.046421</td>\n",
       "      <td>0.064293</td>\n",
       "      <td>0.097303</td>\n",
       "      <td>0.082996</td>\n",
       "      <td>0.105796</td>\n",
       "      <td>0.127393</td>\n",
       "      <td>0.065514</td>\n",
       "      <td>0.084474</td>\n",
       "      <td>0.114476</td>\n",
       "      <td>-0.009229</td>\n",
       "      <td>...</td>\n",
       "      <td>-0.015868</td>\n",
       "      <td>-0.022958</td>\n",
       "      <td>-0.023981</td>\n",
       "      <td>0.012238</td>\n",
       "      <td>-0.009517</td>\n",
       "      <td>0.001899</td>\n",
       "      <td>0.006950</td>\n",
       "      <td>0.022298</td>\n",
       "      <td>0.017398</td>\n",
       "      <td>-0.028154</td>\n",
       "    </tr>\n",
       "    <tr>\n",
       "      <th>og_others_6</th>\n",
       "      <td>0.052782</td>\n",
       "      <td>0.017213</td>\n",
       "      <td>0.012253</td>\n",
       "      <td>0.053046</td>\n",
       "      <td>0.027321</td>\n",
       "      <td>0.018100</td>\n",
       "      <td>0.055392</td>\n",
       "      <td>0.021966</td>\n",
       "      <td>0.013617</td>\n",
       "      <td>-0.019817</td>\n",
       "      <td>...</td>\n",
       "      <td>-0.030539</td>\n",
       "      <td>-0.030552</td>\n",
       "      <td>-0.025342</td>\n",
       "      <td>0.001688</td>\n",
       "      <td>0.000181</td>\n",
       "      <td>-0.006544</td>\n",
       "      <td>0.016666</td>\n",
       "      <td>-0.000532</td>\n",
       "      <td>0.009286</td>\n",
       "      <td>0.012481</td>\n",
       "    </tr>\n",
       "    <tr>\n",
       "      <th>og_others_7</th>\n",
       "      <td>0.024368</td>\n",
       "      <td>0.025880</td>\n",
       "      <td>0.015584</td>\n",
       "      <td>-0.000705</td>\n",
       "      <td>-0.000591</td>\n",
       "      <td>-0.002038</td>\n",
       "      <td>0.017252</td>\n",
       "      <td>0.015775</td>\n",
       "      <td>0.008085</td>\n",
       "      <td>0.000045</td>\n",
       "      <td>...</td>\n",
       "      <td>-0.002346</td>\n",
       "      <td>0.014771</td>\n",
       "      <td>-0.002395</td>\n",
       "      <td>-0.002010</td>\n",
       "      <td>0.000125</td>\n",
       "      <td>0.006452</td>\n",
       "      <td>0.005715</td>\n",
       "      <td>0.012390</td>\n",
       "      <td>0.010736</td>\n",
       "      <td>0.014177</td>\n",
       "    </tr>\n",
       "    <tr>\n",
       "      <th>og_others_8</th>\n",
       "      <td>0.015564</td>\n",
       "      <td>0.017519</td>\n",
       "      <td>0.011764</td>\n",
       "      <td>-0.003387</td>\n",
       "      <td>0.002198</td>\n",
       "      <td>-0.001835</td>\n",
       "      <td>0.015516</td>\n",
       "      <td>0.013762</td>\n",
       "      <td>0.010719</td>\n",
       "      <td>0.000233</td>\n",
       "      <td>...</td>\n",
       "      <td>-0.004139</td>\n",
       "      <td>0.002513</td>\n",
       "      <td>-0.001938</td>\n",
       "      <td>-0.002292</td>\n",
       "      <td>-0.002647</td>\n",
       "      <td>-0.001566</td>\n",
       "      <td>0.000860</td>\n",
       "      <td>0.002315</td>\n",
       "      <td>0.001886</td>\n",
       "      <td>0.009364</td>\n",
       "    </tr>\n",
       "    <tr>\n",
       "      <th>...</th>\n",
       "      <td>...</td>\n",
       "      <td>...</td>\n",
       "      <td>...</td>\n",
       "      <td>...</td>\n",
       "      <td>...</td>\n",
       "      <td>...</td>\n",
       "      <td>...</td>\n",
       "      <td>...</td>\n",
       "      <td>...</td>\n",
       "      <td>...</td>\n",
       "      <td>...</td>\n",
       "      <td>...</td>\n",
       "      <td>...</td>\n",
       "      <td>...</td>\n",
       "      <td>...</td>\n",
       "      <td>...</td>\n",
       "      <td>...</td>\n",
       "      <td>...</td>\n",
       "      <td>...</td>\n",
       "      <td>...</td>\n",
       "      <td>...</td>\n",
       "    </tr>\n",
       "    <tr>\n",
       "      <th>vol_3g_mb_8</th>\n",
       "      <td>0.084933</td>\n",
       "      <td>0.117680</td>\n",
       "      <td>0.188343</td>\n",
       "      <td>-0.093900</td>\n",
       "      <td>-0.090389</td>\n",
       "      <td>-0.073101</td>\n",
       "      <td>-0.094915</td>\n",
       "      <td>-0.091956</td>\n",
       "      <td>-0.064168</td>\n",
       "      <td>-0.003603</td>\n",
       "      <td>...</td>\n",
       "      <td>0.607443</td>\n",
       "      <td>0.456221</td>\n",
       "      <td>0.423872</td>\n",
       "      <td>0.125203</td>\n",
       "      <td>0.309842</td>\n",
       "      <td>0.378411</td>\n",
       "      <td>0.306932</td>\n",
       "      <td>0.381113</td>\n",
       "      <td>0.405807</td>\n",
       "      <td>-0.085102</td>\n",
       "    </tr>\n",
       "    <tr>\n",
       "      <th>night_pck_user_6</th>\n",
       "      <td>0.014175</td>\n",
       "      <td>-0.003247</td>\n",
       "      <td>-0.006162</td>\n",
       "      <td>-0.000391</td>\n",
       "      <td>-0.005046</td>\n",
       "      <td>-0.000183</td>\n",
       "      <td>-0.026592</td>\n",
       "      <td>-0.025932</td>\n",
       "      <td>-0.023007</td>\n",
       "      <td>-0.014131</td>\n",
       "      <td>...</td>\n",
       "      <td>0.021766</td>\n",
       "      <td>0.037178</td>\n",
       "      <td>0.044075</td>\n",
       "      <td>0.034885</td>\n",
       "      <td>0.140656</td>\n",
       "      <td>0.085861</td>\n",
       "      <td>0.131738</td>\n",
       "      <td>0.075632</td>\n",
       "      <td>0.121353</td>\n",
       "      <td>0.005391</td>\n",
       "    </tr>\n",
       "    <tr>\n",
       "      <th>night_pck_user_7</th>\n",
       "      <td>-0.004990</td>\n",
       "      <td>0.008788</td>\n",
       "      <td>0.004271</td>\n",
       "      <td>-0.004581</td>\n",
       "      <td>0.008456</td>\n",
       "      <td>0.009328</td>\n",
       "      <td>-0.021878</td>\n",
       "      <td>-0.022014</td>\n",
       "      <td>-0.020969</td>\n",
       "      <td>-0.010533</td>\n",
       "      <td>...</td>\n",
       "      <td>0.021912</td>\n",
       "      <td>0.032082</td>\n",
       "      <td>0.024341</td>\n",
       "      <td>0.031148</td>\n",
       "      <td>0.082313</td>\n",
       "      <td>0.113460</td>\n",
       "      <td>0.072245</td>\n",
       "      <td>0.105001</td>\n",
       "      <td>0.104705</td>\n",
       "      <td>-0.008069</td>\n",
       "    </tr>\n",
       "    <tr>\n",
       "      <th>night_pck_user_8</th>\n",
       "      <td>0.009710</td>\n",
       "      <td>0.018681</td>\n",
       "      <td>0.028719</td>\n",
       "      <td>0.017073</td>\n",
       "      <td>0.035554</td>\n",
       "      <td>0.042438</td>\n",
       "      <td>-0.018077</td>\n",
       "      <td>-0.012334</td>\n",
       "      <td>-0.007030</td>\n",
       "      <td>-0.008439</td>\n",
       "      <td>...</td>\n",
       "      <td>0.030914</td>\n",
       "      <td>0.024607</td>\n",
       "      <td>0.028259</td>\n",
       "      <td>0.031567</td>\n",
       "      <td>0.092708</td>\n",
       "      <td>0.102164</td>\n",
       "      <td>0.086691</td>\n",
       "      <td>0.098310</td>\n",
       "      <td>0.109012</td>\n",
       "      <td>-0.021455</td>\n",
       "    </tr>\n",
       "    <tr>\n",
       "      <th>monthly_2g_6</th>\n",
       "      <td>-0.038854</td>\n",
       "      <td>-0.081154</td>\n",
       "      <td>-0.053042</td>\n",
       "      <td>-0.107206</td>\n",
       "      <td>-0.112395</td>\n",
       "      <td>-0.098526</td>\n",
       "      <td>-0.109347</td>\n",
       "      <td>-0.110408</td>\n",
       "      <td>-0.090085</td>\n",
       "      <td>-0.025372</td>\n",
       "      <td>...</td>\n",
       "      <td>0.150748</td>\n",
       "      <td>0.154386</td>\n",
       "      <td>0.175155</td>\n",
       "      <td>0.019381</td>\n",
       "      <td>0.042556</td>\n",
       "      <td>-0.012720</td>\n",
       "      <td>0.024107</td>\n",
       "      <td>-0.041163</td>\n",
       "      <td>-0.010830</td>\n",
       "      <td>-0.054739</td>\n",
       "    </tr>\n",
       "    <tr>\n",
       "      <th>monthly_2g_7</th>\n",
       "      <td>-0.083853</td>\n",
       "      <td>-0.033438</td>\n",
       "      <td>-0.039188</td>\n",
       "      <td>-0.115068</td>\n",
       "      <td>-0.113961</td>\n",
       "      <td>-0.098440</td>\n",
       "      <td>-0.114120</td>\n",
       "      <td>-0.106342</td>\n",
       "      <td>-0.083210</td>\n",
       "      <td>-0.020620</td>\n",
       "      <td>...</td>\n",
       "      <td>0.170981</td>\n",
       "      <td>0.175767</td>\n",
       "      <td>0.126858</td>\n",
       "      <td>0.024214</td>\n",
       "      <td>0.003490</td>\n",
       "      <td>0.031754</td>\n",
       "      <td>-0.028090</td>\n",
       "      <td>0.017493</td>\n",
       "      <td>-0.005683</td>\n",
       "      <td>-0.073520</td>\n",
       "    </tr>\n",
       "    <tr>\n",
       "      <th>monthly_2g_8</th>\n",
       "      <td>-0.060908</td>\n",
       "      <td>-0.048144</td>\n",
       "      <td>0.013437</td>\n",
       "      <td>-0.098770</td>\n",
       "      <td>-0.097434</td>\n",
       "      <td>-0.083134</td>\n",
       "      <td>-0.100682</td>\n",
       "      <td>-0.095830</td>\n",
       "      <td>-0.072166</td>\n",
       "      <td>-0.024196</td>\n",
       "      <td>...</td>\n",
       "      <td>0.195279</td>\n",
       "      <td>0.153328</td>\n",
       "      <td>0.129570</td>\n",
       "      <td>0.030955</td>\n",
       "      <td>0.015693</td>\n",
       "      <td>0.011974</td>\n",
       "      <td>-0.009074</td>\n",
       "      <td>-0.006771</td>\n",
       "      <td>-0.009297</td>\n",
       "      <td>-0.095108</td>\n",
       "    </tr>\n",
       "    <tr>\n",
       "      <th>sachet_2g_6</th>\n",
       "      <td>-0.158860</td>\n",
       "      <td>-0.183455</td>\n",
       "      <td>-0.153765</td>\n",
       "      <td>-0.131772</td>\n",
       "      <td>-0.133487</td>\n",
       "      <td>-0.115298</td>\n",
       "      <td>-0.167161</td>\n",
       "      <td>-0.172215</td>\n",
       "      <td>-0.147839</td>\n",
       "      <td>-0.051518</td>\n",
       "      <td>...</td>\n",
       "      <td>-0.026222</td>\n",
       "      <td>-0.023466</td>\n",
       "      <td>-0.011924</td>\n",
       "      <td>0.042172</td>\n",
       "      <td>0.484129</td>\n",
       "      <td>0.333220</td>\n",
       "      <td>0.381097</td>\n",
       "      <td>0.236042</td>\n",
       "      <td>0.361416</td>\n",
       "      <td>-0.003537</td>\n",
       "    </tr>\n",
       "    <tr>\n",
       "      <th>sachet_2g_7</th>\n",
       "      <td>-0.194322</td>\n",
       "      <td>-0.151892</td>\n",
       "      <td>-0.137655</td>\n",
       "      <td>-0.130825</td>\n",
       "      <td>-0.122059</td>\n",
       "      <td>-0.106287</td>\n",
       "      <td>-0.171403</td>\n",
       "      <td>-0.162097</td>\n",
       "      <td>-0.141450</td>\n",
       "      <td>-0.038938</td>\n",
       "      <td>...</td>\n",
       "      <td>-0.028526</td>\n",
       "      <td>-0.023943</td>\n",
       "      <td>-0.036653</td>\n",
       "      <td>0.040735</td>\n",
       "      <td>0.303771</td>\n",
       "      <td>0.529522</td>\n",
       "      <td>0.205465</td>\n",
       "      <td>0.424441</td>\n",
       "      <td>0.373352</td>\n",
       "      <td>-0.035858</td>\n",
       "    </tr>\n",
       "    <tr>\n",
       "      <th>sachet_2g_8</th>\n",
       "      <td>-0.152365</td>\n",
       "      <td>-0.132728</td>\n",
       "      <td>-0.075097</td>\n",
       "      <td>-0.108251</td>\n",
       "      <td>-0.100140</td>\n",
       "      <td>-0.080992</td>\n",
       "      <td>-0.137208</td>\n",
       "      <td>-0.132938</td>\n",
       "      <td>-0.111367</td>\n",
       "      <td>-0.033265</td>\n",
       "      <td>...</td>\n",
       "      <td>-0.007237</td>\n",
       "      <td>-0.024463</td>\n",
       "      <td>-0.032786</td>\n",
       "      <td>0.054278</td>\n",
       "      <td>0.278180</td>\n",
       "      <td>0.366574</td>\n",
       "      <td>0.196976</td>\n",
       "      <td>0.284510</td>\n",
       "      <td>0.284411</td>\n",
       "      <td>-0.091650</td>\n",
       "    </tr>\n",
       "    <tr>\n",
       "      <th>monthly_3g_6</th>\n",
       "      <td>0.176918</td>\n",
       "      <td>0.084529</td>\n",
       "      <td>0.089644</td>\n",
       "      <td>-0.081778</td>\n",
       "      <td>-0.084249</td>\n",
       "      <td>-0.072342</td>\n",
       "      <td>-0.070679</td>\n",
       "      <td>-0.078621</td>\n",
       "      <td>-0.057707</td>\n",
       "      <td>0.007745</td>\n",
       "      <td>...</td>\n",
       "      <td>0.325545</td>\n",
       "      <td>0.360464</td>\n",
       "      <td>0.455146</td>\n",
       "      <td>0.060111</td>\n",
       "      <td>0.398873</td>\n",
       "      <td>0.231922</td>\n",
       "      <td>0.419530</td>\n",
       "      <td>0.235621</td>\n",
       "      <td>0.383314</td>\n",
       "      <td>-0.010073</td>\n",
       "    </tr>\n",
       "    <tr>\n",
       "      <th>monthly_3g_7</th>\n",
       "      <td>0.081124</td>\n",
       "      <td>0.190621</td>\n",
       "      <td>0.123247</td>\n",
       "      <td>-0.082764</td>\n",
       "      <td>-0.081449</td>\n",
       "      <td>-0.067547</td>\n",
       "      <td>-0.075972</td>\n",
       "      <td>-0.071246</td>\n",
       "      <td>-0.053321</td>\n",
       "      <td>0.004215</td>\n",
       "      <td>...</td>\n",
       "      <td>0.374775</td>\n",
       "      <td>0.439869</td>\n",
       "      <td>0.345166</td>\n",
       "      <td>0.072059</td>\n",
       "      <td>0.207281</td>\n",
       "      <td>0.421464</td>\n",
       "      <td>0.211586</td>\n",
       "      <td>0.446640</td>\n",
       "      <td>0.390213</td>\n",
       "      <td>-0.037983</td>\n",
       "    </tr>\n",
       "    <tr>\n",
       "      <th>monthly_3g_8</th>\n",
       "      <td>0.103863</td>\n",
       "      <td>0.132428</td>\n",
       "      <td>0.223722</td>\n",
       "      <td>-0.075896</td>\n",
       "      <td>-0.076312</td>\n",
       "      <td>-0.059915</td>\n",
       "      <td>-0.059807</td>\n",
       "      <td>-0.058983</td>\n",
       "      <td>-0.032930</td>\n",
       "      <td>0.010322</td>\n",
       "      <td>...</td>\n",
       "      <td>0.456782</td>\n",
       "      <td>0.377455</td>\n",
       "      <td>0.345977</td>\n",
       "      <td>0.106559</td>\n",
       "      <td>0.188509</td>\n",
       "      <td>0.256571</td>\n",
       "      <td>0.203518</td>\n",
       "      <td>0.275729</td>\n",
       "      <td>0.282908</td>\n",
       "      <td>-0.073910</td>\n",
       "    </tr>\n",
       "    <tr>\n",
       "      <th>sachet_3g_6</th>\n",
       "      <td>-0.002547</td>\n",
       "      <td>-0.027453</td>\n",
       "      <td>-0.022386</td>\n",
       "      <td>-0.053433</td>\n",
       "      <td>-0.053765</td>\n",
       "      <td>-0.046420</td>\n",
       "      <td>-0.073810</td>\n",
       "      <td>-0.075328</td>\n",
       "      <td>-0.062354</td>\n",
       "      <td>-0.021888</td>\n",
       "      <td>...</td>\n",
       "      <td>0.053220</td>\n",
       "      <td>0.066110</td>\n",
       "      <td>0.064912</td>\n",
       "      <td>0.060095</td>\n",
       "      <td>0.450369</td>\n",
       "      <td>0.303232</td>\n",
       "      <td>0.405456</td>\n",
       "      <td>0.263459</td>\n",
       "      <td>0.391923</td>\n",
       "      <td>0.010633</td>\n",
       "    </tr>\n",
       "    <tr>\n",
       "      <th>sachet_3g_7</th>\n",
       "      <td>-0.025182</td>\n",
       "      <td>0.010745</td>\n",
       "      <td>-0.002303</td>\n",
       "      <td>-0.045542</td>\n",
       "      <td>-0.050519</td>\n",
       "      <td>-0.038532</td>\n",
       "      <td>-0.074925</td>\n",
       "      <td>-0.071883</td>\n",
       "      <td>-0.059542</td>\n",
       "      <td>-0.020747</td>\n",
       "      <td>...</td>\n",
       "      <td>0.052626</td>\n",
       "      <td>0.064118</td>\n",
       "      <td>0.051939</td>\n",
       "      <td>0.048534</td>\n",
       "      <td>0.320127</td>\n",
       "      <td>0.490771</td>\n",
       "      <td>0.279535</td>\n",
       "      <td>0.446405</td>\n",
       "      <td>0.429234</td>\n",
       "      <td>-0.001350</td>\n",
       "    </tr>\n",
       "    <tr>\n",
       "      <th>sachet_3g_8</th>\n",
       "      <td>-0.017355</td>\n",
       "      <td>0.000923</td>\n",
       "      <td>0.045390</td>\n",
       "      <td>-0.045178</td>\n",
       "      <td>-0.039826</td>\n",
       "      <td>-0.033782</td>\n",
       "      <td>-0.059028</td>\n",
       "      <td>-0.057853</td>\n",
       "      <td>-0.039847</td>\n",
       "      <td>-0.016293</td>\n",
       "      <td>...</td>\n",
       "      <td>0.061566</td>\n",
       "      <td>0.049681</td>\n",
       "      <td>0.046142</td>\n",
       "      <td>0.052378</td>\n",
       "      <td>0.284393</td>\n",
       "      <td>0.359136</td>\n",
       "      <td>0.250173</td>\n",
       "      <td>0.324138</td>\n",
       "      <td>0.338873</td>\n",
       "      <td>-0.036830</td>\n",
       "    </tr>\n",
       "    <tr>\n",
       "      <th>fb_user_6</th>\n",
       "      <td>-0.120347</td>\n",
       "      <td>-0.184654</td>\n",
       "      <td>-0.130863</td>\n",
       "      <td>-0.265405</td>\n",
       "      <td>-0.271157</td>\n",
       "      <td>-0.236517</td>\n",
       "      <td>-0.285018</td>\n",
       "      <td>-0.301294</td>\n",
       "      <td>-0.247799</td>\n",
       "      <td>-0.051568</td>\n",
       "      <td>...</td>\n",
       "      <td>0.280191</td>\n",
       "      <td>0.294317</td>\n",
       "      <td>0.321850</td>\n",
       "      <td>0.085589</td>\n",
       "      <td>0.301843</td>\n",
       "      <td>0.251926</td>\n",
       "      <td>0.225828</td>\n",
       "      <td>0.158614</td>\n",
       "      <td>0.225423</td>\n",
       "      <td>-0.053756</td>\n",
       "    </tr>\n",
       "    <tr>\n",
       "      <th>fb_user_7</th>\n",
       "      <td>-0.197370</td>\n",
       "      <td>-0.117756</td>\n",
       "      <td>-0.102908</td>\n",
       "      <td>-0.275292</td>\n",
       "      <td>-0.269509</td>\n",
       "      <td>-0.235153</td>\n",
       "      <td>-0.296148</td>\n",
       "      <td>-0.287136</td>\n",
       "      <td>-0.241666</td>\n",
       "      <td>-0.053648</td>\n",
       "      <td>...</td>\n",
       "      <td>0.310726</td>\n",
       "      <td>0.326725</td>\n",
       "      <td>0.268500</td>\n",
       "      <td>0.086429</td>\n",
       "      <td>0.238729</td>\n",
       "      <td>0.325181</td>\n",
       "      <td>0.140494</td>\n",
       "      <td>0.251168</td>\n",
       "      <td>0.231832</td>\n",
       "      <td>-0.099027</td>\n",
       "    </tr>\n",
       "    <tr>\n",
       "      <th>fb_user_8</th>\n",
       "      <td>-0.139852</td>\n",
       "      <td>-0.102191</td>\n",
       "      <td>0.007663</td>\n",
       "      <td>-0.233759</td>\n",
       "      <td>-0.222089</td>\n",
       "      <td>-0.187058</td>\n",
       "      <td>-0.249844</td>\n",
       "      <td>-0.241873</td>\n",
       "      <td>-0.192539</td>\n",
       "      <td>-0.043288</td>\n",
       "      <td>...</td>\n",
       "      <td>0.342590</td>\n",
       "      <td>0.297214</td>\n",
       "      <td>0.260761</td>\n",
       "      <td>0.109160</td>\n",
       "      <td>0.230760</td>\n",
       "      <td>0.283920</td>\n",
       "      <td>0.153927</td>\n",
       "      <td>0.218585</td>\n",
       "      <td>0.220004</td>\n",
       "      <td>-0.198278</td>\n",
       "    </tr>\n",
       "    <tr>\n",
       "      <th>aon</th>\n",
       "      <td>0.041272</td>\n",
       "      <td>0.031618</td>\n",
       "      <td>0.070913</td>\n",
       "      <td>-0.051094</td>\n",
       "      <td>-0.058321</td>\n",
       "      <td>-0.036139</td>\n",
       "      <td>-0.007856</td>\n",
       "      <td>-0.019267</td>\n",
       "      <td>0.004592</td>\n",
       "      <td>0.022115</td>\n",
       "      <td>...</td>\n",
       "      <td>0.027045</td>\n",
       "      <td>0.023627</td>\n",
       "      <td>0.017619</td>\n",
       "      <td>0.012077</td>\n",
       "      <td>-0.057057</td>\n",
       "      <td>-0.057474</td>\n",
       "      <td>-0.037432</td>\n",
       "      <td>-0.038592</td>\n",
       "      <td>-0.044753</td>\n",
       "      <td>-0.109117</td>\n",
       "    </tr>\n",
       "    <tr>\n",
       "      <th>aug_vbc_3g</th>\n",
       "      <td>0.058837</td>\n",
       "      <td>0.083545</td>\n",
       "      <td>0.146394</td>\n",
       "      <td>-0.104990</td>\n",
       "      <td>-0.103066</td>\n",
       "      <td>-0.084375</td>\n",
       "      <td>-0.093339</td>\n",
       "      <td>-0.094018</td>\n",
       "      <td>-0.064109</td>\n",
       "      <td>0.007527</td>\n",
       "      <td>...</td>\n",
       "      <td>1.000000</td>\n",
       "      <td>0.697223</td>\n",
       "      <td>0.577951</td>\n",
       "      <td>0.193432</td>\n",
       "      <td>0.166218</td>\n",
       "      <td>0.225215</td>\n",
       "      <td>0.166813</td>\n",
       "      <td>0.231073</td>\n",
       "      <td>0.234931</td>\n",
       "      <td>-0.090287</td>\n",
       "    </tr>\n",
       "    <tr>\n",
       "      <th>jul_vbc_3g</th>\n",
       "      <td>0.055373</td>\n",
       "      <td>0.102169</td>\n",
       "      <td>0.085114</td>\n",
       "      <td>-0.110913</td>\n",
       "      <td>-0.108839</td>\n",
       "      <td>-0.091661</td>\n",
       "      <td>-0.102188</td>\n",
       "      <td>-0.103996</td>\n",
       "      <td>-0.077817</td>\n",
       "      <td>-0.002358</td>\n",
       "      <td>...</td>\n",
       "      <td>0.697223</td>\n",
       "      <td>1.000000</td>\n",
       "      <td>0.667496</td>\n",
       "      <td>0.149011</td>\n",
       "      <td>0.197085</td>\n",
       "      <td>0.285125</td>\n",
       "      <td>0.193573</td>\n",
       "      <td>0.290982</td>\n",
       "      <td>0.286338</td>\n",
       "      <td>-0.055117</td>\n",
       "    </tr>\n",
       "    <tr>\n",
       "      <th>jun_vbc_3g</th>\n",
       "      <td>0.112206</td>\n",
       "      <td>0.055121</td>\n",
       "      <td>0.073724</td>\n",
       "      <td>-0.102253</td>\n",
       "      <td>-0.106994</td>\n",
       "      <td>-0.083225</td>\n",
       "      <td>-0.087114</td>\n",
       "      <td>-0.099186</td>\n",
       "      <td>-0.071355</td>\n",
       "      <td>0.011203</td>\n",
       "      <td>...</td>\n",
       "      <td>0.577951</td>\n",
       "      <td>0.667496</td>\n",
       "      <td>1.000000</td>\n",
       "      <td>0.138163</td>\n",
       "      <td>0.269508</td>\n",
       "      <td>0.201935</td>\n",
       "      <td>0.277746</td>\n",
       "      <td>0.198919</td>\n",
       "      <td>0.279554</td>\n",
       "      <td>-0.030925</td>\n",
       "    </tr>\n",
       "    <tr>\n",
       "      <th>sep_vbc_3g</th>\n",
       "      <td>0.045143</td>\n",
       "      <td>0.059089</td>\n",
       "      <td>0.104801</td>\n",
       "      <td>-0.034119</td>\n",
       "      <td>-0.033976</td>\n",
       "      <td>-0.029142</td>\n",
       "      <td>-0.019576</td>\n",
       "      <td>-0.021006</td>\n",
       "      <td>-0.011492</td>\n",
       "      <td>0.006639</td>\n",
       "      <td>...</td>\n",
       "      <td>0.193432</td>\n",
       "      <td>0.149011</td>\n",
       "      <td>0.138163</td>\n",
       "      <td>1.000000</td>\n",
       "      <td>0.066609</td>\n",
       "      <td>0.076194</td>\n",
       "      <td>0.073225</td>\n",
       "      <td>0.088333</td>\n",
       "      <td>0.095258</td>\n",
       "      <td>-0.043677</td>\n",
       "    </tr>\n",
       "    <tr>\n",
       "      <th>rech_data_6_total</th>\n",
       "      <td>0.089110</td>\n",
       "      <td>-0.013729</td>\n",
       "      <td>-0.004020</td>\n",
       "      <td>-0.098787</td>\n",
       "      <td>-0.101599</td>\n",
       "      <td>-0.086766</td>\n",
       "      <td>-0.110378</td>\n",
       "      <td>-0.116278</td>\n",
       "      <td>-0.094247</td>\n",
       "      <td>-0.027176</td>\n",
       "      <td>...</td>\n",
       "      <td>0.166218</td>\n",
       "      <td>0.197085</td>\n",
       "      <td>0.269508</td>\n",
       "      <td>0.066609</td>\n",
       "      <td>1.000000</td>\n",
       "      <td>0.464224</td>\n",
       "      <td>0.934173</td>\n",
       "      <td>0.412715</td>\n",
       "      <td>0.786293</td>\n",
       "      <td>-0.009918</td>\n",
       "    </tr>\n",
       "    <tr>\n",
       "      <th>rech_data_7_total</th>\n",
       "      <td>-0.023862</td>\n",
       "      <td>0.091538</td>\n",
       "      <td>0.028596</td>\n",
       "      <td>-0.101304</td>\n",
       "      <td>-0.099503</td>\n",
       "      <td>-0.077776</td>\n",
       "      <td>-0.129202</td>\n",
       "      <td>-0.122034</td>\n",
       "      <td>-0.102169</td>\n",
       "      <td>-0.022674</td>\n",
       "      <td>...</td>\n",
       "      <td>0.225215</td>\n",
       "      <td>0.285125</td>\n",
       "      <td>0.201935</td>\n",
       "      <td>0.076194</td>\n",
       "      <td>0.464224</td>\n",
       "      <td>1.000000</td>\n",
       "      <td>0.409331</td>\n",
       "      <td>0.934690</td>\n",
       "      <td>0.797320</td>\n",
       "      <td>-0.037759</td>\n",
       "    </tr>\n",
       "    <tr>\n",
       "      <th>Total rech_6</th>\n",
       "      <td>0.419419</td>\n",
       "      <td>0.230773</td>\n",
       "      <td>0.215430</td>\n",
       "      <td>0.027959</td>\n",
       "      <td>-0.014524</td>\n",
       "      <td>-0.009964</td>\n",
       "      <td>0.076745</td>\n",
       "      <td>0.016966</td>\n",
       "      <td>0.020232</td>\n",
       "      <td>0.019186</td>\n",
       "      <td>...</td>\n",
       "      <td>0.166813</td>\n",
       "      <td>0.193573</td>\n",
       "      <td>0.277746</td>\n",
       "      <td>0.073225</td>\n",
       "      <td>0.934173</td>\n",
       "      <td>0.409331</td>\n",
       "      <td>1.000000</td>\n",
       "      <td>0.443526</td>\n",
       "      <td>0.842737</td>\n",
       "      <td>0.014483</td>\n",
       "    </tr>\n",
       "    <tr>\n",
       "      <th>Total rech_7</th>\n",
       "      <td>0.211270</td>\n",
       "      <td>0.419401</td>\n",
       "      <td>0.295716</td>\n",
       "      <td>-0.020083</td>\n",
       "      <td>0.018716</td>\n",
       "      <td>0.022254</td>\n",
       "      <td>0.003750</td>\n",
       "      <td>0.058003</td>\n",
       "      <td>0.045225</td>\n",
       "      <td>0.010767</td>\n",
       "      <td>...</td>\n",
       "      <td>0.231073</td>\n",
       "      <td>0.290982</td>\n",
       "      <td>0.198919</td>\n",
       "      <td>0.088333</td>\n",
       "      <td>0.412715</td>\n",
       "      <td>0.934690</td>\n",
       "      <td>0.443526</td>\n",
       "      <td>1.000000</td>\n",
       "      <td>0.856256</td>\n",
       "      <td>-0.039797</td>\n",
       "    </tr>\n",
       "    <tr>\n",
       "      <th>avg_amt_6_7</th>\n",
       "      <td>0.368623</td>\n",
       "      <td>0.384910</td>\n",
       "      <td>0.301778</td>\n",
       "      <td>0.004051</td>\n",
       "      <td>0.002871</td>\n",
       "      <td>0.007624</td>\n",
       "      <td>0.046484</td>\n",
       "      <td>0.044617</td>\n",
       "      <td>0.038824</td>\n",
       "      <td>0.017525</td>\n",
       "      <td>...</td>\n",
       "      <td>0.234931</td>\n",
       "      <td>0.286338</td>\n",
       "      <td>0.279554</td>\n",
       "      <td>0.095258</td>\n",
       "      <td>0.786293</td>\n",
       "      <td>0.797320</td>\n",
       "      <td>0.842737</td>\n",
       "      <td>0.856256</td>\n",
       "      <td>1.000000</td>\n",
       "      <td>-0.015556</td>\n",
       "    </tr>\n",
       "    <tr>\n",
       "      <th>churn</th>\n",
       "      <td>0.065642</td>\n",
       "      <td>-0.011052</td>\n",
       "      <td>-0.159777</td>\n",
       "      <td>0.077764</td>\n",
       "      <td>0.027333</td>\n",
       "      <td>-0.033193</td>\n",
       "      <td>0.071395</td>\n",
       "      <td>0.018751</td>\n",
       "      <td>-0.060208</td>\n",
       "      <td>0.053387</td>\n",
       "      <td>...</td>\n",
       "      <td>-0.090287</td>\n",
       "      <td>-0.055117</td>\n",
       "      <td>-0.030925</td>\n",
       "      <td>-0.043677</td>\n",
       "      <td>-0.009918</td>\n",
       "      <td>-0.037759</td>\n",
       "      <td>0.014483</td>\n",
       "      <td>-0.039797</td>\n",
       "      <td>-0.015556</td>\n",
       "      <td>1.000000</td>\n",
       "    </tr>\n",
       "  </tbody>\n",
       "</table>\n",
       "<p>107 rows × 107 columns</p>\n",
       "</div>"
      ],
      "text/plain": [
       "                     arpu_6    arpu_7    arpu_8  onnet_mou_6  onnet_mou_7  \\\n",
       "arpu_6             1.000000  0.673890  0.614850     0.336680     0.216372   \n",
       "arpu_7             0.673890  1.000000  0.759918     0.210143     0.314374   \n",
       "arpu_8             0.614850  0.759918  1.000000     0.149375     0.228362   \n",
       "onnet_mou_6        0.336680  0.210143  0.149375     1.000000     0.750729   \n",
       "onnet_mou_7        0.216372  0.314374  0.228362     0.750729     1.000000   \n",
       "onnet_mou_8        0.189865  0.261969  0.331684     0.623379     0.804208   \n",
       "offnet_mou_6       0.503186  0.350875  0.276933     0.083074     0.049301   \n",
       "offnet_mou_7       0.341108  0.482936  0.370811     0.032867     0.077852   \n",
       "offnet_mou_8       0.291456  0.386513  0.505523     0.034148     0.066843   \n",
       "roam_ic_mou_6      0.124468  0.091613  0.086920     0.022285     0.036976   \n",
       "roam_ic_mou_7      0.083454  0.091537  0.075989     0.023526     0.006666   \n",
       "roam_ic_mou_8      0.091067  0.090747  0.105062     0.043455     0.034607   \n",
       "roam_og_mou_6      0.193622  0.132633  0.127220     0.075074     0.080194   \n",
       "roam_og_mou_7      0.143380  0.177333  0.139405     0.074509     0.066588   \n",
       "roam_og_mou_8      0.125832  0.148654  0.192735     0.072225     0.080985   \n",
       "loc_og_mou_6       0.322348  0.211648  0.205902     0.290101     0.198764   \n",
       "loc_og_mou_7       0.246894  0.296860  0.258626     0.221321     0.300140   \n",
       "loc_og_mou_8       0.227920  0.245504  0.327574     0.187777     0.232229   \n",
       "std_og_mou_6       0.380325  0.247334  0.148494     0.625309     0.466829   \n",
       "std_og_mou_7       0.230870  0.375422  0.254126     0.447699     0.623831   \n",
       "std_og_mou_8       0.185396  0.297237  0.386341     0.371508     0.504859   \n",
       "isd_og_mou_6       0.467276  0.417040  0.394498    -0.015336    -0.013289   \n",
       "isd_og_mou_7       0.421577  0.508579  0.437533    -0.015835    -0.014553   \n",
       "isd_og_mou_8       0.414536  0.451791  0.453813    -0.013748    -0.012626   \n",
       "spl_og_mou_6       0.118770  0.065878  0.098316     0.095789     0.059666   \n",
       "spl_og_mou_7       0.068735  0.110754  0.121643     0.077070     0.107708   \n",
       "spl_og_mou_8       0.046421  0.064293  0.097303     0.082996     0.105796   \n",
       "og_others_6        0.052782  0.017213  0.012253     0.053046     0.027321   \n",
       "og_others_7        0.024368  0.025880  0.015584    -0.000705    -0.000591   \n",
       "og_others_8        0.015564  0.017519  0.011764    -0.003387     0.002198   \n",
       "...                     ...       ...       ...          ...          ...   \n",
       "vol_3g_mb_8        0.084933  0.117680  0.188343    -0.093900    -0.090389   \n",
       "night_pck_user_6   0.014175 -0.003247 -0.006162    -0.000391    -0.005046   \n",
       "night_pck_user_7  -0.004990  0.008788  0.004271    -0.004581     0.008456   \n",
       "night_pck_user_8   0.009710  0.018681  0.028719     0.017073     0.035554   \n",
       "monthly_2g_6      -0.038854 -0.081154 -0.053042    -0.107206    -0.112395   \n",
       "monthly_2g_7      -0.083853 -0.033438 -0.039188    -0.115068    -0.113961   \n",
       "monthly_2g_8      -0.060908 -0.048144  0.013437    -0.098770    -0.097434   \n",
       "sachet_2g_6       -0.158860 -0.183455 -0.153765    -0.131772    -0.133487   \n",
       "sachet_2g_7       -0.194322 -0.151892 -0.137655    -0.130825    -0.122059   \n",
       "sachet_2g_8       -0.152365 -0.132728 -0.075097    -0.108251    -0.100140   \n",
       "monthly_3g_6       0.176918  0.084529  0.089644    -0.081778    -0.084249   \n",
       "monthly_3g_7       0.081124  0.190621  0.123247    -0.082764    -0.081449   \n",
       "monthly_3g_8       0.103863  0.132428  0.223722    -0.075896    -0.076312   \n",
       "sachet_3g_6       -0.002547 -0.027453 -0.022386    -0.053433    -0.053765   \n",
       "sachet_3g_7       -0.025182  0.010745 -0.002303    -0.045542    -0.050519   \n",
       "sachet_3g_8       -0.017355  0.000923  0.045390    -0.045178    -0.039826   \n",
       "fb_user_6         -0.120347 -0.184654 -0.130863    -0.265405    -0.271157   \n",
       "fb_user_7         -0.197370 -0.117756 -0.102908    -0.275292    -0.269509   \n",
       "fb_user_8         -0.139852 -0.102191  0.007663    -0.233759    -0.222089   \n",
       "aon                0.041272  0.031618  0.070913    -0.051094    -0.058321   \n",
       "aug_vbc_3g         0.058837  0.083545  0.146394    -0.104990    -0.103066   \n",
       "jul_vbc_3g         0.055373  0.102169  0.085114    -0.110913    -0.108839   \n",
       "jun_vbc_3g         0.112206  0.055121  0.073724    -0.102253    -0.106994   \n",
       "sep_vbc_3g         0.045143  0.059089  0.104801    -0.034119    -0.033976   \n",
       "rech_data_6_total  0.089110 -0.013729 -0.004020    -0.098787    -0.101599   \n",
       "rech_data_7_total -0.023862  0.091538  0.028596    -0.101304    -0.099503   \n",
       "Total rech_6       0.419419  0.230773  0.215430     0.027959    -0.014524   \n",
       "Total rech_7       0.211270  0.419401  0.295716    -0.020083     0.018716   \n",
       "avg_amt_6_7        0.368623  0.384910  0.301778     0.004051     0.002871   \n",
       "churn              0.065642 -0.011052 -0.159777     0.077764     0.027333   \n",
       "\n",
       "                   onnet_mou_8  offnet_mou_6  offnet_mou_7  offnet_mou_8  \\\n",
       "arpu_6                0.189865      0.503186      0.341108      0.291456   \n",
       "arpu_7                0.261969      0.350875      0.482936      0.386513   \n",
       "arpu_8                0.331684      0.276933      0.370811      0.505523   \n",
       "onnet_mou_6           0.623379      0.083074      0.032867      0.034148   \n",
       "onnet_mou_7           0.804208      0.049301      0.077852      0.066843   \n",
       "onnet_mou_8           1.000000      0.060984      0.080573      0.117753   \n",
       "offnet_mou_6          0.060984      1.000000      0.738677      0.585810   \n",
       "offnet_mou_7          0.080573      0.738677      1.000000      0.764275   \n",
       "offnet_mou_8          0.117753      0.585810      0.764275      1.000000   \n",
       "roam_ic_mou_6         0.050030      0.045584      0.060886      0.070330   \n",
       "roam_ic_mou_7         0.018601      0.040497      0.036850      0.038735   \n",
       "roam_ic_mou_8         0.019631      0.056898      0.055579      0.043211   \n",
       "roam_og_mou_6         0.096236      0.117270      0.111390      0.119896   \n",
       "roam_og_mou_7         0.082141      0.100606      0.107174      0.094025   \n",
       "roam_og_mou_8         0.092154      0.103231      0.117254      0.127114   \n",
       "loc_og_mou_6          0.187931      0.371259      0.234644      0.224549   \n",
       "loc_og_mou_7          0.251068      0.279074      0.334004      0.283808   \n",
       "loc_og_mou_8          0.324027      0.248762      0.265343      0.368019   \n",
       "std_og_mou_6          0.383590      0.591512      0.435050      0.319757   \n",
       "std_og_mou_7          0.505982      0.425998      0.616311      0.456904   \n",
       "std_og_mou_8          0.635303      0.334641      0.477418      0.626756   \n",
       "isd_og_mou_6         -0.012673      0.079478      0.067643      0.072824   \n",
       "isd_og_mou_7         -0.013856      0.073679      0.073803      0.074465   \n",
       "isd_og_mou_8         -0.012247      0.073955      0.071155      0.081030   \n",
       "spl_og_mou_6          0.051958      0.124200      0.073708      0.056568   \n",
       "spl_og_mou_7          0.077222      0.075367      0.119898      0.082519   \n",
       "spl_og_mou_8          0.127393      0.065514      0.084474      0.114476   \n",
       "og_others_6           0.018100      0.055392      0.021966      0.013617   \n",
       "og_others_7          -0.002038      0.017252      0.015775      0.008085   \n",
       "og_others_8          -0.001835      0.015516      0.013762      0.010719   \n",
       "...                        ...           ...           ...           ...   \n",
       "vol_3g_mb_8          -0.073101     -0.094915     -0.091956     -0.064168   \n",
       "night_pck_user_6     -0.000183     -0.026592     -0.025932     -0.023007   \n",
       "night_pck_user_7      0.009328     -0.021878     -0.022014     -0.020969   \n",
       "night_pck_user_8      0.042438     -0.018077     -0.012334     -0.007030   \n",
       "monthly_2g_6         -0.098526     -0.109347     -0.110408     -0.090085   \n",
       "monthly_2g_7         -0.098440     -0.114120     -0.106342     -0.083210   \n",
       "monthly_2g_8         -0.083134     -0.100682     -0.095830     -0.072166   \n",
       "sachet_2g_6          -0.115298     -0.167161     -0.172215     -0.147839   \n",
       "sachet_2g_7          -0.106287     -0.171403     -0.162097     -0.141450   \n",
       "sachet_2g_8          -0.080992     -0.137208     -0.132938     -0.111367   \n",
       "monthly_3g_6         -0.072342     -0.070679     -0.078621     -0.057707   \n",
       "monthly_3g_7         -0.067547     -0.075972     -0.071246     -0.053321   \n",
       "monthly_3g_8         -0.059915     -0.059807     -0.058983     -0.032930   \n",
       "sachet_3g_6          -0.046420     -0.073810     -0.075328     -0.062354   \n",
       "sachet_3g_7          -0.038532     -0.074925     -0.071883     -0.059542   \n",
       "sachet_3g_8          -0.033782     -0.059028     -0.057853     -0.039847   \n",
       "fb_user_6            -0.236517     -0.285018     -0.301294     -0.247799   \n",
       "fb_user_7            -0.235153     -0.296148     -0.287136     -0.241666   \n",
       "fb_user_8            -0.187058     -0.249844     -0.241873     -0.192539   \n",
       "aon                  -0.036139     -0.007856     -0.019267      0.004592   \n",
       "aug_vbc_3g           -0.084375     -0.093339     -0.094018     -0.064109   \n",
       "jul_vbc_3g           -0.091661     -0.102188     -0.103996     -0.077817   \n",
       "jun_vbc_3g           -0.083225     -0.087114     -0.099186     -0.071355   \n",
       "sep_vbc_3g           -0.029142     -0.019576     -0.021006     -0.011492   \n",
       "rech_data_6_total    -0.086766     -0.110378     -0.116278     -0.094247   \n",
       "rech_data_7_total    -0.077776     -0.129202     -0.122034     -0.102169   \n",
       "Total rech_6         -0.009964      0.076745      0.016966      0.020232   \n",
       "Total rech_7          0.022254      0.003750      0.058003      0.045225   \n",
       "avg_amt_6_7           0.007624      0.046484      0.044617      0.038824   \n",
       "churn                -0.033193      0.071395      0.018751     -0.060208   \n",
       "\n",
       "                   roam_ic_mou_6  ...  aug_vbc_3g  jul_vbc_3g  jun_vbc_3g  \\\n",
       "arpu_6                  0.124468  ...    0.058837    0.055373    0.112206   \n",
       "arpu_7                  0.091613  ...    0.083545    0.102169    0.055121   \n",
       "arpu_8                  0.086920  ...    0.146394    0.085114    0.073724   \n",
       "onnet_mou_6             0.022285  ...   -0.104990   -0.110913   -0.102253   \n",
       "onnet_mou_7             0.036976  ...   -0.103066   -0.108839   -0.106994   \n",
       "onnet_mou_8             0.050030  ...   -0.084375   -0.091661   -0.083225   \n",
       "offnet_mou_6            0.045584  ...   -0.093339   -0.102188   -0.087114   \n",
       "offnet_mou_7            0.060886  ...   -0.094018   -0.103996   -0.099186   \n",
       "offnet_mou_8            0.070330  ...   -0.064109   -0.077817   -0.071355   \n",
       "roam_ic_mou_6           1.000000  ...    0.007527   -0.002358    0.011203   \n",
       "roam_ic_mou_7           0.510178  ...    0.010751    0.010394    0.023286   \n",
       "roam_ic_mou_8           0.372345  ...    0.011619    0.018169    0.021013   \n",
       "roam_og_mou_6           0.645453  ...   -0.014803   -0.023772   -0.012651   \n",
       "roam_og_mou_7           0.368852  ...   -0.011471   -0.013570   -0.002024   \n",
       "roam_og_mou_8           0.241672  ...   -0.003717   -0.006961    0.007083   \n",
       "loc_og_mou_6           -0.045898  ...    0.000053   -0.013418   -0.004351   \n",
       "loc_og_mou_7            0.002119  ...   -0.001325   -0.016297   -0.015214   \n",
       "loc_og_mou_8            0.023215  ...    0.011171   -0.002409    0.004411   \n",
       "std_og_mou_6           -0.040799  ...   -0.150109   -0.151163   -0.140634   \n",
       "std_og_mou_7            0.019192  ...   -0.148175   -0.150983   -0.147738   \n",
       "std_og_mou_8            0.038110  ...   -0.120592   -0.127412   -0.122329   \n",
       "isd_og_mou_6           -0.004199  ...    0.002667   -0.003644   -0.005227   \n",
       "isd_og_mou_7           -0.004972  ...    0.005649    0.002205   -0.002207   \n",
       "isd_og_mou_8           -0.004194  ...    0.007993   -0.000176   -0.001402   \n",
       "spl_og_mou_6           -0.034164  ...   -0.023900   -0.018095   -0.007365   \n",
       "spl_og_mou_7           -0.014753  ...   -0.027527   -0.022858   -0.031948   \n",
       "spl_og_mou_8           -0.009229  ...   -0.015868   -0.022958   -0.023981   \n",
       "og_others_6            -0.019817  ...   -0.030539   -0.030552   -0.025342   \n",
       "og_others_7             0.000045  ...   -0.002346    0.014771   -0.002395   \n",
       "og_others_8             0.000233  ...   -0.004139    0.002513   -0.001938   \n",
       "...                          ...  ...         ...         ...         ...   \n",
       "vol_3g_mb_8            -0.003603  ...    0.607443    0.456221    0.423872   \n",
       "night_pck_user_6       -0.014131  ...    0.021766    0.037178    0.044075   \n",
       "night_pck_user_7       -0.010533  ...    0.021912    0.032082    0.024341   \n",
       "night_pck_user_8       -0.008439  ...    0.030914    0.024607    0.028259   \n",
       "monthly_2g_6           -0.025372  ...    0.150748    0.154386    0.175155   \n",
       "monthly_2g_7           -0.020620  ...    0.170981    0.175767    0.126858   \n",
       "monthly_2g_8           -0.024196  ...    0.195279    0.153328    0.129570   \n",
       "sachet_2g_6            -0.051518  ...   -0.026222   -0.023466   -0.011924   \n",
       "sachet_2g_7            -0.038938  ...   -0.028526   -0.023943   -0.036653   \n",
       "sachet_2g_8            -0.033265  ...   -0.007237   -0.024463   -0.032786   \n",
       "monthly_3g_6            0.007745  ...    0.325545    0.360464    0.455146   \n",
       "monthly_3g_7            0.004215  ...    0.374775    0.439869    0.345166   \n",
       "monthly_3g_8            0.010322  ...    0.456782    0.377455    0.345977   \n",
       "sachet_3g_6            -0.021888  ...    0.053220    0.066110    0.064912   \n",
       "sachet_3g_7            -0.020747  ...    0.052626    0.064118    0.051939   \n",
       "sachet_3g_8            -0.016293  ...    0.061566    0.049681    0.046142   \n",
       "fb_user_6              -0.051568  ...    0.280191    0.294317    0.321850   \n",
       "fb_user_7              -0.053648  ...    0.310726    0.326725    0.268500   \n",
       "fb_user_8              -0.043288  ...    0.342590    0.297214    0.260761   \n",
       "aon                     0.022115  ...    0.027045    0.023627    0.017619   \n",
       "aug_vbc_3g              0.007527  ...    1.000000    0.697223    0.577951   \n",
       "jul_vbc_3g             -0.002358  ...    0.697223    1.000000    0.667496   \n",
       "jun_vbc_3g              0.011203  ...    0.577951    0.667496    1.000000   \n",
       "sep_vbc_3g              0.006639  ...    0.193432    0.149011    0.138163   \n",
       "rech_data_6_total      -0.027176  ...    0.166218    0.197085    0.269508   \n",
       "rech_data_7_total      -0.022674  ...    0.225215    0.285125    0.201935   \n",
       "Total rech_6            0.019186  ...    0.166813    0.193573    0.277746   \n",
       "Total rech_7            0.010767  ...    0.231073    0.290982    0.198919   \n",
       "avg_amt_6_7             0.017525  ...    0.234931    0.286338    0.279554   \n",
       "churn                   0.053387  ...   -0.090287   -0.055117   -0.030925   \n",
       "\n",
       "                   sep_vbc_3g  rech_data_6_total  rech_data_7_total  \\\n",
       "arpu_6               0.045143           0.089110          -0.023862   \n",
       "arpu_7               0.059089          -0.013729           0.091538   \n",
       "arpu_8               0.104801          -0.004020           0.028596   \n",
       "onnet_mou_6         -0.034119          -0.098787          -0.101304   \n",
       "onnet_mou_7         -0.033976          -0.101599          -0.099503   \n",
       "onnet_mou_8         -0.029142          -0.086766          -0.077776   \n",
       "offnet_mou_6        -0.019576          -0.110378          -0.129202   \n",
       "offnet_mou_7        -0.021006          -0.116278          -0.122034   \n",
       "offnet_mou_8        -0.011492          -0.094247          -0.102169   \n",
       "roam_ic_mou_6        0.006639          -0.027176          -0.022674   \n",
       "roam_ic_mou_7        0.007657          -0.017023          -0.022481   \n",
       "roam_ic_mou_8        0.011155          -0.015496          -0.013236   \n",
       "roam_og_mou_6       -0.000523          -0.039300          -0.035726   \n",
       "roam_og_mou_7        0.002350          -0.030845          -0.032750   \n",
       "roam_og_mou_8        0.012732          -0.025874          -0.025653   \n",
       "loc_og_mou_6         0.002673          -0.062817          -0.079649   \n",
       "loc_og_mou_7         0.000921          -0.069777          -0.079741   \n",
       "loc_og_mou_8         0.004447          -0.059874          -0.067938   \n",
       "std_og_mou_6        -0.044266          -0.115355          -0.121710   \n",
       "std_og_mou_7        -0.044472          -0.120745          -0.117962   \n",
       "std_og_mou_8        -0.036101          -0.098945          -0.093760   \n",
       "isd_og_mou_6        -0.002427          -0.007013          -0.010088   \n",
       "isd_og_mou_7        -0.000431          -0.005092          -0.004867   \n",
       "isd_og_mou_8         0.000330          -0.006368          -0.007860   \n",
       "spl_og_mou_6         0.056729           0.014470          -0.001882   \n",
       "spl_og_mou_7         0.051836          -0.004683           0.010451   \n",
       "spl_og_mou_8         0.012238          -0.009517           0.001899   \n",
       "og_others_6          0.001688           0.000181          -0.006544   \n",
       "og_others_7         -0.002010           0.000125           0.006452   \n",
       "og_others_8         -0.002292          -0.002647          -0.001566   \n",
       "...                       ...                ...                ...   \n",
       "vol_3g_mb_8          0.125203           0.309842           0.378411   \n",
       "night_pck_user_6     0.034885           0.140656           0.085861   \n",
       "night_pck_user_7     0.031148           0.082313           0.113460   \n",
       "night_pck_user_8     0.031567           0.092708           0.102164   \n",
       "monthly_2g_6         0.019381           0.042556          -0.012720   \n",
       "monthly_2g_7         0.024214           0.003490           0.031754   \n",
       "monthly_2g_8         0.030955           0.015693           0.011974   \n",
       "sachet_2g_6          0.042172           0.484129           0.333220   \n",
       "sachet_2g_7          0.040735           0.303771           0.529522   \n",
       "sachet_2g_8          0.054278           0.278180           0.366574   \n",
       "monthly_3g_6         0.060111           0.398873           0.231922   \n",
       "monthly_3g_7         0.072059           0.207281           0.421464   \n",
       "monthly_3g_8         0.106559           0.188509           0.256571   \n",
       "sachet_3g_6          0.060095           0.450369           0.303232   \n",
       "sachet_3g_7          0.048534           0.320127           0.490771   \n",
       "sachet_3g_8          0.052378           0.284393           0.359136   \n",
       "fb_user_6            0.085589           0.301843           0.251926   \n",
       "fb_user_7            0.086429           0.238729           0.325181   \n",
       "fb_user_8            0.109160           0.230760           0.283920   \n",
       "aon                  0.012077          -0.057057          -0.057474   \n",
       "aug_vbc_3g           0.193432           0.166218           0.225215   \n",
       "jul_vbc_3g           0.149011           0.197085           0.285125   \n",
       "jun_vbc_3g           0.138163           0.269508           0.201935   \n",
       "sep_vbc_3g           1.000000           0.066609           0.076194   \n",
       "rech_data_6_total    0.066609           1.000000           0.464224   \n",
       "rech_data_7_total    0.076194           0.464224           1.000000   \n",
       "Total rech_6         0.073225           0.934173           0.409331   \n",
       "Total rech_7         0.088333           0.412715           0.934690   \n",
       "avg_amt_6_7          0.095258           0.786293           0.797320   \n",
       "churn               -0.043677          -0.009918          -0.037759   \n",
       "\n",
       "                   Total rech_6  Total rech_7  avg_amt_6_7     churn  \n",
       "arpu_6                 0.419419      0.211270     0.368623  0.065642  \n",
       "arpu_7                 0.230773      0.419401     0.384910 -0.011052  \n",
       "arpu_8                 0.215430      0.295716     0.301778 -0.159777  \n",
       "onnet_mou_6            0.027959     -0.020083     0.004051  0.077764  \n",
       "onnet_mou_7           -0.014524      0.018716     0.002871  0.027333  \n",
       "onnet_mou_8           -0.009964      0.022254     0.007624 -0.033193  \n",
       "offnet_mou_6           0.076745      0.003750     0.046484  0.071395  \n",
       "offnet_mou_7           0.016966      0.058003     0.044617  0.018751  \n",
       "offnet_mou_8           0.020232      0.045225     0.038824 -0.060208  \n",
       "roam_ic_mou_6          0.019186      0.010767     0.017525  0.053387  \n",
       "roam_ic_mou_7          0.014508      0.012203     0.015692  0.071773  \n",
       "roam_ic_mou_8          0.018222      0.021142     0.023201  0.074465  \n",
       "roam_og_mou_6          0.034844      0.015545     0.029419  0.068277  \n",
       "roam_og_mou_7          0.025966      0.034986     0.035979  0.097692  \n",
       "roam_og_mou_8          0.025228      0.032114     0.033829  0.084833  \n",
       "loc_og_mou_6           0.055295      0.001797     0.032948 -0.052634  \n",
       "loc_og_mou_7           0.024651      0.030920     0.032779 -0.079922  \n",
       "loc_og_mou_8           0.027429      0.026041     0.031450 -0.095708  \n",
       "std_og_mou_6           0.028658     -0.026319     0.000709  0.133404  \n",
       "std_og_mou_7          -0.026494      0.023851    -0.000944  0.066927  \n",
       "std_og_mou_8          -0.022330      0.020713    -0.000428 -0.029261  \n",
       "isd_og_mou_6           0.157708      0.130690     0.169390  0.014769  \n",
       "isd_og_mou_7           0.146122      0.168829     0.185621  0.007721  \n",
       "isd_og_mou_8           0.141694      0.145378     0.168983 -0.000908  \n",
       "spl_og_mou_6           0.051525      0.016609     0.039672  0.027645  \n",
       "spl_og_mou_7           0.016995      0.043766     0.036082  0.010153  \n",
       "spl_og_mou_8           0.006950      0.022298     0.017398 -0.028154  \n",
       "og_others_6            0.016666     -0.000532     0.009286  0.012481  \n",
       "og_others_7            0.005715      0.012390     0.010736  0.014177  \n",
       "og_others_8            0.000860      0.002315     0.001886  0.009364  \n",
       "...                         ...           ...          ...       ...  \n",
       "vol_3g_mb_8            0.306932      0.381113     0.405807 -0.085102  \n",
       "night_pck_user_6       0.131738      0.075632     0.121353  0.005391  \n",
       "night_pck_user_7       0.072245      0.105001     0.104705 -0.008069  \n",
       "night_pck_user_8       0.086691      0.098310     0.109012 -0.021455  \n",
       "monthly_2g_6           0.024107     -0.041163    -0.010830 -0.054739  \n",
       "monthly_2g_7          -0.028090      0.017493    -0.005683 -0.073520  \n",
       "monthly_2g_8          -0.009074     -0.006771    -0.009297 -0.095108  \n",
       "sachet_2g_6            0.381097      0.236042     0.361416 -0.003537  \n",
       "sachet_2g_7            0.205465      0.424441     0.373352 -0.035858  \n",
       "sachet_2g_8            0.196976      0.284510     0.284411 -0.091650  \n",
       "monthly_3g_6           0.419530      0.235621     0.383314 -0.010073  \n",
       "monthly_3g_7           0.211586      0.446640     0.390213 -0.037983  \n",
       "monthly_3g_8           0.203518      0.275729     0.282908 -0.073910  \n",
       "sachet_3g_6            0.405456      0.263459     0.391923  0.010633  \n",
       "sachet_3g_7            0.279535      0.446405     0.429234 -0.001350  \n",
       "sachet_3g_8            0.250173      0.324138     0.338873 -0.036830  \n",
       "fb_user_6              0.225828      0.158614     0.225423 -0.053756  \n",
       "fb_user_7              0.140494      0.251168     0.231832 -0.099027  \n",
       "fb_user_8              0.153927      0.218585     0.220004 -0.198278  \n",
       "aon                   -0.037432     -0.038592    -0.044753 -0.109117  \n",
       "aug_vbc_3g             0.166813      0.231073     0.234931 -0.090287  \n",
       "jul_vbc_3g             0.193573      0.290982     0.286338 -0.055117  \n",
       "jun_vbc_3g             0.277746      0.198919     0.279554 -0.030925  \n",
       "sep_vbc_3g             0.073225      0.088333     0.095258 -0.043677  \n",
       "rech_data_6_total      0.934173      0.412715     0.786293 -0.009918  \n",
       "rech_data_7_total      0.409331      0.934690     0.797320 -0.037759  \n",
       "Total rech_6           1.000000      0.443526     0.842737  0.014483  \n",
       "Total rech_7           0.443526      1.000000     0.856256 -0.039797  \n",
       "avg_amt_6_7            0.842737      0.856256     1.000000 -0.015556  \n",
       "churn                  0.014483     -0.039797    -0.015556  1.000000  \n",
       "\n",
       "[107 rows x 107 columns]"
      ]
     },
     "execution_count": 54,
     "metadata": {},
     "output_type": "execute_result"
    }
   ],
   "source": [
    "hvc_clean.corr()"
   ]
  },
  {
   "cell_type": "code",
   "execution_count": 105,
   "metadata": {
    "colab": {
     "base_uri": "https://localhost:8080/",
     "height": 1000
    },
    "colab_type": "code",
    "id": "0vPhh9VZIU19",
    "outputId": "f1de9807-0f90-47cb-be45-ba018736c84e",
    "scrolled": true
   },
   "outputs": [
    {
     "data": {
      "text/plain": [
       "<Figure size 2500x2000 with 2 Axes>"
      ]
     },
     "metadata": {},
     "output_type": "display_data"
    }
   ],
   "source": [
    "import matplotlib.pyplot as plt \n",
    "import seaborn as sns\n",
    "plt.figure(figsize = (25, 20))\n",
    "\n",
    "sns.heatmap(hvc_clean.corr())\n",
    "\n",
    "plt.show()"
   ]
  },
  {
   "cell_type": "markdown",
   "metadata": {},
   "source": [
    "*****Features with high correlation***"
   ]
  },
  {
   "cell_type": "code",
   "execution_count": 55,
   "metadata": {
    "colab": {
     "base_uri": "https://localhost:8080/",
     "height": 139
    },
    "colab_type": "code",
    "id": "C9xoDsKgJD3C",
    "outputId": "a2dfbbc8-9098-4798-abdb-3d54b539cafa"
   },
   "outputs": [
    {
     "name": "stdout",
     "output_type": "stream",
     "text": [
      "List of highly correlated features from the above plot - \n",
      "\n",
      " ['onnet_mou_8', 'loc_og_mou_7', 'loc_og_mou_8', 'isd_og_mou_7', 'isd_og_mou_8', 'total_og_mou_6', 'total_og_mou_7', 'total_og_mou_8', 'loc_ic_mou_7', 'loc_ic_mou_8', 'total_ic_mou_6', 'total_ic_mou_7', 'total_ic_mou_8', 'total_rech_amt_6', 'total_rech_amt_7', 'total_rech_amt_8', 'count_rech_2g_6', 'count_rech_2g_7', 'count_rech_2g_8', 'sachet_2g_6', 'sachet_2g_7', 'sachet_2g_8', 'sachet_3g_6', 'sachet_3g_7', 'sachet_3g_8', 'Total rech_6', 'Total rech_7', 'avg_amt_6_7']\n",
      "\n",
      "\n",
      "Total features with high correlation -  28\n"
     ]
    }
   ],
   "source": [
    "corr_matrix = hvc_clean.corr().abs()\n",
    "\n",
    "#the matrix is symmetric so we need to extract upper triangle matrix without diagonal (k = 1)\n",
    "upper_triangle = (corr_matrix.where(np.triu(np.ones(corr_matrix.shape), k=1).astype(np.bool)))\n",
    "\n",
    "highly_correlated_features = [column for column in upper_triangle.columns if any(upper_triangle[column] > 0.80)]\n",
    "print(\"List of highly correlated features from the above plot - \\n\\n\", highly_correlated_features)\n",
    "print(\"\\n\\nTotal features with high correlation - \", len(highly_correlated_features))"
   ]
  },
  {
   "cell_type": "markdown",
   "metadata": {
    "colab_type": "text",
    "id": "S3-CostBK9k7"
   },
   "source": [
    "# Model Building"
   ]
  },
  {
   "cell_type": "markdown",
   "metadata": {},
   "source": [
    "#### SMOTE for Class Imbalance \n",
    "    Deriving Train and Test Data for Model building with PCA"
   ]
  },
  {
   "cell_type": "code",
   "execution_count": 56,
   "metadata": {
    "colab": {
     "base_uri": "https://localhost:8080/",
     "height": 85
    },
    "colab_type": "code",
    "id": "aSFpoZamLPj3",
    "outputId": "c1389434-6994-45c9-a5a9-ef50d08e4d5c"
   },
   "outputs": [
    {
     "name": "stderr",
     "output_type": "stream",
     "text": [
      "/Users/nisha/anaconda3/lib/python3.7/site-packages/sklearn/utils/deprecation.py:144: FutureWarning: The sklearn.neighbors.base module is  deprecated in version 0.22 and will be removed in version 0.24. The corresponding classes / functions should instead be imported from sklearn.neighbors. Anything that cannot be imported from sklearn.neighbors is now part of the private API.\n",
      "  warnings.warn(message, FutureWarning)\n",
      "/Users/nisha/anaconda3/lib/python3.7/site-packages/sklearn/utils/deprecation.py:144: FutureWarning: The sklearn.ensemble.bagging module is  deprecated in version 0.22 and will be removed in version 0.24. The corresponding classes / functions should instead be imported from sklearn.ensemble. Anything that cannot be imported from sklearn.ensemble is now part of the private API.\n",
      "  warnings.warn(message, FutureWarning)\n",
      "/Users/nisha/anaconda3/lib/python3.7/site-packages/sklearn/utils/deprecation.py:144: FutureWarning: The sklearn.ensemble.base module is  deprecated in version 0.22 and will be removed in version 0.24. The corresponding classes / functions should instead be imported from sklearn.ensemble. Anything that cannot be imported from sklearn.ensemble is now part of the private API.\n",
      "  warnings.warn(message, FutureWarning)\n",
      "/Users/nisha/anaconda3/lib/python3.7/site-packages/sklearn/utils/deprecation.py:144: FutureWarning: The sklearn.ensemble.forest module is  deprecated in version 0.22 and will be removed in version 0.24. The corresponding classes / functions should instead be imported from sklearn.ensemble. Anything that cannot be imported from sklearn.ensemble is now part of the private API.\n",
      "  warnings.warn(message, FutureWarning)\n",
      "/Users/nisha/anaconda3/lib/python3.7/site-packages/sklearn/utils/deprecation.py:144: FutureWarning: The sklearn.utils.testing module is  deprecated in version 0.22 and will be removed in version 0.24. The corresponding classes / functions should instead be imported from sklearn.utils. Anything that cannot be imported from sklearn.utils is now part of the private API.\n",
      "  warnings.warn(message, FutureWarning)\n",
      "/Users/nisha/anaconda3/lib/python3.7/site-packages/sklearn/utils/deprecation.py:144: FutureWarning: The sklearn.metrics.classification module is  deprecated in version 0.22 and will be removed in version 0.24. The corresponding classes / functions should instead be imported from sklearn.metrics. Anything that cannot be imported from sklearn.metrics is now part of the private API.\n",
      "  warnings.warn(message, FutureWarning)\n",
      "/Users/nisha/anaconda3/lib/python3.7/site-packages/sklearn/utils/validation.py:760: DataConversionWarning: A column-vector y was passed when a 1d array was expected. Please change the shape of y to (n_samples, ), for example using ravel().\n",
      "  y = column_or_1d(y, warn=True)\n",
      "/Users/nisha/anaconda3/lib/python3.7/site-packages/sklearn/utils/deprecation.py:87: FutureWarning: Function safe_indexing is deprecated; safe_indexing is deprecated in version 0.22 and will be removed in version 0.24.\n",
      "  warnings.warn(msg, category=FutureWarning)\n"
     ]
    },
    {
     "name": "stdout",
     "output_type": "stream",
     "text": [
      "(38483, 106)\n",
      "(38483,)\n",
      "(16493, 106)\n",
      "(16493,)\n"
     ]
    }
   ],
   "source": [
    "from imblearn.over_sampling import SMOTE\n",
    "from sklearn.model_selection import train_test_split, GridSearchCV\n",
    "X= hvc_clean.drop('churn', axis = 1)\n",
    "y = hvc_clean[['churn']]\n",
    "df_cols = X.columns\n",
    "X1=X\n",
    "y1=y\n",
    "###################\n",
    "sm = SMOTE(random_state=12, ratio = 1)\n",
    "X, y = sm.fit_sample(X, y)\n",
    "####################\n",
    "X_train, X_test, y_train, y_test = train_test_split(X, y, train_size = 0.7, test_size = 0.3)\n",
    "\n",
    "print(X_train.shape)\n",
    "print(y_train.shape)\n",
    "print(X_test.shape)\n",
    "print(y_test.shape)\n"
   ]
  },
  {
   "cell_type": "markdown",
   "metadata": {},
   "source": [
    "****Test Data and Train data after Class Imbalance for non PCA analysis *****"
   ]
  },
  {
   "cell_type": "code",
   "execution_count": 57,
   "metadata": {},
   "outputs": [
    {
     "data": {
      "text/html": [
       "<div>\n",
       "<style scoped>\n",
       "    .dataframe tbody tr th:only-of-type {\n",
       "        vertical-align: middle;\n",
       "    }\n",
       "\n",
       "    .dataframe tbody tr th {\n",
       "        vertical-align: top;\n",
       "    }\n",
       "\n",
       "    .dataframe thead th {\n",
       "        text-align: right;\n",
       "    }\n",
       "</style>\n",
       "<table border=\"1\" class=\"dataframe\">\n",
       "  <thead>\n",
       "    <tr style=\"text-align: right;\">\n",
       "      <th></th>\n",
       "      <th>arpu_6</th>\n",
       "      <th>arpu_7</th>\n",
       "      <th>arpu_8</th>\n",
       "      <th>onnet_mou_6</th>\n",
       "      <th>onnet_mou_7</th>\n",
       "      <th>onnet_mou_8</th>\n",
       "      <th>offnet_mou_6</th>\n",
       "      <th>offnet_mou_7</th>\n",
       "      <th>offnet_mou_8</th>\n",
       "      <th>roam_ic_mou_6</th>\n",
       "      <th>...</th>\n",
       "      <th>aon</th>\n",
       "      <th>aug_vbc_3g</th>\n",
       "      <th>jul_vbc_3g</th>\n",
       "      <th>jun_vbc_3g</th>\n",
       "      <th>sep_vbc_3g</th>\n",
       "      <th>rech_data_6_total</th>\n",
       "      <th>rech_data_7_total</th>\n",
       "      <th>Total rech_6</th>\n",
       "      <th>Total rech_7</th>\n",
       "      <th>avg_amt_6_7</th>\n",
       "    </tr>\n",
       "  </thead>\n",
       "  <tbody>\n",
       "    <tr>\n",
       "      <th>0</th>\n",
       "      <td>1821.176000</td>\n",
       "      <td>2018.948000</td>\n",
       "      <td>2014.693</td>\n",
       "      <td>39.360000</td>\n",
       "      <td>73.33000</td>\n",
       "      <td>16.730000</td>\n",
       "      <td>264.730000</td>\n",
       "      <td>334.110000</td>\n",
       "      <td>132.660000</td>\n",
       "      <td>0.000000</td>\n",
       "      <td>...</td>\n",
       "      <td>244.00000</td>\n",
       "      <td>2658.31</td>\n",
       "      <td>1956.800000</td>\n",
       "      <td>2259.330000</td>\n",
       "      <td>0.0</td>\n",
       "      <td>1555.000000</td>\n",
       "      <td>1555.000000</td>\n",
       "      <td>3751.000000</td>\n",
       "      <td>4020.000000</td>\n",
       "      <td>3885.500000</td>\n",
       "    </tr>\n",
       "    <tr>\n",
       "      <th>1</th>\n",
       "      <td>317.967000</td>\n",
       "      <td>370.947000</td>\n",
       "      <td>546.528</td>\n",
       "      <td>43.910000</td>\n",
       "      <td>27.28000</td>\n",
       "      <td>62.610000</td>\n",
       "      <td>101.680000</td>\n",
       "      <td>96.890000</td>\n",
       "      <td>110.990000</td>\n",
       "      <td>5.930000</td>\n",
       "      <td>...</td>\n",
       "      <td>879.00000</td>\n",
       "      <td>0.00</td>\n",
       "      <td>0.000000</td>\n",
       "      <td>0.000000</td>\n",
       "      <td>0.0</td>\n",
       "      <td>154.000000</td>\n",
       "      <td>154.000000</td>\n",
       "      <td>548.000000</td>\n",
       "      <td>668.000000</td>\n",
       "      <td>608.000000</td>\n",
       "    </tr>\n",
       "    <tr>\n",
       "      <th>2</th>\n",
       "      <td>4.980000</td>\n",
       "      <td>549.687000</td>\n",
       "      <td>0.000</td>\n",
       "      <td>265.901436</td>\n",
       "      <td>273.09219</td>\n",
       "      <td>243.971718</td>\n",
       "      <td>380.955310</td>\n",
       "      <td>385.396401</td>\n",
       "      <td>348.936043</td>\n",
       "      <td>16.436337</td>\n",
       "      <td>...</td>\n",
       "      <td>205.00000</td>\n",
       "      <td>0.00</td>\n",
       "      <td>0.000000</td>\n",
       "      <td>0.000000</td>\n",
       "      <td>0.0</td>\n",
       "      <td>0.000000</td>\n",
       "      <td>655.000000</td>\n",
       "      <td>0.000000</td>\n",
       "      <td>1310.000000</td>\n",
       "      <td>655.000000</td>\n",
       "    </tr>\n",
       "    <tr>\n",
       "      <th>3</th>\n",
       "      <td>128.831677</td>\n",
       "      <td>34.545236</td>\n",
       "      <td>0.000</td>\n",
       "      <td>0.000000</td>\n",
       "      <td>0.00000</td>\n",
       "      <td>243.971718</td>\n",
       "      <td>5.685285</td>\n",
       "      <td>0.365635</td>\n",
       "      <td>348.936043</td>\n",
       "      <td>0.000000</td>\n",
       "      <td>...</td>\n",
       "      <td>320.43514</td>\n",
       "      <td>0.00</td>\n",
       "      <td>138.656642</td>\n",
       "      <td>263.027329</td>\n",
       "      <td>0.0</td>\n",
       "      <td>1510.020035</td>\n",
       "      <td>101.537547</td>\n",
       "      <td>1651.203012</td>\n",
       "      <td>142.598083</td>\n",
       "      <td>896.900548</td>\n",
       "    </tr>\n",
       "    <tr>\n",
       "      <th>4</th>\n",
       "      <td>0.000000</td>\n",
       "      <td>2281.505000</td>\n",
       "      <td>2680.019</td>\n",
       "      <td>265.901436</td>\n",
       "      <td>31.78000</td>\n",
       "      <td>74.280000</td>\n",
       "      <td>380.955310</td>\n",
       "      <td>158.130000</td>\n",
       "      <td>426.060000</td>\n",
       "      <td>16.436337</td>\n",
       "      <td>...</td>\n",
       "      <td>449.00000</td>\n",
       "      <td>109.58</td>\n",
       "      <td>48.050000</td>\n",
       "      <td>0.000000</td>\n",
       "      <td>0.0</td>\n",
       "      <td>0.000000</td>\n",
       "      <td>0.000000</td>\n",
       "      <td>0.000000</td>\n",
       "      <td>3399.000000</td>\n",
       "      <td>1699.500000</td>\n",
       "    </tr>\n",
       "  </tbody>\n",
       "</table>\n",
       "<p>5 rows × 106 columns</p>\n",
       "</div>"
      ],
      "text/plain": [
       "        arpu_6       arpu_7    arpu_8  onnet_mou_6  onnet_mou_7  onnet_mou_8  \\\n",
       "0  1821.176000  2018.948000  2014.693    39.360000     73.33000    16.730000   \n",
       "1   317.967000   370.947000   546.528    43.910000     27.28000    62.610000   \n",
       "2     4.980000   549.687000     0.000   265.901436    273.09219   243.971718   \n",
       "3   128.831677    34.545236     0.000     0.000000      0.00000   243.971718   \n",
       "4     0.000000  2281.505000  2680.019   265.901436     31.78000    74.280000   \n",
       "\n",
       "   offnet_mou_6  offnet_mou_7  offnet_mou_8  roam_ic_mou_6  ...        aon  \\\n",
       "0    264.730000    334.110000    132.660000       0.000000  ...  244.00000   \n",
       "1    101.680000     96.890000    110.990000       5.930000  ...  879.00000   \n",
       "2    380.955310    385.396401    348.936043      16.436337  ...  205.00000   \n",
       "3      5.685285      0.365635    348.936043       0.000000  ...  320.43514   \n",
       "4    380.955310    158.130000    426.060000      16.436337  ...  449.00000   \n",
       "\n",
       "   aug_vbc_3g   jul_vbc_3g   jun_vbc_3g  sep_vbc_3g  rech_data_6_total  \\\n",
       "0     2658.31  1956.800000  2259.330000         0.0        1555.000000   \n",
       "1        0.00     0.000000     0.000000         0.0         154.000000   \n",
       "2        0.00     0.000000     0.000000         0.0           0.000000   \n",
       "3        0.00   138.656642   263.027329         0.0        1510.020035   \n",
       "4      109.58    48.050000     0.000000         0.0           0.000000   \n",
       "\n",
       "   rech_data_7_total  Total rech_6  Total rech_7  avg_amt_6_7  \n",
       "0        1555.000000   3751.000000   4020.000000  3885.500000  \n",
       "1         154.000000    548.000000    668.000000   608.000000  \n",
       "2         655.000000      0.000000   1310.000000   655.000000  \n",
       "3         101.537547   1651.203012    142.598083   896.900548  \n",
       "4           0.000000      0.000000   3399.000000  1699.500000  \n",
       "\n",
       "[5 rows x 106 columns]"
      ]
     },
     "execution_count": 57,
     "metadata": {},
     "output_type": "execute_result"
    }
   ],
   "source": [
    "X_train_np=pd.DataFrame(X_train)\n",
    "X_test_np=pd.DataFrame(X_test)\n",
    "\n",
    "X_train_np.columns=df_cols\n",
    "X_test_np.columns=df_cols\n",
    "X_train_np.head()"
   ]
  },
  {
   "cell_type": "code",
   "execution_count": 58,
   "metadata": {},
   "outputs": [
    {
     "data": {
      "text/html": [
       "<div>\n",
       "<style scoped>\n",
       "    .dataframe tbody tr th:only-of-type {\n",
       "        vertical-align: middle;\n",
       "    }\n",
       "\n",
       "    .dataframe tbody tr th {\n",
       "        vertical-align: top;\n",
       "    }\n",
       "\n",
       "    .dataframe thead th {\n",
       "        text-align: right;\n",
       "    }\n",
       "</style>\n",
       "<table border=\"1\" class=\"dataframe\">\n",
       "  <thead>\n",
       "    <tr style=\"text-align: right;\">\n",
       "      <th></th>\n",
       "      <th>arpu_6</th>\n",
       "      <th>arpu_7</th>\n",
       "      <th>arpu_8</th>\n",
       "      <th>onnet_mou_6</th>\n",
       "      <th>onnet_mou_7</th>\n",
       "      <th>onnet_mou_8</th>\n",
       "      <th>offnet_mou_6</th>\n",
       "      <th>offnet_mou_7</th>\n",
       "      <th>offnet_mou_8</th>\n",
       "      <th>roam_ic_mou_6</th>\n",
       "      <th>...</th>\n",
       "      <th>aon</th>\n",
       "      <th>aug_vbc_3g</th>\n",
       "      <th>jul_vbc_3g</th>\n",
       "      <th>jun_vbc_3g</th>\n",
       "      <th>sep_vbc_3g</th>\n",
       "      <th>rech_data_6_total</th>\n",
       "      <th>rech_data_7_total</th>\n",
       "      <th>Total rech_6</th>\n",
       "      <th>Total rech_7</th>\n",
       "      <th>avg_amt_6_7</th>\n",
       "    </tr>\n",
       "  </thead>\n",
       "  <tbody>\n",
       "    <tr>\n",
       "      <th>0</th>\n",
       "      <td>696.450337</td>\n",
       "      <td>457.562286</td>\n",
       "      <td>258.567499</td>\n",
       "      <td>207.236209</td>\n",
       "      <td>214.543462</td>\n",
       "      <td>60.232194</td>\n",
       "      <td>398.514540</td>\n",
       "      <td>206.141717</td>\n",
       "      <td>153.512566</td>\n",
       "      <td>21.839614</td>\n",
       "      <td>...</td>\n",
       "      <td>506.675581</td>\n",
       "      <td>0.0</td>\n",
       "      <td>0.0</td>\n",
       "      <td>0.000000</td>\n",
       "      <td>0.0</td>\n",
       "      <td>0.000000</td>\n",
       "      <td>17.410476</td>\n",
       "      <td>756.109029</td>\n",
       "      <td>664.874933</td>\n",
       "      <td>710.491981</td>\n",
       "    </tr>\n",
       "    <tr>\n",
       "      <th>1</th>\n",
       "      <td>499.946829</td>\n",
       "      <td>294.848224</td>\n",
       "      <td>35.588019</td>\n",
       "      <td>104.540619</td>\n",
       "      <td>117.285273</td>\n",
       "      <td>204.334766</td>\n",
       "      <td>60.601556</td>\n",
       "      <td>38.376642</td>\n",
       "      <td>244.030051</td>\n",
       "      <td>23.091637</td>\n",
       "      <td>...</td>\n",
       "      <td>513.360407</td>\n",
       "      <td>0.0</td>\n",
       "      <td>0.0</td>\n",
       "      <td>0.000000</td>\n",
       "      <td>0.0</td>\n",
       "      <td>1014.444802</td>\n",
       "      <td>167.594220</td>\n",
       "      <td>1592.783534</td>\n",
       "      <td>587.247986</td>\n",
       "      <td>1090.015760</td>\n",
       "    </tr>\n",
       "    <tr>\n",
       "      <th>2</th>\n",
       "      <td>351.471079</td>\n",
       "      <td>507.384328</td>\n",
       "      <td>144.360999</td>\n",
       "      <td>331.773562</td>\n",
       "      <td>622.016320</td>\n",
       "      <td>137.761047</td>\n",
       "      <td>215.006981</td>\n",
       "      <td>312.339813</td>\n",
       "      <td>43.525008</td>\n",
       "      <td>0.000000</td>\n",
       "      <td>...</td>\n",
       "      <td>355.378798</td>\n",
       "      <td>0.0</td>\n",
       "      <td>0.0</td>\n",
       "      <td>3.218593</td>\n",
       "      <td>0.0</td>\n",
       "      <td>243.851579</td>\n",
       "      <td>461.111316</td>\n",
       "      <td>660.331022</td>\n",
       "      <td>1058.631873</td>\n",
       "      <td>859.481447</td>\n",
       "    </tr>\n",
       "    <tr>\n",
       "      <th>3</th>\n",
       "      <td>681.953774</td>\n",
       "      <td>459.034941</td>\n",
       "      <td>192.076542</td>\n",
       "      <td>1002.189898</td>\n",
       "      <td>815.287732</td>\n",
       "      <td>65.559705</td>\n",
       "      <td>189.718892</td>\n",
       "      <td>150.244562</td>\n",
       "      <td>62.489346</td>\n",
       "      <td>0.000000</td>\n",
       "      <td>...</td>\n",
       "      <td>853.966522</td>\n",
       "      <td>0.0</td>\n",
       "      <td>0.0</td>\n",
       "      <td>0.000000</td>\n",
       "      <td>0.0</td>\n",
       "      <td>0.000000</td>\n",
       "      <td>0.000000</td>\n",
       "      <td>734.317384</td>\n",
       "      <td>503.146929</td>\n",
       "      <td>618.732156</td>\n",
       "    </tr>\n",
       "    <tr>\n",
       "      <th>4</th>\n",
       "      <td>1049.508653</td>\n",
       "      <td>8.944276</td>\n",
       "      <td>0.000000</td>\n",
       "      <td>458.837107</td>\n",
       "      <td>157.583545</td>\n",
       "      <td>243.971718</td>\n",
       "      <td>1925.545889</td>\n",
       "      <td>218.231633</td>\n",
       "      <td>348.936043</td>\n",
       "      <td>35.177682</td>\n",
       "      <td>...</td>\n",
       "      <td>1438.493349</td>\n",
       "      <td>0.0</td>\n",
       "      <td>0.0</td>\n",
       "      <td>0.000000</td>\n",
       "      <td>0.0</td>\n",
       "      <td>0.000000</td>\n",
       "      <td>0.000000</td>\n",
       "      <td>1202.808853</td>\n",
       "      <td>0.000000</td>\n",
       "      <td>601.404427</td>\n",
       "    </tr>\n",
       "  </tbody>\n",
       "</table>\n",
       "<p>5 rows × 106 columns</p>\n",
       "</div>"
      ],
      "text/plain": [
       "        arpu_6      arpu_7      arpu_8  onnet_mou_6  onnet_mou_7  onnet_mou_8  \\\n",
       "0   696.450337  457.562286  258.567499   207.236209   214.543462    60.232194   \n",
       "1   499.946829  294.848224   35.588019   104.540619   117.285273   204.334766   \n",
       "2   351.471079  507.384328  144.360999   331.773562   622.016320   137.761047   \n",
       "3   681.953774  459.034941  192.076542  1002.189898   815.287732    65.559705   \n",
       "4  1049.508653    8.944276    0.000000   458.837107   157.583545   243.971718   \n",
       "\n",
       "   offnet_mou_6  offnet_mou_7  offnet_mou_8  roam_ic_mou_6  ...          aon  \\\n",
       "0    398.514540    206.141717    153.512566      21.839614  ...   506.675581   \n",
       "1     60.601556     38.376642    244.030051      23.091637  ...   513.360407   \n",
       "2    215.006981    312.339813     43.525008       0.000000  ...   355.378798   \n",
       "3    189.718892    150.244562     62.489346       0.000000  ...   853.966522   \n",
       "4   1925.545889    218.231633    348.936043      35.177682  ...  1438.493349   \n",
       "\n",
       "   aug_vbc_3g  jul_vbc_3g  jun_vbc_3g  sep_vbc_3g  rech_data_6_total  \\\n",
       "0         0.0         0.0    0.000000         0.0           0.000000   \n",
       "1         0.0         0.0    0.000000         0.0        1014.444802   \n",
       "2         0.0         0.0    3.218593         0.0         243.851579   \n",
       "3         0.0         0.0    0.000000         0.0           0.000000   \n",
       "4         0.0         0.0    0.000000         0.0           0.000000   \n",
       "\n",
       "   rech_data_7_total  Total rech_6  Total rech_7  avg_amt_6_7  \n",
       "0          17.410476    756.109029    664.874933   710.491981  \n",
       "1         167.594220   1592.783534    587.247986  1090.015760  \n",
       "2         461.111316    660.331022   1058.631873   859.481447  \n",
       "3           0.000000    734.317384    503.146929   618.732156  \n",
       "4           0.000000   1202.808853      0.000000   601.404427  \n",
       "\n",
       "[5 rows x 106 columns]"
      ]
     },
     "execution_count": 58,
     "metadata": {},
     "output_type": "execute_result"
    }
   ],
   "source": [
    "X_test_np.head()"
   ]
  },
  {
   "cell_type": "markdown",
   "metadata": {},
   "source": [
    "****Class Imbalance rectification analysis-SMOTE***"
   ]
  },
  {
   "cell_type": "code",
   "execution_count": 59,
   "metadata": {},
   "outputs": [
    {
     "name": "stdout",
     "output_type": "stream",
     "text": [
      "After SMOTE, the shape of train_X: (38483, 106)\n",
      "After SMOTE, the shape of train_y: (38483,) \n",
      "\n",
      "After SMOTE, counts of label '1': 19206\n",
      "After SMOTE, counts of label '0': 19277\n",
      "After SMOTE, churn event rate : 49.91% \n",
      "\n"
     ]
    }
   ],
   "source": [
    "print('After SMOTE, the shape of train_X: {}'.format(X_train.shape))\n",
    "print('After SMOTE, the shape of train_y: {} \\n'.format(y_train.shape))\n",
    "\n",
    "print(\"After SMOTE, counts of label '1': {}\".format(sum(y_train==1)))\n",
    "print(\"After SMOTE, counts of label '0': {}\".format(sum(y_train==0)))\n",
    "print(\"After SMOTE, churn event rate : {}% \\n\".format(round(sum(y_train==1)/len(y_train)*100,2)))"
   ]
  },
  {
   "cell_type": "markdown",
   "metadata": {},
   "source": [
    "****Scaling the train and test data****"
   ]
  },
  {
   "cell_type": "code",
   "execution_count": 60,
   "metadata": {
    "colab": {},
    "colab_type": "code",
    "id": "NjC3vBPgMa5Y"
   },
   "outputs": [],
   "source": [
    "## Scaling the train and test data\n",
    "from sklearn.preprocessing import  StandardScaler,MinMaxScaler\n",
    "scaler = MinMaxScaler()\n",
    "X_train = scaler.fit_transform(X_train )\n",
    "X_test = scaler.fit_transform(X_test)"
   ]
  },
  {
   "cell_type": "code",
   "execution_count": 61,
   "metadata": {
    "colab": {
     "base_uri": "https://localhost:8080/",
     "height": 85
    },
    "colab_type": "code",
    "id": "gtQLojQma6fo",
    "outputId": "ae0955b1-0d17-49b8-9aa7-4574df0c27a4"
   },
   "outputs": [
    {
     "name": "stdout",
     "output_type": "stream",
     "text": [
      "(38483, 106)\n",
      "(38483,)\n",
      "(16493, 106)\n",
      "(16493,)\n"
     ]
    }
   ],
   "source": [
    "print(X_train.shape)\n",
    "print(y_train.shape)\n",
    "print(X_test.shape)\n",
    "print(y_test.shape)"
   ]
  },
  {
   "cell_type": "markdown",
   "metadata": {},
   "source": [
    "# Model Building"
   ]
  },
  {
   "cell_type": "code",
   "execution_count": 62,
   "metadata": {
    "colab": {},
    "colab_type": "code",
    "id": "EJo2FuMhNbcL"
   },
   "outputs": [],
   "source": [
    "from sklearn.utils import class_weight"
   ]
  },
  {
   "cell_type": "markdown",
   "metadata": {
    "colab_type": "text",
    "id": "x852dp-xUNlX"
   },
   "source": [
    "### Applying  PCA "
   ]
  },
  {
   "cell_type": "code",
   "execution_count": 63,
   "metadata": {
    "colab": {},
    "colab_type": "code",
    "id": "eHWBiNJ4UQfJ"
   },
   "outputs": [],
   "source": [
    "from sklearn.decomposition import PCA"
   ]
  },
  {
   "cell_type": "code",
   "execution_count": 64,
   "metadata": {},
   "outputs": [],
   "source": [
    "pca = PCA(svd_solver='randomized', random_state=42)"
   ]
  },
  {
   "cell_type": "code",
   "execution_count": 65,
   "metadata": {
    "colab": {
     "base_uri": "https://localhost:8080/",
     "height": 34
    },
    "colab_type": "code",
    "id": "O9tGMMM6UaRQ",
    "outputId": "df681c3b-4509-4c7b-f1e3-d6f01ff1dd71"
   },
   "outputs": [],
   "source": [
    "df_train_pca = pca.fit(X_train)"
   ]
  },
  {
   "cell_type": "code",
   "execution_count": 67,
   "metadata": {},
   "outputs": [
    {
     "data": {
      "text/plain": [
       "array([[-4.89022587e-03, -2.50511794e-03,  9.69378829e-05, ...,\n",
       "         6.67443250e-03,  9.83099398e-03,  1.25726967e-02],\n",
       "       [-3.61815507e-04,  7.32708468e-03,  1.20529630e-02, ...,\n",
       "        -1.02672092e-02,  1.09919825e-02,  2.98434794e-04],\n",
       "       [ 8.11525749e-03, -3.29775301e-03,  5.11425030e-03, ...,\n",
       "         1.00571994e-02, -1.13694603e-02, -7.45280523e-04],\n",
       "       ...,\n",
       "       [ 0.00000000e+00,  7.19172471e-16,  7.09736793e-16, ...,\n",
       "        -1.93491192e-02,  1.87884557e-01, -5.45415722e-02],\n",
       "       [ 0.00000000e+00,  4.50569278e-16,  3.16966032e-16, ...,\n",
       "        -2.30314574e-01, -4.42168570e-02, -2.24891345e-01],\n",
       "       [ 0.00000000e+00, -1.53279142e-14,  1.00951330e-14, ...,\n",
       "        -2.29319761e-01, -1.20845150e-01,  3.57059559e-01]])"
      ]
     },
     "execution_count": 67,
     "metadata": {},
     "output_type": "execute_result"
    }
   ],
   "source": [
    "pca.components_"
   ]
  },
  {
   "cell_type": "code",
   "execution_count": 68,
   "metadata": {},
   "outputs": [
    {
     "data": {
      "text/plain": [
       "array([5.66837907e-01, 1.19704697e-01, 8.22492957e-02, 4.95273077e-02,\n",
       "       2.26130403e-02, 2.12219586e-02, 1.74750400e-02, 1.22963370e-02,\n",
       "       1.09240245e-02, 7.83153702e-03, 7.59701673e-03, 7.10710946e-03,\n",
       "       6.72818491e-03, 5.34560727e-03, 5.10781548e-03, 4.19099820e-03,\n",
       "       4.05460915e-03, 3.72749497e-03, 3.52939930e-03, 3.18717919e-03,\n",
       "       2.64050086e-03, 2.46598214e-03, 2.42414772e-03, 2.25153894e-03,\n",
       "       2.16486584e-03, 1.99162160e-03, 1.72564352e-03, 1.48471235e-03,\n",
       "       1.43971461e-03, 1.34734424e-03, 1.32330640e-03, 1.23823606e-03,\n",
       "       1.14886829e-03, 1.05455835e-03, 8.82519048e-04, 8.72386531e-04,\n",
       "       7.36250124e-04, 6.63345058e-04, 6.44863749e-04, 6.16886610e-04,\n",
       "       6.02349161e-04, 5.47696522e-04, 5.34156273e-04, 5.10995852e-04,\n",
       "       4.91390294e-04, 4.36866227e-04, 4.17624336e-04, 4.08889245e-04,\n",
       "       3.94413589e-04, 3.77018776e-04, 3.47548386e-04, 3.39239137e-04,\n",
       "       2.87636686e-04, 2.72494377e-04, 2.66469768e-04, 2.56314259e-04,\n",
       "       2.44731622e-04, 2.42464295e-04, 2.33363761e-04, 2.17921553e-04,\n",
       "       2.08206014e-04, 1.90867864e-04, 1.76383245e-04, 1.66370060e-04,\n",
       "       1.58560567e-04, 1.40348875e-04, 1.11338170e-04, 1.11016816e-04,\n",
       "       1.08320622e-04, 9.77655427e-05, 9.10014500e-05, 8.41513650e-05,\n",
       "       7.82887794e-05, 7.30788259e-05, 6.67481054e-05, 6.34172521e-05,\n",
       "       5.06718614e-05, 4.29319142e-05, 4.07631848e-05, 3.83280927e-05,\n",
       "       3.26133540e-05, 3.11421873e-05, 1.03201408e-05, 7.42233005e-06,\n",
       "       5.84596283e-06, 4.25375962e-06, 3.11456268e-06, 2.48833632e-06,\n",
       "       5.00262767e-07, 2.31581771e-07, 7.33191420e-08, 1.94668116e-13,\n",
       "       1.34174545e-13, 1.13734492e-13, 1.77573757e-29, 4.03455096e-33,\n",
       "       4.03455096e-33, 4.03455096e-33, 4.03455096e-33, 4.03455096e-33,\n",
       "       4.03455096e-33, 4.03455096e-33, 4.03455096e-33, 4.03455096e-33,\n",
       "       4.03455096e-33, 2.64935969e-34])"
      ]
     },
     "execution_count": 68,
     "metadata": {},
     "output_type": "execute_result"
    }
   ],
   "source": [
    "pca.explained_variance_ratio_"
   ]
  },
  {
   "cell_type": "markdown",
   "metadata": {},
   "source": [
    "#### Cumulative Variance Explained- n_components derived is 17"
   ]
  },
  {
   "cell_type": "code",
   "execution_count": 69,
   "metadata": {},
   "outputs": [],
   "source": [
    "var_cumu = np.cumsum(pca.explained_variance_ratio_)"
   ]
  },
  {
   "cell_type": "code",
   "execution_count": 70,
   "metadata": {},
   "outputs": [
    {
     "ename": "NameError",
     "evalue": "name 'plt' is not defined",
     "output_type": "error",
     "traceback": [
      "\u001b[0;31m---------------------------------------------------------------------------\u001b[0m",
      "\u001b[0;31mNameError\u001b[0m                                 Traceback (most recent call last)",
      "\u001b[0;32m<ipython-input-70-d29b968c85f2>\u001b[0m in \u001b[0;36m<module>\u001b[0;34m\u001b[0m\n\u001b[0;32m----> 1\u001b[0;31m \u001b[0mfig\u001b[0m \u001b[0;34m=\u001b[0m \u001b[0mplt\u001b[0m\u001b[0;34m.\u001b[0m\u001b[0mfigure\u001b[0m\u001b[0;34m(\u001b[0m\u001b[0mfigsize\u001b[0m\u001b[0;34m=\u001b[0m\u001b[0;34m[\u001b[0m\u001b[0;36m12\u001b[0m\u001b[0;34m,\u001b[0m\u001b[0;36m8\u001b[0m\u001b[0;34m]\u001b[0m\u001b[0;34m)\u001b[0m\u001b[0;34m\u001b[0m\u001b[0;34m\u001b[0m\u001b[0m\n\u001b[0m\u001b[1;32m      2\u001b[0m \u001b[0mplt\u001b[0m\u001b[0;34m.\u001b[0m\u001b[0mvlines\u001b[0m\u001b[0;34m(\u001b[0m\u001b[0mx\u001b[0m\u001b[0;34m=\u001b[0m\u001b[0;36m17\u001b[0m\u001b[0;34m,\u001b[0m \u001b[0mymax\u001b[0m\u001b[0;34m=\u001b[0m\u001b[0;36m1\u001b[0m\u001b[0;34m,\u001b[0m \u001b[0mymin\u001b[0m\u001b[0;34m=\u001b[0m\u001b[0;36m0\u001b[0m\u001b[0;34m,\u001b[0m \u001b[0mcolors\u001b[0m\u001b[0;34m=\u001b[0m\u001b[0;34m\"r\"\u001b[0m\u001b[0;34m,\u001b[0m \u001b[0mlinestyles\u001b[0m\u001b[0;34m=\u001b[0m\u001b[0;34m\"--\"\u001b[0m\u001b[0;34m)\u001b[0m\u001b[0;34m\u001b[0m\u001b[0;34m\u001b[0m\u001b[0m\n\u001b[1;32m      3\u001b[0m \u001b[0mplt\u001b[0m\u001b[0;34m.\u001b[0m\u001b[0mhlines\u001b[0m\u001b[0;34m(\u001b[0m\u001b[0my\u001b[0m\u001b[0;34m=\u001b[0m\u001b[0;36m0.95\u001b[0m\u001b[0;34m,\u001b[0m \u001b[0mxmax\u001b[0m\u001b[0;34m=\u001b[0m\u001b[0;36m30\u001b[0m\u001b[0;34m,\u001b[0m \u001b[0mxmin\u001b[0m\u001b[0;34m=\u001b[0m\u001b[0;36m0\u001b[0m\u001b[0;34m,\u001b[0m \u001b[0mcolors\u001b[0m\u001b[0;34m=\u001b[0m\u001b[0;34m\"g\"\u001b[0m\u001b[0;34m,\u001b[0m \u001b[0mlinestyles\u001b[0m\u001b[0;34m=\u001b[0m\u001b[0;34m\"--\"\u001b[0m\u001b[0;34m)\u001b[0m\u001b[0;34m\u001b[0m\u001b[0;34m\u001b[0m\u001b[0m\n\u001b[1;32m      4\u001b[0m \u001b[0mplt\u001b[0m\u001b[0;34m.\u001b[0m\u001b[0mplot\u001b[0m\u001b[0;34m(\u001b[0m\u001b[0mvar_cumu\u001b[0m\u001b[0;34m)\u001b[0m\u001b[0;34m\u001b[0m\u001b[0;34m\u001b[0m\u001b[0m\n\u001b[1;32m      5\u001b[0m \u001b[0mplt\u001b[0m\u001b[0;34m.\u001b[0m\u001b[0mylabel\u001b[0m\u001b[0;34m(\u001b[0m\u001b[0;34m\"Cumulative variance explained\"\u001b[0m\u001b[0;34m)\u001b[0m\u001b[0;34m\u001b[0m\u001b[0;34m\u001b[0m\u001b[0m\n",
      "\u001b[0;31mNameError\u001b[0m: name 'plt' is not defined"
     ]
    }
   ],
   "source": [
    "fig = plt.figure(figsize=[12,8])\n",
    "plt.vlines(x=17, ymax=1, ymin=0, colors=\"r\", linestyles=\"--\")\n",
    "plt.hlines(y=0.95, xmax=30, xmin=0, colors=\"g\", linestyles=\"--\")\n",
    "plt.plot(var_cumu)\n",
    "plt.ylabel(\"Cumulative variance explained\")\n",
    "plt.show()"
   ]
  },
  {
   "cell_type": "markdown",
   "metadata": {},
   "source": [
    "***Incremental PCA****"
   ]
  },
  {
   "cell_type": "code",
   "execution_count": 71,
   "metadata": {},
   "outputs": [],
   "source": [
    "from sklearn.decomposition import IncrementalPCA"
   ]
  },
  {
   "cell_type": "code",
   "execution_count": 72,
   "metadata": {},
   "outputs": [],
   "source": [
    "pca_final = IncrementalPCA(n_components=17)"
   ]
  },
  {
   "cell_type": "code",
   "execution_count": 73,
   "metadata": {},
   "outputs": [
    {
     "data": {
      "text/plain": [
       "(38483, 17)"
      ]
     },
     "execution_count": 73,
     "metadata": {},
     "output_type": "execute_result"
    }
   ],
   "source": [
    "df_train_pca = pca_final.fit_transform(X_train)\n",
    "df_train_pca.shape"
   ]
  },
  {
   "cell_type": "code",
   "execution_count": 74,
   "metadata": {
    "colab": {
     "base_uri": "https://localhost:8080/",
     "height": 34
    },
    "colab_type": "code",
    "id": "tuCuUNLfXY1y",
    "outputId": "e56f36da-7124-46d3-9594-c6a354cc7517"
   },
   "outputs": [
    {
     "data": {
      "text/plain": [
       "(16493, 17)"
      ]
     },
     "execution_count": 74,
     "metadata": {},
     "output_type": "execute_result"
    }
   ],
   "source": [
    "df_test_pca = pca_final.fit_transform(X_test)\n",
    "df_test_pca.shape"
   ]
  },
  {
   "cell_type": "markdown",
   "metadata": {},
   "source": [
    "## Model-1 -> Logistic Regression "
   ]
  },
  {
   "cell_type": "markdown",
   "metadata": {},
   "source": [
    "**** Applying Logistic Regression on our principal components****"
   ]
  },
  {
   "cell_type": "markdown",
   "metadata": {},
   "source": [
    "***using Class_weight=\"balanced\" for class balancing while building model"
   ]
  },
  {
   "cell_type": "code",
   "execution_count": 90,
   "metadata": {
    "colab": {},
    "colab_type": "code",
    "id": "tUS6hno6U0Pg"
   },
   "outputs": [],
   "source": [
    "from sklearn.linear_model import LogisticRegression\n",
    "import sklearn.metrics as metrics\n",
    "from sklearn.metrics import classification_report,confusion_matrix, accuracy_score\n",
    "logistic_pca = LogisticRegression(class_weight=\"balanced\")"
   ]
  },
  {
   "cell_type": "code",
   "execution_count": 91,
   "metadata": {
    "colab": {},
    "colab_type": "code",
    "id": "UIurdabdV6Jn"
   },
   "outputs": [],
   "source": [
    "#Training the model on the train data\n",
    "model_pca = logistic_pca.fit(df_train_pca, y_train)"
   ]
  },
  {
   "cell_type": "code",
   "execution_count": 92,
   "metadata": {},
   "outputs": [],
   "source": [
    "pred_probs_train1=model_pca.predict(df_train_pca)"
   ]
  },
  {
   "cell_type": "code",
   "execution_count": 93,
   "metadata": {},
   "outputs": [
    {
     "data": {
      "text/plain": [
       "array([0.04721767, 0.13752496, 0.75748083, 0.86692538, 0.07924185])"
      ]
     },
     "execution_count": 93,
     "metadata": {},
     "output_type": "execute_result"
    }
   ],
   "source": [
    "pred_probs_train = model_pca.predict_proba(df_train_pca)[:,1]\n",
    "pred_probs_train[:5]"
   ]
  },
  {
   "cell_type": "code",
   "execution_count": 79,
   "metadata": {},
   "outputs": [],
   "source": [
    "# predictions on Test data"
   ]
  },
  {
   "cell_type": "code",
   "execution_count": 94,
   "metadata": {
    "colab": {
     "base_uri": "https://localhost:8080/",
     "height": 51
    },
    "colab_type": "code",
    "id": "8jggZhqiZ5ZP",
    "outputId": "aeda56d6-5f24-48de-b682-c0ec9f727f7b"
   },
   "outputs": [
    {
     "data": {
      "text/plain": [
       "array([0.72214954, 0.62116989, 0.82122323, 0.68487828, 0.75766312,\n",
       "       0.80972516, 0.24244965, 0.7275321 , 0.65553895, 0.78447575])"
      ]
     },
     "execution_count": 94,
     "metadata": {},
     "output_type": "execute_result"
    }
   ],
   "source": [
    "pred_probs_test1 = model_pca.predict(df_test_pca)\n",
    "pred_probs_test = model_pca.predict_proba(df_test_pca)[:,1]\n",
    "pred_probs_test[:10]"
   ]
  },
  {
   "cell_type": "code",
   "execution_count": 97,
   "metadata": {},
   "outputs": [
    {
     "name": "stdout",
     "output_type": "stream",
     "text": [
      "\n",
      "Model Report- Training\n",
      "Accuracy : 0.7596\n",
      "Recall/Sensitivity : 0.7853\n",
      "AUC Score (Train): 0.836468\n",
      "Precision : 0.7045039234655488\n"
     ]
    }
   ],
   "source": [
    "print (\"\\nModel Report- Training\")\n",
    "print (\"Accuracy : %.4g\" % metrics.accuracy_score(y_train, pred_probs_train1))\n",
    "print (\"Recall/Sensitivity : %.4g\" % metrics.recall_score(y_train, pred_probs_train1))\n",
    "print (\"AUC Score (Train): %f\" % metrics.roc_auc_score(y_train, pred_probs_train))\n",
    "print(\"Precision : {}\".format(metrics.precision_score(y_test,pred_probs_test1)))"
   ]
  },
  {
   "cell_type": "code",
   "execution_count": 96,
   "metadata": {},
   "outputs": [
    {
     "name": "stdout",
     "output_type": "stream",
     "text": [
      "\n",
      "Evaluation Report (Test data)\n",
      "Accuracy : 0.7285515066998121\n",
      "Recall : 0.7913547452306207\n",
      "Precision : 0.7045039234655488\n"
     ]
    }
   ],
   "source": [
    "print (\"\\nEvaluation Report (Test data)\")\n",
    "print(\"Accuracy : {}\".format(metrics.accuracy_score(y_test,pred_probs_test1)))\n",
    "print(\"Recall : {}\".format(metrics.recall_score(y_test,pred_probs_test1)))\n",
    "print(\"Precision : {}\".format(metrics.precision_score(y_test,pred_probs_test1)))"
   ]
  },
  {
   "cell_type": "markdown",
   "metadata": {},
   "source": [
    "***Evaluating the model with cut-off probability as 0.5****"
   ]
  },
  {
   "cell_type": "code",
   "execution_count": 98,
   "metadata": {
    "colab": {},
    "colab_type": "code",
    "id": "_P-DKBYaAlb8"
   },
   "outputs": [],
   "source": [
    "predprob=pd.DataFrame({\"Churn\":y_train,\"Probs\":pred_probs_train})"
   ]
  },
  {
   "cell_type": "code",
   "execution_count": 99,
   "metadata": {
    "colab": {
     "base_uri": "https://localhost:8080/",
     "height": 204
    },
    "colab_type": "code",
    "id": "bm5L0UPRD7rR",
    "outputId": "7a3b3b9c-8c99-43cf-c0be-90bb44fb91e6"
   },
   "outputs": [
    {
     "data": {
      "text/html": [
       "<div>\n",
       "<style scoped>\n",
       "    .dataframe tbody tr th:only-of-type {\n",
       "        vertical-align: middle;\n",
       "    }\n",
       "\n",
       "    .dataframe tbody tr th {\n",
       "        vertical-align: top;\n",
       "    }\n",
       "\n",
       "    .dataframe thead th {\n",
       "        text-align: right;\n",
       "    }\n",
       "</style>\n",
       "<table border=\"1\" class=\"dataframe\">\n",
       "  <thead>\n",
       "    <tr style=\"text-align: right;\">\n",
       "      <th></th>\n",
       "      <th>Churn</th>\n",
       "      <th>Probs</th>\n",
       "    </tr>\n",
       "  </thead>\n",
       "  <tbody>\n",
       "    <tr>\n",
       "      <th>0</th>\n",
       "      <td>0</td>\n",
       "      <td>0.047218</td>\n",
       "    </tr>\n",
       "    <tr>\n",
       "      <th>1</th>\n",
       "      <td>0</td>\n",
       "      <td>0.137525</td>\n",
       "    </tr>\n",
       "    <tr>\n",
       "      <th>2</th>\n",
       "      <td>1</td>\n",
       "      <td>0.757481</td>\n",
       "    </tr>\n",
       "    <tr>\n",
       "      <th>3</th>\n",
       "      <td>1</td>\n",
       "      <td>0.866925</td>\n",
       "    </tr>\n",
       "    <tr>\n",
       "      <th>4</th>\n",
       "      <td>0</td>\n",
       "      <td>0.079242</td>\n",
       "    </tr>\n",
       "  </tbody>\n",
       "</table>\n",
       "</div>"
      ],
      "text/plain": [
       "   Churn     Probs\n",
       "0      0  0.047218\n",
       "1      0  0.137525\n",
       "2      1  0.757481\n",
       "3      1  0.866925\n",
       "4      0  0.079242"
      ]
     },
     "execution_count": 99,
     "metadata": {},
     "output_type": "execute_result"
    }
   ],
   "source": [
    "predprob.head()"
   ]
  },
  {
   "cell_type": "code",
   "execution_count": 100,
   "metadata": {
    "colab": {},
    "colab_type": "code",
    "id": "DJFqo4c_EBTH"
   },
   "outputs": [],
   "source": [
    "predprob[\"Train_Predicted\"]=predprob.Probs.map(lambda x:1 if x>0.5 else 0)"
   ]
  },
  {
   "cell_type": "code",
   "execution_count": 101,
   "metadata": {
    "colab": {
     "base_uri": "https://localhost:8080/",
     "height": 204
    },
    "colab_type": "code",
    "id": "shxt5tn3Egpg",
    "outputId": "ed7f2834-41ae-499e-b021-dfcd0e12c993"
   },
   "outputs": [
    {
     "data": {
      "text/html": [
       "<div>\n",
       "<style scoped>\n",
       "    .dataframe tbody tr th:only-of-type {\n",
       "        vertical-align: middle;\n",
       "    }\n",
       "\n",
       "    .dataframe tbody tr th {\n",
       "        vertical-align: top;\n",
       "    }\n",
       "\n",
       "    .dataframe thead th {\n",
       "        text-align: right;\n",
       "    }\n",
       "</style>\n",
       "<table border=\"1\" class=\"dataframe\">\n",
       "  <thead>\n",
       "    <tr style=\"text-align: right;\">\n",
       "      <th></th>\n",
       "      <th>Churn</th>\n",
       "      <th>Probs</th>\n",
       "      <th>Train_Predicted</th>\n",
       "    </tr>\n",
       "  </thead>\n",
       "  <tbody>\n",
       "    <tr>\n",
       "      <th>0</th>\n",
       "      <td>0</td>\n",
       "      <td>0.047218</td>\n",
       "      <td>0</td>\n",
       "    </tr>\n",
       "    <tr>\n",
       "      <th>1</th>\n",
       "      <td>0</td>\n",
       "      <td>0.137525</td>\n",
       "      <td>0</td>\n",
       "    </tr>\n",
       "    <tr>\n",
       "      <th>2</th>\n",
       "      <td>1</td>\n",
       "      <td>0.757481</td>\n",
       "      <td>1</td>\n",
       "    </tr>\n",
       "    <tr>\n",
       "      <th>3</th>\n",
       "      <td>1</td>\n",
       "      <td>0.866925</td>\n",
       "      <td>1</td>\n",
       "    </tr>\n",
       "    <tr>\n",
       "      <th>4</th>\n",
       "      <td>0</td>\n",
       "      <td>0.079242</td>\n",
       "      <td>0</td>\n",
       "    </tr>\n",
       "  </tbody>\n",
       "</table>\n",
       "</div>"
      ],
      "text/plain": [
       "   Churn     Probs  Train_Predicted\n",
       "0      0  0.047218                0\n",
       "1      0  0.137525                0\n",
       "2      1  0.757481                1\n",
       "3      1  0.866925                1\n",
       "4      0  0.079242                0"
      ]
     },
     "execution_count": 101,
     "metadata": {},
     "output_type": "execute_result"
    }
   ],
   "source": [
    "predprob.head()"
   ]
  },
  {
   "cell_type": "code",
   "execution_count": 687,
   "metadata": {
    "colab": {
     "base_uri": "https://localhost:8080/",
     "height": 34
    },
    "colab_type": "code",
    "id": "Hfz35pZ2Es_T",
    "outputId": "f3b3bc62-9c33-4abc-a3ec-70168480b93b"
   },
   "outputs": [
    {
     "name": "stdout",
     "output_type": "stream",
     "text": [
      "For 0.5 as cut off probability Accuracy is 0.7615570511654497\n"
     ]
    }
   ],
   "source": [
    "print('For 0.5 as cut off probability Accuracy is', metrics.accuracy_score(predprob.Churn, predprob.Train_Predicted))"
   ]
  },
  {
   "cell_type": "markdown",
   "metadata": {},
   "source": [
    "###### Plotting the ROC Curve : An ROC curve demonstrates several things:\n",
    "     1. It shows the tradeoff between sensitivity and specificity (any increase in sensitivity will  be accompanied by a decrease in specificity).\n",
    "    2.The closer the curve follows the left-hand border and then the top border of the ROC space, the more accurate the test.\n",
    "    3. The closer the curve comes to the 45-degree diagonal of the ROC space, the less accurate the test."
   ]
  },
  {
   "cell_type": "code",
   "execution_count": 102,
   "metadata": {
    "colab": {},
    "colab_type": "code",
    "id": "SEtxO7_wFNof"
   },
   "outputs": [],
   "source": [
    "def draw_roc( actual, probs ):\n",
    "    fpr, tpr, thresholds = metrics.roc_curve( actual, probs,\n",
    "                                              drop_intermediate = False )\n",
    "    auc_score = metrics.roc_auc_score( actual, probs )\n",
    "    plt.figure(figsize=(5, 5))\n",
    "    plt.plot( fpr, tpr, label='ROC curve (area = %0.2f)' % auc_score )\n",
    "    plt.plot([0, 1], [0, 1], 'k--')\n",
    "    plt.xlim([0.0, 1.0])\n",
    "    plt.ylim([0.0, 1.05])\n",
    "    plt.xlabel('False Positive Rate or [1 - True Negative Rate]')\n",
    "    plt.ylabel('True Positive Rate')\n",
    "    plt.title('Receiver operating characteristic example')\n",
    "    plt.legend(loc=\"lower right\")\n",
    "    plt.show()\n",
    "\n",
    "    return None"
   ]
  },
  {
   "cell_type": "code",
   "execution_count": 103,
   "metadata": {
    "colab": {},
    "colab_type": "code",
    "id": "rosHdeaXFPsi"
   },
   "outputs": [],
   "source": [
    "fpr, tpr, thresholds = metrics.roc_curve( predprob.Churn, predprob.Train_Predicted,\n",
    "                                         drop_intermediate = False )"
   ]
  },
  {
   "cell_type": "code",
   "execution_count": 104,
   "metadata": {
    "colab": {
     "base_uri": "https://localhost:8080/",
     "height": 350
    },
    "colab_type": "code",
    "id": "O9XWdUSUFYzy",
    "outputId": "7f78a3ca-b85d-40ae-ef5d-ffd520cf4c31"
   },
   "outputs": [
    {
     "ename": "NameError",
     "evalue": "name 'plt' is not defined",
     "output_type": "error",
     "traceback": [
      "\u001b[0;31m---------------------------------------------------------------------------\u001b[0m",
      "\u001b[0;31mNameError\u001b[0m                                 Traceback (most recent call last)",
      "\u001b[0;32m<ipython-input-104-3d3cdf78a640>\u001b[0m in \u001b[0;36m<module>\u001b[0;34m\u001b[0m\n\u001b[0;32m----> 1\u001b[0;31m \u001b[0mdraw_roc\u001b[0m\u001b[0;34m(\u001b[0m\u001b[0mpredprob\u001b[0m\u001b[0;34m.\u001b[0m\u001b[0mChurn\u001b[0m\u001b[0;34m,\u001b[0m \u001b[0mpredprob\u001b[0m\u001b[0;34m.\u001b[0m\u001b[0mTrain_Predicted\u001b[0m\u001b[0;34m)\u001b[0m\u001b[0;34m\u001b[0m\u001b[0;34m\u001b[0m\u001b[0m\n\u001b[0m",
      "\u001b[0;32m<ipython-input-102-069ff4f446a6>\u001b[0m in \u001b[0;36mdraw_roc\u001b[0;34m(actual, probs)\u001b[0m\n\u001b[1;32m      3\u001b[0m                                               drop_intermediate = False )\n\u001b[1;32m      4\u001b[0m     \u001b[0mauc_score\u001b[0m \u001b[0;34m=\u001b[0m \u001b[0mmetrics\u001b[0m\u001b[0;34m.\u001b[0m\u001b[0mroc_auc_score\u001b[0m\u001b[0;34m(\u001b[0m \u001b[0mactual\u001b[0m\u001b[0;34m,\u001b[0m \u001b[0mprobs\u001b[0m \u001b[0;34m)\u001b[0m\u001b[0;34m\u001b[0m\u001b[0;34m\u001b[0m\u001b[0m\n\u001b[0;32m----> 5\u001b[0;31m     \u001b[0mplt\u001b[0m\u001b[0;34m.\u001b[0m\u001b[0mfigure\u001b[0m\u001b[0;34m(\u001b[0m\u001b[0mfigsize\u001b[0m\u001b[0;34m=\u001b[0m\u001b[0;34m(\u001b[0m\u001b[0;36m5\u001b[0m\u001b[0;34m,\u001b[0m \u001b[0;36m5\u001b[0m\u001b[0;34m)\u001b[0m\u001b[0;34m)\u001b[0m\u001b[0;34m\u001b[0m\u001b[0;34m\u001b[0m\u001b[0m\n\u001b[0m\u001b[1;32m      6\u001b[0m     \u001b[0mplt\u001b[0m\u001b[0;34m.\u001b[0m\u001b[0mplot\u001b[0m\u001b[0;34m(\u001b[0m \u001b[0mfpr\u001b[0m\u001b[0;34m,\u001b[0m \u001b[0mtpr\u001b[0m\u001b[0;34m,\u001b[0m \u001b[0mlabel\u001b[0m\u001b[0;34m=\u001b[0m\u001b[0;34m'ROC curve (area = %0.2f)'\u001b[0m \u001b[0;34m%\u001b[0m \u001b[0mauc_score\u001b[0m \u001b[0;34m)\u001b[0m\u001b[0;34m\u001b[0m\u001b[0;34m\u001b[0m\u001b[0m\n\u001b[1;32m      7\u001b[0m     \u001b[0mplt\u001b[0m\u001b[0;34m.\u001b[0m\u001b[0mplot\u001b[0m\u001b[0;34m(\u001b[0m\u001b[0;34m[\u001b[0m\u001b[0;36m0\u001b[0m\u001b[0;34m,\u001b[0m \u001b[0;36m1\u001b[0m\u001b[0;34m]\u001b[0m\u001b[0;34m,\u001b[0m \u001b[0;34m[\u001b[0m\u001b[0;36m0\u001b[0m\u001b[0;34m,\u001b[0m \u001b[0;36m1\u001b[0m\u001b[0;34m]\u001b[0m\u001b[0;34m,\u001b[0m \u001b[0;34m'k--'\u001b[0m\u001b[0;34m)\u001b[0m\u001b[0;34m\u001b[0m\u001b[0;34m\u001b[0m\u001b[0m\n",
      "\u001b[0;31mNameError\u001b[0m: name 'plt' is not defined"
     ]
    }
   ],
   "source": [
    "draw_roc(predprob.Churn, predprob.Train_Predicted)"
   ]
  },
  {
   "cell_type": "markdown",
   "metadata": {},
   "source": [
    "*****The roc curve is lying in the top left corner which is a sign of a good fit.***"
   ]
  },
  {
   "cell_type": "markdown",
   "metadata": {},
   "source": [
    "****** Finding Optimal Cutoff Point\n",
    "Since recall or sensitivity is a much more important metrics for churn prediction. A trade off between sensitivity(or recall) and specificity is to be considered in doing so. We will try adjusting the probability threshold which shall lead to higher sensitivity or recall rate."
   ]
  },
  {
   "cell_type": "code",
   "execution_count": 691,
   "metadata": {
    "colab": {},
    "colab_type": "code",
    "id": "Ol-lceZeF6EG"
   },
   "outputs": [],
   "source": [
    "def findOptimalCutoff(df):\n",
    "    #Function to find the optimal cutoff for classifing as churn/non-churn\n",
    "    # Let's create columns with different probability cutoffs \n",
    "    numbers = [float(x)/10 for x in range(10)]\n",
    "    for i in numbers:\n",
    "        df[i] = df.Probs.map( lambda x: 1 if x > i else 0)\n",
    "    #print(df.head())\n",
    "    \n",
    "    # Now let's calculate accuracy sensitivity and specificity for various probability cutoffs.\n",
    "    cutoff_df = pd.DataFrame( columns = ['prob','accuracy','sensi','speci'])\n",
    "    from sklearn.metrics import confusion_matrix\n",
    "    \n",
    "    # TP = confusion[1,1] # true positive \n",
    "    # TN = confusion[0,0] # true negatives\n",
    "    # FP = confusion[0,1] # false positives\n",
    "    # FN = confusion[1,0] # false negatives\n",
    "    \n",
    "    num = [0.0,0.1,0.2,0.3,0.4,0.5,0.6,0.7,0.8,0.9]\n",
    "    for i in num:\n",
    "        cm1 = metrics.confusion_matrix(df.Churn, df[i] )\n",
    "        total1=sum(sum(cm1))\n",
    "        accuracy = (cm1[0,0]+cm1[1,1])/total1\n",
    "        \n",
    "        speci = cm1[0,0]/(cm1[0,0]+cm1[0,1])\n",
    "        sensi = cm1[1,1]/(cm1[1,0]+cm1[1,1])\n",
    "        cutoff_df.loc[i] =[ i ,accuracy,sensi,speci]\n",
    "    print(cutoff_df)\n",
    "    # Let's plot accuracy sensitivity and specificity for various probabilities.\n",
    "    cutoff_df.plot.line(x='prob', y=['accuracy','sensi','speci'])\n",
    "    plt.show()"
   ]
  },
  {
   "cell_type": "code",
   "execution_count": 692,
   "metadata": {
    "colab": {
     "base_uri": "https://localhost:8080/",
     "height": 466
    },
    "colab_type": "code",
    "id": "J7dcYpIKF8im",
    "outputId": "3ae83494-6251-45f2-c0ce-ec2aa9b4e50b"
   },
   "outputs": [
    {
     "name": "stdout",
     "output_type": "stream",
     "text": [
      "     prob  accuracy     sensi     speci\n",
      "0.0   0.0  0.500689  1.000000  0.000000\n",
      "0.1   0.1  0.599096  0.985935  0.211189\n",
      "0.2   0.2  0.677052  0.957858  0.395472\n",
      "0.3   0.3  0.725515  0.911459  0.539058\n",
      "0.4   0.4  0.750747  0.849439  0.651782\n",
      "0.5   0.5  0.761557  0.782126  0.740932\n",
      "0.6   0.6  0.757399  0.699294  0.815665\n",
      "0.7   0.7  0.731752  0.572192  0.891751\n",
      "0.8   0.8  0.649300  0.351048  0.948374\n",
      "0.9   0.9  0.539823  0.089682  0.991205\n"
     ]
    },
    {
     "data": {
      "image/png": "[encoded data removed]",
      "text/plain": [
       "<Figure size 432x288 with 1 Axes>"
      ]
     },
     "metadata": {
      "needs_background": "light"
     },
     "output_type": "display_data"
    }
   ],
   "source": [
    "findOptimalCutoff(predprob)"
   ]
  },
  {
   "cell_type": "markdown",
   "metadata": {
    "colab_type": "text",
    "id": "ZzSdkH44Jduf"
   },
   "source": [
    "*****From the curve above, 0.52 is the optimum point*** "
   ]
  },
  {
   "cell_type": "markdown",
   "metadata": {},
   "source": [
    "**** Operations on Training set with new cut off Probability value of 0.52"
   ]
  },
  {
   "cell_type": "code",
   "execution_count": 693,
   "metadata": {
    "colab": {},
    "colab_type": "code",
    "id": "K_lDQ0VxJiQw"
   },
   "outputs": [],
   "source": [
    "predprob['Finalpredicted']=predprob.Probs.map(lambda x:1 if x>0.52 else 0)"
   ]
  },
  {
   "cell_type": "code",
   "execution_count": 694,
   "metadata": {
    "colab": {
     "base_uri": "https://localhost:8080/",
     "height": 204
    },
    "colab_type": "code",
    "id": "JNo4WjKCKFbB",
    "outputId": "c5615a90-b3d4-4051-9996-70873c264b45"
   },
   "outputs": [
    {
     "data": {
      "text/html": [
       "<div>\n",
       "<style scoped>\n",
       "    .dataframe tbody tr th:only-of-type {\n",
       "        vertical-align: middle;\n",
       "    }\n",
       "\n",
       "    .dataframe tbody tr th {\n",
       "        vertical-align: top;\n",
       "    }\n",
       "\n",
       "    .dataframe thead th {\n",
       "        text-align: right;\n",
       "    }\n",
       "</style>\n",
       "<table border=\"1\" class=\"dataframe\">\n",
       "  <thead>\n",
       "    <tr style=\"text-align: right;\">\n",
       "      <th></th>\n",
       "      <th>Churn</th>\n",
       "      <th>Probs</th>\n",
       "      <th>Train_Predicted</th>\n",
       "      <th>0.0</th>\n",
       "      <th>0.1</th>\n",
       "      <th>0.2</th>\n",
       "      <th>0.3</th>\n",
       "      <th>0.4</th>\n",
       "      <th>0.5</th>\n",
       "      <th>0.6</th>\n",
       "      <th>0.7</th>\n",
       "      <th>0.8</th>\n",
       "      <th>0.9</th>\n",
       "      <th>Finalpredicted</th>\n",
       "    </tr>\n",
       "  </thead>\n",
       "  <tbody>\n",
       "    <tr>\n",
       "      <th>0</th>\n",
       "      <td>0</td>\n",
       "      <td>0.449957</td>\n",
       "      <td>0</td>\n",
       "      <td>1</td>\n",
       "      <td>1</td>\n",
       "      <td>1</td>\n",
       "      <td>1</td>\n",
       "      <td>1</td>\n",
       "      <td>0</td>\n",
       "      <td>0</td>\n",
       "      <td>0</td>\n",
       "      <td>0</td>\n",
       "      <td>0</td>\n",
       "      <td>0</td>\n",
       "    </tr>\n",
       "    <tr>\n",
       "      <th>1</th>\n",
       "      <td>1</td>\n",
       "      <td>0.519310</td>\n",
       "      <td>1</td>\n",
       "      <td>1</td>\n",
       "      <td>1</td>\n",
       "      <td>1</td>\n",
       "      <td>1</td>\n",
       "      <td>1</td>\n",
       "      <td>1</td>\n",
       "      <td>0</td>\n",
       "      <td>0</td>\n",
       "      <td>0</td>\n",
       "      <td>0</td>\n",
       "      <td>0</td>\n",
       "    </tr>\n",
       "    <tr>\n",
       "      <th>2</th>\n",
       "      <td>0</td>\n",
       "      <td>0.291949</td>\n",
       "      <td>0</td>\n",
       "      <td>1</td>\n",
       "      <td>1</td>\n",
       "      <td>1</td>\n",
       "      <td>0</td>\n",
       "      <td>0</td>\n",
       "      <td>0</td>\n",
       "      <td>0</td>\n",
       "      <td>0</td>\n",
       "      <td>0</td>\n",
       "      <td>0</td>\n",
       "      <td>0</td>\n",
       "    </tr>\n",
       "    <tr>\n",
       "      <th>3</th>\n",
       "      <td>0</td>\n",
       "      <td>0.234129</td>\n",
       "      <td>0</td>\n",
       "      <td>1</td>\n",
       "      <td>1</td>\n",
       "      <td>1</td>\n",
       "      <td>0</td>\n",
       "      <td>0</td>\n",
       "      <td>0</td>\n",
       "      <td>0</td>\n",
       "      <td>0</td>\n",
       "      <td>0</td>\n",
       "      <td>0</td>\n",
       "      <td>0</td>\n",
       "    </tr>\n",
       "    <tr>\n",
       "      <th>4</th>\n",
       "      <td>0</td>\n",
       "      <td>0.173535</td>\n",
       "      <td>0</td>\n",
       "      <td>1</td>\n",
       "      <td>1</td>\n",
       "      <td>0</td>\n",
       "      <td>0</td>\n",
       "      <td>0</td>\n",
       "      <td>0</td>\n",
       "      <td>0</td>\n",
       "      <td>0</td>\n",
       "      <td>0</td>\n",
       "      <td>0</td>\n",
       "      <td>0</td>\n",
       "    </tr>\n",
       "  </tbody>\n",
       "</table>\n",
       "</div>"
      ],
      "text/plain": [
       "   Churn     Probs  Train_Predicted  0.0  0.1  0.2  0.3  0.4  0.5  0.6  0.7  \\\n",
       "0      0  0.449957                0    1    1    1    1    1    0    0    0   \n",
       "1      1  0.519310                1    1    1    1    1    1    1    0    0   \n",
       "2      0  0.291949                0    1    1    1    0    0    0    0    0   \n",
       "3      0  0.234129                0    1    1    1    0    0    0    0    0   \n",
       "4      0  0.173535                0    1    1    0    0    0    0    0    0   \n",
       "\n",
       "   0.8  0.9  Finalpredicted  \n",
       "0    0    0               0  \n",
       "1    0    0               0  \n",
       "2    0    0               0  \n",
       "3    0    0               0  \n",
       "4    0    0               0  "
      ]
     },
     "execution_count": 694,
     "metadata": {},
     "output_type": "execute_result"
    }
   ],
   "source": [
    "predprob.head()"
   ]
  },
  {
   "cell_type": "code",
   "execution_count": 695,
   "metadata": {
    "colab": {
     "base_uri": "https://localhost:8080/",
     "height": 34
    },
    "colab_type": "code",
    "id": "Ukk7uOqcKoe0",
    "outputId": "d8c25aa8-29b3-479b-839a-76c3bc5a2453"
   },
   "outputs": [
    {
     "name": "stdout",
     "output_type": "stream",
     "text": [
      "Training Data Report with cut off probability-0.52\n",
      "Accuracy : 0.7602058051607203\n",
      "Recall : 0.76453186630683\n",
      "Precision : 0.7584697765420657\n"
     ]
    }
   ],
   "source": [
    "# Let's check the overall accuracy.\n",
    "metrics.accuracy_score(predprob.Churn, predprob.Finalpredicted)\n",
    "print(\"Training Data Report with cut off probability-0.52\")\n",
    "print(\"Accuracy : {}\".format(metrics.accuracy_score(predprob.Churn, predprob.Finalpredicted)))\n",
    "print(\"Recall : {}\".format(metrics.recall_score(predprob.Churn, predprob.Finalpredicted)))\n",
    "print(\"Precision : {}\".format(metrics.precision_score(predprob.Churn, predprob.Finalpredicted)))"
   ]
  },
  {
   "cell_type": "code",
   "execution_count": 696,
   "metadata": {
    "colab": {
     "base_uri": "https://localhost:8080/",
     "height": 170
    },
    "colab_type": "code",
    "id": "ttgQJuQZKy6T",
    "outputId": "8cd0ab78-8c24-49ab-c2fa-29aed21bad41"
   },
   "outputs": [
    {
     "name": "stdout",
     "output_type": "stream",
     "text": [
      "              precision    recall  f1-score   support\n",
      "\n",
      "           0       0.76      0.76      0.76     19215\n",
      "           1       0.76      0.76      0.76     19268\n",
      "\n",
      "    accuracy                           0.76     38483\n",
      "   macro avg       0.76      0.76      0.76     38483\n",
      "weighted avg       0.76      0.76      0.76     38483\n",
      "\n"
     ]
    }
   ],
   "source": [
    "print (classification_report(predprob.Churn, predprob.Finalpredicted))"
   ]
  },
  {
   "cell_type": "markdown",
   "metadata": {},
   "source": [
    "*****Making prediction on test"
   ]
  },
  {
   "cell_type": "code",
   "execution_count": 697,
   "metadata": {
    "colab": {},
    "colab_type": "code",
    "id": "drDQO43LMEXr"
   },
   "outputs": [],
   "source": [
    "cutoff_p=0.52\n",
    "predtest=pd.DataFrame({'Churn':y_test,\"Probs\":pred_probs_test})\n"
   ]
  },
  {
   "cell_type": "code",
   "execution_count": 698,
   "metadata": {
    "colab": {},
    "colab_type": "code",
    "id": "BTuuF9SPM-S_"
   },
   "outputs": [],
   "source": [
    "predtest[\"Predicted\"]=predtest.Probs.map(lambda x:1 if x>0.52 else 0)"
   ]
  },
  {
   "cell_type": "code",
   "execution_count": 699,
   "metadata": {
    "colab": {
     "base_uri": "https://localhost:8080/",
     "height": 204
    },
    "colab_type": "code",
    "id": "NiOmrvqCNNWL",
    "outputId": "1c9bb906-9bd7-4e1e-9a4b-b6ec9f26b739"
   },
   "outputs": [
    {
     "data": {
      "text/html": [
       "<div>\n",
       "<style scoped>\n",
       "    .dataframe tbody tr th:only-of-type {\n",
       "        vertical-align: middle;\n",
       "    }\n",
       "\n",
       "    .dataframe tbody tr th {\n",
       "        vertical-align: top;\n",
       "    }\n",
       "\n",
       "    .dataframe thead th {\n",
       "        text-align: right;\n",
       "    }\n",
       "</style>\n",
       "<table border=\"1\" class=\"dataframe\">\n",
       "  <thead>\n",
       "    <tr style=\"text-align: right;\">\n",
       "      <th></th>\n",
       "      <th>Churn</th>\n",
       "      <th>Probs</th>\n",
       "      <th>Predicted</th>\n",
       "    </tr>\n",
       "  </thead>\n",
       "  <tbody>\n",
       "    <tr>\n",
       "      <th>0</th>\n",
       "      <td>0</td>\n",
       "      <td>0.194127</td>\n",
       "      <td>0</td>\n",
       "    </tr>\n",
       "    <tr>\n",
       "      <th>1</th>\n",
       "      <td>1</td>\n",
       "      <td>0.560061</td>\n",
       "      <td>1</td>\n",
       "    </tr>\n",
       "    <tr>\n",
       "      <th>2</th>\n",
       "      <td>0</td>\n",
       "      <td>0.683013</td>\n",
       "      <td>1</td>\n",
       "    </tr>\n",
       "    <tr>\n",
       "      <th>3</th>\n",
       "      <td>1</td>\n",
       "      <td>0.839623</td>\n",
       "      <td>1</td>\n",
       "    </tr>\n",
       "    <tr>\n",
       "      <th>4</th>\n",
       "      <td>0</td>\n",
       "      <td>0.011113</td>\n",
       "      <td>0</td>\n",
       "    </tr>\n",
       "  </tbody>\n",
       "</table>\n",
       "</div>"
      ],
      "text/plain": [
       "   Churn     Probs  Predicted\n",
       "0      0  0.194127          0\n",
       "1      1  0.560061          1\n",
       "2      0  0.683013          1\n",
       "3      1  0.839623          1\n",
       "4      0  0.011113          0"
      ]
     },
     "execution_count": 699,
     "metadata": {},
     "output_type": "execute_result"
    }
   ],
   "source": [
    "predtest.head()"
   ]
  },
  {
   "cell_type": "code",
   "execution_count": 700,
   "metadata": {
    "colab": {
     "base_uri": "https://localhost:8080/",
     "height": 34
    },
    "colab_type": "code",
    "id": "FA9Vn0U4Nfrb",
    "outputId": "94f5336d-3ad9-4d3d-94aa-d1ee87331d68"
   },
   "outputs": [
    {
     "data": {
      "text/plain": [
       "0.7347359485842478"
      ]
     },
     "execution_count": 700,
     "metadata": {},
     "output_type": "execute_result"
    }
   ],
   "source": [
    "metrics.accuracy_score(predtest.Churn, predtest.Predicted)"
   ]
  },
  {
   "cell_type": "code",
   "execution_count": 365,
   "metadata": {},
   "outputs": [
    {
     "name": "stdout",
     "output_type": "stream",
     "text": [
      "Classification Report Test Data: \n",
      "              precision    recall  f1-score   support\n",
      "\n",
      "           0       0.73      0.65      0.69      8286\n",
      "           1       0.68      0.76      0.72      8207\n",
      "\n",
      "    accuracy                           0.70     16493\n",
      "   macro avg       0.71      0.70      0.70     16493\n",
      "weighted avg       0.71      0.70      0.70     16493\n",
      "\n"
     ]
    }
   ],
   "source": [
    "print(\"Classification Report Test Data: \" )\n",
    "print(classification_report(predtest.Churn, predtest.Predicted))"
   ]
  },
  {
   "cell_type": "code",
   "execution_count": 701,
   "metadata": {},
   "outputs": [
    {
     "name": "stdout",
     "output_type": "stream",
     "text": [
      "Evaluation Report on Test Data cut off probability-0.52\n",
      "Accuracy : 0.7347359485842478\n",
      "Recall : 0.7838199513381995\n",
      "Precision : 0.7126424068134056\n"
     ]
    }
   ],
   "source": [
    "print(\"Evaluation Report on Test Data cut off probability-0.52\")\n",
    "print(\"Accuracy : {}\".format(metrics.accuracy_score(predtest.Churn,predtest.Predicted)))\n",
    "print(\"Recall : {}\".format(metrics.recall_score(predtest.Churn,predtest.Predicted)))\n",
    "print(\"Precision : {}\".format(metrics.precision_score(predtest.Churn,predtest.Predicted)))"
   ]
  },
  {
   "cell_type": "code",
   "execution_count": 774,
   "metadata": {},
   "outputs": [
    {
     "name": "stdout",
     "output_type": "stream",
     "text": [
      "Confusion Matrix: \n",
      "[[5675 2598]\n",
      " [1777 6443]]\n"
     ]
    }
   ],
   "source": [
    "from sklearn.metrics import confusion_matrix\n",
    "print(\"Confusion Matrix: \")\n",
    "print(confusion_matrix(predtest.Churn,predtest.Predicted))"
   ]
  },
  {
   "cell_type": "markdown",
   "metadata": {},
   "source": [
    "## Model-2 -> Random Forest"
   ]
  },
  {
   "cell_type": "code",
   "execution_count": 702,
   "metadata": {
    "colab": {},
    "colab_type": "code",
    "id": "9ZJ9Lm1OXFWb"
   },
   "outputs": [],
   "source": [
    "from sklearn.ensemble import RandomForestClassifier\n"
   ]
  },
  {
   "cell_type": "markdown",
   "metadata": {},
   "source": [
    "***Tuning hyperparameters- n_estimators****"
   ]
  },
  {
   "cell_type": "code",
   "execution_count": null,
   "metadata": {},
   "outputs": [],
   "source": [
    "from sklearn.model_selection import KFold\n",
    "from sklearn.model_selection import GridSearchCV\n",
    "\n",
    "# specify number of folds for k-fold CV\n",
    "n_folds = 5\n",
    "\n",
    "# parameters to build the model on\n",
    "parameters = {'n_estimators': range(50, 800,300)}\n",
    "\n",
    "# instantiate the model (note we are specifying a max_depth)\n",
    "rf1 = RandomForestClassifier(max_depth=4, class_weight=\"balanced\")\n",
    "rfgs = GridSearchCV(rf1, parameters, \n",
    "                    cv=n_folds, return_train_score=True,\n",
    "                   scoring=\"accuracy\")\n",
    "rfgs.fit(df_train_pca, y_train)"
   ]
  },
  {
   "cell_type": "code",
   "execution_count": 652,
   "metadata": {
    "colab": {
     "base_uri": "https://localhost:8080/",
     "height": 261
    },
    "colab_type": "code",
    "id": "RTIwVDTGbiYU",
    "outputId": "42ac8c2d-9fc8-4c97-82c6-c93222ffa416"
   },
   "outputs": [
    {
     "data": {
      "text/html": [
       "<div>\n",
       "<style scoped>\n",
       "    .dataframe tbody tr th:only-of-type {\n",
       "        vertical-align: middle;\n",
       "    }\n",
       "\n",
       "    .dataframe tbody tr th {\n",
       "        vertical-align: top;\n",
       "    }\n",
       "\n",
       "    .dataframe thead th {\n",
       "        text-align: right;\n",
       "    }\n",
       "</style>\n",
       "<table border=\"1\" class=\"dataframe\">\n",
       "  <thead>\n",
       "    <tr style=\"text-align: right;\">\n",
       "      <th></th>\n",
       "      <th>mean_fit_time</th>\n",
       "      <th>std_fit_time</th>\n",
       "      <th>mean_score_time</th>\n",
       "      <th>std_score_time</th>\n",
       "      <th>param_n_estimators</th>\n",
       "      <th>params</th>\n",
       "      <th>split0_test_score</th>\n",
       "      <th>split1_test_score</th>\n",
       "      <th>split2_test_score</th>\n",
       "      <th>split3_test_score</th>\n",
       "      <th>...</th>\n",
       "      <th>mean_test_score</th>\n",
       "      <th>std_test_score</th>\n",
       "      <th>rank_test_score</th>\n",
       "      <th>split0_train_score</th>\n",
       "      <th>split1_train_score</th>\n",
       "      <th>split2_train_score</th>\n",
       "      <th>split3_train_score</th>\n",
       "      <th>split4_train_score</th>\n",
       "      <th>mean_train_score</th>\n",
       "      <th>std_train_score</th>\n",
       "    </tr>\n",
       "  </thead>\n",
       "  <tbody>\n",
       "    <tr>\n",
       "      <th>0</th>\n",
       "      <td>1.154389</td>\n",
       "      <td>0.029149</td>\n",
       "      <td>0.023435</td>\n",
       "      <td>0.004354</td>\n",
       "      <td>50</td>\n",
       "      <td>{'n_estimators': 50}</td>\n",
       "      <td>0.752299</td>\n",
       "      <td>0.748398</td>\n",
       "      <td>0.730287</td>\n",
       "      <td>0.734392</td>\n",
       "      <td>...</td>\n",
       "      <td>0.742685</td>\n",
       "      <td>0.008675</td>\n",
       "      <td>3</td>\n",
       "      <td>0.754912</td>\n",
       "      <td>0.749059</td>\n",
       "      <td>0.753379</td>\n",
       "      <td>0.736050</td>\n",
       "      <td>0.750192</td>\n",
       "      <td>0.748718</td>\n",
       "      <td>0.006676</td>\n",
       "    </tr>\n",
       "    <tr>\n",
       "      <th>1</th>\n",
       "      <td>8.046226</td>\n",
       "      <td>0.311798</td>\n",
       "      <td>0.134913</td>\n",
       "      <td>0.005352</td>\n",
       "      <td>350</td>\n",
       "      <td>{'n_estimators': 350}</td>\n",
       "      <td>0.758707</td>\n",
       "      <td>0.758986</td>\n",
       "      <td>0.729730</td>\n",
       "      <td>0.748885</td>\n",
       "      <td>...</td>\n",
       "      <td>0.748537</td>\n",
       "      <td>0.010687</td>\n",
       "      <td>1</td>\n",
       "      <td>0.757977</td>\n",
       "      <td>0.758674</td>\n",
       "      <td>0.756026</td>\n",
       "      <td>0.751863</td>\n",
       "      <td>0.752908</td>\n",
       "      <td>0.755490</td>\n",
       "      <td>0.002699</td>\n",
       "    </tr>\n",
       "    <tr>\n",
       "      <th>2</th>\n",
       "      <td>14.987780</td>\n",
       "      <td>0.532380</td>\n",
       "      <td>0.261628</td>\n",
       "      <td>0.015967</td>\n",
       "      <td>650</td>\n",
       "      <td>{'n_estimators': 650}</td>\n",
       "      <td>0.757593</td>\n",
       "      <td>0.757871</td>\n",
       "      <td>0.727222</td>\n",
       "      <td>0.748606</td>\n",
       "      <td>...</td>\n",
       "      <td>0.748258</td>\n",
       "      <td>0.011182</td>\n",
       "      <td>2</td>\n",
       "      <td>0.757420</td>\n",
       "      <td>0.754912</td>\n",
       "      <td>0.753100</td>\n",
       "      <td>0.751794</td>\n",
       "      <td>0.754580</td>\n",
       "      <td>0.754361</td>\n",
       "      <td>0.001891</td>\n",
       "    </tr>\n",
       "  </tbody>\n",
       "</table>\n",
       "<p>3 rows × 21 columns</p>\n",
       "</div>"
      ],
      "text/plain": [
       "   mean_fit_time  std_fit_time  mean_score_time  std_score_time  \\\n",
       "0       1.154389      0.029149         0.023435        0.004354   \n",
       "1       8.046226      0.311798         0.134913        0.005352   \n",
       "2      14.987780      0.532380         0.261628        0.015967   \n",
       "\n",
       "  param_n_estimators                 params  split0_test_score  \\\n",
       "0                 50   {'n_estimators': 50}           0.752299   \n",
       "1                350  {'n_estimators': 350}           0.758707   \n",
       "2                650  {'n_estimators': 650}           0.757593   \n",
       "\n",
       "   split1_test_score  split2_test_score  split3_test_score  ...  \\\n",
       "0           0.748398           0.730287           0.734392  ...   \n",
       "1           0.758986           0.729730           0.748885  ...   \n",
       "2           0.757871           0.727222           0.748606  ...   \n",
       "\n",
       "   mean_test_score  std_test_score  rank_test_score  split0_train_score  \\\n",
       "0         0.742685        0.008675                3            0.754912   \n",
       "1         0.748537        0.010687                1            0.757977   \n",
       "2         0.748258        0.011182                2            0.757420   \n",
       "\n",
       "   split1_train_score  split2_train_score  split3_train_score  \\\n",
       "0            0.749059            0.753379            0.736050   \n",
       "1            0.758674            0.756026            0.751863   \n",
       "2            0.754912            0.753100            0.751794   \n",
       "\n",
       "   split4_train_score  mean_train_score  std_train_score  \n",
       "0            0.750192          0.748718         0.006676  \n",
       "1            0.752908          0.755490         0.002699  \n",
       "2            0.754580          0.754361         0.001891  \n",
       "\n",
       "[3 rows x 21 columns]"
      ]
     },
     "execution_count": 652,
     "metadata": {},
     "output_type": "execute_result"
    }
   ],
   "source": [
    "# scores of GridSearch CV\n",
    "scores = rfgs.cv_results_\n",
    "pd.DataFrame(scores).head()"
   ]
  },
  {
   "cell_type": "code",
   "execution_count": 653,
   "metadata": {
    "colab": {
     "base_uri": "https://localhost:8080/",
     "height": 34
    },
    "colab_type": "code",
    "id": "wvWTGBTXUz5E",
    "outputId": "53ba0a8d-9acf-4f15-f04b-e80dfb687d79"
   },
   "outputs": [
    {
     "name": "stdout",
     "output_type": "stream",
     "text": [
      "We can get accuracy of 0.7485369329609581 using {'n_estimators': 350}\n"
     ]
    }
   ],
   "source": [
    "print('We can get accuracy of',rfgs.best_score_,'using',rfgs.best_params_)"
   ]
  },
  {
   "cell_type": "code",
   "execution_count": 422,
   "metadata": {
    "colab": {
     "base_uri": "https://localhost:8080/",
     "height": 282
    },
    "colab_type": "code",
    "id": "v_Nht8wvbv4I",
    "outputId": "527b3819-44f4-4b06-babc-05eb3451506f"
   },
   "outputs": [
    {
     "data": {
      "image/png": "[encoded data removed]",
      "text/plain": [
       "<Figure size 432x288 with 1 Axes>"
      ]
     },
     "metadata": {
      "needs_background": "light"
     },
     "output_type": "display_data"
    }
   ],
   "source": [
    "# plotting accuracies with n_estimators\n",
    "from sklearn.metrics import classification_report,confusion_matrix, accuracy_score\n",
    "plt.figure()\n",
    "plt.plot(scores[\"param_n_estimators\"], \n",
    "         scores[\"mean_train_score\"], \n",
    "         label=\"training accuracy\")\n",
    "plt.plot(scores[\"param_n_estimators\"], \n",
    "         scores[\"mean_test_score\"], \n",
    "         label=\"test accuracy\")\n",
    "plt.xlabel(\"n_estimators\")\n",
    "plt.ylabel(\"Accuracy\")\n",
    "plt.legend()\n",
    "plt.show()"
   ]
  },
  {
   "cell_type": "markdown",
   "metadata": {
    "colab_type": "text",
    "id": "SFTwrfC1oo5N"
   },
   "source": [
    "**** HyperTuning Max Depth ******"
   ]
  },
  {
   "cell_type": "code",
   "execution_count": 423,
   "metadata": {
    "colab": {
     "base_uri": "https://localhost:8080/",
     "height": 357
    },
    "colab_type": "code",
    "id": "vkGCaHtmovDA",
    "outputId": "feead77a-1511-4649-dc62-0a01328e9f19"
   },
   "outputs": [
    {
     "data": {
      "text/plain": [
       "GridSearchCV(cv=5, error_score=nan,\n",
       "             estimator=RandomForestClassifier(bootstrap=True, ccp_alpha=0.0,\n",
       "                                              class_weight='balanced',\n",
       "                                              criterion='gini', max_depth=None,\n",
       "                                              max_features='auto',\n",
       "                                              max_leaf_nodes=None,\n",
       "                                              max_samples=None,\n",
       "                                              min_impurity_decrease=0.0,\n",
       "                                              min_impurity_split=None,\n",
       "                                              min_samples_leaf=1,\n",
       "                                              min_samples_split=2,\n",
       "                                              min_weight_fraction_leaf=0.0,\n",
       "                                              n_estimators=100, n_jobs=None,\n",
       "                                              oob_score=False,\n",
       "                                              random_state=None, verbose=0,\n",
       "                                              warm_start=False),\n",
       "             iid='deprecated', n_jobs=None,\n",
       "             param_grid={'max_depth': range(10, 30, 5)},\n",
       "             pre_dispatch='2*n_jobs', refit=True, return_train_score=True,\n",
       "             scoring='accuracy', verbose=0)"
      ]
     },
     "execution_count": 423,
     "metadata": {},
     "output_type": "execute_result"
    }
   ],
   "source": [
    "\n",
    "# specify number of folds for k-fold CV\n",
    "n_folds = 5\n",
    "\n",
    "# parameters to build the model on\n",
    "parameters = {'max_depth': range(10, 30, 5)}\n",
    "\n",
    "# instantiate the model (note we are specifying a max_depth)\n",
    "rf1 = RandomForestClassifier(class_weight=\"balanced\")\n",
    "rfgs = GridSearchCV(rf1, parameters, \n",
    "                    cv=n_folds, return_train_score=True,\n",
    "                   scoring=\"accuracy\")\n",
    "rfgs.fit(df_train_pca, y_train.values.ravel())"
   ]
  },
  {
   "cell_type": "code",
   "execution_count": 424,
   "metadata": {
    "colab": {
     "base_uri": "https://localhost:8080/",
     "height": 261
    },
    "colab_type": "code",
    "id": "C-nbE-3hp9ex",
    "outputId": "3bff1935-51a4-478f-fc98-6e26ba17a3c3"
   },
   "outputs": [
    {
     "data": {
      "text/html": [
       "<div>\n",
       "<style scoped>\n",
       "    .dataframe tbody tr th:only-of-type {\n",
       "        vertical-align: middle;\n",
       "    }\n",
       "\n",
       "    .dataframe tbody tr th {\n",
       "        vertical-align: top;\n",
       "    }\n",
       "\n",
       "    .dataframe thead th {\n",
       "        text-align: right;\n",
       "    }\n",
       "</style>\n",
       "<table border=\"1\" class=\"dataframe\">\n",
       "  <thead>\n",
       "    <tr style=\"text-align: right;\">\n",
       "      <th></th>\n",
       "      <th>mean_fit_time</th>\n",
       "      <th>std_fit_time</th>\n",
       "      <th>mean_score_time</th>\n",
       "      <th>std_score_time</th>\n",
       "      <th>param_max_depth</th>\n",
       "      <th>params</th>\n",
       "      <th>split0_test_score</th>\n",
       "      <th>split1_test_score</th>\n",
       "      <th>split2_test_score</th>\n",
       "      <th>split3_test_score</th>\n",
       "      <th>...</th>\n",
       "      <th>mean_test_score</th>\n",
       "      <th>std_test_score</th>\n",
       "      <th>rank_test_score</th>\n",
       "      <th>split0_train_score</th>\n",
       "      <th>split1_train_score</th>\n",
       "      <th>split2_train_score</th>\n",
       "      <th>split3_train_score</th>\n",
       "      <th>split4_train_score</th>\n",
       "      <th>mean_train_score</th>\n",
       "      <th>std_train_score</th>\n",
       "    </tr>\n",
       "  </thead>\n",
       "  <tbody>\n",
       "    <tr>\n",
       "      <th>0</th>\n",
       "      <td>3.933134</td>\n",
       "      <td>0.053682</td>\n",
       "      <td>0.059777</td>\n",
       "      <td>0.003125</td>\n",
       "      <td>10</td>\n",
       "      <td>{'max_depth': 10}</td>\n",
       "      <td>0.887748</td>\n",
       "      <td>0.887031</td>\n",
       "      <td>0.890614</td>\n",
       "      <td>0.884165</td>\n",
       "      <td>...</td>\n",
       "      <td>0.886930</td>\n",
       "      <td>0.002248</td>\n",
       "      <td>4</td>\n",
       "      <td>0.929420</td>\n",
       "      <td>0.922553</td>\n",
       "      <td>0.928286</td>\n",
       "      <td>0.926435</td>\n",
       "      <td>0.928529</td>\n",
       "      <td>0.927045</td>\n",
       "      <td>0.002447</td>\n",
       "    </tr>\n",
       "    <tr>\n",
       "      <th>1</th>\n",
       "      <td>4.503921</td>\n",
       "      <td>0.031481</td>\n",
       "      <td>0.071830</td>\n",
       "      <td>0.004123</td>\n",
       "      <td>15</td>\n",
       "      <td>{'max_depth': 15}</td>\n",
       "      <td>0.912587</td>\n",
       "      <td>0.920946</td>\n",
       "      <td>0.913542</td>\n",
       "      <td>0.914020</td>\n",
       "      <td>...</td>\n",
       "      <td>0.915019</td>\n",
       "      <td>0.003009</td>\n",
       "      <td>3</td>\n",
       "      <td>0.980355</td>\n",
       "      <td>0.980594</td>\n",
       "      <td>0.983758</td>\n",
       "      <td>0.981907</td>\n",
       "      <td>0.981311</td>\n",
       "      <td>0.981585</td>\n",
       "      <td>0.001216</td>\n",
       "    </tr>\n",
       "    <tr>\n",
       "      <th>2</th>\n",
       "      <td>4.583008</td>\n",
       "      <td>0.056256</td>\n",
       "      <td>0.072929</td>\n",
       "      <td>0.003688</td>\n",
       "      <td>20</td>\n",
       "      <td>{'max_depth': 20}</td>\n",
       "      <td>0.920707</td>\n",
       "      <td>0.920946</td>\n",
       "      <td>0.916408</td>\n",
       "      <td>0.921423</td>\n",
       "      <td>...</td>\n",
       "      <td>0.919652</td>\n",
       "      <td>0.001856</td>\n",
       "      <td>2</td>\n",
       "      <td>0.995402</td>\n",
       "      <td>0.995999</td>\n",
       "      <td>0.996895</td>\n",
       "      <td>0.996059</td>\n",
       "      <td>0.995761</td>\n",
       "      <td>0.996023</td>\n",
       "      <td>0.000493</td>\n",
       "    </tr>\n",
       "    <tr>\n",
       "      <th>3</th>\n",
       "      <td>4.758910</td>\n",
       "      <td>0.104177</td>\n",
       "      <td>0.090992</td>\n",
       "      <td>0.031049</td>\n",
       "      <td>25</td>\n",
       "      <td>{'max_depth': 25}</td>\n",
       "      <td>0.922140</td>\n",
       "      <td>0.922618</td>\n",
       "      <td>0.918319</td>\n",
       "      <td>0.920468</td>\n",
       "      <td>...</td>\n",
       "      <td>0.920608</td>\n",
       "      <td>0.001606</td>\n",
       "      <td>1</td>\n",
       "      <td>0.999761</td>\n",
       "      <td>1.000000</td>\n",
       "      <td>0.999940</td>\n",
       "      <td>0.999821</td>\n",
       "      <td>0.999940</td>\n",
       "      <td>0.999893</td>\n",
       "      <td>0.000088</td>\n",
       "    </tr>\n",
       "  </tbody>\n",
       "</table>\n",
       "<p>4 rows × 21 columns</p>\n",
       "</div>"
      ],
      "text/plain": [
       "   mean_fit_time  std_fit_time  mean_score_time  std_score_time  \\\n",
       "0       3.933134      0.053682         0.059777        0.003125   \n",
       "1       4.503921      0.031481         0.071830        0.004123   \n",
       "2       4.583008      0.056256         0.072929        0.003688   \n",
       "3       4.758910      0.104177         0.090992        0.031049   \n",
       "\n",
       "  param_max_depth             params  split0_test_score  split1_test_score  \\\n",
       "0              10  {'max_depth': 10}           0.887748           0.887031   \n",
       "1              15  {'max_depth': 15}           0.912587           0.920946   \n",
       "2              20  {'max_depth': 20}           0.920707           0.920946   \n",
       "3              25  {'max_depth': 25}           0.922140           0.922618   \n",
       "\n",
       "   split2_test_score  split3_test_score  ...  mean_test_score  std_test_score  \\\n",
       "0           0.890614           0.884165  ...         0.886930        0.002248   \n",
       "1           0.913542           0.914020  ...         0.915019        0.003009   \n",
       "2           0.916408           0.921423  ...         0.919652        0.001856   \n",
       "3           0.918319           0.920468  ...         0.920608        0.001606   \n",
       "\n",
       "   rank_test_score  split0_train_score  split1_train_score  \\\n",
       "0                4            0.929420            0.922553   \n",
       "1                3            0.980355            0.980594   \n",
       "2                2            0.995402            0.995999   \n",
       "3                1            0.999761            1.000000   \n",
       "\n",
       "   split2_train_score  split3_train_score  split4_train_score  \\\n",
       "0            0.928286            0.926435            0.928529   \n",
       "1            0.983758            0.981907            0.981311   \n",
       "2            0.996895            0.996059            0.995761   \n",
       "3            0.999940            0.999821            0.999940   \n",
       "\n",
       "   mean_train_score  std_train_score  \n",
       "0          0.927045         0.002447  \n",
       "1          0.981585         0.001216  \n",
       "2          0.996023         0.000493  \n",
       "3          0.999893         0.000088  \n",
       "\n",
       "[4 rows x 21 columns]"
      ]
     },
     "execution_count": 424,
     "metadata": {},
     "output_type": "execute_result"
    }
   ],
   "source": [
    "# scores of GridSearch CV\n",
    "scores = rfgs.cv_results_\n",
    "pd.DataFrame(scores).head()"
   ]
  },
  {
   "cell_type": "code",
   "execution_count": 425,
   "metadata": {
    "colab": {
     "base_uri": "https://localhost:8080/",
     "height": 34
    },
    "colab_type": "code",
    "id": "SXlmRgRpkQQR",
    "outputId": "0770191c-b2f7-4bf1-c40d-90fef106701b"
   },
   "outputs": [
    {
     "name": "stdout",
     "output_type": "stream",
     "text": [
      "We can get accuracy of 0.9206075707451602 using {'max_depth': 25}\n"
     ]
    }
   ],
   "source": [
    "print('We can get accuracy of',rfgs.best_score_,'using',rfgs.best_params_)"
   ]
  },
  {
   "cell_type": "code",
   "execution_count": 426,
   "metadata": {
    "colab": {
     "base_uri": "https://localhost:8080/",
     "height": 280
    },
    "colab_type": "code",
    "id": "XGTUBO_nqIRo",
    "outputId": "11f84792-8ac9-458c-bcfb-cb53fd0964ef"
   },
   "outputs": [
    {
     "data": {
      "image/png": "[encoded data removed]",
      "text/plain": [
       "<Figure size 432x288 with 1 Axes>"
      ]
     },
     "metadata": {
      "needs_background": "light"
     },
     "output_type": "display_data"
    }
   ],
   "source": [
    "# plotting accuracies with n_estimators\n",
    "from sklearn.metrics import classification_report,confusion_matrix, accuracy_score\n",
    "plt.figure()\n",
    "plt.plot(scores[\"param_max_depth\"], \n",
    "         scores[\"mean_train_score\"], \n",
    "         label=\"training accuracy\")\n",
    "plt.plot(scores[\"param_max_depth\"], \n",
    "         scores[\"mean_test_score\"], \n",
    "         label=\"test accuracy\")\n",
    "plt.xlabel(\"max_depth\")\n",
    "plt.ylabel(\"Accuracy\")\n",
    "plt.legend()\n",
    "plt.show()"
   ]
  },
  {
   "cell_type": "code",
   "execution_count": 427,
   "metadata": {
    "colab": {
     "base_uri": "https://localhost:8080/",
     "height": 34
    },
    "colab_type": "code",
    "id": "42VKY1IeVLRJ",
    "outputId": "efb6a4a0-9cfa-49d2-c2b6-a96a171a89e0"
   },
   "outputs": [
    {
     "name": "stdout",
     "output_type": "stream",
     "text": [
      "We can get accuracy of 0.9206075707451602 using {'max_depth': 25}\n"
     ]
    }
   ],
   "source": [
    "print('We can get accuracy of',rfgs.best_score_,'using',rfgs.best_params_)"
   ]
  },
  {
   "cell_type": "markdown",
   "metadata": {
    "colab_type": "text",
    "id": "MmeawSQYqrtl"
   },
   "source": [
    "**hypertuning max_features*****"
   ]
  },
  {
   "cell_type": "code",
   "execution_count": 0,
   "metadata": {
    "colab": {},
    "colab_type": "code",
    "id": "vEyqtvPds7Pd"
   },
   "outputs": [],
   "source": [
    "# specify number of folds for k-fold CV\n",
    "n_folds = 5\n",
    "\n",
    "# parameters to build the model on\n",
    "parameters = {'max_features': [3, 8, 13,17]}\n",
    "\n",
    "# instantiate the model (note we are specifying a max_depth)\n",
    "rf1 = RandomForestClassifier(max_depth=10, class_weight=\"balanced\")\n",
    "rfgs = GridSearchCV(rf1, parameters, \n",
    "                    cv=n_folds, return_train_score=True,\n",
    "                   scoring=\"accuracy\")\n",
    "rfgs.fit(df_train_pca, y_train)"
   ]
  },
  {
   "cell_type": "code",
   "execution_count": 665,
   "metadata": {
    "colab": {
     "base_uri": "https://localhost:8080/",
     "height": 309
    },
    "colab_type": "code",
    "id": "dC-bC9jxtB7I",
    "outputId": "a8ac93d5-1057-48a7-af7b-e93944d71f77"
   },
   "outputs": [
    {
     "data": {
      "text/html": [
       "<div>\n",
       "<style scoped>\n",
       "    .dataframe tbody tr th:only-of-type {\n",
       "        vertical-align: middle;\n",
       "    }\n",
       "\n",
       "    .dataframe tbody tr th {\n",
       "        vertical-align: top;\n",
       "    }\n",
       "\n",
       "    .dataframe thead th {\n",
       "        text-align: right;\n",
       "    }\n",
       "</style>\n",
       "<table border=\"1\" class=\"dataframe\">\n",
       "  <thead>\n",
       "    <tr style=\"text-align: right;\">\n",
       "      <th></th>\n",
       "      <th>mean_fit_time</th>\n",
       "      <th>std_fit_time</th>\n",
       "      <th>mean_score_time</th>\n",
       "      <th>std_score_time</th>\n",
       "      <th>param_max_features</th>\n",
       "      <th>params</th>\n",
       "      <th>split0_test_score</th>\n",
       "      <th>split1_test_score</th>\n",
       "      <th>split2_test_score</th>\n",
       "      <th>split3_test_score</th>\n",
       "      <th>...</th>\n",
       "      <th>mean_test_score</th>\n",
       "      <th>std_test_score</th>\n",
       "      <th>rank_test_score</th>\n",
       "      <th>split0_train_score</th>\n",
       "      <th>split1_train_score</th>\n",
       "      <th>split2_train_score</th>\n",
       "      <th>split3_train_score</th>\n",
       "      <th>split4_train_score</th>\n",
       "      <th>mean_train_score</th>\n",
       "      <th>std_train_score</th>\n",
       "    </tr>\n",
       "  </thead>\n",
       "  <tbody>\n",
       "    <tr>\n",
       "      <th>0</th>\n",
       "      <td>3.413739</td>\n",
       "      <td>0.085685</td>\n",
       "      <td>0.055989</td>\n",
       "      <td>0.002160</td>\n",
       "      <td>3</td>\n",
       "      <td>{'max_features': 3}</td>\n",
       "      <td>0.893006</td>\n",
       "      <td>0.874060</td>\n",
       "      <td>0.856785</td>\n",
       "      <td>0.882107</td>\n",
       "      <td>...</td>\n",
       "      <td>0.876052</td>\n",
       "      <td>0.011852</td>\n",
       "      <td>2</td>\n",
       "      <td>0.922391</td>\n",
       "      <td>0.922391</td>\n",
       "      <td>0.911105</td>\n",
       "      <td>0.918844</td>\n",
       "      <td>0.920515</td>\n",
       "      <td>0.919049</td>\n",
       "      <td>0.004187</td>\n",
       "    </tr>\n",
       "    <tr>\n",
       "      <th>1</th>\n",
       "      <td>8.463211</td>\n",
       "      <td>0.338176</td>\n",
       "      <td>0.062273</td>\n",
       "      <td>0.012617</td>\n",
       "      <td>8</td>\n",
       "      <td>{'max_features': 8}</td>\n",
       "      <td>0.891056</td>\n",
       "      <td>0.870437</td>\n",
       "      <td>0.866537</td>\n",
       "      <td>0.884058</td>\n",
       "      <td>...</td>\n",
       "      <td>0.877501</td>\n",
       "      <td>0.008957</td>\n",
       "      <td>1</td>\n",
       "      <td>0.924760</td>\n",
       "      <td>0.925805</td>\n",
       "      <td>0.921416</td>\n",
       "      <td>0.920933</td>\n",
       "      <td>0.923163</td>\n",
       "      <td>0.923215</td>\n",
       "      <td>0.001873</td>\n",
       "    </tr>\n",
       "    <tr>\n",
       "      <th>2</th>\n",
       "      <td>15.493625</td>\n",
       "      <td>1.489093</td>\n",
       "      <td>0.062968</td>\n",
       "      <td>0.006723</td>\n",
       "      <td>13</td>\n",
       "      <td>{'max_features': 13}</td>\n",
       "      <td>0.890220</td>\n",
       "      <td>0.870437</td>\n",
       "      <td>0.863750</td>\n",
       "      <td>0.884615</td>\n",
       "      <td>...</td>\n",
       "      <td>0.874659</td>\n",
       "      <td>0.010826</td>\n",
       "      <td>3</td>\n",
       "      <td>0.924133</td>\n",
       "      <td>0.925805</td>\n",
       "      <td>0.918699</td>\n",
       "      <td>0.923581</td>\n",
       "      <td>0.917311</td>\n",
       "      <td>0.921906</td>\n",
       "      <td>0.003297</td>\n",
       "    </tr>\n",
       "    <tr>\n",
       "      <th>3</th>\n",
       "      <td>17.467777</td>\n",
       "      <td>1.356815</td>\n",
       "      <td>0.057345</td>\n",
       "      <td>0.008069</td>\n",
       "      <td>17</td>\n",
       "      <td>{'max_features': 17}</td>\n",
       "      <td>0.884369</td>\n",
       "      <td>0.865422</td>\n",
       "      <td>0.861521</td>\n",
       "      <td>0.879599</td>\n",
       "      <td>...</td>\n",
       "      <td>0.869420</td>\n",
       "      <td>0.010775</td>\n",
       "      <td>4</td>\n",
       "      <td>0.919186</td>\n",
       "      <td>0.917375</td>\n",
       "      <td>0.914658</td>\n",
       "      <td>0.918147</td>\n",
       "      <td>0.910414</td>\n",
       "      <td>0.915956</td>\n",
       "      <td>0.003151</td>\n",
       "    </tr>\n",
       "  </tbody>\n",
       "</table>\n",
       "<p>4 rows × 21 columns</p>\n",
       "</div>"
      ],
      "text/plain": [
       "   mean_fit_time  std_fit_time  mean_score_time  std_score_time  \\\n",
       "0       3.413739      0.085685         0.055989        0.002160   \n",
       "1       8.463211      0.338176         0.062273        0.012617   \n",
       "2      15.493625      1.489093         0.062968        0.006723   \n",
       "3      17.467777      1.356815         0.057345        0.008069   \n",
       "\n",
       "  param_max_features                params  split0_test_score  \\\n",
       "0                  3   {'max_features': 3}           0.893006   \n",
       "1                  8   {'max_features': 8}           0.891056   \n",
       "2                 13  {'max_features': 13}           0.890220   \n",
       "3                 17  {'max_features': 17}           0.884369   \n",
       "\n",
       "   split1_test_score  split2_test_score  split3_test_score  ...  \\\n",
       "0           0.874060           0.856785           0.882107  ...   \n",
       "1           0.870437           0.866537           0.884058  ...   \n",
       "2           0.870437           0.863750           0.884615  ...   \n",
       "3           0.865422           0.861521           0.879599  ...   \n",
       "\n",
       "   mean_test_score  std_test_score  rank_test_score  split0_train_score  \\\n",
       "0         0.876052        0.011852                2            0.922391   \n",
       "1         0.877501        0.008957                1            0.924760   \n",
       "2         0.874659        0.010826                3            0.924133   \n",
       "3         0.869420        0.010775                4            0.919186   \n",
       "\n",
       "   split1_train_score  split2_train_score  split3_train_score  \\\n",
       "0            0.922391            0.911105            0.918844   \n",
       "1            0.925805            0.921416            0.920933   \n",
       "2            0.925805            0.918699            0.923581   \n",
       "3            0.917375            0.914658            0.918147   \n",
       "\n",
       "   split4_train_score  mean_train_score  std_train_score  \n",
       "0            0.920515          0.919049         0.004187  \n",
       "1            0.923163          0.923215         0.001873  \n",
       "2            0.917311          0.921906         0.003297  \n",
       "3            0.910414          0.915956         0.003151  \n",
       "\n",
       "[4 rows x 21 columns]"
      ]
     },
     "execution_count": 665,
     "metadata": {},
     "output_type": "execute_result"
    }
   ],
   "source": [
    "# scores of GridSearch CV\n",
    "scores = rfgs.cv_results_\n",
    "pd.DataFrame(scores).head()"
   ]
  },
  {
   "cell_type": "code",
   "execution_count": 666,
   "metadata": {
    "colab": {
     "base_uri": "https://localhost:8080/",
     "height": 280
    },
    "colab_type": "code",
    "id": "sQ3vTIbYtL_C",
    "outputId": "eb1c0abb-a4d4-4ce7-f822-41dbe4564148"
   },
   "outputs": [
    {
     "data": {
      "image/png": "[encoded data removed]",
      "text/plain": [
       "<Figure size 432x288 with 1 Axes>"
      ]
     },
     "metadata": {
      "needs_background": "light"
     },
     "output_type": "display_data"
    }
   ],
   "source": [
    "# plotting accuracies with max_features\n",
    "from sklearn.metrics import classification_report,confusion_matrix, accuracy_score\n",
    "plt.figure()\n",
    "plt.plot(scores[\"param_max_features\"], \n",
    "         scores[\"mean_train_score\"], \n",
    "         label=\"training accuracy\")\n",
    "plt.plot(scores[\"param_max_features\"], \n",
    "         scores[\"mean_test_score\"], \n",
    "         label=\"test accuracy\")\n",
    "plt.xlabel(\"max_features\")\n",
    "plt.ylabel(\"Accuracy\")\n",
    "plt.legend()\n",
    "plt.show()"
   ]
  },
  {
   "cell_type": "code",
   "execution_count": 667,
   "metadata": {
    "colab": {
     "base_uri": "https://localhost:8080/",
     "height": 34
    },
    "colab_type": "code",
    "id": "W2-1HZDDu_nT",
    "outputId": "2214c596-ef2a-4392-9888-425168522b3e"
   },
   "outputs": [
    {
     "name": "stdout",
     "output_type": "stream",
     "text": [
      "We can get accuracy of 0.8775012246325558 using {'max_features': 8}\n"
     ]
    }
   ],
   "source": [
    "print('We can get accuracy of',rfgs.best_score_,'using',rfgs.best_params_)"
   ]
  },
  {
   "cell_type": "markdown",
   "metadata": {
    "colab_type": "text",
    "id": "aFxayQPOt8BN"
   },
   "source": [
    "***hypertuning hyperparameter Min Samples Leaf***"
   ]
  },
  {
   "cell_type": "code",
   "execution_count": 433,
   "metadata": {
    "colab": {
     "base_uri": "https://localhost:8080/",
     "height": 357
    },
    "colab_type": "code",
    "id": "bp11t5D-t7Vi",
    "outputId": "f7b21428-142d-41be-ac30-122a19b85062"
   },
   "outputs": [
    {
     "data": {
      "text/plain": [
       "GridSearchCV(cv=5, error_score=nan,\n",
       "             estimator=RandomForestClassifier(bootstrap=True, ccp_alpha=0.0,\n",
       "                                              class_weight='balanced',\n",
       "                                              criterion='gini', max_depth=10,\n",
       "                                              max_features='auto',\n",
       "                                              max_leaf_nodes=None,\n",
       "                                              max_samples=None,\n",
       "                                              min_impurity_decrease=0.0,\n",
       "                                              min_impurity_split=None,\n",
       "                                              min_samples_leaf=1,\n",
       "                                              min_samples_split=2,\n",
       "                                              min_weight_fraction_leaf=0.0,\n",
       "                                              n_estimators=100, n_jobs=None,\n",
       "                                              oob_score=False,\n",
       "                                              random_state=None, verbose=0,\n",
       "                                              warm_start=False),\n",
       "             iid='deprecated', n_jobs=None,\n",
       "             param_grid={'min_samples_leaf': range(100, 400, 50)},\n",
       "             pre_dispatch='2*n_jobs', refit=True, return_train_score=True,\n",
       "             scoring='accuracy', verbose=0)"
      ]
     },
     "execution_count": 433,
     "metadata": {},
     "output_type": "execute_result"
    }
   ],
   "source": [
    "# specify number of folds for k-fold CV\n",
    "n_folds = 5\n",
    "\n",
    "# parameters to build the model on\n",
    "parameters = {'min_samples_leaf': range(100, 400, 50)}\n",
    "\n",
    "# instantiate the model (note we are specifying a max_depth)\n",
    "rf1 = RandomForestClassifier(max_depth=10, class_weight=\"balanced\")\n",
    "rfgs = GridSearchCV(rf1, parameters, \n",
    "                    cv=n_folds, return_train_score=True,\n",
    "                   scoring=\"accuracy\")\n",
    "rfgs.fit(df_train_pca, y_train.values.ravel())"
   ]
  },
  {
   "cell_type": "code",
   "execution_count": 434,
   "metadata": {
    "colab": {
     "base_uri": "https://localhost:8080/",
     "height": 309
    },
    "colab_type": "code",
    "id": "nppM-r4lu5ch",
    "outputId": "0fdb5603-ff24-49c6-96b2-3a2ce478897d"
   },
   "outputs": [
    {
     "data": {
      "text/html": [
       "<div>\n",
       "<style scoped>\n",
       "    .dataframe tbody tr th:only-of-type {\n",
       "        vertical-align: middle;\n",
       "    }\n",
       "\n",
       "    .dataframe tbody tr th {\n",
       "        vertical-align: top;\n",
       "    }\n",
       "\n",
       "    .dataframe thead th {\n",
       "        text-align: right;\n",
       "    }\n",
       "</style>\n",
       "<table border=\"1\" class=\"dataframe\">\n",
       "  <thead>\n",
       "    <tr style=\"text-align: right;\">\n",
       "      <th></th>\n",
       "      <th>mean_fit_time</th>\n",
       "      <th>std_fit_time</th>\n",
       "      <th>mean_score_time</th>\n",
       "      <th>std_score_time</th>\n",
       "      <th>param_min_samples_leaf</th>\n",
       "      <th>params</th>\n",
       "      <th>split0_test_score</th>\n",
       "      <th>split1_test_score</th>\n",
       "      <th>split2_test_score</th>\n",
       "      <th>split3_test_score</th>\n",
       "      <th>...</th>\n",
       "      <th>mean_test_score</th>\n",
       "      <th>std_test_score</th>\n",
       "      <th>rank_test_score</th>\n",
       "      <th>split0_train_score</th>\n",
       "      <th>split1_train_score</th>\n",
       "      <th>split2_train_score</th>\n",
       "      <th>split3_train_score</th>\n",
       "      <th>split4_train_score</th>\n",
       "      <th>mean_train_score</th>\n",
       "      <th>std_train_score</th>\n",
       "    </tr>\n",
       "  </thead>\n",
       "  <tbody>\n",
       "    <tr>\n",
       "      <th>0</th>\n",
       "      <td>3.258261</td>\n",
       "      <td>0.079839</td>\n",
       "      <td>0.065393</td>\n",
       "      <td>0.013718</td>\n",
       "      <td>100</td>\n",
       "      <td>{'min_samples_leaf': 100}</td>\n",
       "      <td>0.815620</td>\n",
       "      <td>0.818963</td>\n",
       "      <td>0.816097</td>\n",
       "      <td>0.807977</td>\n",
       "      <td>...</td>\n",
       "      <td>0.813796</td>\n",
       "      <td>0.004032</td>\n",
       "      <td>1</td>\n",
       "      <td>0.822953</td>\n",
       "      <td>0.827491</td>\n",
       "      <td>0.827909</td>\n",
       "      <td>0.824685</td>\n",
       "      <td>0.824516</td>\n",
       "      <td>0.825511</td>\n",
       "      <td>0.001891</td>\n",
       "    </tr>\n",
       "    <tr>\n",
       "      <th>1</th>\n",
       "      <td>2.964460</td>\n",
       "      <td>0.031697</td>\n",
       "      <td>0.052615</td>\n",
       "      <td>0.003026</td>\n",
       "      <td>150</td>\n",
       "      <td>{'min_samples_leaf': 150}</td>\n",
       "      <td>0.801767</td>\n",
       "      <td>0.802006</td>\n",
       "      <td>0.803439</td>\n",
       "      <td>0.793647</td>\n",
       "      <td>...</td>\n",
       "      <td>0.800707</td>\n",
       "      <td>0.003578</td>\n",
       "      <td>2</td>\n",
       "      <td>0.804204</td>\n",
       "      <td>0.810712</td>\n",
       "      <td>0.814295</td>\n",
       "      <td>0.807548</td>\n",
       "      <td>0.810246</td>\n",
       "      <td>0.809401</td>\n",
       "      <td>0.003371</td>\n",
       "    </tr>\n",
       "    <tr>\n",
       "      <th>2</th>\n",
       "      <td>2.807050</td>\n",
       "      <td>0.058211</td>\n",
       "      <td>0.054392</td>\n",
       "      <td>0.009293</td>\n",
       "      <td>200</td>\n",
       "      <td>{'min_samples_leaf': 200}</td>\n",
       "      <td>0.795319</td>\n",
       "      <td>0.794841</td>\n",
       "      <td>0.792692</td>\n",
       "      <td>0.788154</td>\n",
       "      <td>...</td>\n",
       "      <td>0.792252</td>\n",
       "      <td>0.002724</td>\n",
       "      <td>3</td>\n",
       "      <td>0.793993</td>\n",
       "      <td>0.801218</td>\n",
       "      <td>0.802651</td>\n",
       "      <td>0.801756</td>\n",
       "      <td>0.799916</td>\n",
       "      <td>0.799907</td>\n",
       "      <td>0.003087</td>\n",
       "    </tr>\n",
       "    <tr>\n",
       "      <th>3</th>\n",
       "      <td>2.647471</td>\n",
       "      <td>0.069888</td>\n",
       "      <td>0.050909</td>\n",
       "      <td>0.002653</td>\n",
       "      <td>250</td>\n",
       "      <td>{'min_samples_leaf': 250}</td>\n",
       "      <td>0.787915</td>\n",
       "      <td>0.789348</td>\n",
       "      <td>0.779556</td>\n",
       "      <td>0.781466</td>\n",
       "      <td>...</td>\n",
       "      <td>0.785755</td>\n",
       "      <td>0.004401</td>\n",
       "      <td>4</td>\n",
       "      <td>0.785753</td>\n",
       "      <td>0.792978</td>\n",
       "      <td>0.794710</td>\n",
       "      <td>0.790888</td>\n",
       "      <td>0.795797</td>\n",
       "      <td>0.792025</td>\n",
       "      <td>0.003549</td>\n",
       "    </tr>\n",
       "    <tr>\n",
       "      <th>4</th>\n",
       "      <td>2.571249</td>\n",
       "      <td>0.054979</td>\n",
       "      <td>0.052108</td>\n",
       "      <td>0.004405</td>\n",
       "      <td>300</td>\n",
       "      <td>{'min_samples_leaf': 300}</td>\n",
       "      <td>0.781705</td>\n",
       "      <td>0.783855</td>\n",
       "      <td>0.784094</td>\n",
       "      <td>0.775018</td>\n",
       "      <td>...</td>\n",
       "      <td>0.780787</td>\n",
       "      <td>0.003370</td>\n",
       "      <td>5</td>\n",
       "      <td>0.779841</td>\n",
       "      <td>0.790052</td>\n",
       "      <td>0.794829</td>\n",
       "      <td>0.784797</td>\n",
       "      <td>0.784930</td>\n",
       "      <td>0.786890</td>\n",
       "      <td>0.005117</td>\n",
       "    </tr>\n",
       "  </tbody>\n",
       "</table>\n",
       "<p>5 rows × 21 columns</p>\n",
       "</div>"
      ],
      "text/plain": [
       "   mean_fit_time  std_fit_time  mean_score_time  std_score_time  \\\n",
       "0       3.258261      0.079839         0.065393        0.013718   \n",
       "1       2.964460      0.031697         0.052615        0.003026   \n",
       "2       2.807050      0.058211         0.054392        0.009293   \n",
       "3       2.647471      0.069888         0.050909        0.002653   \n",
       "4       2.571249      0.054979         0.052108        0.004405   \n",
       "\n",
       "  param_min_samples_leaf                     params  split0_test_score  \\\n",
       "0                    100  {'min_samples_leaf': 100}           0.815620   \n",
       "1                    150  {'min_samples_leaf': 150}           0.801767   \n",
       "2                    200  {'min_samples_leaf': 200}           0.795319   \n",
       "3                    250  {'min_samples_leaf': 250}           0.787915   \n",
       "4                    300  {'min_samples_leaf': 300}           0.781705   \n",
       "\n",
       "   split1_test_score  split2_test_score  split3_test_score  ...  \\\n",
       "0           0.818963           0.816097           0.807977  ...   \n",
       "1           0.802006           0.803439           0.793647  ...   \n",
       "2           0.794841           0.792692           0.788154  ...   \n",
       "3           0.789348           0.779556           0.781466  ...   \n",
       "4           0.783855           0.784094           0.775018  ...   \n",
       "\n",
       "   mean_test_score  std_test_score  rank_test_score  split0_train_score  \\\n",
       "0         0.813796        0.004032                1            0.822953   \n",
       "1         0.800707        0.003578                2            0.804204   \n",
       "2         0.792252        0.002724                3            0.793993   \n",
       "3         0.785755        0.004401                4            0.785753   \n",
       "4         0.780787        0.003370                5            0.779841   \n",
       "\n",
       "   split1_train_score  split2_train_score  split3_train_score  \\\n",
       "0            0.827491            0.827909            0.824685   \n",
       "1            0.810712            0.814295            0.807548   \n",
       "2            0.801218            0.802651            0.801756   \n",
       "3            0.792978            0.794710            0.790888   \n",
       "4            0.790052            0.794829            0.784797   \n",
       "\n",
       "   split4_train_score  mean_train_score  std_train_score  \n",
       "0            0.824516          0.825511         0.001891  \n",
       "1            0.810246          0.809401         0.003371  \n",
       "2            0.799916          0.799907         0.003087  \n",
       "3            0.795797          0.792025         0.003549  \n",
       "4            0.784930          0.786890         0.005117  \n",
       "\n",
       "[5 rows x 21 columns]"
      ]
     },
     "execution_count": 434,
     "metadata": {},
     "output_type": "execute_result"
    }
   ],
   "source": [
    "# scores of GridSearch CV\n",
    "scores = rfgs.cv_results_\n",
    "pd.DataFrame(scores).head()"
   ]
  },
  {
   "cell_type": "code",
   "execution_count": 436,
   "metadata": {
    "colab": {
     "base_uri": "https://localhost:8080/",
     "height": 34
    },
    "colab_type": "code",
    "id": "LnjF4htPmS77",
    "outputId": "dd618d90-6191-42ce-c020-b5d58be0c92f"
   },
   "outputs": [
    {
     "name": "stdout",
     "output_type": "stream",
     "text": [
      "We can get accuracy of 0.8137955729694134 using {'min_samples_leaf': 100}\n"
     ]
    }
   ],
   "source": [
    "print('We can get accuracy of',rfgs.best_score_,'using',rfgs.best_params_)"
   ]
  },
  {
   "cell_type": "code",
   "execution_count": 437,
   "metadata": {
    "colab": {
     "base_uri": "https://localhost:8080/",
     "height": 280
    },
    "colab_type": "code",
    "id": "is6t-k_AvA3n",
    "outputId": "81361467-1050-4acb-a650-1aadbc2b18c8"
   },
   "outputs": [
    {
     "data": {
      "image/png": "[encoded data removed]",
      "text/plain": [
       "<Figure size 432x288 with 1 Axes>"
      ]
     },
     "metadata": {
      "needs_background": "light"
     },
     "output_type": "display_data"
    }
   ],
   "source": [
    "# plotting accuracies with min_sample_leaf\n",
    "plt.figure()\n",
    "plt.plot(scores[\"param_min_samples_leaf\"], \n",
    "         scores[\"mean_train_score\"], \n",
    "         label=\"training accuracy\")\n",
    "plt.plot(scores[\"param_min_samples_leaf\"], \n",
    "         scores[\"mean_test_score\"], \n",
    "         label=\"test accuracy\")\n",
    "plt.xlabel(\"min_samples_leaf\")\n",
    "plt.ylabel(\"Accuracy\")\n",
    "plt.legend()\n",
    "plt.show()"
   ]
  },
  {
   "cell_type": "code",
   "execution_count": null,
   "metadata": {},
   "outputs": [],
   "source": []
  },
  {
   "cell_type": "markdown",
   "metadata": {
    "colab_type": "text",
    "id": "gUQn7ygiwAd4"
   },
   "source": [
    "***hypertuning hyperparameter Min Samples Split***"
   ]
  },
  {
   "cell_type": "code",
   "execution_count": 438,
   "metadata": {
    "colab": {
     "base_uri": "https://localhost:8080/",
     "height": 357
    },
    "colab_type": "code",
    "id": "zkkZBKpLwGpX",
    "outputId": "5e0a41be-7cb7-45d0-87c3-cc6dec9f70b8"
   },
   "outputs": [
    {
     "data": {
      "text/plain": [
       "GridSearchCV(cv=5, error_score=nan,\n",
       "             estimator=RandomForestClassifier(bootstrap=True, ccp_alpha=0.0,\n",
       "                                              class_weight='balanced',\n",
       "                                              criterion='gini', max_depth=10,\n",
       "                                              max_features='auto',\n",
       "                                              max_leaf_nodes=None,\n",
       "                                              max_samples=None,\n",
       "                                              min_impurity_decrease=0.0,\n",
       "                                              min_impurity_split=None,\n",
       "                                              min_samples_leaf=1,\n",
       "                                              min_samples_split=2,\n",
       "                                              min_weight_fraction_leaf=0.0,\n",
       "                                              n_estimators=100, n_jobs=None,\n",
       "                                              oob_score=False,\n",
       "                                              random_state=None, verbose=0,\n",
       "                                              warm_start=False),\n",
       "             iid='deprecated', n_jobs=None,\n",
       "             param_grid={'min_samples_split': range(50, 300, 50)},\n",
       "             pre_dispatch='2*n_jobs', refit=True, return_train_score=True,\n",
       "             scoring='accuracy', verbose=0)"
      ]
     },
     "execution_count": 438,
     "metadata": {},
     "output_type": "execute_result"
    }
   ],
   "source": [
    "# specify number of folds for k-fold CV\n",
    "n_folds = 5\n",
    "\n",
    "# parameters to build the model on\n",
    "parameters = {'min_samples_split': range(50, 300, 50)}\n",
    "  \n",
    "# instantiate the model (note we are specifying a max_depth)\n",
    "rf1 = RandomForestClassifier(max_depth=10, class_weight=\"balanced\")\n",
    "rfgs = GridSearchCV(rf1, parameters, \n",
    "                    cv=n_folds, return_train_score=True,\n",
    "                   scoring=\"accuracy\")\n",
    "rfgs.fit(df_train_pca, y_train.values.ravel())"
   ]
  },
  {
   "cell_type": "code",
   "execution_count": 439,
   "metadata": {
    "colab": {
     "base_uri": "https://localhost:8080/",
     "height": 309
    },
    "colab_type": "code",
    "id": "zJOYjfCExTDn",
    "outputId": "92ff1868-71cb-4522-b196-89704bc1451b"
   },
   "outputs": [
    {
     "data": {
      "text/html": [
       "<div>\n",
       "<style scoped>\n",
       "    .dataframe tbody tr th:only-of-type {\n",
       "        vertical-align: middle;\n",
       "    }\n",
       "\n",
       "    .dataframe tbody tr th {\n",
       "        vertical-align: top;\n",
       "    }\n",
       "\n",
       "    .dataframe thead th {\n",
       "        text-align: right;\n",
       "    }\n",
       "</style>\n",
       "<table border=\"1\" class=\"dataframe\">\n",
       "  <thead>\n",
       "    <tr style=\"text-align: right;\">\n",
       "      <th></th>\n",
       "      <th>mean_fit_time</th>\n",
       "      <th>std_fit_time</th>\n",
       "      <th>mean_score_time</th>\n",
       "      <th>std_score_time</th>\n",
       "      <th>param_min_samples_split</th>\n",
       "      <th>params</th>\n",
       "      <th>split0_test_score</th>\n",
       "      <th>split1_test_score</th>\n",
       "      <th>split2_test_score</th>\n",
       "      <th>split3_test_score</th>\n",
       "      <th>...</th>\n",
       "      <th>mean_test_score</th>\n",
       "      <th>std_test_score</th>\n",
       "      <th>rank_test_score</th>\n",
       "      <th>split0_train_score</th>\n",
       "      <th>split1_train_score</th>\n",
       "      <th>split2_train_score</th>\n",
       "      <th>split3_train_score</th>\n",
       "      <th>split4_train_score</th>\n",
       "      <th>mean_train_score</th>\n",
       "      <th>std_train_score</th>\n",
       "    </tr>\n",
       "  </thead>\n",
       "  <tbody>\n",
       "    <tr>\n",
       "      <th>0</th>\n",
       "      <td>4.058382</td>\n",
       "      <td>0.102550</td>\n",
       "      <td>0.064116</td>\n",
       "      <td>0.005752</td>\n",
       "      <td>50</td>\n",
       "      <td>{'min_samples_split': 50}</td>\n",
       "      <td>0.875806</td>\n",
       "      <td>0.876761</td>\n",
       "      <td>0.869596</td>\n",
       "      <td>0.867925</td>\n",
       "      <td>...</td>\n",
       "      <td>0.872361</td>\n",
       "      <td>0.003434</td>\n",
       "      <td>1</td>\n",
       "      <td>0.903923</td>\n",
       "      <td>0.897355</td>\n",
       "      <td>0.903147</td>\n",
       "      <td>0.895802</td>\n",
       "      <td>0.900167</td>\n",
       "      <td>0.900079</td>\n",
       "      <td>0.003159</td>\n",
       "    </tr>\n",
       "    <tr>\n",
       "      <th>1</th>\n",
       "      <td>3.912810</td>\n",
       "      <td>0.068948</td>\n",
       "      <td>0.061389</td>\n",
       "      <td>0.004724</td>\n",
       "      <td>100</td>\n",
       "      <td>{'min_samples_split': 100}</td>\n",
       "      <td>0.857416</td>\n",
       "      <td>0.858849</td>\n",
       "      <td>0.855027</td>\n",
       "      <td>0.850967</td>\n",
       "      <td>...</td>\n",
       "      <td>0.856502</td>\n",
       "      <td>0.003261</td>\n",
       "      <td>2</td>\n",
       "      <td>0.879740</td>\n",
       "      <td>0.876217</td>\n",
       "      <td>0.882904</td>\n",
       "      <td>0.878247</td>\n",
       "      <td>0.879627</td>\n",
       "      <td>0.879347</td>\n",
       "      <td>0.002186</td>\n",
       "    </tr>\n",
       "    <tr>\n",
       "      <th>2</th>\n",
       "      <td>3.803410</td>\n",
       "      <td>0.028911</td>\n",
       "      <td>0.058375</td>\n",
       "      <td>0.006574</td>\n",
       "      <td>150</td>\n",
       "      <td>{'min_samples_split': 150}</td>\n",
       "      <td>0.851445</td>\n",
       "      <td>0.849295</td>\n",
       "      <td>0.840220</td>\n",
       "      <td>0.839264</td>\n",
       "      <td>...</td>\n",
       "      <td>0.845992</td>\n",
       "      <td>0.005162</td>\n",
       "      <td>3</td>\n",
       "      <td>0.864692</td>\n",
       "      <td>0.861289</td>\n",
       "      <td>0.868573</td>\n",
       "      <td>0.860512</td>\n",
       "      <td>0.866790</td>\n",
       "      <td>0.864371</td>\n",
       "      <td>0.003099</td>\n",
       "    </tr>\n",
       "    <tr>\n",
       "      <th>3</th>\n",
       "      <td>3.759199</td>\n",
       "      <td>0.136453</td>\n",
       "      <td>0.057979</td>\n",
       "      <td>0.006735</td>\n",
       "      <td>200</td>\n",
       "      <td>{'min_samples_split': 200}</td>\n",
       "      <td>0.839026</td>\n",
       "      <td>0.842130</td>\n",
       "      <td>0.835204</td>\n",
       "      <td>0.830428</td>\n",
       "      <td>...</td>\n",
       "      <td>0.835913</td>\n",
       "      <td>0.004214</td>\n",
       "      <td>4</td>\n",
       "      <td>0.855437</td>\n",
       "      <td>0.852272</td>\n",
       "      <td>0.853944</td>\n",
       "      <td>0.848749</td>\n",
       "      <td>0.851146</td>\n",
       "      <td>0.852310</td>\n",
       "      <td>0.002301</td>\n",
       "    </tr>\n",
       "    <tr>\n",
       "      <th>4</th>\n",
       "      <td>3.564885</td>\n",
       "      <td>0.057454</td>\n",
       "      <td>0.052718</td>\n",
       "      <td>0.001757</td>\n",
       "      <td>250</td>\n",
       "      <td>{'min_samples_split': 250}</td>\n",
       "      <td>0.832816</td>\n",
       "      <td>0.832099</td>\n",
       "      <td>0.829233</td>\n",
       "      <td>0.823262</td>\n",
       "      <td>...</td>\n",
       "      <td>0.828604</td>\n",
       "      <td>0.003684</td>\n",
       "      <td>5</td>\n",
       "      <td>0.843673</td>\n",
       "      <td>0.842658</td>\n",
       "      <td>0.844987</td>\n",
       "      <td>0.840509</td>\n",
       "      <td>0.839563</td>\n",
       "      <td>0.842278</td>\n",
       "      <td>0.001997</td>\n",
       "    </tr>\n",
       "  </tbody>\n",
       "</table>\n",
       "<p>5 rows × 21 columns</p>\n",
       "</div>"
      ],
      "text/plain": [
       "   mean_fit_time  std_fit_time  mean_score_time  std_score_time  \\\n",
       "0       4.058382      0.102550         0.064116        0.005752   \n",
       "1       3.912810      0.068948         0.061389        0.004724   \n",
       "2       3.803410      0.028911         0.058375        0.006574   \n",
       "3       3.759199      0.136453         0.057979        0.006735   \n",
       "4       3.564885      0.057454         0.052718        0.001757   \n",
       "\n",
       "  param_min_samples_split                      params  split0_test_score  \\\n",
       "0                      50   {'min_samples_split': 50}           0.875806   \n",
       "1                     100  {'min_samples_split': 100}           0.857416   \n",
       "2                     150  {'min_samples_split': 150}           0.851445   \n",
       "3                     200  {'min_samples_split': 200}           0.839026   \n",
       "4                     250  {'min_samples_split': 250}           0.832816   \n",
       "\n",
       "   split1_test_score  split2_test_score  split3_test_score  ...  \\\n",
       "0           0.876761           0.869596           0.867925  ...   \n",
       "1           0.858849           0.855027           0.850967  ...   \n",
       "2           0.849295           0.840220           0.839264  ...   \n",
       "3           0.842130           0.835204           0.830428  ...   \n",
       "4           0.832099           0.829233           0.823262  ...   \n",
       "\n",
       "   mean_test_score  std_test_score  rank_test_score  split0_train_score  \\\n",
       "0         0.872361        0.003434                1            0.903923   \n",
       "1         0.856502        0.003261                2            0.879740   \n",
       "2         0.845992        0.005162                3            0.864692   \n",
       "3         0.835913        0.004214                4            0.855437   \n",
       "4         0.828604        0.003684                5            0.843673   \n",
       "\n",
       "   split1_train_score  split2_train_score  split3_train_score  \\\n",
       "0            0.897355            0.903147            0.895802   \n",
       "1            0.876217            0.882904            0.878247   \n",
       "2            0.861289            0.868573            0.860512   \n",
       "3            0.852272            0.853944            0.848749   \n",
       "4            0.842658            0.844987            0.840509   \n",
       "\n",
       "   split4_train_score  mean_train_score  std_train_score  \n",
       "0            0.900167          0.900079         0.003159  \n",
       "1            0.879627          0.879347         0.002186  \n",
       "2            0.866790          0.864371         0.003099  \n",
       "3            0.851146          0.852310         0.002301  \n",
       "4            0.839563          0.842278         0.001997  \n",
       "\n",
       "[5 rows x 21 columns]"
      ]
     },
     "execution_count": 439,
     "metadata": {},
     "output_type": "execute_result"
    }
   ],
   "source": [
    "# scores of GridSearch CV\n",
    "scores = rfgs.cv_results_\n",
    "pd.DataFrame(scores).head()"
   ]
  },
  {
   "cell_type": "code",
   "execution_count": 440,
   "metadata": {
    "colab": {
     "base_uri": "https://localhost:8080/",
     "height": 34
    },
    "colab_type": "code",
    "id": "pxqqaxCjmcbm",
    "outputId": "3b91867a-26e6-4586-95a9-3799d6e13a57"
   },
   "outputs": [
    {
     "name": "stdout",
     "output_type": "stream",
     "text": [
      "We can get accuracy of 0.8723607220081815 using {'min_samples_split': 50}\n"
     ]
    }
   ],
   "source": [
    "print('We can get accuracy of',rfgs.best_score_,'using',rfgs.best_params_)"
   ]
  },
  {
   "cell_type": "code",
   "execution_count": 0,
   "metadata": {
    "colab": {
     "base_uri": "https://localhost:8080/",
     "height": 280
    },
    "colab_type": "code",
    "id": "Vpg6viBBxZGF",
    "outputId": "3a92d31f-e9e0-46d0-b433-568ff182ebb3"
   },
   "outputs": [
    {
     "data": {
      "image/png": "[encoded data removed]",
      "text/plain": [
       "<Figure size 432x288 with 1 Axes>"
      ]
     },
     "metadata": {
      "needs_background": "light",
      "tags": []
     },
     "output_type": "display_data"
    }
   ],
   "source": [
    "# plotting accuracies with min_sample_split\n",
    "plt.figure()\n",
    "plt.plot(scores[\"param_min_samples_split\"], \n",
    "         scores[\"mean_train_score\"], \n",
    "         label=\"training accuracy\")\n",
    "plt.plot(scores[\"param_min_samples_split\"], \n",
    "         scores[\"mean_test_score\"], \n",
    "         label=\"test accuracy\")\n",
    "plt.xlabel(\"min_samples_split\")\n",
    "plt.ylabel(\"Accuracy\")\n",
    "plt.legend()\n",
    "plt.show()"
   ]
  },
  {
   "cell_type": "code",
   "execution_count": 0,
   "metadata": {
    "colab": {},
    "colab_type": "code",
    "id": "om90vkTryHSN"
   },
   "outputs": [],
   "source": []
  },
  {
   "cell_type": "markdown",
   "metadata": {
    "colab_type": "text",
    "id": "T27tv39Ryede"
   },
   "source": [
    "# Fitting the final model with the best parameters obtained from grid search."
   ]
  },
  {
   "cell_type": "code",
   "execution_count": 704,
   "metadata": {
    "colab": {},
    "colab_type": "code",
    "id": "ewxDDNr5oMyY"
   },
   "outputs": [],
   "source": [
    "from sklearn.ensemble import RandomForestClassifier\n",
    "rfc = RandomForestClassifier(bootstrap=True,class_weight=\"balanced\",\n",
    "                             max_depth=10,\n",
    "                             min_samples_leaf=100, \n",
    "                             min_samples_split=50,\n",
    "                             max_features=8,\n",
    "                             n_estimators=350,\n",
    "                             random_state=10)"
   ]
  },
  {
   "cell_type": "code",
   "execution_count": 705,
   "metadata": {
    "colab": {
     "base_uri": "https://localhost:8080/",
     "height": 153
    },
    "colab_type": "code",
    "id": "t1a6hFn5pMEh",
    "outputId": "ba1deafc-1f6d-4006-c8b7-69f1f7ce7eaa"
   },
   "outputs": [
    {
     "data": {
      "text/plain": [
       "RandomForestClassifier(bootstrap=True, ccp_alpha=0.0, class_weight='balanced',\n",
       "                       criterion='gini', max_depth=10, max_features=8,\n",
       "                       max_leaf_nodes=None, max_samples=None,\n",
       "                       min_impurity_decrease=0.0, min_impurity_split=None,\n",
       "                       min_samples_leaf=100, min_samples_split=50,\n",
       "                       min_weight_fraction_leaf=0.0, n_estimators=350,\n",
       "                       n_jobs=None, oob_score=False, random_state=10, verbose=0,\n",
       "                       warm_start=False)"
      ]
     },
     "execution_count": 705,
     "metadata": {},
     "output_type": "execute_result"
    }
   ],
   "source": [
    "rfc.fit(df_train_pca, y_train)\n"
   ]
  },
  {
   "cell_type": "markdown",
   "metadata": {},
   "source": [
    "**** Checking Performance ****"
   ]
  },
  {
   "cell_type": "code",
   "execution_count": 706,
   "metadata": {
    "colab": {
     "base_uri": "https://localhost:8080/",
     "height": 85
    },
    "colab_type": "code",
    "id": "LAt-sghgs9cm",
    "outputId": "838de270-5628-4871-d917-4ba8d4ed5f8d"
   },
   "outputs": [
    {
     "name": "stdout",
     "output_type": "stream",
     "text": [
      "Training Model parameters: \n",
      "Accuracy : 0.8494\n",
      "Recall/Sensitivity : 0.8617\n",
      "AUC Score (Train): 0.927490\n"
     ]
    }
   ],
   "source": [
    "dtrain_predict=rfc.predict(df_train_pca)\n",
    "dtrain_predprob = rfc.predict_proba(df_train_pca)[:,1]\n",
    "print(\"Training Model parameters: \")\n",
    "print (\"Accuracy : %.4g\" % metrics.roc_auc_score(y_train, dtrain_predict))\n",
    "print (\"Recall/Sensitivity : %.4g\" % metrics.recall_score(y_train, dtrain_predict))\n",
    "print (\"AUC Score (Train): %f\" % metrics.roc_auc_score(y_train, dtrain_predprob))\n",
    "#print(\"Precision : {}\".format(metrics.precision_score(predprob.Churn, predprob.Finalpredicted)))\n"
   ]
  },
  {
   "cell_type": "markdown",
   "metadata": {},
   "source": [
    "**** Model Performance on Test Data ***"
   ]
  },
  {
   "cell_type": "code",
   "execution_count": 709,
   "metadata": {
    "colab": {},
    "colab_type": "code",
    "id": "VsE6Qx9jzHlo"
   },
   "outputs": [],
   "source": [
    "predict_test = rfc.predict(df_test_pca)"
   ]
  },
  {
   "cell_type": "code",
   "execution_count": 710,
   "metadata": {
    "colab": {
     "base_uri": "https://localhost:8080/",
     "height": 85
    },
    "colab_type": "code",
    "id": "f7lxY67ezgzi",
    "outputId": "aa7499fe-f6a7-490c-f030-3721f4bf5201"
   },
   "outputs": [
    {
     "name": "stdout",
     "output_type": "stream",
     "text": [
      "Model performance on Test data \n",
      "Accuracy : 0.795\n",
      "Recall/Sensitivity : 0.853\n",
      "AUC Score (Train): 0.795009\n"
     ]
    }
   ],
   "source": [
    "print(\"Model performance on Test data \")\n",
    "print (\"Accuracy : %.4g\" % metrics.roc_auc_score(y_test, predict_test))\n",
    "print (\"Recall/Sensitivity : %.4g\" % metrics.recall_score(y_test, predict_test))\n",
    "print (\"AUC Score (Train): %f\" % metrics.roc_auc_score(y_test, predict_test))"
   ]
  },
  {
   "cell_type": "markdown",
   "metadata": {},
   "source": [
    "***Notes***\n",
    "    The Model Performs quite satisfactorily in Random Forest as:\n",
    "        1. Accuracy is good in both Training and Test Data sets\n",
    "        2. Recall/Sensitivity is maintained and is above 85% in both Training and Test Data sets\n",
    "        3. AUC score is satisfactory but there is a variation of 20% between Training and Test which we will try to improve once we define the threshold probability and make predictions"
   ]
  },
  {
   "cell_type": "code",
   "execution_count": 711,
   "metadata": {
    "colab": {},
    "colab_type": "code",
    "id": "2Oz6kzfTt-mD"
   },
   "outputs": [],
   "source": [
    "rfpred_train=pd.DataFrame({'Churn':y_train,'Probs':dtrain_predprob})"
   ]
  },
  {
   "cell_type": "code",
   "execution_count": 712,
   "metadata": {
    "colab": {
     "base_uri": "https://localhost:8080/",
     "height": 204
    },
    "colab_type": "code",
    "id": "lLnKgPgnwJu3",
    "outputId": "6b9d24f4-24e0-4f43-8a3b-8b77907822be"
   },
   "outputs": [
    {
     "data": {
      "text/html": [
       "<div>\n",
       "<style scoped>\n",
       "    .dataframe tbody tr th:only-of-type {\n",
       "        vertical-align: middle;\n",
       "    }\n",
       "\n",
       "    .dataframe tbody tr th {\n",
       "        vertical-align: top;\n",
       "    }\n",
       "\n",
       "    .dataframe thead th {\n",
       "        text-align: right;\n",
       "    }\n",
       "</style>\n",
       "<table border=\"1\" class=\"dataframe\">\n",
       "  <thead>\n",
       "    <tr style=\"text-align: right;\">\n",
       "      <th></th>\n",
       "      <th>Churn</th>\n",
       "      <th>Probs</th>\n",
       "    </tr>\n",
       "  </thead>\n",
       "  <tbody>\n",
       "    <tr>\n",
       "      <th>0</th>\n",
       "      <td>0</td>\n",
       "      <td>0.286831</td>\n",
       "    </tr>\n",
       "    <tr>\n",
       "      <th>1</th>\n",
       "      <td>1</td>\n",
       "      <td>0.939682</td>\n",
       "    </tr>\n",
       "    <tr>\n",
       "      <th>2</th>\n",
       "      <td>0</td>\n",
       "      <td>0.179675</td>\n",
       "    </tr>\n",
       "    <tr>\n",
       "      <th>3</th>\n",
       "      <td>0</td>\n",
       "      <td>0.160300</td>\n",
       "    </tr>\n",
       "    <tr>\n",
       "      <th>4</th>\n",
       "      <td>0</td>\n",
       "      <td>0.061806</td>\n",
       "    </tr>\n",
       "  </tbody>\n",
       "</table>\n",
       "</div>"
      ],
      "text/plain": [
       "   Churn     Probs\n",
       "0      0  0.286831\n",
       "1      1  0.939682\n",
       "2      0  0.179675\n",
       "3      0  0.160300\n",
       "4      0  0.061806"
      ]
     },
     "execution_count": 712,
     "metadata": {},
     "output_type": "execute_result"
    }
   ],
   "source": [
    "rfpred_train.head()"
   ]
  },
  {
   "cell_type": "code",
   "execution_count": 713,
   "metadata": {
    "colab": {},
    "colab_type": "code",
    "id": "sNMBa-9qwNjI"
   },
   "outputs": [],
   "source": [
    "rfpred_train['predicted']=rfpred_train.Probs.map(lambda x:1 if x>0.5 else 0)"
   ]
  },
  {
   "cell_type": "code",
   "execution_count": 714,
   "metadata": {
    "colab": {
     "base_uri": "https://localhost:8080/",
     "height": 204
    },
    "colab_type": "code",
    "id": "uMpeJqE0wfzK",
    "outputId": "0fb00f52-85f4-4315-95f4-19e14d46ec61"
   },
   "outputs": [
    {
     "data": {
      "text/html": [
       "<div>\n",
       "<style scoped>\n",
       "    .dataframe tbody tr th:only-of-type {\n",
       "        vertical-align: middle;\n",
       "    }\n",
       "\n",
       "    .dataframe tbody tr th {\n",
       "        vertical-align: top;\n",
       "    }\n",
       "\n",
       "    .dataframe thead th {\n",
       "        text-align: right;\n",
       "    }\n",
       "</style>\n",
       "<table border=\"1\" class=\"dataframe\">\n",
       "  <thead>\n",
       "    <tr style=\"text-align: right;\">\n",
       "      <th></th>\n",
       "      <th>Churn</th>\n",
       "      <th>Probs</th>\n",
       "      <th>predicted</th>\n",
       "    </tr>\n",
       "  </thead>\n",
       "  <tbody>\n",
       "    <tr>\n",
       "      <th>0</th>\n",
       "      <td>0</td>\n",
       "      <td>0.286831</td>\n",
       "      <td>0</td>\n",
       "    </tr>\n",
       "    <tr>\n",
       "      <th>1</th>\n",
       "      <td>1</td>\n",
       "      <td>0.939682</td>\n",
       "      <td>1</td>\n",
       "    </tr>\n",
       "    <tr>\n",
       "      <th>2</th>\n",
       "      <td>0</td>\n",
       "      <td>0.179675</td>\n",
       "      <td>0</td>\n",
       "    </tr>\n",
       "    <tr>\n",
       "      <th>3</th>\n",
       "      <td>0</td>\n",
       "      <td>0.160300</td>\n",
       "      <td>0</td>\n",
       "    </tr>\n",
       "    <tr>\n",
       "      <th>4</th>\n",
       "      <td>0</td>\n",
       "      <td>0.061806</td>\n",
       "      <td>0</td>\n",
       "    </tr>\n",
       "  </tbody>\n",
       "</table>\n",
       "</div>"
      ],
      "text/plain": [
       "   Churn     Probs  predicted\n",
       "0      0  0.286831          0\n",
       "1      1  0.939682          1\n",
       "2      0  0.179675          0\n",
       "3      0  0.160300          0\n",
       "4      0  0.061806          0"
      ]
     },
     "execution_count": 714,
     "metadata": {},
     "output_type": "execute_result"
    }
   ],
   "source": [
    "rfpred_train.head()"
   ]
  },
  {
   "cell_type": "code",
   "execution_count": 715,
   "metadata": {
    "colab": {
     "base_uri": "https://localhost:8080/",
     "height": 466
    },
    "colab_type": "code",
    "id": "mQ00dXUcxB22",
    "outputId": "35934395-fdf2-49a8-9d49-11f86dd56d35"
   },
   "outputs": [
    {
     "name": "stdout",
     "output_type": "stream",
     "text": [
      "     prob  accuracy     sensi     speci\n",
      "0.0   0.0  0.500689  1.000000  0.000000\n",
      "0.1   0.1  0.662240  0.996056  0.327505\n",
      "0.2   0.2  0.750981  0.977579  0.523757\n",
      "0.3   0.3  0.802848  0.951889  0.653396\n",
      "0.4   0.4  0.834732  0.917947  0.751288\n",
      "0.5   0.5  0.849414  0.861688  0.837106\n",
      "0.6   0.6  0.837747  0.775535  0.900130\n",
      "0.7   0.7  0.810280  0.677963  0.942961\n",
      "0.8   0.8  0.749994  0.525171  0.975436\n",
      "0.9   0.9  0.615596  0.234326  0.997918\n"
     ]
    },
    {
     "data": {
      "image/png": "[encoded data removed]",
      "text/plain": [
       "<Figure size 432x288 with 1 Axes>"
      ]
     },
     "metadata": {
      "needs_background": "light"
     },
     "output_type": "display_data"
    }
   ],
   "source": [
    "findOptimalCutoff(rfpred_train)"
   ]
  },
  {
   "cell_type": "code",
   "execution_count": 0,
   "metadata": {
    "colab": {},
    "colab_type": "code",
    "id": "53YTa9t-yPHd"
   },
   "outputs": [],
   "source": []
  },
  {
   "cell_type": "markdown",
   "metadata": {
    "colab_type": "text",
    "id": "edSHJRCwyQPn"
   },
   "source": [
    "# From the curve above, 0.52 is the optimal point with high enough sensitivity."
   ]
  },
  {
   "cell_type": "markdown",
   "metadata": {},
   "source": [
    "***Fine tuning/Evaluating the model with Threshold probability of 0.52***"
   ]
  },
  {
   "cell_type": "code",
   "execution_count": 716,
   "metadata": {
    "colab": {},
    "colab_type": "code",
    "id": "4QmzpssiyYqu"
   },
   "outputs": [],
   "source": [
    "rfpred_train['Finalpredicted']=rfpred_train.Probs.map(lambda x:1 if x>0.52 else 0)"
   ]
  },
  {
   "cell_type": "code",
   "execution_count": 717,
   "metadata": {
    "colab": {
     "base_uri": "https://localhost:8080/",
     "height": 204
    },
    "colab_type": "code",
    "id": "mdoFoHUMyvZb",
    "outputId": "ec82d824-6eaf-4abe-efc7-50138180000a"
   },
   "outputs": [
    {
     "data": {
      "text/html": [
       "<div>\n",
       "<style scoped>\n",
       "    .dataframe tbody tr th:only-of-type {\n",
       "        vertical-align: middle;\n",
       "    }\n",
       "\n",
       "    .dataframe tbody tr th {\n",
       "        vertical-align: top;\n",
       "    }\n",
       "\n",
       "    .dataframe thead th {\n",
       "        text-align: right;\n",
       "    }\n",
       "</style>\n",
       "<table border=\"1\" class=\"dataframe\">\n",
       "  <thead>\n",
       "    <tr style=\"text-align: right;\">\n",
       "      <th></th>\n",
       "      <th>Churn</th>\n",
       "      <th>Probs</th>\n",
       "      <th>predicted</th>\n",
       "      <th>0.0</th>\n",
       "      <th>0.1</th>\n",
       "      <th>0.2</th>\n",
       "      <th>0.3</th>\n",
       "      <th>0.4</th>\n",
       "      <th>0.5</th>\n",
       "      <th>0.6</th>\n",
       "      <th>0.7</th>\n",
       "      <th>0.8</th>\n",
       "      <th>0.9</th>\n",
       "      <th>Finalpredicted</th>\n",
       "    </tr>\n",
       "  </thead>\n",
       "  <tbody>\n",
       "    <tr>\n",
       "      <th>0</th>\n",
       "      <td>0</td>\n",
       "      <td>0.286831</td>\n",
       "      <td>0</td>\n",
       "      <td>1</td>\n",
       "      <td>1</td>\n",
       "      <td>1</td>\n",
       "      <td>0</td>\n",
       "      <td>0</td>\n",
       "      <td>0</td>\n",
       "      <td>0</td>\n",
       "      <td>0</td>\n",
       "      <td>0</td>\n",
       "      <td>0</td>\n",
       "      <td>0</td>\n",
       "    </tr>\n",
       "    <tr>\n",
       "      <th>1</th>\n",
       "      <td>1</td>\n",
       "      <td>0.939682</td>\n",
       "      <td>1</td>\n",
       "      <td>1</td>\n",
       "      <td>1</td>\n",
       "      <td>1</td>\n",
       "      <td>1</td>\n",
       "      <td>1</td>\n",
       "      <td>1</td>\n",
       "      <td>1</td>\n",
       "      <td>1</td>\n",
       "      <td>1</td>\n",
       "      <td>1</td>\n",
       "      <td>1</td>\n",
       "    </tr>\n",
       "    <tr>\n",
       "      <th>2</th>\n",
       "      <td>0</td>\n",
       "      <td>0.179675</td>\n",
       "      <td>0</td>\n",
       "      <td>1</td>\n",
       "      <td>1</td>\n",
       "      <td>0</td>\n",
       "      <td>0</td>\n",
       "      <td>0</td>\n",
       "      <td>0</td>\n",
       "      <td>0</td>\n",
       "      <td>0</td>\n",
       "      <td>0</td>\n",
       "      <td>0</td>\n",
       "      <td>0</td>\n",
       "    </tr>\n",
       "    <tr>\n",
       "      <th>3</th>\n",
       "      <td>0</td>\n",
       "      <td>0.160300</td>\n",
       "      <td>0</td>\n",
       "      <td>1</td>\n",
       "      <td>1</td>\n",
       "      <td>0</td>\n",
       "      <td>0</td>\n",
       "      <td>0</td>\n",
       "      <td>0</td>\n",
       "      <td>0</td>\n",
       "      <td>0</td>\n",
       "      <td>0</td>\n",
       "      <td>0</td>\n",
       "      <td>0</td>\n",
       "    </tr>\n",
       "    <tr>\n",
       "      <th>4</th>\n",
       "      <td>0</td>\n",
       "      <td>0.061806</td>\n",
       "      <td>0</td>\n",
       "      <td>1</td>\n",
       "      <td>0</td>\n",
       "      <td>0</td>\n",
       "      <td>0</td>\n",
       "      <td>0</td>\n",
       "      <td>0</td>\n",
       "      <td>0</td>\n",
       "      <td>0</td>\n",
       "      <td>0</td>\n",
       "      <td>0</td>\n",
       "      <td>0</td>\n",
       "    </tr>\n",
       "  </tbody>\n",
       "</table>\n",
       "</div>"
      ],
      "text/plain": [
       "   Churn     Probs  predicted  0.0  0.1  0.2  0.3  0.4  0.5  0.6  0.7  0.8  \\\n",
       "0      0  0.286831          0    1    1    1    0    0    0    0    0    0   \n",
       "1      1  0.939682          1    1    1    1    1    1    1    1    1    1   \n",
       "2      0  0.179675          0    1    1    0    0    0    0    0    0    0   \n",
       "3      0  0.160300          0    1    1    0    0    0    0    0    0    0   \n",
       "4      0  0.061806          0    1    0    0    0    0    0    0    0    0   \n",
       "\n",
       "   0.9  Finalpredicted  \n",
       "0    0               0  \n",
       "1    1               1  \n",
       "2    0               0  \n",
       "3    0               0  \n",
       "4    0               0  "
      ]
     },
     "execution_count": 717,
     "metadata": {},
     "output_type": "execute_result"
    }
   ],
   "source": [
    "rfpred_train.head()"
   ]
  },
  {
   "cell_type": "code",
   "execution_count": 718,
   "metadata": {
    "colab": {
     "base_uri": "https://localhost:8080/",
     "height": 170
    },
    "colab_type": "code",
    "id": "XEMnuxf52rwj",
    "outputId": "d549a2a5-a4c6-4662-840b-44cbae527409"
   },
   "outputs": [
    {
     "name": "stdout",
     "output_type": "stream",
     "text": [
      "              precision    recall  f1-score   support\n",
      "\n",
      "           0       0.85      0.85      0.85     19215\n",
      "           1       0.85      0.85      0.85     19268\n",
      "\n",
      "    accuracy                           0.85     38483\n",
      "   macro avg       0.85      0.85      0.85     38483\n",
      "weighted avg       0.85      0.85      0.85     38483\n",
      "\n"
     ]
    }
   ],
   "source": [
    "print (classification_report(rfpred_train.Churn, rfpred_train.Finalpredicted))"
   ]
  },
  {
   "cell_type": "code",
   "execution_count": 719,
   "metadata": {
    "colab": {},
    "colab_type": "code",
    "id": "DHn9R8lQ3n8z"
   },
   "outputs": [],
   "source": [
    "rfpred_t =rfc.predict_proba(df_test_pca)[:,1]"
   ]
  },
  {
   "cell_type": "code",
   "execution_count": 720,
   "metadata": {
    "colab": {},
    "colab_type": "code",
    "id": "l8J97vjw3HK0"
   },
   "outputs": [],
   "source": [
    "rfpred_test=pd.DataFrame({'Churn':y_test,'Probs':rfpred_t})"
   ]
  },
  {
   "cell_type": "code",
   "execution_count": 721,
   "metadata": {
    "colab": {
     "base_uri": "https://localhost:8080/",
     "height": 204
    },
    "colab_type": "code",
    "id": "DTh8BQ914HEn",
    "outputId": "7292c131-288d-4e79-e438-1cc4da5fb668"
   },
   "outputs": [
    {
     "data": {
      "text/html": [
       "<div>\n",
       "<style scoped>\n",
       "    .dataframe tbody tr th:only-of-type {\n",
       "        vertical-align: middle;\n",
       "    }\n",
       "\n",
       "    .dataframe tbody tr th {\n",
       "        vertical-align: top;\n",
       "    }\n",
       "\n",
       "    .dataframe thead th {\n",
       "        text-align: right;\n",
       "    }\n",
       "</style>\n",
       "<table border=\"1\" class=\"dataframe\">\n",
       "  <thead>\n",
       "    <tr style=\"text-align: right;\">\n",
       "      <th></th>\n",
       "      <th>Churn</th>\n",
       "      <th>Probs</th>\n",
       "    </tr>\n",
       "  </thead>\n",
       "  <tbody>\n",
       "    <tr>\n",
       "      <th>0</th>\n",
       "      <td>0</td>\n",
       "      <td>0.279869</td>\n",
       "    </tr>\n",
       "    <tr>\n",
       "      <th>1</th>\n",
       "      <td>1</td>\n",
       "      <td>0.525919</td>\n",
       "    </tr>\n",
       "    <tr>\n",
       "      <th>2</th>\n",
       "      <td>0</td>\n",
       "      <td>0.766447</td>\n",
       "    </tr>\n",
       "    <tr>\n",
       "      <th>3</th>\n",
       "      <td>1</td>\n",
       "      <td>0.543565</td>\n",
       "    </tr>\n",
       "    <tr>\n",
       "      <th>4</th>\n",
       "      <td>0</td>\n",
       "      <td>0.117195</td>\n",
       "    </tr>\n",
       "  </tbody>\n",
       "</table>\n",
       "</div>"
      ],
      "text/plain": [
       "   Churn     Probs\n",
       "0      0  0.279869\n",
       "1      1  0.525919\n",
       "2      0  0.766447\n",
       "3      1  0.543565\n",
       "4      0  0.117195"
      ]
     },
     "execution_count": 721,
     "metadata": {},
     "output_type": "execute_result"
    }
   ],
   "source": [
    "rfpred_test.head()"
   ]
  },
  {
   "cell_type": "code",
   "execution_count": 722,
   "metadata": {
    "colab": {},
    "colab_type": "code",
    "id": "feMphhgt4Lh6"
   },
   "outputs": [],
   "source": [
    "rfpred_test['Predicted']=rfpred_test.Probs.map(lambda x:1 if x>0.52 else 0)"
   ]
  },
  {
   "cell_type": "code",
   "execution_count": 723,
   "metadata": {
    "colab": {
     "base_uri": "https://localhost:8080/",
     "height": 204
    },
    "colab_type": "code",
    "id": "preDk-z_4bnx",
    "outputId": "39f60a73-50ce-444a-a700-305b356d3623"
   },
   "outputs": [
    {
     "data": {
      "text/html": [
       "<div>\n",
       "<style scoped>\n",
       "    .dataframe tbody tr th:only-of-type {\n",
       "        vertical-align: middle;\n",
       "    }\n",
       "\n",
       "    .dataframe tbody tr th {\n",
       "        vertical-align: top;\n",
       "    }\n",
       "\n",
       "    .dataframe thead th {\n",
       "        text-align: right;\n",
       "    }\n",
       "</style>\n",
       "<table border=\"1\" class=\"dataframe\">\n",
       "  <thead>\n",
       "    <tr style=\"text-align: right;\">\n",
       "      <th></th>\n",
       "      <th>Churn</th>\n",
       "      <th>Probs</th>\n",
       "      <th>Predicted</th>\n",
       "    </tr>\n",
       "  </thead>\n",
       "  <tbody>\n",
       "    <tr>\n",
       "      <th>0</th>\n",
       "      <td>0</td>\n",
       "      <td>0.279869</td>\n",
       "      <td>0</td>\n",
       "    </tr>\n",
       "    <tr>\n",
       "      <th>1</th>\n",
       "      <td>1</td>\n",
       "      <td>0.525919</td>\n",
       "      <td>1</td>\n",
       "    </tr>\n",
       "    <tr>\n",
       "      <th>2</th>\n",
       "      <td>0</td>\n",
       "      <td>0.766447</td>\n",
       "      <td>1</td>\n",
       "    </tr>\n",
       "    <tr>\n",
       "      <th>3</th>\n",
       "      <td>1</td>\n",
       "      <td>0.543565</td>\n",
       "      <td>1</td>\n",
       "    </tr>\n",
       "    <tr>\n",
       "      <th>4</th>\n",
       "      <td>0</td>\n",
       "      <td>0.117195</td>\n",
       "      <td>0</td>\n",
       "    </tr>\n",
       "  </tbody>\n",
       "</table>\n",
       "</div>"
      ],
      "text/plain": [
       "   Churn     Probs  Predicted\n",
       "0      0  0.279869          0\n",
       "1      1  0.525919          1\n",
       "2      0  0.766447          1\n",
       "3      1  0.543565          1\n",
       "4      0  0.117195          0"
      ]
     },
     "execution_count": 723,
     "metadata": {},
     "output_type": "execute_result"
    }
   ],
   "source": [
    "rfpred_test.head()"
   ]
  },
  {
   "cell_type": "code",
   "execution_count": 724,
   "metadata": {
    "colab": {
     "base_uri": "https://localhost:8080/",
     "height": 170
    },
    "colab_type": "code",
    "id": "1hNRYSyM4eIK",
    "outputId": "e4005aad-11fa-4ef3-d6c3-468c3b9b12b0"
   },
   "outputs": [
    {
     "name": "stdout",
     "output_type": "stream",
     "text": [
      "              precision    recall  f1-score   support\n",
      "\n",
      "           0       0.83      0.75      0.79      8273\n",
      "           1       0.77      0.84      0.81      8220\n",
      "\n",
      "    accuracy                           0.80     16493\n",
      "   macro avg       0.80      0.80      0.80     16493\n",
      "weighted avg       0.80      0.80      0.80     16493\n",
      "\n"
     ]
    }
   ],
   "source": [
    "print (classification_report(rfpred_test.Churn, rfpred_test.Predicted))"
   ]
  },
  {
   "cell_type": "code",
   "execution_count": 725,
   "metadata": {
    "colab": {
     "base_uri": "https://localhost:8080/",
     "height": 85
    },
    "colab_type": "code",
    "id": "iCeikUph5Dcx",
    "outputId": "d809278f-65b8-49d0-e307-cb69682be0df"
   },
   "outputs": [
    {
     "name": "stdout",
     "output_type": "stream",
     "text": [
      "Training Model parameters: \n",
      "Accuracy : 0.8493\n",
      "Recall/Sensitivity : 0.8468\n",
      "AUC Score (Train): 0.927490\n",
      "Precision : 0.8513435950952257\n"
     ]
    }
   ],
   "source": [
    "print(\"Training Model parameters: \")\n",
    "print (\"Accuracy : %.4g\" % metrics.roc_auc_score(y_train, rfpred_train.Finalpredicted))\n",
    "print (\"Recall/Sensitivity : %.4g\" % metrics.recall_score(y_train, rfpred_train.Finalpredicted))\n",
    "print (\"AUC Score (Train): %f\" % metrics.roc_auc_score(y_train, dtrain_predprob))\n",
    "print(\"Precision : {}\".format(metrics.precision_score(y_train, rfpred_train.Finalpredicted)))"
   ]
  },
  {
   "cell_type": "code",
   "execution_count": 726,
   "metadata": {
    "colab": {
     "base_uri": "https://localhost:8080/",
     "height": 85
    },
    "colab_type": "code",
    "id": "Dz5UWYYb6FsI",
    "outputId": "ae1a2d8e-0cc1-486a-dfc2-6bc023a350f2"
   },
   "outputs": [
    {
     "name": "stdout",
     "output_type": "stream",
     "text": [
      "Test Model parameters: \n",
      "Accuracy : 0.7979\n",
      "Recall/Sensitivity : 0.8438\n",
      "AUC Score (Test): 0.870826\n",
      "Precision : 0.7716955941255007\n"
     ]
    }
   ],
   "source": [
    "print(\"Test Model parameters: \")\n",
    "print (\"Accuracy : %.4g\" % metrics.roc_auc_score(y_test, rfpred_test.Predicted))\n",
    "print (\"Recall/Sensitivity : %.4g\" % metrics.recall_score(y_test, rfpred_test.Predicted))\n",
    "print (\"AUC Score (Test): %f\" % metrics.roc_auc_score(y_test, rfpred_t))\n",
    "print(\"Precision : {}\".format(metrics.precision_score(y_test, rfpred_test.Predicted)))"
   ]
  },
  {
   "cell_type": "code",
   "execution_count": 773,
   "metadata": {},
   "outputs": [
    {
     "name": "stdout",
     "output_type": "stream",
     "text": [
      "Confusion Matrix: \n",
      "[[6221 2052]\n",
      " [1284 6936]]\n"
     ]
    }
   ],
   "source": [
    "from sklearn.metrics import confusion_matrix\n",
    "print(\"Confusion Matrix: \")\n",
    "print(confusion_matrix(y_test, rfpred_test.Predicted))"
   ]
  },
  {
   "cell_type": "markdown",
   "metadata": {},
   "source": [
    "*****Notes****\n",
    "    1. Accuracy of model is good in both Training and Test Data sets\n",
    "    2. Recall/Sensitivity is also good and maintained in both Training and Test Data sets\n",
    "    3. Precison is also good as above 70%\n",
    "    4. AUC score of the model has improved to 84.5% post the threshold Probability of 0.52 \n",
    "    "
   ]
  },
  {
   "cell_type": "markdown",
   "metadata": {},
   "source": [
    "### Preferred Model Analysis"
   ]
  },
  {
   "cell_type": "markdown",
   "metadata": {},
   "source": [
    "**Logistic Regression:**\n",
    "        --Accuracy : 0.7347359485842478\n",
    "        --Recall : 0.7838199513381995\n",
    "        --Precision : 0.7126424068134056\n",
    "**Random Forest:** \n",
    "        --Accuracy : 0.7979\n",
    "        --Recall/Sensitivity : 0.8438\n",
    "        --Precision : 0.7716955941255007"
   ]
  },
  {
   "cell_type": "markdown",
   "metadata": {},
   "source": [
    "#### Preferred Model/ Winner :    Random Forest\n",
    "\n",
    "1. **Random Forest is the preferred Model as Accuracy of the model is better than Logistic Model**\n",
    "2. **The Recall/Sensitivity & Precison factors are also better and maintained in Random Forest\n",
    "3. **The model is not overfitting and is generic as there is no drastic difference between Training and Test Results. So the model performs better on unseen data\n",
    "4. **AUC Score of Model is also good as it is 87%\n",
    "5. **Comparing the f1 scores and Confusion matrices of both logistic and Random Forest Models Random Forest emerges as the clear winner\n",
    "\n",
    "    "
   ]
  },
  {
   "cell_type": "markdown",
   "metadata": {},
   "source": [
    "# Building Model without PCA"
   ]
  },
  {
   "cell_type": "markdown",
   "metadata": {},
   "source": [
    "#### Model- Random Forest"
   ]
  },
  {
   "cell_type": "markdown",
   "metadata": {},
   "source": [
    "**** Building the model on training data sets without PCA"
   ]
  },
  {
   "cell_type": "code",
   "execution_count": 727,
   "metadata": {},
   "outputs": [],
   "source": [
    "from sklearn.ensemble import RandomForestClassifier\n",
    "rfcnp = RandomForestClassifier(bootstrap=True,class_weight=\"balanced\",\n",
    "                             max_depth=10,\n",
    "                             min_samples_leaf=100, \n",
    "                             min_samples_split=50,\n",
    "                             max_features=8,\n",
    "                             n_estimators=350,\n",
    "                             random_state=10)"
   ]
  },
  {
   "cell_type": "code",
   "execution_count": 728,
   "metadata": {},
   "outputs": [
    {
     "data": {
      "text/plain": [
       "RandomForestClassifier(bootstrap=True, ccp_alpha=0.0, class_weight='balanced',\n",
       "                       criterion='gini', max_depth=10, max_features=8,\n",
       "                       max_leaf_nodes=None, max_samples=None,\n",
       "                       min_impurity_decrease=0.0, min_impurity_split=None,\n",
       "                       min_samples_leaf=100, min_samples_split=50,\n",
       "                       min_weight_fraction_leaf=0.0, n_estimators=350,\n",
       "                       n_jobs=None, oob_score=False, random_state=10, verbose=0,\n",
       "                       warm_start=False)"
      ]
     },
     "execution_count": 728,
     "metadata": {},
     "output_type": "execute_result"
    }
   ],
   "source": [
    "rfcnp.fit(X_train_np,y_train)"
   ]
  },
  {
   "cell_type": "code",
   "execution_count": 729,
   "metadata": {},
   "outputs": [
    {
     "name": "stdout",
     "output_type": "stream",
     "text": [
      "Training Model parameters-Training Set: \n",
      "Accuracy : 0.919\n",
      "Recall/Sensitivity : 0.9114\n",
      "AUC Score (Train): 0.974261\n"
     ]
    }
   ],
   "source": [
    "dtrain_predict_np=rfcnp.predict(X_train_np)\n",
    "dtrain_predprob_np = rfcnp.predict_proba(X_train_np)[:,1]\n",
    "print(\"Training Model parameters-Training Set: \")\n",
    "print (\"Accuracy : %.4g\" % metrics.roc_auc_score(y_train, dtrain_predict_np))\n",
    "print (\"Recall/Sensitivity : %.4g\" % metrics.recall_score(y_train, dtrain_predict_np))\n",
    "print (\"AUC Score (Train): %f\" % metrics.roc_auc_score(y_train, dtrain_predprob_np))"
   ]
  },
  {
   "cell_type": "code",
   "execution_count": 730,
   "metadata": {},
   "outputs": [
    {
     "name": "stdout",
     "output_type": "stream",
     "text": [
      "Evluation report on Test Data: \n",
      "Accuracy : 0.9135\n",
      "Recall/Sensitivity : 0.9028\n",
      "AUC Score (Train): 0.970386\n"
     ]
    }
   ],
   "source": [
    "dtest_predict_np=rfcnp.predict(X_test_np)\n",
    "dtest_predprob_np = rfcnp.predict_proba(X_test_np)[:,1]\n",
    "print(\"Evluation report on Test Data: \")\n",
    "print (\"Accuracy : %.4g\" % metrics.roc_auc_score(y_test, dtest_predict_np))\n",
    "print (\"Recall/Sensitivity : %.4g\" % metrics.recall_score(y_test ,dtest_predict_np))\n",
    "print (\"AUC Score (Train): %f\" % metrics.roc_auc_score(y_test, dtest_predprob_np))"
   ]
  },
  {
   "cell_type": "markdown",
   "metadata": {},
   "source": [
    "##### Notes\n",
    "    1. Model has done very well with Accuracy of 91%\n",
    "    2. Sensitivity of the model is very good approx 90%\n",
    "    "
   ]
  },
  {
   "cell_type": "markdown",
   "metadata": {},
   "source": [
    "*****Deriving feature importance*****"
   ]
  },
  {
   "cell_type": "code",
   "execution_count": 746,
   "metadata": {},
   "outputs": [
    {
     "data": {
      "text/plain": [
       "array([4.28406129e-04, 1.46933881e-03, 4.99775909e-02, 1.06645913e-03,\n",
       "       1.19060770e-03, 3.76053500e-03, 7.88559306e-04, 1.11976740e-03,\n",
       "       4.60896835e-03, 1.79070852e-03, 1.93241880e-02, 1.42151004e-01,\n",
       "       2.82342698e-03, 2.36997904e-02, 1.46970850e-01, 1.28715924e-03,\n",
       "       3.34782708e-03, 1.92605665e-02, 3.06355989e-03, 3.88396719e-03,\n",
       "       5.55624398e-03, 1.28872254e-03, 1.14078208e-03, 2.08157597e-02,\n",
       "       6.75915442e-03, 5.17215525e-03, 2.74383157e-03, 4.67885679e-03,\n",
       "       1.70227840e-03, 2.67741121e-02, 9.55609555e-04, 2.14797361e-03,\n",
       "       3.33455616e-02, 8.58912093e-04, 2.04809262e-03, 2.33877004e-02,\n",
       "       9.73027147e-04, 1.27485719e-03, 4.48493437e-03, 1.42073412e-03,\n",
       "       2.96178745e-03, 7.63403344e-02, 5.29574932e-03, 1.08817509e-03,\n",
       "       8.37034371e-03, 1.88695311e-03, 6.34319645e-04, 4.68574534e-03,\n",
       "       1.38418725e-03, 7.84641863e-04, 2.72854647e-03, 1.17336010e-03,\n",
       "       2.89634812e-03, 1.19944299e-02, 3.44923205e-04, 1.28900048e-03,\n",
       "       5.18553960e-02, 1.53882013e-03, 1.98838638e-03, 3.41786505e-02,\n",
       "       1.97939775e-03, 3.06894265e-03, 3.44285821e-02, 1.82570034e-03,\n",
       "       2.64333292e-03, 2.78338842e-02, 1.20040173e-03, 2.18236196e-03,\n",
       "       1.42132265e-02, 1.37492546e-03, 1.45509452e-03, 5.83906024e-03,\n",
       "       1.00036596e-03, 1.26076474e-03, 8.28397975e-03, 8.17013409e-04,\n",
       "       1.14378826e-03, 1.02167552e-02, 1.97575998e-06, 0.00000000e+00,\n",
       "       0.00000000e+00, 1.17886092e-03, 8.54015131e-04, 2.48225053e-03,\n",
       "       9.49852812e-04, 1.27472303e-03, 5.06610689e-03, 5.31594133e-04,\n",
       "       4.95524284e-04, 1.71566556e-03, 3.16088047e-04, 7.38318797e-04,\n",
       "       1.15123772e-04, 2.91408135e-03, 4.82000023e-03, 5.23007174e-02,\n",
       "       2.23309280e-03, 1.89962982e-03, 4.00858912e-04, 4.69535011e-04,\n",
       "       5.93217828e-04, 8.68655739e-04, 2.10360117e-03, 3.38462871e-04,\n",
       "       1.09797081e-03, 5.09820424e-04])"
      ]
     },
     "execution_count": 746,
     "metadata": {},
     "output_type": "execute_result"
    }
   ],
   "source": [
    "imp=rfcnp.feature_importances_\n",
    "imp"
   ]
  },
  {
   "cell_type": "markdown",
   "metadata": {},
   "source": [
    "****mapping column names with importance****"
   ]
  },
  {
   "cell_type": "code",
   "execution_count": 747,
   "metadata": {},
   "outputs": [
    {
     "name": "stdout",
     "output_type": "stream",
     "text": [
      "arpu_6 = 0.000428406128694019\n",
      "arpu_7 = 0.001469338809749534\n",
      "arpu_8 = 0.04997759093744338\n",
      "onnet_mou_6 = 0.0010664591255723727\n",
      "onnet_mou_7 = 0.0011906076989066274\n",
      "onnet_mou_8 = 0.003760534995909619\n",
      "offnet_mou_6 = 0.0007885593059849056\n",
      "offnet_mou_7 = 0.0011197673996465522\n",
      "offnet_mou_8 = 0.004608968351902497\n",
      "roam_ic_mou_6 = 0.0017907085242518947\n",
      "roam_ic_mou_7 = 0.01932418799101418\n",
      "roam_ic_mou_8 = 0.14215100384340487\n",
      "roam_og_mou_6 = 0.002823426976749755\n",
      "roam_og_mou_7 = 0.023699790380323636\n",
      "roam_og_mou_8 = 0.14697084992987614\n",
      "loc_og_mou_6 = 0.0012871592444620395\n",
      "loc_og_mou_7 = 0.0033478270757533245\n",
      "loc_og_mou_8 = 0.019260566543982654\n",
      "std_og_mou_6 = 0.003063559885434841\n",
      "std_og_mou_7 = 0.003883967186024259\n",
      "std_og_mou_8 = 0.005556243977794144\n",
      "isd_og_mou_6 = 0.0012887225382097866\n",
      "isd_og_mou_7 = 0.0011407820835001943\n",
      "isd_og_mou_8 = 0.020815759711131705\n",
      "spl_og_mou_6 = 0.006759154416626769\n",
      "spl_og_mou_7 = 0.005172155252757629\n",
      "spl_og_mou_8 = 0.0027438315663630285\n",
      "og_others_6 = 0.004678856789222028\n",
      "og_others_7 = 0.0017022784019672169\n",
      "og_others_8 = 0.02677411207547937\n",
      "total_og_mou_6 = 0.0009556095554990137\n",
      "total_og_mou_7 = 0.00214797360600002\n",
      "total_og_mou_8 = 0.033345561592081546\n",
      "loc_ic_mou_6 = 0.0008589120932630188\n",
      "loc_ic_mou_7 = 0.002048092618519195\n",
      "loc_ic_mou_8 = 0.02338770044172436\n",
      "std_ic_mou_6 = 0.0009730271471843873\n",
      "std_ic_mou_7 = 0.001274857192012496\n",
      "std_ic_mou_8 = 0.004484934372663194\n",
      "total_ic_mou_6 = 0.001420734118494782\n",
      "total_ic_mou_7 = 0.002961787453630681\n",
      "total_ic_mou_8 = 0.07634033436774731\n",
      "spl_ic_mou_6 = 0.005295749322722625\n",
      "spl_ic_mou_7 = 0.0010881750914075873\n",
      "spl_ic_mou_8 = 0.008370343712221888\n",
      "isd_ic_mou_6 = 0.0018869531076647153\n",
      "isd_ic_mou_7 = 0.0006343196447684852\n",
      "isd_ic_mou_8 = 0.004685745344232016\n",
      "ic_others_6 = 0.0013841872464140405\n",
      "ic_others_7 = 0.0007846418629660333\n",
      "ic_others_8 = 0.0027285464664759855\n",
      "total_rech_num_6 = 0.0011733601019935122\n",
      "total_rech_num_7 = 0.0028963481179398514\n",
      "total_rech_num_8 = 0.011994429944571675\n",
      "total_rech_amt_6 = 0.0003449232048335955\n",
      "total_rech_amt_7 = 0.001289000480204327\n",
      "total_rech_amt_8 = 0.05185539597954208\n",
      "max_rech_amt_6 = 0.0015388201284257629\n",
      "max_rech_amt_7 = 0.0019883863837016607\n",
      "max_rech_amt_8 = 0.034178650488380646\n",
      "total_rech_data_6 = 0.001979397754019947\n",
      "total_rech_data_7 = 0.0030689426456023744\n",
      "total_rech_data_8 = 0.0344285820592214\n",
      "max_rech_data_6 = 0.0018257003421222379\n",
      "max_rech_data_7 = 0.002643332915545892\n",
      "max_rech_data_8 = 0.027833884208403985\n",
      "count_rech_2g_6 = 0.0012004017327724877\n",
      "count_rech_2g_7 = 0.002182361963848955\n",
      "count_rech_2g_8 = 0.014213226532918495\n",
      "count_rech_3g_6 = 0.001374925455146684\n",
      "count_rech_3g_7 = 0.0014550945183788705\n",
      "count_rech_3g_8 = 0.005839060243450501\n",
      "vol_2g_mb_6 = 0.0010003659601310897\n",
      "vol_2g_mb_7 = 0.0012607647388504463\n",
      "vol_2g_mb_8 = 0.008283979750134231\n",
      "vol_3g_mb_6 = 0.0008170134090197137\n",
      "vol_3g_mb_7 = 0.0011437882643459234\n",
      "vol_3g_mb_8 = 0.010216755162265577\n",
      "night_pck_user_6 = 1.9757599814280796e-06\n",
      "night_pck_user_7 = 0.0\n",
      "night_pck_user_8 = 0.0\n",
      "monthly_2g_6 = 0.001178860918650319\n",
      "monthly_2g_7 = 0.0008540151307726339\n",
      "monthly_2g_8 = 0.002482250530946055\n",
      "sachet_2g_6 = 0.0009498528119304991\n",
      "sachet_2g_7 = 0.0012747230326319173\n",
      "sachet_2g_8 = 0.005066106890423425\n",
      "monthly_3g_6 = 0.0005315941327581485\n",
      "monthly_3g_7 = 0.0004955242844644428\n",
      "monthly_3g_8 = 0.001715665563693029\n",
      "sachet_3g_6 = 0.00031608804718760095\n",
      "sachet_3g_7 = 0.0007383187974787073\n",
      "sachet_3g_8 = 0.00011512377208791548\n",
      "fb_user_6 = 0.002914081353352586\n",
      "fb_user_7 = 0.004820000227692812\n",
      "fb_user_8 = 0.052300717373213075\n",
      "aon = 0.0022330927999574227\n",
      "aug_vbc_3g = 0.0018996298177419927\n",
      "jul_vbc_3g = 0.0004008589117957976\n",
      "jun_vbc_3g = 0.00046953501056817343\n",
      "sep_vbc_3g = 0.0005932178284611293\n",
      "rech_data_6_total = 0.0008686557394525258\n",
      "rech_data_7_total = 0.0021036011673263508\n",
      "Total rech_6 = 0.00033846287119815527\n",
      "Total rech_7 = 0.0010979708103992583\n",
      "avg_amt_6_7 = 0.0005098204242302779\n"
     ]
    }
   ],
   "source": [
    "#for name, importance in zip(df_cols, imp):\n",
    "for name, importance in zip(df_cols, imp):\n",
    "    print(name, \"=\", importance)"
   ]
  },
  {
   "cell_type": "code",
   "execution_count": 748,
   "metadata": {},
   "outputs": [],
   "source": [
    "featmap=list(zip(df_cols, imp))"
   ]
  },
  {
   "cell_type": "code",
   "execution_count": 749,
   "metadata": {},
   "outputs": [
    {
     "data": {
      "text/plain": [
       "[('arpu_6', 0.000428406128694019),\n",
       " ('arpu_7', 0.001469338809749534),\n",
       " ('arpu_8', 0.04997759093744338),\n",
       " ('onnet_mou_6', 0.0010664591255723727),\n",
       " ('onnet_mou_7', 0.0011906076989066274),\n",
       " ('onnet_mou_8', 0.003760534995909619),\n",
       " ('offnet_mou_6', 0.0007885593059849056),\n",
       " ('offnet_mou_7', 0.0011197673996465522),\n",
       " ('offnet_mou_8', 0.004608968351902497),\n",
       " ('roam_ic_mou_6', 0.0017907085242518947),\n",
       " ('roam_ic_mou_7', 0.01932418799101418),\n",
       " ('roam_ic_mou_8', 0.14215100384340487),\n",
       " ('roam_og_mou_6', 0.002823426976749755),\n",
       " ('roam_og_mou_7', 0.023699790380323636),\n",
       " ('roam_og_mou_8', 0.14697084992987614),\n",
       " ('loc_og_mou_6', 0.0012871592444620395),\n",
       " ('loc_og_mou_7', 0.0033478270757533245),\n",
       " ('loc_og_mou_8', 0.019260566543982654),\n",
       " ('std_og_mou_6', 0.003063559885434841),\n",
       " ('std_og_mou_7', 0.003883967186024259),\n",
       " ('std_og_mou_8', 0.005556243977794144),\n",
       " ('isd_og_mou_6', 0.0012887225382097866),\n",
       " ('isd_og_mou_7', 0.0011407820835001943),\n",
       " ('isd_og_mou_8', 0.020815759711131705),\n",
       " ('spl_og_mou_6', 0.006759154416626769),\n",
       " ('spl_og_mou_7', 0.005172155252757629),\n",
       " ('spl_og_mou_8', 0.0027438315663630285),\n",
       " ('og_others_6', 0.004678856789222028),\n",
       " ('og_others_7', 0.0017022784019672169),\n",
       " ('og_others_8', 0.02677411207547937),\n",
       " ('total_og_mou_6', 0.0009556095554990137),\n",
       " ('total_og_mou_7', 0.00214797360600002),\n",
       " ('total_og_mou_8', 0.033345561592081546),\n",
       " ('loc_ic_mou_6', 0.0008589120932630188),\n",
       " ('loc_ic_mou_7', 0.002048092618519195),\n",
       " ('loc_ic_mou_8', 0.02338770044172436),\n",
       " ('std_ic_mou_6', 0.0009730271471843873),\n",
       " ('std_ic_mou_7', 0.001274857192012496),\n",
       " ('std_ic_mou_8', 0.004484934372663194),\n",
       " ('total_ic_mou_6', 0.001420734118494782),\n",
       " ('total_ic_mou_7', 0.002961787453630681),\n",
       " ('total_ic_mou_8', 0.07634033436774731),\n",
       " ('spl_ic_mou_6', 0.005295749322722625),\n",
       " ('spl_ic_mou_7', 0.0010881750914075873),\n",
       " ('spl_ic_mou_8', 0.008370343712221888),\n",
       " ('isd_ic_mou_6', 0.0018869531076647153),\n",
       " ('isd_ic_mou_7', 0.0006343196447684852),\n",
       " ('isd_ic_mou_8', 0.004685745344232016),\n",
       " ('ic_others_6', 0.0013841872464140405),\n",
       " ('ic_others_7', 0.0007846418629660333),\n",
       " ('ic_others_8', 0.0027285464664759855),\n",
       " ('total_rech_num_6', 0.0011733601019935122),\n",
       " ('total_rech_num_7', 0.0028963481179398514),\n",
       " ('total_rech_num_8', 0.011994429944571675),\n",
       " ('total_rech_amt_6', 0.0003449232048335955),\n",
       " ('total_rech_amt_7', 0.001289000480204327),\n",
       " ('total_rech_amt_8', 0.05185539597954208),\n",
       " ('max_rech_amt_6', 0.0015388201284257629),\n",
       " ('max_rech_amt_7', 0.0019883863837016607),\n",
       " ('max_rech_amt_8', 0.034178650488380646),\n",
       " ('total_rech_data_6', 0.001979397754019947),\n",
       " ('total_rech_data_7', 0.0030689426456023744),\n",
       " ('total_rech_data_8', 0.0344285820592214),\n",
       " ('max_rech_data_6', 0.0018257003421222379),\n",
       " ('max_rech_data_7', 0.002643332915545892),\n",
       " ('max_rech_data_8', 0.027833884208403985),\n",
       " ('count_rech_2g_6', 0.0012004017327724877),\n",
       " ('count_rech_2g_7', 0.002182361963848955),\n",
       " ('count_rech_2g_8', 0.014213226532918495),\n",
       " ('count_rech_3g_6', 0.001374925455146684),\n",
       " ('count_rech_3g_7', 0.0014550945183788705),\n",
       " ('count_rech_3g_8', 0.005839060243450501),\n",
       " ('vol_2g_mb_6', 0.0010003659601310897),\n",
       " ('vol_2g_mb_7', 0.0012607647388504463),\n",
       " ('vol_2g_mb_8', 0.008283979750134231),\n",
       " ('vol_3g_mb_6', 0.0008170134090197137),\n",
       " ('vol_3g_mb_7', 0.0011437882643459234),\n",
       " ('vol_3g_mb_8', 0.010216755162265577),\n",
       " ('night_pck_user_6', 1.9757599814280796e-06),\n",
       " ('night_pck_user_7', 0.0),\n",
       " ('night_pck_user_8', 0.0),\n",
       " ('monthly_2g_6', 0.001178860918650319),\n",
       " ('monthly_2g_7', 0.0008540151307726339),\n",
       " ('monthly_2g_8', 0.002482250530946055),\n",
       " ('sachet_2g_6', 0.0009498528119304991),\n",
       " ('sachet_2g_7', 0.0012747230326319173),\n",
       " ('sachet_2g_8', 0.005066106890423425),\n",
       " ('monthly_3g_6', 0.0005315941327581485),\n",
       " ('monthly_3g_7', 0.0004955242844644428),\n",
       " ('monthly_3g_8', 0.001715665563693029),\n",
       " ('sachet_3g_6', 0.00031608804718760095),\n",
       " ('sachet_3g_7', 0.0007383187974787073),\n",
       " ('sachet_3g_8', 0.00011512377208791548),\n",
       " ('fb_user_6', 0.002914081353352586),\n",
       " ('fb_user_7', 0.004820000227692812),\n",
       " ('fb_user_8', 0.052300717373213075),\n",
       " ('aon', 0.0022330927999574227),\n",
       " ('aug_vbc_3g', 0.0018996298177419927),\n",
       " ('jul_vbc_3g', 0.0004008589117957976),\n",
       " ('jun_vbc_3g', 0.00046953501056817343),\n",
       " ('sep_vbc_3g', 0.0005932178284611293),\n",
       " ('rech_data_6_total', 0.0008686557394525258),\n",
       " ('rech_data_7_total', 0.0021036011673263508),\n",
       " ('Total rech_6', 0.00033846287119815527),\n",
       " ('Total rech_7', 0.0010979708103992583),\n",
       " ('avg_amt_6_7', 0.0005098204242302779)]"
      ]
     },
     "execution_count": 749,
     "metadata": {},
     "output_type": "execute_result"
    }
   ],
   "source": [
    "featmap"
   ]
  },
  {
   "cell_type": "code",
   "execution_count": 750,
   "metadata": {},
   "outputs": [],
   "source": [
    "def Sort_Tuple(tup):  \n",
    "    return(sorted(tup, key = lambda x: x[1],reverse=True))   \n"
   ]
  },
  {
   "cell_type": "markdown",
   "metadata": {},
   "source": [
    "***Sorting Feature Names based on importance in descending order***"
   ]
  },
  {
   "cell_type": "code",
   "execution_count": 751,
   "metadata": {},
   "outputs": [
    {
     "data": {
      "text/plain": [
       "[('roam_og_mou_8', 0.14697084992987614),\n",
       " ('roam_ic_mou_8', 0.14215100384340487),\n",
       " ('total_ic_mou_8', 0.07634033436774731),\n",
       " ('fb_user_8', 0.052300717373213075),\n",
       " ('total_rech_amt_8', 0.05185539597954208),\n",
       " ('arpu_8', 0.04997759093744338),\n",
       " ('total_rech_data_8', 0.0344285820592214),\n",
       " ('max_rech_amt_8', 0.034178650488380646),\n",
       " ('total_og_mou_8', 0.033345561592081546),\n",
       " ('max_rech_data_8', 0.027833884208403985),\n",
       " ('og_others_8', 0.02677411207547937),\n",
       " ('roam_og_mou_7', 0.023699790380323636),\n",
       " ('loc_ic_mou_8', 0.02338770044172436),\n",
       " ('isd_og_mou_8', 0.020815759711131705),\n",
       " ('roam_ic_mou_7', 0.01932418799101418),\n",
       " ('loc_og_mou_8', 0.019260566543982654),\n",
       " ('count_rech_2g_8', 0.014213226532918495),\n",
       " ('total_rech_num_8', 0.011994429944571675),\n",
       " ('vol_3g_mb_8', 0.010216755162265577),\n",
       " ('spl_ic_mou_8', 0.008370343712221888),\n",
       " ('vol_2g_mb_8', 0.008283979750134231),\n",
       " ('spl_og_mou_6', 0.006759154416626769),\n",
       " ('count_rech_3g_8', 0.005839060243450501),\n",
       " ('std_og_mou_8', 0.005556243977794144),\n",
       " ('spl_ic_mou_6', 0.005295749322722625),\n",
       " ('spl_og_mou_7', 0.005172155252757629),\n",
       " ('sachet_2g_8', 0.005066106890423425),\n",
       " ('fb_user_7', 0.004820000227692812),\n",
       " ('isd_ic_mou_8', 0.004685745344232016),\n",
       " ('og_others_6', 0.004678856789222028),\n",
       " ('offnet_mou_8', 0.004608968351902497),\n",
       " ('std_ic_mou_8', 0.004484934372663194),\n",
       " ('std_og_mou_7', 0.003883967186024259),\n",
       " ('onnet_mou_8', 0.003760534995909619),\n",
       " ('loc_og_mou_7', 0.0033478270757533245),\n",
       " ('total_rech_data_7', 0.0030689426456023744),\n",
       " ('std_og_mou_6', 0.003063559885434841),\n",
       " ('total_ic_mou_7', 0.002961787453630681),\n",
       " ('fb_user_6', 0.002914081353352586),\n",
       " ('total_rech_num_7', 0.0028963481179398514),\n",
       " ('roam_og_mou_6', 0.002823426976749755),\n",
       " ('spl_og_mou_8', 0.0027438315663630285),\n",
       " ('ic_others_8', 0.0027285464664759855),\n",
       " ('max_rech_data_7', 0.002643332915545892),\n",
       " ('monthly_2g_8', 0.002482250530946055),\n",
       " ('aon', 0.0022330927999574227),\n",
       " ('count_rech_2g_7', 0.002182361963848955),\n",
       " ('total_og_mou_7', 0.00214797360600002),\n",
       " ('rech_data_7_total', 0.0021036011673263508),\n",
       " ('loc_ic_mou_7', 0.002048092618519195),\n",
       " ('max_rech_amt_7', 0.0019883863837016607),\n",
       " ('total_rech_data_6', 0.001979397754019947),\n",
       " ('aug_vbc_3g', 0.0018996298177419927),\n",
       " ('isd_ic_mou_6', 0.0018869531076647153),\n",
       " ('max_rech_data_6', 0.0018257003421222379),\n",
       " ('roam_ic_mou_6', 0.0017907085242518947),\n",
       " ('monthly_3g_8', 0.001715665563693029),\n",
       " ('og_others_7', 0.0017022784019672169),\n",
       " ('max_rech_amt_6', 0.0015388201284257629),\n",
       " ('arpu_7', 0.001469338809749534),\n",
       " ('count_rech_3g_7', 0.0014550945183788705),\n",
       " ('total_ic_mou_6', 0.001420734118494782),\n",
       " ('ic_others_6', 0.0013841872464140405),\n",
       " ('count_rech_3g_6', 0.001374925455146684),\n",
       " ('total_rech_amt_7', 0.001289000480204327),\n",
       " ('isd_og_mou_6', 0.0012887225382097866),\n",
       " ('loc_og_mou_6', 0.0012871592444620395),\n",
       " ('std_ic_mou_7', 0.001274857192012496),\n",
       " ('sachet_2g_7', 0.0012747230326319173),\n",
       " ('vol_2g_mb_7', 0.0012607647388504463),\n",
       " ('count_rech_2g_6', 0.0012004017327724877),\n",
       " ('onnet_mou_7', 0.0011906076989066274),\n",
       " ('monthly_2g_6', 0.001178860918650319),\n",
       " ('total_rech_num_6', 0.0011733601019935122),\n",
       " ('vol_3g_mb_7', 0.0011437882643459234),\n",
       " ('isd_og_mou_7', 0.0011407820835001943),\n",
       " ('offnet_mou_7', 0.0011197673996465522),\n",
       " ('Total rech_7', 0.0010979708103992583),\n",
       " ('spl_ic_mou_7', 0.0010881750914075873),\n",
       " ('onnet_mou_6', 0.0010664591255723727),\n",
       " ('vol_2g_mb_6', 0.0010003659601310897),\n",
       " ('std_ic_mou_6', 0.0009730271471843873),\n",
       " ('total_og_mou_6', 0.0009556095554990137),\n",
       " ('sachet_2g_6', 0.0009498528119304991),\n",
       " ('rech_data_6_total', 0.0008686557394525258),\n",
       " ('loc_ic_mou_6', 0.0008589120932630188),\n",
       " ('monthly_2g_7', 0.0008540151307726339),\n",
       " ('vol_3g_mb_6', 0.0008170134090197137),\n",
       " ('offnet_mou_6', 0.0007885593059849056),\n",
       " ('ic_others_7', 0.0007846418629660333),\n",
       " ('sachet_3g_7', 0.0007383187974787073),\n",
       " ('isd_ic_mou_7', 0.0006343196447684852),\n",
       " ('sep_vbc_3g', 0.0005932178284611293),\n",
       " ('monthly_3g_6', 0.0005315941327581485),\n",
       " ('avg_amt_6_7', 0.0005098204242302779),\n",
       " ('monthly_3g_7', 0.0004955242844644428),\n",
       " ('jun_vbc_3g', 0.00046953501056817343),\n",
       " ('arpu_6', 0.000428406128694019),\n",
       " ('jul_vbc_3g', 0.0004008589117957976),\n",
       " ('total_rech_amt_6', 0.0003449232048335955),\n",
       " ('Total rech_6', 0.00033846287119815527),\n",
       " ('sachet_3g_6', 0.00031608804718760095),\n",
       " ('sachet_3g_8', 0.00011512377208791548),\n",
       " ('night_pck_user_6', 1.9757599814280796e-06),\n",
       " ('night_pck_user_7', 0.0),\n",
       " ('night_pck_user_8', 0.0)]"
      ]
     },
     "execution_count": 751,
     "metadata": {},
     "output_type": "execute_result"
    }
   ],
   "source": [
    "Sort_Tuple(featmap)"
   ]
  },
  {
   "cell_type": "code",
   "execution_count": 754,
   "metadata": {},
   "outputs": [],
   "source": [
    "#Storing data frame with Features & importances\n",
    "df_feat=pd.DataFrame(imp,index=df_cols)"
   ]
  },
  {
   "cell_type": "code",
   "execution_count": 755,
   "metadata": {},
   "outputs": [
    {
     "data": {
      "text/html": [
       "<div>\n",
       "<style scoped>\n",
       "    .dataframe tbody tr th:only-of-type {\n",
       "        vertical-align: middle;\n",
       "    }\n",
       "\n",
       "    .dataframe tbody tr th {\n",
       "        vertical-align: top;\n",
       "    }\n",
       "\n",
       "    .dataframe thead th {\n",
       "        text-align: right;\n",
       "    }\n",
       "</style>\n",
       "<table border=\"1\" class=\"dataframe\">\n",
       "  <thead>\n",
       "    <tr style=\"text-align: right;\">\n",
       "      <th></th>\n",
       "      <th>0</th>\n",
       "    </tr>\n",
       "  </thead>\n",
       "  <tbody>\n",
       "    <tr>\n",
       "      <th>arpu_6</th>\n",
       "      <td>0.000428</td>\n",
       "    </tr>\n",
       "    <tr>\n",
       "      <th>arpu_7</th>\n",
       "      <td>0.001469</td>\n",
       "    </tr>\n",
       "    <tr>\n",
       "      <th>arpu_8</th>\n",
       "      <td>0.049978</td>\n",
       "    </tr>\n",
       "    <tr>\n",
       "      <th>onnet_mou_6</th>\n",
       "      <td>0.001066</td>\n",
       "    </tr>\n",
       "    <tr>\n",
       "      <th>onnet_mou_7</th>\n",
       "      <td>0.001191</td>\n",
       "    </tr>\n",
       "  </tbody>\n",
       "</table>\n",
       "</div>"
      ],
      "text/plain": [
       "                    0\n",
       "arpu_6       0.000428\n",
       "arpu_7       0.001469\n",
       "arpu_8       0.049978\n",
       "onnet_mou_6  0.001066\n",
       "onnet_mou_7  0.001191"
      ]
     },
     "execution_count": 755,
     "metadata": {},
     "output_type": "execute_result"
    }
   ],
   "source": [
    "df_feat.head()"
   ]
  },
  {
   "cell_type": "code",
   "execution_count": 756,
   "metadata": {},
   "outputs": [],
   "source": [
    "#sorting the dataframe based on feature importance\n",
    "final_df = df_feat.sort_values(by=[0], ascending=False)"
   ]
  },
  {
   "cell_type": "code",
   "execution_count": 757,
   "metadata": {},
   "outputs": [
    {
     "data": {
      "text/html": [
       "<div>\n",
       "<style scoped>\n",
       "    .dataframe tbody tr th:only-of-type {\n",
       "        vertical-align: middle;\n",
       "    }\n",
       "\n",
       "    .dataframe tbody tr th {\n",
       "        vertical-align: top;\n",
       "    }\n",
       "\n",
       "    .dataframe thead th {\n",
       "        text-align: right;\n",
       "    }\n",
       "</style>\n",
       "<table border=\"1\" class=\"dataframe\">\n",
       "  <thead>\n",
       "    <tr style=\"text-align: right;\">\n",
       "      <th></th>\n",
       "      <th>0</th>\n",
       "    </tr>\n",
       "  </thead>\n",
       "  <tbody>\n",
       "    <tr>\n",
       "      <th>roam_og_mou_8</th>\n",
       "      <td>0.146971</td>\n",
       "    </tr>\n",
       "    <tr>\n",
       "      <th>roam_ic_mou_8</th>\n",
       "      <td>0.142151</td>\n",
       "    </tr>\n",
       "    <tr>\n",
       "      <th>total_ic_mou_8</th>\n",
       "      <td>0.076340</td>\n",
       "    </tr>\n",
       "    <tr>\n",
       "      <th>fb_user_8</th>\n",
       "      <td>0.052301</td>\n",
       "    </tr>\n",
       "    <tr>\n",
       "      <th>total_rech_amt_8</th>\n",
       "      <td>0.051855</td>\n",
       "    </tr>\n",
       "  </tbody>\n",
       "</table>\n",
       "</div>"
      ],
      "text/plain": [
       "                         0\n",
       "roam_og_mou_8     0.146971\n",
       "roam_ic_mou_8     0.142151\n",
       "total_ic_mou_8    0.076340\n",
       "fb_user_8         0.052301\n",
       "total_rech_amt_8  0.051855"
      ]
     },
     "execution_count": 757,
     "metadata": {},
     "output_type": "execute_result"
    }
   ],
   "source": [
    "final_df.head()"
   ]
  },
  {
   "cell_type": "code",
   "execution_count": 766,
   "metadata": {},
   "outputs": [],
   "source": [
    "# Deriving top 21 variables\n",
    "\n",
    "final=final_df[:21]"
   ]
  },
  {
   "cell_type": "code",
   "execution_count": 767,
   "metadata": {},
   "outputs": [
    {
     "data": {
      "text/html": [
       "<div>\n",
       "<style scoped>\n",
       "    .dataframe tbody tr th:only-of-type {\n",
       "        vertical-align: middle;\n",
       "    }\n",
       "\n",
       "    .dataframe tbody tr th {\n",
       "        vertical-align: top;\n",
       "    }\n",
       "\n",
       "    .dataframe thead th {\n",
       "        text-align: right;\n",
       "    }\n",
       "</style>\n",
       "<table border=\"1\" class=\"dataframe\">\n",
       "  <thead>\n",
       "    <tr style=\"text-align: right;\">\n",
       "      <th></th>\n",
       "      <th>0</th>\n",
       "    </tr>\n",
       "  </thead>\n",
       "  <tbody>\n",
       "    <tr>\n",
       "      <th>roam_og_mou_8</th>\n",
       "      <td>0.146971</td>\n",
       "    </tr>\n",
       "    <tr>\n",
       "      <th>roam_ic_mou_8</th>\n",
       "      <td>0.142151</td>\n",
       "    </tr>\n",
       "    <tr>\n",
       "      <th>total_ic_mou_8</th>\n",
       "      <td>0.076340</td>\n",
       "    </tr>\n",
       "    <tr>\n",
       "      <th>fb_user_8</th>\n",
       "      <td>0.052301</td>\n",
       "    </tr>\n",
       "    <tr>\n",
       "      <th>total_rech_amt_8</th>\n",
       "      <td>0.051855</td>\n",
       "    </tr>\n",
       "    <tr>\n",
       "      <th>arpu_8</th>\n",
       "      <td>0.049978</td>\n",
       "    </tr>\n",
       "    <tr>\n",
       "      <th>total_rech_data_8</th>\n",
       "      <td>0.034429</td>\n",
       "    </tr>\n",
       "    <tr>\n",
       "      <th>max_rech_amt_8</th>\n",
       "      <td>0.034179</td>\n",
       "    </tr>\n",
       "    <tr>\n",
       "      <th>total_og_mou_8</th>\n",
       "      <td>0.033346</td>\n",
       "    </tr>\n",
       "    <tr>\n",
       "      <th>max_rech_data_8</th>\n",
       "      <td>0.027834</td>\n",
       "    </tr>\n",
       "    <tr>\n",
       "      <th>og_others_8</th>\n",
       "      <td>0.026774</td>\n",
       "    </tr>\n",
       "    <tr>\n",
       "      <th>roam_og_mou_7</th>\n",
       "      <td>0.023700</td>\n",
       "    </tr>\n",
       "    <tr>\n",
       "      <th>loc_ic_mou_8</th>\n",
       "      <td>0.023388</td>\n",
       "    </tr>\n",
       "    <tr>\n",
       "      <th>isd_og_mou_8</th>\n",
       "      <td>0.020816</td>\n",
       "    </tr>\n",
       "    <tr>\n",
       "      <th>roam_ic_mou_7</th>\n",
       "      <td>0.019324</td>\n",
       "    </tr>\n",
       "    <tr>\n",
       "      <th>loc_og_mou_8</th>\n",
       "      <td>0.019261</td>\n",
       "    </tr>\n",
       "    <tr>\n",
       "      <th>count_rech_2g_8</th>\n",
       "      <td>0.014213</td>\n",
       "    </tr>\n",
       "    <tr>\n",
       "      <th>total_rech_num_8</th>\n",
       "      <td>0.011994</td>\n",
       "    </tr>\n",
       "    <tr>\n",
       "      <th>vol_3g_mb_8</th>\n",
       "      <td>0.010217</td>\n",
       "    </tr>\n",
       "    <tr>\n",
       "      <th>spl_ic_mou_8</th>\n",
       "      <td>0.008370</td>\n",
       "    </tr>\n",
       "    <tr>\n",
       "      <th>vol_2g_mb_8</th>\n",
       "      <td>0.008284</td>\n",
       "    </tr>\n",
       "  </tbody>\n",
       "</table>\n",
       "</div>"
      ],
      "text/plain": [
       "                          0\n",
       "roam_og_mou_8      0.146971\n",
       "roam_ic_mou_8      0.142151\n",
       "total_ic_mou_8     0.076340\n",
       "fb_user_8          0.052301\n",
       "total_rech_amt_8   0.051855\n",
       "arpu_8             0.049978\n",
       "total_rech_data_8  0.034429\n",
       "max_rech_amt_8     0.034179\n",
       "total_og_mou_8     0.033346\n",
       "max_rech_data_8    0.027834\n",
       "og_others_8        0.026774\n",
       "roam_og_mou_7      0.023700\n",
       "loc_ic_mou_8       0.023388\n",
       "isd_og_mou_8       0.020816\n",
       "roam_ic_mou_7      0.019324\n",
       "loc_og_mou_8       0.019261\n",
       "count_rech_2g_8    0.014213\n",
       "total_rech_num_8   0.011994\n",
       "vol_3g_mb_8        0.010217\n",
       "spl_ic_mou_8       0.008370\n",
       "vol_2g_mb_8        0.008284"
      ]
     },
     "execution_count": 767,
     "metadata": {},
     "output_type": "execute_result"
    }
   ],
   "source": [
    "final.head(21)"
   ]
  },
  {
   "cell_type": "markdown",
   "metadata": {},
   "source": [
    "**Plotting Bar Graph- Visual Analysis of Important Feature**"
   ]
  },
  {
   "cell_type": "code",
   "execution_count": 768,
   "metadata": {},
   "outputs": [
    {
     "data": {
      "text/plain": [
       "<matplotlib.axes._subplots.AxesSubplot at 0x1414f57f0>"
      ]
     },
     "execution_count": 768,
     "metadata": {},
     "output_type": "execute_result"
    },
    {
     "data": {
      "image/png": "[encoded data removed]",
      "text/plain": [
       "<Figure size 432x288 with 1 Axes>"
      ]
     },
     "metadata": {
      "needs_background": "light"
     },
     "output_type": "display_data"
    }
   ],
   "source": [
    "final.plot.bar() "
   ]
  },
  {
   "cell_type": "markdown",
   "metadata": {},
   "source": [
    "## Important Feature Analysis"
   ]
  },
  {
   "cell_type": "markdown",
   "metadata": {},
   "source": [
    "Some of the top main predictiors of churn are the monthly KPI features for the action phase (3rd month August)."
   ]
  },
  {
   "cell_type": "markdown",
   "metadata": {},
   "source": [
    "The graph above suggest that the top 25 features ranked in order of importance as produced by our RandomForest implementation are the features that belong to month 8 i.e., the action month. Hence, it is clear that what happens in the action phase has a direct impact on the customer churn of high value customers. Specifically, these features are as follows:\n",
    "\n",
    "1.\t**roam_og_mou_8**\t\t-- *outgoing roaming calls minutes of usage in month 8*\n",
    "2.\t**roam_ic_mou_8**\t\t-- *incoming roaming calls minutes of usage in month 8*\n",
    "3.\t**total_ic_mou_8**\t\t-- *Total incoming minutes of usage in month 8*\n",
    "4.\t**fb_user_8**\t\t\t-- *services of Facebook and similar social networking sites for month 8*\n",
    "5.\t**total_rech_amt_8**\t-- *total recharge amount in month 8*\n",
    "6.\t**arpu_8**\t\t\t\t-- *average revenue per user in month 8*\n",
    "7.\t**total_rech_data_8**\t-- *total data recharge (MB) in month 8*\n",
    "8.\t**max_rech_amt_8**\t\t-- *maximum recharge amount in month 8*\n",
    "9.  **total_og_mou_8**      -- *total outgoing calls minutes of usage in month 8*\n",
    "10.\t**max_rech_amt_8**\t\t-- *maximum recharge amount in month 8*\n",
    "11. **og_others_8**\n",
    "12. **roam_og_mou_7**       -- *outgoing roaming calls minutes of usage in month 7*\n",
    "13. **loc_ic_mou_8**\t\t-- *local incoming minutes of usage in month 8*\n",
    "14. **isd_og_mou_8**        -- *outgoing ISD minutes of usage in month 8*\n",
    "15. **roam_ic_mou_7**       -- *incoming roaming calls minutes of usage in month 8*\n",
    "16.\t**loc_og_mou_8**\t\t-- *local outgoing calls minutes of usage in month 8*\n",
    "17. **count_rech_2g_8**     -- *Number of 2g data recharge in month 8*\n",
    "18. **total_rech_num_8**    -- *total number of recharges done in the month 8*\n",
    "19. **vol_3g_mb_8**         -- *volume of 3G data (MB) consumed for month 8*\n",
    "20. **spl_ic_mou_8**        -- *Special incoming call for the month of 7*\n",
    "21. **vol_2g_mb_8**         -- *volume of 2G data (MB) consumed for month 8*"
   ]
  },
  {
   "cell_type": "markdown",
   "metadata": {},
   "source": [
    "**Notes**\n",
    "\n",
    " 1. **Local& Roaming calls Mou's be it incoming or outgoing have a very important role for churn predictions.**\n",
    " 2. **Reduction in these KPI's forms a clear indicator of churn.**\n",
    " 3. **Overall, drop in any of these indicator KPI is a signal that the customer is not actively engaging in the services offered by the Network operator and thus may choose to churn in the near future.**\n",
    " 4. **Data Usage and Social Networking sites packages also are a vital factor in retaining customers**\n",
    " \n",
    "    *Next, we will look at some of the stratergic steps which can be taken to retain these predicted churners.*"
   ]
  },
  {
   "cell_type": "markdown",
   "metadata": {},
   "source": [
    "#### Strategies to Manage customer churn"
   ]
  },
  {
   "cell_type": "markdown",
   "metadata": {},
   "source": [
    "1. **Monitoring Drop in usage**\n",
    "\n",
    "   --*Telecom company should pay close attention to drop in MoU, ARPU and data usage (2g and 3g) month over month. If feasible, the company should track these numbers week over week. Since billing cycles are typically monthly, a drop in usage numbers will give the company time to react when tracked at weekly level.\n",
    "   --*Contact these customers proactively to find out what's affecting their experience. \n",
    "   --*offer them attractive data recharge coupons or other incentives to continue to use the services, while the company fixes the issues reported.\n"
   ]
  },
  {
   "cell_type": "markdown",
   "metadata": {},
   "source": [
    "2. **Improving Outgoing services**\n",
    "\n",
    "1. --*The Network operators must futher investigate their outgoing tariffs, plans and campaigns.\n",
    "2. --*There could be a possibility that the outgoing tariffs offered to it's customer are less competitive to the outgoing tariffs of their competitor.\n",
    "3. --*Attractive offers like Discounted outgoing rates during particular hours of the day for these customers or For every X mou, grant customer with some % of X free mou.*\n",
    "4. --*Free monthly outgoing mou's depending on the users past roaming mou usage.*"
   ]
  },
  {
   "cell_type": "markdown",
   "metadata": {},
   "source": [
    "3. **Improving Roaming services**\n",
    "\n",
    "1. --*Churners show higher roaming usage than non-churners.*\n",
    "2. --*The Network operators must futher investigate their roaming tariffs, and quality of service.*\n",
    "3. --*Might be that the roaming tariffs offered are less competitive than their competitor.\n",
    "4. --*It might be that the customer is not getting good quality of service while roaming. In this case, quality of service guarantees with roaming partners and network quality need to be investigated.*\n",
    "5. --*New campaigns which targets the roaming customers can be rolled out. Like Discounted roaming rates during particular hours of the day or Free monthly roaming mou's depending on the users past roaming mou usage.*"
   ]
  },
  {
   "cell_type": "markdown",
   "metadata": {},
   "source": [
    "4. **Offer Attractive packages and monthly recharge plans for \n",
    "        --*2G & 3G Data Recharge packs*\n",
    "        --*Facebook an other scoial Networking Sites*"
   ]
  },
  {
   "cell_type": "code",
   "execution_count": null,
   "metadata": {},
   "outputs": [],
   "source": []
  }
 ],
 "metadata": {
  "accelerator": "GPU",
  "colab": {
   "name": "Telecom_Churn.ipynb",
   "provenance": []
  },
  "kernelspec": {
   "display_name": "Python 3",
   "language": "python",
   "name": "python3"
  },
  "language_info": {
   "codemirror_mode": {
    "name": "ipython",
    "version": 3
   },
   "file_extension": ".py",
   "mimetype": "text/x-python",
   "name": "python",
   "nbconvert_exporter": "python",
   "pygments_lexer": "ipython3",
   "version": "3.7.3"
  }
 },
 "nbformat": 4,
 "nbformat_minor": 1
}
