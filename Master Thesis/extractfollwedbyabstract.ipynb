{
  "nbformat": 4,
  "nbformat_minor": 0,
  "metadata": {
    "accelerator": "GPU",
    "colab": {
      "name": "extractfollwedbyabstract.ipynb",
      "provenance": [],
      "collapsed_sections": []
    },
    "kernelspec": {
      "display_name": "Python 3",
      "name": "python3"
    },
    "language_info": {
      "name": "python"
    },
    "widgets": {
      "application/vnd.jupyter.widget-state+json": {
        "3dd1dfba3c784180843ecd27f5ed584f": {
          "model_module": "@jupyter-widgets/controls",
          "model_name": "HBoxModel",
          "state": {
            "_view_name": "HBoxView",
            "_dom_classes": [],
            "_model_name": "HBoxModel",
            "_view_module": "@jupyter-widgets/controls",
            "_model_module_version": "1.5.0",
            "_view_count": null,
            "_view_module_version": "1.5.0",
            "box_style": "",
            "layout": "IPY_MODEL_0062bcb2365c4bfb9574180dbf5f2a1d",
            "_model_module": "@jupyter-widgets/controls",
            "children": [
              "IPY_MODEL_a8cacc5830c14aaa8b6e906fb31c55af",
              "IPY_MODEL_9b52d10708fb43289c27d0c3eadd365b"
            ]
          }
        },
        "0062bcb2365c4bfb9574180dbf5f2a1d": {
          "model_module": "@jupyter-widgets/base",
          "model_name": "LayoutModel",
          "state": {
            "_view_name": "LayoutView",
            "grid_template_rows": null,
            "right": null,
            "justify_content": null,
            "_view_module": "@jupyter-widgets/base",
            "overflow": null,
            "_model_module_version": "1.2.0",
            "_view_count": null,
            "flex_flow": null,
            "width": null,
            "min_width": null,
            "border": null,
            "align_items": null,
            "bottom": null,
            "_model_module": "@jupyter-widgets/base",
            "top": null,
            "grid_column": null,
            "overflow_y": null,
            "overflow_x": null,
            "grid_auto_flow": null,
            "grid_area": null,
            "grid_template_columns": null,
            "flex": null,
            "_model_name": "LayoutModel",
            "justify_items": null,
            "grid_row": null,
            "max_height": null,
            "align_content": null,
            "visibility": null,
            "align_self": null,
            "height": null,
            "min_height": null,
            "padding": null,
            "grid_auto_rows": null,
            "grid_gap": null,
            "max_width": null,
            "order": null,
            "_view_module_version": "1.2.0",
            "grid_template_areas": null,
            "object_position": null,
            "object_fit": null,
            "grid_auto_columns": null,
            "margin": null,
            "display": null,
            "left": null
          }
        },
        "a8cacc5830c14aaa8b6e906fb31c55af": {
          "model_module": "@jupyter-widgets/controls",
          "model_name": "FloatProgressModel",
          "state": {
            "_view_name": "ProgressView",
            "style": "IPY_MODEL_1d372b0121c74ac095959c71403a3ec1",
            "_dom_classes": [],
            "description": "Downloading: 100%",
            "_model_name": "FloatProgressModel",
            "bar_style": "success",
            "max": 231508,
            "_view_module": "@jupyter-widgets/controls",
            "_model_module_version": "1.5.0",
            "value": 231508,
            "_view_count": null,
            "_view_module_version": "1.5.0",
            "orientation": "horizontal",
            "min": 0,
            "description_tooltip": null,
            "_model_module": "@jupyter-widgets/controls",
            "layout": "IPY_MODEL_b982b1dde736476b99fad2f25f89584b"
          }
        },
        "9b52d10708fb43289c27d0c3eadd365b": {
          "model_module": "@jupyter-widgets/controls",
          "model_name": "HTMLModel",
          "state": {
            "_view_name": "HTMLView",
            "style": "IPY_MODEL_48452b011cdd497b9bd16f8fd4537bf4",
            "_dom_classes": [],
            "description": "",
            "_model_name": "HTMLModel",
            "placeholder": "​",
            "_view_module": "@jupyter-widgets/controls",
            "_model_module_version": "1.5.0",
            "value": " 232k/232k [00:02&lt;00:00, 104kB/s]",
            "_view_count": null,
            "_view_module_version": "1.5.0",
            "description_tooltip": null,
            "_model_module": "@jupyter-widgets/controls",
            "layout": "IPY_MODEL_a2c23b4865794a83940f5eba5f11d8fa"
          }
        },
        "1d372b0121c74ac095959c71403a3ec1": {
          "model_module": "@jupyter-widgets/controls",
          "model_name": "ProgressStyleModel",
          "state": {
            "_view_name": "StyleView",
            "_model_name": "ProgressStyleModel",
            "description_width": "initial",
            "_view_module": "@jupyter-widgets/base",
            "_model_module_version": "1.5.0",
            "_view_count": null,
            "_view_module_version": "1.2.0",
            "bar_color": null,
            "_model_module": "@jupyter-widgets/controls"
          }
        },
        "b982b1dde736476b99fad2f25f89584b": {
          "model_module": "@jupyter-widgets/base",
          "model_name": "LayoutModel",
          "state": {
            "_view_name": "LayoutView",
            "grid_template_rows": null,
            "right": null,
            "justify_content": null,
            "_view_module": "@jupyter-widgets/base",
            "overflow": null,
            "_model_module_version": "1.2.0",
            "_view_count": null,
            "flex_flow": null,
            "width": null,
            "min_width": null,
            "border": null,
            "align_items": null,
            "bottom": null,
            "_model_module": "@jupyter-widgets/base",
            "top": null,
            "grid_column": null,
            "overflow_y": null,
            "overflow_x": null,
            "grid_auto_flow": null,
            "grid_area": null,
            "grid_template_columns": null,
            "flex": null,
            "_model_name": "LayoutModel",
            "justify_items": null,
            "grid_row": null,
            "max_height": null,
            "align_content": null,
            "visibility": null,
            "align_self": null,
            "height": null,
            "min_height": null,
            "padding": null,
            "grid_auto_rows": null,
            "grid_gap": null,
            "max_width": null,
            "order": null,
            "_view_module_version": "1.2.0",
            "grid_template_areas": null,
            "object_position": null,
            "object_fit": null,
            "grid_auto_columns": null,
            "margin": null,
            "display": null,
            "left": null
          }
        },
        "48452b011cdd497b9bd16f8fd4537bf4": {
          "model_module": "@jupyter-widgets/controls",
          "model_name": "DescriptionStyleModel",
          "state": {
            "_view_name": "StyleView",
            "_model_name": "DescriptionStyleModel",
            "description_width": "",
            "_view_module": "@jupyter-widgets/base",
            "_model_module_version": "1.5.0",
            "_view_count": null,
            "_view_module_version": "1.2.0",
            "_model_module": "@jupyter-widgets/controls"
          }
        },
        "a2c23b4865794a83940f5eba5f11d8fa": {
          "model_module": "@jupyter-widgets/base",
          "model_name": "LayoutModel",
          "state": {
            "_view_name": "LayoutView",
            "grid_template_rows": null,
            "right": null,
            "justify_content": null,
            "_view_module": "@jupyter-widgets/base",
            "overflow": null,
            "_model_module_version": "1.2.0",
            "_view_count": null,
            "flex_flow": null,
            "width": null,
            "min_width": null,
            "border": null,
            "align_items": null,
            "bottom": null,
            "_model_module": "@jupyter-widgets/base",
            "top": null,
            "grid_column": null,
            "overflow_y": null,
            "overflow_x": null,
            "grid_auto_flow": null,
            "grid_area": null,
            "grid_template_columns": null,
            "flex": null,
            "_model_name": "LayoutModel",
            "justify_items": null,
            "grid_row": null,
            "max_height": null,
            "align_content": null,
            "visibility": null,
            "align_self": null,
            "height": null,
            "min_height": null,
            "padding": null,
            "grid_auto_rows": null,
            "grid_gap": null,
            "max_width": null,
            "order": null,
            "_view_module_version": "1.2.0",
            "grid_template_areas": null,
            "object_position": null,
            "object_fit": null,
            "grid_auto_columns": null,
            "margin": null,
            "display": null,
            "left": null
          }
        },
        "04092b069c504bfa9ab5246e7d22318a": {
          "model_module": "@jupyter-widgets/controls",
          "model_name": "HBoxModel",
          "state": {
            "_view_name": "HBoxView",
            "_dom_classes": [],
            "_model_name": "HBoxModel",
            "_view_module": "@jupyter-widgets/controls",
            "_model_module_version": "1.5.0",
            "_view_count": null,
            "_view_module_version": "1.5.0",
            "box_style": "",
            "layout": "IPY_MODEL_6c33703cd9fb45f79f84714d6e35ccb4",
            "_model_module": "@jupyter-widgets/controls",
            "children": [
              "IPY_MODEL_22e63cf55b6a41079576f2f3a0a7ea32",
              "IPY_MODEL_4d15cfc6decf4e86a49ab4ca3e0352fd"
            ]
          }
        },
        "6c33703cd9fb45f79f84714d6e35ccb4": {
          "model_module": "@jupyter-widgets/base",
          "model_name": "LayoutModel",
          "state": {
            "_view_name": "LayoutView",
            "grid_template_rows": null,
            "right": null,
            "justify_content": null,
            "_view_module": "@jupyter-widgets/base",
            "overflow": null,
            "_model_module_version": "1.2.0",
            "_view_count": null,
            "flex_flow": null,
            "width": null,
            "min_width": null,
            "border": null,
            "align_items": null,
            "bottom": null,
            "_model_module": "@jupyter-widgets/base",
            "top": null,
            "grid_column": null,
            "overflow_y": null,
            "overflow_x": null,
            "grid_auto_flow": null,
            "grid_area": null,
            "grid_template_columns": null,
            "flex": null,
            "_model_name": "LayoutModel",
            "justify_items": null,
            "grid_row": null,
            "max_height": null,
            "align_content": null,
            "visibility": null,
            "align_self": null,
            "height": null,
            "min_height": null,
            "padding": null,
            "grid_auto_rows": null,
            "grid_gap": null,
            "max_width": null,
            "order": null,
            "_view_module_version": "1.2.0",
            "grid_template_areas": null,
            "object_position": null,
            "object_fit": null,
            "grid_auto_columns": null,
            "margin": null,
            "display": null,
            "left": null
          }
        },
        "22e63cf55b6a41079576f2f3a0a7ea32": {
          "model_module": "@jupyter-widgets/controls",
          "model_name": "FloatProgressModel",
          "state": {
            "_view_name": "ProgressView",
            "style": "IPY_MODEL_3fb578492e484e2eb83614903f185a78",
            "_dom_classes": [],
            "description": "Downloading: 100%",
            "_model_name": "FloatProgressModel",
            "bar_style": "success",
            "max": 28,
            "_view_module": "@jupyter-widgets/controls",
            "_model_module_version": "1.5.0",
            "value": 28,
            "_view_count": null,
            "_view_module_version": "1.5.0",
            "orientation": "horizontal",
            "min": 0,
            "description_tooltip": null,
            "_model_module": "@jupyter-widgets/controls",
            "layout": "IPY_MODEL_dff5b60fe49542999842c11b33d01f08"
          }
        },
        "4d15cfc6decf4e86a49ab4ca3e0352fd": {
          "model_module": "@jupyter-widgets/controls",
          "model_name": "HTMLModel",
          "state": {
            "_view_name": "HTMLView",
            "style": "IPY_MODEL_ed22450f13584d36b148fc2b187b402c",
            "_dom_classes": [],
            "description": "",
            "_model_name": "HTMLModel",
            "placeholder": "​",
            "_view_module": "@jupyter-widgets/controls",
            "_model_module_version": "1.5.0",
            "value": " 28.0/28.0 [00:00&lt;00:00, 36.0B/s]",
            "_view_count": null,
            "_view_module_version": "1.5.0",
            "description_tooltip": null,
            "_model_module": "@jupyter-widgets/controls",
            "layout": "IPY_MODEL_6a11c67d5dc3406fadd7e66ad9cb6239"
          }
        },
        "3fb578492e484e2eb83614903f185a78": {
          "model_module": "@jupyter-widgets/controls",
          "model_name": "ProgressStyleModel",
          "state": {
            "_view_name": "StyleView",
            "_model_name": "ProgressStyleModel",
            "description_width": "initial",
            "_view_module": "@jupyter-widgets/base",
            "_model_module_version": "1.5.0",
            "_view_count": null,
            "_view_module_version": "1.2.0",
            "bar_color": null,
            "_model_module": "@jupyter-widgets/controls"
          }
        },
        "dff5b60fe49542999842c11b33d01f08": {
          "model_module": "@jupyter-widgets/base",
          "model_name": "LayoutModel",
          "state": {
            "_view_name": "LayoutView",
            "grid_template_rows": null,
            "right": null,
            "justify_content": null,
            "_view_module": "@jupyter-widgets/base",
            "overflow": null,
            "_model_module_version": "1.2.0",
            "_view_count": null,
            "flex_flow": null,
            "width": null,
            "min_width": null,
            "border": null,
            "align_items": null,
            "bottom": null,
            "_model_module": "@jupyter-widgets/base",
            "top": null,
            "grid_column": null,
            "overflow_y": null,
            "overflow_x": null,
            "grid_auto_flow": null,
            "grid_area": null,
            "grid_template_columns": null,
            "flex": null,
            "_model_name": "LayoutModel",
            "justify_items": null,
            "grid_row": null,
            "max_height": null,
            "align_content": null,
            "visibility": null,
            "align_self": null,
            "height": null,
            "min_height": null,
            "padding": null,
            "grid_auto_rows": null,
            "grid_gap": null,
            "max_width": null,
            "order": null,
            "_view_module_version": "1.2.0",
            "grid_template_areas": null,
            "object_position": null,
            "object_fit": null,
            "grid_auto_columns": null,
            "margin": null,
            "display": null,
            "left": null
          }
        },
        "ed22450f13584d36b148fc2b187b402c": {
          "model_module": "@jupyter-widgets/controls",
          "model_name": "DescriptionStyleModel",
          "state": {
            "_view_name": "StyleView",
            "_model_name": "DescriptionStyleModel",
            "description_width": "",
            "_view_module": "@jupyter-widgets/base",
            "_model_module_version": "1.5.0",
            "_view_count": null,
            "_view_module_version": "1.2.0",
            "_model_module": "@jupyter-widgets/controls"
          }
        },
        "6a11c67d5dc3406fadd7e66ad9cb6239": {
          "model_module": "@jupyter-widgets/base",
          "model_name": "LayoutModel",
          "state": {
            "_view_name": "LayoutView",
            "grid_template_rows": null,
            "right": null,
            "justify_content": null,
            "_view_module": "@jupyter-widgets/base",
            "overflow": null,
            "_model_module_version": "1.2.0",
            "_view_count": null,
            "flex_flow": null,
            "width": null,
            "min_width": null,
            "border": null,
            "align_items": null,
            "bottom": null,
            "_model_module": "@jupyter-widgets/base",
            "top": null,
            "grid_column": null,
            "overflow_y": null,
            "overflow_x": null,
            "grid_auto_flow": null,
            "grid_area": null,
            "grid_template_columns": null,
            "flex": null,
            "_model_name": "LayoutModel",
            "justify_items": null,
            "grid_row": null,
            "max_height": null,
            "align_content": null,
            "visibility": null,
            "align_self": null,
            "height": null,
            "min_height": null,
            "padding": null,
            "grid_auto_rows": null,
            "grid_gap": null,
            "max_width": null,
            "order": null,
            "_view_module_version": "1.2.0",
            "grid_template_areas": null,
            "object_position": null,
            "object_fit": null,
            "grid_auto_columns": null,
            "margin": null,
            "display": null,
            "left": null
          }
        },
        "6e5907890e0f4cc2b9386bda4f9c1414": {
          "model_module": "@jupyter-widgets/controls",
          "model_name": "HBoxModel",
          "state": {
            "_view_name": "HBoxView",
            "_dom_classes": [],
            "_model_name": "HBoxModel",
            "_view_module": "@jupyter-widgets/controls",
            "_model_module_version": "1.5.0",
            "_view_count": null,
            "_view_module_version": "1.5.0",
            "box_style": "",
            "layout": "IPY_MODEL_c9eec5d9ac26487293a052936bcaf89f",
            "_model_module": "@jupyter-widgets/controls",
            "children": [
              "IPY_MODEL_e70c3424772d4c3e90623f295bd8a730",
              "IPY_MODEL_7a38d9e25ad74c42b73d99cbe33d73e7"
            ]
          }
        },
        "c9eec5d9ac26487293a052936bcaf89f": {
          "model_module": "@jupyter-widgets/base",
          "model_name": "LayoutModel",
          "state": {
            "_view_name": "LayoutView",
            "grid_template_rows": null,
            "right": null,
            "justify_content": null,
            "_view_module": "@jupyter-widgets/base",
            "overflow": null,
            "_model_module_version": "1.2.0",
            "_view_count": null,
            "flex_flow": null,
            "width": null,
            "min_width": null,
            "border": null,
            "align_items": null,
            "bottom": null,
            "_model_module": "@jupyter-widgets/base",
            "top": null,
            "grid_column": null,
            "overflow_y": null,
            "overflow_x": null,
            "grid_auto_flow": null,
            "grid_area": null,
            "grid_template_columns": null,
            "flex": null,
            "_model_name": "LayoutModel",
            "justify_items": null,
            "grid_row": null,
            "max_height": null,
            "align_content": null,
            "visibility": null,
            "align_self": null,
            "height": null,
            "min_height": null,
            "padding": null,
            "grid_auto_rows": null,
            "grid_gap": null,
            "max_width": null,
            "order": null,
            "_view_module_version": "1.2.0",
            "grid_template_areas": null,
            "object_position": null,
            "object_fit": null,
            "grid_auto_columns": null,
            "margin": null,
            "display": null,
            "left": null
          }
        },
        "e70c3424772d4c3e90623f295bd8a730": {
          "model_module": "@jupyter-widgets/controls",
          "model_name": "FloatProgressModel",
          "state": {
            "_view_name": "ProgressView",
            "style": "IPY_MODEL_ecde11d659424a60bbbe6585ec913457",
            "_dom_classes": [],
            "description": "Downloading: 100%",
            "_model_name": "FloatProgressModel",
            "bar_style": "success",
            "max": 466062,
            "_view_module": "@jupyter-widgets/controls",
            "_model_module_version": "1.5.0",
            "value": 466062,
            "_view_count": null,
            "_view_module_version": "1.5.0",
            "orientation": "horizontal",
            "min": 0,
            "description_tooltip": null,
            "_model_module": "@jupyter-widgets/controls",
            "layout": "IPY_MODEL_b2470ddeeb4d4f3daeb9de6e5824a58a"
          }
        },
        "7a38d9e25ad74c42b73d99cbe33d73e7": {
          "model_module": "@jupyter-widgets/controls",
          "model_name": "HTMLModel",
          "state": {
            "_view_name": "HTMLView",
            "style": "IPY_MODEL_141673b928f24117a442800eba695ce1",
            "_dom_classes": [],
            "description": "",
            "_model_name": "HTMLModel",
            "placeholder": "​",
            "_view_module": "@jupyter-widgets/controls",
            "_model_module_version": "1.5.0",
            "value": " 466k/466k [00:00&lt;00:00, 2.19MB/s]",
            "_view_count": null,
            "_view_module_version": "1.5.0",
            "description_tooltip": null,
            "_model_module": "@jupyter-widgets/controls",
            "layout": "IPY_MODEL_f2df38541dd043b0b86acd8587a8cc65"
          }
        },
        "ecde11d659424a60bbbe6585ec913457": {
          "model_module": "@jupyter-widgets/controls",
          "model_name": "ProgressStyleModel",
          "state": {
            "_view_name": "StyleView",
            "_model_name": "ProgressStyleModel",
            "description_width": "initial",
            "_view_module": "@jupyter-widgets/base",
            "_model_module_version": "1.5.0",
            "_view_count": null,
            "_view_module_version": "1.2.0",
            "bar_color": null,
            "_model_module": "@jupyter-widgets/controls"
          }
        },
        "b2470ddeeb4d4f3daeb9de6e5824a58a": {
          "model_module": "@jupyter-widgets/base",
          "model_name": "LayoutModel",
          "state": {
            "_view_name": "LayoutView",
            "grid_template_rows": null,
            "right": null,
            "justify_content": null,
            "_view_module": "@jupyter-widgets/base",
            "overflow": null,
            "_model_module_version": "1.2.0",
            "_view_count": null,
            "flex_flow": null,
            "width": null,
            "min_width": null,
            "border": null,
            "align_items": null,
            "bottom": null,
            "_model_module": "@jupyter-widgets/base",
            "top": null,
            "grid_column": null,
            "overflow_y": null,
            "overflow_x": null,
            "grid_auto_flow": null,
            "grid_area": null,
            "grid_template_columns": null,
            "flex": null,
            "_model_name": "LayoutModel",
            "justify_items": null,
            "grid_row": null,
            "max_height": null,
            "align_content": null,
            "visibility": null,
            "align_self": null,
            "height": null,
            "min_height": null,
            "padding": null,
            "grid_auto_rows": null,
            "grid_gap": null,
            "max_width": null,
            "order": null,
            "_view_module_version": "1.2.0",
            "grid_template_areas": null,
            "object_position": null,
            "object_fit": null,
            "grid_auto_columns": null,
            "margin": null,
            "display": null,
            "left": null
          }
        },
        "141673b928f24117a442800eba695ce1": {
          "model_module": "@jupyter-widgets/controls",
          "model_name": "DescriptionStyleModel",
          "state": {
            "_view_name": "StyleView",
            "_model_name": "DescriptionStyleModel",
            "description_width": "",
            "_view_module": "@jupyter-widgets/base",
            "_model_module_version": "1.5.0",
            "_view_count": null,
            "_view_module_version": "1.2.0",
            "_model_module": "@jupyter-widgets/controls"
          }
        },
        "f2df38541dd043b0b86acd8587a8cc65": {
          "model_module": "@jupyter-widgets/base",
          "model_name": "LayoutModel",
          "state": {
            "_view_name": "LayoutView",
            "grid_template_rows": null,
            "right": null,
            "justify_content": null,
            "_view_module": "@jupyter-widgets/base",
            "overflow": null,
            "_model_module_version": "1.2.0",
            "_view_count": null,
            "flex_flow": null,
            "width": null,
            "min_width": null,
            "border": null,
            "align_items": null,
            "bottom": null,
            "_model_module": "@jupyter-widgets/base",
            "top": null,
            "grid_column": null,
            "overflow_y": null,
            "overflow_x": null,
            "grid_auto_flow": null,
            "grid_area": null,
            "grid_template_columns": null,
            "flex": null,
            "_model_name": "LayoutModel",
            "justify_items": null,
            "grid_row": null,
            "max_height": null,
            "align_content": null,
            "visibility": null,
            "align_self": null,
            "height": null,
            "min_height": null,
            "padding": null,
            "grid_auto_rows": null,
            "grid_gap": null,
            "max_width": null,
            "order": null,
            "_view_module_version": "1.2.0",
            "grid_template_areas": null,
            "object_position": null,
            "object_fit": null,
            "grid_auto_columns": null,
            "margin": null,
            "display": null,
            "left": null
          }
        },
        "b3e3d305322242b7918071b7c9d50a27": {
          "model_module": "@jupyter-widgets/controls",
          "model_name": "HBoxModel",
          "state": {
            "_view_name": "HBoxView",
            "_dom_classes": [],
            "_model_name": "HBoxModel",
            "_view_module": "@jupyter-widgets/controls",
            "_model_module_version": "1.5.0",
            "_view_count": null,
            "_view_module_version": "1.5.0",
            "box_style": "",
            "layout": "IPY_MODEL_c8ae9aba270e4a498bc1926cd4062fd3",
            "_model_module": "@jupyter-widgets/controls",
            "children": [
              "IPY_MODEL_9b27c4cff34041fba28a1576b4c80e1c",
              "IPY_MODEL_504c1f5d1dbe4a3193175e32427571a0"
            ]
          }
        },
        "c8ae9aba270e4a498bc1926cd4062fd3": {
          "model_module": "@jupyter-widgets/base",
          "model_name": "LayoutModel",
          "state": {
            "_view_name": "LayoutView",
            "grid_template_rows": null,
            "right": null,
            "justify_content": null,
            "_view_module": "@jupyter-widgets/base",
            "overflow": null,
            "_model_module_version": "1.2.0",
            "_view_count": null,
            "flex_flow": null,
            "width": null,
            "min_width": null,
            "border": null,
            "align_items": null,
            "bottom": null,
            "_model_module": "@jupyter-widgets/base",
            "top": null,
            "grid_column": null,
            "overflow_y": null,
            "overflow_x": null,
            "grid_auto_flow": null,
            "grid_area": null,
            "grid_template_columns": null,
            "flex": null,
            "_model_name": "LayoutModel",
            "justify_items": null,
            "grid_row": null,
            "max_height": null,
            "align_content": null,
            "visibility": null,
            "align_self": null,
            "height": null,
            "min_height": null,
            "padding": null,
            "grid_auto_rows": null,
            "grid_gap": null,
            "max_width": null,
            "order": null,
            "_view_module_version": "1.2.0",
            "grid_template_areas": null,
            "object_position": null,
            "object_fit": null,
            "grid_auto_columns": null,
            "margin": null,
            "display": null,
            "left": null
          }
        },
        "9b27c4cff34041fba28a1576b4c80e1c": {
          "model_module": "@jupyter-widgets/controls",
          "model_name": "FloatProgressModel",
          "state": {
            "_view_name": "ProgressView",
            "style": "IPY_MODEL_14a7f084c92e424ab770be64d1de9ac5",
            "_dom_classes": [],
            "description": "Downloading: 100%",
            "_model_name": "FloatProgressModel",
            "bar_style": "success",
            "max": 442,
            "_view_module": "@jupyter-widgets/controls",
            "_model_module_version": "1.5.0",
            "value": 442,
            "_view_count": null,
            "_view_module_version": "1.5.0",
            "orientation": "horizontal",
            "min": 0,
            "description_tooltip": null,
            "_model_module": "@jupyter-widgets/controls",
            "layout": "IPY_MODEL_1e984efd3e9c47298ece51ebd107153f"
          }
        },
        "504c1f5d1dbe4a3193175e32427571a0": {
          "model_module": "@jupyter-widgets/controls",
          "model_name": "HTMLModel",
          "state": {
            "_view_name": "HTMLView",
            "style": "IPY_MODEL_218b897033454bd08c5d3e187079ad6d",
            "_dom_classes": [],
            "description": "",
            "_model_name": "HTMLModel",
            "placeholder": "​",
            "_view_module": "@jupyter-widgets/controls",
            "_model_module_version": "1.5.0",
            "value": " 442/442 [00:00&lt;00:00, 1.13kB/s]",
            "_view_count": null,
            "_view_module_version": "1.5.0",
            "description_tooltip": null,
            "_model_module": "@jupyter-widgets/controls",
            "layout": "IPY_MODEL_39d21196ec254730947a08a79c4410c5"
          }
        },
        "14a7f084c92e424ab770be64d1de9ac5": {
          "model_module": "@jupyter-widgets/controls",
          "model_name": "ProgressStyleModel",
          "state": {
            "_view_name": "StyleView",
            "_model_name": "ProgressStyleModel",
            "description_width": "initial",
            "_view_module": "@jupyter-widgets/base",
            "_model_module_version": "1.5.0",
            "_view_count": null,
            "_view_module_version": "1.2.0",
            "bar_color": null,
            "_model_module": "@jupyter-widgets/controls"
          }
        },
        "1e984efd3e9c47298ece51ebd107153f": {
          "model_module": "@jupyter-widgets/base",
          "model_name": "LayoutModel",
          "state": {
            "_view_name": "LayoutView",
            "grid_template_rows": null,
            "right": null,
            "justify_content": null,
            "_view_module": "@jupyter-widgets/base",
            "overflow": null,
            "_model_module_version": "1.2.0",
            "_view_count": null,
            "flex_flow": null,
            "width": null,
            "min_width": null,
            "border": null,
            "align_items": null,
            "bottom": null,
            "_model_module": "@jupyter-widgets/base",
            "top": null,
            "grid_column": null,
            "overflow_y": null,
            "overflow_x": null,
            "grid_auto_flow": null,
            "grid_area": null,
            "grid_template_columns": null,
            "flex": null,
            "_model_name": "LayoutModel",
            "justify_items": null,
            "grid_row": null,
            "max_height": null,
            "align_content": null,
            "visibility": null,
            "align_self": null,
            "height": null,
            "min_height": null,
            "padding": null,
            "grid_auto_rows": null,
            "grid_gap": null,
            "max_width": null,
            "order": null,
            "_view_module_version": "1.2.0",
            "grid_template_areas": null,
            "object_position": null,
            "object_fit": null,
            "grid_auto_columns": null,
            "margin": null,
            "display": null,
            "left": null
          }
        },
        "218b897033454bd08c5d3e187079ad6d": {
          "model_module": "@jupyter-widgets/controls",
          "model_name": "DescriptionStyleModel",
          "state": {
            "_view_name": "StyleView",
            "_model_name": "DescriptionStyleModel",
            "description_width": "",
            "_view_module": "@jupyter-widgets/base",
            "_model_module_version": "1.5.0",
            "_view_count": null,
            "_view_module_version": "1.2.0",
            "_model_module": "@jupyter-widgets/controls"
          }
        },
        "39d21196ec254730947a08a79c4410c5": {
          "model_module": "@jupyter-widgets/base",
          "model_name": "LayoutModel",
          "state": {
            "_view_name": "LayoutView",
            "grid_template_rows": null,
            "right": null,
            "justify_content": null,
            "_view_module": "@jupyter-widgets/base",
            "overflow": null,
            "_model_module_version": "1.2.0",
            "_view_count": null,
            "flex_flow": null,
            "width": null,
            "min_width": null,
            "border": null,
            "align_items": null,
            "bottom": null,
            "_model_module": "@jupyter-widgets/base",
            "top": null,
            "grid_column": null,
            "overflow_y": null,
            "overflow_x": null,
            "grid_auto_flow": null,
            "grid_area": null,
            "grid_template_columns": null,
            "flex": null,
            "_model_name": "LayoutModel",
            "justify_items": null,
            "grid_row": null,
            "max_height": null,
            "align_content": null,
            "visibility": null,
            "align_self": null,
            "height": null,
            "min_height": null,
            "padding": null,
            "grid_auto_rows": null,
            "grid_gap": null,
            "max_width": null,
            "order": null,
            "_view_module_version": "1.2.0",
            "grid_template_areas": null,
            "object_position": null,
            "object_fit": null,
            "grid_auto_columns": null,
            "margin": null,
            "display": null,
            "left": null
          }
        },
        "76d9ffd4e905426baef9922bd2697f4c": {
          "model_module": "@jupyter-widgets/controls",
          "model_name": "HBoxModel",
          "state": {
            "_view_name": "HBoxView",
            "_dom_classes": [],
            "_model_name": "HBoxModel",
            "_view_module": "@jupyter-widgets/controls",
            "_model_module_version": "1.5.0",
            "_view_count": null,
            "_view_module_version": "1.5.0",
            "box_style": "",
            "layout": "IPY_MODEL_d6e91d37082c4d3bb51832d462f11699",
            "_model_module": "@jupyter-widgets/controls",
            "children": [
              "IPY_MODEL_8302fced42144b43a94fc63d8a1fbc40",
              "IPY_MODEL_ef7f0c26a3f741769b9896a9e46c7816"
            ]
          }
        },
        "d6e91d37082c4d3bb51832d462f11699": {
          "model_module": "@jupyter-widgets/base",
          "model_name": "LayoutModel",
          "state": {
            "_view_name": "LayoutView",
            "grid_template_rows": null,
            "right": null,
            "justify_content": null,
            "_view_module": "@jupyter-widgets/base",
            "overflow": null,
            "_model_module_version": "1.2.0",
            "_view_count": null,
            "flex_flow": null,
            "width": null,
            "min_width": null,
            "border": null,
            "align_items": null,
            "bottom": null,
            "_model_module": "@jupyter-widgets/base",
            "top": null,
            "grid_column": null,
            "overflow_y": null,
            "overflow_x": null,
            "grid_auto_flow": null,
            "grid_area": null,
            "grid_template_columns": null,
            "flex": null,
            "_model_name": "LayoutModel",
            "justify_items": null,
            "grid_row": null,
            "max_height": null,
            "align_content": null,
            "visibility": null,
            "align_self": null,
            "height": null,
            "min_height": null,
            "padding": null,
            "grid_auto_rows": null,
            "grid_gap": null,
            "max_width": null,
            "order": null,
            "_view_module_version": "1.2.0",
            "grid_template_areas": null,
            "object_position": null,
            "object_fit": null,
            "grid_auto_columns": null,
            "margin": null,
            "display": null,
            "left": null
          }
        },
        "8302fced42144b43a94fc63d8a1fbc40": {
          "model_module": "@jupyter-widgets/controls",
          "model_name": "FloatProgressModel",
          "state": {
            "_view_name": "ProgressView",
            "style": "IPY_MODEL_e471b52ae9464fb6917174be8352e2d2",
            "_dom_classes": [],
            "description": "Downloading: 100%",
            "_model_name": "FloatProgressModel",
            "bar_style": "success",
            "max": 267967963,
            "_view_module": "@jupyter-widgets/controls",
            "_model_module_version": "1.5.0",
            "value": 267967963,
            "_view_count": null,
            "_view_module_version": "1.5.0",
            "orientation": "horizontal",
            "min": 0,
            "description_tooltip": null,
            "_model_module": "@jupyter-widgets/controls",
            "layout": "IPY_MODEL_c0a2c777d35e4de8a0b895bc247aad0d"
          }
        },
        "ef7f0c26a3f741769b9896a9e46c7816": {
          "model_module": "@jupyter-widgets/controls",
          "model_name": "HTMLModel",
          "state": {
            "_view_name": "HTMLView",
            "style": "IPY_MODEL_20b5d941c4d5422eb775c66a79f52dee",
            "_dom_classes": [],
            "description": "",
            "_model_name": "HTMLModel",
            "placeholder": "​",
            "_view_module": "@jupyter-widgets/controls",
            "_model_module_version": "1.5.0",
            "value": " 268M/268M [01:38&lt;00:00, 2.72MB/s]",
            "_view_count": null,
            "_view_module_version": "1.5.0",
            "description_tooltip": null,
            "_model_module": "@jupyter-widgets/controls",
            "layout": "IPY_MODEL_ee6a497a292d4ae184f4fee9f5c081a4"
          }
        },
        "e471b52ae9464fb6917174be8352e2d2": {
          "model_module": "@jupyter-widgets/controls",
          "model_name": "ProgressStyleModel",
          "state": {
            "_view_name": "StyleView",
            "_model_name": "ProgressStyleModel",
            "description_width": "initial",
            "_view_module": "@jupyter-widgets/base",
            "_model_module_version": "1.5.0",
            "_view_count": null,
            "_view_module_version": "1.2.0",
            "bar_color": null,
            "_model_module": "@jupyter-widgets/controls"
          }
        },
        "c0a2c777d35e4de8a0b895bc247aad0d": {
          "model_module": "@jupyter-widgets/base",
          "model_name": "LayoutModel",
          "state": {
            "_view_name": "LayoutView",
            "grid_template_rows": null,
            "right": null,
            "justify_content": null,
            "_view_module": "@jupyter-widgets/base",
            "overflow": null,
            "_model_module_version": "1.2.0",
            "_view_count": null,
            "flex_flow": null,
            "width": null,
            "min_width": null,
            "border": null,
            "align_items": null,
            "bottom": null,
            "_model_module": "@jupyter-widgets/base",
            "top": null,
            "grid_column": null,
            "overflow_y": null,
            "overflow_x": null,
            "grid_auto_flow": null,
            "grid_area": null,
            "grid_template_columns": null,
            "flex": null,
            "_model_name": "LayoutModel",
            "justify_items": null,
            "grid_row": null,
            "max_height": null,
            "align_content": null,
            "visibility": null,
            "align_self": null,
            "height": null,
            "min_height": null,
            "padding": null,
            "grid_auto_rows": null,
            "grid_gap": null,
            "max_width": null,
            "order": null,
            "_view_module_version": "1.2.0",
            "grid_template_areas": null,
            "object_position": null,
            "object_fit": null,
            "grid_auto_columns": null,
            "margin": null,
            "display": null,
            "left": null
          }
        },
        "20b5d941c4d5422eb775c66a79f52dee": {
          "model_module": "@jupyter-widgets/controls",
          "model_name": "DescriptionStyleModel",
          "state": {
            "_view_name": "StyleView",
            "_model_name": "DescriptionStyleModel",
            "description_width": "",
            "_view_module": "@jupyter-widgets/base",
            "_model_module_version": "1.5.0",
            "_view_count": null,
            "_view_module_version": "1.2.0",
            "_model_module": "@jupyter-widgets/controls"
          }
        },
        "ee6a497a292d4ae184f4fee9f5c081a4": {
          "model_module": "@jupyter-widgets/base",
          "model_name": "LayoutModel",
          "state": {
            "_view_name": "LayoutView",
            "grid_template_rows": null,
            "right": null,
            "justify_content": null,
            "_view_module": "@jupyter-widgets/base",
            "overflow": null,
            "_model_module_version": "1.2.0",
            "_view_count": null,
            "flex_flow": null,
            "width": null,
            "min_width": null,
            "border": null,
            "align_items": null,
            "bottom": null,
            "_model_module": "@jupyter-widgets/base",
            "top": null,
            "grid_column": null,
            "overflow_y": null,
            "overflow_x": null,
            "grid_auto_flow": null,
            "grid_area": null,
            "grid_template_columns": null,
            "flex": null,
            "_model_name": "LayoutModel",
            "justify_items": null,
            "grid_row": null,
            "max_height": null,
            "align_content": null,
            "visibility": null,
            "align_self": null,
            "height": null,
            "min_height": null,
            "padding": null,
            "grid_auto_rows": null,
            "grid_gap": null,
            "max_width": null,
            "order": null,
            "_view_module_version": "1.2.0",
            "grid_template_areas": null,
            "object_position": null,
            "object_fit": null,
            "grid_auto_columns": null,
            "margin": null,
            "display": null,
            "left": null
          }
        },
        "fe254d60e81f483a87175beb20e5f7f8": {
          "model_module": "@jupyter-widgets/controls",
          "model_name": "HBoxModel",
          "state": {
            "_view_name": "HBoxView",
            "_dom_classes": [],
            "_model_name": "HBoxModel",
            "_view_module": "@jupyter-widgets/controls",
            "_model_module_version": "1.5.0",
            "_view_count": null,
            "_view_module_version": "1.5.0",
            "box_style": "",
            "layout": "IPY_MODEL_93dfc2f76780406087f65be08a318551",
            "_model_module": "@jupyter-widgets/controls",
            "children": [
              "IPY_MODEL_c7cfe83b735f403c9a75980c23d31db3",
              "IPY_MODEL_6cb85d0b4be54cbdac746532e3deda13"
            ]
          }
        },
        "93dfc2f76780406087f65be08a318551": {
          "model_module": "@jupyter-widgets/base",
          "model_name": "LayoutModel",
          "state": {
            "_view_name": "LayoutView",
            "grid_template_rows": null,
            "right": null,
            "justify_content": null,
            "_view_module": "@jupyter-widgets/base",
            "overflow": null,
            "_model_module_version": "1.2.0",
            "_view_count": null,
            "flex_flow": null,
            "width": null,
            "min_width": null,
            "border": null,
            "align_items": null,
            "bottom": null,
            "_model_module": "@jupyter-widgets/base",
            "top": null,
            "grid_column": null,
            "overflow_y": null,
            "overflow_x": null,
            "grid_auto_flow": null,
            "grid_area": null,
            "grid_template_columns": null,
            "flex": null,
            "_model_name": "LayoutModel",
            "justify_items": null,
            "grid_row": null,
            "max_height": null,
            "align_content": null,
            "visibility": null,
            "align_self": null,
            "height": null,
            "min_height": null,
            "padding": null,
            "grid_auto_rows": null,
            "grid_gap": null,
            "max_width": null,
            "order": null,
            "_view_module_version": "1.2.0",
            "grid_template_areas": null,
            "object_position": null,
            "object_fit": null,
            "grid_auto_columns": null,
            "margin": null,
            "display": null,
            "left": null
          }
        },
        "c7cfe83b735f403c9a75980c23d31db3": {
          "model_module": "@jupyter-widgets/controls",
          "model_name": "FloatProgressModel",
          "state": {
            "_view_name": "ProgressView",
            "style": "IPY_MODEL_33252a69c1de4f98bb58c4b369ccdb3a",
            "_dom_classes": [],
            "description": "Downloading: ",
            "_model_name": "FloatProgressModel",
            "bar_style": "success",
            "max": 2170,
            "_view_module": "@jupyter-widgets/controls",
            "_model_module_version": "1.5.0",
            "value": 2170,
            "_view_count": null,
            "_view_module_version": "1.5.0",
            "orientation": "horizontal",
            "min": 0,
            "description_tooltip": null,
            "_model_module": "@jupyter-widgets/controls",
            "layout": "IPY_MODEL_b134140d71284ef08c6b57559f73ba4c"
          }
        },
        "6cb85d0b4be54cbdac746532e3deda13": {
          "model_module": "@jupyter-widgets/controls",
          "model_name": "HTMLModel",
          "state": {
            "_view_name": "HTMLView",
            "style": "IPY_MODEL_7e5c6ab31a0748c49524aec21f79b851",
            "_dom_classes": [],
            "description": "",
            "_model_name": "HTMLModel",
            "placeholder": "​",
            "_view_module": "@jupyter-widgets/controls",
            "_model_module_version": "1.5.0",
            "value": " 5.61k/? [00:31&lt;00:00, 177B/s]",
            "_view_count": null,
            "_view_module_version": "1.5.0",
            "description_tooltip": null,
            "_model_module": "@jupyter-widgets/controls",
            "layout": "IPY_MODEL_f2e61a22dbe94d6aa255adfc34db1dd9"
          }
        },
        "33252a69c1de4f98bb58c4b369ccdb3a": {
          "model_module": "@jupyter-widgets/controls",
          "model_name": "ProgressStyleModel",
          "state": {
            "_view_name": "StyleView",
            "_model_name": "ProgressStyleModel",
            "description_width": "initial",
            "_view_module": "@jupyter-widgets/base",
            "_model_module_version": "1.5.0",
            "_view_count": null,
            "_view_module_version": "1.2.0",
            "bar_color": null,
            "_model_module": "@jupyter-widgets/controls"
          }
        },
        "b134140d71284ef08c6b57559f73ba4c": {
          "model_module": "@jupyter-widgets/base",
          "model_name": "LayoutModel",
          "state": {
            "_view_name": "LayoutView",
            "grid_template_rows": null,
            "right": null,
            "justify_content": null,
            "_view_module": "@jupyter-widgets/base",
            "overflow": null,
            "_model_module_version": "1.2.0",
            "_view_count": null,
            "flex_flow": null,
            "width": null,
            "min_width": null,
            "border": null,
            "align_items": null,
            "bottom": null,
            "_model_module": "@jupyter-widgets/base",
            "top": null,
            "grid_column": null,
            "overflow_y": null,
            "overflow_x": null,
            "grid_auto_flow": null,
            "grid_area": null,
            "grid_template_columns": null,
            "flex": null,
            "_model_name": "LayoutModel",
            "justify_items": null,
            "grid_row": null,
            "max_height": null,
            "align_content": null,
            "visibility": null,
            "align_self": null,
            "height": null,
            "min_height": null,
            "padding": null,
            "grid_auto_rows": null,
            "grid_gap": null,
            "max_width": null,
            "order": null,
            "_view_module_version": "1.2.0",
            "grid_template_areas": null,
            "object_position": null,
            "object_fit": null,
            "grid_auto_columns": null,
            "margin": null,
            "display": null,
            "left": null
          }
        },
        "7e5c6ab31a0748c49524aec21f79b851": {
          "model_module": "@jupyter-widgets/controls",
          "model_name": "DescriptionStyleModel",
          "state": {
            "_view_name": "StyleView",
            "_model_name": "DescriptionStyleModel",
            "description_width": "",
            "_view_module": "@jupyter-widgets/base",
            "_model_module_version": "1.5.0",
            "_view_count": null,
            "_view_module_version": "1.2.0",
            "_model_module": "@jupyter-widgets/controls"
          }
        },
        "f2e61a22dbe94d6aa255adfc34db1dd9": {
          "model_module": "@jupyter-widgets/base",
          "model_name": "LayoutModel",
          "state": {
            "_view_name": "LayoutView",
            "grid_template_rows": null,
            "right": null,
            "justify_content": null,
            "_view_module": "@jupyter-widgets/base",
            "overflow": null,
            "_model_module_version": "1.2.0",
            "_view_count": null,
            "flex_flow": null,
            "width": null,
            "min_width": null,
            "border": null,
            "align_items": null,
            "bottom": null,
            "_model_module": "@jupyter-widgets/base",
            "top": null,
            "grid_column": null,
            "overflow_y": null,
            "overflow_x": null,
            "grid_auto_flow": null,
            "grid_area": null,
            "grid_template_columns": null,
            "flex": null,
            "_model_name": "LayoutModel",
            "justify_items": null,
            "grid_row": null,
            "max_height": null,
            "align_content": null,
            "visibility": null,
            "align_self": null,
            "height": null,
            "min_height": null,
            "padding": null,
            "grid_auto_rows": null,
            "grid_gap": null,
            "max_width": null,
            "order": null,
            "_view_module_version": "1.2.0",
            "grid_template_areas": null,
            "object_position": null,
            "object_fit": null,
            "grid_auto_columns": null,
            "margin": null,
            "display": null,
            "left": null
          }
        },
        "a2e2f2293eef418990c731e24d66b0dc": {
          "model_module": "@jupyter-widgets/controls",
          "model_name": "HBoxModel",
          "state": {
            "_view_name": "HBoxView",
            "_dom_classes": [],
            "_model_name": "HBoxModel",
            "_view_module": "@jupyter-widgets/controls",
            "_model_module_version": "1.5.0",
            "_view_count": null,
            "_view_module_version": "1.5.0",
            "box_style": "",
            "layout": "IPY_MODEL_2ee71a4e938b44188e67ce79fd9e23d9",
            "_model_module": "@jupyter-widgets/controls",
            "children": [
              "IPY_MODEL_ae264ed2c2464ec098d846334d180ef3",
              "IPY_MODEL_847760a09deb45aaa73955b9644477d8"
            ]
          }
        },
        "2ee71a4e938b44188e67ce79fd9e23d9": {
          "model_module": "@jupyter-widgets/base",
          "model_name": "LayoutModel",
          "state": {
            "_view_name": "LayoutView",
            "grid_template_rows": null,
            "right": null,
            "justify_content": null,
            "_view_module": "@jupyter-widgets/base",
            "overflow": null,
            "_model_module_version": "1.2.0",
            "_view_count": null,
            "flex_flow": null,
            "width": null,
            "min_width": null,
            "border": null,
            "align_items": null,
            "bottom": null,
            "_model_module": "@jupyter-widgets/base",
            "top": null,
            "grid_column": null,
            "overflow_y": null,
            "overflow_x": null,
            "grid_auto_flow": null,
            "grid_area": null,
            "grid_template_columns": null,
            "flex": null,
            "_model_name": "LayoutModel",
            "justify_items": null,
            "grid_row": null,
            "max_height": null,
            "align_content": null,
            "visibility": null,
            "align_self": null,
            "height": null,
            "min_height": null,
            "padding": null,
            "grid_auto_rows": null,
            "grid_gap": null,
            "max_width": null,
            "order": null,
            "_view_module_version": "1.2.0",
            "grid_template_areas": null,
            "object_position": null,
            "object_fit": null,
            "grid_auto_columns": null,
            "margin": null,
            "display": null,
            "left": null
          }
        },
        "ae264ed2c2464ec098d846334d180ef3": {
          "model_module": "@jupyter-widgets/controls",
          "model_name": "FloatProgressModel",
          "state": {
            "_view_name": "ProgressView",
            "style": "IPY_MODEL_e13f850dd12e4dc2a04ab2272d42f00e",
            "_dom_classes": [],
            "description": "100%",
            "_model_name": "FloatProgressModel",
            "bar_style": "success",
            "max": 100,
            "_view_module": "@jupyter-widgets/controls",
            "_model_module_version": "1.5.0",
            "value": 100,
            "_view_count": null,
            "_view_module_version": "1.5.0",
            "orientation": "horizontal",
            "min": 0,
            "description_tooltip": null,
            "_model_module": "@jupyter-widgets/controls",
            "layout": "IPY_MODEL_6d5dcef4e78e4b3798a2d001d0eabe57"
          }
        },
        "847760a09deb45aaa73955b9644477d8": {
          "model_module": "@jupyter-widgets/controls",
          "model_name": "HTMLModel",
          "state": {
            "_view_name": "HTMLView",
            "style": "IPY_MODEL_6e42a7336dbf45f8b46a9c4d686b3489",
            "_dom_classes": [],
            "description": "",
            "_model_name": "HTMLModel",
            "placeholder": "​",
            "_view_module": "@jupyter-widgets/controls",
            "_model_module_version": "1.5.0",
            "value": " 100/100 [1:55:40&lt;00:00, 69.40s/ex]",
            "_view_count": null,
            "_view_module_version": "1.5.0",
            "description_tooltip": null,
            "_model_module": "@jupyter-widgets/controls",
            "layout": "IPY_MODEL_ba6b1aaffa8a4fd68cc1ba41c3e1b2bd"
          }
        },
        "e13f850dd12e4dc2a04ab2272d42f00e": {
          "model_module": "@jupyter-widgets/controls",
          "model_name": "ProgressStyleModel",
          "state": {
            "_view_name": "StyleView",
            "_model_name": "ProgressStyleModel",
            "description_width": "initial",
            "_view_module": "@jupyter-widgets/base",
            "_model_module_version": "1.5.0",
            "_view_count": null,
            "_view_module_version": "1.2.0",
            "bar_color": null,
            "_model_module": "@jupyter-widgets/controls"
          }
        },
        "6d5dcef4e78e4b3798a2d001d0eabe57": {
          "model_module": "@jupyter-widgets/base",
          "model_name": "LayoutModel",
          "state": {
            "_view_name": "LayoutView",
            "grid_template_rows": null,
            "right": null,
            "justify_content": null,
            "_view_module": "@jupyter-widgets/base",
            "overflow": null,
            "_model_module_version": "1.2.0",
            "_view_count": null,
            "flex_flow": null,
            "width": null,
            "min_width": null,
            "border": null,
            "align_items": null,
            "bottom": null,
            "_model_module": "@jupyter-widgets/base",
            "top": null,
            "grid_column": null,
            "overflow_y": null,
            "overflow_x": null,
            "grid_auto_flow": null,
            "grid_area": null,
            "grid_template_columns": null,
            "flex": null,
            "_model_name": "LayoutModel",
            "justify_items": null,
            "grid_row": null,
            "max_height": null,
            "align_content": null,
            "visibility": null,
            "align_self": null,
            "height": null,
            "min_height": null,
            "padding": null,
            "grid_auto_rows": null,
            "grid_gap": null,
            "max_width": null,
            "order": null,
            "_view_module_version": "1.2.0",
            "grid_template_areas": null,
            "object_position": null,
            "object_fit": null,
            "grid_auto_columns": null,
            "margin": null,
            "display": null,
            "left": null
          }
        },
        "6e42a7336dbf45f8b46a9c4d686b3489": {
          "model_module": "@jupyter-widgets/controls",
          "model_name": "DescriptionStyleModel",
          "state": {
            "_view_name": "StyleView",
            "_model_name": "DescriptionStyleModel",
            "description_width": "",
            "_view_module": "@jupyter-widgets/base",
            "_model_module_version": "1.5.0",
            "_view_count": null,
            "_view_module_version": "1.2.0",
            "_model_module": "@jupyter-widgets/controls"
          }
        },
        "ba6b1aaffa8a4fd68cc1ba41c3e1b2bd": {
          "model_module": "@jupyter-widgets/base",
          "model_name": "LayoutModel",
          "state": {
            "_view_name": "LayoutView",
            "grid_template_rows": null,
            "right": null,
            "justify_content": null,
            "_view_module": "@jupyter-widgets/base",
            "overflow": null,
            "_model_module_version": "1.2.0",
            "_view_count": null,
            "flex_flow": null,
            "width": null,
            "min_width": null,
            "border": null,
            "align_items": null,
            "bottom": null,
            "_model_module": "@jupyter-widgets/base",
            "top": null,
            "grid_column": null,
            "overflow_y": null,
            "overflow_x": null,
            "grid_auto_flow": null,
            "grid_area": null,
            "grid_template_columns": null,
            "flex": null,
            "_model_name": "LayoutModel",
            "justify_items": null,
            "grid_row": null,
            "max_height": null,
            "align_content": null,
            "visibility": null,
            "align_self": null,
            "height": null,
            "min_height": null,
            "padding": null,
            "grid_auto_rows": null,
            "grid_gap": null,
            "max_width": null,
            "order": null,
            "_view_module_version": "1.2.0",
            "grid_template_areas": null,
            "object_position": null,
            "object_fit": null,
            "grid_auto_columns": null,
            "margin": null,
            "display": null,
            "left": null
          }
        },
        "b4974973d19d48f58c1ff10c5abfc129": {
          "model_module": "@jupyter-widgets/controls",
          "model_name": "HBoxModel",
          "state": {
            "_view_name": "HBoxView",
            "_dom_classes": [],
            "_model_name": "HBoxModel",
            "_view_module": "@jupyter-widgets/controls",
            "_model_module_version": "1.5.0",
            "_view_count": null,
            "_view_module_version": "1.5.0",
            "box_style": "",
            "layout": "IPY_MODEL_35c4663054f246ffb5cbb7addddbbf8c",
            "_model_module": "@jupyter-widgets/controls",
            "children": [
              "IPY_MODEL_a3123c8a4a6940128ad7447b3e0ced8a",
              "IPY_MODEL_9850d16393da47e5b30d30dd3b13e353"
            ]
          }
        },
        "35c4663054f246ffb5cbb7addddbbf8c": {
          "model_module": "@jupyter-widgets/base",
          "model_name": "LayoutModel",
          "state": {
            "_view_name": "LayoutView",
            "grid_template_rows": null,
            "right": null,
            "justify_content": null,
            "_view_module": "@jupyter-widgets/base",
            "overflow": null,
            "_model_module_version": "1.2.0",
            "_view_count": null,
            "flex_flow": null,
            "width": null,
            "min_width": null,
            "border": null,
            "align_items": null,
            "bottom": null,
            "_model_module": "@jupyter-widgets/base",
            "top": null,
            "grid_column": null,
            "overflow_y": null,
            "overflow_x": null,
            "grid_auto_flow": null,
            "grid_area": null,
            "grid_template_columns": null,
            "flex": null,
            "_model_name": "LayoutModel",
            "justify_items": null,
            "grid_row": null,
            "max_height": null,
            "align_content": null,
            "visibility": null,
            "align_self": null,
            "height": null,
            "min_height": null,
            "padding": null,
            "grid_auto_rows": null,
            "grid_gap": null,
            "max_width": null,
            "order": null,
            "_view_module_version": "1.2.0",
            "grid_template_areas": null,
            "object_position": null,
            "object_fit": null,
            "grid_auto_columns": null,
            "margin": null,
            "display": null,
            "left": null
          }
        },
        "a3123c8a4a6940128ad7447b3e0ced8a": {
          "model_module": "@jupyter-widgets/controls",
          "model_name": "FloatProgressModel",
          "state": {
            "_view_name": "ProgressView",
            "style": "IPY_MODEL_34e937f836b5403a88e37b649e61e326",
            "_dom_classes": [],
            "description": "100%",
            "_model_name": "FloatProgressModel",
            "bar_style": "success",
            "max": 100,
            "_view_module": "@jupyter-widgets/controls",
            "_model_module_version": "1.5.0",
            "value": 100,
            "_view_count": null,
            "_view_module_version": "1.5.0",
            "orientation": "horizontal",
            "min": 0,
            "description_tooltip": null,
            "_model_module": "@jupyter-widgets/controls",
            "layout": "IPY_MODEL_a63b2507666b4a84a4c867a30b3fb57f"
          }
        },
        "9850d16393da47e5b30d30dd3b13e353": {
          "model_module": "@jupyter-widgets/controls",
          "model_name": "HTMLModel",
          "state": {
            "_view_name": "HTMLView",
            "style": "IPY_MODEL_f24b8b9bad874e259f7cbeb7ac95ee6a",
            "_dom_classes": [],
            "description": "",
            "_model_name": "HTMLModel",
            "placeholder": "​",
            "_view_module": "@jupyter-widgets/controls",
            "_model_module_version": "1.5.0",
            "value": " 100/100 [1:53:22&lt;00:00, 68.02s/ex]",
            "_view_count": null,
            "_view_module_version": "1.5.0",
            "description_tooltip": null,
            "_model_module": "@jupyter-widgets/controls",
            "layout": "IPY_MODEL_8779ff10da55451b8fd85dac7f7613bf"
          }
        },
        "34e937f836b5403a88e37b649e61e326": {
          "model_module": "@jupyter-widgets/controls",
          "model_name": "ProgressStyleModel",
          "state": {
            "_view_name": "StyleView",
            "_model_name": "ProgressStyleModel",
            "description_width": "initial",
            "_view_module": "@jupyter-widgets/base",
            "_model_module_version": "1.5.0",
            "_view_count": null,
            "_view_module_version": "1.2.0",
            "bar_color": null,
            "_model_module": "@jupyter-widgets/controls"
          }
        },
        "a63b2507666b4a84a4c867a30b3fb57f": {
          "model_module": "@jupyter-widgets/base",
          "model_name": "LayoutModel",
          "state": {
            "_view_name": "LayoutView",
            "grid_template_rows": null,
            "right": null,
            "justify_content": null,
            "_view_module": "@jupyter-widgets/base",
            "overflow": null,
            "_model_module_version": "1.2.0",
            "_view_count": null,
            "flex_flow": null,
            "width": null,
            "min_width": null,
            "border": null,
            "align_items": null,
            "bottom": null,
            "_model_module": "@jupyter-widgets/base",
            "top": null,
            "grid_column": null,
            "overflow_y": null,
            "overflow_x": null,
            "grid_auto_flow": null,
            "grid_area": null,
            "grid_template_columns": null,
            "flex": null,
            "_model_name": "LayoutModel",
            "justify_items": null,
            "grid_row": null,
            "max_height": null,
            "align_content": null,
            "visibility": null,
            "align_self": null,
            "height": null,
            "min_height": null,
            "padding": null,
            "grid_auto_rows": null,
            "grid_gap": null,
            "max_width": null,
            "order": null,
            "_view_module_version": "1.2.0",
            "grid_template_areas": null,
            "object_position": null,
            "object_fit": null,
            "grid_auto_columns": null,
            "margin": null,
            "display": null,
            "left": null
          }
        },
        "f24b8b9bad874e259f7cbeb7ac95ee6a": {
          "model_module": "@jupyter-widgets/controls",
          "model_name": "DescriptionStyleModel",
          "state": {
            "_view_name": "StyleView",
            "_model_name": "DescriptionStyleModel",
            "description_width": "",
            "_view_module": "@jupyter-widgets/base",
            "_model_module_version": "1.5.0",
            "_view_count": null,
            "_view_module_version": "1.2.0",
            "_model_module": "@jupyter-widgets/controls"
          }
        },
        "8779ff10da55451b8fd85dac7f7613bf": {
          "model_module": "@jupyter-widgets/base",
          "model_name": "LayoutModel",
          "state": {
            "_view_name": "LayoutView",
            "grid_template_rows": null,
            "right": null,
            "justify_content": null,
            "_view_module": "@jupyter-widgets/base",
            "overflow": null,
            "_model_module_version": "1.2.0",
            "_view_count": null,
            "flex_flow": null,
            "width": null,
            "min_width": null,
            "border": null,
            "align_items": null,
            "bottom": null,
            "_model_module": "@jupyter-widgets/base",
            "top": null,
            "grid_column": null,
            "overflow_y": null,
            "overflow_x": null,
            "grid_auto_flow": null,
            "grid_area": null,
            "grid_template_columns": null,
            "flex": null,
            "_model_name": "LayoutModel",
            "justify_items": null,
            "grid_row": null,
            "max_height": null,
            "align_content": null,
            "visibility": null,
            "align_self": null,
            "height": null,
            "min_height": null,
            "padding": null,
            "grid_auto_rows": null,
            "grid_gap": null,
            "max_width": null,
            "order": null,
            "_view_module_version": "1.2.0",
            "grid_template_areas": null,
            "object_position": null,
            "object_fit": null,
            "grid_auto_columns": null,
            "margin": null,
            "display": null,
            "left": null
          }
        },
        "c4db251dcc164b459c2a56dbd3c414f6": {
          "model_module": "@jupyter-widgets/controls",
          "model_name": "HBoxModel",
          "state": {
            "_view_name": "HBoxView",
            "_dom_classes": [],
            "_model_name": "HBoxModel",
            "_view_module": "@jupyter-widgets/controls",
            "_model_module_version": "1.5.0",
            "_view_count": null,
            "_view_module_version": "1.5.0",
            "box_style": "",
            "layout": "IPY_MODEL_999bb6a709c0488fbc01c2faf97f9849",
            "_model_module": "@jupyter-widgets/controls",
            "children": [
              "IPY_MODEL_bdb58b48005f4016bdd9bfd407f1c43b",
              "IPY_MODEL_951f774ffea34711b40d20c4567a2f67"
            ]
          }
        },
        "999bb6a709c0488fbc01c2faf97f9849": {
          "model_module": "@jupyter-widgets/base",
          "model_name": "LayoutModel",
          "state": {
            "_view_name": "LayoutView",
            "grid_template_rows": null,
            "right": null,
            "justify_content": null,
            "_view_module": "@jupyter-widgets/base",
            "overflow": null,
            "_model_module_version": "1.2.0",
            "_view_count": null,
            "flex_flow": null,
            "width": null,
            "min_width": null,
            "border": null,
            "align_items": null,
            "bottom": null,
            "_model_module": "@jupyter-widgets/base",
            "top": null,
            "grid_column": null,
            "overflow_y": null,
            "overflow_x": null,
            "grid_auto_flow": null,
            "grid_area": null,
            "grid_template_columns": null,
            "flex": null,
            "_model_name": "LayoutModel",
            "justify_items": null,
            "grid_row": null,
            "max_height": null,
            "align_content": null,
            "visibility": null,
            "align_self": null,
            "height": null,
            "min_height": null,
            "padding": null,
            "grid_auto_rows": null,
            "grid_gap": null,
            "max_width": null,
            "order": null,
            "_view_module_version": "1.2.0",
            "grid_template_areas": null,
            "object_position": null,
            "object_fit": null,
            "grid_auto_columns": null,
            "margin": null,
            "display": null,
            "left": null
          }
        },
        "bdb58b48005f4016bdd9bfd407f1c43b": {
          "model_module": "@jupyter-widgets/controls",
          "model_name": "FloatProgressModel",
          "state": {
            "_view_name": "ProgressView",
            "style": "IPY_MODEL_b512ca20f54f46d3a7cf16228bf97232",
            "_dom_classes": [],
            "description": "100%",
            "_model_name": "FloatProgressModel",
            "bar_style": "success",
            "max": 100,
            "_view_module": "@jupyter-widgets/controls",
            "_model_module_version": "1.5.0",
            "value": 100,
            "_view_count": null,
            "_view_module_version": "1.5.0",
            "orientation": "horizontal",
            "min": 0,
            "description_tooltip": null,
            "_model_module": "@jupyter-widgets/controls",
            "layout": "IPY_MODEL_7c41d08391214544a131e99c852d8b16"
          }
        },
        "951f774ffea34711b40d20c4567a2f67": {
          "model_module": "@jupyter-widgets/controls",
          "model_name": "HTMLModel",
          "state": {
            "_view_name": "HTMLView",
            "style": "IPY_MODEL_b2c7bff197fe4e7ca8000f210bebdcd5",
            "_dom_classes": [],
            "description": "",
            "_model_name": "HTMLModel",
            "placeholder": "​",
            "_view_module": "@jupyter-widgets/controls",
            "_model_module_version": "1.5.0",
            "value": " 100/100 [1:45:50&lt;00:00, 63.51s/ex]",
            "_view_count": null,
            "_view_module_version": "1.5.0",
            "description_tooltip": null,
            "_model_module": "@jupyter-widgets/controls",
            "layout": "IPY_MODEL_53dd3d48fbf94a19818502f348a6366f"
          }
        },
        "b512ca20f54f46d3a7cf16228bf97232": {
          "model_module": "@jupyter-widgets/controls",
          "model_name": "ProgressStyleModel",
          "state": {
            "_view_name": "StyleView",
            "_model_name": "ProgressStyleModel",
            "description_width": "initial",
            "_view_module": "@jupyter-widgets/base",
            "_model_module_version": "1.5.0",
            "_view_count": null,
            "_view_module_version": "1.2.0",
            "bar_color": null,
            "_model_module": "@jupyter-widgets/controls"
          }
        },
        "7c41d08391214544a131e99c852d8b16": {
          "model_module": "@jupyter-widgets/base",
          "model_name": "LayoutModel",
          "state": {
            "_view_name": "LayoutView",
            "grid_template_rows": null,
            "right": null,
            "justify_content": null,
            "_view_module": "@jupyter-widgets/base",
            "overflow": null,
            "_model_module_version": "1.2.0",
            "_view_count": null,
            "flex_flow": null,
            "width": null,
            "min_width": null,
            "border": null,
            "align_items": null,
            "bottom": null,
            "_model_module": "@jupyter-widgets/base",
            "top": null,
            "grid_column": null,
            "overflow_y": null,
            "overflow_x": null,
            "grid_auto_flow": null,
            "grid_area": null,
            "grid_template_columns": null,
            "flex": null,
            "_model_name": "LayoutModel",
            "justify_items": null,
            "grid_row": null,
            "max_height": null,
            "align_content": null,
            "visibility": null,
            "align_self": null,
            "height": null,
            "min_height": null,
            "padding": null,
            "grid_auto_rows": null,
            "grid_gap": null,
            "max_width": null,
            "order": null,
            "_view_module_version": "1.2.0",
            "grid_template_areas": null,
            "object_position": null,
            "object_fit": null,
            "grid_auto_columns": null,
            "margin": null,
            "display": null,
            "left": null
          }
        },
        "b2c7bff197fe4e7ca8000f210bebdcd5": {
          "model_module": "@jupyter-widgets/controls",
          "model_name": "DescriptionStyleModel",
          "state": {
            "_view_name": "StyleView",
            "_model_name": "DescriptionStyleModel",
            "description_width": "",
            "_view_module": "@jupyter-widgets/base",
            "_model_module_version": "1.5.0",
            "_view_count": null,
            "_view_module_version": "1.2.0",
            "_model_module": "@jupyter-widgets/controls"
          }
        },
        "53dd3d48fbf94a19818502f348a6366f": {
          "model_module": "@jupyter-widgets/base",
          "model_name": "LayoutModel",
          "state": {
            "_view_name": "LayoutView",
            "grid_template_rows": null,
            "right": null,
            "justify_content": null,
            "_view_module": "@jupyter-widgets/base",
            "overflow": null,
            "_model_module_version": "1.2.0",
            "_view_count": null,
            "flex_flow": null,
            "width": null,
            "min_width": null,
            "border": null,
            "align_items": null,
            "bottom": null,
            "_model_module": "@jupyter-widgets/base",
            "top": null,
            "grid_column": null,
            "overflow_y": null,
            "overflow_x": null,
            "grid_auto_flow": null,
            "grid_area": null,
            "grid_template_columns": null,
            "flex": null,
            "_model_name": "LayoutModel",
            "justify_items": null,
            "grid_row": null,
            "max_height": null,
            "align_content": null,
            "visibility": null,
            "align_self": null,
            "height": null,
            "min_height": null,
            "padding": null,
            "grid_auto_rows": null,
            "grid_gap": null,
            "max_width": null,
            "order": null,
            "_view_module_version": "1.2.0",
            "grid_template_areas": null,
            "object_position": null,
            "object_fit": null,
            "grid_auto_columns": null,
            "margin": null,
            "display": null,
            "left": null
          }
        }
      }
    }
  },
  "cells": [
    {
      "cell_type": "code",
      "metadata": {
        "colab": {
          "base_uri": "https://localhost:8080/"
        },
        "id": "E11UgXu6FtFB",
        "outputId": "df288f61-23a4-4048-afe1-23693156108a"
      },
      "source": [
        "!pip install -U sentence-transformers\n",
        "!pip3 install datasets\n",
        "!pip3 install rouge_score\n",
        "!pip3 install git+https://github.com/huggingface/transformers\n",
        "!pip3 install sentencepiece"
      ],
      "execution_count": 1,
      "outputs": [
        {
          "output_type": "stream",
          "text": [
            "Collecting sentence-transformers\n",
            "\u001b[?25l  Downloading https://files.pythonhosted.org/packages/cc/75/df441011cd1726822b70fbff50042adb4860e9327b99b346154ead704c44/sentence-transformers-1.2.0.tar.gz (81kB)\n",
            "\u001b[K     |████████████████████████████████| 81kB 5.6MB/s \n",
            "\u001b[?25hCollecting transformers<5.0.0,>=3.1.0\n",
            "\u001b[?25l  Downloading https://files.pythonhosted.org/packages/d5/43/cfe4ee779bbd6a678ac6a97c5a5cdeb03c35f9eaebbb9720b036680f9a2d/transformers-4.6.1-py3-none-any.whl (2.2MB)\n",
            "\u001b[K     |████████████████████████████████| 2.3MB 40.7MB/s \n",
            "\u001b[?25hRequirement already satisfied, skipping upgrade: tqdm in /usr/local/lib/python3.7/dist-packages (from sentence-transformers) (4.41.1)\n",
            "Requirement already satisfied, skipping upgrade: torch>=1.6.0 in /usr/local/lib/python3.7/dist-packages (from sentence-transformers) (1.8.1+cu101)\n",
            "Requirement already satisfied, skipping upgrade: torchvision in /usr/local/lib/python3.7/dist-packages (from sentence-transformers) (0.9.1+cu101)\n",
            "Requirement already satisfied, skipping upgrade: numpy in /usr/local/lib/python3.7/dist-packages (from sentence-transformers) (1.19.5)\n",
            "Requirement already satisfied, skipping upgrade: scikit-learn in /usr/local/lib/python3.7/dist-packages (from sentence-transformers) (0.22.2.post1)\n",
            "Requirement already satisfied, skipping upgrade: scipy in /usr/local/lib/python3.7/dist-packages (from sentence-transformers) (1.4.1)\n",
            "Requirement already satisfied, skipping upgrade: nltk in /usr/local/lib/python3.7/dist-packages (from sentence-transformers) (3.2.5)\n",
            "Collecting sentencepiece\n",
            "\u001b[?25l  Downloading https://files.pythonhosted.org/packages/f5/99/e0808cb947ba10f575839c43e8fafc9cc44e4a7a2c8f79c60db48220a577/sentencepiece-0.1.95-cp37-cp37m-manylinux2014_x86_64.whl (1.2MB)\n",
            "\u001b[K     |████████████████████████████████| 1.2MB 41.3MB/s \n",
            "\u001b[?25hRequirement already satisfied, skipping upgrade: regex!=2019.12.17 in /usr/local/lib/python3.7/dist-packages (from transformers<5.0.0,>=3.1.0->sentence-transformers) (2019.12.20)\n",
            "Requirement already satisfied, skipping upgrade: filelock in /usr/local/lib/python3.7/dist-packages (from transformers<5.0.0,>=3.1.0->sentence-transformers) (3.0.12)\n",
            "Requirement already satisfied, skipping upgrade: importlib-metadata; python_version < \"3.8\" in /usr/local/lib/python3.7/dist-packages (from transformers<5.0.0,>=3.1.0->sentence-transformers) (4.0.1)\n",
            "Requirement already satisfied, skipping upgrade: packaging in /usr/local/lib/python3.7/dist-packages (from transformers<5.0.0,>=3.1.0->sentence-transformers) (20.9)\n",
            "Requirement already satisfied, skipping upgrade: requests in /usr/local/lib/python3.7/dist-packages (from transformers<5.0.0,>=3.1.0->sentence-transformers) (2.23.0)\n",
            "Collecting sacremoses\n",
            "\u001b[?25l  Downloading https://files.pythonhosted.org/packages/75/ee/67241dc87f266093c533a2d4d3d69438e57d7a90abb216fa076e7d475d4a/sacremoses-0.0.45-py3-none-any.whl (895kB)\n",
            "\u001b[K     |████████████████████████████████| 901kB 43.0MB/s \n",
            "\u001b[?25hCollecting huggingface-hub==0.0.8\n",
            "  Downloading https://files.pythonhosted.org/packages/a1/88/7b1e45720ecf59c6c6737ff332f41c955963090a18e72acbcbeac6b25e86/huggingface_hub-0.0.8-py3-none-any.whl\n",
            "Collecting tokenizers<0.11,>=0.10.1\n",
            "\u001b[?25l  Downloading https://files.pythonhosted.org/packages/d4/e2/df3543e8ffdab68f5acc73f613de9c2b155ac47f162e725dcac87c521c11/tokenizers-0.10.3-cp37-cp37m-manylinux_2_5_x86_64.manylinux1_x86_64.manylinux_2_12_x86_64.manylinux2010_x86_64.whl (3.3MB)\n",
            "\u001b[K     |████████████████████████████████| 3.3MB 43.6MB/s \n",
            "\u001b[?25hRequirement already satisfied, skipping upgrade: typing-extensions in /usr/local/lib/python3.7/dist-packages (from torch>=1.6.0->sentence-transformers) (3.7.4.3)\n",
            "Requirement already satisfied, skipping upgrade: pillow>=4.1.1 in /usr/local/lib/python3.7/dist-packages (from torchvision->sentence-transformers) (7.1.2)\n",
            "Requirement already satisfied, skipping upgrade: joblib>=0.11 in /usr/local/lib/python3.7/dist-packages (from scikit-learn->sentence-transformers) (1.0.1)\n",
            "Requirement already satisfied, skipping upgrade: six in /usr/local/lib/python3.7/dist-packages (from nltk->sentence-transformers) (1.15.0)\n",
            "Requirement already satisfied, skipping upgrade: zipp>=0.5 in /usr/local/lib/python3.7/dist-packages (from importlib-metadata; python_version < \"3.8\"->transformers<5.0.0,>=3.1.0->sentence-transformers) (3.4.1)\n",
            "Requirement already satisfied, skipping upgrade: pyparsing>=2.0.2 in /usr/local/lib/python3.7/dist-packages (from packaging->transformers<5.0.0,>=3.1.0->sentence-transformers) (2.4.7)\n",
            "Requirement already satisfied, skipping upgrade: chardet<4,>=3.0.2 in /usr/local/lib/python3.7/dist-packages (from requests->transformers<5.0.0,>=3.1.0->sentence-transformers) (3.0.4)\n",
            "Requirement already satisfied, skipping upgrade: urllib3!=1.25.0,!=1.25.1,<1.26,>=1.21.1 in /usr/local/lib/python3.7/dist-packages (from requests->transformers<5.0.0,>=3.1.0->sentence-transformers) (1.24.3)\n",
            "Requirement already satisfied, skipping upgrade: idna<3,>=2.5 in /usr/local/lib/python3.7/dist-packages (from requests->transformers<5.0.0,>=3.1.0->sentence-transformers) (2.10)\n",
            "Requirement already satisfied, skipping upgrade: certifi>=2017.4.17 in /usr/local/lib/python3.7/dist-packages (from requests->transformers<5.0.0,>=3.1.0->sentence-transformers) (2020.12.5)\n",
            "Requirement already satisfied, skipping upgrade: click in /usr/local/lib/python3.7/dist-packages (from sacremoses->transformers<5.0.0,>=3.1.0->sentence-transformers) (7.1.2)\n",
            "Building wheels for collected packages: sentence-transformers\n",
            "  Building wheel for sentence-transformers (setup.py) ... \u001b[?25l\u001b[?25hdone\n",
            "  Created wheel for sentence-transformers: filename=sentence_transformers-1.2.0-cp37-none-any.whl size=123339 sha256=4b33e053ec459012c5167db23a6dbd3d671e1f72deaf1952585ce8cc9892ca7d\n",
            "  Stored in directory: /root/.cache/pip/wheels/0f/06/f7/faaa96fdda87462b4fd5c47b343340e9d5531ef70d0eef8242\n",
            "Successfully built sentence-transformers\n",
            "Installing collected packages: sacremoses, huggingface-hub, tokenizers, transformers, sentencepiece, sentence-transformers\n",
            "Successfully installed huggingface-hub-0.0.8 sacremoses-0.0.45 sentence-transformers-1.2.0 sentencepiece-0.1.95 tokenizers-0.10.3 transformers-4.6.1\n",
            "Collecting datasets\n",
            "\u001b[?25l  Downloading https://files.pythonhosted.org/packages/94/f8/ff7cd6e3b400b33dcbbfd31c6c1481678a2b2f669f521ad20053009a9aa3/datasets-1.7.0-py3-none-any.whl (234kB)\n",
            "\u001b[K     |████████████████████████████████| 235kB 7.4MB/s \n",
            "\u001b[?25hRequirement already satisfied: huggingface-hub<0.1.0 in /usr/local/lib/python3.7/dist-packages (from datasets) (0.0.8)\n",
            "Requirement already satisfied: dill in /usr/local/lib/python3.7/dist-packages (from datasets) (0.3.3)\n",
            "Requirement already satisfied: multiprocess in /usr/local/lib/python3.7/dist-packages (from datasets) (0.70.11.1)\n",
            "Requirement already satisfied: pyarrow<4.0.0,>=1.0.0 in /usr/local/lib/python3.7/dist-packages (from datasets) (3.0.0)\n",
            "Requirement already satisfied: packaging in /usr/local/lib/python3.7/dist-packages (from datasets) (20.9)\n",
            "Requirement already satisfied: importlib-metadata; python_version < \"3.8\" in /usr/local/lib/python3.7/dist-packages (from datasets) (4.0.1)\n",
            "Requirement already satisfied: requests>=2.19.0 in /usr/local/lib/python3.7/dist-packages (from datasets) (2.23.0)\n",
            "Collecting xxhash\n",
            "\u001b[?25l  Downloading https://files.pythonhosted.org/packages/7d/4f/0a862cad26aa2ed7a7cd87178cbbfa824fc1383e472d63596a0d018374e7/xxhash-2.0.2-cp37-cp37m-manylinux2010_x86_64.whl (243kB)\n",
            "\u001b[K     |████████████████████████████████| 245kB 11.5MB/s \n",
            "\u001b[?25hRequirement already satisfied: numpy>=1.17 in /usr/local/lib/python3.7/dist-packages (from datasets) (1.19.5)\n",
            "Requirement already satisfied: pandas in /usr/local/lib/python3.7/dist-packages (from datasets) (1.1.5)\n",
            "Requirement already satisfied: tqdm<4.50.0,>=4.27 in /usr/local/lib/python3.7/dist-packages (from datasets) (4.41.1)\n",
            "Collecting fsspec\n",
            "\u001b[?25l  Downloading https://files.pythonhosted.org/packages/bc/52/816d1a3a599176057bf29dfacb1f8fadb61d35fbd96cb1bab4aaa7df83c0/fsspec-2021.5.0-py3-none-any.whl (111kB)\n",
            "\u001b[K     |████████████████████████████████| 112kB 13.9MB/s \n",
            "\u001b[?25hRequirement already satisfied: filelock in /usr/local/lib/python3.7/dist-packages (from huggingface-hub<0.1.0->datasets) (3.0.12)\n",
            "Requirement already satisfied: pyparsing>=2.0.2 in /usr/local/lib/python3.7/dist-packages (from packaging->datasets) (2.4.7)\n",
            "Requirement already satisfied: zipp>=0.5 in /usr/local/lib/python3.7/dist-packages (from importlib-metadata; python_version < \"3.8\"->datasets) (3.4.1)\n",
            "Requirement already satisfied: typing-extensions>=3.6.4; python_version < \"3.8\" in /usr/local/lib/python3.7/dist-packages (from importlib-metadata; python_version < \"3.8\"->datasets) (3.7.4.3)\n",
            "Requirement already satisfied: urllib3!=1.25.0,!=1.25.1,<1.26,>=1.21.1 in /usr/local/lib/python3.7/dist-packages (from requests>=2.19.0->datasets) (1.24.3)\n",
            "Requirement already satisfied: idna<3,>=2.5 in /usr/local/lib/python3.7/dist-packages (from requests>=2.19.0->datasets) (2.10)\n",
            "Requirement already satisfied: chardet<4,>=3.0.2 in /usr/local/lib/python3.7/dist-packages (from requests>=2.19.0->datasets) (3.0.4)\n",
            "Requirement already satisfied: certifi>=2017.4.17 in /usr/local/lib/python3.7/dist-packages (from requests>=2.19.0->datasets) (2020.12.5)\n",
            "Requirement already satisfied: python-dateutil>=2.7.3 in /usr/local/lib/python3.7/dist-packages (from pandas->datasets) (2.8.1)\n",
            "Requirement already satisfied: pytz>=2017.2 in /usr/local/lib/python3.7/dist-packages (from pandas->datasets) (2018.9)\n",
            "Requirement already satisfied: six>=1.5 in /usr/local/lib/python3.7/dist-packages (from python-dateutil>=2.7.3->pandas->datasets) (1.15.0)\n",
            "Installing collected packages: xxhash, fsspec, datasets\n",
            "Successfully installed datasets-1.7.0 fsspec-2021.5.0 xxhash-2.0.2\n",
            "Collecting rouge_score\n",
            "  Downloading https://files.pythonhosted.org/packages/1f/56/a81022436c08b9405a5247b71635394d44fe7e1dbedc4b28c740e09c2840/rouge_score-0.0.4-py2.py3-none-any.whl\n",
            "Requirement already satisfied: numpy in /usr/local/lib/python3.7/dist-packages (from rouge_score) (1.19.5)\n",
            "Requirement already satisfied: nltk in /usr/local/lib/python3.7/dist-packages (from rouge_score) (3.2.5)\n",
            "Requirement already satisfied: six>=1.14.0 in /usr/local/lib/python3.7/dist-packages (from rouge_score) (1.15.0)\n",
            "Requirement already satisfied: absl-py in /usr/local/lib/python3.7/dist-packages (from rouge_score) (0.12.0)\n",
            "Installing collected packages: rouge-score\n",
            "Successfully installed rouge-score-0.0.4\n",
            "Collecting git+https://github.com/huggingface/transformers\n",
            "  Cloning https://github.com/huggingface/transformers to /tmp/pip-req-build-ct40ej7d\n",
            "  Running command git clone -q https://github.com/huggingface/transformers /tmp/pip-req-build-ct40ej7d\n",
            "  Installing build dependencies ... \u001b[?25l\u001b[?25hdone\n",
            "  Getting requirements to build wheel ... \u001b[?25l\u001b[?25hdone\n",
            "    Preparing wheel metadata ... \u001b[?25l\u001b[?25hdone\n",
            "Requirement already satisfied: sacremoses in /usr/local/lib/python3.7/dist-packages (from transformers==4.7.0.dev0) (0.0.45)\n",
            "Requirement already satisfied: tqdm>=4.27 in /usr/local/lib/python3.7/dist-packages (from transformers==4.7.0.dev0) (4.41.1)\n",
            "Requirement already satisfied: importlib-metadata; python_version < \"3.8\" in /usr/local/lib/python3.7/dist-packages (from transformers==4.7.0.dev0) (4.0.1)\n",
            "Requirement already satisfied: filelock in /usr/local/lib/python3.7/dist-packages (from transformers==4.7.0.dev0) (3.0.12)\n",
            "Requirement already satisfied: packaging in /usr/local/lib/python3.7/dist-packages (from transformers==4.7.0.dev0) (20.9)\n",
            "Requirement already satisfied: regex!=2019.12.17 in /usr/local/lib/python3.7/dist-packages (from transformers==4.7.0.dev0) (2019.12.20)\n",
            "Requirement already satisfied: requests in /usr/local/lib/python3.7/dist-packages (from transformers==4.7.0.dev0) (2.23.0)\n",
            "Requirement already satisfied: numpy>=1.17 in /usr/local/lib/python3.7/dist-packages (from transformers==4.7.0.dev0) (1.19.5)\n",
            "Requirement already satisfied: tokenizers<0.11,>=0.10.1 in /usr/local/lib/python3.7/dist-packages (from transformers==4.7.0.dev0) (0.10.3)\n",
            "Requirement already satisfied: huggingface-hub==0.0.8 in /usr/local/lib/python3.7/dist-packages (from transformers==4.7.0.dev0) (0.0.8)\n",
            "Requirement already satisfied: click in /usr/local/lib/python3.7/dist-packages (from sacremoses->transformers==4.7.0.dev0) (7.1.2)\n",
            "Requirement already satisfied: joblib in /usr/local/lib/python3.7/dist-packages (from sacremoses->transformers==4.7.0.dev0) (1.0.1)\n",
            "Requirement already satisfied: six in /usr/local/lib/python3.7/dist-packages (from sacremoses->transformers==4.7.0.dev0) (1.15.0)\n",
            "Requirement already satisfied: zipp>=0.5 in /usr/local/lib/python3.7/dist-packages (from importlib-metadata; python_version < \"3.8\"->transformers==4.7.0.dev0) (3.4.1)\n",
            "Requirement already satisfied: typing-extensions>=3.6.4; python_version < \"3.8\" in /usr/local/lib/python3.7/dist-packages (from importlib-metadata; python_version < \"3.8\"->transformers==4.7.0.dev0) (3.7.4.3)\n",
            "Requirement already satisfied: pyparsing>=2.0.2 in /usr/local/lib/python3.7/dist-packages (from packaging->transformers==4.7.0.dev0) (2.4.7)\n",
            "Requirement already satisfied: urllib3!=1.25.0,!=1.25.1,<1.26,>=1.21.1 in /usr/local/lib/python3.7/dist-packages (from requests->transformers==4.7.0.dev0) (1.24.3)\n",
            "Requirement already satisfied: chardet<4,>=3.0.2 in /usr/local/lib/python3.7/dist-packages (from requests->transformers==4.7.0.dev0) (3.0.4)\n",
            "Requirement already satisfied: certifi>=2017.4.17 in /usr/local/lib/python3.7/dist-packages (from requests->transformers==4.7.0.dev0) (2020.12.5)\n",
            "Requirement already satisfied: idna<3,>=2.5 in /usr/local/lib/python3.7/dist-packages (from requests->transformers==4.7.0.dev0) (2.10)\n",
            "Building wheels for collected packages: transformers\n",
            "  Building wheel for transformers (PEP 517) ... \u001b[?25l\u001b[?25hdone\n",
            "  Created wheel for transformers: filename=transformers-4.7.0.dev0-cp37-none-any.whl size=2352174 sha256=f837ecb89568a6d102ab4daf3fdec3b74ac727c1aacebd514f5e58e9aa184612\n",
            "  Stored in directory: /tmp/pip-ephem-wheel-cache-yte_935d/wheels/70/d3/52/b3fa4f8b8ef04167ac62e5bb2accb62ae764db2a378247490e\n",
            "Successfully built transformers\n",
            "Installing collected packages: transformers\n",
            "  Found existing installation: transformers 4.6.1\n",
            "    Uninstalling transformers-4.6.1:\n",
            "      Successfully uninstalled transformers-4.6.1\n",
            "Successfully installed transformers-4.7.0.dev0\n",
            "Requirement already satisfied: sentencepiece in /usr/local/lib/python3.7/dist-packages (0.1.95)\n"
          ],
          "name": "stdout"
        }
      ]
    },
    {
      "cell_type": "code",
      "metadata": {
        "id": "kMinUIweFt97"
      },
      "source": [
        "import re\n",
        "def finalclean(c):\n",
        "  c = re.sub(r'[^A-Za-z0-9\\n., %]+', \" \",c)\n",
        "  c=re.sub(r'Table [0-9]*',\"\", c)\n",
        "  return c\n",
        "\n",
        "def removeurls(text):\n",
        "    result = re.sub(r\"http\\S+\", \"\", text)\n",
        "    result = re.sub(r\"www\\S+\", \"\", result)\n",
        "    return result\n",
        "def removbrackets(text):\n",
        "    text=re.sub(\"[\\(\\[].*?[\\)\\]]\", \"\", text)\n",
        "    return text\n",
        "def misc_clean(text):\n",
        "    d=re.sub('[a-z0-9.-]*/[a-z0-9.-]*',\" \", text)\n",
        "    return d\n",
        "\n",
        "def single(text):\n",
        "   # Single character removal\n",
        "    text = re.sub(r\"\\s+[a-zA-Z]\\s+\", ' ', text)\n",
        "    return text\n",
        "\n",
        "def removelines(text):\n",
        "\n",
        "  text = re.sub(r\"\\n\", ' ', text)\n",
        "  return text"
      ],
      "execution_count": 2,
      "outputs": []
    },
    {
      "cell_type": "code",
      "metadata": {
        "colab": {
          "base_uri": "https://localhost:8080/"
        },
        "id": "NiAr61tbFyIO",
        "outputId": "13295562-6806-4a63-fc6d-f007dafc7a95"
      },
      "source": [
        "from google.colab import drive\n",
        "drive.mount('/content/drive')"
      ],
      "execution_count": 3,
      "outputs": [
        {
          "output_type": "stream",
          "text": [
            "Mounted at /content/drive\n"
          ],
          "name": "stdout"
        }
      ]
    },
    {
      "cell_type": "code",
      "metadata": {
        "colab": {
          "base_uri": "https://localhost:8080/"
        },
        "id": "PcM1F6X9Fyqn",
        "outputId": "75b7aaeb-0a16-4037-8dbf-cb574195c33d"
      },
      "source": [
        "!cp \"/content/drive/My Drive/allclean/processedcopy1.csv\" \"train.csv\"\n",
        "\n",
        "from datasets import load_dataset\n",
        "import pandas as pd\n",
        "train=pd.read_csv('/content/train.csv')\n",
        "train.shape\n",
        "#train=train[['abstract','extractedsam']]"
      ],
      "execution_count": 4,
      "outputs": [
        {
          "output_type": "execute_result",
          "data": {
            "text/plain": [
              "(20725, 9)"
            ]
          },
          "metadata": {
            "tags": []
          },
          "execution_count": 4
        }
      ]
    },
    {
      "cell_type": "code",
      "metadata": {
        "colab": {
          "base_uri": "https://localhost:8080/"
        },
        "id": "PINg9wS4LfvD",
        "outputId": "6f5655c4-f1a6-4190-b168-9af4c9bd4259"
      },
      "source": [
        "train.columns"
      ],
      "execution_count": 5,
      "outputs": [
        {
          "output_type": "execute_result",
          "data": {
            "text/plain": [
              "Index(['Unnamed: 0', 'title', 'abstract', 'articles', 'wordcount_articles',\n",
              "       'wordcount_abstract', 'Result', 'Introduction', 'sections'],\n",
              "      dtype='object')"
            ]
          },
          "metadata": {
            "tags": []
          },
          "execution_count": 5
        }
      ]
    },
    {
      "cell_type": "code",
      "metadata": {
        "id": "JJKwhk1WF2sd"
      },
      "source": [
        "train['article1']=train['Introduction']+ train['Result']"
      ],
      "execution_count": 6,
      "outputs": []
    },
    {
      "cell_type": "code",
      "metadata": {
        "id": "6sJkDVPqF4y7"
      },
      "source": [
        "import re\n",
        "def finalclean(c):\n",
        "  c = re.sub(r'[^A-Za-z0-9\\n., %]+', \" \",c)\n",
        "  c=re.sub(r'Table [0-9]*',\"\", c)\n",
        "  return c\n",
        "\n",
        "def removeurls(text):\n",
        "    result = re.sub(r\"http\\S+\", \"\", text)\n",
        "    result = re.sub(r\"www\\S+\", \"\", result)\n",
        "    return result\n",
        "def removbrackets(text):\n",
        "    text=re.sub(\"[\\(\\[].*?[\\)\\]]\", \"\", text)\n",
        "    return text\n",
        "def misc_clean(text):\n",
        "    d=re.sub('[a-z0-9.-]*/[a-z0-9.-]*',\" \", text)\n",
        "    return d\n",
        "\n",
        "def single(text):\n",
        "   # Single character removal\n",
        "    text = re.sub(r\"\\s+[a-zA-Z]\\s+\", ' ', text)\n",
        "    return text\n",
        "\n",
        "def removelines(text):\n",
        "\n",
        "  text = re.sub(r\"\\n\", ' ', text)\n",
        "  return text"
      ],
      "execution_count": 7,
      "outputs": []
    },
    {
      "cell_type": "code",
      "metadata": {
        "id": "SK1inus7GOx9"
      },
      "source": [
        "#val['articles'] = val['articles'].apply(lambda x: finalclean(x))\n",
        "train['articles'] = train['articles'].apply(lambda x: removeurls(x))\n",
        "#val['abstract'] = val['abstract'].apply(lambda x: removeurls(x))\n",
        "train['articles'] = train['articles'].apply(lambda x: removbrackets(x))\n",
        "#val['abstract'] = val['abstract'].apply(lambda x: removbrackets(x))\n",
        "train['articles'] = train['articles'].apply(lambda x: misc_clean(x))\n",
        "#val['abstract'] = val['abstract'].apply(lambda x: misc_clean(x))\n",
        "train['articles'] = train['articles'].apply(lambda x: finalclean(x))\n",
        "#val['abstract'] = val['abstract'].apply(lambda x: finalclean(x))\n",
        "train['articles'] = train['articles'].apply(lambda x: single(x))\n",
        "train['articles'] = train['articles'].apply(lambda x: removelines(x))"
      ],
      "execution_count": 8,
      "outputs": []
    },
    {
      "cell_type": "code",
      "metadata": {
        "id": "XIqAEaOEn41n"
      },
      "source": [
        "train['condition_wc']= train['articles'].apply(lambda x:get_wordcounts(x))"
      ],
      "execution_count": 11,
      "outputs": []
    },
    {
      "cell_type": "code",
      "metadata": {
        "id": "7pQNcfnrGPbs"
      },
      "source": [
        "train=train[['abstract','article1']]"
      ],
      "execution_count": null,
      "outputs": []
    },
    {
      "cell_type": "code",
      "metadata": {
        "id": "n3zNIvGiGSq1"
      },
      "source": [
        "train['article1'].head()"
      ],
      "execution_count": null,
      "outputs": []
    },
    {
      "cell_type": "code",
      "metadata": {
        "id": "dQ1kKh1WHBLs"
      },
      "source": [
        "train=train.reset_index(drop=True)"
      ],
      "execution_count": null,
      "outputs": []
    },
    {
      "cell_type": "code",
      "metadata": {
        "id": "fDVA9jZJHNLe"
      },
      "source": [
        "def get_wordcounts(x):\n",
        "    length = len(str(x).split())\n",
        "    return length"
      ],
      "execution_count": 10,
      "outputs": []
    },
    {
      "cell_type": "code",
      "metadata": {
        "id": "hNxNqcw3HB_X"
      },
      "source": [
        "train['condition_wordcount']= train['article1'].apply(lambda x:get_wordcounts(x))"
      ],
      "execution_count": null,
      "outputs": []
    },
    {
      "cell_type": "code",
      "metadata": {
        "id": "fQ1pfAVULkav"
      },
      "source": [
        "train['ccountt']= train['articles'].apply(lambda x:get_wordcounts(x))"
      ],
      "execution_count": 15,
      "outputs": []
    },
    {
      "cell_type": "code",
      "metadata": {
        "colab": {
          "base_uri": "https://localhost:8080/",
          "height": 282
        },
        "id": "MLO1o4THHOtY",
        "outputId": "4dca3c53-e5a4-4e31-ae93-c9f0d4ef1bfa"
      },
      "source": [
        "train.describe()"
      ],
      "execution_count": 12,
      "outputs": [
        {
          "output_type": "execute_result",
          "data": {
            "text/html": [
              "<div>\n",
              "<style scoped>\n",
              "    .dataframe tbody tr th:only-of-type {\n",
              "        vertical-align: middle;\n",
              "    }\n",
              "\n",
              "    .dataframe tbody tr th {\n",
              "        vertical-align: top;\n",
              "    }\n",
              "\n",
              "    .dataframe thead th {\n",
              "        text-align: right;\n",
              "    }\n",
              "</style>\n",
              "<table border=\"1\" class=\"dataframe\">\n",
              "  <thead>\n",
              "    <tr style=\"text-align: right;\">\n",
              "      <th></th>\n",
              "      <th>Unnamed: 0</th>\n",
              "      <th>wordcount_articles</th>\n",
              "      <th>wordcount_abstract</th>\n",
              "      <th>condition_wc</th>\n",
              "    </tr>\n",
              "  </thead>\n",
              "  <tbody>\n",
              "    <tr>\n",
              "      <th>count</th>\n",
              "      <td>20725.000000</td>\n",
              "      <td>20725.000000</td>\n",
              "      <td>20725.000000</td>\n",
              "      <td>20725.000000</td>\n",
              "    </tr>\n",
              "    <tr>\n",
              "      <th>mean</th>\n",
              "      <td>6024.118118</td>\n",
              "      <td>3184.480869</td>\n",
              "      <td>199.458963</td>\n",
              "      <td>3098.269095</td>\n",
              "    </tr>\n",
              "    <tr>\n",
              "      <th>std</th>\n",
              "      <td>4461.517368</td>\n",
              "      <td>1207.994428</td>\n",
              "      <td>83.878854</td>\n",
              "      <td>1174.158793</td>\n",
              "    </tr>\n",
              "    <tr>\n",
              "      <th>min</th>\n",
              "      <td>0.000000</td>\n",
              "      <td>501.000000</td>\n",
              "      <td>2.000000</td>\n",
              "      <td>460.000000</td>\n",
              "    </tr>\n",
              "    <tr>\n",
              "      <th>25%</th>\n",
              "      <td>2162.000000</td>\n",
              "      <td>2313.000000</td>\n",
              "      <td>146.000000</td>\n",
              "      <td>2253.000000</td>\n",
              "    </tr>\n",
              "    <tr>\n",
              "      <th>50%</th>\n",
              "      <td>4812.000000</td>\n",
              "      <td>3168.000000</td>\n",
              "      <td>197.000000</td>\n",
              "      <td>3086.000000</td>\n",
              "    </tr>\n",
              "    <tr>\n",
              "      <th>75%</th>\n",
              "      <td>9816.000000</td>\n",
              "      <td>4114.000000</td>\n",
              "      <td>249.000000</td>\n",
              "      <td>3997.000000</td>\n",
              "    </tr>\n",
              "    <tr>\n",
              "      <th>max</th>\n",
              "      <td>14999.000000</td>\n",
              "      <td>5499.000000</td>\n",
              "      <td>500.000000</td>\n",
              "      <td>5403.000000</td>\n",
              "    </tr>\n",
              "  </tbody>\n",
              "</table>\n",
              "</div>"
            ],
            "text/plain": [
              "         Unnamed: 0  wordcount_articles  wordcount_abstract  condition_wc\n",
              "count  20725.000000        20725.000000        20725.000000  20725.000000\n",
              "mean    6024.118118         3184.480869          199.458963   3098.269095\n",
              "std     4461.517368         1207.994428           83.878854   1174.158793\n",
              "min        0.000000          501.000000            2.000000    460.000000\n",
              "25%     2162.000000         2313.000000          146.000000   2253.000000\n",
              "50%     4812.000000         3168.000000          197.000000   3086.000000\n",
              "75%     9816.000000         4114.000000          249.000000   3997.000000\n",
              "max    14999.000000         5499.000000          500.000000   5403.000000"
            ]
          },
          "metadata": {
            "tags": []
          },
          "execution_count": 12
        }
      ]
    },
    {
      "cell_type": "code",
      "metadata": {
        "colab": {
          "base_uri": "https://localhost:8080/"
        },
        "id": "wEUmM9yAMMUI",
        "outputId": "b9bb0232-a9c4-4cfa-922d-de0bbbf82e48"
      },
      "source": [
        "train.isnull().sum()"
      ],
      "execution_count": 17,
      "outputs": [
        {
          "output_type": "execute_result",
          "data": {
            "text/plain": [
              "Unnamed: 0               0\n",
              "title                    0\n",
              "abstract                 0\n",
              "articles                 0\n",
              "wordcount_articles       0\n",
              "wordcount_abstract       0\n",
              "Result                5209\n",
              "Introduction          7413\n",
              "sections                37\n",
              "ccountt                  0\n",
              "dtype: int64"
            ]
          },
          "metadata": {
            "tags": []
          },
          "execution_count": 17
        }
      ]
    },
    {
      "cell_type": "code",
      "metadata": {
        "id": "SKVfM_76HYbj"
      },
      "source": [
        "\n",
        "xy=train[train['condition_wc']>5200]"
      ],
      "execution_count": 13,
      "outputs": []
    },
    {
      "cell_type": "code",
      "metadata": {
        "colab": {
          "base_uri": "https://localhost:8080/"
        },
        "id": "mc2i98MXHoC_",
        "outputId": "4600d41c-e431-477e-f233-354adfede3e7"
      },
      "source": [
        " xy.shape"
      ],
      "execution_count": 14,
      "outputs": [
        {
          "output_type": "execute_result",
          "data": {
            "text/plain": [
              "(4716, 11)"
            ]
          },
          "metadata": {
            "tags": []
          },
          "execution_count": 14
        }
      ]
    },
    {
      "cell_type": "code",
      "metadata": {
        "id": "nz4o_UFloprN"
      },
      "source": [
        ""
      ],
      "execution_count": null,
      "outputs": []
    },
    {
      "cell_type": "code",
      "metadata": {
        "colab": {
          "base_uri": "https://localhost:8080/"
        },
        "id": "kNKEZFwYHp2s",
        "outputId": "c323c36c-024f-49e4-ca36-c1b19137307f"
      },
      "source": [
        "xy.columns"
      ],
      "execution_count": null,
      "outputs": [
        {
          "output_type": "execute_result",
          "data": {
            "text/plain": [
              "Index(['Unnamed: 0', 'title', 'abstract', 'articles', 'wordcount_articles',\n",
              "       'wordcount_abstract', 'Result', 'Introduction', 'sections', 'ccountt'],\n",
              "      dtype='object')"
            ]
          },
          "metadata": {
            "tags": []
          },
          "execution_count": 23
        }
      ]
    },
    {
      "cell_type": "code",
      "metadata": {
        "id": "BRchqEU9MzPe"
      },
      "source": [
        ""
      ],
      "execution_count": null,
      "outputs": []
    },
    {
      "cell_type": "markdown",
      "metadata": {
        "id": "NXw3qk47NCGf"
      },
      "source": [
        "Experimenting with flat extraction Experimenting"
      ]
    },
    {
      "cell_type": "code",
      "metadata": {
        "id": "T-cjZ467NvYZ"
      },
      "source": [
        ""
      ],
      "execution_count": null,
      "outputs": []
    },
    {
      "cell_type": "code",
      "metadata": {
        "id": "JcAtaR7eNva3"
      },
      "source": [
        ""
      ],
      "execution_count": null,
      "outputs": []
    },
    {
      "cell_type": "code",
      "metadata": {
        "id": "0zhPdoLKNvdl"
      },
      "source": [
        ""
      ],
      "execution_count": null,
      "outputs": []
    },
    {
      "cell_type": "code",
      "metadata": {
        "colab": {
          "base_uri": "https://localhost:8080/",
          "height": 410,
          "referenced_widgets": [
            "3dd1dfba3c784180843ecd27f5ed584f",
            "0062bcb2365c4bfb9574180dbf5f2a1d",
            "a8cacc5830c14aaa8b6e906fb31c55af",
            "9b52d10708fb43289c27d0c3eadd365b",
            "1d372b0121c74ac095959c71403a3ec1",
            "b982b1dde736476b99fad2f25f89584b",
            "48452b011cdd497b9bd16f8fd4537bf4",
            "a2c23b4865794a83940f5eba5f11d8fa",
            "04092b069c504bfa9ab5246e7d22318a",
            "6c33703cd9fb45f79f84714d6e35ccb4",
            "22e63cf55b6a41079576f2f3a0a7ea32",
            "4d15cfc6decf4e86a49ab4ca3e0352fd",
            "3fb578492e484e2eb83614903f185a78",
            "dff5b60fe49542999842c11b33d01f08",
            "ed22450f13584d36b148fc2b187b402c",
            "6a11c67d5dc3406fadd7e66ad9cb6239",
            "6e5907890e0f4cc2b9386bda4f9c1414",
            "c9eec5d9ac26487293a052936bcaf89f",
            "e70c3424772d4c3e90623f295bd8a730",
            "7a38d9e25ad74c42b73d99cbe33d73e7",
            "ecde11d659424a60bbbe6585ec913457",
            "b2470ddeeb4d4f3daeb9de6e5824a58a",
            "141673b928f24117a442800eba695ce1",
            "f2df38541dd043b0b86acd8587a8cc65",
            "b3e3d305322242b7918071b7c9d50a27",
            "c8ae9aba270e4a498bc1926cd4062fd3",
            "9b27c4cff34041fba28a1576b4c80e1c",
            "504c1f5d1dbe4a3193175e32427571a0",
            "14a7f084c92e424ab770be64d1de9ac5",
            "1e984efd3e9c47298ece51ebd107153f",
            "218b897033454bd08c5d3e187079ad6d",
            "39d21196ec254730947a08a79c4410c5",
            "76d9ffd4e905426baef9922bd2697f4c",
            "d6e91d37082c4d3bb51832d462f11699",
            "8302fced42144b43a94fc63d8a1fbc40",
            "ef7f0c26a3f741769b9896a9e46c7816",
            "e471b52ae9464fb6917174be8352e2d2",
            "c0a2c777d35e4de8a0b895bc247aad0d",
            "20b5d941c4d5422eb775c66a79f52dee",
            "ee6a497a292d4ae184f4fee9f5c081a4"
          ]
        },
        "id": "T1M6FdL7Nvhy",
        "outputId": "b0980011-7210-48f7-cdbc-52983ad9786a"
      },
      "source": [
        "\n",
        "import transformers\n",
        "import transformers as ppb\n",
        "from transformers import DistilBertModel, DistilBertTokenizer, BertTokenizer, BertForTokenClassification\n",
        "import numpy as np\n",
        "\n",
        "import nltk\n",
        "nltk.download('punkt')\n",
        "from nltk import sent_tokenize\n",
        "%tensorflow_version 1.x\n",
        "from keras.preprocessing.sequence import pad_sequences\n",
        "\n",
        "from sklearn.cluster import KMeans\n",
        "from sklearn.neighbors import NearestNeighbors\n",
        "\n",
        "import json\n",
        "import matplotlib.pyplot as plt\n",
        "import timeit\n",
        "import torch\n",
        "import textwrap\n",
        "wrapper = textwrap.TextWrapper(width=70)\n",
        "SEED = 1234\n",
        "torch.manual_seed(SEED)\n",
        "device=\"cuda\"\n",
        "model_class, tokenizer_class, pretrained_weights = (ppb.DistilBertModel, ppb.DistilBertTokenizer, 'distilbert-base-uncased')\n",
        "\n",
        "## Want BERT instead of distilBERT? Uncomment the following line:\n",
        "#model_class, tokenizer_class, pretrained_weights = (ppb.BertModel, ppb.BertTokenizer, 'bert-base-uncased')\n",
        "\n",
        "# Load pretrained model/tokenizer\n",
        "tokenizer = tokenizer_class.from_pretrained(pretrained_weights)\n",
        "model = model_class.from_pretrained(pretrained_weights)\n",
        "model=model.to(device)\n"
      ],
      "execution_count": 15,
      "outputs": [
        {
          "output_type": "stream",
          "text": [
            "[nltk_data] Downloading package punkt to /root/nltk_data...\n",
            "[nltk_data]   Unzipping tokenizers/punkt.zip.\n",
            "TensorFlow 1.x selected.\n"
          ],
          "name": "stdout"
        },
        {
          "output_type": "stream",
          "text": [
            "Using TensorFlow backend.\n"
          ],
          "name": "stderr"
        },
        {
          "output_type": "display_data",
          "data": {
            "application/vnd.jupyter.widget-view+json": {
              "model_id": "3dd1dfba3c784180843ecd27f5ed584f",
              "version_minor": 0,
              "version_major": 2
            },
            "text/plain": [
              "HBox(children=(FloatProgress(value=0.0, description='Downloading', max=231508.0, style=ProgressStyle(descripti…"
            ]
          },
          "metadata": {
            "tags": []
          }
        },
        {
          "output_type": "stream",
          "text": [
            "\n"
          ],
          "name": "stdout"
        },
        {
          "output_type": "display_data",
          "data": {
            "application/vnd.jupyter.widget-view+json": {
              "model_id": "04092b069c504bfa9ab5246e7d22318a",
              "version_minor": 0,
              "version_major": 2
            },
            "text/plain": [
              "HBox(children=(FloatProgress(value=0.0, description='Downloading', max=28.0, style=ProgressStyle(description_w…"
            ]
          },
          "metadata": {
            "tags": []
          }
        },
        {
          "output_type": "stream",
          "text": [
            "\n"
          ],
          "name": "stdout"
        },
        {
          "output_type": "display_data",
          "data": {
            "application/vnd.jupyter.widget-view+json": {
              "model_id": "6e5907890e0f4cc2b9386bda4f9c1414",
              "version_minor": 0,
              "version_major": 2
            },
            "text/plain": [
              "HBox(children=(FloatProgress(value=0.0, description='Downloading', max=466062.0, style=ProgressStyle(descripti…"
            ]
          },
          "metadata": {
            "tags": []
          }
        },
        {
          "output_type": "stream",
          "text": [
            "\n"
          ],
          "name": "stdout"
        },
        {
          "output_type": "display_data",
          "data": {
            "application/vnd.jupyter.widget-view+json": {
              "model_id": "b3e3d305322242b7918071b7c9d50a27",
              "version_minor": 0,
              "version_major": 2
            },
            "text/plain": [
              "HBox(children=(FloatProgress(value=0.0, description='Downloading', max=442.0, style=ProgressStyle(description_…"
            ]
          },
          "metadata": {
            "tags": []
          }
        },
        {
          "output_type": "stream",
          "text": [
            "\n"
          ],
          "name": "stdout"
        },
        {
          "output_type": "display_data",
          "data": {
            "application/vnd.jupyter.widget-view+json": {
              "model_id": "76d9ffd4e905426baef9922bd2697f4c",
              "version_minor": 0,
              "version_major": 2
            },
            "text/plain": [
              "HBox(children=(FloatProgress(value=0.0, description='Downloading', max=267967963.0, style=ProgressStyle(descri…"
            ]
          },
          "metadata": {
            "tags": []
          }
        },
        {
          "output_type": "stream",
          "text": [
            "\n"
          ],
          "name": "stdout"
        },
        {
          "output_type": "stream",
          "text": [
            "Some weights of the model checkpoint at distilbert-base-uncased were not used when initializing DistilBertModel: ['vocab_projector.bias', 'vocab_transform.weight', 'vocab_layer_norm.bias', 'vocab_projector.weight', 'vocab_layer_norm.weight', 'vocab_transform.bias']\n",
            "- This IS expected if you are initializing DistilBertModel from the checkpoint of a model trained on another task or with another architecture (e.g. initializing a BertForSequenceClassification model from a BertForPreTraining model).\n",
            "- This IS NOT expected if you are initializing DistilBertModel from the checkpoint of a model that you expect to be exactly identical (initializing a BertForSequenceClassification model from a BertForSequenceClassification model).\n"
          ],
          "name": "stderr"
        }
      ]
    },
    {
      "cell_type": "code",
      "metadata": {
        "id": "H6T1EUzSNWco"
      },
      "source": [
        "def extractivesam(paragraph):\n",
        "  global globe\n",
        "  globe=globe+1\n",
        "  print(globe)\n",
        "  paragraph_split = sent_tokenize(paragraph) \n",
        "  dog=len(paragraph_split)\n",
        "  input_tokens = []\n",
        "  for i in paragraph_split:\n",
        "    input_tokens.append(tokenizer.encode(i, add_special_tokens=True))\n",
        "  temp = []\n",
        "  for i in input_tokens:\n",
        "  #print(len(i))\n",
        "    temp.append(len(i))\n",
        "  np.max(temp)  # the longest sentence in our paragraph has 88 tokens\n",
        "  input_ids = pad_sequences(input_tokens, maxlen=250, dtype=\"long\", value=0, truncating=\"post\", padding=\"post\")\n",
        "  attention_masks = []\n",
        "  for sent in input_ids:\n",
        "    att_mask = [int(token_id > 0) for token_id in sent]  # create a list of 0 and 1.\n",
        "    attention_masks.append(att_mask)  # basically attention_masks is a list of list\n",
        "  #input_masks = create_attention_mask(input_ids)\n",
        "  print(\"done\")\n",
        "  input_ids = torch.tensor(input_ids) \n",
        "  input_ids = input_ids.to(device) \n",
        "  attention_mask = torch.tensor(attention_masks)\n",
        "  attention_mask = attention_mask.to(device)\n",
        "\n",
        "  with torch.no_grad():\n",
        "\n",
        "    last_hidden_states = model(input_ids, attention_mask=attention_mask)\n",
        "  sentence_features = last_hidden_states[0][:,0,:].detach().cpu().numpy()\n",
        "  number_extract=round((0.6)*dog)\n",
        "  print('performing k-medoid clustering with '\n",
        "          ,number_extract,' clusters')\n",
        "  print(\"done4\")\n",
        "  kmeans = KMeans(n_clusters=number_extract, \n",
        "                  random_state=0).fit(sentence_features)\n",
        "  cluster_center = kmeans.cluster_centers_\n",
        "  nbrs = NearestNeighbors(n_neighbors= 1, \n",
        "                          algorithm='brute').fit(sentence_features)\n",
        "  distances, indices = nbrs.kneighbors(\n",
        "                    cluster_center.reshape(number_extract,-1))\n",
        "  print(\"done5\")\n",
        "  indices = np.sort(indices.reshape(1,-1))\n",
        "  topic_answer = []\n",
        "  # for i in range(len(indices)):\n",
        "  #   topic_i = []\n",
        "  #   for j in indices[i]:\n",
        "  #     topic_i.append(paragraph_split[j])\n",
        "  #   topic_answer.append(topic_i)\n",
        "\n",
        "  for i in indices[0]:\n",
        "    #print(i)\n",
        "    topic_answer.append(paragraph_split[i])\n",
        "  extract_num=len(topic_answer)\n",
        "  #print('result:')\n",
        "\n",
        "  #print('the ',number_extract,' extracted sentences are')\n",
        "  #for i in topic_answer:\n",
        "  #  print(i)\n",
        "  #print(counter)\n",
        "  topic_answer_string = ''\n",
        "  for topic in topic_answer:\n",
        "    topic_answer_string = topic_answer_string + ' '+ topic \n",
        "  return topic_answer_string"
      ],
      "execution_count": 16,
      "outputs": []
    },
    {
      "cell_type": "code",
      "metadata": {
        "colab": {
          "base_uri": "https://localhost:8080/"
        },
        "id": "n6e1f1f0PreP",
        "outputId": "960adedd-f207-4735-b855-ed91ea88ebfe"
      },
      "source": [
        "xy.columns"
      ],
      "execution_count": 23,
      "outputs": [
        {
          "output_type": "execute_result",
          "data": {
            "text/plain": [
              "Index(['Unnamed: 0', 'title', 'abstract', 'articles', 'wordcount_articles',\n",
              "       'wordcount_abstract', 'Result', 'Introduction', 'sections', 'ccountt'],\n",
              "      dtype='object')"
            ]
          },
          "metadata": {
            "tags": []
          },
          "execution_count": 23
        }
      ]
    },
    {
      "cell_type": "code",
      "metadata": {
        "id": "o2lmPmwXNuH5"
      },
      "source": [
        "globe=0"
      ],
      "execution_count": 17,
      "outputs": []
    },
    {
      "cell_type": "code",
      "metadata": {
        "id": "Lk0_LX0sNuKQ"
      },
      "source": [
        "xy=xy[['articles', 'abstract']]"
      ],
      "execution_count": 18,
      "outputs": []
    },
    {
      "cell_type": "code",
      "metadata": {
        "colab": {
          "base_uri": "https://localhost:8080/"
        },
        "id": "JzqnJ0B_P_1f",
        "outputId": "48c2e49d-aa7a-4a2f-f185-3f88abdcdda1"
      },
      "source": [
        "xy.shape"
      ],
      "execution_count": 20,
      "outputs": [
        {
          "output_type": "execute_result",
          "data": {
            "text/plain": [
              "(4716, 2)"
            ]
          },
          "metadata": {
            "tags": []
          },
          "execution_count": 20
        }
      ]
    },
    {
      "cell_type": "code",
      "metadata": {
        "id": "zDJ3YJOpos0m"
      },
      "source": [
        "xx=xy[1:200]"
      ],
      "execution_count": 21,
      "outputs": []
    },
    {
      "cell_type": "code",
      "metadata": {
        "colab": {
          "base_uri": "https://localhost:8080/",
          "height": 282
        },
        "id": "OLqlmF2UrOTh",
        "outputId": "346b5a94-b36d-47e9-f0ad-e8f0b6803c14"
      },
      "source": [
        "xx.describe()"
      ],
      "execution_count": 30,
      "outputs": [
        {
          "output_type": "execute_result",
          "data": {
            "text/html": [
              "<div>\n",
              "<style scoped>\n",
              "    .dataframe tbody tr th:only-of-type {\n",
              "        vertical-align: middle;\n",
              "    }\n",
              "\n",
              "    .dataframe tbody tr th {\n",
              "        vertical-align: top;\n",
              "    }\n",
              "\n",
              "    .dataframe thead th {\n",
              "        text-align: right;\n",
              "    }\n",
              "</style>\n",
              "<table border=\"1\" class=\"dataframe\">\n",
              "  <thead>\n",
              "    <tr style=\"text-align: right;\">\n",
              "      <th></th>\n",
              "      <th>ct</th>\n",
              "    </tr>\n",
              "  </thead>\n",
              "  <tbody>\n",
              "    <tr>\n",
              "      <th>count</th>\n",
              "      <td>199.000000</td>\n",
              "    </tr>\n",
              "    <tr>\n",
              "      <th>mean</th>\n",
              "      <td>2633.422111</td>\n",
              "    </tr>\n",
              "    <tr>\n",
              "      <th>std</th>\n",
              "      <td>249.622549</td>\n",
              "    </tr>\n",
              "    <tr>\n",
              "      <th>min</th>\n",
              "      <td>2004.000000</td>\n",
              "    </tr>\n",
              "    <tr>\n",
              "      <th>25%</th>\n",
              "      <td>2442.500000</td>\n",
              "    </tr>\n",
              "    <tr>\n",
              "      <th>50%</th>\n",
              "      <td>2638.000000</td>\n",
              "    </tr>\n",
              "    <tr>\n",
              "      <th>75%</th>\n",
              "      <td>2806.000000</td>\n",
              "    </tr>\n",
              "    <tr>\n",
              "      <th>max</th>\n",
              "      <td>3360.000000</td>\n",
              "    </tr>\n",
              "  </tbody>\n",
              "</table>\n",
              "</div>"
            ],
            "text/plain": [
              "                ct\n",
              "count   199.000000\n",
              "mean   2633.422111\n",
              "std     249.622549\n",
              "min    2004.000000\n",
              "25%    2442.500000\n",
              "50%    2638.000000\n",
              "75%    2806.000000\n",
              "max    3360.000000"
            ]
          },
          "metadata": {
            "tags": []
          },
          "execution_count": 30
        }
      ]
    },
    {
      "cell_type": "code",
      "metadata": {
        "colab": {
          "base_uri": "https://localhost:8080/"
        },
        "id": "wbGb0R1Oos24",
        "outputId": "8606b29b-21c3-4e54-dbf6-f9958f5f23b1"
      },
      "source": [
        "xx.columns"
      ],
      "execution_count": 29,
      "outputs": [
        {
          "output_type": "execute_result",
          "data": {
            "text/plain": [
              "Index(['articles', 'abstract', 'extractivecombo', 'ct'], dtype='object')"
            ]
          },
          "metadata": {
            "tags": []
          },
          "execution_count": 29
        }
      ]
    },
    {
      "cell_type": "code",
      "metadata": {
        "colab": {
          "base_uri": "https://localhost:8080/"
        },
        "id": "xK05ghL7q7bH",
        "outputId": "372323e7-72b9-4cc8-8cf5-9ddd58c71304"
      },
      "source": [
        "xx['ct']= xx['extractivecombo'].apply(lambda x:get_wordcounts(x))"
      ],
      "execution_count": 28,
      "outputs": [
        {
          "output_type": "stream",
          "text": [
            "/usr/local/lib/python3.7/dist-packages/ipykernel_launcher.py:1: SettingWithCopyWarning: \n",
            "A value is trying to be set on a copy of a slice from a DataFrame.\n",
            "Try using .loc[row_indexer,col_indexer] = value instead\n",
            "\n",
            "See the caveats in the documentation: https://pandas.pydata.org/pandas-docs/stable/user_guide/indexing.html#returning-a-view-versus-a-copy\n",
            "  \"\"\"Entry point for launching an IPython kernel.\n"
          ],
          "name": "stderr"
        }
      ]
    },
    {
      "cell_type": "code",
      "metadata": {
        "id": "vUV6frI0q7dc"
      },
      "source": [
        ""
      ],
      "execution_count": null,
      "outputs": []
    },
    {
      "cell_type": "code",
      "metadata": {
        "id": "csqQvXtANuNB",
        "colab": {
          "base_uri": "https://localhost:8080/"
        },
        "outputId": "b048b4d3-e69b-4889-e1de-3f07f0cd2fc5"
      },
      "source": [
        "%%time\n",
        "xx['extractivecombo'] = xx['articles'].apply(lambda x: extractivesam(x))"
      ],
      "execution_count": 23,
      "outputs": [
        {
          "output_type": "stream",
          "text": [
            "1\n",
            "done\n",
            "performing k-medoid clustering with  109  clusters\n",
            "done4\n",
            "done5\n",
            "2\n",
            "done\n",
            "performing k-medoid clustering with  90  clusters\n",
            "done4\n",
            "done5\n",
            "3\n",
            "done\n",
            "performing k-medoid clustering with  116  clusters\n",
            "done4\n",
            "done5\n",
            "4\n",
            "done\n",
            "performing k-medoid clustering with  82  clusters\n",
            "done4\n",
            "done5\n",
            "5\n",
            "done\n",
            "performing k-medoid clustering with  115  clusters\n",
            "done4\n",
            "done5\n",
            "6\n",
            "done\n",
            "performing k-medoid clustering with  123  clusters\n",
            "done4\n",
            "done5\n",
            "7\n",
            "done\n",
            "performing k-medoid clustering with  96  clusters\n",
            "done4\n",
            "done5\n",
            "8\n",
            "done\n",
            "performing k-medoid clustering with  94  clusters\n",
            "done4\n",
            "done5\n",
            "9\n",
            "done\n",
            "performing k-medoid clustering with  103  clusters\n",
            "done4\n",
            "done5\n",
            "10\n",
            "done\n",
            "performing k-medoid clustering with  100  clusters\n",
            "done4\n",
            "done5\n",
            "11\n",
            "done\n",
            "performing k-medoid clustering with  87  clusters\n",
            "done4\n",
            "done5\n",
            "12\n",
            "done\n",
            "performing k-medoid clustering with  127  clusters\n",
            "done4\n",
            "done5\n",
            "13\n",
            "done\n",
            "performing k-medoid clustering with  110  clusters\n",
            "done4\n",
            "done5\n",
            "14\n",
            "done\n",
            "performing k-medoid clustering with  90  clusters\n",
            "done4\n",
            "done5\n",
            "15\n",
            "done\n",
            "performing k-medoid clustering with  99  clusters\n",
            "done4\n",
            "done5\n",
            "16\n",
            "done\n",
            "performing k-medoid clustering with  85  clusters\n",
            "done4\n",
            "done5\n",
            "17\n",
            "done\n",
            "performing k-medoid clustering with  112  clusters\n",
            "done4\n",
            "done5\n",
            "18\n",
            "done\n",
            "performing k-medoid clustering with  110  clusters\n",
            "done4\n",
            "done5\n",
            "19\n",
            "done\n",
            "performing k-medoid clustering with  116  clusters\n",
            "done4\n",
            "done5\n",
            "20\n",
            "done\n",
            "performing k-medoid clustering with  113  clusters\n",
            "done4\n",
            "done5\n",
            "21\n",
            "done\n",
            "performing k-medoid clustering with  121  clusters\n",
            "done4\n",
            "done5\n",
            "22\n",
            "done\n",
            "performing k-medoid clustering with  116  clusters\n",
            "done4\n",
            "done5\n",
            "23\n",
            "done\n",
            "performing k-medoid clustering with  100  clusters\n",
            "done4\n",
            "done5\n",
            "24\n",
            "done\n",
            "performing k-medoid clustering with  100  clusters\n",
            "done4\n",
            "done5\n",
            "25\n",
            "done\n",
            "performing k-medoid clustering with  106  clusters\n",
            "done4\n",
            "done5\n",
            "26\n",
            "done\n",
            "performing k-medoid clustering with  103  clusters\n",
            "done4\n",
            "done5\n",
            "27\n",
            "done\n",
            "performing k-medoid clustering with  91  clusters\n",
            "done4\n",
            "done5\n",
            "28\n",
            "done\n",
            "performing k-medoid clustering with  97  clusters\n",
            "done4\n",
            "done5\n",
            "29\n",
            "done\n",
            "performing k-medoid clustering with  97  clusters\n",
            "done4\n",
            "done5\n",
            "30\n",
            "done\n",
            "performing k-medoid clustering with  95  clusters\n",
            "done4\n",
            "done5\n",
            "31\n",
            "done\n",
            "performing k-medoid clustering with  89  clusters\n",
            "done4\n",
            "done5\n",
            "32\n",
            "done\n",
            "performing k-medoid clustering with  122  clusters\n",
            "done4\n",
            "done5\n",
            "33\n",
            "done\n",
            "performing k-medoid clustering with  132  clusters\n",
            "done4\n",
            "done5\n",
            "34\n",
            "done\n",
            "performing k-medoid clustering with  101  clusters\n",
            "done4\n",
            "done5\n",
            "35\n",
            "done\n",
            "performing k-medoid clustering with  109  clusters\n",
            "done4\n",
            "done5\n",
            "36\n",
            "done\n",
            "performing k-medoid clustering with  117  clusters\n",
            "done4\n",
            "done5\n",
            "37\n",
            "done\n",
            "performing k-medoid clustering with  109  clusters\n",
            "done4\n",
            "done5\n",
            "38\n",
            "done\n",
            "performing k-medoid clustering with  103  clusters\n",
            "done4\n",
            "done5\n",
            "39\n",
            "done\n",
            "performing k-medoid clustering with  103  clusters\n",
            "done4\n",
            "done5\n",
            "40\n",
            "done\n",
            "performing k-medoid clustering with  127  clusters\n",
            "done4\n",
            "done5\n",
            "41\n",
            "done\n",
            "performing k-medoid clustering with  102  clusters\n",
            "done4\n",
            "done5\n",
            "42\n",
            "done\n",
            "performing k-medoid clustering with  88  clusters\n",
            "done4\n",
            "done5\n",
            "43\n",
            "done\n",
            "performing k-medoid clustering with  122  clusters\n",
            "done4\n",
            "done5\n",
            "44\n",
            "done\n",
            "performing k-medoid clustering with  70  clusters\n",
            "done4\n",
            "done5\n",
            "45\n",
            "done\n",
            "performing k-medoid clustering with  118  clusters\n",
            "done4\n",
            "done5\n",
            "46\n",
            "done\n",
            "performing k-medoid clustering with  93  clusters\n",
            "done4\n",
            "done5\n",
            "47\n",
            "done\n",
            "performing k-medoid clustering with  124  clusters\n",
            "done4\n",
            "done5\n",
            "48\n",
            "done\n",
            "performing k-medoid clustering with  115  clusters\n",
            "done4\n",
            "done5\n",
            "49\n",
            "done\n",
            "performing k-medoid clustering with  129  clusters\n",
            "done4\n",
            "done5\n",
            "50\n",
            "done\n",
            "performing k-medoid clustering with  110  clusters\n",
            "done4\n",
            "done5\n",
            "51\n",
            "done\n",
            "performing k-medoid clustering with  122  clusters\n",
            "done4\n",
            "done5\n",
            "52\n",
            "done\n",
            "performing k-medoid clustering with  103  clusters\n",
            "done4\n",
            "done5\n",
            "53\n",
            "done\n",
            "performing k-medoid clustering with  94  clusters\n",
            "done4\n",
            "done5\n",
            "54\n",
            "done\n",
            "performing k-medoid clustering with  100  clusters\n",
            "done4\n",
            "done5\n",
            "55\n",
            "done\n",
            "performing k-medoid clustering with  94  clusters\n",
            "done4\n",
            "done5\n",
            "56\n",
            "done\n",
            "performing k-medoid clustering with  119  clusters\n",
            "done4\n",
            "done5\n",
            "57\n",
            "done\n",
            "performing k-medoid clustering with  100  clusters\n",
            "done4\n",
            "done5\n",
            "58\n",
            "done\n",
            "performing k-medoid clustering with  112  clusters\n",
            "done4\n",
            "done5\n",
            "59\n",
            "done\n",
            "performing k-medoid clustering with  80  clusters\n",
            "done4\n",
            "done5\n",
            "60\n",
            "done\n",
            "performing k-medoid clustering with  82  clusters\n",
            "done4\n",
            "done5\n",
            "61\n",
            "done\n",
            "performing k-medoid clustering with  96  clusters\n",
            "done4\n",
            "done5\n",
            "62\n",
            "done\n",
            "performing k-medoid clustering with  116  clusters\n",
            "done4\n",
            "done5\n",
            "63\n",
            "done\n",
            "performing k-medoid clustering with  82  clusters\n",
            "done4\n",
            "done5\n",
            "64\n",
            "done\n",
            "performing k-medoid clustering with  98  clusters\n",
            "done4\n",
            "done5\n",
            "65\n",
            "done\n",
            "performing k-medoid clustering with  95  clusters\n",
            "done4\n",
            "done5\n",
            "66\n",
            "done\n",
            "performing k-medoid clustering with  126  clusters\n",
            "done4\n",
            "done5\n",
            "67\n",
            "done\n",
            "performing k-medoid clustering with  112  clusters\n",
            "done4\n",
            "done5\n",
            "68\n",
            "done\n",
            "performing k-medoid clustering with  113  clusters\n",
            "done4\n",
            "done5\n",
            "69\n",
            "done\n",
            "performing k-medoid clustering with  101  clusters\n",
            "done4\n",
            "done5\n",
            "70\n",
            "done\n",
            "performing k-medoid clustering with  121  clusters\n",
            "done4\n",
            "done5\n",
            "71\n",
            "done\n",
            "performing k-medoid clustering with  105  clusters\n",
            "done4\n",
            "done5\n",
            "72\n",
            "done\n",
            "performing k-medoid clustering with  86  clusters\n",
            "done4\n",
            "done5\n",
            "73\n",
            "done\n",
            "performing k-medoid clustering with  124  clusters\n",
            "done4\n",
            "done5\n",
            "74\n",
            "done\n",
            "performing k-medoid clustering with  88  clusters\n",
            "done4\n",
            "done5\n",
            "75\n",
            "done\n",
            "performing k-medoid clustering with  92  clusters\n",
            "done4\n",
            "done5\n",
            "76\n",
            "done\n",
            "performing k-medoid clustering with  115  clusters\n",
            "done4\n",
            "done5\n",
            "77\n",
            "done\n",
            "performing k-medoid clustering with  99  clusters\n",
            "done4\n",
            "done5\n",
            "78\n",
            "done\n",
            "performing k-medoid clustering with  118  clusters\n",
            "done4\n",
            "done5\n",
            "79\n",
            "done\n",
            "performing k-medoid clustering with  92  clusters\n",
            "done4\n",
            "done5\n",
            "80\n",
            "done\n",
            "performing k-medoid clustering with  109  clusters\n",
            "done4\n",
            "done5\n",
            "81\n",
            "done\n",
            "performing k-medoid clustering with  128  clusters\n",
            "done4\n",
            "done5\n",
            "82\n",
            "done\n",
            "performing k-medoid clustering with  99  clusters\n",
            "done4\n",
            "done5\n",
            "83\n",
            "done\n",
            "performing k-medoid clustering with  103  clusters\n",
            "done4\n",
            "done5\n",
            "84\n",
            "done\n",
            "performing k-medoid clustering with  107  clusters\n",
            "done4\n",
            "done5\n",
            "85\n",
            "done\n",
            "performing k-medoid clustering with  133  clusters\n",
            "done4\n",
            "done5\n",
            "86\n",
            "done\n",
            "performing k-medoid clustering with  113  clusters\n",
            "done4\n",
            "done5\n",
            "87\n",
            "done\n",
            "performing k-medoid clustering with  75  clusters\n",
            "done4\n",
            "done5\n",
            "88\n",
            "done\n",
            "performing k-medoid clustering with  102  clusters\n",
            "done4\n",
            "done5\n",
            "89\n",
            "done\n",
            "performing k-medoid clustering with  74  clusters\n",
            "done4\n",
            "done5\n",
            "90\n",
            "done\n",
            "performing k-medoid clustering with  117  clusters\n",
            "done4\n",
            "done5\n",
            "91\n",
            "done\n",
            "performing k-medoid clustering with  104  clusters\n",
            "done4\n",
            "done5\n",
            "92\n",
            "done\n",
            "performing k-medoid clustering with  113  clusters\n",
            "done4\n",
            "done5\n",
            "93\n",
            "done\n",
            "performing k-medoid clustering with  122  clusters\n",
            "done4\n",
            "done5\n",
            "94\n",
            "done\n",
            "performing k-medoid clustering with  103  clusters\n",
            "done4\n",
            "done5\n",
            "95\n",
            "done\n",
            "performing k-medoid clustering with  103  clusters\n",
            "done4\n",
            "done5\n",
            "96\n",
            "done\n",
            "performing k-medoid clustering with  111  clusters\n",
            "done4\n",
            "done5\n",
            "97\n",
            "done\n",
            "performing k-medoid clustering with  114  clusters\n",
            "done4\n",
            "done5\n",
            "98\n",
            "done\n",
            "performing k-medoid clustering with  114  clusters\n",
            "done4\n",
            "done5\n",
            "99\n",
            "done\n",
            "performing k-medoid clustering with  118  clusters\n",
            "done4\n",
            "done5\n",
            "100\n",
            "done\n",
            "performing k-medoid clustering with  110  clusters\n",
            "done4\n",
            "done5\n",
            "101\n",
            "done\n",
            "performing k-medoid clustering with  94  clusters\n",
            "done4\n",
            "done5\n",
            "102\n",
            "done\n",
            "performing k-medoid clustering with  112  clusters\n",
            "done4\n",
            "done5\n",
            "103\n",
            "done\n",
            "performing k-medoid clustering with  121  clusters\n",
            "done4\n",
            "done5\n",
            "104\n",
            "done\n",
            "performing k-medoid clustering with  122  clusters\n",
            "done4\n",
            "done5\n",
            "105\n",
            "done\n",
            "performing k-medoid clustering with  124  clusters\n",
            "done4\n",
            "done5\n",
            "106\n",
            "done\n",
            "performing k-medoid clustering with  94  clusters\n",
            "done4\n",
            "done5\n",
            "107\n",
            "done\n",
            "performing k-medoid clustering with  103  clusters\n",
            "done4\n",
            "done5\n",
            "108\n",
            "done\n",
            "performing k-medoid clustering with  110  clusters\n",
            "done4\n",
            "done5\n",
            "109\n",
            "done\n",
            "performing k-medoid clustering with  106  clusters\n",
            "done4\n",
            "done5\n",
            "110\n",
            "done\n",
            "performing k-medoid clustering with  120  clusters\n",
            "done4\n",
            "done5\n",
            "111\n",
            "done\n",
            "performing k-medoid clustering with  95  clusters\n",
            "done4\n",
            "done5\n",
            "112\n",
            "done\n",
            "performing k-medoid clustering with  134  clusters\n",
            "done4\n",
            "done5\n",
            "113\n",
            "done\n",
            "performing k-medoid clustering with  117  clusters\n",
            "done4\n",
            "done5\n",
            "114\n",
            "done\n",
            "performing k-medoid clustering with  115  clusters\n",
            "done4\n",
            "done5\n",
            "115\n",
            "done\n",
            "performing k-medoid clustering with  121  clusters\n",
            "done4\n",
            "done5\n",
            "116\n",
            "done\n",
            "performing k-medoid clustering with  124  clusters\n",
            "done4\n",
            "done5\n",
            "117\n",
            "done\n",
            "performing k-medoid clustering with  99  clusters\n",
            "done4\n",
            "done5\n",
            "118\n",
            "done\n",
            "performing k-medoid clustering with  117  clusters\n",
            "done4\n",
            "done5\n",
            "119\n",
            "done\n",
            "performing k-medoid clustering with  82  clusters\n",
            "done4\n",
            "done5\n",
            "120\n",
            "done\n",
            "performing k-medoid clustering with  122  clusters\n",
            "done4\n",
            "done5\n",
            "121\n",
            "done\n",
            "performing k-medoid clustering with  124  clusters\n",
            "done4\n",
            "done5\n",
            "122\n",
            "done\n",
            "performing k-medoid clustering with  91  clusters\n",
            "done4\n",
            "done5\n",
            "123\n",
            "done\n",
            "performing k-medoid clustering with  121  clusters\n",
            "done4\n",
            "done5\n",
            "124\n",
            "done\n",
            "performing k-medoid clustering with  94  clusters\n",
            "done4\n",
            "done5\n",
            "125\n",
            "done\n",
            "performing k-medoid clustering with  79  clusters\n",
            "done4\n",
            "done5\n",
            "126\n",
            "done\n",
            "performing k-medoid clustering with  104  clusters\n",
            "done4\n",
            "done5\n",
            "127\n",
            "done\n",
            "performing k-medoid clustering with  92  clusters\n",
            "done4\n",
            "done5\n",
            "128\n",
            "done\n",
            "performing k-medoid clustering with  116  clusters\n",
            "done4\n",
            "done5\n",
            "129\n",
            "done\n",
            "performing k-medoid clustering with  87  clusters\n",
            "done4\n",
            "done5\n",
            "130\n",
            "done\n",
            "performing k-medoid clustering with  105  clusters\n",
            "done4\n",
            "done5\n",
            "131\n",
            "done\n",
            "performing k-medoid clustering with  91  clusters\n",
            "done4\n",
            "done5\n",
            "132\n",
            "done\n",
            "performing k-medoid clustering with  95  clusters\n",
            "done4\n",
            "done5\n",
            "133\n",
            "done\n",
            "performing k-medoid clustering with  92  clusters\n",
            "done4\n",
            "done5\n",
            "134\n",
            "done\n",
            "performing k-medoid clustering with  110  clusters\n",
            "done4\n",
            "done5\n",
            "135\n",
            "done\n",
            "performing k-medoid clustering with  89  clusters\n",
            "done4\n",
            "done5\n",
            "136\n",
            "done\n",
            "performing k-medoid clustering with  103  clusters\n",
            "done4\n",
            "done5\n",
            "137\n",
            "done\n",
            "performing k-medoid clustering with  97  clusters\n",
            "done4\n",
            "done5\n",
            "138\n",
            "done\n",
            "performing k-medoid clustering with  114  clusters\n",
            "done4\n",
            "done5\n",
            "139\n",
            "done\n",
            "performing k-medoid clustering with  99  clusters\n",
            "done4\n",
            "done5\n",
            "140\n",
            "done\n",
            "performing k-medoid clustering with  105  clusters\n",
            "done4\n",
            "done5\n",
            "141\n",
            "done\n",
            "performing k-medoid clustering with  120  clusters\n",
            "done4\n",
            "done5\n",
            "142\n",
            "done\n",
            "performing k-medoid clustering with  95  clusters\n",
            "done4\n",
            "done5\n",
            "143\n",
            "done\n",
            "performing k-medoid clustering with  106  clusters\n",
            "done4\n",
            "done5\n",
            "144\n",
            "done\n",
            "performing k-medoid clustering with  82  clusters\n",
            "done4\n",
            "done5\n",
            "145\n",
            "done\n",
            "performing k-medoid clustering with  124  clusters\n",
            "done4\n",
            "done5\n",
            "146\n",
            "done\n",
            "performing k-medoid clustering with  89  clusters\n",
            "done4\n",
            "done5\n",
            "147\n",
            "done\n",
            "performing k-medoid clustering with  95  clusters\n",
            "done4\n",
            "done5\n",
            "148\n",
            "done\n",
            "performing k-medoid clustering with  112  clusters\n",
            "done4\n",
            "done5\n",
            "149\n",
            "done\n",
            "performing k-medoid clustering with  124  clusters\n",
            "done4\n",
            "done5\n",
            "150\n",
            "done\n",
            "performing k-medoid clustering with  128  clusters\n",
            "done4\n",
            "done5\n",
            "151\n",
            "done\n",
            "performing k-medoid clustering with  107  clusters\n",
            "done4\n",
            "done5\n",
            "152\n",
            "done\n",
            "performing k-medoid clustering with  106  clusters\n",
            "done4\n",
            "done5\n",
            "153\n",
            "done\n",
            "performing k-medoid clustering with  101  clusters\n",
            "done4\n",
            "done5\n",
            "154\n",
            "done\n",
            "performing k-medoid clustering with  110  clusters\n",
            "done4\n",
            "done5\n",
            "155\n",
            "done\n",
            "performing k-medoid clustering with  101  clusters\n",
            "done4\n",
            "done5\n",
            "156\n",
            "done\n",
            "performing k-medoid clustering with  129  clusters\n",
            "done4\n",
            "done5\n",
            "157\n",
            "done\n",
            "performing k-medoid clustering with  122  clusters\n",
            "done4\n",
            "done5\n",
            "158\n",
            "done\n",
            "performing k-medoid clustering with  109  clusters\n",
            "done4\n",
            "done5\n",
            "159\n",
            "done\n",
            "performing k-medoid clustering with  94  clusters\n",
            "done4\n",
            "done5\n",
            "160\n",
            "done\n",
            "performing k-medoid clustering with  117  clusters\n",
            "done4\n",
            "done5\n",
            "161\n",
            "done\n",
            "performing k-medoid clustering with  117  clusters\n",
            "done4\n",
            "done5\n",
            "162\n",
            "done\n",
            "performing k-medoid clustering with  106  clusters\n",
            "done4\n",
            "done5\n",
            "163\n",
            "done\n",
            "performing k-medoid clustering with  98  clusters\n",
            "done4\n",
            "done5\n",
            "164\n",
            "done\n",
            "performing k-medoid clustering with  103  clusters\n",
            "done4\n",
            "done5\n",
            "165\n",
            "done\n",
            "performing k-medoid clustering with  116  clusters\n",
            "done4\n",
            "done5\n",
            "166\n",
            "done\n",
            "performing k-medoid clustering with  92  clusters\n",
            "done4\n",
            "done5\n",
            "167\n",
            "done\n",
            "performing k-medoid clustering with  97  clusters\n",
            "done4\n",
            "done5\n",
            "168\n",
            "done\n",
            "performing k-medoid clustering with  91  clusters\n",
            "done4\n",
            "done5\n",
            "169\n",
            "done\n",
            "performing k-medoid clustering with  105  clusters\n",
            "done4\n",
            "done5\n",
            "170\n",
            "done\n",
            "performing k-medoid clustering with  114  clusters\n",
            "done4\n",
            "done5\n",
            "171\n",
            "done\n",
            "performing k-medoid clustering with  102  clusters\n",
            "done4\n",
            "done5\n",
            "172\n",
            "done\n",
            "performing k-medoid clustering with  104  clusters\n",
            "done4\n",
            "done5\n",
            "173\n",
            "done\n",
            "performing k-medoid clustering with  101  clusters\n",
            "done4\n",
            "done5\n",
            "174\n",
            "done\n",
            "performing k-medoid clustering with  85  clusters\n",
            "done4\n",
            "done5\n",
            "175\n",
            "done\n",
            "performing k-medoid clustering with  132  clusters\n",
            "done4\n",
            "done5\n",
            "176\n",
            "done\n",
            "performing k-medoid clustering with  128  clusters\n",
            "done4\n",
            "done5\n",
            "177\n",
            "done\n",
            "performing k-medoid clustering with  149  clusters\n",
            "done4\n",
            "done5\n",
            "178\n",
            "done\n",
            "performing k-medoid clustering with  110  clusters\n",
            "done4\n",
            "done5\n",
            "179\n",
            "done\n",
            "performing k-medoid clustering with  121  clusters\n",
            "done4\n",
            "done5\n",
            "180\n",
            "done\n",
            "performing k-medoid clustering with  97  clusters\n",
            "done4\n",
            "done5\n",
            "181\n",
            "done\n",
            "performing k-medoid clustering with  127  clusters\n",
            "done4\n",
            "done5\n",
            "182\n",
            "done\n",
            "performing k-medoid clustering with  100  clusters\n",
            "done4\n",
            "done5\n",
            "183\n",
            "done\n",
            "performing k-medoid clustering with  106  clusters\n",
            "done4\n",
            "done5\n",
            "184\n",
            "done\n",
            "performing k-medoid clustering with  92  clusters\n",
            "done4\n",
            "done5\n",
            "185\n",
            "done\n",
            "performing k-medoid clustering with  80  clusters\n",
            "done4\n",
            "done5\n",
            "186\n",
            "done\n",
            "performing k-medoid clustering with  115  clusters\n",
            "done4\n",
            "done5\n",
            "187\n",
            "done\n",
            "performing k-medoid clustering with  115  clusters\n",
            "done4\n",
            "done5\n",
            "188\n",
            "done\n",
            "performing k-medoid clustering with  95  clusters\n",
            "done4\n",
            "done5\n",
            "189\n",
            "done\n",
            "performing k-medoid clustering with  120  clusters\n",
            "done4\n",
            "done5\n",
            "190\n",
            "done\n",
            "performing k-medoid clustering with  80  clusters\n",
            "done4\n",
            "done5\n",
            "191\n",
            "done\n",
            "performing k-medoid clustering with  97  clusters\n",
            "done4\n",
            "done5\n",
            "192\n",
            "done\n",
            "performing k-medoid clustering with  110  clusters\n",
            "done4\n",
            "done5\n",
            "193\n",
            "done\n",
            "performing k-medoid clustering with  157  clusters\n",
            "done4\n",
            "done5\n",
            "194\n",
            "done\n",
            "performing k-medoid clustering with  79  clusters\n",
            "done4\n",
            "done5\n",
            "195\n",
            "done\n",
            "performing k-medoid clustering with  124  clusters\n",
            "done4\n",
            "done5\n",
            "196\n",
            "done\n",
            "performing k-medoid clustering with  97  clusters\n",
            "done4\n",
            "done5\n",
            "197\n",
            "done\n",
            "performing k-medoid clustering with  106  clusters\n",
            "done4\n",
            "done5\n",
            "198\n",
            "done\n",
            "performing k-medoid clustering with  103  clusters\n",
            "done4\n",
            "done5\n",
            "199\n",
            "done\n",
            "performing k-medoid clustering with  136  clusters\n",
            "done4\n",
            "done5\n",
            "CPU times: user 8min 33s, sys: 4min 21s, total: 12min 55s\n",
            "Wall time: 7min 49s\n"
          ],
          "name": "stdout"
        },
        {
          "output_type": "stream",
          "text": [
            "/usr/local/lib/python3.7/dist-packages/ipykernel_launcher.py:1: SettingWithCopyWarning: \n",
            "A value is trying to be set on a copy of a slice from a DataFrame.\n",
            "Try using .loc[row_indexer,col_indexer] = value instead\n",
            "\n",
            "See the caveats in the documentation: https://pandas.pydata.org/pandas-docs/stable/user_guide/indexing.html#returning-a-view-versus-a-copy\n",
            "  \"\"\"Entry point for launching an IPython kernel.\n"
          ],
          "name": "stderr"
        }
      ]
    },
    {
      "cell_type": "code",
      "metadata": {
        "colab": {
          "base_uri": "https://localhost:8080/"
        },
        "id": "nfgQz8MpDmp0",
        "outputId": "0a73dd9e-e279-4d26-80a5-0f235400e620"
      },
      "source": [
        "xx.columns"
      ],
      "execution_count": 25,
      "outputs": [
        {
          "output_type": "execute_result",
          "data": {
            "text/plain": [
              "Index(['articles', 'abstract', 'extractivecombo'], dtype='object')"
            ]
          },
          "metadata": {
            "tags": []
          },
          "execution_count": 25
        }
      ]
    },
    {
      "cell_type": "code",
      "metadata": {
        "id": "23R-921pD2XB"
      },
      "source": [
        "xy=xy.reset_index(drop=True)"
      ],
      "execution_count": 30,
      "outputs": []
    },
    {
      "cell_type": "code",
      "metadata": {
        "colab": {
          "base_uri": "https://localhost:8080/"
        },
        "id": "1jfbCna3ENeK",
        "outputId": "94f10456-41b9-494f-c13c-acbfdfb49d93"
      },
      "source": [
        "xy.shape"
      ],
      "execution_count": 31,
      "outputs": [
        {
          "output_type": "execute_result",
          "data": {
            "text/plain": [
              "(4716, 3)"
            ]
          },
          "metadata": {
            "tags": []
          },
          "execution_count": 31
        }
      ]
    },
    {
      "cell_type": "code",
      "metadata": {
        "colab": {
          "base_uri": "https://localhost:8080/"
        },
        "id": "0Ttu0F1gEdzq",
        "outputId": "6958c62e-87c1-4f01-d482-74ddd0e80505"
      },
      "source": [
        "xy.isnull().sum()"
      ],
      "execution_count": 34,
      "outputs": [
        {
          "output_type": "execute_result",
          "data": {
            "text/plain": [
              "articles         0\n",
              "abstract         0\n",
              "extractedsumm    0\n",
              "dtype: int64"
            ]
          },
          "metadata": {
            "tags": []
          },
          "execution_count": 34
        }
      ]
    },
    {
      "cell_type": "code",
      "metadata": {
        "id": "lgscyp6uEQ_g"
      },
      "source": [
        "test1=xy[0:100]"
      ],
      "execution_count": 32,
      "outputs": []
    },
    {
      "cell_type": "code",
      "metadata": {
        "id": "FM_JF7kkEEIX"
      },
      "source": [
        "from datasets import Dataset\n",
        "test1 = Dataset.from_pandas(test1)\n",
        "#val = Dataset.from_pandas(val)"
      ],
      "execution_count": 33,
      "outputs": []
    },
    {
      "cell_type": "code",
      "metadata": {
        "colab": {
          "base_uri": "https://localhost:8080/"
        },
        "id": "5hzR5nb5EkCL",
        "outputId": "3c914e90-e605-43a5-ef0d-c72b3544a5d9"
      },
      "source": [
        "test1"
      ],
      "execution_count": 35,
      "outputs": [
        {
          "output_type": "execute_result",
          "data": {
            "text/plain": [
              "Dataset({\n",
              "    features: ['articles', 'abstract', 'extractedsumm'],\n",
              "    num_rows: 100\n",
              "})"
            ]
          },
          "metadata": {
            "tags": []
          },
          "execution_count": 35
        }
      ]
    },
    {
      "cell_type": "code",
      "metadata": {
        "colab": {
          "base_uri": "https://localhost:8080/"
        },
        "id": "NBLKkS-grr5P",
        "outputId": "da5ac127-e6a2-4624-baf5-61d55791d7c6"
      },
      "source": [
        "xx.columns"
      ],
      "execution_count": 33,
      "outputs": [
        {
          "output_type": "execute_result",
          "data": {
            "text/plain": [
              "Index(['articles', 'abstract', 'extractivecombo', 'ct'], dtype='object')"
            ]
          },
          "metadata": {
            "tags": []
          },
          "execution_count": 33
        }
      ]
    },
    {
      "cell_type": "code",
      "metadata": {
        "id": "aCggVgCgscfs"
      },
      "source": [
        "from datasets import Dataset\n",
        "xx= Dataset.from_pandas(xx)\n",
        "#val = Dataset.from_pandas(val)"
      ],
      "execution_count": 36,
      "outputs": []
    },
    {
      "cell_type": "code",
      "metadata": {
        "colab": {
          "base_uri": "https://localhost:8080/"
        },
        "id": "ZjPGkZpZs2nQ",
        "outputId": "7d89c087-e7fd-4955-a168-6ef58a00a9e0"
      },
      "source": [
        "xx"
      ],
      "execution_count": 42,
      "outputs": [
        {
          "output_type": "execute_result",
          "data": {
            "text/plain": [
              "Dataset({\n",
              "    features: ['articles', 'abstract', 'extractivecombo', 'ct', '__index_level_0__'],\n",
              "    num_rows: 199\n",
              "})"
            ]
          },
          "metadata": {
            "tags": []
          },
          "execution_count": 42
        }
      ]
    },
    {
      "cell_type": "code",
      "metadata": {
        "colab": {
          "base_uri": "https://localhost:8080/"
        },
        "id": "uINlZnTT6QQB",
        "outputId": "eb280bbc-a8b3-49f8-82f0-4b7dbd7bd775"
      },
      "source": [
        "% cd drive/My\\ Drive/"
      ],
      "execution_count": 31,
      "outputs": [
        {
          "output_type": "stream",
          "text": [
            "/content/drive/My Drive\n"
          ],
          "name": "stdout"
        }
      ]
    },
    {
      "cell_type": "code",
      "metadata": {
        "id": "X_CNJZJV6NZx"
      },
      "source": [
        "DATASET_NAME = \"pubmed\"\n",
        "device = \"cuda\"\n",
        "\n",
        "#MODEL_ID = f\"google/bigbird-pegasus-large-{DATASET_NAME}\"\n",
        "MODEL_ID = f\"model_C\"\n",
        "from transformers import AutoTokenizer, AutoModelForMaskedLM\n",
        "  \n",
        "\n",
        "from transformers import EncoderDecoderModel, BigBirdModel, BigBirdForCausalLM, BigBirdTokenizer\n",
        "from transformers import Seq2SeqTrainingArguments, Seq2SeqTrainer\n",
        "#from transformers import PegasusTokenizer, BigBirdPegasusModel\n",
        "from transformers import BigBirdPegasusForConditionalGeneration, AutoTokenizer\n",
        "import torch\n",
        "model = BigBirdPegasusForConditionalGeneration.from_pretrained(MODEL_ID, gradient_checkpointing=True, use_cache=False).to(device)\n",
        "tokenizer = AutoTokenizer.from_pretrained(\"google/bigbird-pegasus-large-pubmed\",use_fast=False)\n",
        "#tokenizer = AutoTokenizer.from_pretrained(\"deepset/covid_bert_base\")"
      ],
      "execution_count": 37,
      "outputs": []
    },
    {
      "cell_type": "code",
      "metadata": {
        "id": "oj9FTRiB6NcW"
      },
      "source": [
        ""
      ],
      "execution_count": null,
      "outputs": []
    },
    {
      "cell_type": "code",
      "metadata": {
        "id": "5SIVGOX6NWfG"
      },
      "source": [
        "def generate_answer(batch):\n",
        "    inputs_dict = tokenizer(batch[\"extractivecombo\"], padding=\"max_length\", max_length=4096, return_tensors=\"pt\", truncation=True)\n",
        "    inputs_dict = {k: inputs_dict[k].to(device) for k in inputs_dict}\n",
        "    predicted_abstract_ids = model.generate(**inputs_dict, max_length=256, num_beams=5, length_penalty=0.8)\n",
        "    batch[\"predicted_abstract\"] = tokenizer.decode(predicted_abstract_ids[0], skip_special_tokens=True)\n",
        "    print(batch[\"predicted_abstract\"])\n",
        "    return batch"
      ],
      "execution_count": 40,
      "outputs": []
    },
    {
      "cell_type": "code",
      "metadata": {
        "colab": {
          "base_uri": "https://localhost:8080/",
          "height": 67,
          "referenced_widgets": [
            "fe254d60e81f483a87175beb20e5f7f8",
            "93dfc2f76780406087f65be08a318551",
            "c7cfe83b735f403c9a75980c23d31db3",
            "6cb85d0b4be54cbdac746532e3deda13",
            "33252a69c1de4f98bb58c4b369ccdb3a",
            "b134140d71284ef08c6b57559f73ba4c",
            "7e5c6ab31a0748c49524aec21f79b851",
            "f2e61a22dbe94d6aa255adfc34db1dd9"
          ]
        },
        "id": "w2krpbyaFQPi",
        "outputId": "100ac07f-7c79-49ac-b7eb-0400ad558924"
      },
      "source": [
        "from datasets import load_dataset, load_metric\n",
        "rouge = load_metric(\"rouge\")"
      ],
      "execution_count": 41,
      "outputs": [
        {
          "output_type": "display_data",
          "data": {
            "application/vnd.jupyter.widget-view+json": {
              "model_id": "fe254d60e81f483a87175beb20e5f7f8",
              "version_minor": 0,
              "version_major": 2
            },
            "text/plain": [
              "HBox(children=(FloatProgress(value=0.0, description='Downloading', max=2170.0, style=ProgressStyle(description…"
            ]
          },
          "metadata": {
            "tags": []
          }
        },
        {
          "output_type": "stream",
          "text": [
            "\n"
          ],
          "name": "stdout"
        }
      ]
    },
    {
      "cell_type": "code",
      "metadata": {
        "colab": {
          "base_uri": "https://localhost:8080/",
          "height": 1000,
          "referenced_widgets": [
            "a2e2f2293eef418990c731e24d66b0dc",
            "2ee71a4e938b44188e67ce79fd9e23d9",
            "ae264ed2c2464ec098d846334d180ef3",
            "847760a09deb45aaa73955b9644477d8",
            "e13f850dd12e4dc2a04ab2272d42f00e",
            "6d5dcef4e78e4b3798a2d001d0eabe57",
            "6e42a7336dbf45f8b46a9c4d686b3489",
            "ba6b1aaffa8a4fd68cc1ba41c3e1b2bd"
          ]
        },
        "id": "K64o8OZSFVLq",
        "outputId": "215e5f5c-2da9-4a2f-f602-cb1765879e6e"
      },
      "source": [
        "dataset_small = xx.select(range(100))\n",
        "result_small = dataset_small.map(generate_answer)\n",
        "\n",
        "rouge.compute(predictions=result_small[\"predicted_abstract\"], references=result_small[\"abstract\"])"
      ],
      "execution_count": 43,
      "outputs": [
        {
          "output_type": "display_data",
          "data": {
            "application/vnd.jupyter.widget-view+json": {
              "model_id": "a2e2f2293eef418990c731e24d66b0dc",
              "version_minor": 0,
              "version_major": 2
            },
            "text/plain": [
              "HBox(children=(FloatProgress(value=0.0), HTML(value='')))"
            ]
          },
          "metadata": {
            "tags": []
          }
        },
        {
          "output_type": "stream",
          "text": [
            "Abstract The importance of childhood community acquired pneumonia can not be emphasized enough. In the early nineties, over 25% of the annual deaths of children in developing countries before the fifth birthday were attributable to pneumonia. In the mid nineties, over 25% of the annual deaths of children in developing countries before the fifth birthday were attributable to pneumonia. In the early nineties, over 25% of the annual deaths of children in developing countries before the fifth birthday was attributable to pneumonia. In the mid nineties, over 25% of the annual deaths of children in developing countries before the fifth birthday was attributable to pneumonia. In the early nineties, over 25% of the annual deaths of children in developing countries before the fifth birthday was attributable to pneumonia. In the early nineties, over 25% of the annual deaths of children in developing countries before the fifth birthday was attributable to pneumonia. In the mid nineties, over 25% of the annual deaths of children in developing countries before the fifth birthday was attributable to pneumonia. In the early nineties, over 25% of the annual deaths of children in developing countries before the fifth birthday was attributable to pneumonia.\n",
            "Abstract The 5 terminal unique region of avian coronavirus infectious bronchitis virus encodes two polyproteins, 1a and 1b, which are cleaved by two viral proteinases to produce functional products associated with viral replication. In this study, two relatively stable intermediate cleavage products with molecular masses of approximately 160 and 132 were identified in virus infected cells. In addition, two stable intermediate cleavage products of 160 and 132 coexisted with their final cleavage products during the viral replication cycle. The results suggest that the 160 protein may be a relatively stable intermediate cleavage product, and the 132 protein may be a relatively stable intermediate cleavage product, coexisting with the 100 mature cleavage product during the viral replication cycle. In addition, the 39 and 35 proteins displayed a diffuse distribution pattern in virus infected cells and in cells overexpressing the proteins. The distribution pattern of the 39 and 35 proteins may be associated with the membranes of the endoplasmic reticulum, while the distribution pattern of the 100 protein may be associated with the membranes of the endoplasmic reticulum.\n",
            "Abstract In this study, we compared the immunologic properties of recombinant tumor specific immunoglobulins produced in insect cells and mammalian cells for their interactions with human tumor antigens, and their in vivo potency against murine cell lymphomas. The recombinant insect cell derived tumor specific immunoglobulins were produced by cloning the tumor heavy and light chain variable region of a tumor myeloma cell hybridoma into a baculovirus vector. The recombinant insect cell derived tumor specific immunoglobulins were then conjugated to human tumor antigen via a maleimide based method. The recombinant insect cell derived tumor specific immunoglobulins elicited significantly higher levels of tumor eradication and tumor specific antibodies than their mammalian counterparts, with an associated improvement in the frequency of tumor eradication. In addition, the recombinant insect cell derived tumor specific immunoglobulins elicited significantly higher levels of tumor specific cytotoxic lymphocyte activity than their mammalian counterparts, with an associated improvement in the frequency of tumor eradication. In addition, the recombinant insect cell derived tumor specific immunoglobulins elicited significantly higher levels of tumor specific lymphocyte activity than their mammalian counterparts, with an associated improvement in the frequency of tumor eradication.\n",
            "Abstract The expression of immunoglobulin type lectins is ubiquitous on the cell surface of all eukaryotic cells, and these lectins play critical roles in host defense and host pathogen interactions. In this review, we discuss the recent advances in understanding the role of these lectins in host pathogen interactions.\n",
            "Abstract The detection of intra segmental homologous recombination in influenza is still legitimate, since evidence of homologous recombination has been found in other segmented negative strandV viruses. The goal of this study is to address whether there is evidence of intra segmental homologous recombination in these strains that have undergone multiple reassortment events, and when homologous recombination did occur, whether we can effectively detect the recombinant sequences. The findings suggest that intra segmental homologous recombination in influenza tends to occur between closely related strains.\n",
            "Abstract The recent outbreak of an atypical pneumonia severe acute respiratory syndrome has been associated with a newly identified coronavirus termed I coronavirus. The spike glycoprotein of this virus contains a hydrophobic fusion peptide that is posttranslationally cleaved into two polypeptides. In addition to providing insights into fusion activating conformational changes in SARS2, determining the structural basis for interactions between the I regions could assist antiV drug development efforts. In this report, we have applied a protein dissection approach to identify and study two isolated I domains and two IV complexes from I coronavirusV2. The structures and relative stabilities of the isolated I domains and the two IV complexes presented here suggest a plausible mechanism for achieving the controlled activation of I2. The conserved peptide region within the I37 coiled coil dimer, which contains two distinct helical domains, forms a four helix bundle. The four helix bundle plays a role in bringing the attached target and viral membranes into proximity, probably prior to formation of the still more stable six helix bundle. This observation suggests that the highly conserved, large pockets in the I37 coiled coil dimer that accommodate conserved peptide residues may be attractive targets for the development of new peptidomimetic or small molecular drugs.\n",
            "Abstract The nucleocytoplasmic trafficking of cellular proteins is subject to regulation by post translational modifications such as phosphorylation, ubiquitination and ubiquitination. In addition, the nucleocytoplasmic trafficking of many viral proteins is also subject to regulation by post translational modifications such as phosphorylation, ubiquitination and ubiquitination. In this review, we will summarise our current knowledge on the regulation of nucleocytoplasmic trafficking of cellular proteins by ubiquitination and small ubiquitin related modifiers, and give a few examples of how these pathways are exploited by viruses.\n",
            "Abstract The aim of this study was to compare the immunogenicity of two recombinant plasmids encoding the human cytomegalovirus lysosome associated membrane protein 1, and to compare the immunogenicity of these two plasmids in rhesus macaques. The plasmid encoding the human cytomegalovirus lysosome associated membrane protein 1, and the plasmid encoding the human cytomegalovirus lysosome associated membrane protein 1, were inserted into the same plasmid backbone. The plasmid encoding the human cytomegalovirus lysosome associated membrane protein 1, and the plasmid encoding the human cytomegalovirus lysosome associated membrane protein 1, were inserted into the same plasmid backbone. The plasmid encoding the human cytomegalovirus lysosome associated membrane protein 1, and the plasmid encoding the human cytomegalovirus lysosome associated membrane protein 1, were inserted into the same plasmid backbone. The plasmid encoding the human cytomegalovirus lysosome associated membrane protein 1, and the plasmid encoding the human cytomegalovirus lysosome associated membrane protein 1, were inserted into the same plasmid backbone. The plasmid encoding the human cytomegalovirus lysosome associated\n",
            "Abstract The aim of this study was to determine the prevalence of four viral pathogens of concern and one protozoal pathogen of interest in wild dog populations across much of their range. In addition, we sought to understand whether largescale land use management characteristics, associated with varying probabilities of contact with domestic dogs, influenced infectious disease exposure in wild dogs. In total, 154 blood samples from 268 individual wild dogs from 16 sites across five countries were tested for the presence of four viral pathogens of concern and one protozoal pathogen of interest in wild dog populations across much of their range. The results showed that most wild dog populations are in contact with rabies virus and canine distemper virus, yet most have persisted over time. In contrast, exposure to parvovirus was highest in wild dogs from unprotected areas, while rabies virus and coronavirus exposure was highest in wild dogs from unprotected areas. We also found no evidence of exposure to rabies virus or parvovirus in wild dogs from protected unfenced areas, suggesting that domestic dogs may play an important role in transmission of these pathogens to wild dogs.\n",
            "Abstract The aim of this review is to provide a brief overview of the current state of the art of vaccine technologies for the development of vaccines against infectious diseases in animals. In particular, we will focus on the use of attenuated virus vaccines for the prevention and treatment of several viral diseases in animals, such as respiratory syncytial virus, foot and mouth disease virus, and severe acute respiratory syndrome.\n",
            "Abstract The regulation of coronaviral poly tail length is not host cell specific and is not associated with the pathogenesis of coronavirus infection. In this study, the regulation of coronaviral poly tail length was examined in primary cells infected with a virulent strain of avian coronavirus and in tracheas of chickens infected with the avirulent strain of avian coronavirus. The poly tail length of the avirulent strain of avian coronavirus was significantly shorter than that of the virulent strain of avian coronavirus. In tracheas of chickens infected with the avirulent strain of avian coronavirus, the poly tail length of the avirulent strain of avian coronavirus was significantly shorter than that of the virulent strain of avian coronavirus. In addition, the poly tail length of the avirulent strain of avian coronavirus was significantly shorter than that of the virulent strain of avian coronavirus. In conclusion, the regulation of coronaviral poly tail length is not host cell specific and is not associated with the pathogenesis of coronavirus infection.\n",
            "Abstract We report on the antiviral properties of a cationically modified chitosan derivative, 3 trimethylammonium chitosan chloride, and its hydrophobically modified derivative, 3 trimethylammonium chitosan chloride, against human coronavirusV63 and murine hepatitis virus. In the presence of the tested polymers there is a significant decrease in the number of viral copies produced during infection, proving their effectiveness also in this semi natural setting. In the presence of the tested polymers the minimal inhibitory concentration value was relatively low, amounting to 10 for IV and 50 for IV. The inhibitory activity of the polymers against murine hepatitis virus was found to be comparable to that of the non modified oligochitosan.\n",
            "Abstract The ribosomal frameshifting signal of the influenza virus was tested in vitro and in vivo for the first time. The efficiency of frameshifting was found to depend on the formation of a pseudoknot at the end of the translational reading frame. The pseudoknot is predicted to form a double helical structure consisting of two stem structures, one formed by a stretch of nucleotides upstream of the slippery sequence, and the other formed by a stretch of nucleotides downstream of the slippery sequence. We propose that the formation of a pseudoknot is an essential element of the frameshifting signal, although its precise organization remains to be elucidated.\n",
            "Abstract The aim of this study was to assess the efficacy of an anti viral drug to stop the excretion of feline coronavirus in the faeces of naturally infected cats. The study was carried out in a cattery which had experienced an outbreak of feline coronavirus. The cattery owner discovered she could reduce coronavirus shedding in some cats using faecesian, which is a novel synthetic adenosine analogue, exhibiting broad spectrum activity against feline coronavirus. The study was carried out to assess the efficacy of this anti viral drug for stopping the excretion of feline coronavirus in the faeces of naturally infected cats. The study was carried out in a cattery which had experienced an outbreak of feline coronavirus. The cattery owner discovered she could reduce coronavirus shedding in some cats using faecesian, which is a novel synthetic adenosine analogue, exhibiting broad spectrum activity against feline coronavirus. The study was carried out in a cattery which had experienced an outbreak of feline coronavirus. The cattery owner discovered she could reduce coronavirus shedding in some cats using faecesian, which is a novel synthetic adenosine analogue, exhibiting broad spectrum activity against feline coronavirus. The study was carried out in a cattery which had experienced an outbreak of feline coronavirus\n",
            "Abstract We discuss the role of viral respiratory infections in the expression of asthma in early life and how they contribute to asthma exacerbations.\n",
            "Abstract The ability of recombinant adeno associated viruses to induce humoral immune responses in vivo has attracted increasing interest as a potential vaccine platform. In this study, we demonstrate that intradermal immunization with a single stranded adeno associated virus vector leads to potent induction of both humoral and cellular immune responses in the skin. In contrast to intramuscular immunization, intradermal immunization with a single stranded adeno associated virus vector led to potent induction of both humoral and cellular immune responses in the skin. In contrast to intramuscular immunization, intradermal immunization with a single stranded adeno associated virus vector led to potent induction of both humoral and cellular immune responses in the skin. In contrast to intramuscular immunization, intradermal immunization with a single stranded adeno associated virus vector led to potent induction of both humoral and cellular immune responses in the skin. In contrast to intramuscular immunization, intradermal immunization with a single stranded adeno associated virus vector led to potent induction of both humoral and cellular immune responses in the skin. In contrast to intramuscular immunization, intradermal immunization with a single stranded adeno associated virus vector led to potent induction of both humoral and cellular immune responses in the skin. In conclusion, intradermal immunization with a single stranded adeno associated virus vector leads to potent\n",
            "Abstract The purpose of this study was to determine the effects of pneumonia, diarrhea, umbilical infection, umbilical hernia, and postcolostral serum on the growth rate of female dairy calves during the s, 2nd, and 3rd mo of life and on the total girth and height gain during the entire 3 mo period. The effect of pneumonia was not significant, and the effect of umbilical hernia was not significant. The effect of pneumonia was not significant, and the effect of umbilical infection was not significant. The effect of pneumonia was not significant, and the effect of umbilical hernia was not significant. The effect of pneumonia was not significant, and the effect of umbilical infection was not significant. The effect of pneumonia was not significant, and the effect of umbilical hernia was not significant. The effect of pneumonia was not significant, and the effect of umbilical infection was not significant. The effect of pneumonia was not significant, and the effect of umbilical hernia was not significant. The effect of pneumonia was not significant, and the effect of umbilical infection was not significant. The effect of pneumonia was not significant, and the effect of umbilical infection was not significant. The effect of pneumonia was not significant, and the effect of umbilical infection was not significant.\n",
            "Abstract The aim of this study was to determine the effect of concurrent infection with porcine reproductive and respiratory syndrome virus, porcine reproductive and respiratory syndrome coronavirus, and porcine enterocolitis virus on clinical signs, viremia, and duration of infection in pigs. In a randomized controlled trial, 5 week old pigs from four litters were randomly divided into eight treatment groups. The treatment groups consisted of different combination of three factors with porcine reproductive and respiratory syndrome virus, porcine reproductive and respiratory syndrome coronavirus, and porcine enterocolitis virus. The treatment groups were inoculated intranasally with 10 6 colony forming units of I. choleraesuis at a rate of 10 3 50% tissue culture infectious doses on I 0, and treatment with dexamethasone at a rate of 2 on I 37. The treatment groups were inoculated intranasally with 10 6 colony forming units of I. choleraesuis at a rate of 10 3 50% tissue culture infectious doses on I 0, and treatment with dexamethasone at a rate of 2 on I 37. The treatment groups were inoculated intranasally with 10 6 colony forming units of I. choleraesuis at a rate of 10 3\n",
            "Abstract The purpose of this paper is to provide a synthesized review of how global scholarship examines the realm of social mediated dialogue in crises. In the past years, scholars have increasingly paid attention to the social mediated crisis communication model, medium influence based theories, and source influence based theories in the field of communication. In this paper, we present a systematic review of 61 articles published in 27 academic journals from 2006 to 2018 in the field of social mediated dialogue in crises. In addition, we examined the trends in current research including general information of articles, theoretical frameworks, methodological preferences, and crisis types and occurred time. The articles were found in the six technology focused journals and eight articles were published in the seven top ranked communication journals such as the journal of public relations or crisis communication focused journals. In addition, the articles were found in the seven top ranked communication journals such as the journal of public relations or crisis communication focused journals. The majority of articles examined the social mediated crisis communication model, medium influence based theories, and source influence based theories. The articles were found in the six technology focused journals and eight articles were published in the seven top ranked communication journals such as the journal of public relations or crisis communication focused journals. The most frequently examined crises were managerial misconducts, followed by natural disasters,\n",
            "Abstract The host cytoskeleton plays a pivotal role in virus infection and pathogenesis. In this review, we focus on the role of the host cytoskeleton in virus replication and pathogenesis. In this review, we discuss the role of the host cytoskeleton in virus replication and pathogenesis and the mechanisms by which viruses activate the host cytoskeleton to promote virus replication and pathogenesis. In addition, we discuss the role of the host cytoskeleton in virus induced apoptosis, immune evasion and inflammation, which have profound but complex implications in virus replication and pathogenesis.\n",
            "Abstract The innate immune response is critical for the pathogenesis of many inflammatory and immunological diseases. In this study, we investigated the role of the accessory protein of influenza virus in the pathogenesis of severe acute respiratory syndrome caused by the highly pathogenic avian influenza virus of the I5N1 subtype in mice, ducks and chickens. In this study, we found that loss of the accessory protein significantly increased the viral replication and the severity of the acute lung injury caused by the I5V1 virus in the mouse lung. In addition, we found that the reduced accessory protein significantly increased the levels of some representative cytokines and chemokines in the infected mouse lung. In addition, we found that the reduced accessory protein significantly increased the nuclear accumulation of the viral nucleocapsid protein and enhanced the nuclear accumulation of the viral nucleocapsid protein and nuclear accumulation of the viral nucleocapsid protein and nuclear accumulation of the viral nucleocapsid protein and nuclear accumulation of the viral nucleocapsid protein and nuclear accumulation of the viral nucleocapsid protein and nuclear accumulation of the viral nucleocapsid protein and nuclear accumulation of the viral nucleocapsid protein and nuclear accumulation of the viral nucleocapsid protein and nuclear accumulation of the viral nucleocapsid protein and nuclear accumulation of the viral nucleocapsid protein and nuclear accumulation\n",
            "Abstract The astrovirus is a small, nonenveloped, positive sense, positive sense virus that infects animals. In this chapter, we review the recent advances in our understanding of the molecular details of the astrovirus life cycle. The studies on the astrovirus virion using cryo electron microscopy have yielded important insights into the proteolytic maturation and corresponding conformational changes in the astrovirus virion. However, the studies on the astrovirus virion and capsid spike have uncovered striking structural similarities to hepatitis virus, suggesting that these viruses have a closer phylogenetic relationship than previously recognized. The high resolution ray crystallographic structure of the astrovirus protease revealed a number of distinctive features that provide insight into its role in nonstructural polyprotein processing events. In addition, these structural studies will have a large impact on the development of antivirals and vaccines targeting astrovirus.\n",
            "Abstract The ability of mouse fibroblast cell sublines to grow a wide variety of coronaviruses has been hampered by the difficulty of producing high titered stocks from individual plaques. In this study, we have developed a cell line which allows the growth of a wide variety of coronaviruses, including the prototype rat coronavirus, sialodacryoadenitis virus 681, and the prototype rat coronavirus, sialodacryoadenitis virus 681, and the rat coronavirus. The cells were used to isolate and propagate coronaviruses from naturally infected rats and to produce high titered tissue culture stocks from plaques. In addition, the cells were used to isolate and propagate wild type and prototype coronaviruses. In addition, the cells were used to isolate and propagate wild type and prototype coronaviruses from naturally infected rats and to produce high titered tissue culture stocks from plaques. In addition, the cells were used to isolate and propagate wild type and prototype coronaviruses from naturally infected rats and to produce high titered tissue culture stocks from plaques. In addition, the cells were used to isolate and propagate wild type and prototype coronaviruses from naturally infected rats and to produce high titered tissue culture stocks from plaques. The cells were used to isolate and propagate wild type and prototype\n",
            "Abstract The envelope protein of the severe acute respiratory syndrome coronavirus is a small, 76 amino acid, integral membrane protein with one putative transmembrane helical hydrophobic domain, 20 30 amino acids long, flanked by a short terminus and a longer terminus tail, both more hydrophilic. In the present study, we have analyzed the structure of isotopically labeled IV when incorporated in model lipid bilayers using attenuated total reflection infrared spectroscopy. The results show that the protein is inserted into lipid bilayers, and that it is helical in the lipid bilayers. The orientation of the protein in the lipid bilayers is consistent with a pentameric form, which is consistent with the formation of a pore that could account for the ion channel behavior observed in previous reports, but at present the oligomeric form of proteinV, and polarized, in lipid bilayers is not yet known. The results provide an important insight into the mode of organization of protein in lipid bilayers.\n",
            "Abstract A typical example of the dual effect of mutation and selection is escape mutations from a virally infected cell. In this study, we use bioinformatics tools to analyze the relation between the frequency of escape mutations and the organisms complexity. The relation is stronger for complex organisms than for simple ones. We show that the relation extends from the single protein to the entire organism, and that this relation is stronger for complex organisms than for simple ones. The results suggest that the relation between complexity and the fixation of advantageous mutations extends from the single protein to the entire organism, and that this relation is stronger for complex organisms than for simple ones.\n",
            "Abstract The recent emergence of severe acute respiratory syndrome caused by a novel coronavirus has raised a global concern. In this study, we used a microarray approach to investigate the changes in the transcriptional profiles of human green monkey kidney cells infected with the novel coronavirus. The results revealed that the infection significantly upregulated the expression of several genes involved in cell cycle and development, as well as several anti inflammatory and pro apoptotic pathways. In contrast, the expression of several apoptosis related genes was significantly downregulated, including the p53 gene, which is associated with the maintenance of cytoskeletal structure, and the p21 cyclin dependent kinase inhibitor, which inhibits both p53dependent apoptosis and transactivation. In contrast, the expression of several anti inflammatory and pro apoptotic genes was significantly downregulated, including the p53 gene, which is associated with the maintenance of cytoskeletal structure, and the p21 cyclin dependent kinase inhibitor, which inhibits both p53dependent apoptosis and transactivation. In addition, the expression of several anti inflammatory and pro apoptotic genes was significantly downregulated, including the p53 gene, which is associated with the maintenance of cytoskeletal structure, and the p21 cyclin dependent kinase inhibitor, which inhibits both p53dependent apoptosis and trans\n",
            "Abstract The nucleocapsid and orf9b genes of human coronavirus have been shown to be overlapping. In this study, we analyzed the codon usage patterns of the two genes and the effects of the overlap on their mutation rates as well as on the three dimensional structures of their protein products. The nucleocapsid gene has a discordant codon usage pattern, whereas the overprinted orf9b gene has a codon usage pattern similar to the non overlapping regions of the same viral genome. In contrast, the overprinted orf9b protein has a discordant codon usage pattern, whereas the overprinted orf9b protein has a codon usage pattern similar to the non overlapping regions of the same viral genome. The overprinted orf9b protein is subject to positive selection pressure and is evolving at a faster rate, compared to the overprinted orf9b protein. The other hand, the overprinted orf9b protein is subject to negative selection pressure and is evolving at a slower rate, compared to the overprinted orf9b protein. The analysis presented here may form a basis to follow the future evolution of orf9b and a starting point for investigating the so called internal genes overlapping with the nucleocapsid gene in other corona\n",
            "Abstract The leader sequence of coronavirus and arterivirus is unique in that it is present in the 5 end of the negative strand genome and in the subgenomic genome. The leader sequence can join the body sequence during processing of the negative strand genome and the subgenomic genome, or during subgenomic genome synthesis on a negative strand subgenomic template. The leader sequence can join the body sequence during processing of the negative strand genome and the subgenomic genome, or during subgenomic genome synthesis on a negative strand subgenomic template. The leader sequence can join the body sequence during processing of the negative strand genome and the subgenomic genome, or during subgenomic genome synthesis on a negative strand subgenomic template. The leader sequence can join the body sequence during processing of the negative strand genome and the subgenomic genome, or during subgenomic genome synthesis on a negative strand subgenomic template. The leader sequence can join the body sequence during processing of the negative strand genome and the subgenomic genome, or during subgenomic genome synthesis on a negative strand subgenomic template. The leader sequence can join the body sequence during processing of the negative strand genome and the subgenomic genome, or during subgenomic genome synthesis on a negative strand subgenomic template. The leader sequence can join the body sequence during processing of\n",
            "Abstract In this chapter, we present an overview of the lectins that bind to and activate type lectins, and we discuss how these lectins modulate the immune response.\n",
            "Abstract The aim of this study was to examine the effects of porcine reproductive and respiratory syndrome coronavirus infection on the innate and adaptive immune responses in the lungs of dual infected pigs, and how these responses relate to the severity of subsequent respiratory viral co infections. We used porcine reproductive and respiratory syndrome crossbred specificpathogen free piglets infected intratracheally with porcine respiratory coronavirus type 1 or porcine reproductive and respiratory syndrome coronavirus type 2. In the lungs of dual infected pigs, the levels of proinflammatory cytokines and regulatory cytokines were significantly higher than in the single virus infected pigs, and the levels of proinflammatory cytokines and regulatory cytokines were significantly higher in dual infected pigs than in the single virus infected pigs. In dual infected pigs, the levels of proinflammatory cytokines and regulatory cytokines were significantly higher than in the single virus infected pigs, and the levels of proinflammatory cytokines and regulatory cytokines were significantly higher in dual infected pigs than in the single virus infected pigs. The levels of proinflammatory cytokines and regulatory cytokines were significantly higher in dual infected pigs than in the single virus infected pigs, and the levels of proinflammatory cytokines and regulatory cytokines were significantly higher in dual infected pigs than in the single virus infected pigs. The levels of proinflammatory cytokines and regulatory cytokines were significantly higher in dual\n",
            "Abstract The contemporary mega trend of rapid urbanization, together with global climate change, both developed and developing countries are highly susceptible to various types of environmental disasters with the potential to bring heavy destruction. We have highlighted the importance of local governments when it comes to delivering effective disaster management, as they have a better understanding of unique local needs and assets than the higher levels of government, and are the first ones to react to the disasters affecting their localities. The paper has examined the recent evolution of disaster governance in I, a country with nascent democratization and decentralization but a legacy of strong state institutions. The national level, it reformed the system, which had been inefficiently dispersed and duplicated among various national departments and agencies, into a comprehensive and integrated one under centralized command and control. The same time, it made great efforts to decentralize disaster governance, highlighting the responsibilities and roles of the local government as the key unit in disaster management. The paper has examined the recent evolution of disaster governance in I, country with nascent democratization and decentralization but a legacy of strong state institutions. The national level, it reformed the system, which had been inefficiently dispersed and duplicated among various national departments and agencies, into a comprehensive and integrated one under centralized command and control. The same time, it made\n",
            "Abstract The severe acute respiratory syndrome associated coronavirus is associated with a high mortality rate in humans. In this study, we established a new experimental animal model for severe acute respiratory syndrome associated coronavirus by intranasal inoculation of young and adult mice with musVVV6 and then serially passaged 10 times in the lungs of young and adult mice. The lungs of young mice were infiltrated with predominantly neutrophils on days 3 and 5 after inoculation whereas the lungs of adult mice were infiltrated with predominantly neutrophils on days 3 and 5 after inoculation. In contrast, the lungs of adult mice were infiltrated with predominantly neutrophils on days 3 and 5 after inoculation whereas the lungs of young mice were infiltrated with predominantly neutrophils on days 3 and 5 after inoculation. In contrast, the lungs of adult mice were infiltrated with predominantly neutrophils on days 3 and 5 after inoculation whereas the lungs of young mice were infiltrated with predominantly neutrophils on days 3 and 5 after inoculation. In contrast, the lungs of adult mice were infiltrated with predominantly neutrophils on days 3 and 5 after inoculation whereas the lungs of young mice were infiltrated with predominantly neutrophils on days 3 and 5 after inoculation. In contrast, the lungs of adult mice were infiltrated with predominantly neutrophils on days 3 and 5 after inoculation\n",
            "Abstract The signature features common to broadly neutralizing antibodies are important for immunogen design in the development of a universal influenza vaccine. We report that the hemagglutinin stem targeting bnV contributes the majority of the interaction surface and is a recurring motif in antibodies that target the hemagglutinin stem. The crystal structure of an influenza hemagglutinin stem targeting bnV that utilizes the hemagglutinin 9 gene segment is determined to 2.9 resolution. The crystal structure reveals that the hemagglutinin 9 gene segment is translated in different reading frames. The overall conformation of the hemagglutinin 9 gene segment is remarkably similar to that of the hemagglutinin 6 gene segment, which is similar to that of the hemagglutinin 9 gene segment. The molecular interactions attributable to the gene segment are almost identical to those of the hemagglutinin 6 gene segment. In contrast, in the memory cell repertoires of healthy donors, the hemagglutinin 6 gene segment is either undetectable or 100 fold less prevalent than the hemagglutinin 9 gene segment. In contrast, in the memory cell repertoires of meningococcal vaccinated individuals and the infected patient, the hemagglutinin 6 gene segment\n",
            "Abstract The objective of this paper was to explore how behaviour and virulence influence one another, in a coupled behaviour disease differential equation model. In the presence of adaptive social behaviour, we show that virulence can either act in favour or against the invasion of a more virulent strain, and we can describe these effects with reference to specific social parameters quantifying how concerned individuals are about the two strains, and control parameters quantifying how well infection control measures like hand washing work. In the absence of social behaviour, the mutant strain invades under plausible epidemiological and social conditions even when it has a lower basic reproductive number. In the presence of adaptive social behaviour, the mutant strain invades under plausible epidemiological and social conditions even when it has a lower basic reproductive number. The model shows how social behaviour can influence the virulence of emerging strains under plausible parameter regimes when using standard models for social and infection dynamics.\n",
            "Abstract The pathogenesis of severe acute respiratory syndrome is still not fully understood. In addition to the histological changes of the recognized phases of pulmonary pathology, many other pathological changes have been described. In this review, we discuss the major pathological findings at the gross, cellular and molecular levels, which have been reported in hitherto published postmortem studies of SARS patients including previous publication on multiple organ infection in this disease. The implications of such mechanisms for the prevention, diagnosis and therapy of this disease are discussed.\n",
            "Abstract The metapneumovirus 2 protein is a key regulator of the innate and adaptive immune responses. In this study, we investigated the role of I2 2 on the regulation of antiviral signaling in response to hVV infection. In this study, we identified two motifs of I2 2 in the last 45 amino acids, which are known to be involved in the regulation of innate and adaptive immune responses. In addition, we investigated the role of these motifs in the regulation of hVV induced antiviral signaling. In this study, we found that both motif 29 and motif 39 were responsible for the suppression of hVV induced antiviral signaling. In contrast, motif 39 was responsible for the suppression of hVV induced antiviral signaling. In addition, we found that both motif 29 and motif 39 were not involved in the activation of transcription factors in response to hVV infection. In contrast, motif 39 was responsible for the suppression of hVV induced antiviral signaling, as it blocked the migration of adaptors to the mitochondria. In conclusion, our study provides a molecular basis for the design of new, safer and more effective live attenuated vaccine candidates to reduce the morbidity and mortality of hVV infection.\n",
            "Abstract The nucleocapsid protein of equine infectious anemia virus, a member of the arterivirus group, is the most abundant viral protein in virus infected cells and constitutes as much as 40% of the protein content of the virion. In this study, we report that the protein localizes to the nucleolus of transfected cells in a pattern similar to that observed for other viral proteins. In addition, we show that the protein is enriched in acidic amino acid residues and that phosphorylation is restricted to several serine residues. In contrast to other viral proteins, the nucleolar localization of equine infectious anemia virus nucleocapsid protein is independent of de novo protein synthesis and is not affected by protein synthesis inhibitors. In contrast to other viral proteins, the nucleolar localization of equine infectious anemia virus nucleocapsid protein is not affected by de novo protein synthesis and is not affected by protein synthesis inhibitors. We conclude that the nucleolar localization of equine infectious anemia virus nucleocapsid protein is independent of de novo protein synthesis and is not affected by protein synthesis inhibitors.\n",
            "Abstract The endoplasmic reticulum is utilized by a large number of viruses to support their replication. The membranous structures contain markers for autophagosomes, suggesting a pivotal role for autophagy in controlling replication of positive stranded I viruses. In this review, we discuss the current understanding as to how positive stranded I viruses interact with the host autophagy machinery to control their replication and spread. The mechanisms underlying the induction of autophagy and the potential mechanisms involved are also discussed.\n",
            "Abstract The aim of this study was to develop and validate real time reverse transcription polymerase chain reaction assays for the detection and quantitation of influenza virus and to compare the results with those obtained by culture enhanced enzyme linked immunosorbent assay. The assays were designed to detect and quantitate viral nucleic acid using a fluorescent labelled probe that was designed to anneal part of the influenza virus hemagglutinin gene. The assay was validated using a panel of influenza strains and a panel of clinical isolates. The results showed that the real time assays were more sensitive and specific than the culture enhanced enzyme linked immunosorbent assay. The assay was able to detect and quantitate influenza virus in throat swab samples with a detection limit of 3.33 log 10 viral copies and a limit of quantification of 10 log 10 viral copies. The results of the real time assays were compared with those of the culture enhanced enzyme linked immunosorbent assay and the results of the real time assays were compared with those of the culture enhanced enzyme linked immunosorbent assay and the results of the real time assays were compared with those of the culture enhanced enzyme linked immunosorbent assay and the results of the real time assays were compared with those of the culture enhanced enzyme linked immunosorbent\n",
            "Abstract The aim of the present study was to investigate the effects of glycyrrhizin on the lymphocyte adhesion to collagen and lymphocyte proliferation in a delayed type hypersensitivity mouse model. We first made an antibody against glycyrrhizin and then we tried to selectively deplete glycyrrhizin from a mixture of glycyrrhizin and the glycyrrhizin conjugate. In the presence of glycyrrhizin, glycyrrhizin significantly inhibited the adhesion to collagen and lymphocyte proliferation in a dose dependent manner. In addition, glycyrrhizin also showed a strong inhibition on lymphocyte adhesion to extracellular matrix and lymphocyte proliferation in a dose dependent manner. The results indicated that glycyrrhizin might play an important role in the inhibition of lymphocyte adhesion to collagen and lymphocyte proliferation in a delayed type hypersensitivity mouse model.\n",
            "Abstract The cytoplasmic tail of paramyxovirus fusion proteins is responsible for membrane fusion, a process essential for virus entry. In this study, we show that the terminal end of the paramyxovirus fusion protein is responsible for stimulating membrane fusion. In addition, we show that the tyrosine residues at the end of the cytoplasmic tail of the fusion protein are critical for its membrane fusion activity. The results indicate that the terminal end of the paramyxovirus fusion protein is responsible for stimulating membrane fusion, and that the tyrosine residues at the end of the cytoplasmic tail are critical for its membrane fusion activity.\n",
            "Abstract The acute respiratory syndrome coronavirus was identified as the etiologic agent of severe acute respiratory syndrome in late 2002 and the epidemic was eventually controlled by patient isolation, however, there is no effective treatment or an efficacious vaccine to prevent infection. In this study, we describe the construction of the first human coronavirus derived replicon cell line. The replicon cell line was constructed by a reverse genetic approach based on the deletion of all or some structural genes. The replicon cell line was used for the identification of coronavirus replicase inhibitors. In addition, the replicon cell line was used to develop an anti viral agent identification system that does not involve the use of live virus. The replicon cell line can be used to screen for drugs that act on cellular and viral targets involved in receptor binding, virus entry, genome encapsulation and virus release. In addition, the replicon cell line was used to develop an anti viral agent identification system that does not involve the use of live virus. The replicon cell line can be used to develop an anti viral agent identification system that does not involve the use of live virus.\n",
            "Abstract We report that immunization of mice with an optimized vaccinia virus antigen vaccine was able to induce vaccinia neutralizing antibody responses, provide protection against lethal intraperitoneal vaccinia virus challenge and was effective in further improving the protection efficacy of polyvalent poxvirus vaccine formulations. In addition, the vaccine was able to induce neutralizing antibody responses at levels similar to or even better than that induced by the vaccinia virus vaccine. In addition, the vaccine was able to induce neutralizing antibody responses against a wide range of poxvirus antigens. In addition, the vaccine was able to induce neutralizing antibody responses in mice after immunization with vaccinia virus. In addition, the vaccine was able to induce neutralizing antibody responses against a wide range of poxvirus antigens in mice after immunization with vaccinia virus. In addition, the vaccine was able to induce neutralizing antibody responses against a wide range of poxvirus antigens in mice after immunization with vaccinia virus. In conclusion, the results of this study demonstrate that immunization of mice with an optimized vaccinia virus antigen vaccine was able to induce vaccinia neutralizing antibody responses, provide protection against lethal intraperitoneal vaccinia virus challenge and was effective in further improving the protection efficacy of polyvalent poxvirus vaccine formulations.\n",
            "Abstract The aim of this study was to examine the impact of providing information about the infection control in an infectious disease treatment unit on the intention of outpatients to continue outpatient visits to the hospital after the admission of a severe acute respiratory syndrome patient to the hospital. We conducted a cross sectional survey among outpatients who visited the outpatient department at a city hospital in China. The intention of outpatients to continue outpatient visits was examined before and after providing information about the infection control in the infectious disease treatment unit. The cumulative total number of outpatients and the cumulative total expenditures for outpatient care during a 180 day period were estimated to decrease by 20% and 20%, respectively, after admission of a severe acute respiratory syndrome patient to the hospital. The intention of outpatients to continue outpatient visits significantly increased after they read the information about the infection control in the infectious disease treatment unit. The intention of outpatients to continue outpatient visits significantly increased after they read the information about the infection control in the infectious disease treatment unit. The intention of outpatients to continue outpatient visits significantly increased after they read the information about the infection control in the infectious disease treatment unit. The intention of outpatients to continue outpatient visits significantly increased after they read the information about the infection control in the infectious disease treatment unit.\n",
            "Abstract The aim of the present study was to examine the effects of influenza virus infection on sensitization to ovalbumin and airway responsiveness to methacholine in a mouse model of allergic sensitization. The mice were sensitized to ovalbumin by inhalation of aerosolized ovalbumin or an ultrasonic nebulizer, and challenged with ovalbumin aerosols 24 hours after sensitization, airway responsiveness to methacholine, levels of ovalbumin specific bronchoalveolar lavage fluid, and bronchoalveolar macrophages were examined. The results showed that sensitization to ovalbumin by inhalation of ovalbumin alone increased airway responsiveness to methacholine, whereas sensitization to ovalbumin by inhalation of ovalbumin with influenza virus infection increased airway responsiveness to methacholine, whereas sensitization to ovalbumin with influenza virus infection did not increase airway responsiveness to methacholine. In contrast, sensitization to ovalbumin with influenza virus infection increased airway responsiveness to methacholine, whereas sensitization to ovalbumin with influenza virus infection did not increase airway responsiveness to methacholine, whereas sensitization to ovalbumin with influenza virus infection did not increase airway responsiveness to methacholine\n",
            "Abstract The aim of this study was to develop a sensitive and specific quantitative reverse transcription loop mediated isothermal nucleic acid amplification assay for the detection and differentiation of 2 of the most important avian respiratory viruses, ovine bronchitis virus and ovine disease virus, both of which are highly pathogenic to the poultry industry. In this study, we developed a sensitive and specific quantitative reverse transcription loop mediated isothermal nucleic acid amplification assay for the detection and differentiation of 2 of the most important avian respiratory viruses, ovine bronchitis virus and ovine disease virus, both of which are highly pathogenic to the poultry industry. The specificity of the assay was evaluated by comparing with conventional reverse transcription loop mediated isothermal nucleic acid amplification assays. The sensitivity of the assay was evaluated by comparing with those of conventional reverse transcription loop mediated isothermal nucleic acid amplification assays. In this study, we developed a sensitive and specific quantitative reverse transcription loop mediated isothermal nucleic acid amplification assay for the detection and differentiation of 2 of the most important avian respiratory viruses, ovine bronchitis virus and ovine disease virus, both of which are highly pathogenic to the poultry industry. The sensitivity of the assay was evaluated by comparing with those of conventional reverse transcription loop mediated\n",
            "Abstract The airway epithelium is the first line of defence against viral and bacterial infections. In this study, we investigated the use of a standardized human 3V nasal epithelial model. The model was inoculated with rhinoviruses and enteroviruses, as well as respiratory syncytial viruses and influenza viruses causing upper respiratory tract infections. In addition, we characterised the antimicrobial response of the model by measuring respiratory virus induced specific release of antimicrobial peptides. The results showed that rhinoviruses induced a significant decrease in transepithelial electrical resistance, whereas enteroviruses induced a moderate decrease in transepithelial electrical resistance. In contrast, influenza viruses induced a moderate decrease in transepithelial electrical resistance, whereas both rhinoviruses and enteroviruses induced a moderate decrease in transepithelial electrical resistance. In contrast, influenza viruses induced a moderate decrease in transepithelial electrical resistance, whereas both rhinoviruses and enteroviruses induced a moderate decrease in transepithelial electrical resistance. In conclusion, our data support the use of the standardized human 3V nasal epithelium model as a promising preclinical model for the design and the test of novel antiviral strategies.\n",
            "Abstract In this study, we report the crystal structures of three different types of proteases, coxsackievirus type 3 protease, coxsackievirus type 2 protease, and coxsackievirus type 3 protease, which serve as drug targets for developing inhibitors against each kind of proteases. The three types of proteases share very little sequence homology, structure based sequence comparison reveals some similarity in the regions of domains and I, which explains the similar substrate specificity and catalytic mechanism. The zinc coordinating inhibitor of coxsackievirus type 3 protease 0204998 and the zinc coordinating inhibitor of coxsackievirus type 2 protease 0205221 were found to bind to the three different proteases with similar binding modes. In contrast, the zinc coordinating inhibitor of coxsackievirus type 3 protease 0205486 and the zinc coordinating inhibitor of coxsackievirus type 3 protease 0205221 were found to bind to the three different proteases with similar binding modes. The results indicate that the three types of proteases share very little sequence homology, structure based sequence comparison reveals some similarity in the regions of domains and I, which explains the similar substrate specificity and catalytic mechanism.\n",
            "Abstract We review the role of zinc as an essential micronutrient that is required to mount an effective antiviral response. The review focuses on the role of zinc as an essential micronutrient that is required to mount an effective antiviral response. The review focuses on the role of zinc as an essential micronutrient that is required to mount an effective antiviral response. The review focuses on the role of zinc as an essential micronutrient that is required to mount an effective antiviral response.\n",
            "Abstract The spike protein encoding gene of porcine epidemic diarrhea virus has been shown to be immunogenic and has the potential to be a good vaccine candidate. The aim of this study was to develop a novel, orally administered, genetic engineered vaccine based on poly glutamic acid synthetase gene to display exogenous antigens on the surface of intestinal epithelial cells. The recombinant poly glutamic acid synthetase gene was fused with the target gene for fusion expression, after which the recombinant poly glutamic acid synthetase gene was used as a mucosal vehicle to deliver an exogenous antigen. The recombinant poly glutamic acid synthetase gene was expressed on the surface of intestinal epithelial cells, and the recombinant poly glutamic acid synthetase gene was fused with the target gene for fusion expression, after which the recombinant poly glutamic acid synthetase gene was expressed on the surface of intestinal epithelial cells. The recombinant poly glutamic acid synthetase gene was fused with the target gene for fusion expression, after which the recombinant poly glutamic acid synthetase gene was expressed on the surface of intestinal epithelial cells. The recombinant poly glutamic acid synthetase gene was fused with the target gene for fusion expression, after which the recombinant poly glutamic acid synthetase gene was expressed on the surface of\n",
            "Abstract We have developed a simple and robust method for the analysis of the proteome of infective host cell derived trypomastigote forms of the highly virulent strain of trypanosoma cruzi. The method is based on two dimensional liquid chromatography coupled to tandem mass spectrometry. The proteomic data of all identified proteins and putative surface proteins were filtered based on the protein abundance, in the same way as the protein abundance data of mouse or human proteins. In addition, the proteomic data of infective host cell derived trypomastigote forms of the highly virulent strain of trypanosoma cruzi were filtered based on the protein abundance, in the same way as the protein abundance data of mouse or human proteins. In addition, the proteomic data of infective host cell derived trypomastigote forms of the highly virulent strain of trypanosoma cruzi were filtered based on the protein abundance, in the same way as the protein abundance data of mouse or human proteins. The proteomic data of infective host cell derived trypomastigote forms of the highly virulent strain of trypanosoma cruzi were filtered based on the protein abundance, in the same way as the protein abundance data of mouse or human proteins. The prote\n",
            "Abstract The net state of immunosuppression in organ transplant recipients reflects the balance between the recipient s epidemiologic exposures and immunosuppression. The net state of immunosuppression includes preexisting immune deficits, colonization with antimicrobial resistant pathogens, immunosuppressive agents, acquired immunodeficiency, prior antimicrobial therapies, mucocutaneous barrier integrity, fluid collections, neutropenia, lymphopenia, and viral coinfections. In this article, the authors review infectious syndromes encountered in intensive care units among organ transplant recipients.\n",
            "Abstract The peptide 290 of swine fever virus nonstructural proteinV2 3 is a promising candidate for an epitope vaccine for the control of swine fever virus. In this study, a recombinant strain expressing the peptide 290 was constructed and used as a live oral vaccine vehicle to deliver the peptide to the intestinal tract of miniature pigs. The recombinant strain was able to induce both humoral and cellular immune responses in vitro and in vivo. In addition, the recombinant strain was able to induce both humoral and cellular immune responses in vitro and in vivo. In addition, the recombinant strain was able to induce both humoral and cellular immune responses in vitro and in vivo. In addition, the recombinant strain was able to induce both humoral and cellular immune responses in vitro and in vivo. In addition, the recombinant strain was able to induce both humoral and cellular immune responses in vitro and in vivo. The results indicated that the recombinant strain was able to induce both humoral and cellular immune responses in vitro and in vivo. In addition, the recombinant strain was able to induce both humoral and cellular immune responses in vitro and in vivo. The results indicated that the recombinant strain was able to induce both humoral and cellular immune responses in vitro and in vivo.\n",
            "Abstract The last decade has witnessed a dramatic acceleration in the development of new therapeutic molecules, which do not follow Iinski rules, such as proteins, peptides and nucleic acids. In order to circumvent limitations of small molecule and gene based therapies, we have witnessed a dramatic acceleration in the design of new technologies to improve cellular uptake of therapeutic compounds. In the last 5 years, a number of non viral strategies have been proposed including lipid, polycationic, nanoparticle and peptide based formulations, but only a subset of these technologies are efficiently applied in vivo at either preclinical or clinical levels. The aim of this review is to provide an overview of the current state of the art of non viral strategies for protein and peptide delivery.\n",
            "Abstract The novel coronavirus was identified as the aetiological agent for the recent severe acute respiratory syndrome epidemic. The genome encodes eight putative proteins with no significant sequence homology to viral proteins of other known coronaviruses. In this study, we compared the cellular localization and expression of the two proteins, 8a and 8b, in the mouse and palm civet models. The results showed that the 8a and 8b proteins are not essential for viral replication or pathogenesis in the mouse and palm civet models. In contrast, the 8b protein was found to be expressed via an internal ribosomal entry mechanism or by a leaky ribosomal scanning mode of translation, as have been described for viral proteins encoded by other bicistronic or tricistronic coronaviruses. In order for 8b to be expressed via such mechanisms, activation of certain host translational machineries may be necessary.\n",
            "Abstract We report the synthesis, isolation, chemical characterization, biochemical and epigenetic significance of cyclo 8 in the form of its sodium crown complex, sodium or cyclo 8V, which can be liganded to give aquasodium. In addition, we propose a model for the first epigenetic shell of in vivo sperminium, based on the observed complexation of cyclo 8V and spermine phosphate to ssV.\n",
            "Abstract The aim of the present study was to investigate the evolution of avian infectious bronchitis virus serotype 02 in our country. In the present study, twenty six field isolates from clinical outbreaks occurring between 1992 and 2005 were molecularly characterized by sequencing the whole I1 protein gene. The results showed that the majority of the isolates belonged to a single genotype, while the remaining isolates belonged to two genotypes. In addition, a number of recombination events were detected among these isolates. The recombination events were clustered in two major phylogenetic clusters, suggesting the presence of positive selection pressures. The results of the present study revealed that the field isolates of this genotype have been circulating in our country since 1992 and that this genotype has gone through evident evolutive changes during these years.\n",
            "Abstract The covalent modification of target proteins by ubiquitin, a small 76 residue protein, occurs in various linkage types and can produce many different outcomes. The processing of pathogen derived proteins by the pathway is a prerequisite for their display to the immune system to initiate the host defense. In this approach, we identified a unique deubiquitinating activity present in herpes simplex virus 1 infected cells. The tegument protein of herpes simplex virus 1 is composed of the amorphous proteinaceous layer located between the nucleocapsid and the envelope of the herpesvirus particle, referred to as tegument. The tegument protein of herpes simplex virus 1 is a member of a structurally distinct class of deubiquitinating enzymes, which we designate herpesvirus tegumentVs. The tegument protein of herpes simplex virus 1 is a member of the papain protease superfamily but is only distantly related to cellular cysteine proteases. The structural and mechanistic properties of the tegument protein of herpes simplex virus 1 are discussed.\n",
            "Abstract The emergence of infectious diseases in humans, such as severe acute respiratory syndrome and avian influenza, has served to increase scientific and public awareness of the causal links between wildlife, domestic animals and human populations in driving outbreaks. The transmission of infectious agents from domesticated populations to sympatric wild populations, known as pathogen spillover, has infamously led to marked declines in wild vertebrate populations. In contrast to vertebrate studies, the aetiology of insect diseases are largely unknown, despite accumulating evidence of human mediated population decline and extinction. The increasing global demand for commercial bumble bees coupled with the potential elevated incidence and prevalence of disease in commercial hives and the lack of measures preventing the escape of bees from target cropping systems may perpetuate chronic pathogen spillover from commercial to wild bumble bees populations. We aim to quantify the permeability of different cropping systems to commercial bumble bees assess the potential of commercially reared bumble bees to act as pathogen reservoirs by comparing the prevalence of four pathogens among commercially reared hives and allopatric conspecific populations and determine the likelihood of pathogen spillover from commercial bees to allopatric conspecifics by dissecting and recording parasitic infections present among bumble bees foraging in areas of decreasing proximity to horticultural activities where commercially reared bumble bees were employed. We found no correlation between the proportion of pollen collected by workers returning to commercial hives\n",
            "Abstract The incidence of lower respiratory tract infections in young children varies substantially from year to year, with mortality due to these infections occurring predominantly in the developing world. In addition, new viruses such as human bocavirus and polyomaviruses are being recognized as causing respiratory disease in infants and young children. This review discusses factors that need to be considered for the further development of safe and effective vaccines against influenza and respiratory syncytial virus for infants.\n",
            "Abstract The objective of this study was to estimate the effects of bovine respiratory syncytial virus and bovine coronavirus infections on milk yield and reproductive performance in dairy herds. The study was conducted in 65 dairy herds located in the southwestern part of China. In each herd, periodic testing at 4 sampling times was performed to measure the level of bovine respiratory syncytial virus and bovine coronavirus specific antibodies in milk. In each herd, information on individual milk production, reproductive events, as well as entrance dates and exit dates and reasons for exit was available for all animals present at any point in time. The risk of reproductive failure after first service as well as risk of death in calves and heifers was found to be increased in herds with an outbreak, for the former, and in presumably recently or past infected herds, for the latter. The risk of reproductive failure after first service as well as risk of death in calves and heifers was found to be increased in herds with an outbreak, for the former, and in presumably recently or past infected herds, for the latter. The risk of reproductive failure after first service as well as risk of death in calves and heifers was found to be increased in herds with an outbreak, for the former, and in presumably recently or past\n",
            "Abstract The epidermal mucus of fish contains trypsin like serine proteases that play a significant role in the natural defence of fish against pathogens such as viruses and bacteria. The underutilized by products from the seafood industry, fish viscera is rich source of proteolytic enzymes such as trypsin, chymotrypsin and elastase. In the present study, cod trypsin was characterized in comparison to cod trypsin. The results showed that cod trypsin is a serine protease based on its sensitivity to inhibitors and sub site substrate specificity. The results indicate that cod trypsin is a valuable resource for the development of novel applications in biotechnology.\n",
            "Abstract The goal of this study was to conduct a systematic review of the scientific literature to describe current research in public communication in public health emergency preparedness, with a particular focus on communication inequalities and their association with communication and preparedness outcomes. We used a systematic search of the literature to identify all published empirical studies that examined the relationship among sociodemographics, behavioral characteristics, and communication outcomes in public health emergency preparedness. In total, 202 articles were identified, and 131 were included in the final review. The most common communication outcomes studied were information exposure, trust and credibility in information sources, information seeking behaviors, information processing, and information utilization. The most frequently researched were preventive behaviors in 65% of the studies, risk perceptions, knowledge and awareness about specific threats, and emotional response. The most frequently studied communication outcomes were information exposure, trust and credibility in information sources, information seeking behaviors, information processing, and information utilization. The most frequently studied communication outcomes were information exposure, trust and credibility in information sources, information seeking behaviors, information processing, and information utilization. The most frequently studied communication outcomes were information exposure, trust and credibility in information sources, information seeking behaviors, information processing, and information utilization. The\n",
            "Abstract The advent of high throughput technologies such as microarrays, mass spectrometry, and next generation sequencing has revolutionized the study of human biology and disease. In the past eight years, my laboratory has used these technologies to further our understanding of the interplay between viruses and the cells they infect. In particular, we have developed and applied genomic and proteomic techniques to study the changes in gene expression that occur in cells infected with a variety of viruses, including hepatitisV virus, influenza virus, and human immunodeficiency virus type 1. In addition, we have developed and applied these techniques to study the response of nonhuman primates to viral infection. In this review, we provide a sampling of how we re using these technologies, the discoveries we ve made, and how the technologies themselves have continued to evolve.\n",
            "Abstract The pathogenesis of autoimmune encephalomyelitis, a chronic inflammatory demyelinating disease of the central nervous system, is poorly understood. In this article we put forward the hypothesis that the influence of IV genes on the risk to develop I is actually the sum of multiple antigen presenting cell and cell inter actions involving IV class and class I molecules. The hypothesis is supported by the observation that the genetic and immunologic similarities to humans are close enough to be useful for developing therapeutic strategies. The article will also discuss that, because of the genetic and immunologic similarity to humans, autoimmune models of I in non human primates are the experimental models par excellence to test this hypothesis.\n",
            "Abstract The ability of influenza virus to infect differentiated airway epithelia was examined using a model of well differentiated human airway epithelia cultured at an air liquid interface. We found that influenza strains bind to the apical surface of the epithelia, but not to the basolateral surface. The majority of influenza strains were able to bind to the apical surface of the epithelia, but not to the basolateral surface. The majority of influenza strains were able to bind to the apical surface, but not to the basolateral surface. The majority of influenza strains were able to bind to the apical surface, but not to the basolateral surface. The majority of influenza strains were able to bind to the apical surface, but not to the basolateral surface. The majority of influenza strains were able to bind to the apical surface, but not to the basolateral surface. The majority of influenza strains were able to bind to the apical surface, but not to the basolateral surface. The majority of influenza strains were able to bind to the apical surface, but not to the basolateral surface. The majority of influenza strains were able to bind to the apical surface\n",
            "Abstract In the last few years, multiplex assays for detection of respiratory viruses have been developed. The availability of these assays has led to an increasing number of studies comparing commercial and laboratory developed assays as well as studies comparing commercial assays with each other. The article will review available data and highlight unresolved questions about cost effectiveness, infection control, clinical utility, and public health impact of multiplex respiratory virus assays.\n",
            "Abstract The aim of the current study was to develop a novel recombinant porcine vesicular stomatitis virus, which could be used as a vaccine vector for the prevention of vesicular stomatitis disease in animals. In the current study, we constructed recombinant porcine vesicular stomatitis virus with mutations in the viral nucleocapsid protein. The attenuated recombinant porcine vesicular stomatitis virus with a truncated nucleocapsid protein was compared with wild type porcine vesicular stomatitis virus. The results showed that the attenuated recombinant porcine vesicular stomatitis virus with a truncated nucleocapsid protein was more attenuated than wild type porcine vesicular stomatitis virus. The attenuated recombinant porcine vesicular stomatitis virus with a truncated nucleocapsid protein was more attenuated than wild type porcine vesicular stomatitis virus. The attenuated recombinant porcine vesicular stomatitis virus with a truncated nucleocapsid protein was more attenuated than wild type porcine vesicular stomatitis virus. The attenuated recombinant porcine vesicular stomatitis virus with a truncated nucleocapsid protein was more attenuated than wild type porcine vesicular stomatitis\n",
            "Abstract The paper examines the adoption of a push model of publicly funded information disclosure in China and argues that this model has been adopted in response to two decades of limited proactive disclosure practices around the country and an improved information environment, which necessitated or reduced role for an access mechanism. In addition, the paper examines the degree of push or proactive disclosure under current IVV legislation and examines the omission of the maximum disclosure principle, which further undermines the degree of proactive disclosure under this legislation.\n",
            "Abstract The paper describes the development of a fully dried, automated, single channel microfluidic paper based enzyme linked immunosorbent assay platform for the detection of bacterial and viral pathogens. In this platform, we demonstrate the ability to enhance the signal intensity of nucleic acid samples labeled with an enzyme linked immunosorbent assay. The enhanced signal intensity can be maintained for at least 28 days of dry storage on a fully assembled device. In addition, we demonstrate that our platform can be used for the detection of multiple pathogens beyond enzyme linked immunosorbent assay and can be employed with other nucleic acid amplification techniques.\n",
            "Abstract We have determined the crystal structure of the mouse transmembrane protein 1 subunit in complex with the phosphatidylinositol 3 kinase and the phosphatidylinositol 4 carboxylase. The structure reveals that the phosphatidylinositol 3 kinase and the phosphatidylinositol 4 carboxylase form a three protein complex with the phosphatidylinositol 3 kinase and the phosphatidylinositol 4 carboxylase. The structure reveals that the phosphatidylinositol 3 kinase and the phosphatidylinositol 4 carboxylase form a three protein complex with the phosphatidylinositol 3 kinase and the phosphatidylinositol 4 carboxylase. The structure reveals that the phosphatidylinositol 3 kinase and the phosphatidylinositol 4 carboxylase form a three protein complex with the phosphatidylinositol 3 kinase and the phosphatidylinositol 4 carboxylase. phosphatidylinositol 3 kinase and phosphatidylinositol 4 carboxylase form a three protein complex with the phosphatidylinositol 4 carboxyl\n",
            "Abstract The present work compared the different vaccine strains kinetics both in field conditions and in a 21 day long experimental trial in broilers, monitoring the viral replication by upper respiratory tract swabbing and vaccine specific real time reverse transcription quantification. The present work compared the different vaccine strains kinetics both in field conditions and in a 21 day long experimental trial in broilers, monitoring the viral replication by upper respiratory tract swabbing and vaccine specific real time reverse transcription quantification. The both field and experimental conditions, titers for all the vaccines showed an increasing trend in the first 2 wk and then decrease, though still remaining detectable during the whole monitored period.\n",
            "Abstract The aim of this study was to determine whether early antibiotic therapy can affect severity of lung consolidation in preweaned dairy calves. The primary objective was to determine whether ampicillin trihydrate would reduce lung consolidation in preweaned dairy calves. The secondary objective was to determine whether ampicillin affected respiratory score, gross consolidation, or detection of pseudomonas multocida in lung tissue at challenge. In a randomized controlled study, 30 calves were randomized to receive ampicillin trihydrate at the middle of the label range or placebo. The calves were challenged intratracheally with 10 10 cfu of pseudomonas multocida. The calves were euthanized on challenge 14, and the remaining 14 were euthanized on challenge 15. The calves underwent 18 ultrasound exams and 31 respiratory scores. The mean lung to heart weight ratio was 2.5 0.36 and 2.5 0.58 for ampicillin trihydrate and placebo calves, respectively, and median percent consolida tion was 10% for ampicillin trihydrate and 10% for placebo calves. The mean time of first treatment, 6% and 9% of ampicillin trihydrate and placebo calves, respectively, had positive clinical respiratory scores. The time of first treatment, 6% and 9% of ampicillin trihydrate and placebo calves,\n",
            "Abstract The effect of polyclonal antibodies on the neutralization of porcine transmissible gastroenteritis virus to porcine epithelial cells was studied. The effect of the antibody to virus ratio on the neutralization of virus to the cells was studied by liquid scintillation techniques, and the effect of the antibody to virus ratio on the neutralization of virus to the cells was studied by the plaque reduction assay. The results showed that the neutralization of virus to the cells by polyclonal antibodies was not affected by the antibody to virus ratio, and that extensive neutralization was observed at antibody dilutions for which no inhibition of either binding or internalization was observed. The effect of the antibody to virus ratio on the neutralization of virus to the cells was studied by liquid scintillation techniques, and the effect of the antibody to virus ratio on the neutralization of virus to the cells was studied by the plaque reduction assay. The results showed that the effect of the antibody to virus ratio on the neutralization of virus to the cells was not affected by the antibody to virus ratio, and that extensive neutralization was observed at antibody dilutions for which no inhibition of either binding or internalization was observed.\n",
            "Abstract The aetiology of inflammatory bowel disease remains elusive, and the role of infectious agents in the aetiology of the condition is a matter of debate. In this article we review the evidence for microbial aetiology and the role of infectious agents in the aetiology of inflammatory bowel disease.\n",
            "Abstract In this study, we isolated and propagated a virulent strain of the duck infectious bronchitis virus, designatedVV, in 9 to 11 dayold embryonated duck eggs. Intracerebral inoculation of the virus into embryonated duck eggs resulted in a complete attenuation of the virus. The virus was fully attenuated and provided protective immunity against the virulentVV strain. The results indicate that the attenuated virus could be used as a vaccine candidate for the prevention of the spread of V.\n",
            "Abstract The reovirus cell attachment protein, a major component of the reovirus hemagglutinin, has been shown to be trimeric. In the present study, we have used two independent approaches, one biochemical and the other biophysical, to demonstrate that at is trimeric and provide a rationale for the anomalous behavior of the intact al protein on polyacrylamide gels under dissociating conditions. In the presence of methionine, the oligomeric and terminal tryptic fragments of al were found to migrate in polyacrylamide gels. In addition to the homo oligomeric species, two hetero oligomeric species were also found to exist. In the presence of methionine, the oligomeric and terminal tryptic fragments of al were found to migrate in polyacrylamide gels. In addition to the homo oligomeric species, two hetero oligomeric species were also found to exist. In the presence of methionine, the oligomeric and terminal tryptic fragments of al were found to migrate in polyacrylamide gels. In the presence of methionine, the oligomeric and terminal tryptic fragments of al were found to migrate in polyacrylamide gels. In the presence of methionine, the oligomeric and terminal tryp\n",
            "Abstract The study is aimed to summarize the history of wastewater treatment applications in China since 1999. The driving forces and historic events of wastewater treatment applications are examined, which is critical to the rapid growth of wastewater treatment applications. The literatures are extensively reviewed to understand the research on wastewater treatment and comprehensive national survey based on face to face or telephone interviews with senior scientists or executives of benchmark or major wastewater treatment applications was conducted to understand the context of those applications. In the last two decades, wastewater treatment applications have been widely accepted and applied as an efficient wastewater treatment process in China, due to its clean effluent and rapid improvement in many aspects, such as membrane lifespan, fouling mitigation, and energy consumption reduction. The comprehensive understanding of the driving forces of wastewater treatment applications is not only valuable for reflecting the past but also for looking forward to the future as it provides insights on how wastewater treatment applications may be promoted in the future.\n",
            "Abstract The objective of this study was to compare the efficacy of inactivated and live attenuated rotavirus vaccines administered by the baculovirus expression system to immunize pregnant cows to boost antibodies to rotavirus in colostrum and milk for induction of passive immunity in newborn calves. We used the vaccination routes and times and adjuvant in the serum, colostrum and milk of non vaccinated cows, and cows vaccinated with inactivated or live attenuated rotavirus vaccines administrated by the baculovirus expression system. The relative antigen titers of the mammary, inactivated and untreated control rotavirus reactive with polyclonal antibodies in colostrum were 1600, 8 and 8, respectively. The relative antigen titers of the mammary, inactivated and untreated control rotavirus reactive with polyclonal antibodies in colostrum were 25600, 12800, and 800. The relative antigen titers of the mammary, inactivated and untreated control rotavirus reactive with polyclonal antibodies in colostrum were 1600, 8 and 8, respectively. The relative antigen titers of the mammary, inactivated and untreated control rotavirus reactive with polyclonal antibodies in colostrum were 1600, 8 and 8, respectively. The relative antigen titers of the mammary, inactivated and untreated control rotavirus reactive with polyclonal antibodies in colostrum\n",
            "Abstract In this study, we have investigated the proteomic changes in the expression of proteins involved in metabolic processes, signal transduction, immune response and cytoskeletal organization in the early and late stages of SARS spot syndrome virus infection in red claw crayfish. The proteomic changes in the expression of proteins involved in metabolic processes, signal transduction, immune response and cytoskeletal organization were detected by in situ tandem mass spectrometry. The differential expression of proteins involved in metabolic processes, signal transduction, immune response and cytoskeletal organization were found to be up regulated at 1 hpi and down regulated at 12 hpi, respectively. In contrast, the expression of proteins involved in signal transduction was down regulated at 1 hpi and up regulated at 12 hpi, respectively, while the expression of proteins involved in cytoskeletal organization was up regulated at 12 hpi and down regulated at 1 hpi. The differential expression of proteins involved in metabolic processes, signal transduction, immune response and cytoskeletal organization were found to be up regulated at 1 hpi and down regulated at 12 hpi, respectively, while the expression of proteins involved in cytoskeletal organization was down regulated at 1 hpi and up regulated at 12 hpi, respectively. The\n",
            "Abstract The spike protein of severe acute respiratory syndrome coronavirus is a type integral membrane glycoprotein. In this study, we generated two mutants, ts291602 and ts282902, from the wild type virus, wt6501 and wt6501, respectively. The ts mutant protein could not be cleaved at the nonpermissive temperature, whereas the ts mutant protein was able to be cleaved at the permissive temperature. The ts mutant protein could not induce cell cell fusion at the nonpermissive temperature, whereas the ts mutant protein was able to induce cell cell fusion at the permissive temperature. In addition, the ts mutant protein could not be cleaved at the nonpermissive temperature, whereas the ts mutant protein was able to induce cell cell fusion at the permissive temperature. The results indicate that the single amino acid mutation in the protein may be responsible for the temperature sensitivity of the mutant virus.\n",
            "Abstract The aim of this work was to study the mutational pattern of avian coronavirus, a virus responsible for acute fatal infections in chickens. In vitro and in vivo experiments were carried out to study the mutational pattern of this virus in three organs, i.e. spleen, lung, and brain. In vitro experiments showed that the overall mutation frequency of this virus was 1.58 10 3 to 13.5 kb. The mutational pattern of this virus followed the same stochastic trend in all organs and in eggs. The overall mutation frequency due to the deamination process was only 0.2 of all adenosines available and an average of two residues per sequence. In contrast, the overall mutation frequency due to the deamination process was only 0.2 of all adenosines available and an average of two residues per sequence. In contrast, the overall mutation frequency due to the deamination process was only 0.2 of all adenosines available and an average of two residues per sequence. In contrast, the overall mutation frequency due to the deamination process was only 0.2 of all adenosines available and an average of two residues per sequence. The mutational pattern of this virus followed the same stochastic trend in all organs and in eggs.\n",
            "Abstract The ability of aerosolized viruses to infect cells in the human respiratory tract is unknown. In this study, we describe the use of aerosolized avian influenza virus, low pathogenic avian influenza virus, and seasonal influenza virus to replicate in human primary human alveolar epithelial cells in a manner similar to that of natural infection. In addition, we demonstrate that the ability of these viruses to infect primary human alveolar epithelial cells in vitro is not limited to influenza, but can be successfully replicated in a manner similar to that of natural infection. In addition, we demonstrate that the ability of these viruses to infect primary human alveolar epithelial cells in vitro is not limited to influenza, but can be replicated in a manner similar to that of natural infection. In addition, we demonstrate that the ability of these viruses to infect primary human alveolar epithelial cells in vitro is not limited to influenza, but can be replicated in a manner similar to that of natural infection. In addition, we demonstrate that the ability of these viruses to infect primary human alveolar epithelial cells in vitro is not limited to influenza, but can be replicated in a manner similar to that of natural infection. The ability to combine aerosol inoculation with the benefits of in vitro study, notably the ability\n",
            "Abstract The nucleocapsid protein, a structural protein of group 2 coronaviruses, has been shown to promote the spread of these viruses in the central nervous system. In this study, we show that the nucleocapsid protein of group 2 coronaviruses, although not required for virion morphogenesis, promotes the spread of these viruses in the central nervous system and that, surprisingly, this property is not related to its enzymatic activity. The results indicate that the nucleocapsid protein is a major sialic acid binding protein in group 2 coronaviruses and that, surprisingly, this property is not related to its enzymatic activity. We propose that the nucleocapsid protein is a minor receptor binding protein at best and would, in analogy to the neuraminidase in influenza and viruses, mainly function as a virion associated receptor destroying enzyme.\n",
            "Abstract The advent of nucleic acid based vaccines has resulted in the development of highly effective and safe vaccines against a wide range of infectious diseases, cancer, autoimmunity or allergy. In this review, we provide an overview of the current state of the art of nucleic acid based vaccines, focusing on vector design improvement, antigen codon optimization, use of traditional adjuvants and molecular adjuvants, electroporation, co expression of molecular adjuvants and prime boost strategies. The advances made in the field of nucleic acid based vaccines have led to the development of new strategies to enhance the immunogenicity of these vaccines, including vector design improvement, antigen codon optimization, use of traditional adjuvants and molecular adjuvants, electroporation, co expression of molecular adjuvants and prime boost strategies.\n",
            "Abstract The envelope protein gp350 is the principal target of neutralizing antibodies in naturally infected individuals, and it is an attractive vaccine target to prevent viral infection of cells. In this study, we explored the immunogenicity of gp350 ectodomain and gp350 encapsulin based vaccines in mice and cynomolgus macaques. We found that immunization with gp350 ectodomain and gp350 encapsulin elicited potent and durable virus neutralizing antibodies in mice and cynomolgus macaques. In contrast, immunization with gp350 ectodomain and gp350 encapsulin elicited only modest antibody responses in mice and cynomolgus macaques. In contrast, immunization with gp350 ectodomain and gp350 encapsulin elicited potent and durable virus neutralizing antibodies in mice and cynomolgus macaques. In contrast, immunization with gp350 ectodomain and gp350 encapsulin elicited only modest antibody responses in mice and cynomolgus macaques. In contrast, immunization with gp350 ectodomain and gp350 encapsulin elicited potent and durable virus neutralizing antibodies in mice and cynomolgus macaques. The data demonstrate that gp350 ectodomain and gp350 encapsulin based vaccines elicit potent and durable virus neutralizing antibodies in mice and cy\n",
            "Abstract The innate immune system has evolved to recognize and respond to a wide range of pathogens, including viruses, bacteria, parasites, and bacteria. In this review, we will highlight recent studies on the mechanisms by which natural killer cells recognize and respond to viruses, parasites, and bacteria, and will underscore the unique role of natural killer cells in innate immunity to infection.\n",
            "Abstract The concept of immunosuppressive cells arose more than three decades ago from studies on autoimmunity, and cell and cell responses to foreign antigens. The concept of immunosuppressive cells arose more than three decades ago from studies on autoimmunity, and cell and cell responses to foreign antigens. The first connection between chronic viral infection and immunosuppressive cells appeared in study of mice infected with I retrovirus, and this was quickly followed by study of humans chronically infected with hepatitis virus. The induction of immunosuppressive cells during viral infection was considered to be a detrimental response that promoted virus persistence with little or no benefit to the host. The role of virus induced immunosuppressive cells in chronic viral infections and disease is discussed.\n",
            "Abstract The safety of blood component transfusions is of the utmost importance in human and veterinary transfusion medicine. The strict guidelines ensure that only healthy donors are used, there is still the potential that donors can have subclinical viremia, bacteremia, or parasitemia and that the organisms could be transmitted via transfusion to patient. We describe here the investigations surrounding bacterial contamination of a single feline peripheral blood mononuclear cell unit and experimental bacterial contamination of canine peripheral blood mononuclear cell units stored at 4 and 20V in which standard gross and microscopic examinations, bacterial culture, and a novel semiquantitative real time eubacterial 16V rV geneV test were used for blood product screening. In the present study, the sentinel unit was not transfused to patient and source of contamination or storage temperature error was not determined, bacterial contamination of blood products could be the first indication of systemic error in the blood banking process and therefore should be thoroughly investigated.\n",
            "Abstract The aim of this study was to evaluate the safety and efficacy of ascites derived exosomes as a vaccine adjuvant in a phase clinical trial of patients with advanced nonsmall cell lung cancer. The efficacy of the vaccine was evaluated by the induction of tumor antigen specific cytotoxic lymphocytes and the delayed type hypersensitivity response. The results showed that the ascites derived exosomes were safe and efficient in induction of tumor antigen specific cytotoxic lymphocytes and delayed type hypersensitivity response. The results suggested that the ascites derived exosomes combined with adjuvant could be considered as a promising vaccine for cancer immunotherapy in the future.\n",
            "Abstract The spike protein of feline infectious peritonitis virus and feline coronavirus has been shown to be cleaved by cysteine proteases, cathepsins and cathepsins. The role of these proteases during coronavirus entry has not been well characterized. In this study, we show that the spike protein of both feline coronaviruses is cleaved by cysteine proteases, cathepsins and cathepsins. The effect of cathepsin and cathepsin inhibitors on coronavirus entry was also assessed. The effect of cathepsin and cathepsin inhibitors on infection of primary feline monocytes and macrophages was also assessed. The results indicate that the spike protein of both feline coronaviruses is cleaved by cysteine proteases, cathepsins and cathepsins, whereas the spike protein of feline infectious peritonitis virus is cleaved by only cathepsins and cathepsins. The effect of cathepsin and cathepsin inhibitors on infection of primary feline monocytes and macrophages was also assessed. The effect of cathepsin and cathepsin inhibitors on infection of primary feline monocytes and macrophages was also assessed. The effect of cathepsin and cathepsin inhibitors on infection of primary feline monocytes and macrophages by feline infectious peritonitis virus\n",
            "Abstract In this study, we have investigated the effects of visible ultrashort pulsed laser irradiation on the inactivation of influenza virus. The inactivation of influenza virus by visible ultrashort pulsed laser irradiation was found to be comparable to that of formalin and gamma radiation in terms of hemagglutination activity, protein carbonylation, and hemagglutination inhibition assays. In contrast, the inactivation of influenza virus by visible ultrashort pulsed laser irradiation did not generate hemagglutination inhibition assays, protein carbonylation, or hemagglutination inhibition assays. In contrast, the inactivation of influenza virus by visible ultrashort pulsed laser irradiation did not generate hemagglutination inhibition assays, protein carbonylation, or hemagglutination inhibition assays, suggesting that the inactivation of influenza virus by visible ultrashort pulsed laser irradiation does not generate hemagglutination inhibition assays, protein carbonylation, or hemagglutination inhibition assays, suggesting that the inactivation of influenza virus by visible ultrashort pulsed laser irradiation does not generate hemagglutination inhibition assays, protein carbonylation, or hemagglutination inhibition assays, suggesting that the inactivation of influenza virus by visible ultrashort pulsed laser irradiation does not generate hemagglutination inhibition assays, protein carbony\n",
            "Abstract We have developed a novel vesicular stomatitis virus vectored vaccine expressing the immunodominant I.tb antigen of human immunodeficiency virus. The vaccine was shown to be immunogenic when given to mice by either an intranasal or an intramuscular route. The distinct cell profiles resulted from both routes of immunization, only intranasal delivery generated mucosal cell responses that was protective upon pulmonary tuberculosis challenge. In contrast, only intranasal delivery generated a mucosal cell response that was protective upon pulmonary tuberculosis challenge, it was not sustained. The potential of I.g85V to be used as a mucosal booster for parenteral priming by an adenoviral vaccine expressing I85V was investigated. The potential of I.g85V to be used as a mucosal booster for parenteral priming by an adenoviral vaccine expressing I85V was investigated. We found that, when given mucosally, only intranasal delivery generated mucosal cell responses that was protective upon pulmonary tuberculosis challenge. The protection manifested at an early time point after immunization, it was not sustained.\n",
            "Abstract The present longitudinal study was performed to evaluate the effects of long term feeding with two nonsteroidal anti inflammatory drugs, halofuginone and chloramphenicol, on neonatal calves against Isporidium parvum infection in comparison with both prophylactically treated and an untreated group. The calves were enrolled in 41 blocks of 3 animals based on their date of birth, and calves within each block were allocated to one of 3 treatments 1 remaining untreated 2 fed with halofuginone or 3 treated with chloramphenicol. The calves were weighed on the day of birth as well as on days 21, 42 and 63, and fecal samples were collected on days 4 21 for the detection of oocysts and coproantigen scores. The treatment groups did not differ significantly in terms of oocyst shedding or coproantigen scores. The mean oocyst shedding score was significantly associated with the treatment, and time, and there was significant treatment by time interaction. The mean oocyst shedding score was significantly associated with the intensity of the infection, but not with the number of days with diarrhea. The mean coproantigen scores were significantly associated with the intensity of the infection, but not with the number of days with diarrhea. The\n",
            "Abstract The global burden of infectious diseases continues to grow, with the emergence of new and re emerging pathogens. In response to these new threats, the international community has been working to develop and deploy vaccines to prevent and control these diseases. In this paper, we review the priority lists created by the international community for infectious diseases in 1984 1985 and 2000 and then the most recent and novel systems based approach to this challenge developed between 2010 and 2015 at the request of the SARSV. The 2010 plan has a much wider focus and greater understanding of the high inter connectivity of the various moving parts in the world of infectious diseases and immunization than did the 1994 plan. The 2010 plan also includes both a catalog of priority vaccine targets and creation of a vaccine safety agenda. The 2010 plan elevated the importance of evidence based surveillance of disease incidence, vaccine coverage, and effectiveness. The 2010 plan also recognizes the importance of global surveillance and information gathering, in light of the increasingly rapid international transmission of disease seen in the late 20th and early 21st centuries. In addition, it raises the importance of interoperable health information technology and electronic health records, and urges increased support for vaccines for global health.\n",
            "Abstract The use of cell epitope based vaccines is a promising strategy for the development of novel therapeutic vaccines against infectious diseases. In this review, we will discuss the current state of the art in the development of cell epitope based vaccines against infectious diseases and the potential of cell epitope based vaccines in the development of therapeutic vaccines against infectious diseases.\n",
            "Abstract The expression of long non coding Is has been shown to be altered upon infection with a variety of viral pathogens, including human cytomegalovirus 1. In this study, we performed a meta analysis of two independent quantitative reverse transcription seq studies of IV 1 infected cells and show that, unexpectedly, only three lncVs are differentially expressed in these datasets. The two transcript variants of lnc173V1 and lnc173V2 are robustly expressed in a variety of human cell lines and are up regulated upon infection with IV 1. In addition, lnc173V1 and lnc173V2 are up regulated during the immune response to viral and other intracellular infections. In contrast, lnc173V1 and lnc173V2 are up regulated during the immune response to viral and other intracellular infections. We conclude that lnc173V1 and lnc173V2 are likely involved in transcriptional regulation, but their precise role in this process, if any, remains unclear.\n",
            "Abstract The 5 untranslated region of picornavirusV3 encodes a highly ordered secondary structure and plays an important role in controlling viral translation, replication, and cardiovirulence. In this study, phosphorothioate oligodeoxynucleotides encapsulated in liposomes were designed and synthesized to specifically inhibit the translation initiation codon region and the 5 untranslated region of IV3V. The antiviral activity of these phosphorothioate oligodeoxynucleotides was evaluated by in vitro and in vivo assays. The results showed that the most potent phosphorothioate oligodeoxynucleotides were those targeting the termini of 5 and 3 untranslated regions and the translation initiation codon region. The most potent phosphorothioate oligodeoxynucleotides were those targeting the termini of 5 and 3 untranslated regions and the translation initiation codon region. The most potent phosphorothioate oligodeoxynucleotides were those targeting the termini of 5 and 3 untranslated regions and the translation initiation codon region. The most potent phosphorothioate oligodeoxynucleotides were those targeting the termini of 5 and 3 untranslated regions and the translation initiation codon region. The most potent phosphorothioate oligodeoxynucleotides were those\n",
            "Abstract The vesicular trafficking process is an important cellular process in eukaryotic cells to deliver membrane proteins or soluble cargos from one compartment to another. However, vesicular trafficking has been recently recognized as an important cell biological mechanism in various human diseases such as cancer, neurological disorders, and autoimmune and metabolic diseases including diabetes. In this review, we will focus on the role of a proton pumping rotary nano motor in the regulation of vesicular trafficking and discuss the emerging role of this nano motor in the regulation of vesicular trafficking and the implication of this rendezvous for the regulation of the endocytotic pathway.\n",
            "Abstract In this study, a novel biosensor assay for the detection of interferon 1 activity in live cells is described. The assay is based on bioluminescence resonance energy transfer, a second generation, naturally occurring phenomenon that relies on the resonance energy transfer between a non radiatively to codon optimized humanized I2 and an acceptor molecule. The biosensor assay was validated using several known interferon 1 inhibitors and was found to be sensitive and specific for the detection of interferon 1 activity. In addition, the assay was found to be homogeneous in live cells and there was no need for preparation of cell extracts. In addition, the assay was found to be sensitive for the detection of interferon 1 activity. In addition, the assay was found to be sensitive for the detection of interferon 1 activity and was found to be sensitive for the detection of interferon 1 activity. In addition, the assay was found to be sensitive for the detection of interferon 1 activity and was found to be sensitive for the detection of interferon 1 activity as well as for the detection of interferon 1 activity as well as for the detection of interferon 1 activity as well as for the detection of interferon 1 activity as well as for the detection of interferon 1 activity as well as for the detection of interferon 1 activity as well as interferon\n",
            "\n"
          ],
          "name": "stdout"
        },
        {
          "output_type": "execute_result",
          "data": {
            "text/plain": [
              "{'rouge1': AggregateScore(low=Score(precision=0.44514168605230386, recall=0.318099016524355, fmeasure=0.3607519118317818), mid=Score(precision=0.47115351602828454, recall=0.33852891175522015, fmeasure=0.3791153325856292), high=Score(precision=0.49687229460493815, recall=0.3587861523635414, fmeasure=0.3976894186430214)),\n",
              " 'rouge2': AggregateScore(low=Score(precision=0.1356113744260649, recall=0.09529633233820049, fmeasure=0.10784611648640799), mid=Score(precision=0.1555585012523018, recall=0.10846999707734817, fmeasure=0.12318440041115442), high=Score(precision=0.17688784981428005, recall=0.12430239147682837, fmeasure=0.14043869433795692)),\n",
              " 'rougeL': AggregateScore(low=Score(precision=0.2731999244989015, recall=0.19384049034340245, fmeasure=0.21962081134109682), mid=Score(precision=0.2945889480251246, recall=0.20711122018546202, fmeasure=0.23344668191887583), high=Score(precision=0.319427421417765, recall=0.222879748835671, fmeasure=0.2494425400689304)),\n",
              " 'rougeLsum': AggregateScore(low=Score(precision=0.27275066743226606, recall=0.1936164603026534, fmeasure=0.2197377762430623), mid=Score(precision=0.29430892995907054, recall=0.2074163356150559, fmeasure=0.23375419734394998), high=Score(precision=0.31871445549126637, recall=0.22275101126332447, fmeasure=0.250929941421973))}"
            ]
          },
          "metadata": {
            "tags": []
          },
          "execution_count": 43
        }
      ]
    },
    {
      "cell_type": "code",
      "metadata": {
        "id": "l2wrlMpkFhni"
      },
      "source": [
        "\n",
        "device = \"cuda\"\n",
        "\n",
        "#MODEL_ID = f\"google/bigbird-pegasus-large-{DATASET_NAME}\"\n",
        "MODEL_ID = f\"model_X\"\n",
        "\n",
        "\n",
        "model1 = BigBirdPegasusForConditionalGeneration.from_pretrained(MODEL_ID, gradient_checkpointing=True, use_cache=False).to(device)\n",
        "\n",
        "#tokenizer = AutoTokenizer.from_pretrained(\"deepset/covid_bert_base\")"
      ],
      "execution_count": 45,
      "outputs": []
    },
    {
      "cell_type": "code",
      "metadata": {
        "id": "Pdf09-tgIfk5"
      },
      "source": [
        "def generate_answer1(batch):\n",
        "    inputs_dict = tokenizer(batch[\"extractivecombo\"], padding=\"max_length\", max_length=4096, return_tensors=\"pt\", truncation=True)\n",
        "    inputs_dict = {k: inputs_dict[k].to(device) for k in inputs_dict}\n",
        "    predicted_abstract_ids = model1.generate(**inputs_dict, max_length=256, num_beams=5, length_penalty=0.8)\n",
        "    batch[\"predicted_abstract\"] = tokenizer.decode(predicted_abstract_ids[0], skip_special_tokens=True)\n",
        "    print(batch[\"predicted_abstract\"])\n",
        "    return batch"
      ],
      "execution_count": 48,
      "outputs": []
    },
    {
      "cell_type": "code",
      "metadata": {
        "colab": {
          "base_uri": "https://localhost:8080/",
          "height": 1000,
          "referenced_widgets": [
            "b4974973d19d48f58c1ff10c5abfc129",
            "35c4663054f246ffb5cbb7addddbbf8c",
            "a3123c8a4a6940128ad7447b3e0ced8a",
            "9850d16393da47e5b30d30dd3b13e353",
            "34e937f836b5403a88e37b649e61e326",
            "a63b2507666b4a84a4c867a30b3fb57f",
            "f24b8b9bad874e259f7cbeb7ac95ee6a",
            "8779ff10da55451b8fd85dac7f7613bf"
          ]
        },
        "id": "yCbJBh30I6Ay",
        "outputId": "9909abf0-bc3f-4db7-eb4a-1189e9bf3335"
      },
      "source": [
        "dataset_small = xx.select(range(100))\n",
        "result_small = dataset_small.map(generate_answer1)\n",
        "\n",
        "rouge.compute(predictions=result_small[\"predicted_abstract\"], references=result_small[\"abstract\"])"
      ],
      "execution_count": 49,
      "outputs": [
        {
          "output_type": "display_data",
          "data": {
            "application/vnd.jupyter.widget-view+json": {
              "model_id": "b4974973d19d48f58c1ff10c5abfc129",
              "version_minor": 0,
              "version_major": 2
            },
            "text/plain": [
              "HBox(children=(FloatProgress(value=0.0), HTML(value='')))"
            ]
          },
          "metadata": {
            "tags": []
          }
        },
        {
          "output_type": "stream",
          "text": [
            "Abstract The importance of childhood community acquired pneumonia can not be emphasized enough. In the early nineties, over 25% of the annual deaths of children in developing countries before the fifth birthday were attributable to pneumonia. In the early nineties, over 25% of the annual deaths of children in developing countries before the fifth birthday was attributable to pneumonia. In the early nineties, over 25% of the annual deaths of children in developing countries before the fifth birthday was attributable to pneumonia. In the early nineties, over 25% of the annual deaths of children in developing countries before the fifth birthday was attributable to pneumonia. In the late nineties, over 25% of the annual deaths of children in developing countries before the fifth birthday was attributable to pneumonia. In the early nineties, over 25% of the annual deaths of children in developing countries before the fifth birthday was attributable to pneumonia. In the early nineties, over 25% of the annual deaths of children in developing countries before the fifth birthday was attributable to pneumonia. In the early nineties, over 25% of the annual deaths of children in developing countries before the fifth birthday was attributable to pneumonia. In the early nineties, over 25% of the annual deaths of children in developing countries before the fifth birthday was attributable to pneumonia. We was estimated to be responsible for 1.6 million deaths among 5 old children around the\n",
            "Abstract The 5 terminal unique region of avian coronavirus infectious bronchitis virus encodes two large polyproteins, 1a and 1b. The polyproteins are cleaved by two viral proteinases to produce functional products associated with viral replication. The two polyproteins are cleaved by two viral proteinases to produce functional products associated with viral replication. The two polyproteins are cleaved by two viral proteinases to produce functional products. The two polyproteins are cleaved by two viral proteinases to produce functional products. The two polyproteins are cleaved by two viral proteinases to produce functional products. The two polyproteins are cleaved by two viral proteinases to produce functional products. The two polyproteins are cleaved by two viral proteinases to produce functional products. The two polyproteins are cleaved by two viral proteinases to produce functional products. The two polyproteins are cleaved by two viral proteinases to produce functional products. The two polyproteins are cleaved by two viral proteinases to produce functional products. The two polyproteins are cleaved by two viral proteinases to produce functional products. The two polyproteins are cleaved by two viral protein\n",
            "Abstract A recombinant tumor specific immunoglobulin produced in baculovirus infected insect cells endowed it with markedly improved binding to human hemagglutinin, and was accompanied by upregulation of several hemagglutinin activation markers. In vivo, immunization with insect cell derived tumor specific immunoglobulin induced higher levels of cytotoxic lymphocyte activity against the I20 murine cell lymphoma compared to hybridoma derived tumor specific immunoglobulin, with an associated improvement in the frequency of tumor eradication. The approach combining the use of insect cell derived tumor antigens and conjugation to keyhole limpet hemocyanin using a recently described maleimide sulfhydryl based method produced the highest level of tumor eradication and tumor specific antibodies.\n",
            "Abstract In recent years, there has been a growing interest in exploiting immunoglobulin type lectins for immunotherapy and disease prevention. In particular, studies have focused on the role of sialoglycoconjugates on glycans and their interactions with host immune cells. In this review, we discuss the recent advances in understanding the role of sialoglycoconjugates on glycans and their interactions with host immune cells.\n",
            "Abstract The detection of intra segmental homologous recombination in influenza is still legitimate, since evidence of homologous recombination has been found in other segmented negative strandV viruses. The goal of this study is to address whether there is evidence of intra segmental homologous recombination in these strains that have undergone multiple reassortment events, and when homologous recombination did occur, whether we can effectively detect the recombinant sequences. In this study, thorough examination for intra segmental homologous recombination was conducted in 256 gene segments from 32 swine influenza genomes generated by a phylogenetic analysis on each gene segment. The results show that there are significant signals for intra segmental homologous recombination within the polymerase basic 2 protein gene supported by ribonucleoprotein, influenza virus virus, and influenza virus. The findings suggest that intra segmental homologous recombination in influenza viruses, when occurs, tends to occur between closely related strains. The frequency of homologous recombination correlates positively and tightly with nucleotide sequence similarity and decreases sharply with the level of relatedness between the two parental sequences. The results suggest that, with the exactly same set of sequences involved in recombination, using distantly related outgroup sequences could lead to a poorer performance of recombination detection using phylogenetic methods.\n",
            "Abstract The recent outbreak of an atypical pneumonia severe acute respiratory syndrome has been associated with a newly identified coronavirus termed SARS coronavirus. The viral spike glycoprotein mediates the fusion of the target and viral membranes, a process that requires the formation of a highly stable post fusion trimer of hairpins structure. In this report, we have used a protein dissection approach to identify and study two isolated helices and two helices complexes from I coronavirus spike 2. The conserved peptide region within the I2 ectodo main folds into a labile yet well ordered, antiparallel, four stranded coiled coil with unusual structural features. The three distinct helical domains, initially sequestered in the native spike, are sequentially refolded to promote membrane fusion, with the three distinct helical domains formed by the respective antiparallel helices, which alternate from one pair of parallel helices to the other. We hypothesize that the four helix bundle plays a role in bringing the attached target and viral membranes into proximity, probably prior to formation of the still more stable six helix bundle. In contrast, closely related 63 residue peptide beginning at residue 911 has w 50% helix content and forms a trimer, as determined by circular dichroism and sedimentation equilibrium measurements. The trimer\n",
            "Abstract The nucleocytoplasmic trafficking of cellular proteins is subject to regulation by post translational modifications such as phosphorylation, ubiquitination and small ubiquitin related modifiers. In this review, we will summarise our current knowledge of these pathways and give a few examples of how these pathways are exploited by viruses.\n",
            "Abstract The major histocompatibility complex protein 1 plays an important role in the processing and presentation of several antigens. In the present study, we compared the immunogenicity of two recombinant plasmids encoding the native I protein and a chimera containing the optimized I 1 gag sequence. The results showed that each of the recombinant plasmids induced distinct cellular and humoral immune responses. In contrast, only immunization with the plasmid encoding the native I protein induced a dual functional antigen specific immune response characterized by the production of both interferon gamma and interleukin 1. In contrast, only immunization with the chimera elicited a dual functional antigen specific immune response characterized by the production of both interferon gamma and interleukin 1. The results suggest that modification of the posttranslational fate of an antigen, in addition to optimization of I expression, provides another approach to improve immunogenicity of antigens, to amplify desirable vaccine responses, and to further increase the efficiency of I vaccines.\n",
            "Abstract The aim of this study was to determine the presence and prevalence of four viral pathogens of concern and one protozoal pathogen of interest in a wild dog population across much of their range. In addition, we hypothesized that pathogens with environmental persistence or complex lifecycles might be able to persist in wild dog populations in the absence of an external reservoir, such that wild dog exposure might not be as influenced by land use type and probability of contact with domestic dogs. In total, 268 individual wild dogs distributed across 16 sites in five countries were sampled between 1988 and 2009 and tested for rabies virus, canine distemper virus, canine coronavirus, parvovirus and I. canis by enzyme linked immunosorbent assay and hemagglutination inhibition tests. The results show that most wild dog populations are in contact with both rabies virus and canine distemper virus, yet most have persisted over time. The higher levels of canine distemper virus exposure were found in wild dogs from both unprotected and protected unfenced areas, while rabies virus and coronavirus exposure was highest in wild dogs from unprotected areas. The higher levels of canine distemper virus exposure were found in wild dogs from both unprotected and protected unfenced areas, while rabies virus and coronavirus exposure was highest in wild dogs from unprotected\n",
            "Abstract The objective of vaccination is to achieve specifi stimulation of the immune system enabling the host to mount an effi cient memory immune response that can recognize the pathogen and eventually eliminate it once present in the organism upon infection. In addition to neutralizing antibodies, a pool of specifi lymphocytes containing memory and effector cells will be expanded as a primary response to the vaccine stimulus. This knowledge should be derived from the pathogenesis of viral infection in the target species to which the vaccine is intended for but unfortunately these type of studies are often more diffi cult to perform than in laboratory animals. In this perspective, some technologies for vaccine design may constitute powerful platforms to rapidly generate new experimental vaccines based on previous knowledge about the immune responses generated in the host. The examples outline the number of strategies than can be selected when designing attenuated vector vaccines as well as the possibility to design marker vaccines to elicit protection against several virus pathogens simultaneously.\n",
            "Abstract A head to tail ligation method was used to determine the length of the poly tail of bovine coronavirus, which is a member of the alphacoronavirus family. The poly tail length of the avirulent strain of bovine coronavirus was determined to be 25 nt at 1 day postinfection and then increased to 60 nt at 2 days postinfection. The length of the poly tail of the virulent strain of bovine coronavirus was determined to be 45 nt at 1 day postinfection and then increased to 60 nt at 2 days postinfection. The poly tail length of the avirulent strain of bovine coronavirus was determined to be 25 nt at 1 day postinfection and then increased to 60 nt at 2 days postinfection. The poly tail length of the avirulent strain of bovine coronavirus was determined to be 45 nt at 1 day postinfection and then increased to 60 nt at 2 days postinfection. The poly tail length of the avirulent strain of bovine coronavirus was determined to be 25 nt at 1 day postinfection and then increased to 60 nt at 2 days postinfection. The poly tail length of the avirulent strain of bovine coronavirus was determined to be 45 nt at 1 day\n",
            "Abstract A cationically modified chitosan derivative, 3 trimethylammonium chitosan chloride, and its hydrophobically modified derivative, 3 trimethylammonium chitosan chloride, are shown to be potent inhibitors of IVVV63 replication. In the presence of the tested polymers there is a drastic decrease in the number of viral copies in the presence of the tested polymers, proving their effectiveness also in this semi natural setting. The best results were obtained for the hydrophobically modified 3 trimethylammonium chitosan chloride, for which the RNA 50 value reaches 2.75 1.18, though a pronounced inhibition was noted also for the hydrophobically modified 3 trimethylammonium chitosan chloride. The latter polymer showed similar toxicity, showing a highly specific inhibition of viral infection. The polymers also showed a prominent activity against murine hepatitis virus, suggesting that developed compounds may represent a novel class of antiviral compounds for the treatment of a wider spectrum of coronaviral diseases.\n",
            "Abstract We show that ribosomal frameshifting, a recently described mechanism of translational regulation in higher eukaryotes, is also a mechanism for the regulation of the expression of the viral polymerases encoded by the influenzaVl gene. The efficiency of frameshifting in vivo was similar to that seen in the reticulocyte lysate, suggesting that efficient frameshifting depends on the formation, by these sequences, of a tertiary structure in the form of a pseudoknot.\n",
            "Abstract The aim of this study was to assess the efficacy of an anti viral drug to stop the excretion of feline coronavirus in the faeces of naturally infected cats. We report the results of an observational study of five households of cats which were cleared of feline coronavirus using a commercially available anti viral drug, feline interferon omega. The cats were divided into three groups of up to eight cats each, and treated for four days at a dose of 2 or 4 q24 hours per os, or for four days at a dose of 4 q24 hours per os, or for four days at a dose of 4 q24 hours per os, respectively. We found that an intensive four day course stopped virus shedding while cats being treated for feline coronavirus have higher virus loads and require a longer course of treatment, up to 12 weeks, which surely is more likely to allow resistant virus strains to develop, and to allow the prevalence of feline coronavirus to reduce, which will further reduce the use of unlicensed drugs. We hope that by stopping cats shedding feline coronavirus, especially in purebred cats, the prevalence of feline coronavirus will reduce, which will further reduce the use of unlicensed drugs.\n",
            "Abstract We discuss the role of viral respiratory infections in the expression of asthma in early life and how they contribute to asthma exacerbations.\n",
            "Abstract The ability of recombinant vectors derived from the single stranded parvovirus adeno associated virus to drive sustained protective humoral immunity through a variety of injection routes has attracted increasing interest as a potential vaccine vehicle. In the context of intramuscular immunization, however, little is known about the impact of the route of immunization on the induction of humoral immune responses following intradermal immunization. In the present study, we demonstrate that intradermal immunization with a single r CoV serotype led to potent induction of humoral immune responses in the context of intramuscular immunization, but not in the context of intramuscular immunization. The results suggest that the skin, which naturally harbors a large and diverse adeno associated virus population in direct contact with the commensal flora, might be less dependent than the skeletal muscle on vector intrinsic inflammatory properties for the recruitment and activation of memory I8 T cells through the cross presentation pathway.\n",
            "Abstract The effects of pneumonia, diarrhea, umbilical infection, umbilical hernia, and postcolostral serum I on the growth rate of female dairy calves were studied. The effects of these diseases were studied during the s, 2nd, and 3rd mo of life and on the total weight gain during the entire 3 mo period. In the 1st mo of life, incidence of verified pneumonia that required treatment reduced the total weight gain by 66 g and the incidence of diarrhea that required treatment reduced the total weight gain by 48 g during the 2nd mo of life, and the incidence of umbilical hernia that required treatment reduced the total weight gain by 3.6 g during the 3rd mo of life. In the 3 mo of life, the incidence of verified pneumonia that required treatment reduced the total weight gain by 3.6 g and the incidence of diarrhea that required treatment reduced the total weight gain by 48 g during the 2nd mo of life, and the incidence of umbilical hernia that required treatment reduced the total weight gain by 0.9 g during the 3rd mo of life. In the 3 mo of life, the incidence of pneumonia that required treatment reduced the total weight gain by 2.5 g during the 2nd mo of life, and the incidence of diarrhea that required treatment reduced the total weight gain\n",
            "Abstract The effect of concurrent infection with porcine reproductive and respiratory syndrome virus, I. choleraesuis, and dexamethasone on viremia and duration of infection was evaluated in 5 week old pigs. The pigs were inoculated intranasally with a clinical isolate of I. choleraesuis and treated with dexamethasone at a rate of 2 or 10 3 colony forming units per ml of solution. Inoculated pigs were challenged intranasally with a challenge dose of I. choleraesuis at a concentration of 10 6 colony forming units per ml of solution, with a rate of 10 3 50% tissue culture infectious doses per ml of solution, and with dexamethasone at a rate of 2 or 10 3 50% tissue culture infectious doses per ml of solution. The treatment groups were compared in terms of clinical signs, viremia, and duration of infection. We found that pigs inoculated with only I. choleraesuis had no signs, while dually infected animals showed severe clinical signs. The treatment clearly potentiated both the challenge dose of I. choleraesuis and the challenge dose of I. choleraesuis and dexamethasone treatment on viremia and duration of infection.\n",
            "Abstract The purpose of this paper is to provide a synthesized review of how global scholarship examines the realm of social mediated dialogue in crises. In the field of communication, social media has become increasingly important and powerful in facilitating publics to express their own opinions. We found that the ubiquitous control of the central government and strict media have significantly influenced the communication pattern and dialogue building between organizations and their publics in crises. In addition, theories such as the social mediated crisis communication model, medium influence based theories, and source influence based theories were not frequently applied. The study thus posited the second research question to explore the types of social media commonly discussed in the field of communication. In addition, this paper suggested that it is important for organizations to adopt an informal communication style in dialogue with online publics in crises.\n",
            "Abstract The endoplasmic reticulum is an important cellular organelle that controls several critical aspects of cellular processes such as cellular proteins folding and post translational modifications. In addition, it plays pivotal roles in virus replication and pathogenesis. In this review, we discuss the role of the endoplasmic reticulum in virus replication and pathogenesis and highlight the emerging roles of the endoplasmic reticulum in virus induced apoptosis, immune evasion and inflammation, which have profound but complex implications in virus replication and pathogenesis.\n",
            "Abstract The acute respiratory distress syndrome caused by highly pathogenic avian influenza virus is a common cause of mortality from severe influenza. The innate immune response is critical for influenza virus clearance, an aberrant cytokine response often results in immunopathology and subsequent organ dysfunction and host death. In this study, we found that loss of I expression significantly increased the expression levels of some representative cytokines and chemokines in the mouse lung, especially the cytokine, chemokines and complement derived peptides. In addition, we found that the I deficient viruses induced stronger cell death and higher reactive oxygen species production in mammalian cells compared with the parental virus. In summary, our findings suggest that the I protein may alleviate the acute lung injury caused by the lethal I5N1 subtype of influenza virus through blunting the viral replication and virus induced host innate immune response, especially the cytokine, chemokines and complement response.\n",
            "Abstract In this chapter, we review the recent advances in our understanding of the astrovirus virion. The recent cryo electron microscopy studies of the astrovirus virion have yielded important insights into the proteolytic maturation and corresponding conformational changes in the astrovirus virion. The studies on the astrovirus virion and capsid spike have uncovered striking structural similarities to hepatitis virus, suggesting that these viruses have a closer phylogenetic relationship than previously recognized. The high resolution ray crystallographic structure of the astrovirus protease revealed a number of distinctive features that provide insight into its role in nonstructural polyprotein processing events. In addition, these structural studies will have a large impact on the development of antivirals and vaccines targeting astrovirus.\n",
            "Abstract The coronaviruses sialodacryoadenitis virus 681 and sialodacryoadenitis virus strain 681 are closely related antigenically and probably represent strains of the same virus. In this study, cell sublines were produced and selected to maximize growth of wild type and prototype isolates. The subline was used to isolate IVs from naturally infected rats and to propagate IV stocks from plaques. In molecular weights and ratios of and proteins was detected among two prototypes, oneV and three wild type isolates suggesting that biological differences in the behavior of isolates may be related to differences in proteins.\n",
            "Abstract The envelope protein of the severe acute respiratory syndrome coronavirus is a small, 76 amino acid, integral membrane protein with one putative transmembrane helical hydrophobic domain, 20 30 amino acids long, flanked by a short terminus and a longer terminus tail, both more hydrophilic. However, of these oligomeric forms, only pentamer is consistent with the formation of a pore that could account for the ion channel behavior observed in previous reports, but at present the oligomeric form of protein A, and proteinV, in lipid bilayers is not yet known. In this work, we have analyzed the structure of isotopically labeled proteinV when incorporated in model lipid bilayers using polarized attenuated total reflection infrared spectroscopy. The results provide an important insight into the mode of organization of protein in lipid bilayers.\n",
            "Abstract A typical example of the dual effect of mutation and selection is escape mutations from virally infected cells. In this study, we use bioinformatics tools to analyze the relation between the frequency of escape mutations and the viral complexity. The relation is shown to extend from the single protein to the entire organism, and to extend from the single protein to the entire organism. The results suggest that the relation extends from the single protein to the entire organism, and from the single protein to the entire organism.\n",
            "Abstract The spike protein of severe acute respiratory syndrome associated coronavirus, a novel human coronavirus, is detectable in infected cells at 8 12 h post infection, and in the pneumocytes of infected patients with acute respiratory distress syndrome. In this study, a microarray was used to analyze the changes in the transcriptome of human green monkey kidney cells infected with IVV. In addition, the expression profiles of 17 genes selected after the microarray analysis were further validated by real time quantitative polymerase chain reaction. The microarray analysis revealed that the transcriptome of infected cells exhibited significant changes in a wide range of functional classes, including proteins involved in cell cycle and development, as well as those involved in the host translational machinery, including 40 ribosomal proteins 60 ribosomal proteins isoleucine synthetase and modifying enzyme and eukaryotic translation elongation factors. In contrast, the transcriptome of infected cells exhibited significant changes in apoptosis related genes, including the p53 gene, which mediates the expression of the antiapoptotic p21 cyclin dependent kinase inhibitor and the pro apoptotic I20 isoform that both interact with tumor necrosis factor receptor 1 and participate in the apoptotic pathway. The results of the microarray analysis and the real time quantitative polymerase chain reaction revealed that the difference between infected and un\n",
            "Abstract The overlapping nucleocapsid and orf9b genes of human betacoronavirus have been shown to be evolutionary conserved when compared to the non overlapping regions of the same viral genome. In this study, we analyzed the codon usage patterns of the two genes and the effects of the overlap on their mutation rates as well as on the three dimensional structures of their protein products. The codon usage analysis shows that the overprinting orf9b has a discordant codon usage pattern whereas the overprinted region of the nucleocapsid gene has a codon usage pattern similar to the non overlapping regions of the same viral genome. The overprinting orf9b protein forms a two fold symmetric dimer comprising two adjacent sheets. The central hydrohobic cavity between the monomers exhibits reduced flexibility, as evident from the atomic temperature factors for the polypeptide. The overprinted part of the nucleocapsid protein is subject to positive selection pressure and is evolving at a faster rate, compared to the overprinted part. The other hand, the overprinted part of the nucleocapsid protein is subject to negative selection pressure and is evolving at a slower rate, compared to the overprinted part. The analysis presented here may form a basis to follow the future evolution of orf9b and\n",
            "Abstract The leader sequence in subgenomicV is unique in coronavirus and arterivirus, which is closely related to coronavirus. The leader sequence may join the body sequence during processing of a negative strand subgenomicV or during processing of a negative strand subgenomicV on a negative strand subgenomicV template. The leader sequence may join the body sequence during processing of a negative strand subgenomicV or during processing of a negative strand subgenomicV on a negative strand subgenomicV template. The leader sequence may join the body sequence during processing of a negative strand subgenomicV or during processing of a negative strand subgenomicV on a negative strand subgenomicV template. The leader sequence may join the body sequence during processing of a negative strand subgenomicV or during processing of a negative strand subgenomicV on a negative strand subgenomicV template. The leader sequence may join the body sequence during processing of a negative strand subgenomicV or during processing of a negative strand subgenomicV on a negative strand subgenomicV template. The leader sequence may join the body sequence during processing of a negative strand subgenomicV or during processing of a negative strand subgenomicV on a negative strand subgenomicV template. The leader sequence may join the body sequence during processing of a negative\n",
            "Abstract In this chapter, we present an overview of the lectins that bind to and activate type I lectins, and where relevant, to determine how this ligand receptor binding modulates the immune response. In addition, we highlight the degree of structural variation each lectin can tolerate and encourage natural products or synthetic chemists to identify new, or further refine, ligands for these receptors.\n",
            "Abstract The aim of this study was to understand how immune modulation induced by a prior respiratory viral pathogen influences subsequent porcine respiratory coronavirus respiratory infection. We used porcine reproductive and respiratory syndrome virus infection to understand how immune modulation induced by a prior respiratory viral pathogen influences subsequent porcine respiratory coronavirus respiratory infection. The aim of our study was to understand how viral co infections modulate innate and adaptive immune responses, and how these responses relate to the clinical outcome in pigs. We used porcine reproductive and respiratory syndrome crossbred specificpathogen free piglets infected with porcine respiratory coronavirus type 2 or porcine reproductive and respiratory syndrome virus type 1. The pigs were bled on arrival, and pre bleed sera were tested to confirm the absence of neutralizing antibodies to porcine reproductive and respiratory syndrome virus, porcine circovirus type 2, porcine infectious bronchitis virus, porcine parvovirus, porcine circovirus type 1, porcine infectious bronchitis virus, porcine reproductive and respiratory syndrome virus type 2, porcine infectious bronchitis virus, porcine infectious bronchitis virus, porcine reproductive and respiratory syndrome virus type 1, porcine infectious bronchitis virus, porcine reproductive and respiratory syndrome virus type 2, porcine infectious bronchitis virus, porcine infectious bronchitis virus, porcine reproductive and respiratory syndrome virus type 2 \n",
            "Abstract The contemporary mega trend of rapid urbanization, together with global climate change, both developed and developing countries are highly susceptible to various types of environmental disasters with the potential to bring heavy destruction. This increase in the frequency and severity of disasters is often a result of the unsustainable nature of human developmental activities, which is usually combined with a densely concentrated population in urban areas. In this context, many developed and developing countries are carrying out disaster risk reduction activities in the context of decentralized governance, and a number of studies are underscoring the implications of a decentralized governance structure for effective disaster prevention and mitigation. This paper has examined the recent evolution of disaster governance in SARS, a country with nascent democratization and decentralization but a legacy of strong state institutions. In the past several decades, the countries in the region have made significant progress toward decentralized governance, despite some variations. The national level, it reformed the system, which had been inefficiently dispersed and duplicated among various national departments and agencies, into a comprehensive and integrated one under a centralized command and control. The same time, it made great efforts to decentralize disaster governance, highlighting the responsibilities and roles of the local government as the key unit in disaster management. The paper also highlights the need to establish and maintain reliable relationships and communication linkages with\n",
            "Abstract The severe acute respiratory syndrome associated coronavirus is responsible for a large number of human deaths. In this study, we established a new experimental small animal model for IV by using mouse passagedVV mice and mouse passaged IV mice. The mice were infected intranasally with the virus and then sacrificed on days 3, 6, and 10 after inoculation. The lungs of infected young and adult mice were weighed on days 0 to 5 after inoculation. In addition, the lungs of infected young and adult mice were weighed on days 0 to 5 after inoculation. In addition, the lungs of infected young and adult mice were weighed on days 0 to 5 after inoculation. The mean initial body weight of the two mouse groups were 24.72 1.04 and 25.44 1.55 g, respectively. This difference in body weight change was significantly lower than the average body weight change of aV 1 isolate infected adult mice on day 5 after inoculation. In contrast, the lung homogenates of young mice had significantly higher levels of monocyterelated chemokines, angiotensin converting enzyme 2, and inducible protein 10 than those from young mice. In contrast, the lung homogenates of adult mice had significantly higher levels of monocyterelated chemokines \n",
            "Abstract The signature features common to broadly neutralizing antibodies are important for immunogen design in the development of a universal influenza vaccine. We report that the hemagglutinin gene segment contributes the majority of the interaction surface and is a recurring motif in antibodies that target the hemagglutinin stem.\n",
            "Abstract The objective of this paper was to explore how behaviour and virulence influence one another, in a coupled behaviour disease differential equation model. The model is based on a system of differential equations in the presence of adaptive social behaviour. In the absence of social behaviour, the system is disease free and social behaviour is not relevant. In the presence of adaptive social behaviour, we derive necessary and sufficient conditions for the invasion of a more virulent strain under plausible epidemiological and social conditions even when it has a lower basic reproductive number. The model shows how social behaviour can influence the virulence of emerging strains under a plausible parameter when using standard models for social and infection dynamics. This work can generate further insights into how behaviour and virulence interact for specific infectious diseases, by building on existing research on the coupled dynamics of behaviour and infection transmission.\n",
            "Abstract The pathogenesis of severe acute respiratory syndrome is still not fully understood. We review the major pathological findings at the gross, cellular and molecular levels, which have been reported in hitherto published postmortem studies of SARS patients including a previous publication on multiple organ infection in this disease. The implications of such mechanisms for the prevention, diagnosis and therapy of this disease are discussed.\n",
            "Abstract The metapneumovirus metapneumovirus is a major cause of lower respiratory tract disease in children, the elderly, and immunocompromised patients worldwide. In this study, we identified the molecular mechanisms by which the small hydrophobic protein I2 2 of h. metapneumovirus promotes viral genome replication in response to h. metapneumovirus infection. In particular, we found that h. metapneumovirus utilizes its I2 2 motifs to suppress h. metapneumovirus induced innate antiviral signaling by preventing the migration of adaptors to the mitochondria. In addition, h. metapneumovirus also uses its I2 2 motifs to suppress h. metapneumovirus induced antiviral signaling by inhibiting the recruitment of interferon inducible gene like receptors. The results suggest that h. metapneumovirus utilizes its I2 2 motifs to suppress h. metapneumovirus induced antiviral signaling by inhibiting the recruitment of interferon inducible gene like receptors. In addition, h. metapneumovirus also uses its I2 2 motifs to suppress h. metapneumovirus induced antiviral signaling by inhibiting the recruitment of interferon inducible gene like receptors. In conclusion, h. metapneumo\n",
            "Abstract The red shifted enhanced green fluorescent protein of equine infectious anemia virus localizes to the nucleolus of infected cells in a pattern similar to that of other viral nucleocapsid proteins. We have identified the conformation determining region of the red shifted enhanced green fluorescent protein as the site of viral nucleolar localization. In addition, we have identified the serine at position 120 as a site for phosphorylation. The nucleolar localization pattern of the red shifted enhanced green fluorescent protein of equine infectious anemia virus is similar to that of other viral nucleocapsid proteins. The red shifted enhanced green fluorescent protein of equine infectious anemia virus localizes to the nucleolus of infected cells in a pattern similar to that of other viral nucleocapsid proteins. We have identified the conformation determining region of the red shifted enhanced green fluorescent protein as the site of viral nucleolar localization. The red shifted enhanced green fluorescent protein of equine infectious anemia virus localizes to the nucleolus of infected cells in a pattern similar to that of other viral nucleocapsid proteins. In addition, we have identified the serine at position 120 as a site for phosphorylation. The red shifted enhanced green fluorescent protein of equine infectious anemia virus localizes to the nucleolus of infected cells in a pattern similar to that of other viral nucleocapsid\n",
            "Abstract The endoplasmic reticulum is utilized by a large number of viruses, other membranous organelles can also be exploited by viruses. However, the exact origins of the membranous structures and the pathways responsible for their formation remain to be fully elucidated. The membranous structures contain markers for autophagosomes, suggesting a pivotal role for autophagy in controlling replication of positive stranded I viruses.\n",
            "Abstract The aim of this study was to develop and validate a real time enzyme linked immunosorbent assay for the detection and quantitation of influenza virus and to compare the results with those obtained from a culture enhanced enzyme linked immunosorbent assay and a panel of clinical isolates. The assay was designed to detect and quantitate viral nucleic acid using a fluorescent labelled probe designed to anneal the influenza matrix protein gene. The assay was validated using a panel of clinical isolates of influenza virus. The results were compared with those obtained from a culture enhanced enzyme linked immunosorbent assay and with those obtained from a panel of clinical isolates. The results indicated that the real time enzyme linked immunosorbent assay was more sensitive than the culture enhanced enzyme linked immunosorbent assay and that the results were in good agreement with those obtained from the panel of clinical isolates. The results suggest that the real time enzyme linked immunosorbent assay is a sensitive and specific method for the detection and quantitation of influenza virus.\n",
            "Abstract In the present study, we made the antibody vs glycyrrhizin, and then we tried to selectively deplete glycyrrhizin from glycyrrhizaeensis, a traditional herbal medicine, to define the role of glycyrrhizin in inhibiting ear contact sensitivity, typical delayed type hypersensitivity reaction, with regard to lymphocyte adhesion and matrix metalloproteinase production. The results indicated that glycyrrhizin mainly inhibited lymphocyte activation and proliferation, while glycyrrhizin showed strong inhibition on lymphocyte adhesion to extracellular matrix and matrix metalloproteinase production. The results suggested that glycyrrhizin also plays an important role in the inhibition efficacy of Iexamethasone on lymphocyte adhesion to extracellular matrix and matrix metalloproteinase production.\n",
            "Abstract In paramyxovirus fusion proteins, the endocytosis motif within the cytoplasmic tail is critical for endocytic recycling and cleavage by the protease cathepsin. The crystal structure of the prefusion form of human parainfluenza virus 5 and of the postfusion form of human parainfluenza virus 3 has been solved, greatly contributing to our understanding of the refolding events that take place in the ectodomain of paramyxovirus fusion proteins. The crystal structures of the prefusion and postfusion forms of paramyxovirus fusion proteins have been solved, greatly contributing to our understanding of the refolding events that take place in the ectodomain of paramyxovirus fusion proteins. The crystal structures of the prefusion form of human parainfluenza virus 5 and of the postfusion form of human parainfluenza virus 3 have been solved, greatly contributing to our understanding of the refolding events that take place in the ectodomain of paramyxovirus fusion proteins. The crystal structures of the prefusion form of human parainfluenza virus 5 and of the postfusion form of human parainfluenza virus 3 have been solved, greatly contributing to our understanding of the refolding events that take place in the ectodomain of paramy\n",
            "Abstract The acute respiratory syndrome coronavirus was identified as the etiologic agent of severe acute respiratory syndrome in late 2002 and by the end of the viral outbreak in 2003, there have been more than 8000 cases reported worldwide and 774 attributed deaths. The epidemic had a severe and profound impact on public health and economies worldwide, reminding us of the danger emerging infectious diseases bring to densely populated societies. The significant morbidity and mortality, including its potential for reemergence, make it necessary to develop effective methods to treat and prevent the disease. In the fight against SARS, it is important to develop antiviral agents that can specifically inhibit the replication of IVV. In this aim, partial viral genomes have been constructed such that they replicate and persist in dividing cells without producing viral particles. In this aim, partial viral genomes have been constructed such that they replicate and persist in dividing cells without producing viral particles. In this report, we describe the construction of the first IVV derived replicon cell line. The replicon cell line was constructed by in vitro ligation of the coronavirus envelope protein and nucleocapsid genes. The replicon cells were then transfected into human baby hamster kidney 21 cells. The replicon cells were then subjected to blasticidin selection to enrich\n",
            "Abstract A subunit based vaccinia virus vaccine formulation including two intracellular mature virion antigens and two extracellular enveloped virion antigens from vaccinia virus was able to protect mice against intraperitoneal vaccinia virus challenge and subsequently to protect rhesus macaques against monkeypox virus challenge. The efficacy of protection in mice receiving the 3 recombinant proteins became close to that of a positive control using poxvirus vaccine only after 4 vaccinations. In order to improve the protection efficacy of the subunit based poxvirus vaccines, two versions of the wild type vaccinia virus envelope protein gene were produced. The other version, the transmembrane region and its downstream cytoplasm tail were removed, and a human tissue plasminogen activator leader sequence was added to the terminus of the wild type vaccinia virus envelope protein gene. In order to produce a more immunogenic form of vaccinia virus envelope protein gene, two versions of the wild type vaccinia virus envelope protein gene were produced. The other version, the transmembrane region and its downstream cytoplasm tail were removed, and a human tissue plasminogen activator leader sequence was added to the terminus of the wild type vaccinia virus envelope protein gene. In order to produce a more immunogenic form of vaccinia virus envelope protein\n",
            "Abstract A novel coronavirus was identified as the etiological agent of severe acute respiratory syndrome, strategies for diagnosis and treatment have not been determined to date. The aim of this study was to examine the impact of providing outpatients with information about the infection control in an infectious disease treatment unit on their intention to continue outpatient visits to the hospital. We conducted a cross sectional survey among outpatients who visited an infectious disease treatment unit in a city hospital in China. The data used in our analysis were obtained from patients who underwent outpatient service at the hospital. The respondents were asked about their intention to continue outpatient visits at the hospital if a patient was admitted to the hospital, and to examine the impact of providing outpatients with information about the infection control in the infectious disease treatment unit on their intention to continue outpatient visits. In logistic regression analysis, those who had visited outpatient department frequently, those who were relieved after reading the information about the unit, and those who did not worry about the infectious disease treatment unit in the hospital, were significantly more likely to continue outpatient visits at the hospital, even if a patient were admitted to the hospital. The cumulative total number of outpatients and the cumulative total expenditures for outpatient care during the 180 day period were estimated to decrease by 20% and 7%, respectively\n",
            "Abstract The aim of the present study was to examine the effects of the strain of influenza viruses on allergic sensitization to ovalbumin. The mice were sensitized with ovalbumin and challenged with ovalbumin aerosols 24 hours after challenge, airway responsiveness to methacholine, levels of ovalbumin specific bronchoalveolar lavage fluid, and bronchoalveolar lavage fluid were examined. The threshold value of inhaled methacholine, measured 24 hours after challenge, decreased in animals sensitized with ovalbumin after inoculation with either 1 1 or 3 2 viruses fol lowed by ovalbumin sensitization with virus infection. The threshold value of inhaled methacholine, measured 24 hours after challenge, decreased in animals sensitized with ovalbumin after inoculation with either 1 1 or 3 2 viruses fol lowed by ovalbumin sensitization with virus infection. The threshold value of inhaled methacholine, measured 24 hours after challenge, decreased in animals sensitized with ovalbumin after inoculation with either 1 1 or 3 2 viruses fol lowed by ovalbumin sensitization with virus infection. The threshold value of inhaled methacholine, measured 24 hours after challenge, decreased in animals sensitized with oval\n",
            "Abstract The aim of this study was to develop a sensitive and specific isothermal nucleic acid amplification assay to detect and differentiate 2 of the most important avian respiratory viruses, avian bronchitis virus and avian influenza virus, both simultaneously and accurately. The assay was developed using a flow dipstick followed by secondary antibody labeling. In this study, the detection limits of the assays were 10 5.8 to 10 0.2 and 10 4.7 to 10 0.3 PCR, respectively. The detection rates of different samples, detected by the assays, were both 95%, and were significantly higher than those detected by conventional virus isolation and quantitative reverse transcription polymerase chain reaction. In addition, the specificity of the assays was evaluated by comparing with those of conventional virus isolation and quantitative reverse transcription polymerase chain reaction. In this study, the detection rates of the assays, when detecting different kinds of samples, were both 95%, and were significantly higher than those detected by conventional virus isolation and quantitative reverse transcription polymerase chain reaction. The detection rates of different samples, detected by the assays, were both 95%, and were significantly higher than those detected by conventional virus isolation and quantitative reverse transcription polymerase chain reaction. The specificity of the assays, when detecting different kinds of samples, were both 95%, and were significantly higher than those detected\n",
            "Abstract The airway epithelium is the first line of defence against viral and bacterial infections. In this study, we investigated the antiviral effect of oseltamivir, zanamivir, peramivir, ribavirin, palivizumab and oseltamivir on fully differentiated human airway epithelial cultures inoculated with rhinoviruses and enteroviruses, as well as respiratory syncytial virus and influenza viruses. In the presence of rupintrivir and oseltamivir, only rhinovirus infection induced a significant decrease of transepithelial electrical resistance, suggesting that the epithelium was able to recover from the damage induced by these viruses within a short period of time, suggesting that the epithelium was able to recover from the damage induced by these viruses within a short period of time. The antiviral effect of oseltamivir, zanamivir, peramivir, ribavirin, palivizumab and oseltamivir was dose dependent, with rupintrivir and oseltamivir being more effective than zanamivir, peramivir, ribavirin, palivizumab and oseltamivir. The antiviral effect of oseltamivir was also dose dependent, with rupin\n",
            "Abstract In this study, we report the crystal structures of three different types of proteases, coxsackievirus 3 pro, coxsackievirus 229 pro, and coxsackievirus 3 pro, which serve as drug targets for developing inhibitors against picornaviruses and coronaviruses, respectively. The three types of proteases share very little sequence homology, structure based sequence comparison reveals some similarity in the regions of domains and RNA, which explains the similar substrate specificity and catalytic mechanism of the proteases. The zinc coordinating inhibitor I7088, a potent inhibitor of 3V pro, was tried but failed to inhibit 3V pro of coxsackievirus 229 pro, indicating subtle structural differences in their active sites. The results could serve as the structural basis for further inhibitor optimization and development of potential drugs for antiviral therapies.\n",
            "Abstract We review the role of zinc as an essential micronutrient that is required to mount an effective antiviral response. The review focuses on the role of zinc as an essential micronutrient that is required to mount an effective antiviral response. The review focuses on the role of zinc as an essential micronutrient that is required to mount an effective antiviral response. The review focuses on the role of zinc as an essential micronutrient that is required to mount an effective antiviral response.\n",
            "Abstract The spike protein encoding gene of porcine epidemic diarrhea virus is an immune dominant gene that plays a crucial role in viral infection, pathogenicity and adsorption. The aim of this study was to develop a novel, orally administered, genetic engineered vaccine based on poly glutamic acid synthetase, a constitutively expressed protein of the polyglutamate acid synthetase system of subtilis, as a mucosal delivery shuttle vector to express exogenous antigens. In this study, recombinant poly glutamic acid synthetase gene was fused with the target gene of polyglutamate acid synthetase system of subtilis to construct recombinant poly glutamic acid synthetase. The recombinant poly glutamic acid synthetase, poly glutamic acid synthetase, poly glutamic acid synthetase, poly glutamic acid synthetase, poly glutamic acid synthetase, poly glutamic acid synthetase, poly glutamic acid synthetase, poly glutamic acid synthetase, poly glutamic acid synthetase, poly glutamic acid synthetase, poly glutamic acid synthetase, poly glutamic acid synthetase, poly glutamic acid synthetase, poly glutamic\n",
            "Abstract We have developed a simple and robust approach to perform online two dimensional liquid chromatography coupled to tandem mass spectrometry analysis, using autosampler injections to elute peptides from the first dimension column. We applied this new method for the analysis of the proteome of infective host cell derived trypomastigote forms of the highly virulent strain of SARSpanosoma cruzi. The results showed a substantial increase in the trypomastigote proteome coverage compared to the previous study. The application of this methodology to analyze the whole cell lysate of I. cruzi trypomastigotes led to the identification of 1,448 non redundant proteins from the parasite. The expression of several isoforms of these virulence factors may play a central role during the process of host cell invasion and immunomodulation by the parasite.\n",
            "Abstract The net state of immunosuppression in organ transplant recipients reflects the balance between the recipient s epidemiologic exposures and immunosuppression. In this article, the authors review infectious syndromes encountered in intensive care units among organ transplant recipients. The net state of immunosuppression comprises all factors that may contribute to the risk of infection, including preexisting immune deficits, colonization with antimicrobial resistant pathogens, immunosuppressive agents, acquired immunodeficiency, prior antimicrobial therapies, mucocutaneous barrier integrity, fluid collections, neutropenia, lymphopenia, and viral coinfections.\n",
            "Abstract The epitope peptide 290, located at amino acid residues 1446 to 1460 of the nonstructural protein I2 3, is a promising candidate for an epitope vaccine for the control of swine fever virus. In this study, a recombinant strain expressing the peptide 290 was constructed and used as a live oral vaccine vehicle to deliver the peptide to the intestinal tract of pigs. In the first immunization, the recombinant strain was able to induce a prompt and stronger anti IV specific cellular immune response in the duodenum, jejunum, ileum, and colon of the pigs. In addition, the recombinant strain was able to induce a long term protective immunity against IV challenge and to induce neutralizing antibodies against IV infection in pigs. The results indicate that oral immunization with the recombinant strain is a promising strategy for the development of efficient vaccines to protect pigs against IV.\n",
            "Abstract The last decade has witnessed a dramatic acceleration in the discovery of new and highly potent therapeutic molecules, which do however not make it to the clinic due to poor delivery, low bioavailability and insufficient capability to reach targets. In order to circumvent problems of bioavailability associated with certain drugs such as peptides, proteins and nucleic acids, which are currently rarely considered as therapeutics due to the above mentioned limitations, peptide based strategies present several advantages, including rapid delivery of cargoes into cells with very high efficiency, stability in physiological buffers, lack of toxicity and of sensitivity to serum. This peptide based strategies present several advantages, including rapid delivery of cargoes into cells with very high efficiency, stability in physiological buffers, lack of toxicity and of sensitivity to serum.\n",
            "Abstract The novel coronavirus was identified as the aetiological agent for the recent severe acute respiratory syndrome epidemic. In addition to the replicase polyproteins and structural proteins, membrane, nucleocapsid and envelope proteins, which are common to all members of the genus coronavirus, the IV genome also encodes eight putative proteins with no significant sequence homology to viral proteins of other known coronaviruses 3a, 3b, 6, 7a, 7b, 8a, 8b and 9b. In this study, we compared the cellular properties of the humanVV 8a and 8b proteins with their counterpart, 8ab, in animalVV. The results showed that the 8a, 8b and 8ab proteins are not essential for viral replication or pathogenesis in the mouse and palm civet models. The expression of was not affected by either 8a or 8ab. In order for 8b to be expressed via such mechanisms, activation of certain host translational machineries may be necessary.\n",
            "Abstract We report the synthesis, isolation, chemical characterization, biochemical and epigenetic significance of cyclo 8 in the form of its sodium crown complex, sodium or cyclo 8V, which can be liganded to give aquasodium. In addition, we propose a model for the first epigenetic shell of in vivo cyclo 8, based on the observed complexation of the ribonucleic acid nucleoside cytidine with ninhydrin under biomimetic conditions.\n",
            "Abstract In this study, twenty six avian infectious bronchitis viruses isolated from clinical outbreaks occurring between 1992 and 2005 were molecularly characterized by sequencing the whole I1 gene. The total of 11 field isolates of IV 02 genotype, seven from the present study and 4 previously described, and the reference strainV 02 were included in the present study. The nucleotide and amino acid divergence within isolates was 5.7% and 9.9%, respectively. The cumulative amino acid divergence observed between two isolates from the same year was 0.4%, whereas the maximum was 9.9%. The nucleotide and amino acid identities shared by two isolates from the same year were 93.1% and 91.3% respectively. The minimum amino acid divergence observed between two isolates from the same year was 0.4%, whereas the maximum was 9.9%. The total of five recombination events were detected within isolates, however just one of the six events was common to the 11 isolates. In addition, one recombination event, beginning at nucleotide position 281 and ending at position 586, was detected in all three isolates of SARS genotypeV by 4 out of the six methods implemented. The recombination event, beginning at nucleotide position 583 and ended at position 930, was detected by 5 out of the six methods. The recombination event, beginning at nucleotide position 281 and ending\n",
            "Abstract The covalent modification of target proteins by ubiquitin, a small 76 residue protein, occurs in various linkage types and can produce many different outcomes. This covalent modification of target proteins by ubiquitin, a small 76 residue protein, occurs in various linkage types and can produce many different outcomes. The known functions of these pathogen encoded activities are quite diverse. In this approach, we identified a unique deubiquitinating activity present in herpes simplex virus 1 infected cells. In this approach, we identified a unique deubiquitinating activity present in herpes simplex virus 1 infected cells. In this approach, we identified a unique deubiquitinating activity present in herpes simplex virus 1 infected cells. In this approach, we identified a unique deubiquitinating activity present in herpes simplex virus 1 infected cells.\n",
            "Abstract The emergence of infectious diseases in humans has served to increase public awareness of the causal links between wildlife, domestic animals and human populations in driving outbreaks. The transmission of infectious agents from domesticated populations to sympatric wild populations, known as pathogen spillover, has infamously led to marked declines in wild vertebrate populations. The increasing global demand for commercial bumble bees coupled with the potential elevated incidence and prevalence of disease in commercial hives and a lack of measures preventing the escape of bees from target cropping systems may perpetuate a chronic pathogen spillover from commercial to wild bumble bees populations. The aim of this study was to quantify the permeability of different strawberry cropping systems to commercial bumble bees assess the potential of commercially reared bumble bees to act as pathogen reservoirs by comparing the prevalence of four pathogens among commercially reared hives and allopatric conspecific populations and determine the likelihood of pathogen spillover from commercial bees to allopatric conspecifics by dissecting and recording parasitic infections present among bumble bees foraging in areas of decreasing proximity to horticultural activities where commercially reared bumble bees were employed. The prevalence of four pathogens among bumble bees foraging in areas of decreasing proximity to horticultural activities where commercially reared bumble bees were employed was compared to that of allopatric conspecifics by dissecting and recording parasitic infections present among bumble bees foraging in areas of decreasing proximity\n",
            "Abstract The incidence of influenza and respiratory syncytial virus infections in children varies substantially from year to year, with mortality due to these infections occurring predominantly in the developing world. In addition, new viruses such as human bocavirus and polyomaviruses are being recognized as causing respiratory disease in infants and young children. The review discusses factors that need to be considered for the further development of safe and effective vaccines against influenza and respiratory syncytial virus infections in children, and vaccines currently available to protect against these respiratory viruses.\n",
            "Abstract The aim of this study was to estimate the effects of bovine respiratory syncytial virus and bovine coronavirus infections on milk yield, reproductive performance, and mortality of young stock in dairy herds. In total, 101 dairy herds were included in this study. In each herd, information on individual milk production, reproductive events, entrance dates and exit dates and reasons for exit was available for all animals present at any point in time. In each herd, information on individual milk production, reproductive events, as well as entrance dates and exit dates and reasons for exit was available for all animals present at any point in time. In each herd, information on individual milk production, reproductive events, as well as entrance dates and exit dates and reasons for exit was available for all animals present at any point in time. In each herd, information on individual milk production, reproductive events, as well as entrance dates and exit dates and reasons for exit was available for all animals present at any point in time. In each herd, information on individual milk production, reproductive events, as well as entrance dates and exit dates and reasons for exit was available for all animals present at any point in time. In each herd, information on individual milk production, reproductive events, as well as\n",
            "Abstract The epidermal mucus of fish contains trypsin like serine proteases that play a significant role in the natural defence of fish against pathogens such as viruses and bacteria. The underutilized by products from the seafood industry, fish viscera is a rich source of proteolytic enzymes such as trypsin, chymotrypsin and elastase. In the present study, cod trypsin was characterized in comparison to cod trypsin. The enzyme was characterized in terms of substrate specificity, temperature stability, sub site substrate specificity and sensitivity to inhibitors. The results indicate that cod trypsin is of value for inactivating viruses.\n",
            "Abstract The goal of this project was to conduct a systematic review of the scientific literature to describe current research in public communication in public health emergency preparedness, with a particular focus on communication inequalities and their association with communication and preparedness outcomes. The review examines the relationship among sociodemographics, behavioral characteristics, and communication outcomes in public health emergency preparedness. The most common public health emergency preparedness communication outcomes empirically studied were information exposure, trust and credibility in information sources, information seeking behaviors, information processing, and information utilization. In terms of preparedness outcomes, the most frequently researched were preventive behaviors in 65% of the studies, risk perceptions, knowledge and awareness about specific threats, and emotional response. In terms of communication outcomes, the most frequently researched were information exposure, trust and credibility in information sources, information seeking behaviors, information processing, and information utilization. The literature has focused on the role of risk and crisis communication and on the difficulty of informing, educating, and sometimes persuading the general population to embrace preventive behaviors. The literature has also focused on populations perceptions and beliefs, such as personal and societal risk perception, self efficacy, subjective norm, beliefs about the efficacy or safety of preventive measures, and their relationship with communication and preparedness outcomes.\n",
            "Abstract The first decade of the 21st century was marked by the advent of high throughput technologies such as microarrays and mass spectrometry, and the advent of genomic and proteomic approaches to study the interplay between viruses and the cells they infect. In the past eight years, our laboratory has used these technologies to better understand the complex interplay between viruses and the cells they infect. In this review, we provide a sampling of how we re using these technologies, the discoveries we ve made, and how the technologies themselves have continued to evolve. The past eight years have been an exciting journey full of discoveries, and we look forward to new breakthroughs in the future. We also have the opportunity to better understand how gene expression changes in response to infection translate into changes in protein abundance and function, and how these changes correlate with clinical outcome. We believe this integrated approach will translate into molecular signatures that predict protective immunity or pathology, biomarkers for diagnostic or prognostic assays, and a rational base for improvements to antiviral therapies or vaccine strategies.\n",
            "Abstract The complex cascade of events leading to the lesion formation and neurologic dysfunction in autoimmune encephalomyelitis has been separated into different phases. In this article we put forward the hypothesis that the influence of IV genes on the risk to develop autoimmune encephalomyelitis is actually the sum of multiple antigen presenting cell and cell inter actions involving I class I and class I molecules. The article will also discuss that, because of the genetic and immunologic similarity to humans, autoimmune models of SARS in non human primates are the experimental models par excellence to test this hypothesis.\n",
            "Abstract The ability of influenza virus to infect differentiated airway cells expressing one, both, or neither oligosaccharide is not currently known. We examined the polarity of influenza virus binding, fusion, budding, and budding in human airway epithelia cultured at an air liquid interface. The results demonstrate that influenza strains bind to the apical surface of the epithelia, but not to the apical surface of ciliated or nonciliated cells. The results suggest that influenza strains bind to the apical surface of airway epithelia, but not to the apical surface of ciliated or nonciliated cells.\n",
            "Abstract In the last few years, a number of multiplex respiratory virus assays have been developed. In this review, we summarize available data and highlight unresolved questions about cost effectiveness, infection control, clinical utility, and public health impact of multiplex respiratory virus assays.\n",
            "Abstract The vesicular stomatitis virus has been widely used as a vaccine vector not only for preventing vesicular stomatitis disease in livestock, but also a number of human pathogens including vesicular stomatitis virus, vesicular stomatitis virus immunodeficiency virus, I immunodeficiency virus, and SARS virus. In the current study, we aimed to identify a suitable vaccine vector and vaccine candidate for preventing vesicular stomatitis disease. The current study investigated the pathogenesis of different attenuated vesicular stomatitis virus with mutated nucleocapsid protein, and compared different attenuated vesicular stomatitis virus with wild type and truncated nucleocapsid protein. The results showed that different attenuated vesicular stomatitis virus with mutated nucleocapsid protein displayed an ideal balance between pathogenesis and stimulation of protective immune response that could be used as a promising vaccine vector. The attenuated vesicular stomatitis virus with truncated nucleocapsid protein displayed an ideal balance between pathogenesis and stimulation of protective immune response that could be used as a promising vaccine vector.\n",
            "Abstract The paper examines the role of the public s right to access and the role of government s proactive disclosure of government information. The paper argues that the public s right to access is undermined by several factors, including limited access mechanism, broad and vague exemptions, and the omission of the maximum disclosure principle.\n",
            "Abstract The paper based enzyme linked immunosorbent assays have revolutionized global health care by improving access and efficiency of these otherwise complex laboratory assays. The need to perform more complex reactions has given rise to twodimensional paper networks, which typically consist of more than one fluidic input and multiple carefully designed channels to control fluid flow in the paper based device. In this study, we have developed a fully dried, automated viral detection platform that automates the flow of signal enhancement solution to improve the signal intensity of nucleic acid samples labeled with the enzyme linked immunosorbent assay. In this paper, we demonstrate that our fully dried, automated viral detection platform can generate results like that of traditional enzyme linked immunosorbent assays. The proof of concept for fully dried, deployable enzyme linked immunosorbent assays shows promise for detecting many other pathogens beyond enzyme linked immunosorbent assays and can be employed with other nucleic acid amplification techniques. In the future, scaling down the device size and liquid volumes could reduce some of the total flow time. The proof of concept for fully dried, deployable enzyme linked immunosorbent assays shows promise for detecting many other pathogens beyond enzyme linked immunosorbent assays and can be employed with other nucleic acid amplification techniques.\n",
            "Abstract The tyrosine binding pocket in the 1 subunit of the transmembrane protein 1 is critical for the modulation of intracellular transport. In this study, we have determined the crystal structure of the mouse 1 subunit in complex with the phosphatidylinositol 3,4,5 diphosphate and the phosphatidylinositol 3,4,5 diphosphate terminal domain of the mouse 1 subunit. The crystal structure reveals that the phosphatidylinositol 3,4,5 diphosphate is positioned at an optimal distance from the lipid membrane to bind the phosphatidylinositol 3,4,5 diphosphate terminal domain of the mouse 1 subunit and that the phosphatidylinositol 3,4,5 diphosphate is positioned at an optimal distance from the lipid membrane to bind the phosphatidylinositol 3,4,5 diphosphate terminal domain of the mouse 1 subunit and that the phosphatidylinositol 3,4,5 diphosphate is positioned at an optimal distance from the lipid membrane to bind the phosphatidylinositol 3,4,5 diphosphate terminal domain of the mouse 1 subunit and that the phosphatidylinositol 3,4,5 diphosphate is positioned at an optimal distance from the lipid membrane to bind the phosphatidy\n",
            "Abstract We compared the different vaccine strains kinetics both in field conditions and in a 21 day long experimental trial in broilers, monitoring the viral replication by upper respiratory tract swabbing and vaccine specific real time reverse transcription PCR quantification. The present work compared the different vaccine strains kinetics both in field conditions and in a 21 day long experimental trial in broilers, monitoring the viral replication by upper respiratory tract swabbing and vaccine specific real time reverse transcription PCR quantification. The both field and experimental conditions, titers for all the vaccines showed an increasing trend in the first 2 wk and then decrease, though still remaining detectable during the whole monitored period.\n",
            "Abstract The aim of this randomized controlled study was to improve our understanding of bovine lung response to antibiotic therapy after bacterial respiratory infection, but the calf challenge model limits the generalizability of our results. The objective was to determine whether ampicillin affected respiratory score, gross consolidation, or detection of bovine respiratory syncytial virus, infectious bovine rhinotracheitis virus, bovine respiratory coronavirus, bovine viral diarrhea virus, infectious bovine rhinotracheitis virus, bovine respiratory syncytial virus, bovine respiratory coronavirus, Itophilus somni, Itophilus somni, I. haemolytica, and I. pyogenes isolated from lung tissue, and to determine whether ampicillin affected respiratory score, gross consolidation, or detection of bovine respiratory syncytial virus, infectious bovine rhinotracheitis virus, infectious bovine rhinotracheitis virus, bovine respiratory coronavirus, bovine viral diarrhea virus, infectious bovine rhinotracheitis virus, bovine respiratory syncytial virus, bovine respiratory coronavirus, I. haemolytica, and bovine respiratory syncytial virus, bovine respiratory coronavirus, bovine viral diarrhea virus, infectious bovine rhino\n",
            "Abstract The neutralization of porcine transmissible gastroenteritis virus by polyclonal antibodies was studied. The effect of the antibody to virus ratio on the inhibition of binding and internalization was studied. The results showed that the inhibition of internalization and that of binding were the same, and that extensive neutralization was observed at antibody dilutions for which no inhibition of either binding or internalization was observed. In contrast, at lower antibody to virus ratios the virus could be neutralized by polyclonal antibodies without inducing inhibition of binding or internalization.\n",
            "Abstract The aetiology of inflammatory bowel disease remains incompletely understood, and the role of infectious agents in the aetiology of the condition remains unclear. In this article we discuss the role of infectious agents in the aetiology of inflammatory bowel disease.\n",
            "Abstract A virulent strain of duck infectious bronchitis virus was isolated from dead ducks during an outbreak of disease caused by the virulent strain of duck encephalitis virus. Intracerebral inoculation of 9 to 11 day old embryonated duck eggs with the virulent strain of duck encephalitis virus resulted in seroconversion of 77.8% and 87.5% of the birds, respectively, on days 5 and 10 postinoculation. The virus was fully attenuated and provided protective immunity against the virulent strain of duck encephalitis virus. Intracerebral inoculation of 9 to 11 day old embryonated duck eggs with the virulent strain of duck encephalitis virus resulted in seroconversion of 77.8% and 87.5% of the birds, respectively, on days 5 and 10 postinoculation. The virus was fully attenuated and provided protective immunity against the virulent strain of duck encephalitis virus.\n",
            "Abstract The reovirus cell attachment protein, al, is a minor outer capsid protein which functions as the reovirus cell attachment protein and the viral hemagglutinin. In the present study, we have used two independent approaches, one biochemical and the other biophysical, to demonstrate that al is trimeric and provide a rationale for the anomalous behavior of the intact protein on the hemagglutinin, which has in part led to the previous suggestion that it is a higher order oligomer. However, we consistently observed a preference for homotrimer over heterotrimer formation. In the present study, we have used two independent approaches, one biochemical and the other biophysical, to demonstrate that al is trimeric and provide a rationale for the anomalous behavior of the intact protein on the hemagglutinin, which has in part led to the previous suggestion that it is a higher order oligomer. In the present study, we have used two independent approaches, one biochemical and the other biophysical, to demonstrate that al is trimeric and provide a rationale for the anomalous behavior of the intact protein on the hemagglutinin, which has in part led to the previous suggestion that it is a higher order oligomer.\n",
            "Abstract In the last two decades, many historic events occurred in addition to the unprecedented longterm economic growth. In addition to the unprecedented longterm economic growth, many historic events occurred in addition to the unprecedented longterm economic growth. In the last several decades, the various anaerobic anoxic aerobic processes for municipal wastewater treatment have been extensively investigated and denitrification on these occasions was enhanced since the 2010s, such as, s, t, t, t, t, t, t, t, t, t, t, t, t, t, t, t, t, t, t, t, t, t, t, t, t, t, t, t, t, t, t, t, t, t, t, t, t, t, t, t, t, t, \n",
            "Abstract The objective of this study was to compare the use of an inactivated rotavirus vaccine to immunize pregnant cows to boost antibodies to IV in colostrum and milk for induction of passive immunity in newborn calves. We used the vaccination routes and times and adjuvant in the serum, colostrum and milk of non vaccinated cows, and cows vaccinated with inactivated or live attenuated rotavirus vaccines administrated by the baculovirus expression system. The relative antigen titers were 1600, 8 and 8, respectively. The relative vaccine antigen titers reactive with polyclonal antibodies were 25600, 12800, and 800. The mean isotype antibody titers to rotavirus in colostrum were significantly elevated in vaccinated cows compared to the control cows. The mean isotype antibody titers to rotavirus in milk were significantly elevated in vaccinated cows compared to the control cows. The relative distribution of isotype specific antibodies among the different isotypes was similar. The mean isotype antibody titers to rotavirus in colostrum were significantly elevated in vaccinated cows compared to the control cows. The mean isotype antibody titers to rotavirus in milk were significantly elevated in vaccinated cows compared to the control cows. The mean isotype antibody titers to rotavirus in colostrum were significantly elevated in vaccinated cows compared to the\n",
            "Abstract The spot syndrome virus is an enveloped virus with a wide host range in crustaceans such as shrimp, crab and crayfish. In this study, we report proteomic responses of crayfish It cells by liquid chromatography tandem mass spectrometry at both early and late stages post IV infection. The differentially expressed proteins provide us with a better understanding of the host coordinated effort to defend the IV infection. The identified proteins were classified into 23 categories, in which proteins related to cellular process and metabolic process were the most abundant molecules followed by cellular component organization biogenesis, biological regulation, regulation of biological process, developmental process, response to stimulus, signaling transduction, negative regulation of biological process and others. The cytoskeletal associated proteins like calponin 3 and beta chain spectrin were also found to be significantly expressed towards IV infection. The functional enrichment analysis of the identified proteins showed that the identified proteins were classified into 23 categories, in which proteins related to cellular process and metabolic process were the most abundant molecules followed by cellular component organization biogenesis, biological regulation, regulation of biological process, regulation of biological process, developmental process, response to stimulus, signaling transduction, negative regulation of biological process and others. The differentially expressed proteins provide us with a better understanding of the host coordinated\n",
            "Abstract The spike protein of severe acute respiratory syndrome coronavirus is proteolytically cleaved into the two subunits of the viral envelope protein, which are noncovalently associated with each other. In this study, we generated two mutants, ts291602 and ts282902, from the wild type virus, wt6501, at progressively lower temperatures. The ts mutant protein was not cleaved at the nonpermissive temperature, whereas the ts mutant protein was able to be cleaved at the permissive temperature. In contrast, the ts mutant protein was able to be cleaved at the permissive temperature, but not at the nonpermissive temperature. The ts mutant protein was not able to induce cell cell fusion at the nonpermissive temperature, whereas the ts mutant protein was able to induce cell fusion at the permissive temperature. The results indicate that the single amino acid mutation in the ts mutant protein may be responsible for the temperature sensitivity of the mutant virus.\n",
            "Abstract In this work, we studied the viral subpopulations of an avian influenzaV virus inoculum and their in host mutations when infecting an avian host, specifically in three organs. The viral subpopulations were found to exhibit a strong mutational bias towards the presence of hemagglutinin and neuraminidase mutations which represented 81% of all mutations observed. The overall mutation frequency due to the deamination process solely was fdeam 1.88 103 or sites. The mutation matrix was not symmetrical and was strongly biased towards the presence of hemagglutinin and neuraminidase mutations which represented 81% of all mutations observed. This bias was observed in all organs as well as in the inoculum, suggesting that these mutations followed the same stochastic trend in all organs and in eggs. The data reported in this work should be completed by an in depth high throughput approach which allows deeper coverage of the whole population.\n",
            "Abstract The ability to study the infectivity and tropism of respiratory pathogens of public health concern is hampered by the difficulty of measuring virus concentrations in aerosols generated by breathing, coughing, sneezing, or sneezing. In order to better study the effects of potentially damaging aerosols on human cells, the toxicology field has begun to expose cultured respiratory epithelial cells to aerosolized, rather than liquid suspended, chemical and particulate matter. The ability to combine aerosolization with the benefits of in vitro study, notably the ability to study specific cell types in isolation, will facilitate greater understanding of the infectivity and tropism of respiratory pathogens of public health concern. The ability to combine aerosol inoculation with the benefits of in vitro study, notably the ability to study specific cell types in isolation, will facilitate greater understanding of the infectivity and tropism of respiratory pathogens of public health concern.\n",
            "Abstract The coronavirus hemagglutinin esterase, an accessory structural protein of group 2 coronaviruses, is a sialate acetylesterase enzyme which mediates the attachment of virus particles to acetylated sialic acids. In this study, we show that the expression of the hemagglutinin esterase, a structural protein of group 2 coronaviruses, is not affected by in vitro mutations in the hemagglutinin acetylesterase. In addition, we show that the expression of the hemagglutinin acetylesterase, a structural protein of group 2 coronaviruses, is not affected by in vitro mutations in the hemagglutinin acetylesterase. In contrast, the expression of the hemagglutinin acetylesterase, a structural protein of group 2 coronaviruses, is not affected by in vitro mutations in the hemagglutinin acetylesterase. In conclusion, we show that the expression of the hemagglutinin acetylesterase, a structural protein of group 2 coronaviruses, is not affected by in vitro mutations in the hemagglutinin acetylesterase.\n",
            "Abstract The use of nucleic acids as vaccines has been shown to have many advantages over traditional vaccines with vaccine design being straightforward, generally only requiring one step cloning into a plasmid vector thereby reducing cost and production time. The in vivo expression of an antigen gene driven by eukaryotic promoter and endogenous post translational modification results in native protein structures ensuring appropriate processing and immune presentation. The safety aspect, cloning or synthesis of nucleic acids rather than having to purify proteins from pathogens avoids the need for use of pathogenic microorganisms in vaccine manufacture. In this review, we have specifically focused on promoter selection for I vaccine vectors, potential shortcomings of codon optimization, potential new insights from omics studies and Ii technologies, molecular adjuvants, targeting strategies and technologies for delivery of I vaccines.\n",
            "Abstract The envelope protein gp350 is a major target of neutralizing antibodies in naturally infected individuals. The epitope on gp350 is functionally important and hence an attractive vaccine target to prevent viral infection of cells. In this study, we aimed to elicit potent neutralizing antibodies to this epitope by immunizing with a vaccine designed based on a rational understanding of structural biology and nanotechnology to optimize presentation and recognition of this site of vulnerability. In mice, immunization with gp350 ectodomain, gp350 ferritin, gp350 encapsulin, or gp350 gp350 gp350 gp350 gp350 gp350 gp350 gp350 gp350 gp350 gp350 gp350 gp350 gp350 gp350 gp350 gp350 gp350 gp350 gp350 gp350 gp350 gp350 gp350 gp350 gp350 gp350 gp350 gp350 gp350 gp350 gp350 gp350 gp350 gp350 gp350 gp350 gp350 gp350 gp350 gp350 gp350 gp350 gp350 gp350 gp350 gp350 gp350 gp350 gp350 gp350 gp350 gp350 gp350 gp350 gp350 gp350 gp350 gp350 gp350 gp350 gp350 gp350 gp350 gp350 gp350 gp350 gp350 gp350 gp350 gp350 gp350 gp350 gp350 gp\n",
            "Abstract The innate immune system has evolved to recognize and respond to a diverse range of pathogens, including viruses, bacteria, parasites, and bacteria. In this review, we will highlight recent studies on the mechanisms by which natural killer cells recognize and respond to viruses, parasites, and bacteria, and will underscore the unique role of natural killer cells in innate immunity to infection.\n",
            "Abstract The concept of immunosuppressive cells arose more than three decades ago from studies on autoimmunity, and cell and cell responses to foreign antigens. The concept of immunosuppressive cells arose more than three decades ago from studies on autoimmunity, and cell and cell responses to foreign antigens. The first connection between chronic viral infection and immunosuppressive cells appeared in study of mice infected with a retrovirus, and this was quickly followed by study of humans chronically infected with hepatitis virus. The induction of immunosuppressive cells during viral infection was considered to be a detrimental response that promoted virus persistence with little or no benefit to the host. In the lymphocytic choriomeningitis virus model in mice, within the first week of infection, virus specific cytotoxic lymphocyteassociated antigen 4 expand to a very high number and develop cytolytic activity. The release of cytotoxic granules and cytokines such as tumor necrosis factor can nevertheless result in bystander killing of uninfected cells, leading to extraneous tissue damage. The immunosuppressive effector function of virus induced immunosuppressive cells is not well understood, and the factors that determine which aspect prevails are complex and still being elucidated.\n",
            "Abstract The safety of blood component transfusions is of the utmost importance in human and veterinary transfusion medicine. In addition to appropriate blood compatibility testing by blood typing and cross matching, infectious disease screening of the donors and donated units is crucial to assure the quality of blood components. The strict guidelines ensure that only healthy donors are used, there is still the potential that donors can have subclinical viremia, bacteremia, or parasitemia and that the organisms could be transmitted via transfusion to patient. The transmission of infectious organisms can be particularly devastating complication of transfusion therapy. The present study describes the investigations surrounding bacterial contamination of a single feline whole blood unit and experimental bacterial contamination of canine peripheral blood mononuclear cells stored at 4 and 20 I in which standard gross and microscopic examinations, bacterial culture, and a novel semiquantitative real time eubacterial 16 I r A gene test were used for blood product screening. The results show that bacterial contamination of blood products could be the first indication of systemic error in the blood banking process and therefore should be thoroughly investigated.\n",
            "Abstract The aim of this study was to evaluate the safety and efficacy of ascites derived exosomes combined with heat shock protein, when used as a cellfree tumor vaccine in the immunotherapy of nonsmall cell lung cancer. In this phase clinical trial, 54 patients with assessable advanced nonsmall cell lung cancer were randomly assigned to treatments with ascites derived exosomes alone or ascites derived exosomes combined with heat shock protein. The antitumor immune responses were evaluated 2 weeks after the last vaccination. The adverse events were recorded throughout the study. The most frequently reported adverse events causally related to the use of ascites derived exosomes or ascites derived exosomes plus heat shock protein were mild in severity and included injection site reactions including erythema, pruritus, or pain, fever, nausea, fatigue, or hematologic, hematologic, or neurologic toxicities. The antitumor immune responses were evaluated 2 weeks after the last vaccination. The results showed that the ascites derived exosomes combined with heat shock protein, when used as an adjuvant, can significantly promote the induction of tumor antigen specific cytotoxic t cell responses. The study may suggest that ascites derived exosomes combined with heat shock protein may be a promising\n",
            "Abstract The coronavirus spike protein is a primary determinant of cell tropism and pathogenesis, being responsible for receptor binding and fusion. The coronavirus protein is categorized as a class fusion protein based on the presence of characteristic heptad repeats as such it shows characteristic features of fusion proteins of influenza virus, retroviruses and paramyxoviruses for which there is extensive characterization at a structural and biophysical level. The viral fusion proteins are known to be activated following cleavage by host cell proteases. In particular, two strains of serotype feline coronavirus, 79 1683 and 79 1146, have served as model viruses that cause either mild enteritis or feline infectious peritonitis. In this study, we examined the entry pathway of feline coronaviruses and show a differential role for low I and spike protein cleavage by cathepsin and cathepsinV. The results indicate that cathepsin selectively cleaves the protein of IV 1683, whereas cathepsin selectively cleaves the protein of both IV 1683 and feline infectious peritonitis virus. The results raise the possibility that cathepsins may be an important factor in explaining the different pathogenic properties of these viruses.\n",
            "Abstract A visible ultrashort pulsed laser was used to irradiate model protein bovine serum albumin. In contrast to conventional inactivation methods including formalin, formalin treatment, and gamma radiation, visible ultrashort pulsed laser did not generate a hemagglutinin response inducing carbonyl groups in the protein. In contrast to these conventional methods, the laser inactivated enveloped influenza virus through the disruption of weak, noncovalent hydrogen bonds and hydrophobic contacts in the virion, leading to the aggregation of capsid and tegument proteins. The laser inactivated influenza virus vaccine may generate heterosubtypic immunity, which is the aim of current efforts to design universal influenza vaccines.\n",
            "Abstract We have developed a novel vesicular stomatitis virus vectored vaccine and evaluated its potential as a boost to amplify protective mucosal immune response after prime immunization with an adenoviral vaccine expressing an immunodominant mycolyl transferase enzyme necessary for mycobacterial cell wall synthesis and a member of the I85 complex proteins. The vaccine was shown to be immunogenic when given to mice by either an intranasal or an intramuscular route. The distinct cell profiles resulted from both routes of immunization, only intranasal delivery generated a mucosal cell response that was protective upon pulmonaryV tuberculosis challenge. The this protection manifested at an early time point after immunization, it was not sustained. The potential of IVg85V to be used as a mucosal booster for parenteral priming by an adenoviral vaccine expressing I85V was investigated. The results translated into significantly better protective efficacy against pulmonary challenge with I.tb than either vaccine used alone.\n",
            "Abstract The aim of this longitudinal study was to evaluate the effects of long term feeding with two nonsteroidal anti inflammatory drugs, halofuginone, and two nonsteroidal anti inflammatory drugs, chloramphenicol, on the infection of neonatal calves with SARSsporidium parvum oocysts and coproantigen in comparison with both prophylactically treated and an untreated group. The study calves were enrolled in 41 blocks of 3 animals based on their date of birth, and calves within each block were allocated to one of 3 treatments 1 remaining untreated 2 fed with halofuginone or 3 treated with chloramphenicol. The calves were weighed on the day of birth as well as on days 21, 42 and 63, and fecal samples were collected from each calf by puncture of the Ia jugularis on day 4 serum was isolated by centrifugation and stored at 20 A until examination. The mean oocyst shedding score was significantly associated with the treatment, and time, and there was a significant treatment by time interaction. The mean oocyst shedding and coproantigen scores were not significantly correlated with the serum total protein concentration on day 4. The individual duration of oocyst shedding or coproantigen\n",
            "Abstract We review the priority setting process for infectious diseases and immunization in developed and developing countries, and then describe the development of a systems based approach to this challenge. In contrast to earlier efforts, the 2010 plan has a much wider focus and greater understanding of the high inter connectivity of the various moving parts in the world of infectious diseases and immunization than did the 1994 plan. The 2010 plan, in comparison to earlier plans, has a much broader focus for example, it includes both a catalog of priority vaccine targets and the creation of a vaccine safety agenda. The 2010 plan elevated the importance of evidence based surveillance of disease incidence, vaccine coverage, and effectiveness. The 2010 plan specifically recognizes the importance of global surveillance and information gathering, in light of the increasingly rapid international transmission of disease seen in the late 20th and early 21st centuries. The 2010 plan also raises the importance of interoperable health information technology and electronic health records, and urges increased support for vaccines for global health. We discuss this issue further in the following section as we describe the need for an expanded approach in evaluating the value of vaccines. We also include consideration of how to reach the desired end points, the mechanisms to finance those operations, consideration of contingencies, and methods to measure progress against the plans.\n",
            "Abstract The development of effective vaccines against infectious diseases has been hampered by the lack of effective vaccines against chronic viral infections such as severe acute respiratory syndrome, dengue fever, and influenza. In the past decade, advances have been made in the generation of cell mediated immune responses to peptide immunization for vaccine applications, including crossserotype prophylactic vaccines as well as therapeutic vaccines. In this review, we provide an overview of the current state of the art in the field of cell epitope based vaccines.\n",
            "Abstract The expression levels of long non coding Is encoded by the host have been shown to be altered upon infection with a variety of viral pathogens. In this report, we describe a meta analysis of two independent reverse transcription quantitative seq studies of human cytomegalovirus 1 infected cells and show that, unexpectedly, only three lncVs are differentially expressed in these datasets. The two transcript variants of the lnc173 transcript variant exhibit the highest degree of evolutionary conservation. In addition, both transcript variants are detectable in a variety of human cell lines, are located predominantly in the nucleus, and are up regulated upon infection with I 1. In contrast, loss of lnc00173 did not affect the viral replication cycle directly in cell culture, while other cytokines remained unaffected. The data indicate possible involvement of lnc173 in the regulation of cytokine expression. The unexpected antagonistic phenotype may imply a specific function of lnc173 to be exploited or blunted by I 1.\n",
            "Abstract The 5 untranslated region of coxsackievirusV3 encodes a highly ordered secondary structure and plays an important role in controlling viral translation, replication, and cardiovirulence. In this study, phosphorothioate oligodeoxynucleotides encapsulated in liposomes were synthesized and evaluated for their antiviral activity against the 5 and 3 untranslated regions of coxsackievirusV3 using an in vitro evaluation system. The most potent oligomers, phosphorothioate oligodeoxynucleotide 1 and phosphorothioate oligodeoxynucleotide 7 blocking the termini of 5 and 3 untranslated regions of coxsackievirusV3 showed specific and dose dependent inhibition of viral nucleocapsid protein synthesis. The percentages of inhibition of viral nucleocapsid protein synthesis were 67.9, 55.7, 33.1, 55.3, and 72.8 for 5 and 3 untranslated regions of coxsackievirusV3V, respectively. The percentages of inhibition of viral nucleocapsid protein synthesis were 67.9, 55.7, 33.1, 55.3, and 72.8 for 5 and 3 untranslated regions of coxsackievirusV3V, respectively. In conclusion, phosphorothioate oligodeoxynucleotides targeting the termini of 5 and\n",
            "Abstract In eukaryotic cells, vesicular trafficking is an essential cellular process to deliver membrane proteins or soluble cargos from one compartment to another. In this review, we will focus on the role of a proton pumping rotary nano motor in the regulation of vesicular trafficking and discuss the emerging role of this motor in the regulation of vesicular acidification and trafficking.\n",
            "Abstract We have developed a novel biosensor assay based on bioluminescence resonance energy transfer, second generation, a naturally occurring phenomenon that relies on the resonance energy transfer between a non radiatively to codon optimized humanized fluorophore and an acceptor molecule. The biosensor assay is homogeneous in that it is performed in live cells and there is no need for preparing cell extracts. The emission spectra are sufficiently distinct to allow for a straight forward ratiometric analysis of the h I2 and hV2 signals to assess molecular interactions or proximity between these two proteins. The assay also relies on a straight forward ratiometric calculation between the light emitted caused by interaction of h IV with its substrate and the resultant light emitted from hV2. The results demonstrated appropriate processing by the I, and specific cleavage that resulted in a decreased hV2 ratio in the I context only. The assay can also be used to probe for the function of viral proteins that can modulate I activity and may help elucidate the molecular details of I 1 maturation.\n",
            "\n"
          ],
          "name": "stdout"
        },
        {
          "output_type": "execute_result",
          "data": {
            "text/plain": [
              "{'rouge1': AggregateScore(low=Score(precision=0.45580170227417016, recall=0.31175074314683177, fmeasure=0.3594888000434748), mid=Score(precision=0.48591490404807625, recall=0.3303611962270844, fmeasure=0.3772136723297044), high=Score(precision=0.5156937437764325, recall=0.3500564146520765, fmeasure=0.39617310888790236)),\n",
              " 'rouge2': AggregateScore(low=Score(precision=0.14233723585451394, recall=0.09301157341278901, fmeasure=0.10875701110807047), mid=Score(precision=0.16616278493194164, recall=0.10589865056887661, fmeasure=0.12399233886201592), high=Score(precision=0.19089382360620824, recall=0.1218258836113858, fmeasure=0.1421903506512071)),\n",
              " 'rougeL': AggregateScore(low=Score(precision=0.27343347675076696, recall=0.18373588641536837, fmeasure=0.21219813726811312), mid=Score(precision=0.2990567029850141, recall=0.19738837823128913, fmeasure=0.2276822913892337), high=Score(precision=0.32936007721215743, recall=0.21314843771128303, fmeasure=0.24740930070141606)),\n",
              " 'rougeLsum': AggregateScore(low=Score(precision=0.27272233099151244, recall=0.18377263646740055, fmeasure=0.21276029091660015), mid=Score(precision=0.3000095106296358, recall=0.19706431706828037, fmeasure=0.22764782540531583), high=Score(precision=0.32977936756432175, recall=0.21305437499820723, fmeasure=0.2465755835167544))}"
            ]
          },
          "metadata": {
            "tags": []
          },
          "execution_count": 49
        }
      ]
    },
    {
      "cell_type": "code",
      "metadata": {
        "id": "np2xF390JGdD"
      },
      "source": [
        "device = \"cuda\"\n",
        "\n",
        "#MODEL_ID = f\"google/bigbird-pegasus-large-{DATASET_NAME}\"\n",
        "MODEL_ID = f\"BigBirdBeast\"\n",
        "\n",
        "\n",
        "model3 = BigBirdPegasusForConditionalGeneration.from_pretrained(MODEL_ID, gradient_checkpointing=True, use_cache=False).to(device)\n",
        "\n",
        "#tokenizer = AutoTokenizer.from_pretrained(\"deepset/covid_bert_base\")"
      ],
      "execution_count": 52,
      "outputs": []
    },
    {
      "cell_type": "code",
      "metadata": {
        "id": "G4BBpfnomBK0"
      },
      "source": [
        "def generate_answer3(batch):\n",
        "    inputs_dict = tokenizer(batch[\"extractivecombo\"], padding=\"max_length\", max_length=4096, return_tensors=\"pt\", truncation=True)\n",
        "    inputs_dict = {k: inputs_dict[k].to(device) for k in inputs_dict}\n",
        "    predicted_abstract_ids = model3.generate(**inputs_dict, max_length=256, num_beams=5, length_penalty=0.8)\n",
        "    batch[\"predicted_abstract\"] = tokenizer.decode(predicted_abstract_ids[0], skip_special_tokens=True)\n",
        "    print(batch[\"predicted_abstract\"])\n",
        "    return batch"
      ],
      "execution_count": 54,
      "outputs": []
    },
    {
      "cell_type": "code",
      "metadata": {
        "colab": {
          "base_uri": "https://localhost:8080/",
          "height": 1000,
          "referenced_widgets": [
            "c4db251dcc164b459c2a56dbd3c414f6",
            "999bb6a709c0488fbc01c2faf97f9849",
            "bdb58b48005f4016bdd9bfd407f1c43b",
            "951f774ffea34711b40d20c4567a2f67",
            "b512ca20f54f46d3a7cf16228bf97232",
            "7c41d08391214544a131e99c852d8b16",
            "b2c7bff197fe4e7ca8000f210bebdcd5",
            "53dd3d48fbf94a19818502f348a6366f"
          ]
        },
        "id": "DZwl1J_PmB3s",
        "outputId": "8ff35a34-9b41-49c6-fe75-9a75da618086"
      },
      "source": [
        "dataset_small = xx.select(range(100))\n",
        "result_small = dataset_small.map(generate_answer3)\n",
        "\n",
        "rouge.compute(predictions=result_small[\"predicted_abstract\"], references=result_small[\"abstract\"])"
      ],
      "execution_count": 55,
      "outputs": [
        {
          "output_type": "display_data",
          "data": {
            "application/vnd.jupyter.widget-view+json": {
              "model_id": "c4db251dcc164b459c2a56dbd3c414f6",
              "version_minor": 0,
              "version_major": 2
            },
            "text/plain": [
              "HBox(children=(FloatProgress(value=0.0), HTML(value='')))"
            ]
          },
          "metadata": {
            "tags": []
          }
        },
        {
          "output_type": "stream",
          "text": [
            "Abstract The importance of childhood community acquired pneumonia cannot be emphasized enough. The early nineties, over 25% of the annual deaths of children in developing countries before the fifth birthday was attributable to pneumonia. In the early nineties, over 25% of the annual deaths of children in developing countries before the fifth birthday was attributable to pneumonia. In the early nineties, over 25% of the annual deaths of children in developing countries before the fifth birthday was attributable to pneumonia. In the early nineties, over 25% of the annual deaths of children in developing countries before the fifth birthday was attributable to pneumonia. In the early nineties, over 25% of the annual deaths of children in developing countries before the fifth birthday was attributable to pneumonia. In the early nineties, over 25% of the annual deaths of children in developing countries before the fifth birthday was attributable to pneumonia. In the early nineties, over 25% of the annual deaths of children in developing countries before the fifth birthday was attributable to pneumonia. In the early nineties, over 25% of the annual deaths of children in developing countries before the fifth birthday was attributable to pneumonia. In the early nineties, it was estimated to be responsible for 1.6 million deaths among 5 old children around the world. We recently as 2013, the worldwide SARS of SARS analysis suggested that childhood community acquired pneumonia could be responsible for\n",
            "Abstract The 5 terminal unique region of avian coronavirus infectious bronchitis virus encodes two large polyproteins, 1a and 1b. The two polyproteins are cleaved by two viral proteinases to produce functional products associated with viral replication. The two polyproteins are cleaved by two viral proteinases to produce functional products associated with viral replication. The first proteinase was shown to be involved in cleavage of the terminal region of the 1a and polyproteins at two I dipeptide bonds to release two mature products of 87 and 195 I. The second proteinase was shown to be involved in cleavage of the terminal region of the 1a and polyproteins at two I dipeptide bonds to release two mature products of 87 and 195 I. The two relatively stable intermediate cleavage products with molecular masses of approximately 160 and 132 were identified in IV infected cells. In addition, two relatively stable intermediate cleavage products with apparent molecular masses of 200, 132, and 58 were identified. The 100, 68, and 58 proteins were associated with the membranes of the endoplasmic reticulum, while the 39 and 35 proteins displayed diffuse distribution patterns. The identification of two stable intermediate cleavage products of 160 and 132 coexisting with the mature cleavage products\n",
            "Abstract A recombinant tumor specific immunoglobulin produced in baculovirus infected insect cells endowed it with markedly improved binding to human RNAs, and was accompanied by upregulation of several I activation markers. In vivo, immunization with insect cell derived Id induced higher levels of cytotoxic lymphocyte activity against the I20 murine cell lymphoma compared to hybridoma derived Id, with an associated improvement in the frequency of tumor eradication.\n",
            "Abstract In recent years, there has been a growing interest in exploiting immunoglobulin type lectins for immunotherapy and disease prevention. In this review, we discuss the recent advances in understanding the role of Ilecs in host pathogen interactions.\n",
            "Abstract The detection of intra segmental homologous recombination events in influenza is still legitimate, since evidence of homologous recombination has been found in other segmented negative strand I viruses. The goal of this study is to address whether there is evidence of intra segmental homologous recombination in these strains that have undergone multiple reassortment events, and when homologous recombination did occur, whether we can effectively detect the recombinant sequences. The results show that there are significant signals for intra segmental homologous recombination within the polymerase basic 2 protein gene supported by ribonucleoprotein, influenza virus type 1, influenza virus type 2, and influenza virus type 1. The results suggest that intra segmental homologous recombination occurs rarely in influenza and tends to occur between closely related strains.\n",
            "Abstract The recent global outbreak of an atypical pneumonia severe acute respiratory syndrome has been associated with a newly identified coronavirus termed SARS coronavirus. In addition to providing insights into fusion activating conformational changes in I2, determining the structural basis for interactions between the I regions could assist anti I drug development efforts. In this report, we have applied a protein dissection approach to identify and study two isolated I domains and two RNA complexes from I coronavirus spike glycoprotein. The set of structures and their widely varying stabilities suggest a plausible mechanism for achieving the controlled activation of I2.\n",
            "Abstract The nucleocytoplasmic trafficking of many cellular proteins is subject to regulation by post translational modifications such as phosphorylation, ubiquitination and small ubiquitin related modifiers. In this review, we will summarise our current knowledge on these post translational modifications in the nucleocytoplasmic trafficking of cellular proteins and give a few examples of how these pathways are exploited by viruses.\n",
            "Abstract The major histocompatibility complex processing compartment is a lysosomal like organelle that plays an important role regulating cell antigen processing and presentation. We have previously shown that targeting antigens with the tyrosine based motif of lysosomal associated membrane protein 1 can enhance the immune responses against a variety of antigens from many pathogens. In this study, we compared the immunogenicity of two different plasmids encoding the native human melanosomal antigen and the optimized human melanosomal antigen. The results showed that each of the I antigen formulation delivered as a naked I vaccine induced distinct cellular and humoral immune responses. In addition, the use of 11 rhesus macaques per group allowed for statistical analysis and demonstrated a statistically significant difference in immune responses. The results suggest that modification of the posttranslational fate of an antigen, in addition to optimization of I expression, provides another approach to improve immunogenicity of antigens, to amplify desirable vaccine responses, and to further increase the efficiency of I vaccines.\n",
            "Abstract The aim of this study was to determine the prevalence of four viral pathogens of concern and one protozoal pathogen of interest in a wild dog population across much of their range. In particular, we sought to understand whether largescale land use management characteristics, associated with varying probabilities of contact with domestic dogs, influenced infectious disease exposure in wild dogs. In contrast, we hypothesized that pathogens with environmental persistence or complex lifecycles might be able to persist in wild dog populations in the absence of an external reservoir, such that wild dog exposure might not be as influenced by land use type and probability of contact with domestic dogs. A total of 268 individual wild dogs distributed across 16 sites in five countries were tested for canine distemper virus, canine parvovirus, rabies virus and parvovirus seroprevalence using serology, hemagglutination inhibition and serum neutralization methods. The results show that most wild dog populations are in contact with both rabies virus and canine distemper virus, yet most have persisted over time. The higher levels of canine distemper virus exposure were found in wild dogs from both unprotected and protected unfenced areas, while rabies virus and coronavirus exposure was highest in wild dogs from unprotected areas. The higher levels of canine distemper virus exposure were found in wild\n",
            "Abstract The objective of vaccination is to achieve specifi stimulation of the immune system enabling the host to mount an effi cient memory immune response that can recognize the pathogen and eventually eliminate it once it is present in the organism upon infection. In this review we will discuss the current state of the art in the field of veterinary vaccine research and development.\n",
            "Abstract A head to tail ligation method was used to determine the length of the poly tail of bovine coronavirus, which is a member of the alphacoronavirus family. The poly tail length of the avirulent strain of bovine coronavirus was determined to be 25 nt at 1 day postinfection, and then increased to 60 nt at 2 days postinfection. The length of the poly tail of the virulent strain of bovine coronavirus was determined to be 45 nt at 1 day postinfection, and then increased to 60 nt at 2 days postinfection. The poly tail length of the avirulent strain of bovine coronavirus was determined to be 25 nt at 1 day postinfection, and then increased to 60 nt at 2 days postinfection. The poly tail length of the virulent strain of bovine coronavirus was determined to be 45 nt at 1 day postinfection, and then increased to 60 nt at 2 days postinfection. The poly tail length of the avirulent strain of bovine coronavirus was determined to be 25 nt at 1 day postinfection, and then increased to 60 nt at 2 days postinfection. The poly tail length of the avirulent strain of\n",
            "Abstract A cationically modified chitosan derivative, 3 trimethylammonium chitosan chloride and its hydrophobically modified derivative, were shown to be potent inhibitors of SARS CoVVV63 replication. The inhibitory activity of the polymers was evaluated by in vitro assays and by quantitative PCR based assay. The polymers showed a significant decrease in the number of viral copies in the presence of the tested polymers, proving their effectiveness also in this semi natural setting. The best results were obtained for the cationically modified chitosan derivative, for which the RNA 50 value reaches 2.75 1.18, though a pronounced inhibition was noted also for the hydrophobically modified chitosan derivative. The polymers also showed a prominent activity against murine hepatitis virus, suggesting that developed compounds may represent a novel class of antiviral compounds for the treatment of a wider spectrum of coronaviral diseases.\n",
            "Abstract The ribosomal frameshifting signal of the influenza RNA l gene was tested by in vitro transcription and translation of translatron products synthesized in response to transcription from a plasmid containing a region of overlapping open reading frames. The efficiency of frameshifting in vivo was similar to that seen in the reticulocyte lysate, suggesting that efficient frameshifting depends on the formation, by these slippery sequences, of a tertiary structure in the form of a pseudoknot. In addition, by site directed mutagenesis of the region, we show that the insertion of as little as three bases in this region dramatically reduced the efficiency of frameshifting, suggesting that a pseudoknot is an essential element of the frameshifting signal, although its precise organization remains to be elucidated.\n",
            "Abstract The aim of this study was to assess the efficacy of an anti viral drug to stop the excretion of feline coronavirus in the faeces of naturally infected cats. We report the outcome of using 2 and 4 doses of the anti viral drug, feline interferon omega, which has been shown to reduce the shedding of feline coronavirus in cats with feline infectious peritonitis. The study was conducted in a cattery which experienced eight feline infectious peritonitis deaths over a one year period. The owner of the cattery discovered she could stop the shedding of feline coronavirus in some of her cats using feline interferon omega, which has been shown to reduce the shedding of feline coronavirus in cats with feline infectious peritonitis. We report the outcome of using 2 and 4 doses of the anti viral drug feline interferon omega, which has been shown to reduce the shedding of feline coronavirus in cats with feline infectious peritonitis. The study was conducted in a cattery which experienced eight feline infectious peritonitis deaths over a one year period. The owner of the cattery discovered she could reduce the shedding of feline coronavirus in some of her cats using feline interferon omega, which has been shown to reduce the shedding of feline coronavirus\n",
            "Abstract We discuss the role of viral respiratory infections in the expression of asthma in early life and how they contribute to asthma exacerbations. The role of viral respiratory infections in the expression of asthma in early life and how they contribute to asthma exacerbations is discussed.\n",
            "Abstract The ability of recombinant vectors derived from the single stranded adeno associated virus to drive sustained protective humoral immunity through a variety of injection routes has attracted increasing interest as a potential vaccine vehicle. In this study, we report for the first time in vivo and ex vivo analysis of transgene presentation by single stranded adeno associated virus vectors with restriction of transgene expression to non hematopoietic cells in the context of intradermal immunization. The results highlight the skin as a suitable target organ for vaccination with r CoV vaccines, and they extend our previous observations in the skeletal muscle regarding the impact of I4 T cell help on primary I8 T cell responses induced by r CoV vectors. The data thus suggest that this might represent a unique property of the skin not shared by all other peripheral tissues, including the skeletal muscle.\n",
            "Abstract The effects of pneumonia, diarrhea, umbilical infection, umbilical hernia, and postcolostral serum Ig on the growth rate of female dairy calves were studied during the s, 2nd, and 3rd mo of life and on the total and height gains during the entire 3 mo period. A maximum likelihood multiple linear regression model was used to study the effects of these diseases on the growth rate during the s, 2nd, and 3rd mo of life and on the total and height gains during the entire 3 mo period. The first occurrence of the diseases and only occurrences during that particular month and during preceding months were considered in the modeling. The first occurrence of the diseases and only occurrences during that particular month and during preceding months were considered in the modeling. The first occurrence of the diseases and only occurrences during that particular month and during preceding months were considered in the modeling. The first occurrence of the diseases and only occurrences during that particular month and during preceding months were considered in the modeling. The first occurrence of the diseases and only occurrences during that particular month and during preceding months were considered in the modeling. The first occurrence of the diseases and only occurrences during that particular month and during preceding months were considered\n",
            "Abstract The effect of concurrent infection with porcine reproductive and respiratory syndrome virus and I. choleraesuis on viremia and duration of infection was evaluated in 5 week old pigs. The treatment group consisted of different combinations of three factors inoculation with I. choleraesuis at a concentration of 10 6 colony forming units on I 0, inoculation with I. choleraesuis at a rate of 10 3 50% tissue culture infectious doses on I 3, and treatment with dexamethasone at a rate of 2 on I 37. The treatment group consisted of different combinations of three factors inoculation with I. choleraesuis at a concentration of 10 6 colony forming units on I 0, inoculation with I. choleraesuis at a rate of 10 3 50% tissue culture infectious doses on I 3, and treatment with dexamethasone at a rate of 2 on I 37. The treatment group consisted of different combinations of three factors inoculation with I. choleraesuis at a concentration of 10 6 colony forming units on I 0, inoculation with I. choleraesuis at a rate of 10 3 50% tissue culture infectious doses on I 3, and treatment with dexamethasone at a rate of 2 on A 37. The treatment group consisted of\n",
            "Abstract The purpose of this paper is to provide a synthesized review of how a global scholarship examines the realm of social mediated dialogue in crises and offer insights for future research agendas. We conducted a systematic review of 61 articles published in 27 academic journals in the field of communication from 2006 to 2018. We found that the ubiquitous control of the central government and strict media censorship have significantly influenced the communication pattern and dialogue building between organizations and their publics in crises. The most frequently examined crises were managerial misconducts, followed by natural disasters, confrontation crises, malevolence, and technological crises. The most frequently examined crises were managerial misconducts, followed by natural disasters, confrontation crises, malevolence, and technological crises. The social mediated crisis communication model, medium influence based theories, and source influence based theories were not frequently applied. The social mediated crisis communication model, medium influence based theories, and source influence based theories were frequently adopted, followed by the social mediated crisis communication model, and other theories. The centralized political governance impedes transparent, equal, and open dialogue between the above mentioned three types of organizations and their online publics in crises.\n",
            "Abstract In this review, we focus on the importance of viral proteins in virus replication and pathogenesis and discuss the potential of viral proteins as therapeutic targets for virus infection. In addition, we discuss the importance of viral stress in virus induced apoptosis, immune evasion and inflammation, which have profound but complex implications in virus replication and pathogenesis, and how these events result in cell death commitment.\n",
            "Abstract The acute respiratory distress syndrome is a common cause of mortality from severe influenza. The innate immune response is critical for influenza virus clearance, an aberrant cytokine response often results in immunopathology and subsequent organ dysfunction and host death. The complement system plays an important role in the innate and adaptive immune response to pathogens, and aberrant complement activation contributes to the pathogenesis of many inflammatory and immunological diseases. In this study, we investigated the potential role of the accessory protein in the pathogenesis of highly pathogenic avian influenza virus of the I5N1 subtype in mice, ducks and chickens. In this study, we found that the I deficient viruses induced more severe weight loss compared with the parental virus. In addition, the I deficient viruses induced more severe interstitial pneumonia and bronchopneumonia that were characterized by serious thickened alveolar wall, disappeared alveolar structure, severe infiltration of necrotic alveolar epithelial cells and inflammatory cells in the alveolar interstitial and severe necrosis and desquamation of the bronchial epithelial cells. The expression levels of some representative cytokines and chemokines in the mouse lung were greatly elevated in the I deficient virus infected mouse lung compared with that of the parental virus. In addition, reduced I expression significantly increased virusinduced apoptosis and necrosis in\n",
            "Abstract The structures of the astrovirus virion and capsid spike have been determined to moderate 25 resolution by electron cryomicroscopy and image analysis. In addition, the high resolution ray crystallographic structure of the astrovirus protease revealed a number of distinctive features that provide insight into its role in nonstructural polyprotein processing events. This structural studies will have a large impact on the development of antivirals and vaccines targeting astrovirus.\n",
            "Abstract The sialodacryoadenitis virus strain 681 is the causative agent of sialoadenitis in laboratory rats. The prototype rat coronavirus isolates, sialodacryoadenitis virus strain 681 and sialodacryoadenitis virus strain 681, are closely related antigenically and probably represent strains of the same virus. In this study, cell sublines were produced and selected to maximize growth of wild type and prototype isolates. The subline was used to isolate IVs from naturally infected rats and to propagate IV stocks from plaques. The subline was used to isolate wild type IVs, including the prototype isolates, from naturally infected rats and to propagate IV stocks from plaques. In molecular weights and ratios of and proteins was detected among two prototypes, one I and three wild type isolates suggesting that biological differences in the behavior of isolates may be related to differences in proteins.\n",
            "Abstract The envelope protein of the severe acute respiratory syndrome coronavirus is a small, 76 amino acid, integral membrane protein with one putative transmembrane helical hydrophobic domain, 20 30 amino acids long, flanked by a short terminus and a longer terminus tail, both more hydrophilic. However, of these oligomeric forms, only pentamer is consistent with the formation of a pore that could account for the ion channel behavior observed in previous reports, but at present the oligomeric form of protein A, and protein A, in lipid bilayers is not yet known. In this work, we have analyzed the structure of isotopically labeled protein A when incorporated in model lipid bilayers using polarized attenuated total reflection infrared spectroscopy. The results provide an important insight into the mode of organization of protein in lipid bilayers.\n",
            "Abstract A typical example of the dual effect of mutation and selection is escape mutations from I8 cells in viruses. In this study, we use bioinformatics tools to analyze the relation between the frequency of escape mutations and the organisms complexity. The ratio between the epitope density and the expected epitope density based on the amino acid composition of each protein is used to estimate the accumulation of escape mutations. We show that with a low number of proteins accumulate more escape mutations per protein than large ones, and short proteins accumulate more escape mutations than long ones, even in steady state. In large the removal of escape mutations has a fitness cost, but no survival advantage. The results suggest that the relation between the complexity and the fixation of advantageous mutations extends from the single protein to the full organism.\n",
            "Abstract The spike protein of severe acute respiratory syndrome associated coronavirus has been identified as angiotensin converting enzyme 2. In contrast to other known human coronaviruses which usually cause common cold like symptoms, SARSV exerts a more devastating clinical effect. In this study, a microarray analysis of the changes in transcriptional activities of a green monkey kidney cell line infected with SARSV was performed. In addition, the expression profiles of 17 genes selected after the microarray analysis were further validated by real time quantitative PCR. The microarray analysis revealed that the transcript levels in infected cells were significantly altered according to their known functions, including angiotensin converting enzyme 2, angiotensin converting enzyme 1, angiotensin converting enzyme 2, lysosomal protein isoleucine synthetase, lysosomal protein isoleucine synthetase, modifying enzyme, and eukaryotic translation elongation factors. In contrast, the transcript levels of several apoptosis related genes were significantly elevated. The counterbalancing of several antiinflammatory and pro inflammatory pathways together with the variable expression of apoptosis related genes was striking and instructive. The study can serve as a basis for more detailed investigations into the exact roles of critical genes and pathways in the pathogenesis of this newly emerging lethal infectious\n",
            "Abstract We analyzed the codon usage patterns of the overlapping nucleocapsid and orf9b genes of the human betacoronavirus of lineage c. The nucleocapsid gene has a discordant codon usage pattern whereas the overprinted region of the nucleocapsid gene has a codon usage pattern similar to the non overlapping regions of the SARSV genome. In contrast, the overprinted region of the orf9b protein has a codon usage pattern similar to the non overlapping regions of the SARSV genome. The overprinted region of the orf9b protein has a higher evolutionary rate that is attained mainly via substitutions. The overprinted region of the orf9b protein forms a two fold symmetric dimer comprising two adjacent sheets. The central hydrohobic cavity between the monomers, electron density for a lipid molecule was detected. The overprinted part of the nucleocapsid protein exhibits reduced flexibility, as evident from the atomic temperature factors for the polypeptide. The overprinted part of the nucleocapsid protein is subject to positive selection pressure and is evolving at a faster rate, compared to the overprinted protein. The analysis presented here may form a basis to follow the future evolution of orf9b and a starting point for investigating the so called internal genes overlapping\n",
            "Abstract The leader sequence in subgenomic RNAs is unique in coronavirus and arterivirus, which is closely related to coronavirus. The leader sequence may join the body sequence during processing of a negative strand subgenomic RNA or during processing of a negative strand subgenomic RNA on a negative strand subgenomic template. The leader sequence may also join the body sequence during processing of a positive strand genomic RNA or during processing of a positive strand genomic RNA by a unique leader primed transcription mechanism, in which short free leaderVs are used as primers for subgenomicV synthesis, or by polymerase jumping from the leader sequence to an intergenic sequence during subgenomicV synthesis on the negative strand genomic RNA template. In the present study, we examined whether replacement of the 12 nt long intergenic sequence with the 18 nt long naturally occurring intergenic sequence always overcomes transcription suppression caused by the presence of one of the flanking sequences or the presence of certain combinations of upstream and downstream flanking sequences. The results showed that transcription suppression only occurred with certain combinations of upstream and downstream flanking sequences.\n",
            "Abstract The immunomodulatory activities of type I lectins have been studied for many years, and, accordingly, their associated ligands are, by and large, well defined however, for other lectins, and especially those that appear to accommodate a vast array of ligands, and especially those that appear to accommodate a vast array of ligands. The association between s and endogenous ligands can assist in understanding deleterious cellular processes such as tumour growth and also regular cellular housekeeping processes, such as debris clearance. This is imperative that immunologists and chemists continue to work closely together in order to determine how s ligand interactions influence the many varied aspects of the immunology.\n",
            "Abstract The aim of this study was to understand how immune modulation induced by a prior respiratory viral pathogen influences subsequent porcine respiratory coronavirus respiratory infection. We used porcine reproductive and respiratory syndrome virus infection to understand how immune modulation induced by a prior respiratory viral pathogen influences subsequent porcine respiratory coronavirus respiratory infection. We used porcine reproductive and respiratory syndrome crossbred specificpathogen free piglets to infect pigs with porcine respiratory coronavirus type 2. The pigs were killed at 30 d post infection, and lung and serum samples were collected at 14 different time points over a period of 30 d post infection. The levels of proinflammatory cytokines and regulatory cytokines in serum and lung were determined by flow cytometry. The incidence of fever was evident in more than 70% of dual virus infected pigs compared to pigs infected with porcine reproductive and respiratory syndrome virus alone, and persisted until day 30 post infection. In dual virus infected pigs, higher levels of the proinflammatory cytokine interleukin 12 were detected in both the lungs and serum, compared to either of the single virus infected pig groups. In dual virus infected pigs, higher levels of interleukin 10 were detected in both the lungs and serum, compared to either of the single virus infected pig groups. In dual virus infected pigs, higher levels of interleukin 6 were detected in\n",
            "Abstract The contemporary mega trend of rapid urbanization, together with global climate change, both developed and developing countries are highly susceptible to various types of environmental disasters with the potential to bring heavy destruction. This increase in the frequency and severity of disasters is often a result of the unsustainable nature of human developmental activities, which are usually combined with a densely concentrated population in urban areas. In this context, many developed and developing countries are carrying out disaster risk reduction activities in the context of decentralized governance, and a number of studies are underscoring the implications of a decentralized governance structure for effective disaster prevention and mitigation. We have examined the recent evolution of disaster governance in China, a country with nascent democratization and decentralization but a legacy of strong state institutions. The case of SARS provides a noteworthy example of how government concurrently carried out centralization and decentralization of disaster management. The same time, it reformed the system, which had been inefficiently dispersed and duplicated among various national departments and agencies, into a comprehensive and integrated one under centralized command and control. In the same time, it made great efforts to decentralize disaster governance, highlighting the responsibilities and roles of the local government as the key unit in disaster management. The paper concludes that competent horizontal collaborations are required to underpin the local governments that\n",
            "Abstract The severe acute respiratory syndrome associated coronavirus epidemic of winter 2002 to 2003 affected 800 people and resulted in 800 deaths. In this study, we established a new experimental small animal model for IV by using mouse passaged IV mice and mouse passaged IV mice. The results indicate that the lungs of adult mice were infiltrated with predominantly neutrophils on days 3 and 5 after inoculation, whereas the lungs of young mice were also infiltrated with predominantly neutrophils on days 3 and 5 after inoculation. In contrast, the lungs of adult mice evinced more lung inflammation, as shown by neutrophil, macrophage, and lymphocyte infiltration and virus antigen positive cells in the alveolar spaces on days 4 and 5 after inoculation. In contrast, the lungs of young mice evinced less lung inflammation, as shown by neutrophil, macrophage, and lymphocyte infiltration and virus antigen positive cells in the alveolar spaces on days 4 and 5 after inoculation. The results indicate that both advanced age and virus adaptation to particular animal species may dictate the pathogenic capacity of SARSV.\n",
            "Abstract The signature features common to broadly neutralizing antibodies are important for immunogen design in the development of a universal influenza vaccine. We report that the hemagglutinin gene segment contributes the majority of the interaction surface and is a recurring motif in antibodies that target the hemagglutinin stem.\n",
            "Abstract The objective in this paper was to explore how behaviour and virulence influence one another, in a coupled behaviour disease differential equation model. The model is based on a system of differential equations in the presence and absence of adaptive social behaviour. In the absence of social behaviour, we derive necessary and sufficient conditions for the invasion of a more virulent strain under plausible epidemiological and social conditions even when it has a lower basic reproductive number. In the presence of adaptive social behaviour, we derive necessary and sufficient conditions for the invasion of a more virulent strain under plausible epidemiological and social conditions even when it has a lower basic reproductive number. In conclusion, our model shows how social behaviour can influence the virulence of emerging strains under plausible parameter regimes when using standard models for social and infection dynamics.\n",
            "Abstract The pathogenesis of severe acute respiratory syndrome is still not fully understood. In addition to the histological changes of the recognized phases of pulmonary pathology, many other pathological changes have been described. We review the major pathological findings at the gross, cellular and molecular levels, which have been reported in hitherto published postmortem studies of SARS patients including previous publication on multiple organ infection in this disease. The implications of such mechanisms for the prevention, diagnosis and therapy of this disease are discussed.\n",
            "Abstract The metapneumovirus respiratory syncytial virus, a family member of human metapneumovirus, is a leading cause of lower respiratory tract disease in children, the elderly, and immunocompromised patients worldwide. The metapneumovirus small hydrophobic protein 2 is highly conserved between the two h CoV strains and has immune regulatory functions, such as retinoic inducible gene like receptors, to launch the innate immune responses in a cell typedependent manner. In this study, we investigated the role of I2 2 in regulating innate antiviral signaling at the acute phase of h CoV infection. The results showed that hVV I2 protein does not contain a viral gene regulatory domain in the first 25 amino acids, but is enriched with other structural domains in signaling proteins for signal transduction. In contrast, it does not contain a retinoic inducible gene like receptor domain in the last 45 amino acids, which promote viral genome replication and contain a cytotoxic lymphocyte epitope. In this study, we identified novel motifs of I2 2 as innate immunity regulators and provided additional insights into the attenuation mechanism of h CoV with a complete I2 2 deletion.\n",
            "Abstract The red shifted enhanced green fluorescent protein of equine arteritis virus localizes to the nucleolus in a pattern similar to that found in other viral nucleocapsid proteins. We have identified a conformation determining region of the protein, termed the conformation determining region, which is enriched in lysine and arginine residues. In addition, we have identified a second hydrophobic region, termed the conformation determining region, which is enriched in leucine and valine residues. In addition, we have identified the serine at position 120 as a site for phosphorylation. In addition, we have determined that the presence of the 41 peptide in a construct that contained the 41 peptide produced a localization pattern similar to that found in other viral nucleocapsid proteins. The presence of the 41 peptide in a construct that contained the 41 peptide produced a localization pattern similar to that found in other viral nucleocapsid proteins. The presence of the 41 peptide in a construct that contained the 41 peptide produced a localization pattern similar to that found in other viral nucleocapsid proteins. The presence of the 41 peptide in a construct that contained the 41 peptide produced a localization pattern similar to that found in other viral nucleocapsid proteins. The presence of the 41 peptide in a construct that contained the 41 peptide produced a localization\n",
            "Abstract The endoplasmic reticulum is utilized by a large number of viruses, other membranous organelles can also be exploited by viruses. However, the exact origins of the membranous structures and the pathways responsible for their formation remain to be fully elucidated. The endoplasmic reticulum is utilized by a large number of viruses, other membranous organelles can also be exploited by viruses. The membranous structures contain markers for autophagosomes, suggesting a pivotal role for autophagy in controlling replication of positive stranded I viruses. In this review, we discuss the current understanding as to how positive stranded I viruses interact with the host autophagy machinery to control their replication and spread. We also discuss the pro and anti viral functions of autophagy and the potential mechanisms involved.\n",
            "Abstract The aim of this study was to develop and validate a real time enzyme linked immunosorbent assay for the detection and quantitation of influenza virus. The assay was designed to detect and quantitate viral nucleic acid using a fluorescent labelled probe designed to anneal the influenza matrix protein gene. The assay was compared with a culture enhanced enzyme linked immunosorbent assay and a panel of clinical isolates of influenza virus. The results showed that the real time enzyme linked immunosorbent assay was more sensitive than the culture enhanced enzyme linked immunosorbent assay and the results were in good agreement with those obtained from the panel of clinical isolates. The real time enzyme linked immunosorbent assay is a sensitive and specific method for screening patients participating in clinical trials of neuraminidase inhibitors.\n",
            "Abstract In the present study, we designed to make the antibody vs glycyrrhizin, and then we tried to selectively deplete glycyrrhizin from glycyrrhiza sativa, a traditional herbal medicine, to define the role of the compound in the whole delayed type hypersensitivity reaction, with regard to lymphocyte adhesion and matrix metalloproteinase production. The results indicated that glycyrrhizin mainly inhibited lymphocyte activation and proliferation, while glycyrrhizin showed a strong inhibition on lymphocyte adhesion to extracellular matrix and matrix metalloproteinase production. The results suggested that glycyrrhizin also plays an important role in the inhibition efficacy of matrix metalloproteinase on lymphocyte adhesion to extracellular matrix and matrix metalloproteinase production.\n",
            "Abstract The newly formed 1 subunit of paramyxovirus is cleaved by furin within the transmissible gastroenteritis virus transmissible gastroenteritis virus transmissible gastroenteritis virus transmissible gastroenteritis virus transmissible gastroenteritis virus transmissible gastroenteritis virus enterotoxigenic gastroenteritis virus enterotoxigenic gastroenteritis virus enterotoxigenic gastroenteritis virus enterotoxigenic gastroenteritis virus enterotoxigenic gastroenteritis virus enterotoxigenic gastroenteritis virus enterotoxigenic gastroenteritis virus enterotoxigenic gastroenteritis virus enterotoxigenic gastroenteritis virus enterotoxigenic gastroenteritis virus enterotoxigenic gastroenteritis virus enterotoxigenic gastroenteritis virus enterotoxigenic gastroenteritis virus enterotoxigenic gastroenteritis virus enterotoxigenic gastroenteritis virus enterotoxigenic gastroenteritis virus enterotoxigenic gastroenteritis virus enterotoxigenic gastroenteritis virus enterotoxigenic gastroenteritis virus enterotoxigenic gastroenteritis virus enterotoxigenic gastroenteritis virus enterotoxigenic gastroenteritis virus enterotoxigenic gastroenteritis virus enterotoxigenic gastroenteritis virus enterotoxigenic gastroenteritis virus\n",
            "Abstract The acute respiratory syndrome coronavirus was identified as the etiologic agent of severe acute respiratory syndrome in late 2002 and by the end of the viral outbreak in SARS 2003, there have been more than 8000 cases reported worldwide and 774 attributed deaths. The epidemic was eventually controlled by patient isolation, however, there is no effective treatment for SARS presently or an efficacious vaccine to prevent infection. The significant morbidity and mortality, including its potential for reemergence, make it necessary to develop effective methods to treat and prevent the disease. In the fight against SARS, it is important to develop antiviral agents that can specifically inhibit the RNA synthesis of SARSV. In this report, we describe the construction of the first IV derived replicon cell line. The replicon cell line is based on a strategy previously used to assemble the full length SARSV construct. The replicon was constructed by in vitro ligation. The replicon was used to transfect a cell line, baby hamster kidney 21, and the transfected cells were subjected to blasticidin selection to enrich for the replicon carrying cells. The replicon carrying cells were observed for fluorescence microscopically after 5 days of blasticidin treatment. The average green fluorescence intensity value of the replicon\n",
            "Abstract A subunit based vaccinia virus vaccine formulation including two intracellular mature virion antigens and two extracellular enveloped virion antigens from vaccinia virus was able to protect mice against intraperitoneal vaccinia virus challenge and subsequently to protect rhesus macaques against monkeypox virus challenge. The efficacy of protection in mice receiving the 3 recombinant proteins became close to that of a positive control using poxvirus vaccine only after 4 vaccinations. The exact mechanism by which a live attenuated vaccinia vaccine could generate better protection than the subunit based vaccines is not clear. We report that immunization of mice with an optimized vaccinia vaccine design was able to induce vaccinia neutralizing antibody responses, provide protection against lethal vaccinia challenge and was effective in further improving the protection efficacy of polyvalent poxvirus vaccine formulations.\n",
            "Abstract A novel coronavirus was identified as the etiological agent of severe acute respiratory syndrome. The aim of this study was to examine the impact of providing outpatients with information about the infection control in an infectious disease treatment unit on their intention to continue outpatient visits to the hospital. We conducted a cross sectional survey among outpatients who visited a city hospital in China. We used a questionnaire to examine the impact of providing outpatients with information about the infection control in an infectious disease treatment unit on their intention to continue outpatient visits to the hospital. In a logistic regression analysis, those who had visited outpatient department frequently, those who were relieved after reading the information about the unit, and those who did not worry about SARS infection in the hospital, were significantly more likely to continue outpatient visits at the hospital, even if a patient was admitted to the hospital. The cumulative total number of outpatients and the cumulative total expenditures for outpatient care during 180 days after admission of a patient to the hospital were estimated to decrease by 20% and 7%, respectively. The cumulative total number of outpatients and the cumulative total expenditures for outpatient care during 180 days after admission of a patient to the hospital were estimated to decrease by 20% and 7%, respectively.\n",
            "Abstract The aim of the present study was to examine the effects of the strain of influenza viruses on allergic sensitization to ovalbumin. The mice were sensitized with ovalbumin aerosols and challenged with ovalbumin aerosols 24 hours after sensitization, airway responsiveness to methacholine, levels of ovalbumin specific IgV, and bronchoalveolar lavage fluid were examined. The results showed that airway responsiveness to ovalbumin increased when the animals were sensitized by inhalation of 1% ovalbumin alone. The threshold value of inhaled methacholine, measured 24 hours after a challenge, decreased in animals sensitized with ovalbumin after inoculation with either 1 1 or 3 2 fold dilutions compared with the respective baseline value. The threshold value of inhaled methacholine, measured 24 hours after a challenge, decreased in animals sensitized with ovalbumin after inoculation with either 1 1 or 3 2 fold dilutions compared with the respective baseline value. The threshold value of inhaled methacholine, measured 24 hours after a challenge, decreased in animals sensitized with ovalbumin after inoculation with either 1 1 or 3 2 fold dilutions compared with the respective baseline value. The threshold value of inhaled methacholine, measured 24 hours\n",
            "Abstract The aim of this study was to develop a sensitive and specific quantitative reverse transcription loop mediated isothermal nucleic acid amplification assay for simultaneous detection and differentiation of avian respiratory syncytial virus and avian respiratory syncytial virus. In this study, a flow dipstick assay was developed to detect and differentiate avian respiratory syncytial virus and avian respiratory syncytial virus, both simultaneously and accurately. The specificity of the assay was evaluated using 13 different avian respiratory syncytial virus and 2 different avian respiratory syncytial virus strains. The detection rates of different samples, detected by the assay, were both 95%, and were significantly higher than those detected by conventional reverse transcription loop mediated isothermal nucleic acid amplification and quantitative real time PCR. In addition, the detection rates of different samples, detected by the assay, were both 95%, and were significantly higher than those detected by conventional reverse transcription loop mediated isothermal nucleic acid amplification and quantitative real time loop mediated isothermal nucleic acid amplification. The detection rates of different samples, detected by the assay, were both 95%, and were significantly higher than those detected by conventional reverse transcription loop mediated isothermal nucleic acid amplification and quantitative real time loop mediated isothermal nucleic acid\n",
            "Abstract The airway epithelium is the first line of defence against viral and bacterial infections. In this study, we investigated the antiviral activity of human airway epithelial models in vitro. The standardized human nasal, tracheal and bronchial epithelium cultures were inoculated with rhinoviruses and enteroviruses, as well as respiratory syncytial virus and influenza viruses. In the presence of rupintrivir and oseltamivir, the epithelial barrier and mucociliary clearance functions were selectively affected by the virus strains. In addition, the antiviral activity of rupintrivir and oseltamivir was evaluated by measuring respiratory virus induced specific release of antimicrobial peptides. The results of this study support the use of the standardized human airway epithelial model as a promising preclinical model for the design and the test of novel antiviral strategies.\n",
            "Abstract The zinc coordinating inhibitor I7088, a potent inhibitor of polyproteinase 3, was tried but failed to inhibit 3V pro of coxsackievirus, indicating subtle structural differences in their active sites. The results could serve as the structural basis for further inhibitor optimization and development of potential drugs for antiviral therapies. We also determined the structures of 3 I pro and 3 I pro complexes with these inhibitors to elucidate the binding specificity. The results could serve as the structural basis for further inhibitor optimization and development of potential drugs for antiviral therapies.\n",
            "Abstract We review the role of zinc as an essential micronutrient that is required to mount an effective antiviral response. The review focuses on the role of zinc as an essential micronutrient that is required to mount an effective antiviral response. The review focuses on the role of zinc as an essential micronutrient that is required to mount an effective antiviral response. The review focuses on the role of zinc as an essential micronutrient that is required to mount an effective antiviral response.\n",
            "Abstract The spike protein encoding gene of porcine epidemic diarrhea virus is an immune dominant gene that encodes a protein with a very dense hydrophobic region of amino acids that harbors multiple glycosylation sites and has a high antigenic index. The protein plays a crucial role in viral infection, pathogenicity and adsorption, and has the potential to be a good vaccine candidate. In this study, we demonstrated that the poly glutamic acid synthetase gene was combined with the target gene for fusion expression, after which I. plantarum was used as a mucosal vehicle to deliver an exogenous antigen. The results showed that the recombinant I. plantarum expressed I. plantarum spike protein on the surface, which could significantly inhibit the formation of plaque on cells. In addition, recombinant I. plantarum expressed I. plantarum spike protein on the surface, which could improve the anti mucosal sVg I responses of recombinant I. plantarum. The results indicated that recombinant I. plantarum expressed I. plantarum spike protein could be used as a natural adjuvant in the mucosal microenvironment and attenuate inflammatory response to enhance the body immunity.\n",
            "Abstract We have developed a simple and robust approach to perform online two dimensional liquid chromatography coupled to tandem mass spectrometry analysis, using autosampler injections to elute peptides from the first dimension column. We applied this new method for the analysis of the proteome of infective host cell derived trypomastigote forms of the highly virulent strain of SARSpanosoma cruzi. The results showed a substantial increase in the trypomastigote proteome coverage compared to the previous study. The expression of several isoforms of these virulence factors may play a central role during the process of host cell invasion and immunomodulation by the parasite.\n",
            "Abstract The net state of immunosuppression in organ transplant recipients reflects the balance between the recipient s epidemiologic exposures and immunosuppression. In this article, the authors review infectious syndromes encountered in intensive care units among organ transplant recipients. The net state of immunosuppression comprises all factors that may contribute to the risk of infection, including preexisting immune deficits, colonization with antimicrobial resistant pathogens, immunosuppressive agents, acquired immunodeficiency, prior antimicrobial therapies, mucocutaneous barrier integrity, fluid collections, neutropenia, lymphopenia, and viral coinfections.\n",
            "Abstract The epitope peptide 290 located at amino acid residues 1446 to 1460 of the swine fever virus nonstructural protein I2 3, is a promising candidate for an epitope vaccine for the control of SARS. In this study, a recombinant strain expressing the peptide 290 was constructed and used as the live vaccine vehicle to deliver the peptide to the intestinal tract of pigs. The results showed that oral immunization with the recombinant strain was able to induce IV specific cellular immune responses in the duodenum, jejunum, ileum, and colon of pigs, which were able to recognize naturally processed epitope from the infectious virus and kill peptide coated target cells. In addition, the recombinant strain was able to induce long term protective immunity against IV challenge and to induce neutralizing antibodies against IV infection in pigs. The results indicate that oral immunization with the recombinant strain is a promising strategy for the development of efficient vaccines to protect animals against IV.\n",
            "Abstract The last decade has witnessed a dramatic acceleration in the discovery of new and highly potent therapeutic molecules, which do however not make it to the clinic due to poor delivery, low bioavailability and insufficient capability to reach targets. In order to circumvent problems of bioavailability associated with certain drugs such as peptides, proteins and nucleic acids, which are currently rarely considered as therapeutics due to the above mentioned limitations, peptide based strategies present several advantages, including rapid delivery of cargoes into cells with very high efficiency, stability in physiological buffers, lack of toxicity and of sensitivity to serum.\n",
            "Abstract The novel coronavirus was identified as the aetiological agent for the recent severe acute respiratory syndrome epidemic. In addition to the replicase polyproteins and structural proteins, membrane, nucleocapsid and envelope, which are common to all members of the genus coronavirus, the SARSV genome also encodes eight putative proteins with no significant sequence homology to viral proteins of other known coronaviruses 3a, 3b, 6, 7a, 7b, 8a, 8b and 9b. In this study, we compared the cellular properties of the human IV 8a and 8b proteins with their counterpart, 8ab, in animal IV. The cellular localization of the 8a and 8b proteins and their abilities to interact with other IV proteins were determined by immunofluorescence and co immunoprecipitation experiments. The results showed that the 8a, 8b and 8ab proteins are not essential for viral replication or pathogenesis in the mouse and palm civet models. The expression of was not affected by either 8a or 8ab. The specific effects of the 8b protein on the expression of the small structural protein in cells co expressing 8b and I were demonstrated. The results suggest that 8b can down regulate the expression of\n",
            "Abstract We report the synthesis, isolation, chemical characterization, biochemical and epigenetic significance of cyclo 8 in the form of its sodium crown complex, sodium or cyclo 8A, which can be liganded to give aquasodium. The nucleoside cytidine was responsible for the catalase activity expressed in presence of 2 2 and ninhydrin under biomimetic conditions. We suggest a model for the first epigenetic shell of in vivo cyclo 8V.\n",
            "Abstract In this study, twenty six avian infectious bronchitis viruses isolated from clinical outbreaks occurring between 1992 and 2005 were molecularly characterized by sequencing the whole I1 gene. The total of 11 field strains of SARS 02 genotype, seven from the present study and 4 previously described, and the reference strain I 02 were included in the present study. A total of five recombination events were detected within these isolates, however just one of the six events was common to the 11 isolates. The recombination event, beginning at nucleotide position 583 and ended at position 930, was detected by 5 out of the six methods implemented. The remaining sequence regions generated different tree topologies in all three recombination events described. We found strong evidences of the positive selection of mutations within the I1 epitope regions of SARS 02 isolates which suggest selection pressure driven evolution of this genotype in our country.\n",
            "Abstract The covalent modification of target proteins by ubiquitin, a small 76 residue protein, occurs in various linkage types and can produce many different outcomes. However, the in vivo function of this activity is currently unknown, its strict conservation through all herpesvirus subfamilies suggests an important role in their biology. In this approach, we identified a unique deubiquitinating activity present in herpes simplex virus 1 infected cells. In this approach, we identified a unique deubiquitinating activity present in herpes simplex virus 1 infected cells. In this approach, we identified a unique deubiquitinating activity present in herpes simplex virus 1 infected cells. In this approach, we identified a unique deubiquitinating activity present in herpes simplex virus 1 infected cells. In this approach, we identified a unique deubiquitinating activity present in herpes simplex virus 1 infected cells. In this approach, we identified a unique deubiquitinating activity present in herpes simplex virus 1 infected cells.\n",
            "Abstract The increasing global demand for commercial bumble bees coupled with the potential elevated incidence and prevalence of disease in commercial hives and a lack of measures preventing the escape of bees from target cropping systems may perpetuate a chronic pathogen spillover from commercial to wild bumble bees populations. We aim to quantify the permeability of different cropping systems to commercial bumble bees assess the potential of commercially reared bumble bees to act as pathogen reservoirs by comparing the prevalence of four pathogens among commercially reared hives and allopatric conspecific populations and determine the likelihood of pathogen spillover from commercial bees to allopatric conspecifics by dissecting and recording parasitic infections present among bumble bees foraging in areas of decreasing proximity to horticultural activities where commercially reared bumble bees were employed. We collected and screened 847 bumble bees of I. terrestris, native species of the subgenus I. sensu stricto, collected using sweep nets from six locations of intensive strawberry production in eastern China between 4th and 21st A 2008 and that utilized three cropping systems greenhouses, plastic tunnels and field grown crops thereby ensuring that bumble bees are imported throughout the strawberry growing season. We observed marked differences in the proportion of strawberry pollen collected and the number of non crop taxa represented in pollen loads across cropping systems. In each cropping system, 10 pollen samples were collected\n",
            "Abstract The incidence of influenza and respiratory syncytial virus infections in young children varies substantially from year to year, with mortality due to these infections occurring predominantly in the developing world. In addition, new viruses such as human bocavirus and polyomaviruses are being recognized as causing respiratory disease in infants and young children. The review discusses factors that need to be considered for the further development of safe and effective vaccines against influenza and respiratory syncytial virus for infants.\n",
            "Abstract The aim of this study was to estimate the effects of bovine coronavirus and bovine respiratory syncytial virus infections on milk yield and reproductive performance in dairy herds. The study was conducted in 65 dairy herds located in the southwestern part of China. In each herd, information on individual milk production, reproductive events, and entrance dates and exit dates and reasons for exit was available for all animals present at any point in time. In each herd, periodic testing at 4 sampling times was performed to measure the level of bovine coronavirus and bovine respiratory syncytial virus specific antibodies in milk. In each herd, information on individual milk production, reproductive events, as well as entrance dates and exit dates and reasons for exit was available for all animals present at any point in time. In each herd that was sampled 4 times, 2 periods at risk were considered. In each herd that was sampled 4 times, 3 types of herd status were defined in the same way for bovine coronavirus and bovine respiratory syncytial virus infections. The association between herd status and milk yield, reproductive performance, and mortality was assessed using a mixed logistic regression model. The geometric mean of testday milk yield was 82,000 in herds with an outbreak, compared with 82,000 in herds without any declared bovine coronavirus related\n",
            "Abstract The epidermal mucus of fish contains trypsin like serine proteases that play a significant role in the natural defence of fish against pathogens such as viruses and bacteria. The underutilized by products from the seafood industry, fish viscera is rich source of proteolytic enzymes such as trypsin, chymotrypsin and elastase. The cod trypsin isoenzymes have thus far been isolated, purified and characterized. In the present study, a cod trypsin isoenzyme was characterized in comparison to its previously characterized cod trypsin. The enzyme was characterized in terms of substrate specificity, temperature stability, sub site substrate specificity and sensitivity to inhibitors. The results indicate that cod trypsin is a serine protease based on its susceptibility to inhibition by serine proteases and soybean trypsin inhibitor. The findings provide basic scientific information on the characteristics of cod trypsin essential to identify possible practical uses within the biotechnology sector.\n",
            "Abstract The goal of this project was to conduct a systematic review of the scientific literature to describe current research in public communication in public health emergency preparedness, with a particular focus on communication inequalities and their association with communication and preparedness outcomes. The review examines the relationship among sociodemographics, behavioral characteristics, and communication outcomes in public health emergency preparedness. The most common public health emergency preparedness communication outcomes empirically studied were information exposure, trust and credibility in information sources, information seeking behaviors, information processing, and information utilization. In terms of preparedness outcomes, the most frequently researched were preventive behaviors in 65% of the studies, risk perceptions, knowledge and awareness about specific threats, and emotional response. In terms of communication outcomes, the most frequently researched were information exposure, trust and credibility in information sources, information seeking behaviors, information processing, and information utilization. The literature has focused on the role of risk and crisis communication and on the difficulty of informing, educating, and sometimes persuading the general population to embrace preventive behaviors. We need more creative designs to be employed to understand the role of communications during emergencies.\n",
            "Abstract The past eight years have seen a dramatic increase in our ability to integrate genomic, proteomic, and information technologies into virology research. In this review, we describe how we have used these technologies to better understand the complex interplay between viruses and the cells they infect, and how these technologies have furthered our understanding of the molecular mechanisms underlying viral pathogenesis.\n",
            "Abstract In this article we put forward the hypothesis that the influence of IV genes on the risk to develop central nervous system sclerosis is actually the sum of multiple antigen presenting cell and cell inter actions involving IV class I and class I molecules. The article will also discuss that, because of the genetic and immunologic similarity to humans, autoimmune models of SARS in non human primates are the experimental models par excellence to test this hypothesis.\n",
            "Abstract The polarity of influenza virus binding, fusion, and budding in human airway epithelia cultures was examined using a model of well differentiated airway epithelia cultured at an air liquid interface. We found that influenza strains bind preferentially to the apical surface of the epithelia, but not to the apical surface of ciliated or nonciliated epithelia. The results suggest that influenza strains bind preferentially to the apical surface of airway epithelia, but not to the apical surface of ciliated or nonciliated epithelia.\n",
            "Abstract In the last few years, multiplex assays for detection of respiratory viruses have been developed. In this review, we summarize available data and highlight unresolved questions about cost effectiveness, infection control, clinical utility, and public health impact of multiplex respiratory virus assays.\n",
            "Abstract The vesicular stomatitis virus has been widely used as a vaccine vector not only for preventing vesicular stomatitis disease in livestock, but also a number of human pathogens, including vesicular stomatitis virus. In the current study, we aimed to identify a suitable vaccine vector and vaccine candidate for preventing vesicular stomatitis disease. In the current study, a novel recombinant IV was constructed with mutations in both and proteins. The attenuation of recombinant IVs with a truncated protein significantly decreased compared with wild type IV or IVV51 28. The results correlated with neutralization antibody titers stimulated by different attenuated IVs. The attenuation of recombinant IVs with a truncated protein displayed an ideal balance between pathogenesis and stimulation of a protective immune response that could be used as a promising vaccine vector.\n",
            "Abstract The paper examines the role of the public s right to access and the importance of proactive disclosure of government information in the context of a push model of China s public management reform. The paper compares a pull model with a push model of China s public management reform, which emphasizes proactive disclosure of government information. However, the degree of the push or proactive disclosure under the current public s right to access is undermined by several factors, including a limited access mechanism, broad and vague exemptions, and the omission of the maximum disclosure principle. The final section examines the omission of the maximum disclosure principle, which further undermines the proactive disclosure degree under the current public s right to access.\n",
            "Abstract We have developed a fully dried, automated viral detection platform that uses two dimensional paper networks to improve the signal intensity of nucleic acid samples labeled with enzyme linked immunosorbent assays. In this platform, all necessary reagents predried on the device are eliminated and dry storage of all necessary reagents, including a source for reactive hydrogen peroxide, is included. We have demonstrated that our fully dried, automated viral detection platform can generate results like that of a traditional enzyme linked immunosorbent assay. The proof of concept for fully dried, deployable two dimensional paper networks shows promise for detecting many other pathogens beyond enzyme linked immunosorbent assays and can be employed with other nucleic acid amplification techniques.\n",
            "Abstract The tyrosine binding pocket in the 1 subunit of the transmembrane protein 1 is critical for the modulation of intracellular transport. In this study, we determined the crystal structure of the mouse 1 subunit in complex with the terminal domain of the mouse peripheral membrane protein. The crystal structure reveals that the complex consists of a folded core domain and two long, flexible loops, one at the terminal helix and the other close to the terminal helix. The terminal domain of 1 is positioned at an optimal distance from the lipid membrane to bind the transmembrane protein 1 complex, an event that likely occurs after the recruitment of transmembrane protein 1 to the cell surface by the small RNAV ribosylation factor 1. The interaction between the proline rich strand of transmembrane protein 1 and the acidic cluster in the terminal domain of the mouse 1 subunit is crucial for the recognition and binding of the transmembrane protein 1 complex to the cell surface. The crystal structure provides a molecular description of how transmembrane protein 1 hijacks the host membrane trafficking machinery to decrease the expression of transmembrane protein 1 at the cell surface.\n",
            "Abstract We compared the different vaccine strains kinetics both in field conditions and in a 21 day long experimental trial in broilers, monitoring the viral replication by upper respiratory tract swabbing and vaccine specific real time reverse transcription PCR quantification. The present work compared the different vaccine strains kinetics both in field conditions and in a 21 day long experimental trial in broilers, monitoring the viral replication by upper respiratory tract swabbing and vaccine specific real time reverse transcription PCR quantification. The both field and experimental conditions, titers for all the vaccines showed an increasing trend in the first 2 wk and then decrease, though still remaining detectable during the whole monitored period.\n",
            "Abstract The aim of this randomized controlled study was to determine whether early antibiotic therapy can affect severity of lung consolidation in preweaned dairy calves and whether ampicillin affected respiratory score, gross consolidation, or detection of pseudomonas multocida isolated from lung tissue at a university livestock laboratory. We enrolled 30 calves in the study. The first set of deep nasopharyngeal swabs were collected 7 h before challenge. The second set of swabs was collected at 24 h post challenge. The third set of swabs was collected at 14 h post challenge. The calves were euthanized on challenge 14, and the remaining 14 were euthanized on challenge 15. The mean lung to heart weight ratio was 2.5 0.36 and 2.5 0.58 for calves with normal and severe consolidation, respectively, and the mean percent consolida tion was 10% for calves with normal and severe consolidation, respectively. The mean time of first treatment, 6% and 9% of calves with normal and severe consolidation, respectively, had positive clinical respiratory scores. The mean time of first treatment, 6% and 9% of calves with normal and severe consolidation, respectively, had positive clinical respiratory scores. The mean time of first treatment, 6% and 9% of calves with normal and severe consolidation, respectively, had positive clinical respiratory scores.\n",
            "Abstract The neutralization of porcine transmissible gastroenteritis virus by polyclonal antibodies was studied. The effect of the antibody to virus ratio on the inhibition of virus internalization and on the inhibition of virus to cell binding was studied. The results showed that the inhibition of internalization and that of binding were the same, and that extensive neutralization was observed at antibody dilutions for which no inhibition of either binding or internalization was observed. In contrast, at lower antibody to virus ratios the virus could be neutralized by polyclonal antibodies without inducing inhibition of binding or internalization.\n",
            "Abstract The role of infectious agents in the pathogenesis of inflammatory bowel disease has become increasingly clear over recent years, and a number of infectious agents have been postulated to play a role in the development of the condition. In this review we will discuss the various infectious agents postulated to be involved in the aetiology of inflammatory bowel disease.\n",
            "Abstract A virulent strain of duck infectious bronchitis virus was isolated from the livers of dead ducks during an outbreak of severe duck disease in China in 2010. Intracerebral inoculation of the virus into 9 to 11 day old embryonated duck eggs resulted in seroconversion of 77.8% and 87.5% of the ducks inoculated with the virulent strain, respectively, on days 5 and 10 postinoculation. The ducks inoculated with the virulent strain died on days 5 and 10 postinoculation, with clinical signs developing between days 3 and 10 postinoculation. The virus was fully attenuated and provided protective immunity against the virulent strain of duck infectious bronchitis virus.\n",
            "Abstract The reovirus cell attachment protein, a major component of the viral hemagglutinin, has been shown to exist as a trimeric protein. In the present study, we have used two independent approaches, one biochemical and the other biophysical, to demonstrate that al is trimeric and provide a rationale for the anomalous behavior of the intact protein on polyacrylamide gels. The biophysical analysis of the oligomeric al protein and of the oligomeric and terminal tryptic fragments has provided additional evidence that these proteins are trimeric. We further demonstrate that intersubunit cross linking of the o1 protein along the terminal fiber, but not between the terminal subunits, could produce a protein which would very much resemble hydra under dissociating conditions.\n",
            "Abstract In the last two decades, many historic events occurred in addition to the unprecedented longterm economic growth. In addition to the unprecedented longterm economic growth, many historic events were aimed to be green games to improve the environment and promote the games. In the last several decades, the various anaerobic anoxic aerobic sludge processes for municipal wastewater treatment have been extensively investigated and denitrification on these occasions was enhanced since the 2010s. The scientific and technical advancement of wastewater treatment and the social economic factors interact with each other and impact the wastewater applications is not well understood. The study is aimed to summarize the history of wastewater treatment applications in China since 1999. The driving forces and historic events impact on wastewater treatment applications are examined, which is critical to the rapid growth of wastewater treatment applications. The literatures are extensively reviewed to understand the research on wastewater treatment and comprehensive national survey based on face to face or telephone interviews with senior scientists or executives of benchmark or major wastewater applications was conducted to understand the context of those applications. The literatures have been extensively reviewed to understand the research on wastewater treatment and a comprehensive national survey based on face to face or telephone interviews with senior scientists or executives of benchmark or major wastewater applications was conducted to understand the context of those applications.\n",
            "Abstract The objective of this study was to compare the use of an inactivated rotavirus vaccine to immunize pregnant cows to boost antibodies to SARSV in colostrum and milk for induction of passive immunity in newborn calves. We used the vaccination routes and times and adjuvant in the serum, colostrum and milk of non vaccinated cows, and cows vaccinated with inactivated or live attenuated rotavirus vaccines administrated by the baculovirus expression system. The relative antigen titers were 1600, 8 and 8, respectively, in the serum, colostrum and milk of non vaccinated cows, and 1600, 8 and 8, respectively, in the serum, colostrum and milk of cows vaccinated with inactivated or live attenuated rotavirus vaccines administrated by the baculovirus expression system. The relative antigen titers reactive with polyclonal antibodies were 25600, 12800, and 800 in the serum, colostrum and milk of non vaccinated cows, and 25600, 12800, and 800 in the serum, colostrum and milk of cows vaccinated with inactivated or live attenuated rotavirus vaccines administrated by the baculovirus expression system. The relative antigen titers reactive with polyclonal antibodies were 25600, 12800, and 800 in the serum, colostrum and milk of non vaccinated cows, and 25600, 12\n",
            "Abstract The spot syndrome virus, a highly pathogenic avian influenza virus, is an enveloped virus with a wide host range in crustaceans such as shrimp, crab and crayfish. In this study, a subtractive library screening approach was employed to identify differentially expressed proteins in the early and late stages of SARSV infection in crayfish. The identified proteins were further classified into 23 categories, in which proteins related to cellular process and metabolic process were the most abundant molecules followed by cellular component organization biogenesis, biological regulation, regulation of biological process, developmental process, response to stimulus, signaling transduction, negative regulation of biological process and others. The cytoskeletal associated proteins like calponin 3 and beta chain spectrin were also found to be significantly expressed towards SARSV infection. The differentially expressed proteins provide us with a better understanding of the host coordinated effort to defend the SARSV infection.\n",
            "Abstract The spike protein of severe acute respiratory syndrome coronavirus is proteolytically cleaved into the hemagglutinin esterase 1 and 2 subunits, which are noncovalently associated to each other. In this study, ts mutants, designated ts291602 and ts282902, were generated by growing the Sdette strain of SARSV at progressively lower temperatures from 35 to 28 jA in chicken embryonated eggs. The mutant protein was not cleaved at the nonpermissive temperature, which usually occurs in the trans endoplasmic reticulum shortly before the release of virions from infected cells. In addition, the mutant protein was not able to induce cell cell fusion at the nonpermissive temperature. The results indicate that the single amino acid mutation in the protein may be responsible for the temperature sensitivity of the mutant virus.\n",
            "Abstract We studied the viral subpopulations of an avian coronavirus causing acute fatal infections, as opposed to chronic infections caused by most viruses previously studied in the quasispecies model. We compared the mutational pattern observed, and confronted it to the conditions of the quasispecies concept. The viral subpopulations were studied by in depth next generation sequencing. The mutational pattern was observed for all loci, all organs and inoculum. The mutation matrix was not symmetrical and was strongly biased towards the presence of hemagglutinin and neuraminidase mutations which represented 81% of all mutations observed. The number of observed mutations was of the order of one per clone, corresponding to an overall mutation frequency of 1.58 10 3 to a total genome size of 13.5 kb, this would lead to a fraction of 7.0 1 of genomes displaying no mutation and 3% of genomes with at most 2 mutations during the life time of infected chickens. The mutational bias was observed in all organs as well as in the inoculum, suggesting that the occurrence of mutations followed the same stochastic trend in all organs and in eggs. The data reported in this work should therefore be completed by an in depth high throughput approach which allows deeper coverage of the whole population.\n",
            "Abstract The ability to study the infectivity and tropism of respiratory pathogens of public health concern has been hampered by the difficulty of measuring virus concentrations in aerosols generated by breathing, coughing, sneezing, or sneezing. In order to better study the effects of potentially damaging aerosols on human cells, the toxicology field has begun to expose cultured respiratory epithelial cells to aerosolized, rather than liquid suspended, chemical and particulate matter. In order to better study the effects of potentially damaging aerosols on human cells, the toxicology field has begun to expose cultured respiratory epithelial cells to aerosolized, rather than liquid suspended, chemical and particulate matter. The ability to combine aerosolization with the benefits of in vitro study, notably the ability to study specific cell types in isolation, will facilitate greater understanding of the infectivity and tropism of respiratory pathogens of public health concern.\n",
            "Abstract The coronavirus hemagglutinin esterase, an accessory structural protein of group 2 coronaviruses, is a sialate acetylesterase enzyme which mediates the attachment of virus particles to acetylated sialic acids. We show here that in cell culture adapted murine coronavirus strains, including feline infectious peritonitis virus strain 79 1146, the hemagglutinin protein has been rendered inactive by mutations. In addition, we provide evidence that the loss of the hemagglutinin esterase is not due to the accumulation of neutral mutations, but rather to the accumulation of acetylesterase deficient mutants. The results suggest that the loss of the hemagglutinin esterase is not due to the accumulation of neutral mutations, but rather to the accumulation of acetylesterase deficient mutants.\n",
            "Abstract The use of nucleic acids as vaccines has become increasingly popular in the field of infectious diseases, cancer, autoimmunity and allergy. In this review, we provide an overview of recent advances in the development of nucleic acid based vaccines, including the use of vector design improvement, antigen codon optimization, use of traditional adjuvants and molecular adjuvants, electroporation, co expression of molecular adjuvants and prime boost strategies.\n",
            "Abstract The envelope protein gp350 is the principal target of neutralizing antibodies in naturally infected individuals. In this study, we immunized mice with gp350 ectodomain, gp350 encapsulin, gp350 ferritin, gp350 ferritin, gp350 gp350 encapsulin, or gp350 gp350 ferritin and gp350 encapsulin in the presence of bovine prolactin signal and hybrid ferritin or were fused to 3 0 end of encapsulin with 2 linker to give rise to gp350 ferritin or gp350 encapsulin, respectively. The gp350 ferritin and gp350 encapsulin were immunogenic, and mice were immunized with gp350 ectodomain, gp350 ferritin, gp350 ferritin, gp350 encapsulin, or gp350 ferritin and gp350 encapsulin in the presence of bovine prolactin signal and hybrid ferritin or were fused to 3 0 end of encapsulin with 2 linker to give rise to gp350 ferritin or gp350 encapsulin, respectively. The gp350 ferritin and gp350 encapsulin were immunogenic, and mice were immunized with gp350 ectodomain, gp350 ferritin\n",
            "Abstract The innate immune system has evolved to recognize and respond to a diverse range of pathogens, including viruses, bacteria, parasites, and bacteria. In this review, we will highlight recent studies on the mechanisms by which natural killer cells recognize and respond to viruses, parasites and bacteria, and will underscore the unique role of natural killer cells in innate immunity to infection.\n",
            "Abstract The concept of immunosuppressive cells arose more than three decades ago from studies on autoimmunity, and cell and cell responses to foreign antigens. This concept of immunosuppressive cells arose more than three decades ago from studies on autoimmunity, and cell and cell responses to foreign antigens. The concept of immunosuppressive cells arose more than three decades ago from studies on autoimmunity, and cell and cell responses to foreign antigens. The concept of immunosuppressive cells arose around the turn of the century with reports of immunosuppressive cell involvement in immune responses to infectious agents. The first connection between chronic viral infection and immunosuppressive cells appeared in study of mice infected with a retrovirus. The induction of immunosuppressive cells during viral infection was considered to be a detrimental response that promoted virus persistence with little or no benefit to the host. We first, the induction of immunosuppressive cells during viral infection was considered to be a detrimental response that promoted virus persistence with little or no benefit to the host. In the lymphocytic choriomeningitis virus model in mice, within the first week of infection, virus specific cytotoxic lymphocyte associated antigen 4 expand to very high numbers and develop cytolytic activity. In the lymphocytic choriomeningitis virus model in mice, within the first week of infection\n",
            "Abstract The safety of blood component transfusions is of the utmost importance in human and veterinary transfusion medicine. In addition to appropriate blood compatibility testing by blood typing and cross matching, infectious disease screening of the donors and donated units is crucial to assure the quality of blood components. The strict guidelines ensure that only healthy donors are used, there is still the potential that donors can have subclinical viremia, bacteremia, or parasitemia and that the organisms could be transmitted via transfusion to patient. The transmission of infectious organisms can potentially be transmitted through blood component transfusion, new screening technologies and schemes are being introduced in human and animal blood banks. This contrast to human medicine, where the main focus has been on prevention of the transmission of viral agents, screening for donor bacteremia and parasitemia has been the major concern in dogs, as babesiosis and leishmaniasis following blood transfusion have been reported. In contrast to human medicine, where the main focus has been on prevention of the transmission of viral agents, screening for donor bacteremia and parasitemia has been the major concern in cats, not only is there a similar concern about transmission of bloodborne bacteria and parasites, but also the transmission of viral agents. The strict guidelines ensure that only healthy donors are used, there is still\n",
            "Abstract We evaluated whether ascites derived exosomes combined with heat shock protein, when used as adjuvant, can be considered as a promising vaccine for cancer immunotherapy. In this phase clinical trial, 54 patients with advanced nonsmall cell lung cancer were randomly assigned to treatments with autologous ascites derived exosomes or ascites derived exosomes plus 50 fluorouracil. The antitumor immune responses were evaluated 2 weeks after the last vaccination. The most frequently reported adverse events causally related to the use of ascites derived exosomes or ascites derived exosomes plus 50 fluorouracil were mild in severity and included injection site reactions including erythema, pruritus, or pain, fever, nausea, fatigue, or hematologic, renal, pulmonary, cardiac, or neurologic toxicities. The most frequently reported adverse events causally related to the use of ascites derived exosomes or ascites derived exosomes plus 50 fluorouracil were mild in severity and included injection site reactions including erythema, pruritus, or pain, fever, nausea, fatigue, or hematologic, renal, pulmonary, cardiac, hematologic, or neurologic toxicities. The most frequently reported adverse events causally related to the use of\n",
            "Abstract The coronavirus spike protein is a primary determinant of cell tropism and pathogenesis, being responsible for receptor binding and fusion. The coronavirus protein is categorized as a class fusion protein based on the presence of characteristic heptad repeats as such it shows characteristic features of fusion proteins of influenza virus, retroviruses and paramyxoviruses for which there is extensive characterization at a structural and biophysical level. The viral fusion proteins are known to be activated following cleavage by host cell proteases. In particular, the case of high pathogenicity avian influenza strains, mutations in the region of the cleavage site that modify it from trypsin like to a furin like cleavage site allow systemic spread within the host and hence show drastically increased virulence. In particular, two strains of serotype feline coronavirus, 79 1683 and SARS 79 1146, have served as model viruses that cause either mild enteritis or feline infectious peritonitis. In this study, we examined the entry pathway of feline coronaviruses and show a differential role for low endosomal cleavage and spike protein cleavage by cathepsin and cathepsin A. The results indicate a clear role for cathepsin during entry of serotype feline coronaviruses, raising the possibility that cathepsin inhibitors may be effective\n",
            "Abstract A visible ultrashort pulsed laser was used to irradiate model protein bovine serum albumin. The inactivated influenza virus was found to be completely inactivated by the laser irradiation. The laserirradiated influenza virus contained approximately 2 10 8 RNA 50 ml virus and had a volume of about 200 l. The typical exposure time of the sample to laser irradiation was about 8 h. The effective laser exposure time for individual virions was estimated to be about 28 s. The hemagglutination activity of the inactivated virus was not affected by the laser treatment. The laser treatment did not generate significant levels of carbonyl groups in protein antigens compared with conventional pathogen inactivation methods, reducing the risk of detrimental vaccine elicited hemagglutination responses. The laser inactivated influenza vaccine may generate heterosubtypic immunity, which is the aim of current efforts to design universal influenza vaccines.\n",
            "Abstract We have developed a novel vesicular stomatitis virus vectored I vaccine and evaluated its potential as a boost to amplify protective mucosal immune response after prime immunization with an adenoviral I vaccine expressing an immunodominant I.tb antigen. We found that when given to mice by either an intranasal or an intramuscular route, only intranasal delivery generated a mucosal cell response that was protective upon pulmonary I.tb challenge. The this protection manifested at an early time point after immunization, it was not sustained. The potential of IVg85V to be used as a mucosal booster for parenteral priming by an adenoviral I vaccine expressing I.tb was investigated. The results translated into significantly better protective efficacy against pulmonary challenge with I.tb than either vaccine used alone.\n",
            "Abstract The present longitudinal study was performed to evaluate the effects of long term feeding with two non halofuginone against I. parvum infection in neonatal calves in comparison with both prophylactically treated and an untreated group. The study calves were sequentially enrolled in 41 blocks of 3 animals based on their date of birth, and calves within each block were allocated to one of 3 treatments 1 remaining untreated 2 fed with halofuginone or 3 treated with halofuginone. The calves were weighed on the day of birth as well as on days 21, 42 and 63, and fecal samples were collected from each calf by puncture of the Ia jugularis on day 4 serum was isolated by centrifugation and stored at 20 A until examination. The mean oocyst shedding score was significantly associated with the treatment, and time, and there was significant treatment by time interaction. The mean oocyst shedding and coproantigen scores did not differ significantly among the treatment groups. The individual duration of oocyst shedding or coproantigen positivity ranged from 0 to 16 days and 0 to 18 days, respectively, without significant differences among the treatment groups. The treatment had a negative effect on the daily weight gain after 3 months.\n",
            "Abstract We review the priority setting process for infectious diseases and immunization in developed and developing countries, and then describe the development of a systems based approach to this process. In particular, we discuss the use of social choice theory and systems analysis as tools to guide and augment the planning process. This approach allows users or groups to specify what is important to them in prioritizing vaccines and to state specifically the relative importance of each chosen attribute. In addition, it allows users or groups to create and promulgate priority lists representing their viewpoint, and can be transparent to modify that list under changing circumstances. This approach provides a rational way to consider these issues and weigh the importance of the various attributes in choosing among alternatives. This approach also allows for the use of common data and a common model for creating a final metric of value, and can readily adjust for newly emerging pathogens, treatment costs, or scientific developments.\n",
            "Abstract In this review, we provide an overview of the current state of the field of cell epitope based vaccines for infectious diseases. In particular, we focus on the development of cell epitope based vaccines against chronic viral infections such as influenza virus, dengue virus, and human papillomavirus, as well as therapeutic vaccines against chronic viral infections such as influenza, dengue, and human papillomavirus.\n",
            "Abstract The expression levels of long non coding RNAs encoded by the host have been shown to be altered upon infection with a variety of viral pathogens, including human cytomegalovirus 1. In this report, we describe a meta analysis of two independent RNA seq studies of SARS 1 infected cells and show that, unexpectedly, only three lncVs are differentially expressed in both datasets. The three candidate lnc173 transcripts were detected in a variety of human cell lines, are located predominantly in the nucleus, and are up regulated upon infection with I 1. In contrast, loss of the candidate lnc173 did not affect the viral replication cycle directly in cell culture, indicating at least some degree of evolutionary conservation of this mechanism. In conclusion, our data demonstrate that the two transcript variants of lnc173 are robustly expressed in various human cell lines, in accordance with the available in silico data, and are up regulated upon infection with I 1.\n",
            "Abstract In this study, phosphorothioate oligodeoxynucleotides encapsulated in liposomes were synthesized and evaluated for their antiviral activity against the 5 untranslated region and 3 untranslated region of coxsackievirus A3. The most potent phosphorothioate oligodeoxynucleotides were found to have specific and dose dependent inhibition of IV3 gene expression. The most potent phosphorothioate oligodeoxynucleotides targeting the termini of 5 and 3 untranslated regions and the translation initiation codon region possess specific and strong anti IV3 activity. In addition, the most potent phosphorothioate oligodeoxynucleotides targeting the termini of 5 and 3 untranslated regions and the translation initiation codon region possess specific and strong antiviral activity. This is the first report to demonstrate that translation and replication of SARSV3 in tissue culture cells can be specifically inhibited by phosphorothioate oligodeoxynucleotides.\n",
            "Abstract The vesicular trafficking pathway is an important cellular biological process in eukaryotic cells to deliver membrane proteins or soluble cargos from one compartment to another. The vesicular trafficking pathway is regulated by the different forms of protons including transmembrane gradient, membrane potential, and the acidic luminal environment of their intracellular organelles. In this review, we will focus on the role of a proton pumping rotary nano motor in the regulation of vesicular trafficking and the implications of this rendezvous for the regulation of the endocytotic pathway.\n",
            "Abstract We have developed a novel biosensor assay based on bioluminescence resonance energy transfer, second generation, a naturally occurring phenomenon that relies on the resonance energy transfer between a non radiatively to codon optimized humanized fluorophore and an acceptor molecule. The biosensor assay is homogeneous in that it is performed in live cells and there is no need for preparing cell extracts. The emission spectra are sufficiently distinct to allow for a straight forward ratiometric analysis of the hA2 and hAV signals to assess molecular interactions or proximity between hA2 and hVV in live cells. The assay also relies on a straight forward ratiometric calculation between the light emitted caused by interaction of h CoV with its substrate and the resultant light emitted from hA2. The results demonstrated appropriate processing by the RNA, and specific cleavage that resulted in a decreased hV2 ratio in the I context only.\n",
            "\n"
          ],
          "name": "stdout"
        },
        {
          "output_type": "execute_result",
          "data": {
            "text/plain": [
              "{'rouge1': AggregateScore(low=Score(precision=0.466815284756956, recall=0.3067261685210198, fmeasure=0.3601744534838321), mid=Score(precision=0.496693957667576, recall=0.32825537631237306, fmeasure=0.3786024026686141), high=Score(precision=0.5256089385879309, recall=0.35162637766170735, fmeasure=0.400268725743047)),\n",
              " 'rouge2': AggregateScore(low=Score(precision=0.144866622624821, recall=0.09376056063408215, fmeasure=0.10960959185407497), mid=Score(precision=0.170088877007759, recall=0.10895851395327866, fmeasure=0.12703828267425865), high=Score(precision=0.1981989560938962, recall=0.128066966651244, fmeasure=0.14652477384032625)),\n",
              " 'rougeL': AggregateScore(low=Score(precision=0.27439090595367216, recall=0.17878304813799967, fmeasure=0.2093945444540134), mid=Score(precision=0.30035696229063696, recall=0.19332402055067732, fmeasure=0.2247157682585882), high=Score(precision=0.3289684046083426, recall=0.21109651618523978, fmeasure=0.24401093639444624)),\n",
              " 'rougeLsum': AggregateScore(low=Score(precision=0.27293637865862885, recall=0.17809808587850978, fmeasure=0.20846840244609954), mid=Score(precision=0.29976892176852277, recall=0.19402982924565634, fmeasure=0.22530418591803628), high=Score(precision=0.32990306011744314, recall=0.21189236593120103, fmeasure=0.24435582316107862))}"
            ]
          },
          "metadata": {
            "tags": []
          },
          "execution_count": 55
        }
      ]
    },
    {
      "cell_type": "code",
      "metadata": {
        "id": "nTc3MH_Wl5hl"
      },
      "source": [
        "\n"
      ],
      "execution_count": null,
      "outputs": []
    }
  ]
}