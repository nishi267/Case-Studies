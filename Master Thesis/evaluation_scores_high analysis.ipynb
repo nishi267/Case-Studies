{
  "nbformat": 4,
  "nbformat_minor": 0,
  "metadata": {
    "colab": {
      "name": "evaluation scores.ipynb",
      "provenance": [],
      "collapsed_sections": [],
      "machine_shape": "hm"
    },
    "kernelspec": {
      "name": "python3",
      "display_name": "Python 3"
    },
    "language_info": {
      "name": "python"
    },
    "accelerator": "GPU",
    "widgets": {
      "application/vnd.jupyter.widget-state+json": {
        "c18b159b7e5644918084c8a5b4f04ec7": {
          "model_module": "@jupyter-widgets/controls",
          "model_name": "HBoxModel",
          "state": {
            "_view_name": "HBoxView",
            "_dom_classes": [],
            "_model_name": "HBoxModel",
            "_view_module": "@jupyter-widgets/controls",
            "_model_module_version": "1.5.0",
            "_view_count": null,
            "_view_module_version": "1.5.0",
            "box_style": "",
            "layout": "IPY_MODEL_1b4952dc232d4a0ab993a47eb592300e",
            "_model_module": "@jupyter-widgets/controls",
            "children": [
              "IPY_MODEL_2665b5766dd64cefabd14b64251d8193",
              "IPY_MODEL_bba8cc2df12d4ae0b67df05b0b0d1ed6"
            ]
          }
        },
        "1b4952dc232d4a0ab993a47eb592300e": {
          "model_module": "@jupyter-widgets/base",
          "model_name": "LayoutModel",
          "state": {
            "_view_name": "LayoutView",
            "grid_template_rows": null,
            "right": null,
            "justify_content": null,
            "_view_module": "@jupyter-widgets/base",
            "overflow": null,
            "_model_module_version": "1.2.0",
            "_view_count": null,
            "flex_flow": null,
            "width": null,
            "min_width": null,
            "border": null,
            "align_items": null,
            "bottom": null,
            "_model_module": "@jupyter-widgets/base",
            "top": null,
            "grid_column": null,
            "overflow_y": null,
            "overflow_x": null,
            "grid_auto_flow": null,
            "grid_area": null,
            "grid_template_columns": null,
            "flex": null,
            "_model_name": "LayoutModel",
            "justify_items": null,
            "grid_row": null,
            "max_height": null,
            "align_content": null,
            "visibility": null,
            "align_self": null,
            "height": null,
            "min_height": null,
            "padding": null,
            "grid_auto_rows": null,
            "grid_gap": null,
            "max_width": null,
            "order": null,
            "_view_module_version": "1.2.0",
            "grid_template_areas": null,
            "object_position": null,
            "object_fit": null,
            "grid_auto_columns": null,
            "margin": null,
            "display": null,
            "left": null
          }
        },
        "2665b5766dd64cefabd14b64251d8193": {
          "model_module": "@jupyter-widgets/controls",
          "model_name": "FloatProgressModel",
          "state": {
            "_view_name": "ProgressView",
            "style": "IPY_MODEL_dbbf50aed81648a9a056fc39d09559d5",
            "_dom_classes": [],
            "description": "Downloading: 100%",
            "_model_name": "FloatProgressModel",
            "bar_style": "success",
            "max": 1053,
            "_view_module": "@jupyter-widgets/controls",
            "_model_module_version": "1.5.0",
            "value": 1053,
            "_view_count": null,
            "_view_module_version": "1.5.0",
            "orientation": "horizontal",
            "min": 0,
            "description_tooltip": null,
            "_model_module": "@jupyter-widgets/controls",
            "layout": "IPY_MODEL_e15c1b5be81e4cc4a05f22d61c736d85"
          }
        },
        "bba8cc2df12d4ae0b67df05b0b0d1ed6": {
          "model_module": "@jupyter-widgets/controls",
          "model_name": "HTMLModel",
          "state": {
            "_view_name": "HTMLView",
            "style": "IPY_MODEL_e2f68f164f9549dda813c98c0740f5e2",
            "_dom_classes": [],
            "description": "",
            "_model_name": "HTMLModel",
            "placeholder": "​",
            "_view_module": "@jupyter-widgets/controls",
            "_model_module_version": "1.5.0",
            "value": " 1.05k/1.05k [00:00&lt;00:00, 9.65kB/s]",
            "_view_count": null,
            "_view_module_version": "1.5.0",
            "description_tooltip": null,
            "_model_module": "@jupyter-widgets/controls",
            "layout": "IPY_MODEL_0afac931880d4a05a391eb885d3733f0"
          }
        },
        "dbbf50aed81648a9a056fc39d09559d5": {
          "model_module": "@jupyter-widgets/controls",
          "model_name": "ProgressStyleModel",
          "state": {
            "_view_name": "StyleView",
            "_model_name": "ProgressStyleModel",
            "description_width": "initial",
            "_view_module": "@jupyter-widgets/base",
            "_model_module_version": "1.5.0",
            "_view_count": null,
            "_view_module_version": "1.2.0",
            "bar_color": null,
            "_model_module": "@jupyter-widgets/controls"
          }
        },
        "e15c1b5be81e4cc4a05f22d61c736d85": {
          "model_module": "@jupyter-widgets/base",
          "model_name": "LayoutModel",
          "state": {
            "_view_name": "LayoutView",
            "grid_template_rows": null,
            "right": null,
            "justify_content": null,
            "_view_module": "@jupyter-widgets/base",
            "overflow": null,
            "_model_module_version": "1.2.0",
            "_view_count": null,
            "flex_flow": null,
            "width": null,
            "min_width": null,
            "border": null,
            "align_items": null,
            "bottom": null,
            "_model_module": "@jupyter-widgets/base",
            "top": null,
            "grid_column": null,
            "overflow_y": null,
            "overflow_x": null,
            "grid_auto_flow": null,
            "grid_area": null,
            "grid_template_columns": null,
            "flex": null,
            "_model_name": "LayoutModel",
            "justify_items": null,
            "grid_row": null,
            "max_height": null,
            "align_content": null,
            "visibility": null,
            "align_self": null,
            "height": null,
            "min_height": null,
            "padding": null,
            "grid_auto_rows": null,
            "grid_gap": null,
            "max_width": null,
            "order": null,
            "_view_module_version": "1.2.0",
            "grid_template_areas": null,
            "object_position": null,
            "object_fit": null,
            "grid_auto_columns": null,
            "margin": null,
            "display": null,
            "left": null
          }
        },
        "e2f68f164f9549dda813c98c0740f5e2": {
          "model_module": "@jupyter-widgets/controls",
          "model_name": "DescriptionStyleModel",
          "state": {
            "_view_name": "StyleView",
            "_model_name": "DescriptionStyleModel",
            "description_width": "",
            "_view_module": "@jupyter-widgets/base",
            "_model_module_version": "1.5.0",
            "_view_count": null,
            "_view_module_version": "1.2.0",
            "_model_module": "@jupyter-widgets/controls"
          }
        },
        "0afac931880d4a05a391eb885d3733f0": {
          "model_module": "@jupyter-widgets/base",
          "model_name": "LayoutModel",
          "state": {
            "_view_name": "LayoutView",
            "grid_template_rows": null,
            "right": null,
            "justify_content": null,
            "_view_module": "@jupyter-widgets/base",
            "overflow": null,
            "_model_module_version": "1.2.0",
            "_view_count": null,
            "flex_flow": null,
            "width": null,
            "min_width": null,
            "border": null,
            "align_items": null,
            "bottom": null,
            "_model_module": "@jupyter-widgets/base",
            "top": null,
            "grid_column": null,
            "overflow_y": null,
            "overflow_x": null,
            "grid_auto_flow": null,
            "grid_area": null,
            "grid_template_columns": null,
            "flex": null,
            "_model_name": "LayoutModel",
            "justify_items": null,
            "grid_row": null,
            "max_height": null,
            "align_content": null,
            "visibility": null,
            "align_self": null,
            "height": null,
            "min_height": null,
            "padding": null,
            "grid_auto_rows": null,
            "grid_gap": null,
            "max_width": null,
            "order": null,
            "_view_module_version": "1.2.0",
            "grid_template_areas": null,
            "object_position": null,
            "object_fit": null,
            "grid_auto_columns": null,
            "margin": null,
            "display": null,
            "left": null
          }
        },
        "94ed667d8f0a4a3a8c613af9d7a7165c": {
          "model_module": "@jupyter-widgets/controls",
          "model_name": "HBoxModel",
          "state": {
            "_view_name": "HBoxView",
            "_dom_classes": [],
            "_model_name": "HBoxModel",
            "_view_module": "@jupyter-widgets/controls",
            "_model_module_version": "1.5.0",
            "_view_count": null,
            "_view_module_version": "1.5.0",
            "box_style": "",
            "layout": "IPY_MODEL_0eaf9806be574e088ff01466ae732852",
            "_model_module": "@jupyter-widgets/controls",
            "children": [
              "IPY_MODEL_837057df7d7c4f5a8213879946333370",
              "IPY_MODEL_63e85c69818b4b1ebf938ed0dc32a29e"
            ]
          }
        },
        "0eaf9806be574e088ff01466ae732852": {
          "model_module": "@jupyter-widgets/base",
          "model_name": "LayoutModel",
          "state": {
            "_view_name": "LayoutView",
            "grid_template_rows": null,
            "right": null,
            "justify_content": null,
            "_view_module": "@jupyter-widgets/base",
            "overflow": null,
            "_model_module_version": "1.2.0",
            "_view_count": null,
            "flex_flow": null,
            "width": null,
            "min_width": null,
            "border": null,
            "align_items": null,
            "bottom": null,
            "_model_module": "@jupyter-widgets/base",
            "top": null,
            "grid_column": null,
            "overflow_y": null,
            "overflow_x": null,
            "grid_auto_flow": null,
            "grid_area": null,
            "grid_template_columns": null,
            "flex": null,
            "_model_name": "LayoutModel",
            "justify_items": null,
            "grid_row": null,
            "max_height": null,
            "align_content": null,
            "visibility": null,
            "align_self": null,
            "height": null,
            "min_height": null,
            "padding": null,
            "grid_auto_rows": null,
            "grid_gap": null,
            "max_width": null,
            "order": null,
            "_view_module_version": "1.2.0",
            "grid_template_areas": null,
            "object_position": null,
            "object_fit": null,
            "grid_auto_columns": null,
            "margin": null,
            "display": null,
            "left": null
          }
        },
        "837057df7d7c4f5a8213879946333370": {
          "model_module": "@jupyter-widgets/controls",
          "model_name": "FloatProgressModel",
          "state": {
            "_view_name": "ProgressView",
            "style": "IPY_MODEL_11a9cd26efbe40618b185228917f718a",
            "_dom_classes": [],
            "description": "Downloading: 100%",
            "_model_name": "FloatProgressModel",
            "bar_style": "success",
            "max": 1915455,
            "_view_module": "@jupyter-widgets/controls",
            "_model_module_version": "1.5.0",
            "value": 1915455,
            "_view_count": null,
            "_view_module_version": "1.5.0",
            "orientation": "horizontal",
            "min": 0,
            "description_tooltip": null,
            "_model_module": "@jupyter-widgets/controls",
            "layout": "IPY_MODEL_20690f7c52be40b9ae87427bb4274c4d"
          }
        },
        "63e85c69818b4b1ebf938ed0dc32a29e": {
          "model_module": "@jupyter-widgets/controls",
          "model_name": "HTMLModel",
          "state": {
            "_view_name": "HTMLView",
            "style": "IPY_MODEL_420734370cf8480bb13cfa0b08e46b57",
            "_dom_classes": [],
            "description": "",
            "_model_name": "HTMLModel",
            "placeholder": "​",
            "_view_module": "@jupyter-widgets/controls",
            "_model_module_version": "1.5.0",
            "value": " 1.92M/1.92M [00:00&lt;00:00, 3.28MB/s]",
            "_view_count": null,
            "_view_module_version": "1.5.0",
            "description_tooltip": null,
            "_model_module": "@jupyter-widgets/controls",
            "layout": "IPY_MODEL_d67e389e3f4a49e98f136c11c26baff7"
          }
        },
        "11a9cd26efbe40618b185228917f718a": {
          "model_module": "@jupyter-widgets/controls",
          "model_name": "ProgressStyleModel",
          "state": {
            "_view_name": "StyleView",
            "_model_name": "ProgressStyleModel",
            "description_width": "initial",
            "_view_module": "@jupyter-widgets/base",
            "_model_module_version": "1.5.0",
            "_view_count": null,
            "_view_module_version": "1.2.0",
            "bar_color": null,
            "_model_module": "@jupyter-widgets/controls"
          }
        },
        "20690f7c52be40b9ae87427bb4274c4d": {
          "model_module": "@jupyter-widgets/base",
          "model_name": "LayoutModel",
          "state": {
            "_view_name": "LayoutView",
            "grid_template_rows": null,
            "right": null,
            "justify_content": null,
            "_view_module": "@jupyter-widgets/base",
            "overflow": null,
            "_model_module_version": "1.2.0",
            "_view_count": null,
            "flex_flow": null,
            "width": null,
            "min_width": null,
            "border": null,
            "align_items": null,
            "bottom": null,
            "_model_module": "@jupyter-widgets/base",
            "top": null,
            "grid_column": null,
            "overflow_y": null,
            "overflow_x": null,
            "grid_auto_flow": null,
            "grid_area": null,
            "grid_template_columns": null,
            "flex": null,
            "_model_name": "LayoutModel",
            "justify_items": null,
            "grid_row": null,
            "max_height": null,
            "align_content": null,
            "visibility": null,
            "align_self": null,
            "height": null,
            "min_height": null,
            "padding": null,
            "grid_auto_rows": null,
            "grid_gap": null,
            "max_width": null,
            "order": null,
            "_view_module_version": "1.2.0",
            "grid_template_areas": null,
            "object_position": null,
            "object_fit": null,
            "grid_auto_columns": null,
            "margin": null,
            "display": null,
            "left": null
          }
        },
        "420734370cf8480bb13cfa0b08e46b57": {
          "model_module": "@jupyter-widgets/controls",
          "model_name": "DescriptionStyleModel",
          "state": {
            "_view_name": "StyleView",
            "_model_name": "DescriptionStyleModel",
            "description_width": "",
            "_view_module": "@jupyter-widgets/base",
            "_model_module_version": "1.5.0",
            "_view_count": null,
            "_view_module_version": "1.2.0",
            "_model_module": "@jupyter-widgets/controls"
          }
        },
        "d67e389e3f4a49e98f136c11c26baff7": {
          "model_module": "@jupyter-widgets/base",
          "model_name": "LayoutModel",
          "state": {
            "_view_name": "LayoutView",
            "grid_template_rows": null,
            "right": null,
            "justify_content": null,
            "_view_module": "@jupyter-widgets/base",
            "overflow": null,
            "_model_module_version": "1.2.0",
            "_view_count": null,
            "flex_flow": null,
            "width": null,
            "min_width": null,
            "border": null,
            "align_items": null,
            "bottom": null,
            "_model_module": "@jupyter-widgets/base",
            "top": null,
            "grid_column": null,
            "overflow_y": null,
            "overflow_x": null,
            "grid_auto_flow": null,
            "grid_area": null,
            "grid_template_columns": null,
            "flex": null,
            "_model_name": "LayoutModel",
            "justify_items": null,
            "grid_row": null,
            "max_height": null,
            "align_content": null,
            "visibility": null,
            "align_self": null,
            "height": null,
            "min_height": null,
            "padding": null,
            "grid_auto_rows": null,
            "grid_gap": null,
            "max_width": null,
            "order": null,
            "_view_module_version": "1.2.0",
            "grid_template_areas": null,
            "object_position": null,
            "object_fit": null,
            "grid_auto_columns": null,
            "margin": null,
            "display": null,
            "left": null
          }
        },
        "782180a3453f49e3b2c0a19529032a03": {
          "model_module": "@jupyter-widgets/controls",
          "model_name": "HBoxModel",
          "state": {
            "_view_name": "HBoxView",
            "_dom_classes": [],
            "_model_name": "HBoxModel",
            "_view_module": "@jupyter-widgets/controls",
            "_model_module_version": "1.5.0",
            "_view_count": null,
            "_view_module_version": "1.5.0",
            "box_style": "",
            "layout": "IPY_MODEL_572842f3592e4fae932505f07090e78b",
            "_model_module": "@jupyter-widgets/controls",
            "children": [
              "IPY_MODEL_14b1852fb9c2499db496a651829c6f98",
              "IPY_MODEL_ed6beeb2695249ec96c1771462eae09c"
            ]
          }
        },
        "572842f3592e4fae932505f07090e78b": {
          "model_module": "@jupyter-widgets/base",
          "model_name": "LayoutModel",
          "state": {
            "_view_name": "LayoutView",
            "grid_template_rows": null,
            "right": null,
            "justify_content": null,
            "_view_module": "@jupyter-widgets/base",
            "overflow": null,
            "_model_module_version": "1.2.0",
            "_view_count": null,
            "flex_flow": null,
            "width": null,
            "min_width": null,
            "border": null,
            "align_items": null,
            "bottom": null,
            "_model_module": "@jupyter-widgets/base",
            "top": null,
            "grid_column": null,
            "overflow_y": null,
            "overflow_x": null,
            "grid_auto_flow": null,
            "grid_area": null,
            "grid_template_columns": null,
            "flex": null,
            "_model_name": "LayoutModel",
            "justify_items": null,
            "grid_row": null,
            "max_height": null,
            "align_content": null,
            "visibility": null,
            "align_self": null,
            "height": null,
            "min_height": null,
            "padding": null,
            "grid_auto_rows": null,
            "grid_gap": null,
            "max_width": null,
            "order": null,
            "_view_module_version": "1.2.0",
            "grid_template_areas": null,
            "object_position": null,
            "object_fit": null,
            "grid_auto_columns": null,
            "margin": null,
            "display": null,
            "left": null
          }
        },
        "14b1852fb9c2499db496a651829c6f98": {
          "model_module": "@jupyter-widgets/controls",
          "model_name": "FloatProgressModel",
          "state": {
            "_view_name": "ProgressView",
            "style": "IPY_MODEL_7a8b1e74a23c4f6fa2c2c840ecf7803b",
            "_dom_classes": [],
            "description": "Downloading: 100%",
            "_model_name": "FloatProgressModel",
            "bar_style": "success",
            "max": 775,
            "_view_module": "@jupyter-widgets/controls",
            "_model_module_version": "1.5.0",
            "value": 775,
            "_view_count": null,
            "_view_module_version": "1.5.0",
            "orientation": "horizontal",
            "min": 0,
            "description_tooltip": null,
            "_model_module": "@jupyter-widgets/controls",
            "layout": "IPY_MODEL_9a338c2f009147218b0305cdec033b69"
          }
        },
        "ed6beeb2695249ec96c1771462eae09c": {
          "model_module": "@jupyter-widgets/controls",
          "model_name": "HTMLModel",
          "state": {
            "_view_name": "HTMLView",
            "style": "IPY_MODEL_3e4ae3dd51f343f19647582cc372e32a",
            "_dom_classes": [],
            "description": "",
            "_model_name": "HTMLModel",
            "placeholder": "​",
            "_view_module": "@jupyter-widgets/controls",
            "_model_module_version": "1.5.0",
            "value": " 775/775 [00:00&lt;00:00, 4.02kB/s]",
            "_view_count": null,
            "_view_module_version": "1.5.0",
            "description_tooltip": null,
            "_model_module": "@jupyter-widgets/controls",
            "layout": "IPY_MODEL_1fe351a5604a468cb21a05ceb42321f9"
          }
        },
        "7a8b1e74a23c4f6fa2c2c840ecf7803b": {
          "model_module": "@jupyter-widgets/controls",
          "model_name": "ProgressStyleModel",
          "state": {
            "_view_name": "StyleView",
            "_model_name": "ProgressStyleModel",
            "description_width": "initial",
            "_view_module": "@jupyter-widgets/base",
            "_model_module_version": "1.5.0",
            "_view_count": null,
            "_view_module_version": "1.2.0",
            "bar_color": null,
            "_model_module": "@jupyter-widgets/controls"
          }
        },
        "9a338c2f009147218b0305cdec033b69": {
          "model_module": "@jupyter-widgets/base",
          "model_name": "LayoutModel",
          "state": {
            "_view_name": "LayoutView",
            "grid_template_rows": null,
            "right": null,
            "justify_content": null,
            "_view_module": "@jupyter-widgets/base",
            "overflow": null,
            "_model_module_version": "1.2.0",
            "_view_count": null,
            "flex_flow": null,
            "width": null,
            "min_width": null,
            "border": null,
            "align_items": null,
            "bottom": null,
            "_model_module": "@jupyter-widgets/base",
            "top": null,
            "grid_column": null,
            "overflow_y": null,
            "overflow_x": null,
            "grid_auto_flow": null,
            "grid_area": null,
            "grid_template_columns": null,
            "flex": null,
            "_model_name": "LayoutModel",
            "justify_items": null,
            "grid_row": null,
            "max_height": null,
            "align_content": null,
            "visibility": null,
            "align_self": null,
            "height": null,
            "min_height": null,
            "padding": null,
            "grid_auto_rows": null,
            "grid_gap": null,
            "max_width": null,
            "order": null,
            "_view_module_version": "1.2.0",
            "grid_template_areas": null,
            "object_position": null,
            "object_fit": null,
            "grid_auto_columns": null,
            "margin": null,
            "display": null,
            "left": null
          }
        },
        "3e4ae3dd51f343f19647582cc372e32a": {
          "model_module": "@jupyter-widgets/controls",
          "model_name": "DescriptionStyleModel",
          "state": {
            "_view_name": "StyleView",
            "_model_name": "DescriptionStyleModel",
            "description_width": "",
            "_view_module": "@jupyter-widgets/base",
            "_model_module_version": "1.5.0",
            "_view_count": null,
            "_view_module_version": "1.2.0",
            "_model_module": "@jupyter-widgets/controls"
          }
        },
        "1fe351a5604a468cb21a05ceb42321f9": {
          "model_module": "@jupyter-widgets/base",
          "model_name": "LayoutModel",
          "state": {
            "_view_name": "LayoutView",
            "grid_template_rows": null,
            "right": null,
            "justify_content": null,
            "_view_module": "@jupyter-widgets/base",
            "overflow": null,
            "_model_module_version": "1.2.0",
            "_view_count": null,
            "flex_flow": null,
            "width": null,
            "min_width": null,
            "border": null,
            "align_items": null,
            "bottom": null,
            "_model_module": "@jupyter-widgets/base",
            "top": null,
            "grid_column": null,
            "overflow_y": null,
            "overflow_x": null,
            "grid_auto_flow": null,
            "grid_area": null,
            "grid_template_columns": null,
            "flex": null,
            "_model_name": "LayoutModel",
            "justify_items": null,
            "grid_row": null,
            "max_height": null,
            "align_content": null,
            "visibility": null,
            "align_self": null,
            "height": null,
            "min_height": null,
            "padding": null,
            "grid_auto_rows": null,
            "grid_gap": null,
            "max_width": null,
            "order": null,
            "_view_module_version": "1.2.0",
            "grid_template_areas": null,
            "object_position": null,
            "object_fit": null,
            "grid_auto_columns": null,
            "margin": null,
            "display": null,
            "left": null
          }
        },
        "be5fa3f4bf714b2ca3f649daa421b1c5": {
          "model_module": "@jupyter-widgets/controls",
          "model_name": "HBoxModel",
          "state": {
            "_view_name": "HBoxView",
            "_dom_classes": [],
            "_model_name": "HBoxModel",
            "_view_module": "@jupyter-widgets/controls",
            "_model_module_version": "1.5.0",
            "_view_count": null,
            "_view_module_version": "1.5.0",
            "box_style": "",
            "layout": "IPY_MODEL_7ca37f848cbb45429cfc12fe2b3742c4",
            "_model_module": "@jupyter-widgets/controls",
            "children": [
              "IPY_MODEL_508d1df368194134a411378087715e62",
              "IPY_MODEL_121c918d33f948509069b5c22bc47f56"
            ]
          }
        },
        "7ca37f848cbb45429cfc12fe2b3742c4": {
          "model_module": "@jupyter-widgets/base",
          "model_name": "LayoutModel",
          "state": {
            "_view_name": "LayoutView",
            "grid_template_rows": null,
            "right": null,
            "justify_content": null,
            "_view_module": "@jupyter-widgets/base",
            "overflow": null,
            "_model_module_version": "1.2.0",
            "_view_count": null,
            "flex_flow": null,
            "width": null,
            "min_width": null,
            "border": null,
            "align_items": null,
            "bottom": null,
            "_model_module": "@jupyter-widgets/base",
            "top": null,
            "grid_column": null,
            "overflow_y": null,
            "overflow_x": null,
            "grid_auto_flow": null,
            "grid_area": null,
            "grid_template_columns": null,
            "flex": null,
            "_model_name": "LayoutModel",
            "justify_items": null,
            "grid_row": null,
            "max_height": null,
            "align_content": null,
            "visibility": null,
            "align_self": null,
            "height": null,
            "min_height": null,
            "padding": null,
            "grid_auto_rows": null,
            "grid_gap": null,
            "max_width": null,
            "order": null,
            "_view_module_version": "1.2.0",
            "grid_template_areas": null,
            "object_position": null,
            "object_fit": null,
            "grid_auto_columns": null,
            "margin": null,
            "display": null,
            "left": null
          }
        },
        "508d1df368194134a411378087715e62": {
          "model_module": "@jupyter-widgets/controls",
          "model_name": "FloatProgressModel",
          "state": {
            "_view_name": "ProgressView",
            "style": "IPY_MODEL_732de309c4e64fd6a494cf260ffca574",
            "_dom_classes": [],
            "description": "Downloading: 100%",
            "_model_name": "FloatProgressModel",
            "bar_style": "success",
            "max": 1195,
            "_view_module": "@jupyter-widgets/controls",
            "_model_module_version": "1.5.0",
            "value": 1195,
            "_view_count": null,
            "_view_module_version": "1.5.0",
            "orientation": "horizontal",
            "min": 0,
            "description_tooltip": null,
            "_model_module": "@jupyter-widgets/controls",
            "layout": "IPY_MODEL_9623ece987684212b91039b040d09a60"
          }
        },
        "121c918d33f948509069b5c22bc47f56": {
          "model_module": "@jupyter-widgets/controls",
          "model_name": "HTMLModel",
          "state": {
            "_view_name": "HTMLView",
            "style": "IPY_MODEL_9117ff19b5a444a0b3e7394e5d5fd283",
            "_dom_classes": [],
            "description": "",
            "_model_name": "HTMLModel",
            "placeholder": "​",
            "_view_module": "@jupyter-widgets/controls",
            "_model_module_version": "1.5.0",
            "value": " 1.20k/1.20k [00:10&lt;00:00, 112B/s]",
            "_view_count": null,
            "_view_module_version": "1.5.0",
            "description_tooltip": null,
            "_model_module": "@jupyter-widgets/controls",
            "layout": "IPY_MODEL_05ec665cdcf84ae584493a2c072677e4"
          }
        },
        "732de309c4e64fd6a494cf260ffca574": {
          "model_module": "@jupyter-widgets/controls",
          "model_name": "ProgressStyleModel",
          "state": {
            "_view_name": "StyleView",
            "_model_name": "ProgressStyleModel",
            "description_width": "initial",
            "_view_module": "@jupyter-widgets/base",
            "_model_module_version": "1.5.0",
            "_view_count": null,
            "_view_module_version": "1.2.0",
            "bar_color": null,
            "_model_module": "@jupyter-widgets/controls"
          }
        },
        "9623ece987684212b91039b040d09a60": {
          "model_module": "@jupyter-widgets/base",
          "model_name": "LayoutModel",
          "state": {
            "_view_name": "LayoutView",
            "grid_template_rows": null,
            "right": null,
            "justify_content": null,
            "_view_module": "@jupyter-widgets/base",
            "overflow": null,
            "_model_module_version": "1.2.0",
            "_view_count": null,
            "flex_flow": null,
            "width": null,
            "min_width": null,
            "border": null,
            "align_items": null,
            "bottom": null,
            "_model_module": "@jupyter-widgets/base",
            "top": null,
            "grid_column": null,
            "overflow_y": null,
            "overflow_x": null,
            "grid_auto_flow": null,
            "grid_area": null,
            "grid_template_columns": null,
            "flex": null,
            "_model_name": "LayoutModel",
            "justify_items": null,
            "grid_row": null,
            "max_height": null,
            "align_content": null,
            "visibility": null,
            "align_self": null,
            "height": null,
            "min_height": null,
            "padding": null,
            "grid_auto_rows": null,
            "grid_gap": null,
            "max_width": null,
            "order": null,
            "_view_module_version": "1.2.0",
            "grid_template_areas": null,
            "object_position": null,
            "object_fit": null,
            "grid_auto_columns": null,
            "margin": null,
            "display": null,
            "left": null
          }
        },
        "9117ff19b5a444a0b3e7394e5d5fd283": {
          "model_module": "@jupyter-widgets/controls",
          "model_name": "DescriptionStyleModel",
          "state": {
            "_view_name": "StyleView",
            "_model_name": "DescriptionStyleModel",
            "description_width": "",
            "_view_module": "@jupyter-widgets/base",
            "_model_module_version": "1.5.0",
            "_view_count": null,
            "_view_module_version": "1.2.0",
            "_model_module": "@jupyter-widgets/controls"
          }
        },
        "05ec665cdcf84ae584493a2c072677e4": {
          "model_module": "@jupyter-widgets/base",
          "model_name": "LayoutModel",
          "state": {
            "_view_name": "LayoutView",
            "grid_template_rows": null,
            "right": null,
            "justify_content": null,
            "_view_module": "@jupyter-widgets/base",
            "overflow": null,
            "_model_module_version": "1.2.0",
            "_view_count": null,
            "flex_flow": null,
            "width": null,
            "min_width": null,
            "border": null,
            "align_items": null,
            "bottom": null,
            "_model_module": "@jupyter-widgets/base",
            "top": null,
            "grid_column": null,
            "overflow_y": null,
            "overflow_x": null,
            "grid_auto_flow": null,
            "grid_area": null,
            "grid_template_columns": null,
            "flex": null,
            "_model_name": "LayoutModel",
            "justify_items": null,
            "grid_row": null,
            "max_height": null,
            "align_content": null,
            "visibility": null,
            "align_self": null,
            "height": null,
            "min_height": null,
            "padding": null,
            "grid_auto_rows": null,
            "grid_gap": null,
            "max_width": null,
            "order": null,
            "_view_module_version": "1.2.0",
            "grid_template_areas": null,
            "object_position": null,
            "object_fit": null,
            "grid_auto_columns": null,
            "margin": null,
            "display": null,
            "left": null
          }
        },
        "71650c8d8a984e438a645f04f007862f": {
          "model_module": "@jupyter-widgets/controls",
          "model_name": "HBoxModel",
          "state": {
            "_view_name": "HBoxView",
            "_dom_classes": [],
            "_model_name": "HBoxModel",
            "_view_module": "@jupyter-widgets/controls",
            "_model_module_version": "1.5.0",
            "_view_count": null,
            "_view_module_version": "1.5.0",
            "box_style": "",
            "layout": "IPY_MODEL_27fca1e3331340a4b02994268a7cb065",
            "_model_module": "@jupyter-widgets/controls",
            "children": [
              "IPY_MODEL_d788a6ec39a44c289660bba3a0aa20f8",
              "IPY_MODEL_06ee884381c949cca12e23a0de62b08c"
            ]
          }
        },
        "27fca1e3331340a4b02994268a7cb065": {
          "model_module": "@jupyter-widgets/base",
          "model_name": "LayoutModel",
          "state": {
            "_view_name": "LayoutView",
            "grid_template_rows": null,
            "right": null,
            "justify_content": null,
            "_view_module": "@jupyter-widgets/base",
            "overflow": null,
            "_model_module_version": "1.2.0",
            "_view_count": null,
            "flex_flow": null,
            "width": null,
            "min_width": null,
            "border": null,
            "align_items": null,
            "bottom": null,
            "_model_module": "@jupyter-widgets/base",
            "top": null,
            "grid_column": null,
            "overflow_y": null,
            "overflow_x": null,
            "grid_auto_flow": null,
            "grid_area": null,
            "grid_template_columns": null,
            "flex": null,
            "_model_name": "LayoutModel",
            "justify_items": null,
            "grid_row": null,
            "max_height": null,
            "align_content": null,
            "visibility": null,
            "align_self": null,
            "height": null,
            "min_height": null,
            "padding": null,
            "grid_auto_rows": null,
            "grid_gap": null,
            "max_width": null,
            "order": null,
            "_view_module_version": "1.2.0",
            "grid_template_areas": null,
            "object_position": null,
            "object_fit": null,
            "grid_auto_columns": null,
            "margin": null,
            "display": null,
            "left": null
          }
        },
        "d788a6ec39a44c289660bba3a0aa20f8": {
          "model_module": "@jupyter-widgets/controls",
          "model_name": "FloatProgressModel",
          "state": {
            "_view_name": "ProgressView",
            "style": "IPY_MODEL_dd7b7cb47acb486785fa333fa2f90ef9",
            "_dom_classes": [],
            "description": "Downloading: 100%",
            "_model_name": "FloatProgressModel",
            "bar_style": "success",
            "max": 3508743,
            "_view_module": "@jupyter-widgets/controls",
            "_model_module_version": "1.5.0",
            "value": 3508743,
            "_view_count": null,
            "_view_module_version": "1.5.0",
            "orientation": "horizontal",
            "min": 0,
            "description_tooltip": null,
            "_model_module": "@jupyter-widgets/controls",
            "layout": "IPY_MODEL_f3610cc204d345e89b356029069c9ff9"
          }
        },
        "06ee884381c949cca12e23a0de62b08c": {
          "model_module": "@jupyter-widgets/controls",
          "model_name": "HTMLModel",
          "state": {
            "_view_name": "HTMLView",
            "style": "IPY_MODEL_8ab8914ed1af4c13a4751f0e45568d3a",
            "_dom_classes": [],
            "description": "",
            "_model_name": "HTMLModel",
            "placeholder": "​",
            "_view_module": "@jupyter-widgets/controls",
            "_model_module_version": "1.5.0",
            "value": " 3.51M/3.51M [00:07&lt;00:00, 448kB/s]",
            "_view_count": null,
            "_view_module_version": "1.5.0",
            "description_tooltip": null,
            "_model_module": "@jupyter-widgets/controls",
            "layout": "IPY_MODEL_7954c752edee48bcba81850a40edd7ec"
          }
        },
        "dd7b7cb47acb486785fa333fa2f90ef9": {
          "model_module": "@jupyter-widgets/controls",
          "model_name": "ProgressStyleModel",
          "state": {
            "_view_name": "StyleView",
            "_model_name": "ProgressStyleModel",
            "description_width": "initial",
            "_view_module": "@jupyter-widgets/base",
            "_model_module_version": "1.5.0",
            "_view_count": null,
            "_view_module_version": "1.2.0",
            "bar_color": null,
            "_model_module": "@jupyter-widgets/controls"
          }
        },
        "f3610cc204d345e89b356029069c9ff9": {
          "model_module": "@jupyter-widgets/base",
          "model_name": "LayoutModel",
          "state": {
            "_view_name": "LayoutView",
            "grid_template_rows": null,
            "right": null,
            "justify_content": null,
            "_view_module": "@jupyter-widgets/base",
            "overflow": null,
            "_model_module_version": "1.2.0",
            "_view_count": null,
            "flex_flow": null,
            "width": null,
            "min_width": null,
            "border": null,
            "align_items": null,
            "bottom": null,
            "_model_module": "@jupyter-widgets/base",
            "top": null,
            "grid_column": null,
            "overflow_y": null,
            "overflow_x": null,
            "grid_auto_flow": null,
            "grid_area": null,
            "grid_template_columns": null,
            "flex": null,
            "_model_name": "LayoutModel",
            "justify_items": null,
            "grid_row": null,
            "max_height": null,
            "align_content": null,
            "visibility": null,
            "align_self": null,
            "height": null,
            "min_height": null,
            "padding": null,
            "grid_auto_rows": null,
            "grid_gap": null,
            "max_width": null,
            "order": null,
            "_view_module_version": "1.2.0",
            "grid_template_areas": null,
            "object_position": null,
            "object_fit": null,
            "grid_auto_columns": null,
            "margin": null,
            "display": null,
            "left": null
          }
        },
        "8ab8914ed1af4c13a4751f0e45568d3a": {
          "model_module": "@jupyter-widgets/controls",
          "model_name": "DescriptionStyleModel",
          "state": {
            "_view_name": "StyleView",
            "_model_name": "DescriptionStyleModel",
            "description_width": "",
            "_view_module": "@jupyter-widgets/base",
            "_model_module_version": "1.5.0",
            "_view_count": null,
            "_view_module_version": "1.2.0",
            "_model_module": "@jupyter-widgets/controls"
          }
        },
        "7954c752edee48bcba81850a40edd7ec": {
          "model_module": "@jupyter-widgets/base",
          "model_name": "LayoutModel",
          "state": {
            "_view_name": "LayoutView",
            "grid_template_rows": null,
            "right": null,
            "justify_content": null,
            "_view_module": "@jupyter-widgets/base",
            "overflow": null,
            "_model_module_version": "1.2.0",
            "_view_count": null,
            "flex_flow": null,
            "width": null,
            "min_width": null,
            "border": null,
            "align_items": null,
            "bottom": null,
            "_model_module": "@jupyter-widgets/base",
            "top": null,
            "grid_column": null,
            "overflow_y": null,
            "overflow_x": null,
            "grid_auto_flow": null,
            "grid_area": null,
            "grid_template_columns": null,
            "flex": null,
            "_model_name": "LayoutModel",
            "justify_items": null,
            "grid_row": null,
            "max_height": null,
            "align_content": null,
            "visibility": null,
            "align_self": null,
            "height": null,
            "min_height": null,
            "padding": null,
            "grid_auto_rows": null,
            "grid_gap": null,
            "max_width": null,
            "order": null,
            "_view_module_version": "1.2.0",
            "grid_template_areas": null,
            "object_position": null,
            "object_fit": null,
            "grid_auto_columns": null,
            "margin": null,
            "display": null,
            "left": null
          }
        },
        "9769ea5493674a458f55519e82ca4e61": {
          "model_module": "@jupyter-widgets/controls",
          "model_name": "HBoxModel",
          "state": {
            "_view_name": "HBoxView",
            "_dom_classes": [],
            "_model_name": "HBoxModel",
            "_view_module": "@jupyter-widgets/controls",
            "_model_module_version": "1.5.0",
            "_view_count": null,
            "_view_module_version": "1.5.0",
            "box_style": "",
            "layout": "IPY_MODEL_c9074697838b4fc8a849abdc2adba0e6",
            "_model_module": "@jupyter-widgets/controls",
            "children": [
              "IPY_MODEL_3819b78e4fdc4e1c9524d69690ee7358",
              "IPY_MODEL_718c48d17f5446a588a34a202ff1f98d"
            ]
          }
        },
        "c9074697838b4fc8a849abdc2adba0e6": {
          "model_module": "@jupyter-widgets/base",
          "model_name": "LayoutModel",
          "state": {
            "_view_name": "LayoutView",
            "grid_template_rows": null,
            "right": null,
            "justify_content": null,
            "_view_module": "@jupyter-widgets/base",
            "overflow": null,
            "_model_module_version": "1.2.0",
            "_view_count": null,
            "flex_flow": null,
            "width": null,
            "min_width": null,
            "border": null,
            "align_items": null,
            "bottom": null,
            "_model_module": "@jupyter-widgets/base",
            "top": null,
            "grid_column": null,
            "overflow_y": null,
            "overflow_x": null,
            "grid_auto_flow": null,
            "grid_area": null,
            "grid_template_columns": null,
            "flex": null,
            "_model_name": "LayoutModel",
            "justify_items": null,
            "grid_row": null,
            "max_height": null,
            "align_content": null,
            "visibility": null,
            "align_self": null,
            "height": null,
            "min_height": null,
            "padding": null,
            "grid_auto_rows": null,
            "grid_gap": null,
            "max_width": null,
            "order": null,
            "_view_module_version": "1.2.0",
            "grid_template_areas": null,
            "object_position": null,
            "object_fit": null,
            "grid_auto_columns": null,
            "margin": null,
            "display": null,
            "left": null
          }
        },
        "3819b78e4fdc4e1c9524d69690ee7358": {
          "model_module": "@jupyter-widgets/controls",
          "model_name": "FloatProgressModel",
          "state": {
            "_view_name": "ProgressView",
            "style": "IPY_MODEL_44fd70c984e541acbf2caa685037ce71",
            "_dom_classes": [],
            "description": "Downloading: ",
            "_model_name": "FloatProgressModel",
            "bar_style": "success",
            "max": 2170,
            "_view_module": "@jupyter-widgets/controls",
            "_model_module_version": "1.5.0",
            "value": 2170,
            "_view_count": null,
            "_view_module_version": "1.5.0",
            "orientation": "horizontal",
            "min": 0,
            "description_tooltip": null,
            "_model_module": "@jupyter-widgets/controls",
            "layout": "IPY_MODEL_68bbbd8e85d244e0bd645d7701f20255"
          }
        },
        "718c48d17f5446a588a34a202ff1f98d": {
          "model_module": "@jupyter-widgets/controls",
          "model_name": "HTMLModel",
          "state": {
            "_view_name": "HTMLView",
            "style": "IPY_MODEL_2905983ce8404dfaae569fbc44b1598c",
            "_dom_classes": [],
            "description": "",
            "_model_name": "HTMLModel",
            "placeholder": "​",
            "_view_module": "@jupyter-widgets/controls",
            "_model_module_version": "1.5.0",
            "value": " 5.61k/? [00:00&lt;00:00, 27.7kB/s]",
            "_view_count": null,
            "_view_module_version": "1.5.0",
            "description_tooltip": null,
            "_model_module": "@jupyter-widgets/controls",
            "layout": "IPY_MODEL_c422c18f1ec74cd4956d388ed6da42ed"
          }
        },
        "44fd70c984e541acbf2caa685037ce71": {
          "model_module": "@jupyter-widgets/controls",
          "model_name": "ProgressStyleModel",
          "state": {
            "_view_name": "StyleView",
            "_model_name": "ProgressStyleModel",
            "description_width": "initial",
            "_view_module": "@jupyter-widgets/base",
            "_model_module_version": "1.5.0",
            "_view_count": null,
            "_view_module_version": "1.2.0",
            "bar_color": null,
            "_model_module": "@jupyter-widgets/controls"
          }
        },
        "68bbbd8e85d244e0bd645d7701f20255": {
          "model_module": "@jupyter-widgets/base",
          "model_name": "LayoutModel",
          "state": {
            "_view_name": "LayoutView",
            "grid_template_rows": null,
            "right": null,
            "justify_content": null,
            "_view_module": "@jupyter-widgets/base",
            "overflow": null,
            "_model_module_version": "1.2.0",
            "_view_count": null,
            "flex_flow": null,
            "width": null,
            "min_width": null,
            "border": null,
            "align_items": null,
            "bottom": null,
            "_model_module": "@jupyter-widgets/base",
            "top": null,
            "grid_column": null,
            "overflow_y": null,
            "overflow_x": null,
            "grid_auto_flow": null,
            "grid_area": null,
            "grid_template_columns": null,
            "flex": null,
            "_model_name": "LayoutModel",
            "justify_items": null,
            "grid_row": null,
            "max_height": null,
            "align_content": null,
            "visibility": null,
            "align_self": null,
            "height": null,
            "min_height": null,
            "padding": null,
            "grid_auto_rows": null,
            "grid_gap": null,
            "max_width": null,
            "order": null,
            "_view_module_version": "1.2.0",
            "grid_template_areas": null,
            "object_position": null,
            "object_fit": null,
            "grid_auto_columns": null,
            "margin": null,
            "display": null,
            "left": null
          }
        },
        "2905983ce8404dfaae569fbc44b1598c": {
          "model_module": "@jupyter-widgets/controls",
          "model_name": "DescriptionStyleModel",
          "state": {
            "_view_name": "StyleView",
            "_model_name": "DescriptionStyleModel",
            "description_width": "",
            "_view_module": "@jupyter-widgets/base",
            "_model_module_version": "1.5.0",
            "_view_count": null,
            "_view_module_version": "1.2.0",
            "_model_module": "@jupyter-widgets/controls"
          }
        },
        "c422c18f1ec74cd4956d388ed6da42ed": {
          "model_module": "@jupyter-widgets/base",
          "model_name": "LayoutModel",
          "state": {
            "_view_name": "LayoutView",
            "grid_template_rows": null,
            "right": null,
            "justify_content": null,
            "_view_module": "@jupyter-widgets/base",
            "overflow": null,
            "_model_module_version": "1.2.0",
            "_view_count": null,
            "flex_flow": null,
            "width": null,
            "min_width": null,
            "border": null,
            "align_items": null,
            "bottom": null,
            "_model_module": "@jupyter-widgets/base",
            "top": null,
            "grid_column": null,
            "overflow_y": null,
            "overflow_x": null,
            "grid_auto_flow": null,
            "grid_area": null,
            "grid_template_columns": null,
            "flex": null,
            "_model_name": "LayoutModel",
            "justify_items": null,
            "grid_row": null,
            "max_height": null,
            "align_content": null,
            "visibility": null,
            "align_self": null,
            "height": null,
            "min_height": null,
            "padding": null,
            "grid_auto_rows": null,
            "grid_gap": null,
            "max_width": null,
            "order": null,
            "_view_module_version": "1.2.0",
            "grid_template_areas": null,
            "object_position": null,
            "object_fit": null,
            "grid_auto_columns": null,
            "margin": null,
            "display": null,
            "left": null
          }
        },
        "4375486a5d0b44d1b6ba47b6eb729fdc": {
          "model_module": "@jupyter-widgets/controls",
          "model_name": "HBoxModel",
          "state": {
            "_view_name": "HBoxView",
            "_dom_classes": [],
            "_model_name": "HBoxModel",
            "_view_module": "@jupyter-widgets/controls",
            "_model_module_version": "1.5.0",
            "_view_count": null,
            "_view_module_version": "1.5.0",
            "box_style": "",
            "layout": "IPY_MODEL_f516d12f7d084e168b6aff2a37d76e6b",
            "_model_module": "@jupyter-widgets/controls",
            "children": [
              "IPY_MODEL_b71c6865f34b44998831e45514b8f123",
              "IPY_MODEL_76939f006337482c8f4c7acea72745cd"
            ]
          }
        },
        "f516d12f7d084e168b6aff2a37d76e6b": {
          "model_module": "@jupyter-widgets/base",
          "model_name": "LayoutModel",
          "state": {
            "_view_name": "LayoutView",
            "grid_template_rows": null,
            "right": null,
            "justify_content": null,
            "_view_module": "@jupyter-widgets/base",
            "overflow": null,
            "_model_module_version": "1.2.0",
            "_view_count": null,
            "flex_flow": null,
            "width": null,
            "min_width": null,
            "border": null,
            "align_items": null,
            "bottom": null,
            "_model_module": "@jupyter-widgets/base",
            "top": null,
            "grid_column": null,
            "overflow_y": null,
            "overflow_x": null,
            "grid_auto_flow": null,
            "grid_area": null,
            "grid_template_columns": null,
            "flex": null,
            "_model_name": "LayoutModel",
            "justify_items": null,
            "grid_row": null,
            "max_height": null,
            "align_content": null,
            "visibility": null,
            "align_self": null,
            "height": null,
            "min_height": null,
            "padding": null,
            "grid_auto_rows": null,
            "grid_gap": null,
            "max_width": null,
            "order": null,
            "_view_module_version": "1.2.0",
            "grid_template_areas": null,
            "object_position": null,
            "object_fit": null,
            "grid_auto_columns": null,
            "margin": null,
            "display": null,
            "left": null
          }
        },
        "b71c6865f34b44998831e45514b8f123": {
          "model_module": "@jupyter-widgets/controls",
          "model_name": "FloatProgressModel",
          "state": {
            "_view_name": "ProgressView",
            "style": "IPY_MODEL_faeffc659b834123ab10c93a0d793453",
            "_dom_classes": [],
            "description": "100%",
            "_model_name": "FloatProgressModel",
            "bar_style": "success",
            "max": 2,
            "_view_module": "@jupyter-widgets/controls",
            "_model_module_version": "1.5.0",
            "value": 2,
            "_view_count": null,
            "_view_module_version": "1.5.0",
            "orientation": "horizontal",
            "min": 0,
            "description_tooltip": null,
            "_model_module": "@jupyter-widgets/controls",
            "layout": "IPY_MODEL_595bd8c06d564c2fb90dd66b2d091163"
          }
        },
        "76939f006337482c8f4c7acea72745cd": {
          "model_module": "@jupyter-widgets/controls",
          "model_name": "HTMLModel",
          "state": {
            "_view_name": "HTMLView",
            "style": "IPY_MODEL_26e614ce97bc4db3bc85ad8480596bda",
            "_dom_classes": [],
            "description": "",
            "_model_name": "HTMLModel",
            "placeholder": "​",
            "_view_module": "@jupyter-widgets/controls",
            "_model_module_version": "1.5.0",
            "value": " 2/2 [44:53&lt;00:00, 1346.63s/ex]",
            "_view_count": null,
            "_view_module_version": "1.5.0",
            "description_tooltip": null,
            "_model_module": "@jupyter-widgets/controls",
            "layout": "IPY_MODEL_3f925fb318034400aeeb22e678d86023"
          }
        },
        "faeffc659b834123ab10c93a0d793453": {
          "model_module": "@jupyter-widgets/controls",
          "model_name": "ProgressStyleModel",
          "state": {
            "_view_name": "StyleView",
            "_model_name": "ProgressStyleModel",
            "description_width": "initial",
            "_view_module": "@jupyter-widgets/base",
            "_model_module_version": "1.5.0",
            "_view_count": null,
            "_view_module_version": "1.2.0",
            "bar_color": null,
            "_model_module": "@jupyter-widgets/controls"
          }
        },
        "595bd8c06d564c2fb90dd66b2d091163": {
          "model_module": "@jupyter-widgets/base",
          "model_name": "LayoutModel",
          "state": {
            "_view_name": "LayoutView",
            "grid_template_rows": null,
            "right": null,
            "justify_content": null,
            "_view_module": "@jupyter-widgets/base",
            "overflow": null,
            "_model_module_version": "1.2.0",
            "_view_count": null,
            "flex_flow": null,
            "width": null,
            "min_width": null,
            "border": null,
            "align_items": null,
            "bottom": null,
            "_model_module": "@jupyter-widgets/base",
            "top": null,
            "grid_column": null,
            "overflow_y": null,
            "overflow_x": null,
            "grid_auto_flow": null,
            "grid_area": null,
            "grid_template_columns": null,
            "flex": null,
            "_model_name": "LayoutModel",
            "justify_items": null,
            "grid_row": null,
            "max_height": null,
            "align_content": null,
            "visibility": null,
            "align_self": null,
            "height": null,
            "min_height": null,
            "padding": null,
            "grid_auto_rows": null,
            "grid_gap": null,
            "max_width": null,
            "order": null,
            "_view_module_version": "1.2.0",
            "grid_template_areas": null,
            "object_position": null,
            "object_fit": null,
            "grid_auto_columns": null,
            "margin": null,
            "display": null,
            "left": null
          }
        },
        "26e614ce97bc4db3bc85ad8480596bda": {
          "model_module": "@jupyter-widgets/controls",
          "model_name": "DescriptionStyleModel",
          "state": {
            "_view_name": "StyleView",
            "_model_name": "DescriptionStyleModel",
            "description_width": "",
            "_view_module": "@jupyter-widgets/base",
            "_model_module_version": "1.5.0",
            "_view_count": null,
            "_view_module_version": "1.2.0",
            "_model_module": "@jupyter-widgets/controls"
          }
        },
        "3f925fb318034400aeeb22e678d86023": {
          "model_module": "@jupyter-widgets/base",
          "model_name": "LayoutModel",
          "state": {
            "_view_name": "LayoutView",
            "grid_template_rows": null,
            "right": null,
            "justify_content": null,
            "_view_module": "@jupyter-widgets/base",
            "overflow": null,
            "_model_module_version": "1.2.0",
            "_view_count": null,
            "flex_flow": null,
            "width": null,
            "min_width": null,
            "border": null,
            "align_items": null,
            "bottom": null,
            "_model_module": "@jupyter-widgets/base",
            "top": null,
            "grid_column": null,
            "overflow_y": null,
            "overflow_x": null,
            "grid_auto_flow": null,
            "grid_area": null,
            "grid_template_columns": null,
            "flex": null,
            "_model_name": "LayoutModel",
            "justify_items": null,
            "grid_row": null,
            "max_height": null,
            "align_content": null,
            "visibility": null,
            "align_self": null,
            "height": null,
            "min_height": null,
            "padding": null,
            "grid_auto_rows": null,
            "grid_gap": null,
            "max_width": null,
            "order": null,
            "_view_module_version": "1.2.0",
            "grid_template_areas": null,
            "object_position": null,
            "object_fit": null,
            "grid_auto_columns": null,
            "margin": null,
            "display": null,
            "left": null
          }
        },
        "138e3eb135c24048b6163ce864992785": {
          "model_module": "@jupyter-widgets/controls",
          "model_name": "HBoxModel",
          "state": {
            "_view_name": "HBoxView",
            "_dom_classes": [],
            "_model_name": "HBoxModel",
            "_view_module": "@jupyter-widgets/controls",
            "_model_module_version": "1.5.0",
            "_view_count": null,
            "_view_module_version": "1.5.0",
            "box_style": "",
            "layout": "IPY_MODEL_ec6d0ecf38254f5694de9febb7afabd6",
            "_model_module": "@jupyter-widgets/controls",
            "children": [
              "IPY_MODEL_4634e983e9704b1ea87117eb69953a8e",
              "IPY_MODEL_42f30f8cf3c54fa4bdfb1e5476d0efd6"
            ]
          }
        },
        "ec6d0ecf38254f5694de9febb7afabd6": {
          "model_module": "@jupyter-widgets/base",
          "model_name": "LayoutModel",
          "state": {
            "_view_name": "LayoutView",
            "grid_template_rows": null,
            "right": null,
            "justify_content": null,
            "_view_module": "@jupyter-widgets/base",
            "overflow": null,
            "_model_module_version": "1.2.0",
            "_view_count": null,
            "flex_flow": null,
            "width": null,
            "min_width": null,
            "border": null,
            "align_items": null,
            "bottom": null,
            "_model_module": "@jupyter-widgets/base",
            "top": null,
            "grid_column": null,
            "overflow_y": null,
            "overflow_x": null,
            "grid_auto_flow": null,
            "grid_area": null,
            "grid_template_columns": null,
            "flex": null,
            "_model_name": "LayoutModel",
            "justify_items": null,
            "grid_row": null,
            "max_height": null,
            "align_content": null,
            "visibility": null,
            "align_self": null,
            "height": null,
            "min_height": null,
            "padding": null,
            "grid_auto_rows": null,
            "grid_gap": null,
            "max_width": null,
            "order": null,
            "_view_module_version": "1.2.0",
            "grid_template_areas": null,
            "object_position": null,
            "object_fit": null,
            "grid_auto_columns": null,
            "margin": null,
            "display": null,
            "left": null
          }
        },
        "4634e983e9704b1ea87117eb69953a8e": {
          "model_module": "@jupyter-widgets/controls",
          "model_name": "FloatProgressModel",
          "state": {
            "_view_name": "ProgressView",
            "style": "IPY_MODEL_c37c538889394c04bde4c128a360abc6",
            "_dom_classes": [],
            "description": "100%",
            "_model_name": "FloatProgressModel",
            "bar_style": "success",
            "max": 2,
            "_view_module": "@jupyter-widgets/controls",
            "_model_module_version": "1.5.0",
            "value": 2,
            "_view_count": null,
            "_view_module_version": "1.5.0",
            "orientation": "horizontal",
            "min": 0,
            "description_tooltip": null,
            "_model_module": "@jupyter-widgets/controls",
            "layout": "IPY_MODEL_8e0efd01ca704b5285a55b9e1241bc18"
          }
        },
        "42f30f8cf3c54fa4bdfb1e5476d0efd6": {
          "model_module": "@jupyter-widgets/controls",
          "model_name": "HTMLModel",
          "state": {
            "_view_name": "HTMLView",
            "style": "IPY_MODEL_77194a0a19e74a41aa8d4988f06e5d0d",
            "_dom_classes": [],
            "description": "",
            "_model_name": "HTMLModel",
            "placeholder": "​",
            "_view_module": "@jupyter-widgets/controls",
            "_model_module_version": "1.5.0",
            "value": " 2/2 [38:49&lt;00:00, 1164.72s/ex]",
            "_view_count": null,
            "_view_module_version": "1.5.0",
            "description_tooltip": null,
            "_model_module": "@jupyter-widgets/controls",
            "layout": "IPY_MODEL_69a939681ae94590955ff59bc998c4db"
          }
        },
        "c37c538889394c04bde4c128a360abc6": {
          "model_module": "@jupyter-widgets/controls",
          "model_name": "ProgressStyleModel",
          "state": {
            "_view_name": "StyleView",
            "_model_name": "ProgressStyleModel",
            "description_width": "initial",
            "_view_module": "@jupyter-widgets/base",
            "_model_module_version": "1.5.0",
            "_view_count": null,
            "_view_module_version": "1.2.0",
            "bar_color": null,
            "_model_module": "@jupyter-widgets/controls"
          }
        },
        "8e0efd01ca704b5285a55b9e1241bc18": {
          "model_module": "@jupyter-widgets/base",
          "model_name": "LayoutModel",
          "state": {
            "_view_name": "LayoutView",
            "grid_template_rows": null,
            "right": null,
            "justify_content": null,
            "_view_module": "@jupyter-widgets/base",
            "overflow": null,
            "_model_module_version": "1.2.0",
            "_view_count": null,
            "flex_flow": null,
            "width": null,
            "min_width": null,
            "border": null,
            "align_items": null,
            "bottom": null,
            "_model_module": "@jupyter-widgets/base",
            "top": null,
            "grid_column": null,
            "overflow_y": null,
            "overflow_x": null,
            "grid_auto_flow": null,
            "grid_area": null,
            "grid_template_columns": null,
            "flex": null,
            "_model_name": "LayoutModel",
            "justify_items": null,
            "grid_row": null,
            "max_height": null,
            "align_content": null,
            "visibility": null,
            "align_self": null,
            "height": null,
            "min_height": null,
            "padding": null,
            "grid_auto_rows": null,
            "grid_gap": null,
            "max_width": null,
            "order": null,
            "_view_module_version": "1.2.0",
            "grid_template_areas": null,
            "object_position": null,
            "object_fit": null,
            "grid_auto_columns": null,
            "margin": null,
            "display": null,
            "left": null
          }
        },
        "77194a0a19e74a41aa8d4988f06e5d0d": {
          "model_module": "@jupyter-widgets/controls",
          "model_name": "DescriptionStyleModel",
          "state": {
            "_view_name": "StyleView",
            "_model_name": "DescriptionStyleModel",
            "description_width": "",
            "_view_module": "@jupyter-widgets/base",
            "_model_module_version": "1.5.0",
            "_view_count": null,
            "_view_module_version": "1.2.0",
            "_model_module": "@jupyter-widgets/controls"
          }
        },
        "69a939681ae94590955ff59bc998c4db": {
          "model_module": "@jupyter-widgets/base",
          "model_name": "LayoutModel",
          "state": {
            "_view_name": "LayoutView",
            "grid_template_rows": null,
            "right": null,
            "justify_content": null,
            "_view_module": "@jupyter-widgets/base",
            "overflow": null,
            "_model_module_version": "1.2.0",
            "_view_count": null,
            "flex_flow": null,
            "width": null,
            "min_width": null,
            "border": null,
            "align_items": null,
            "bottom": null,
            "_model_module": "@jupyter-widgets/base",
            "top": null,
            "grid_column": null,
            "overflow_y": null,
            "overflow_x": null,
            "grid_auto_flow": null,
            "grid_area": null,
            "grid_template_columns": null,
            "flex": null,
            "_model_name": "LayoutModel",
            "justify_items": null,
            "grid_row": null,
            "max_height": null,
            "align_content": null,
            "visibility": null,
            "align_self": null,
            "height": null,
            "min_height": null,
            "padding": null,
            "grid_auto_rows": null,
            "grid_gap": null,
            "max_width": null,
            "order": null,
            "_view_module_version": "1.2.0",
            "grid_template_areas": null,
            "object_position": null,
            "object_fit": null,
            "grid_auto_columns": null,
            "margin": null,
            "display": null,
            "left": null
          }
        },
        "d1f2222742db47d58e94ed137db7696b": {
          "model_module": "@jupyter-widgets/controls",
          "model_name": "HBoxModel",
          "state": {
            "_view_name": "HBoxView",
            "_dom_classes": [],
            "_model_name": "HBoxModel",
            "_view_module": "@jupyter-widgets/controls",
            "_model_module_version": "1.5.0",
            "_view_count": null,
            "_view_module_version": "1.5.0",
            "box_style": "",
            "layout": "IPY_MODEL_dd8ab0655c0a4b6eb8cf000676f94a55",
            "_model_module": "@jupyter-widgets/controls",
            "children": [
              "IPY_MODEL_66e8011e5f4e4254b847fd14e5bdf915",
              "IPY_MODEL_ab75a129ffba41ebbc40b4047f04a1db"
            ]
          }
        },
        "dd8ab0655c0a4b6eb8cf000676f94a55": {
          "model_module": "@jupyter-widgets/base",
          "model_name": "LayoutModel",
          "state": {
            "_view_name": "LayoutView",
            "grid_template_rows": null,
            "right": null,
            "justify_content": null,
            "_view_module": "@jupyter-widgets/base",
            "overflow": null,
            "_model_module_version": "1.2.0",
            "_view_count": null,
            "flex_flow": null,
            "width": null,
            "min_width": null,
            "border": null,
            "align_items": null,
            "bottom": null,
            "_model_module": "@jupyter-widgets/base",
            "top": null,
            "grid_column": null,
            "overflow_y": null,
            "overflow_x": null,
            "grid_auto_flow": null,
            "grid_area": null,
            "grid_template_columns": null,
            "flex": null,
            "_model_name": "LayoutModel",
            "justify_items": null,
            "grid_row": null,
            "max_height": null,
            "align_content": null,
            "visibility": null,
            "align_self": null,
            "height": null,
            "min_height": null,
            "padding": null,
            "grid_auto_rows": null,
            "grid_gap": null,
            "max_width": null,
            "order": null,
            "_view_module_version": "1.2.0",
            "grid_template_areas": null,
            "object_position": null,
            "object_fit": null,
            "grid_auto_columns": null,
            "margin": null,
            "display": null,
            "left": null
          }
        },
        "66e8011e5f4e4254b847fd14e5bdf915": {
          "model_module": "@jupyter-widgets/controls",
          "model_name": "FloatProgressModel",
          "state": {
            "_view_name": "ProgressView",
            "style": "IPY_MODEL_13d6da35f80a448b8feea87cdf8b1ec9",
            "_dom_classes": [],
            "description": "100%",
            "_model_name": "FloatProgressModel",
            "bar_style": "success",
            "max": 3,
            "_view_module": "@jupyter-widgets/controls",
            "_model_module_version": "1.5.0",
            "value": 3,
            "_view_count": null,
            "_view_module_version": "1.5.0",
            "orientation": "horizontal",
            "min": 0,
            "description_tooltip": null,
            "_model_module": "@jupyter-widgets/controls",
            "layout": "IPY_MODEL_722f6842a4314d52b5f6134785fd3f77"
          }
        },
        "ab75a129ffba41ebbc40b4047f04a1db": {
          "model_module": "@jupyter-widgets/controls",
          "model_name": "HTMLModel",
          "state": {
            "_view_name": "HTMLView",
            "style": "IPY_MODEL_d53443504ac741f0a0e0b3edfa6c99d5",
            "_dom_classes": [],
            "description": "",
            "_model_name": "HTMLModel",
            "placeholder": "​",
            "_view_module": "@jupyter-widgets/controls",
            "_model_module_version": "1.5.0",
            "value": " 3/3 [03:23&lt;00:00, 67.86s/ex]",
            "_view_count": null,
            "_view_module_version": "1.5.0",
            "description_tooltip": null,
            "_model_module": "@jupyter-widgets/controls",
            "layout": "IPY_MODEL_34b3b32491c04df8a1f60f6780ebef1f"
          }
        },
        "13d6da35f80a448b8feea87cdf8b1ec9": {
          "model_module": "@jupyter-widgets/controls",
          "model_name": "ProgressStyleModel",
          "state": {
            "_view_name": "StyleView",
            "_model_name": "ProgressStyleModel",
            "description_width": "initial",
            "_view_module": "@jupyter-widgets/base",
            "_model_module_version": "1.5.0",
            "_view_count": null,
            "_view_module_version": "1.2.0",
            "bar_color": null,
            "_model_module": "@jupyter-widgets/controls"
          }
        },
        "722f6842a4314d52b5f6134785fd3f77": {
          "model_module": "@jupyter-widgets/base",
          "model_name": "LayoutModel",
          "state": {
            "_view_name": "LayoutView",
            "grid_template_rows": null,
            "right": null,
            "justify_content": null,
            "_view_module": "@jupyter-widgets/base",
            "overflow": null,
            "_model_module_version": "1.2.0",
            "_view_count": null,
            "flex_flow": null,
            "width": null,
            "min_width": null,
            "border": null,
            "align_items": null,
            "bottom": null,
            "_model_module": "@jupyter-widgets/base",
            "top": null,
            "grid_column": null,
            "overflow_y": null,
            "overflow_x": null,
            "grid_auto_flow": null,
            "grid_area": null,
            "grid_template_columns": null,
            "flex": null,
            "_model_name": "LayoutModel",
            "justify_items": null,
            "grid_row": null,
            "max_height": null,
            "align_content": null,
            "visibility": null,
            "align_self": null,
            "height": null,
            "min_height": null,
            "padding": null,
            "grid_auto_rows": null,
            "grid_gap": null,
            "max_width": null,
            "order": null,
            "_view_module_version": "1.2.0",
            "grid_template_areas": null,
            "object_position": null,
            "object_fit": null,
            "grid_auto_columns": null,
            "margin": null,
            "display": null,
            "left": null
          }
        },
        "d53443504ac741f0a0e0b3edfa6c99d5": {
          "model_module": "@jupyter-widgets/controls",
          "model_name": "DescriptionStyleModel",
          "state": {
            "_view_name": "StyleView",
            "_model_name": "DescriptionStyleModel",
            "description_width": "",
            "_view_module": "@jupyter-widgets/base",
            "_model_module_version": "1.5.0",
            "_view_count": null,
            "_view_module_version": "1.2.0",
            "_model_module": "@jupyter-widgets/controls"
          }
        },
        "34b3b32491c04df8a1f60f6780ebef1f": {
          "model_module": "@jupyter-widgets/base",
          "model_name": "LayoutModel",
          "state": {
            "_view_name": "LayoutView",
            "grid_template_rows": null,
            "right": null,
            "justify_content": null,
            "_view_module": "@jupyter-widgets/base",
            "overflow": null,
            "_model_module_version": "1.2.0",
            "_view_count": null,
            "flex_flow": null,
            "width": null,
            "min_width": null,
            "border": null,
            "align_items": null,
            "bottom": null,
            "_model_module": "@jupyter-widgets/base",
            "top": null,
            "grid_column": null,
            "overflow_y": null,
            "overflow_x": null,
            "grid_auto_flow": null,
            "grid_area": null,
            "grid_template_columns": null,
            "flex": null,
            "_model_name": "LayoutModel",
            "justify_items": null,
            "grid_row": null,
            "max_height": null,
            "align_content": null,
            "visibility": null,
            "align_self": null,
            "height": null,
            "min_height": null,
            "padding": null,
            "grid_auto_rows": null,
            "grid_gap": null,
            "max_width": null,
            "order": null,
            "_view_module_version": "1.2.0",
            "grid_template_areas": null,
            "object_position": null,
            "object_fit": null,
            "grid_auto_columns": null,
            "margin": null,
            "display": null,
            "left": null
          }
        },
        "2bc1619cfc974290bb446e8bc5680cee": {
          "model_module": "@jupyter-widgets/controls",
          "model_name": "HBoxModel",
          "state": {
            "_view_name": "HBoxView",
            "_dom_classes": [],
            "_model_name": "HBoxModel",
            "_view_module": "@jupyter-widgets/controls",
            "_model_module_version": "1.5.0",
            "_view_count": null,
            "_view_module_version": "1.5.0",
            "box_style": "",
            "layout": "IPY_MODEL_88512b8ab8244494b621b3cb4d348c22",
            "_model_module": "@jupyter-widgets/controls",
            "children": [
              "IPY_MODEL_dd5ed920743f47408ab4921de00616e9",
              "IPY_MODEL_c8cdb7998e21408cbbaf00f84431ce85"
            ]
          }
        },
        "88512b8ab8244494b621b3cb4d348c22": {
          "model_module": "@jupyter-widgets/base",
          "model_name": "LayoutModel",
          "state": {
            "_view_name": "LayoutView",
            "grid_template_rows": null,
            "right": null,
            "justify_content": null,
            "_view_module": "@jupyter-widgets/base",
            "overflow": null,
            "_model_module_version": "1.2.0",
            "_view_count": null,
            "flex_flow": null,
            "width": null,
            "min_width": null,
            "border": null,
            "align_items": null,
            "bottom": null,
            "_model_module": "@jupyter-widgets/base",
            "top": null,
            "grid_column": null,
            "overflow_y": null,
            "overflow_x": null,
            "grid_auto_flow": null,
            "grid_area": null,
            "grid_template_columns": null,
            "flex": null,
            "_model_name": "LayoutModel",
            "justify_items": null,
            "grid_row": null,
            "max_height": null,
            "align_content": null,
            "visibility": null,
            "align_self": null,
            "height": null,
            "min_height": null,
            "padding": null,
            "grid_auto_rows": null,
            "grid_gap": null,
            "max_width": null,
            "order": null,
            "_view_module_version": "1.2.0",
            "grid_template_areas": null,
            "object_position": null,
            "object_fit": null,
            "grid_auto_columns": null,
            "margin": null,
            "display": null,
            "left": null
          }
        },
        "dd5ed920743f47408ab4921de00616e9": {
          "model_module": "@jupyter-widgets/controls",
          "model_name": "FloatProgressModel",
          "state": {
            "_view_name": "ProgressView",
            "style": "IPY_MODEL_48a34fd4a625496aa53c2378090ad0c0",
            "_dom_classes": [],
            "description": "100%",
            "_model_name": "FloatProgressModel",
            "bar_style": "success",
            "max": 6,
            "_view_module": "@jupyter-widgets/controls",
            "_model_module_version": "1.5.0",
            "value": 6,
            "_view_count": null,
            "_view_module_version": "1.5.0",
            "orientation": "horizontal",
            "min": 0,
            "description_tooltip": null,
            "_model_module": "@jupyter-widgets/controls",
            "layout": "IPY_MODEL_c677d8b1b28045c0a73670ebb9f946c5"
          }
        },
        "c8cdb7998e21408cbbaf00f84431ce85": {
          "model_module": "@jupyter-widgets/controls",
          "model_name": "HTMLModel",
          "state": {
            "_view_name": "HTMLView",
            "style": "IPY_MODEL_1a07031bc5eb40ea8fccd9ac47a8aba3",
            "_dom_classes": [],
            "description": "",
            "_model_name": "HTMLModel",
            "placeholder": "​",
            "_view_module": "@jupyter-widgets/controls",
            "_model_module_version": "1.5.0",
            "value": " 6/6 [06:17&lt;00:00, 62.87s/ex]",
            "_view_count": null,
            "_view_module_version": "1.5.0",
            "description_tooltip": null,
            "_model_module": "@jupyter-widgets/controls",
            "layout": "IPY_MODEL_6f2f9e17b1ad4287b192ef933dd0afdf"
          }
        },
        "48a34fd4a625496aa53c2378090ad0c0": {
          "model_module": "@jupyter-widgets/controls",
          "model_name": "ProgressStyleModel",
          "state": {
            "_view_name": "StyleView",
            "_model_name": "ProgressStyleModel",
            "description_width": "initial",
            "_view_module": "@jupyter-widgets/base",
            "_model_module_version": "1.5.0",
            "_view_count": null,
            "_view_module_version": "1.2.0",
            "bar_color": null,
            "_model_module": "@jupyter-widgets/controls"
          }
        },
        "c677d8b1b28045c0a73670ebb9f946c5": {
          "model_module": "@jupyter-widgets/base",
          "model_name": "LayoutModel",
          "state": {
            "_view_name": "LayoutView",
            "grid_template_rows": null,
            "right": null,
            "justify_content": null,
            "_view_module": "@jupyter-widgets/base",
            "overflow": null,
            "_model_module_version": "1.2.0",
            "_view_count": null,
            "flex_flow": null,
            "width": null,
            "min_width": null,
            "border": null,
            "align_items": null,
            "bottom": null,
            "_model_module": "@jupyter-widgets/base",
            "top": null,
            "grid_column": null,
            "overflow_y": null,
            "overflow_x": null,
            "grid_auto_flow": null,
            "grid_area": null,
            "grid_template_columns": null,
            "flex": null,
            "_model_name": "LayoutModel",
            "justify_items": null,
            "grid_row": null,
            "max_height": null,
            "align_content": null,
            "visibility": null,
            "align_self": null,
            "height": null,
            "min_height": null,
            "padding": null,
            "grid_auto_rows": null,
            "grid_gap": null,
            "max_width": null,
            "order": null,
            "_view_module_version": "1.2.0",
            "grid_template_areas": null,
            "object_position": null,
            "object_fit": null,
            "grid_auto_columns": null,
            "margin": null,
            "display": null,
            "left": null
          }
        },
        "1a07031bc5eb40ea8fccd9ac47a8aba3": {
          "model_module": "@jupyter-widgets/controls",
          "model_name": "DescriptionStyleModel",
          "state": {
            "_view_name": "StyleView",
            "_model_name": "DescriptionStyleModel",
            "description_width": "",
            "_view_module": "@jupyter-widgets/base",
            "_model_module_version": "1.5.0",
            "_view_count": null,
            "_view_module_version": "1.2.0",
            "_model_module": "@jupyter-widgets/controls"
          }
        },
        "6f2f9e17b1ad4287b192ef933dd0afdf": {
          "model_module": "@jupyter-widgets/base",
          "model_name": "LayoutModel",
          "state": {
            "_view_name": "LayoutView",
            "grid_template_rows": null,
            "right": null,
            "justify_content": null,
            "_view_module": "@jupyter-widgets/base",
            "overflow": null,
            "_model_module_version": "1.2.0",
            "_view_count": null,
            "flex_flow": null,
            "width": null,
            "min_width": null,
            "border": null,
            "align_items": null,
            "bottom": null,
            "_model_module": "@jupyter-widgets/base",
            "top": null,
            "grid_column": null,
            "overflow_y": null,
            "overflow_x": null,
            "grid_auto_flow": null,
            "grid_area": null,
            "grid_template_columns": null,
            "flex": null,
            "_model_name": "LayoutModel",
            "justify_items": null,
            "grid_row": null,
            "max_height": null,
            "align_content": null,
            "visibility": null,
            "align_self": null,
            "height": null,
            "min_height": null,
            "padding": null,
            "grid_auto_rows": null,
            "grid_gap": null,
            "max_width": null,
            "order": null,
            "_view_module_version": "1.2.0",
            "grid_template_areas": null,
            "object_position": null,
            "object_fit": null,
            "grid_auto_columns": null,
            "margin": null,
            "display": null,
            "left": null
          }
        },
        "e034c7315cfb4129b19f99718f160b4a": {
          "model_module": "@jupyter-widgets/controls",
          "model_name": "HBoxModel",
          "state": {
            "_view_name": "HBoxView",
            "_dom_classes": [],
            "_model_name": "HBoxModel",
            "_view_module": "@jupyter-widgets/controls",
            "_model_module_version": "1.5.0",
            "_view_count": null,
            "_view_module_version": "1.5.0",
            "box_style": "",
            "layout": "IPY_MODEL_bf02e5f29ad24282abc615fc91b2d6f2",
            "_model_module": "@jupyter-widgets/controls",
            "children": [
              "IPY_MODEL_148f3cc9e1c34b518ecd226ac29c83d7",
              "IPY_MODEL_e45e212e1d29420db0b69d81edc8c827"
            ]
          }
        },
        "bf02e5f29ad24282abc615fc91b2d6f2": {
          "model_module": "@jupyter-widgets/base",
          "model_name": "LayoutModel",
          "state": {
            "_view_name": "LayoutView",
            "grid_template_rows": null,
            "right": null,
            "justify_content": null,
            "_view_module": "@jupyter-widgets/base",
            "overflow": null,
            "_model_module_version": "1.2.0",
            "_view_count": null,
            "flex_flow": null,
            "width": null,
            "min_width": null,
            "border": null,
            "align_items": null,
            "bottom": null,
            "_model_module": "@jupyter-widgets/base",
            "top": null,
            "grid_column": null,
            "overflow_y": null,
            "overflow_x": null,
            "grid_auto_flow": null,
            "grid_area": null,
            "grid_template_columns": null,
            "flex": null,
            "_model_name": "LayoutModel",
            "justify_items": null,
            "grid_row": null,
            "max_height": null,
            "align_content": null,
            "visibility": null,
            "align_self": null,
            "height": null,
            "min_height": null,
            "padding": null,
            "grid_auto_rows": null,
            "grid_gap": null,
            "max_width": null,
            "order": null,
            "_view_module_version": "1.2.0",
            "grid_template_areas": null,
            "object_position": null,
            "object_fit": null,
            "grid_auto_columns": null,
            "margin": null,
            "display": null,
            "left": null
          }
        },
        "148f3cc9e1c34b518ecd226ac29c83d7": {
          "model_module": "@jupyter-widgets/controls",
          "model_name": "FloatProgressModel",
          "state": {
            "_view_name": "ProgressView",
            "style": "IPY_MODEL_9df52048ac3a458fa4ab6f73c6698226",
            "_dom_classes": [],
            "description": "100%",
            "_model_name": "FloatProgressModel",
            "bar_style": "success",
            "max": 4,
            "_view_module": "@jupyter-widgets/controls",
            "_model_module_version": "1.5.0",
            "value": 4,
            "_view_count": null,
            "_view_module_version": "1.5.0",
            "orientation": "horizontal",
            "min": 0,
            "description_tooltip": null,
            "_model_module": "@jupyter-widgets/controls",
            "layout": "IPY_MODEL_5e5b07842465469db93e572a769ab8fd"
          }
        },
        "e45e212e1d29420db0b69d81edc8c827": {
          "model_module": "@jupyter-widgets/controls",
          "model_name": "HTMLModel",
          "state": {
            "_view_name": "HTMLView",
            "style": "IPY_MODEL_bcb9e17e3d024950bf76488e2066653b",
            "_dom_classes": [],
            "description": "",
            "_model_name": "HTMLModel",
            "placeholder": "​",
            "_view_module": "@jupyter-widgets/controls",
            "_model_module_version": "1.5.0",
            "value": " 4/4 [08:54&lt;00:00, 133.57s/ex]",
            "_view_count": null,
            "_view_module_version": "1.5.0",
            "description_tooltip": null,
            "_model_module": "@jupyter-widgets/controls",
            "layout": "IPY_MODEL_9defc0e5eba645f496398d527efb5e97"
          }
        },
        "9df52048ac3a458fa4ab6f73c6698226": {
          "model_module": "@jupyter-widgets/controls",
          "model_name": "ProgressStyleModel",
          "state": {
            "_view_name": "StyleView",
            "_model_name": "ProgressStyleModel",
            "description_width": "initial",
            "_view_module": "@jupyter-widgets/base",
            "_model_module_version": "1.5.0",
            "_view_count": null,
            "_view_module_version": "1.2.0",
            "bar_color": null,
            "_model_module": "@jupyter-widgets/controls"
          }
        },
        "5e5b07842465469db93e572a769ab8fd": {
          "model_module": "@jupyter-widgets/base",
          "model_name": "LayoutModel",
          "state": {
            "_view_name": "LayoutView",
            "grid_template_rows": null,
            "right": null,
            "justify_content": null,
            "_view_module": "@jupyter-widgets/base",
            "overflow": null,
            "_model_module_version": "1.2.0",
            "_view_count": null,
            "flex_flow": null,
            "width": null,
            "min_width": null,
            "border": null,
            "align_items": null,
            "bottom": null,
            "_model_module": "@jupyter-widgets/base",
            "top": null,
            "grid_column": null,
            "overflow_y": null,
            "overflow_x": null,
            "grid_auto_flow": null,
            "grid_area": null,
            "grid_template_columns": null,
            "flex": null,
            "_model_name": "LayoutModel",
            "justify_items": null,
            "grid_row": null,
            "max_height": null,
            "align_content": null,
            "visibility": null,
            "align_self": null,
            "height": null,
            "min_height": null,
            "padding": null,
            "grid_auto_rows": null,
            "grid_gap": null,
            "max_width": null,
            "order": null,
            "_view_module_version": "1.2.0",
            "grid_template_areas": null,
            "object_position": null,
            "object_fit": null,
            "grid_auto_columns": null,
            "margin": null,
            "display": null,
            "left": null
          }
        },
        "bcb9e17e3d024950bf76488e2066653b": {
          "model_module": "@jupyter-widgets/controls",
          "model_name": "DescriptionStyleModel",
          "state": {
            "_view_name": "StyleView",
            "_model_name": "DescriptionStyleModel",
            "description_width": "",
            "_view_module": "@jupyter-widgets/base",
            "_model_module_version": "1.5.0",
            "_view_count": null,
            "_view_module_version": "1.2.0",
            "_model_module": "@jupyter-widgets/controls"
          }
        },
        "9defc0e5eba645f496398d527efb5e97": {
          "model_module": "@jupyter-widgets/base",
          "model_name": "LayoutModel",
          "state": {
            "_view_name": "LayoutView",
            "grid_template_rows": null,
            "right": null,
            "justify_content": null,
            "_view_module": "@jupyter-widgets/base",
            "overflow": null,
            "_model_module_version": "1.2.0",
            "_view_count": null,
            "flex_flow": null,
            "width": null,
            "min_width": null,
            "border": null,
            "align_items": null,
            "bottom": null,
            "_model_module": "@jupyter-widgets/base",
            "top": null,
            "grid_column": null,
            "overflow_y": null,
            "overflow_x": null,
            "grid_auto_flow": null,
            "grid_area": null,
            "grid_template_columns": null,
            "flex": null,
            "_model_name": "LayoutModel",
            "justify_items": null,
            "grid_row": null,
            "max_height": null,
            "align_content": null,
            "visibility": null,
            "align_self": null,
            "height": null,
            "min_height": null,
            "padding": null,
            "grid_auto_rows": null,
            "grid_gap": null,
            "max_width": null,
            "order": null,
            "_view_module_version": "1.2.0",
            "grid_template_areas": null,
            "object_position": null,
            "object_fit": null,
            "grid_auto_columns": null,
            "margin": null,
            "display": null,
            "left": null
          }
        },
        "3c564e01a93544ccb2202aa011b4c45c": {
          "model_module": "@jupyter-widgets/controls",
          "model_name": "HBoxModel",
          "state": {
            "_view_name": "HBoxView",
            "_dom_classes": [],
            "_model_name": "HBoxModel",
            "_view_module": "@jupyter-widgets/controls",
            "_model_module_version": "1.5.0",
            "_view_count": null,
            "_view_module_version": "1.5.0",
            "box_style": "",
            "layout": "IPY_MODEL_95fe70135cde41c8a34a7ad5e88d2a3c",
            "_model_module": "@jupyter-widgets/controls",
            "children": [
              "IPY_MODEL_b72668d06cf644058250b7d59c16d257",
              "IPY_MODEL_695915592039495d9b19305f94a32a4f"
            ]
          }
        },
        "95fe70135cde41c8a34a7ad5e88d2a3c": {
          "model_module": "@jupyter-widgets/base",
          "model_name": "LayoutModel",
          "state": {
            "_view_name": "LayoutView",
            "grid_template_rows": null,
            "right": null,
            "justify_content": null,
            "_view_module": "@jupyter-widgets/base",
            "overflow": null,
            "_model_module_version": "1.2.0",
            "_view_count": null,
            "flex_flow": null,
            "width": null,
            "min_width": null,
            "border": null,
            "align_items": null,
            "bottom": null,
            "_model_module": "@jupyter-widgets/base",
            "top": null,
            "grid_column": null,
            "overflow_y": null,
            "overflow_x": null,
            "grid_auto_flow": null,
            "grid_area": null,
            "grid_template_columns": null,
            "flex": null,
            "_model_name": "LayoutModel",
            "justify_items": null,
            "grid_row": null,
            "max_height": null,
            "align_content": null,
            "visibility": null,
            "align_self": null,
            "height": null,
            "min_height": null,
            "padding": null,
            "grid_auto_rows": null,
            "grid_gap": null,
            "max_width": null,
            "order": null,
            "_view_module_version": "1.2.0",
            "grid_template_areas": null,
            "object_position": null,
            "object_fit": null,
            "grid_auto_columns": null,
            "margin": null,
            "display": null,
            "left": null
          }
        },
        "b72668d06cf644058250b7d59c16d257": {
          "model_module": "@jupyter-widgets/controls",
          "model_name": "FloatProgressModel",
          "state": {
            "_view_name": "ProgressView",
            "style": "IPY_MODEL_4a18086b9ee2452fa5ff2d40daf9be00",
            "_dom_classes": [],
            "description": "100%",
            "_model_name": "FloatProgressModel",
            "bar_style": "success",
            "max": 6,
            "_view_module": "@jupyter-widgets/controls",
            "_model_module_version": "1.5.0",
            "value": 6,
            "_view_count": null,
            "_view_module_version": "1.5.0",
            "orientation": "horizontal",
            "min": 0,
            "description_tooltip": null,
            "_model_module": "@jupyter-widgets/controls",
            "layout": "IPY_MODEL_fce3345f740949b2aaf4f5c9b7c0adf8"
          }
        },
        "695915592039495d9b19305f94a32a4f": {
          "model_module": "@jupyter-widgets/controls",
          "model_name": "HTMLModel",
          "state": {
            "_view_name": "HTMLView",
            "style": "IPY_MODEL_c3eda10aed3246c7af40a4f7e6ebd7c3",
            "_dom_classes": [],
            "description": "",
            "_model_name": "HTMLModel",
            "placeholder": "​",
            "_view_module": "@jupyter-widgets/controls",
            "_model_module_version": "1.5.0",
            "value": " 6/6 [13:58&lt;00:00, 139.83s/ex]",
            "_view_count": null,
            "_view_module_version": "1.5.0",
            "description_tooltip": null,
            "_model_module": "@jupyter-widgets/controls",
            "layout": "IPY_MODEL_f889991b98174c05b60e2ee4414485de"
          }
        },
        "4a18086b9ee2452fa5ff2d40daf9be00": {
          "model_module": "@jupyter-widgets/controls",
          "model_name": "ProgressStyleModel",
          "state": {
            "_view_name": "StyleView",
            "_model_name": "ProgressStyleModel",
            "description_width": "initial",
            "_view_module": "@jupyter-widgets/base",
            "_model_module_version": "1.5.0",
            "_view_count": null,
            "_view_module_version": "1.2.0",
            "bar_color": null,
            "_model_module": "@jupyter-widgets/controls"
          }
        },
        "fce3345f740949b2aaf4f5c9b7c0adf8": {
          "model_module": "@jupyter-widgets/base",
          "model_name": "LayoutModel",
          "state": {
            "_view_name": "LayoutView",
            "grid_template_rows": null,
            "right": null,
            "justify_content": null,
            "_view_module": "@jupyter-widgets/base",
            "overflow": null,
            "_model_module_version": "1.2.0",
            "_view_count": null,
            "flex_flow": null,
            "width": null,
            "min_width": null,
            "border": null,
            "align_items": null,
            "bottom": null,
            "_model_module": "@jupyter-widgets/base",
            "top": null,
            "grid_column": null,
            "overflow_y": null,
            "overflow_x": null,
            "grid_auto_flow": null,
            "grid_area": null,
            "grid_template_columns": null,
            "flex": null,
            "_model_name": "LayoutModel",
            "justify_items": null,
            "grid_row": null,
            "max_height": null,
            "align_content": null,
            "visibility": null,
            "align_self": null,
            "height": null,
            "min_height": null,
            "padding": null,
            "grid_auto_rows": null,
            "grid_gap": null,
            "max_width": null,
            "order": null,
            "_view_module_version": "1.2.0",
            "grid_template_areas": null,
            "object_position": null,
            "object_fit": null,
            "grid_auto_columns": null,
            "margin": null,
            "display": null,
            "left": null
          }
        },
        "c3eda10aed3246c7af40a4f7e6ebd7c3": {
          "model_module": "@jupyter-widgets/controls",
          "model_name": "DescriptionStyleModel",
          "state": {
            "_view_name": "StyleView",
            "_model_name": "DescriptionStyleModel",
            "description_width": "",
            "_view_module": "@jupyter-widgets/base",
            "_model_module_version": "1.5.0",
            "_view_count": null,
            "_view_module_version": "1.2.0",
            "_model_module": "@jupyter-widgets/controls"
          }
        },
        "f889991b98174c05b60e2ee4414485de": {
          "model_module": "@jupyter-widgets/base",
          "model_name": "LayoutModel",
          "state": {
            "_view_name": "LayoutView",
            "grid_template_rows": null,
            "right": null,
            "justify_content": null,
            "_view_module": "@jupyter-widgets/base",
            "overflow": null,
            "_model_module_version": "1.2.0",
            "_view_count": null,
            "flex_flow": null,
            "width": null,
            "min_width": null,
            "border": null,
            "align_items": null,
            "bottom": null,
            "_model_module": "@jupyter-widgets/base",
            "top": null,
            "grid_column": null,
            "overflow_y": null,
            "overflow_x": null,
            "grid_auto_flow": null,
            "grid_area": null,
            "grid_template_columns": null,
            "flex": null,
            "_model_name": "LayoutModel",
            "justify_items": null,
            "grid_row": null,
            "max_height": null,
            "align_content": null,
            "visibility": null,
            "align_self": null,
            "height": null,
            "min_height": null,
            "padding": null,
            "grid_auto_rows": null,
            "grid_gap": null,
            "max_width": null,
            "order": null,
            "_view_module_version": "1.2.0",
            "grid_template_areas": null,
            "object_position": null,
            "object_fit": null,
            "grid_auto_columns": null,
            "margin": null,
            "display": null,
            "left": null
          }
        }
      }
    }
  },
  "cells": [
    {
      "cell_type": "code",
      "metadata": {
        "colab": {
          "base_uri": "https://localhost:8080/"
        },
        "id": "YxFoaepf0MmL",
        "outputId": "2c2c3053-1dc3-498d-cce7-1f7c96273c3f"
      },
      "source": [
        "!pip install -U sentence-transformers\n",
        "!pip3 install datasets\n",
        "!pip3 install rouge_score\n",
        "!pip3 install git+https://github.com/huggingface/transformers\n",
        "!pip3 install sentencepiece"
      ],
      "execution_count": null,
      "outputs": [
        {
          "output_type": "stream",
          "text": [
            "Collecting sentence-transformers\n",
            "\u001b[?25l  Downloading https://files.pythonhosted.org/packages/cc/75/df441011cd1726822b70fbff50042adb4860e9327b99b346154ead704c44/sentence-transformers-1.2.0.tar.gz (81kB)\n",
            "\u001b[K     |████████████████████████████████| 81kB 4.0MB/s \n",
            "\u001b[?25hCollecting transformers<5.0.0,>=3.1.0\n",
            "\u001b[?25l  Downloading https://files.pythonhosted.org/packages/d5/43/cfe4ee779bbd6a678ac6a97c5a5cdeb03c35f9eaebbb9720b036680f9a2d/transformers-4.6.1-py3-none-any.whl (2.2MB)\n",
            "\u001b[K     |████████████████████████████████| 2.3MB 7.2MB/s \n",
            "\u001b[?25hRequirement already satisfied, skipping upgrade: tqdm in /usr/local/lib/python3.7/dist-packages (from sentence-transformers) (4.41.1)\n",
            "Requirement already satisfied, skipping upgrade: torch>=1.6.0 in /usr/local/lib/python3.7/dist-packages (from sentence-transformers) (1.8.1+cu101)\n",
            "Requirement already satisfied, skipping upgrade: torchvision in /usr/local/lib/python3.7/dist-packages (from sentence-transformers) (0.9.1+cu101)\n",
            "Requirement already satisfied, skipping upgrade: numpy in /usr/local/lib/python3.7/dist-packages (from sentence-transformers) (1.19.5)\n",
            "Requirement already satisfied, skipping upgrade: scikit-learn in /usr/local/lib/python3.7/dist-packages (from sentence-transformers) (0.22.2.post1)\n",
            "Requirement already satisfied, skipping upgrade: scipy in /usr/local/lib/python3.7/dist-packages (from sentence-transformers) (1.4.1)\n",
            "Requirement already satisfied, skipping upgrade: nltk in /usr/local/lib/python3.7/dist-packages (from sentence-transformers) (3.2.5)\n",
            "Collecting sentencepiece\n",
            "\u001b[?25l  Downloading https://files.pythonhosted.org/packages/f5/99/e0808cb947ba10f575839c43e8fafc9cc44e4a7a2c8f79c60db48220a577/sentencepiece-0.1.95-cp37-cp37m-manylinux2014_x86_64.whl (1.2MB)\n",
            "\u001b[K     |████████████████████████████████| 1.2MB 26.6MB/s \n",
            "\u001b[?25hCollecting tokenizers<0.11,>=0.10.1\n",
            "\u001b[?25l  Downloading https://files.pythonhosted.org/packages/d4/e2/df3543e8ffdab68f5acc73f613de9c2b155ac47f162e725dcac87c521c11/tokenizers-0.10.3-cp37-cp37m-manylinux_2_5_x86_64.manylinux1_x86_64.manylinux_2_12_x86_64.manylinux2010_x86_64.whl (3.3MB)\n",
            "\u001b[K     |████████████████████████████████| 3.3MB 40.8MB/s \n",
            "\u001b[?25hCollecting sacremoses\n",
            "\u001b[?25l  Downloading https://files.pythonhosted.org/packages/75/ee/67241dc87f266093c533a2d4d3d69438e57d7a90abb216fa076e7d475d4a/sacremoses-0.0.45-py3-none-any.whl (895kB)\n",
            "\u001b[K     |████████████████████████████████| 901kB 40.6MB/s \n",
            "\u001b[?25hRequirement already satisfied, skipping upgrade: regex!=2019.12.17 in /usr/local/lib/python3.7/dist-packages (from transformers<5.0.0,>=3.1.0->sentence-transformers) (2019.12.20)\n",
            "Requirement already satisfied, skipping upgrade: requests in /usr/local/lib/python3.7/dist-packages (from transformers<5.0.0,>=3.1.0->sentence-transformers) (2.23.0)\n",
            "Requirement already satisfied, skipping upgrade: importlib-metadata; python_version < \"3.8\" in /usr/local/lib/python3.7/dist-packages (from transformers<5.0.0,>=3.1.0->sentence-transformers) (4.5.0)\n",
            "Requirement already satisfied, skipping upgrade: filelock in /usr/local/lib/python3.7/dist-packages (from transformers<5.0.0,>=3.1.0->sentence-transformers) (3.0.12)\n",
            "Requirement already satisfied, skipping upgrade: packaging in /usr/local/lib/python3.7/dist-packages (from transformers<5.0.0,>=3.1.0->sentence-transformers) (20.9)\n",
            "Collecting huggingface-hub==0.0.8\n",
            "  Downloading https://files.pythonhosted.org/packages/a1/88/7b1e45720ecf59c6c6737ff332f41c955963090a18e72acbcbeac6b25e86/huggingface_hub-0.0.8-py3-none-any.whl\n",
            "Requirement already satisfied, skipping upgrade: typing-extensions in /usr/local/lib/python3.7/dist-packages (from torch>=1.6.0->sentence-transformers) (3.7.4.3)\n",
            "Requirement already satisfied, skipping upgrade: pillow>=4.1.1 in /usr/local/lib/python3.7/dist-packages (from torchvision->sentence-transformers) (7.1.2)\n",
            "Requirement already satisfied, skipping upgrade: joblib>=0.11 in /usr/local/lib/python3.7/dist-packages (from scikit-learn->sentence-transformers) (1.0.1)\n",
            "Requirement already satisfied, skipping upgrade: six in /usr/local/lib/python3.7/dist-packages (from nltk->sentence-transformers) (1.15.0)\n",
            "Requirement already satisfied, skipping upgrade: click in /usr/local/lib/python3.7/dist-packages (from sacremoses->transformers<5.0.0,>=3.1.0->sentence-transformers) (7.1.2)\n",
            "Requirement already satisfied, skipping upgrade: urllib3!=1.25.0,!=1.25.1,<1.26,>=1.21.1 in /usr/local/lib/python3.7/dist-packages (from requests->transformers<5.0.0,>=3.1.0->sentence-transformers) (1.24.3)\n",
            "Requirement already satisfied, skipping upgrade: certifi>=2017.4.17 in /usr/local/lib/python3.7/dist-packages (from requests->transformers<5.0.0,>=3.1.0->sentence-transformers) (2021.5.30)\n",
            "Requirement already satisfied, skipping upgrade: chardet<4,>=3.0.2 in /usr/local/lib/python3.7/dist-packages (from requests->transformers<5.0.0,>=3.1.0->sentence-transformers) (3.0.4)\n",
            "Requirement already satisfied, skipping upgrade: idna<3,>=2.5 in /usr/local/lib/python3.7/dist-packages (from requests->transformers<5.0.0,>=3.1.0->sentence-transformers) (2.10)\n",
            "Requirement already satisfied, skipping upgrade: zipp>=0.5 in /usr/local/lib/python3.7/dist-packages (from importlib-metadata; python_version < \"3.8\"->transformers<5.0.0,>=3.1.0->sentence-transformers) (3.4.1)\n",
            "Requirement already satisfied, skipping upgrade: pyparsing>=2.0.2 in /usr/local/lib/python3.7/dist-packages (from packaging->transformers<5.0.0,>=3.1.0->sentence-transformers) (2.4.7)\n",
            "Building wheels for collected packages: sentence-transformers\n",
            "  Building wheel for sentence-transformers (setup.py) ... \u001b[?25l\u001b[?25hdone\n",
            "  Created wheel for sentence-transformers: filename=sentence_transformers-1.2.0-cp37-none-any.whl size=123339 sha256=81a4540bf27cd386a1300132d15fa456a08551ce204f1ac3621db46efeaaa0d8\n",
            "  Stored in directory: /root/.cache/pip/wheels/0f/06/f7/faaa96fdda87462b4fd5c47b343340e9d5531ef70d0eef8242\n",
            "Successfully built sentence-transformers\n",
            "Installing collected packages: tokenizers, sacremoses, huggingface-hub, transformers, sentencepiece, sentence-transformers\n",
            "Successfully installed huggingface-hub-0.0.8 sacremoses-0.0.45 sentence-transformers-1.2.0 sentencepiece-0.1.95 tokenizers-0.10.3 transformers-4.6.1\n",
            "Collecting datasets\n",
            "\u001b[?25l  Downloading https://files.pythonhosted.org/packages/08/a2/d4e1024c891506e1cee8f9d719d20831bac31cb5b7416983c4d2f65a6287/datasets-1.8.0-py3-none-any.whl (237kB)\n",
            "\u001b[K     |████████████████████████████████| 245kB 6.7MB/s \n",
            "\u001b[?25hRequirement already satisfied: huggingface-hub<0.1.0 in /usr/local/lib/python3.7/dist-packages (from datasets) (0.0.8)\n",
            "Requirement already satisfied: multiprocess in /usr/local/lib/python3.7/dist-packages (from datasets) (0.70.11.1)\n",
            "Requirement already satisfied: pyarrow<4.0.0,>=1.0.0 in /usr/local/lib/python3.7/dist-packages (from datasets) (3.0.0)\n",
            "Requirement already satisfied: importlib-metadata; python_version < \"3.8\" in /usr/local/lib/python3.7/dist-packages (from datasets) (4.5.0)\n",
            "Requirement already satisfied: packaging in /usr/local/lib/python3.7/dist-packages (from datasets) (20.9)\n",
            "Collecting xxhash\n",
            "\u001b[?25l  Downloading https://files.pythonhosted.org/packages/7d/4f/0a862cad26aa2ed7a7cd87178cbbfa824fc1383e472d63596a0d018374e7/xxhash-2.0.2-cp37-cp37m-manylinux2010_x86_64.whl (243kB)\n",
            "\u001b[K     |████████████████████████████████| 245kB 34.9MB/s \n",
            "\u001b[?25hRequirement already satisfied: tqdm<4.50.0,>=4.27 in /usr/local/lib/python3.7/dist-packages (from datasets) (4.41.1)\n",
            "Requirement already satisfied: numpy>=1.17 in /usr/local/lib/python3.7/dist-packages (from datasets) (1.19.5)\n",
            "Collecting fsspec\n",
            "\u001b[?25l  Downloading https://files.pythonhosted.org/packages/8e/d2/d05466997f7751a2c06a7a416b7d1f131d765f7916698d3fdcb3a4d037e5/fsspec-2021.6.0-py3-none-any.whl (114kB)\n",
            "\u001b[K     |████████████████████████████████| 122kB 30.1MB/s \n",
            "\u001b[?25hRequirement already satisfied: requests>=2.19.0 in /usr/local/lib/python3.7/dist-packages (from datasets) (2.23.0)\n",
            "Requirement already satisfied: pandas in /usr/local/lib/python3.7/dist-packages (from datasets) (1.1.5)\n",
            "Requirement already satisfied: dill in /usr/local/lib/python3.7/dist-packages (from datasets) (0.3.3)\n",
            "Requirement already satisfied: filelock in /usr/local/lib/python3.7/dist-packages (from huggingface-hub<0.1.0->datasets) (3.0.12)\n",
            "Requirement already satisfied: typing-extensions>=3.6.4; python_version < \"3.8\" in /usr/local/lib/python3.7/dist-packages (from importlib-metadata; python_version < \"3.8\"->datasets) (3.7.4.3)\n",
            "Requirement already satisfied: zipp>=0.5 in /usr/local/lib/python3.7/dist-packages (from importlib-metadata; python_version < \"3.8\"->datasets) (3.4.1)\n",
            "Requirement already satisfied: pyparsing>=2.0.2 in /usr/local/lib/python3.7/dist-packages (from packaging->datasets) (2.4.7)\n",
            "Requirement already satisfied: chardet<4,>=3.0.2 in /usr/local/lib/python3.7/dist-packages (from requests>=2.19.0->datasets) (3.0.4)\n",
            "Requirement already satisfied: idna<3,>=2.5 in /usr/local/lib/python3.7/dist-packages (from requests>=2.19.0->datasets) (2.10)\n",
            "Requirement already satisfied: urllib3!=1.25.0,!=1.25.1,<1.26,>=1.21.1 in /usr/local/lib/python3.7/dist-packages (from requests>=2.19.0->datasets) (1.24.3)\n",
            "Requirement already satisfied: certifi>=2017.4.17 in /usr/local/lib/python3.7/dist-packages (from requests>=2.19.0->datasets) (2021.5.30)\n",
            "Requirement already satisfied: pytz>=2017.2 in /usr/local/lib/python3.7/dist-packages (from pandas->datasets) (2018.9)\n",
            "Requirement already satisfied: python-dateutil>=2.7.3 in /usr/local/lib/python3.7/dist-packages (from pandas->datasets) (2.8.1)\n",
            "Requirement already satisfied: six>=1.5 in /usr/local/lib/python3.7/dist-packages (from python-dateutil>=2.7.3->pandas->datasets) (1.15.0)\n",
            "Installing collected packages: xxhash, fsspec, datasets\n",
            "Successfully installed datasets-1.8.0 fsspec-2021.6.0 xxhash-2.0.2\n",
            "Collecting rouge_score\n",
            "  Downloading https://files.pythonhosted.org/packages/1f/56/a81022436c08b9405a5247b71635394d44fe7e1dbedc4b28c740e09c2840/rouge_score-0.0.4-py2.py3-none-any.whl\n",
            "Requirement already satisfied: absl-py in /usr/local/lib/python3.7/dist-packages (from rouge_score) (0.12.0)\n",
            "Requirement already satisfied: six>=1.14.0 in /usr/local/lib/python3.7/dist-packages (from rouge_score) (1.15.0)\n",
            "Requirement already satisfied: nltk in /usr/local/lib/python3.7/dist-packages (from rouge_score) (3.2.5)\n",
            "Requirement already satisfied: numpy in /usr/local/lib/python3.7/dist-packages (from rouge_score) (1.19.5)\n",
            "Installing collected packages: rouge-score\n",
            "Successfully installed rouge-score-0.0.4\n",
            "Collecting git+https://github.com/huggingface/transformers\n",
            "  Cloning https://github.com/huggingface/transformers to /tmp/pip-req-build-s82ia3qz\n",
            "  Running command git clone -q https://github.com/huggingface/transformers /tmp/pip-req-build-s82ia3qz\n",
            "  Installing build dependencies ... \u001b[?25l\u001b[?25hdone\n",
            "  Getting requirements to build wheel ... \u001b[?25l\u001b[?25hdone\n",
            "    Preparing wheel metadata ... \u001b[?25l\u001b[?25hdone\n",
            "Requirement already satisfied: packaging in /usr/local/lib/python3.7/dist-packages (from transformers==4.7.0.dev0) (20.9)\n",
            "Requirement already satisfied: regex!=2019.12.17 in /usr/local/lib/python3.7/dist-packages (from transformers==4.7.0.dev0) (2019.12.20)\n",
            "Requirement already satisfied: filelock in /usr/local/lib/python3.7/dist-packages (from transformers==4.7.0.dev0) (3.0.12)\n",
            "Requirement already satisfied: numpy>=1.17 in /usr/local/lib/python3.7/dist-packages (from transformers==4.7.0.dev0) (1.19.5)\n",
            "Requirement already satisfied: sacremoses in /usr/local/lib/python3.7/dist-packages (from transformers==4.7.0.dev0) (0.0.45)\n",
            "Requirement already satisfied: tqdm>=4.27 in /usr/local/lib/python3.7/dist-packages (from transformers==4.7.0.dev0) (4.41.1)\n",
            "Requirement already satisfied: tokenizers<0.11,>=0.10.1 in /usr/local/lib/python3.7/dist-packages (from transformers==4.7.0.dev0) (0.10.3)\n",
            "Requirement already satisfied: importlib-metadata; python_version < \"3.8\" in /usr/local/lib/python3.7/dist-packages (from transformers==4.7.0.dev0) (4.5.0)\n",
            "Requirement already satisfied: pyyaml in /usr/local/lib/python3.7/dist-packages (from transformers==4.7.0.dev0) (3.13)\n",
            "Requirement already satisfied: huggingface-hub==0.0.8 in /usr/local/lib/python3.7/dist-packages (from transformers==4.7.0.dev0) (0.0.8)\n",
            "Requirement already satisfied: requests in /usr/local/lib/python3.7/dist-packages (from transformers==4.7.0.dev0) (2.23.0)\n",
            "Requirement already satisfied: pyparsing>=2.0.2 in /usr/local/lib/python3.7/dist-packages (from packaging->transformers==4.7.0.dev0) (2.4.7)\n",
            "Requirement already satisfied: click in /usr/local/lib/python3.7/dist-packages (from sacremoses->transformers==4.7.0.dev0) (7.1.2)\n",
            "Requirement already satisfied: joblib in /usr/local/lib/python3.7/dist-packages (from sacremoses->transformers==4.7.0.dev0) (1.0.1)\n",
            "Requirement already satisfied: six in /usr/local/lib/python3.7/dist-packages (from sacremoses->transformers==4.7.0.dev0) (1.15.0)\n",
            "Requirement already satisfied: zipp>=0.5 in /usr/local/lib/python3.7/dist-packages (from importlib-metadata; python_version < \"3.8\"->transformers==4.7.0.dev0) (3.4.1)\n",
            "Requirement already satisfied: typing-extensions>=3.6.4; python_version < \"3.8\" in /usr/local/lib/python3.7/dist-packages (from importlib-metadata; python_version < \"3.8\"->transformers==4.7.0.dev0) (3.7.4.3)\n",
            "Requirement already satisfied: urllib3!=1.25.0,!=1.25.1,<1.26,>=1.21.1 in /usr/local/lib/python3.7/dist-packages (from requests->transformers==4.7.0.dev0) (1.24.3)\n",
            "Requirement already satisfied: chardet<4,>=3.0.2 in /usr/local/lib/python3.7/dist-packages (from requests->transformers==4.7.0.dev0) (3.0.4)\n",
            "Requirement already satisfied: idna<3,>=2.5 in /usr/local/lib/python3.7/dist-packages (from requests->transformers==4.7.0.dev0) (2.10)\n",
            "Requirement already satisfied: certifi>=2017.4.17 in /usr/local/lib/python3.7/dist-packages (from requests->transformers==4.7.0.dev0) (2021.5.30)\n",
            "Building wheels for collected packages: transformers\n",
            "  Building wheel for transformers (PEP 517) ... \u001b[?25l\u001b[?25hdone\n",
            "  Created wheel for transformers: filename=transformers-4.7.0.dev0-cp37-none-any.whl size=2472938 sha256=6aea926dddeab3f3a40792c2872dab37a90c7f1ff2e20fc4c64b50cdafd4b190\n",
            "  Stored in directory: /tmp/pip-ephem-wheel-cache-euu3t4ns/wheels/70/d3/52/b3fa4f8b8ef04167ac62e5bb2accb62ae764db2a378247490e\n",
            "Successfully built transformers\n",
            "Installing collected packages: transformers\n",
            "  Found existing installation: transformers 4.6.1\n",
            "    Uninstalling transformers-4.6.1:\n",
            "      Successfully uninstalled transformers-4.6.1\n",
            "Successfully installed transformers-4.7.0.dev0\n",
            "Requirement already satisfied: sentencepiece in /usr/local/lib/python3.7/dist-packages (0.1.95)\n"
          ],
          "name": "stdout"
        }
      ]
    },
    {
      "cell_type": "code",
      "metadata": {
        "colab": {
          "base_uri": "https://localhost:8080/"
        },
        "id": "uaQQL1sE0ZWU",
        "outputId": "c811801e-c7b8-4b95-f308-6c20bb8ed951"
      },
      "source": [
        "from google.colab import drive\n",
        "drive.mount('/content/drive')\n",
        "from google.colab import drive\n",
        "drive.mount('/content/drive')\n",
        "!cp \"/content/drive/My Drive/allclean/finalfulldata_sections.csv\" \"train.csv\"\n",
        "\n",
        "from datasets import load_dataset\n",
        "import pandas as pd\n",
        "train=pd.read_csv('/content/train.csv')\n",
        "train.shape"
      ],
      "execution_count": null,
      "outputs": [
        {
          "output_type": "stream",
          "text": [
            "Mounted at /content/drive\n",
            "Drive already mounted at /content/drive; to attempt to forcibly remount, call drive.mount(\"/content/drive\", force_remount=True).\n"
          ],
          "name": "stdout"
        },
        {
          "output_type": "execute_result",
          "data": {
            "text/plain": [
              "(10864, 9)"
            ]
          },
          "metadata": {
            "tags": []
          },
          "execution_count": 3
        }
      ]
    },
    {
      "cell_type": "code",
      "metadata": {
        "colab": {
          "base_uri": "https://localhost:8080/"
        },
        "id": "HI7Bh6jk0gry",
        "outputId": "32d49ba2-9bf8-4fea-9947-9915e74ce2a6"
      },
      "source": [
        "!cp \"/content/drive/My Drive/allclean/conditioned_data.csv\" \"train.csv\"\n",
        "from datasets import load_dataset\n",
        "import pandas as pd\n",
        "train=pd.read_csv('/content/train.csv')\n",
        "train.shape"
      ],
      "execution_count": null,
      "outputs": [
        {
          "output_type": "execute_result",
          "data": {
            "text/plain": [
              "(10589, 12)"
            ]
          },
          "metadata": {
            "tags": []
          },
          "execution_count": 62
        }
      ]
    },
    {
      "cell_type": "code",
      "metadata": {
        "colab": {
          "base_uri": "https://localhost:8080/"
        },
        "id": "glS3eGGK0vob",
        "outputId": "8409b25b-48f0-486e-e510-06ec5e8ef015"
      },
      "source": [
        "train.columns"
      ],
      "execution_count": null,
      "outputs": [
        {
          "output_type": "execute_result",
          "data": {
            "text/plain": [
              "Index(['Unnamed: 0', 'title', 'abstract', 'articles', 'wordcount_articles',\n",
              "       'wordcount_abstract', 'Result', 'Introduction', 'section_names',\n",
              "       'condition_wordcount', 'extractedsam', 'conditioned'],\n",
              "      dtype='object')"
            ]
          },
          "metadata": {
            "tags": []
          },
          "execution_count": 63
        }
      ]
    },
    {
      "cell_type": "code",
      "metadata": {
        "colab": {
          "base_uri": "https://localhost:8080/"
        },
        "id": "io2HW61W2MaF",
        "outputId": "9ee5c2e8-9a68-4622-de20-6c0920531c1c"
      },
      "source": [
        "train['conditioned'].head()"
      ],
      "execution_count": null,
      "outputs": [
        {
          "output_type": "execute_result",
          "data": {
            "text/plain": [
              "0    Introduction\\nCanine coronavirus  was first is...\n",
              "1    Introduction\\nT he 2 0  5 0  oligoadenylate sy...\n",
              "2    Introduction\\nThe major histocompatibility com...\n",
              "3    Introduction\\nThe Coronavirinae, which is subd...\n",
              "4    Introduction\\nCoronaviruses are positive stran...\n",
              "Name: conditioned, dtype: object"
            ]
          },
          "metadata": {
            "tags": []
          },
          "execution_count": 64
        }
      ]
    },
    {
      "cell_type": "code",
      "metadata": {
        "id": "QgslvxEd3HMt"
      },
      "source": [
        "train=train.reset_index(drop=True)"
      ],
      "execution_count": null,
      "outputs": []
    },
    {
      "cell_type": "code",
      "metadata": {
        "id": "QdZdtADU2mps"
      },
      "source": [
        "def get_wordcounts(x):\n",
        "    length = len(str(x).split())\n",
        "    return length"
      ],
      "execution_count": null,
      "outputs": []
    },
    {
      "cell_type": "code",
      "metadata": {
        "id": "DjrbOUHv6CX9"
      },
      "source": [
        "train_x=train[train['wordcount_articles']<4000]\n",
        "train_x=train_x[train_x['wordcount_articles']>2500]"
      ],
      "execution_count": null,
      "outputs": []
    },
    {
      "cell_type": "code",
      "metadata": {
        "colab": {
          "base_uri": "https://localhost:8080/"
        },
        "id": "k5rZ8W596KWd",
        "outputId": "2663a0cd-4d7d-44e1-c93e-2759352ca0c4"
      },
      "source": [
        "train_x.shape"
      ],
      "execution_count": null,
      "outputs": [
        {
          "output_type": "execute_result",
          "data": {
            "text/plain": [
              "(4904, 12)"
            ]
          },
          "metadata": {
            "tags": []
          },
          "execution_count": 79
        }
      ]
    },
    {
      "cell_type": "markdown",
      "metadata": {
        "id": "A7XIolGX6Y69"
      },
      "source": [
        ""
      ]
    },
    {
      "cell_type": "code",
      "metadata": {
        "id": "4z_CgBQ66ZW1"
      },
      "source": [
        "train_x=train_x.reset_index(drop=True)"
      ],
      "execution_count": null,
      "outputs": []
    },
    {
      "cell_type": "code",
      "metadata": {
        "id": "OhalCp1_6eC9"
      },
      "source": [
        ""
      ],
      "execution_count": null,
      "outputs": []
    },
    {
      "cell_type": "code",
      "metadata": {
        "colab": {
          "base_uri": "https://localhost:8080/"
        },
        "id": "UVNdcGQ42B7c",
        "outputId": "4bc77592-7f93-452c-f659-04c11e0b10fb"
      },
      "source": [
        "for i in range(len(train)):\n",
        "  x=train.iloc[i,3]\n",
        "  x=get_wordcounts(x)\n",
        "  if(x>4500):\n",
        "    print(i)\n",
        "    print(x)\n",
        "    break\n",
        "\n",
        "\n"
      ],
      "execution_count": null,
      "outputs": [
        {
          "output_type": "stream",
          "text": [
            "3\n",
            "4627\n"
          ],
          "name": "stdout"
        }
      ]
    },
    {
      "cell_type": "code",
      "metadata": {
        "id": "azdvSCgF3OtN"
      },
      "source": [
        "test1 = train.iloc[[3],:] "
      ],
      "execution_count": null,
      "outputs": []
    },
    {
      "cell_type": "code",
      "metadata": {
        "id": "tEdvgmvR4HAM"
      },
      "source": [
        "test_y=train[['articles', 'abstract']]\n",
        "test_x=train[['conditioned', 'abstract']]\n",
        "est_x.rename(columns = {'conditioned':'articles'}, inplace = True)"
      ],
      "execution_count": null,
      "outputs": []
    },
    {
      "cell_type": "code",
      "metadata": {
        "id": "62I-9Kn036HG"
      },
      "source": [
        "test_x=train[['conditioned', 'abstract']]"
      ],
      "execution_count": null,
      "outputs": []
    },
    {
      "cell_type": "code",
      "metadata": {
        "colab": {
          "base_uri": "https://localhost:8080/"
        },
        "id": "4vgPpuCg4EIN",
        "outputId": "563bc13a-ad80-4ddb-bcd0-3069a2eec32c"
      },
      "source": [
        "test_x.columns, test_y.columns"
      ],
      "execution_count": null,
      "outputs": [
        {
          "output_type": "execute_result",
          "data": {
            "text/plain": [
              "(Index(['articles', 'abstract'], dtype='object'),\n",
              " Index(['articles', 'abstract'], dtype='object'))"
            ]
          },
          "metadata": {
            "tags": []
          },
          "execution_count": 51
        }
      ]
    },
    {
      "cell_type": "code",
      "metadata": {
        "colab": {
          "base_uri": "https://localhost:8080/",
          "height": 110
        },
        "id": "iW5VUodt6l21",
        "outputId": "74638c06-0989-415b-feca-266d951d452a"
      },
      "source": [
        "test_x.head(2)"
      ],
      "execution_count": null,
      "outputs": [
        {
          "output_type": "execute_result",
          "data": {
            "text/html": [
              "<div>\n",
              "<style scoped>\n",
              "    .dataframe tbody tr th:only-of-type {\n",
              "        vertical-align: middle;\n",
              "    }\n",
              "\n",
              "    .dataframe tbody tr th {\n",
              "        vertical-align: top;\n",
              "    }\n",
              "\n",
              "    .dataframe thead th {\n",
              "        text-align: right;\n",
              "    }\n",
              "</style>\n",
              "<table border=\"1\" class=\"dataframe\">\n",
              "  <thead>\n",
              "    <tr style=\"text-align: right;\">\n",
              "      <th></th>\n",
              "      <th>articles</th>\n",
              "      <th>abstract</th>\n",
              "    </tr>\n",
              "  </thead>\n",
              "  <tbody>\n",
              "    <tr>\n",
              "      <th>0</th>\n",
              "      <td>Introduction\\nThe Coronavirinae, which is subd...</td>\n",
              "      <td>Abstract\\n\\nIt has been demonstrated that the ...</td>\n",
              "    </tr>\n",
              "    <tr>\n",
              "      <th>1</th>\n",
              "      <td>Introduction\\nCoronaviruses are positive stran...</td>\n",
              "      <td>Abstract\\n\\nThe human coronavirus NL63 is gene...</td>\n",
              "    </tr>\n",
              "  </tbody>\n",
              "</table>\n",
              "</div>"
            ],
            "text/plain": [
              "                                            articles                                           abstract\n",
              "0  Introduction\\nThe Coronavirinae, which is subd...  Abstract\\n\\nIt has been demonstrated that the ...\n",
              "1  Introduction\\nCoronaviruses are positive stran...  Abstract\\n\\nThe human coronavirus NL63 is gene..."
            ]
          },
          "metadata": {
            "tags": []
          },
          "execution_count": 52
        }
      ]
    },
    {
      "cell_type": "code",
      "metadata": {
        "colab": {
          "base_uri": "https://localhost:8080/"
        },
        "id": "7Rkz0E7f3vk-",
        "outputId": "98be02dd-7b52-4590-cf2e-c32cafaae625"
      },
      "source": [
        "test1['wordcount_articles']"
      ],
      "execution_count": null,
      "outputs": [
        {
          "output_type": "execute_result",
          "data": {
            "text/plain": [
              "3    4684\n",
              "Name: wordcount_articles, dtype: int64"
            ]
          },
          "metadata": {
            "tags": []
          },
          "execution_count": 27
        }
      ]
    },
    {
      "cell_type": "code",
      "metadata": {
        "colab": {
          "base_uri": "https://localhost:8080/",
          "height": 110
        },
        "id": "6D-_fHUG6pjt",
        "outputId": "2f4ad10c-e969-42b3-a0f3-64cab739f0de"
      },
      "source": [
        "test_y.head(2)"
      ],
      "execution_count": null,
      "outputs": [
        {
          "output_type": "execute_result",
          "data": {
            "text/html": [
              "<div>\n",
              "<style scoped>\n",
              "    .dataframe tbody tr th:only-of-type {\n",
              "        vertical-align: middle;\n",
              "    }\n",
              "\n",
              "    .dataframe tbody tr th {\n",
              "        vertical-align: top;\n",
              "    }\n",
              "\n",
              "    .dataframe thead th {\n",
              "        text-align: right;\n",
              "    }\n",
              "</style>\n",
              "<table border=\"1\" class=\"dataframe\">\n",
              "  <thead>\n",
              "    <tr style=\"text-align: right;\">\n",
              "      <th></th>\n",
              "      <th>articles</th>\n",
              "      <th>abstract</th>\n",
              "    </tr>\n",
              "  </thead>\n",
              "  <tbody>\n",
              "    <tr>\n",
              "      <th>0</th>\n",
              "      <td>Introduction  The Coronavirinae, which is subd...</td>\n",
              "      <td>Abstract\\n\\nIt has been demonstrated that the ...</td>\n",
              "    </tr>\n",
              "    <tr>\n",
              "      <th>1</th>\n",
              "      <td>Introduction  Coronaviruses are positive stran...</td>\n",
              "      <td>Abstract\\n\\nThe human coronavirus NL63 is gene...</td>\n",
              "    </tr>\n",
              "  </tbody>\n",
              "</table>\n",
              "</div>"
            ],
            "text/plain": [
              "                                            articles                                           abstract\n",
              "0  Introduction  The Coronavirinae, which is subd...  Abstract\\n\\nIt has been demonstrated that the ...\n",
              "1  Introduction  Coronaviruses are positive stran...  Abstract\\n\\nThe human coronavirus NL63 is gene..."
            ]
          },
          "metadata": {
            "tags": []
          },
          "execution_count": 53
        }
      ]
    },
    {
      "cell_type": "code",
      "metadata": {
        "colab": {
          "base_uri": "https://localhost:8080/"
        },
        "id": "V-jKKTpo4Vpj",
        "outputId": "2e569da4-6119-4098-f39f-8228130b84a8"
      },
      "source": [
        "test_x.rename(columns = {'conditioned':'articles'}, inplace = True)"
      ],
      "execution_count": null,
      "outputs": [
        {
          "output_type": "stream",
          "text": [
            "/usr/local/lib/python3.7/dist-packages/pandas/core/frame.py:4308: SettingWithCopyWarning: \n",
            "A value is trying to be set on a copy of a slice from a DataFrame\n",
            "\n",
            "See the caveats in the documentation: https://pandas.pydata.org/pandas-docs/stable/user_guide/indexing.html#returning-a-view-versus-a-copy\n",
            "  errors=errors,\n"
          ],
          "name": "stderr"
        }
      ]
    },
    {
      "cell_type": "code",
      "metadata": {
        "id": "2CFKOvMV0x2P"
      },
      "source": [
        "#val['articles'] = val['articles'].apply(lambda x: finalclean(x))\n",
        "test1['abstract'] = test1['abstract'].apply(lambda x: removeurls(x))\n",
        "#val['abstract'] = val['abstract'].apply(lambda x: removeurls(x))\n",
        "test1['abstract'] = test1['abstract'].apply(lambda x: removbrackets(x))\n",
        "#val['abstract'] = val['abstract'].apply(lambda x: removbrackets(x))\n",
        "test1['abstract'] = test1['abstract'].apply(lambda x: misc_clean(x))\n",
        "#val['abstract'] = val['abstract'].apply(lambda x: misc_clean(x))\n",
        "test1['abstract'] = test1['abstract'].apply(lambda x: finalclean(x))\n",
        "#val['abstract'] = val['abstract'].apply(lambda x: finalclean(x))\n",
        "test1['abstract'] = test1['abstract'].apply(lambda x: single(x))\n",
        "test1['abstract'] = test1['abstract'].apply(lambda x: removelines(x))"
      ],
      "execution_count": null,
      "outputs": []
    },
    {
      "cell_type": "code",
      "metadata": {
        "id": "zAUJk9R91jyN"
      },
      "source": [
        "from datasets import Dataset\n",
        "testx = Dataset.from_pandas(test_x)\n",
        "testy = Dataset.from_pandas(test_y)"
      ],
      "execution_count": null,
      "outputs": []
    },
    {
      "cell_type": "code",
      "metadata": {
        "id": "XOkXrTsm8ih_"
      },
      "source": [
        ""
      ],
      "execution_count": null,
      "outputs": []
    },
    {
      "cell_type": "code",
      "metadata": {
        "colab": {
          "base_uri": "https://localhost:8080/"
        },
        "id": "D6dwlEni1ri8",
        "outputId": "df4df181-e23a-4416-b11d-b6f55b1f40a0"
      },
      "source": [
        "% cd drive/My\\ Drive/"
      ],
      "execution_count": null,
      "outputs": [
        {
          "output_type": "stream",
          "text": [
            "/content/drive/My Drive\n"
          ],
          "name": "stdout"
        }
      ]
    },
    {
      "cell_type": "code",
      "metadata": {
        "id": "CaR6Y8CQuIsY"
      },
      "source": [
        ""
      ],
      "execution_count": null,
      "outputs": []
    },
    {
      "cell_type": "markdown",
      "metadata": {
        "id": "UytKO8pzuKKP"
      },
      "source": [
        "##Loading trained BIGBIRD standalone model"
      ]
    },
    {
      "cell_type": "code",
      "metadata": {
        "colab": {
          "base_uri": "https://localhost:8080/",
          "height": 261,
          "referenced_widgets": [
            "c18b159b7e5644918084c8a5b4f04ec7",
            "1b4952dc232d4a0ab993a47eb592300e",
            "2665b5766dd64cefabd14b64251d8193",
            "bba8cc2df12d4ae0b67df05b0b0d1ed6",
            "dbbf50aed81648a9a056fc39d09559d5",
            "e15c1b5be81e4cc4a05f22d61c736d85",
            "e2f68f164f9549dda813c98c0740f5e2",
            "0afac931880d4a05a391eb885d3733f0",
            "94ed667d8f0a4a3a8c613af9d7a7165c",
            "0eaf9806be574e088ff01466ae732852",
            "837057df7d7c4f5a8213879946333370",
            "63e85c69818b4b1ebf938ed0dc32a29e",
            "11a9cd26efbe40618b185228917f718a",
            "20690f7c52be40b9ae87427bb4274c4d",
            "420734370cf8480bb13cfa0b08e46b57",
            "d67e389e3f4a49e98f136c11c26baff7",
            "782180a3453f49e3b2c0a19529032a03",
            "572842f3592e4fae932505f07090e78b",
            "14b1852fb9c2499db496a651829c6f98",
            "ed6beeb2695249ec96c1771462eae09c",
            "7a8b1e74a23c4f6fa2c2c840ecf7803b",
            "9a338c2f009147218b0305cdec033b69",
            "3e4ae3dd51f343f19647582cc372e32a",
            "1fe351a5604a468cb21a05ceb42321f9",
            "be5fa3f4bf714b2ca3f649daa421b1c5",
            "7ca37f848cbb45429cfc12fe2b3742c4",
            "508d1df368194134a411378087715e62",
            "121c918d33f948509069b5c22bc47f56",
            "732de309c4e64fd6a494cf260ffca574",
            "9623ece987684212b91039b040d09a60",
            "9117ff19b5a444a0b3e7394e5d5fd283",
            "05ec665cdcf84ae584493a2c072677e4",
            "71650c8d8a984e438a645f04f007862f",
            "27fca1e3331340a4b02994268a7cb065",
            "d788a6ec39a44c289660bba3a0aa20f8",
            "06ee884381c949cca12e23a0de62b08c",
            "dd7b7cb47acb486785fa333fa2f90ef9",
            "f3610cc204d345e89b356029069c9ff9",
            "8ab8914ed1af4c13a4751f0e45568d3a",
            "7954c752edee48bcba81850a40edd7ec"
          ]
        },
        "id": "G1xWOKQH1mFF",
        "outputId": "f3f4b466-c528-46ce-eec1-cede95bbebe5"
      },
      "source": [
        "DATASET_NAME = \"pubmed\"\n",
        "device = \"cuda\"\n",
        "\n",
        "#MODEL_ID = f\"google/bigbird-pegasus-large-{DATASET_NAME}\"\n",
        "MODEL_ID = f\"BigBirdBeast\"\n",
        "from transformers import AutoTokenizer, AutoModelForMaskedLM\n",
        "  \n",
        "\n",
        "from transformers import EncoderDecoderModel, BigBirdModel, BigBirdForCausalLM, BigBirdTokenizer\n",
        "from transformers import Seq2SeqTrainingArguments, Seq2SeqTrainer\n",
        "#from transformers import PegasusTokenizer, BigBirdPegasusModel\n",
        "from transformers import BigBirdPegasusForConditionalGeneration, AutoTokenizer\n",
        "import torch\n",
        "model = BigBirdPegasusForConditionalGeneration.from_pretrained(MODEL_ID, gradient_checkpointing=True, use_cache=False).to(device)\n",
        "tokenizer = AutoTokenizer.from_pretrained(\"google/bigbird-pegasus-large-pubmed\",use_fast=False)\n",
        "#tokenizer = AutoTokenizer.from_pretrained(\"deepset/covid_bert_base\")"
      ],
      "execution_count": null,
      "outputs": [
        {
          "output_type": "display_data",
          "data": {
            "application/vnd.jupyter.widget-view+json": {
              "model_id": "c18b159b7e5644918084c8a5b4f04ec7",
              "version_minor": 0,
              "version_major": 2
            },
            "text/plain": [
              "HBox(children=(FloatProgress(value=0.0, description='Downloading', max=1053.0, style=ProgressStyle(description…"
            ]
          },
          "metadata": {
            "tags": []
          }
        },
        {
          "output_type": "stream",
          "text": [
            "\n"
          ],
          "name": "stdout"
        },
        {
          "output_type": "display_data",
          "data": {
            "application/vnd.jupyter.widget-view+json": {
              "model_id": "94ed667d8f0a4a3a8c613af9d7a7165c",
              "version_minor": 0,
              "version_major": 2
            },
            "text/plain": [
              "HBox(children=(FloatProgress(value=0.0, description='Downloading', max=1915455.0, style=ProgressStyle(descript…"
            ]
          },
          "metadata": {
            "tags": []
          }
        },
        {
          "output_type": "stream",
          "text": [
            "\n"
          ],
          "name": "stdout"
        },
        {
          "output_type": "display_data",
          "data": {
            "application/vnd.jupyter.widget-view+json": {
              "model_id": "782180a3453f49e3b2c0a19529032a03",
              "version_minor": 0,
              "version_major": 2
            },
            "text/plain": [
              "HBox(children=(FloatProgress(value=0.0, description='Downloading', max=775.0, style=ProgressStyle(description_…"
            ]
          },
          "metadata": {
            "tags": []
          }
        },
        {
          "output_type": "stream",
          "text": [
            "\n"
          ],
          "name": "stdout"
        },
        {
          "output_type": "display_data",
          "data": {
            "application/vnd.jupyter.widget-view+json": {
              "model_id": "be5fa3f4bf714b2ca3f649daa421b1c5",
              "version_minor": 0,
              "version_major": 2
            },
            "text/plain": [
              "HBox(children=(FloatProgress(value=0.0, description='Downloading', max=1195.0, style=ProgressStyle(description…"
            ]
          },
          "metadata": {
            "tags": []
          }
        },
        {
          "output_type": "stream",
          "text": [
            "\n"
          ],
          "name": "stdout"
        },
        {
          "output_type": "display_data",
          "data": {
            "application/vnd.jupyter.widget-view+json": {
              "model_id": "71650c8d8a984e438a645f04f007862f",
              "version_minor": 0,
              "version_major": 2
            },
            "text/plain": [
              "HBox(children=(FloatProgress(value=0.0, description='Downloading', max=3508743.0, style=ProgressStyle(descript…"
            ]
          },
          "metadata": {
            "tags": []
          }
        },
        {
          "output_type": "stream",
          "text": [
            "\n"
          ],
          "name": "stdout"
        }
      ]
    },
    {
      "cell_type": "code",
      "metadata": {
        "id": "foaX0YhN1s42"
      },
      "source": [
        "DATASET_NAME = \"pubmed\"\n",
        "device = \"cuda\"\n",
        "\n",
        "#MODEL_ID = f\"google/bigbird-pegasus-large-{DATASET_NAME}\"\n",
        "MODEL_ID = f\"model_X\"\n",
        "from transformers import AutoTokenizer, AutoModelForMaskedLM\n",
        "  \n",
        "\n",
        "from transformers import EncoderDecoderModel, BigBirdModel, BigBirdForCausalLM, BigBirdTokenizer\n",
        "from transformers import Seq2SeqTrainingArguments, Seq2SeqTrainer\n",
        "#from transformers import PegasusTokenizer, BigBirdPegasusModel\n",
        "from transformers import BigBirdPegasusForConditionalGeneration, AutoTokenizer\n",
        "import torch\n",
        "model1 = BigBirdPegasusForConditionalGeneration.from_pretrained(MODEL_ID, gradient_checkpointing=True, use_cache=False).to(device)\n",
        "tokenizer = AutoTokenizer.from_pretrained(\"google/bigbird-pegasus-large-pubmed\",use_fast=False)\n",
        "#tokenizer = AutoTokenizer.from_pretrained(\"deepset/covid_bert_base\")"
      ],
      "execution_count": null,
      "outputs": []
    },
    {
      "cell_type": "code",
      "metadata": {
        "id": "YgH9vvssuSyu"
      },
      "source": [
        ""
      ],
      "execution_count": null,
      "outputs": []
    },
    {
      "cell_type": "markdown",
      "metadata": {
        "id": "hiEJjtCquTi7"
      },
      "source": [
        "##Loading trained BIGBIRD with extraction layer"
      ]
    },
    {
      "cell_type": "code",
      "metadata": {
        "id": "RHb_s4G81zYM"
      },
      "source": [
        "DATASET_NAME = \"pubmed\"\n",
        "device = \"cuda\"\n",
        "\n",
        "#MODEL_ID = f\"google/bigbird-pegasus-large-{DATASET_NAME}\"\n",
        "MODEL_ID = f\"model_C\"\n",
        "from transformers import AutoTokenizer, AutoModelForMaskedLM\n",
        "  \n",
        "\n",
        "from transformers import EncoderDecoderModel, BigBirdModel, BigBirdForCausalLM, BigBirdTokenizer\n",
        "from transformers import Seq2SeqTrainingArguments, Seq2SeqTrainer\n",
        "#from transformers import PegasusTokenizer, BigBirdPegasusModel\n",
        "from transformers import BigBirdPegasusForConditionalGeneration, AutoTokenizer\n",
        "import torch\n",
        "model2 = BigBirdPegasusForConditionalGeneration.from_pretrained(MODEL_ID, gradient_checkpointing=True, use_cache=False).to(device)\n",
        "tokenizer = AutoTokenizer.from_pretrained(\"google/bigbird-pegasus-large-pubmed\",use_fast=False)\n",
        "#tokenizer = AutoTokenizer.from_pretrained(\"deepset/covid_bert_base\")"
      ],
      "execution_count": null,
      "outputs": []
    },
    {
      "cell_type": "code",
      "metadata": {
        "id": "5Ji6vdeF16d2"
      },
      "source": [
        "def generate_answer(batch):\n",
        "    inputs_dict = tokenizer(batch[\"articles\"], padding=\"max_length\", max_length=4096, return_tensors=\"pt\", truncation=True)\n",
        "    inputs_dict = {k: inputs_dict[k].to(device) for k in inputs_dict}\n",
        "    predicted_abstract_ids = model.generate(**inputs_dict, max_length=256, num_beams=5, length_penalty=0.8)\n",
        "    batch[\"predicted_abstract\"] = tokenizer.decode(predicted_abstract_ids[0], skip_special_tokens=True)\n",
        "    print(batch[\"predicted_abstract\"])\n",
        "    return batch\n",
        "def generate_answer1(batch):\n",
        "    inputs_dict = tokenizer(batch[\"articles\"], padding=\"max_length\", max_length=4096, return_tensors=\"pt\", truncation=True)\n",
        "    inputs_dict = {k: inputs_dict[k].to(device) for k in inputs_dict}\n",
        "    predicted_abstract_ids = model1.generate(**inputs_dict, max_length=256, num_beams=5, length_penalty=0.8)\n",
        "    batch[\"predicted_abstract\"] = tokenizer.decode(predicted_abstract_ids[0], skip_special_tokens=True)\n",
        "    print(batch[\"predicted_abstract\"])\n",
        "    return batch\n",
        "def generate_answer2(batch):\n",
        "    inputs_dict = tokenizer(batch[\"articles\"], padding=\"max_length\", max_length=4096, return_tensors=\"pt\", truncation=True)\n",
        "    inputs_dict = {k: inputs_dict[k].to(device) for k in inputs_dict}\n",
        "    predicted_abstract_ids = model2.generate(**inputs_dict, max_length=256, num_beams=5, length_penalty=0.8)\n",
        "    batch[\"predicted_abstract\"] = tokenizer.decode(predicted_abstract_ids[0], skip_special_tokens=True)\n",
        "    print(batch[\"predicted_abstract\"])\n",
        "    return batch"
      ],
      "execution_count": null,
      "outputs": []
    },
    {
      "cell_type": "code",
      "metadata": {
        "colab": {
          "base_uri": "https://localhost:8080/",
          "height": 66,
          "referenced_widgets": [
            "9769ea5493674a458f55519e82ca4e61",
            "c9074697838b4fc8a849abdc2adba0e6",
            "3819b78e4fdc4e1c9524d69690ee7358",
            "718c48d17f5446a588a34a202ff1f98d",
            "44fd70c984e541acbf2caa685037ce71",
            "68bbbd8e85d244e0bd645d7701f20255",
            "2905983ce8404dfaae569fbc44b1598c",
            "c422c18f1ec74cd4956d388ed6da42ed"
          ]
        },
        "id": "JExxUxg44ukH",
        "outputId": "dab41d90-15c1-492a-fe6c-b2c2aa858d47"
      },
      "source": [
        "from datasets import load_dataset, load_metric\n",
        "rouge = load_metric(\"rouge\")"
      ],
      "execution_count": null,
      "outputs": [
        {
          "output_type": "display_data",
          "data": {
            "application/vnd.jupyter.widget-view+json": {
              "model_id": "9769ea5493674a458f55519e82ca4e61",
              "version_minor": 0,
              "version_major": 2
            },
            "text/plain": [
              "HBox(children=(FloatProgress(value=0.0, description='Downloading', max=2170.0, style=ProgressStyle(description…"
            ]
          },
          "metadata": {
            "tags": []
          }
        },
        {
          "output_type": "stream",
          "text": [
            "\n"
          ],
          "name": "stdout"
        }
      ]
    },
    {
      "cell_type": "code",
      "metadata": {
        "colab": {
          "base_uri": "https://localhost:8080/"
        },
        "id": "pz-FIXdf41c_",
        "outputId": "79ced161-302f-415f-8526-8d86735fcf8b"
      },
      "source": [
        "train.shape"
      ],
      "execution_count": null,
      "outputs": [
        {
          "output_type": "execute_result",
          "data": {
            "text/plain": [
              "(10589, 12)"
            ]
          },
          "metadata": {
            "tags": []
          },
          "execution_count": 102
        }
      ]
    },
    {
      "cell_type": "code",
      "metadata": {
        "colab": {
          "base_uri": "https://localhost:8080/"
        },
        "id": "qJF_EzOI5AuQ",
        "outputId": "01f56f1f-7114-4aa6-c939-0f2827672a11"
      },
      "source": [
        "train.columns"
      ],
      "execution_count": null,
      "outputs": [
        {
          "output_type": "execute_result",
          "data": {
            "text/plain": [
              "Index(['Unnamed: 0', 'title', 'abstract', 'articles', 'wordcount_articles',\n",
              "       'wordcount_abstract', 'Result', 'Introduction', 'section_names',\n",
              "       'condition_wordcount', 'extractedsam', 'conditioned'],\n",
              "      dtype='object')"
            ]
          },
          "metadata": {
            "tags": []
          },
          "execution_count": 103
        }
      ]
    },
    {
      "cell_type": "code",
      "metadata": {
        "id": "gDZlgKBK5_jX"
      },
      "source": [
        "train.iloc[1573]"
      ],
      "execution_count": null,
      "outputs": []
    },
    {
      "cell_type": "code",
      "metadata": {
        "id": "8CvmxYyF7d4n"
      },
      "source": [
        "teet=titoo.iloc[0,3]"
      ],
      "execution_count": null,
      "outputs": []
    },
    {
      "cell_type": "code",
      "metadata": {
        "colab": {
          "base_uri": "https://localhost:8080/"
        },
        "id": "RXCrRpr077-3",
        "outputId": "42426763-c4cc-4cf7-96db-4c6c18d62e75"
      },
      "source": [
        "titoo.shape"
      ],
      "execution_count": null,
      "outputs": [
        {
          "output_type": "execute_result",
          "data": {
            "text/plain": [
              "(1, 2)"
            ]
          },
          "metadata": {
            "tags": []
          },
          "execution_count": 135
        }
      ]
    },
    {
      "cell_type": "code",
      "metadata": {
        "id": "M70UfcY3teCa"
      },
      "source": [
        ""
      ],
      "execution_count": null,
      "outputs": []
    },
    {
      "cell_type": "markdown",
      "metadata": {
        "id": "KIU_aUMdtfmL"
      },
      "source": [
        "###### ROUGE score of article length greater than 4000 words- BigBIRD standalone"
      ]
    },
    {
      "cell_type": "code",
      "metadata": {
        "colab": {
          "base_uri": "https://localhost:8080/",
          "height": 186,
          "referenced_widgets": [
            "4375486a5d0b44d1b6ba47b6eb729fdc",
            "f516d12f7d084e168b6aff2a37d76e6b",
            "b71c6865f34b44998831e45514b8f123",
            "76939f006337482c8f4c7acea72745cd",
            "faeffc659b834123ab10c93a0d793453",
            "595bd8c06d564c2fb90dd66b2d091163",
            "26e614ce97bc4db3bc85ad8480596bda",
            "3f925fb318034400aeeb22e678d86023"
          ]
        },
        "id": "Qz6AgMH9-nem",
        "outputId": "97feccb4-d39d-4b77-91a8-29925903e9f2"
      },
      "source": [
        "\n",
        "dataset_small = testy.select(range(2))\n",
        "result_small = dataset_small.map(generate_answer1)\n",
        "\n",
        "rouge.compute(predictions=result_small[\"predicted_abstract\"], references=result_small[\"abstract\"])"
      ],
      "execution_count": null,
      "outputs": [
        {
          "output_type": "display_data",
          "data": {
            "application/vnd.jupyter.widget-view+json": {
              "model_id": "4375486a5d0b44d1b6ba47b6eb729fdc",
              "version_minor": 0,
              "version_major": 2
            },
            "text/plain": [
              "HBox(children=(FloatProgress(value=0.0, max=2.0), HTML(value='')))"
            ]
          },
          "metadata": {
            "tags": []
          }
        },
        {
          "output_type": "stream",
          "text": [
            "Abstract The poly tail length of bovine coronavirus, which is a member of the alphacoronavirus family, is relatively short in infected cells at 0 2 postinfection, increases to a peak length at 6 10 hpi, and gradually decreases in size after 10 of infection. In addition, the length of the coronaviral poly tail is determined to be associated with the efficiency of virus translation. In this study, the regulation of coronaviral poly tail length during infection of chicken embryo kidney cells was investigated. The poly tail length was determined by head to tail ligation, and the lengths of the coronaviral poly tail were determined to be 33 nt, 62 nt, 51 nt, 41 nt, and 40 nt at 1, 2, 8, 12, 24, 36, and 48 hpi, respectively. The poly tail length was also determined to be reduced in comparison with that from inoculum used for infection. The results demonstrated that the regulation of coronaviral poly tail length during infection occurs not only in cell cultures but also in living systems and the gene expression of coronavirus in living systems, as with in cell cultures, may also be associated with the poly tail length during the early infection. The regulation may be a common feature of coronaviruses\n",
            "Abstract A hydrophobically modified chitosan derivative, 3 trimethylammonium chitosan chloride, and its hydrophobically modified counterpart, 3 trimethylammonium chitosan chloride, were evaluated for their antiviral activity against murine hepatitis virus, human coronavirus, and human metapneumovirus. We found that the minimal inhibitory concentration value of 3 trimethylammonium chitosan chloride and 3 trimethylammonium chitosan chloride was 10, and 50, respectively, for murine hepatitis virus and human coronavirus. In addition, 3 trimethylammonium chitosan chloride and 3 trimethylammonium chitosan chloride inhibited the replication of human coronavirus and human metapneumovirus in vitro, respectively. In addition, 3 trimethylammonium chitosan chloride and 3 trimethylammonium chitosan chloride inhibited the replication of human coronavirus and human metapneumovirus in vitro, respectively. The antiviral activity of 3 trimethylammonium chitosan chloride and 3 trimethylammonium chitosan chloride against murine hepatitis virus suggests that these compounds may represent a novel class of antiviral compounds for the treatment of a wider spectrum of coronaviral diseases.\n",
            "\n"
          ],
          "name": "stdout"
        },
        {
          "output_type": "execute_result",
          "data": {
            "text/plain": [
              "{'rouge1': AggregateScore(low=Score(precision=0.3288590604026846, recall=0.3161290322580645, fmeasure=0.3223684210526316), mid=Score(precision=0.4639464384139027, recall=0.40507646832026734, fmeasure=0.4319265686049184), high=Score(precision=0.5990338164251208, recall=0.4940239043824701, fmeasure=0.5414847161572053)),\n",
              " 'rouge2': AggregateScore(low=Score(precision=0.08108108108108109, recall=0.07792207792207792, fmeasure=0.07947019867549669), mid=Score(precision=0.17160850170558908, recall=0.14696103896103896, fmeasure=0.1581561519693273), high=Score(precision=0.2621359223300971, recall=0.216, fmeasure=0.2368421052631579)),\n",
              " 'rougeL': AggregateScore(low=Score(precision=0.16778523489932887, recall=0.16129032258064516, fmeasure=0.16447368421052633), mid=Score(precision=0.26022111986512336, recall=0.2260634879835497, fmeasure=0.2416254883934728), high=Score(precision=0.3526570048309179, recall=0.2908366533864542, fmeasure=0.3187772925764193)),\n",
              " 'rougeLsum': AggregateScore(low=Score(precision=0.16778523489932887, recall=0.16129032258064516, fmeasure=0.16447368421052633), mid=Score(precision=0.26022111986512336, recall=0.2260634879835497, fmeasure=0.2416254883934728), high=Score(precision=0.3526570048309179, recall=0.2908366533864542, fmeasure=0.3187772925764193))}"
            ]
          },
          "metadata": {
            "tags": []
          },
          "execution_count": 60
        }
      ]
    },
    {
      "cell_type": "code",
      "metadata": {
        "id": "2c5mOIeMttAz"
      },
      "source": [
        ""
      ],
      "execution_count": null,
      "outputs": []
    },
    {
      "cell_type": "markdown",
      "metadata": {
        "id": "-oL0GvnftwJc"
      },
      "source": [
        "###### ROUGE score of article length greater than 4000 words- BigBIRD with extraction layer"
      ]
    },
    {
      "cell_type": "code",
      "metadata": {
        "colab": {
          "base_uri": "https://localhost:8080/",
          "height": 186,
          "referenced_widgets": [
            "138e3eb135c24048b6163ce864992785",
            "ec6d0ecf38254f5694de9febb7afabd6",
            "4634e983e9704b1ea87117eb69953a8e",
            "42f30f8cf3c54fa4bdfb1e5476d0efd6",
            "c37c538889394c04bde4c128a360abc6",
            "8e0efd01ca704b5285a55b9e1241bc18",
            "77194a0a19e74a41aa8d4988f06e5d0d",
            "69a939681ae94590955ff59bc998c4db"
          ]
        },
        "id": "1uX8Tb9F-pCt",
        "outputId": "6217ed96-6b88-4847-d3ff-b3eb911ca70f"
      },
      "source": [
        "\n",
        "dataset_small = testx.select(range(2))\n",
        "result_small = dataset_small.map(generate_answer2)\n",
        "\n",
        "rouge.compute(predictions=result_small[\"predicted_abstract\"], references=result_small[\"abstract\"])"
      ],
      "execution_count": null,
      "outputs": [
        {
          "output_type": "display_data",
          "data": {
            "application/vnd.jupyter.widget-view+json": {
              "model_id": "138e3eb135c24048b6163ce864992785",
              "version_minor": 0,
              "version_major": 2
            },
            "text/plain": [
              "HBox(children=(FloatProgress(value=0.0, max=2.0), HTML(value='')))"
            ]
          },
          "metadata": {
            "tags": []
          }
        },
        {
          "output_type": "stream",
          "text": [
            "Abstract The regulation of coronaviral poly tail length is a common feature of coronaviruses and can occur in other cell types and living systems other than human rectal tumor 18 cells. In this study, we demonstrate that the regulation of coronaviral poly tail length is also regulated in noncancerous cells, primary cell cultures, and a living system, suggesting that the regulation may be a common feature of coronaviruses and is not a host cell specific. The length of the coronaviral poly tail was increased at 4 and 8 hpi during the early stage of infection in noncancerous cells, primary cell cultures, and a living system, suggesting that the regulation is not a host cell specific. The length of the coronaviral poly tail was increased again after 5 days of infection in the same noncancerous cells, primary cell cultures, and a living system, suggesting that the length of the coronaviral poly tail is increased again after 5 days of infection in the same noncancerous cells, primary cell cultures, and a living system, suggesting that the length of the coronaviral poly tail is increased again after 5 days of infection in the same noncancerous cells, primary cell cultures, and a living system, suggesting that the length of the coronaviral poly tail is increased again after 5 days of infection.\n",
            "Abstract The recent emergence of two new human coronaviruses has brought the whole family of coronaviruses back to the limelight. In this paper, a cationically modified chitosan derivative and its hydrophobically modified derivative are shown to be potent inhibitors of IVVV63 replication. The polymers also showed a prominent activity against murine hepatitis virus, suggesting that developed compounds may represent a novel class of antiviral compounds for the treatment of a wider spectrum of coronaviral diseases.\n",
            "\n"
          ],
          "name": "stdout"
        },
        {
          "output_type": "execute_result",
          "data": {
            "text/plain": [
              "{'rouge1': AggregateScore(low=Score(precision=0.5852534562211982, recall=0.3225806451612903, fmeasure=0.4347826086956521), mid=Score(precision=0.6259600614439325, recall=0.41427837038941007, fmeasure=0.48875882571534746), high=Score(precision=0.6666666666666666, recall=0.5059760956175299, fmeasure=0.5427350427350428)),\n",
              " 'rouge2': AggregateScore(low=Score(precision=0.22972972972972974, recall=0.11038961038961038, fmeasure=0.14912280701754385), mid=Score(precision=0.2306056056056056, recall=0.1551948051948052, fmeasure=0.18185754084782774), high=Score(precision=0.23148148148148148, recall=0.2, fmeasure=0.21459227467811162)),\n",
              " 'rougeL': AggregateScore(low=Score(precision=0.33640552995391704, recall=0.2, fmeasure=0.26956521739130435), mid=Score(precision=0.3748694316436252, recall=0.2454183266932271, fmeasure=0.29076551467855816), high=Score(precision=0.41333333333333333, recall=0.2908366533864542, fmeasure=0.31196581196581197)),\n",
              " 'rougeLsum': AggregateScore(low=Score(precision=0.33640552995391704, recall=0.2, fmeasure=0.26956521739130435), mid=Score(precision=0.3748694316436252, recall=0.2454183266932271, fmeasure=0.29076551467855816), high=Score(precision=0.41333333333333333, recall=0.2908366533864542, fmeasure=0.31196581196581197))}"
            ]
          },
          "metadata": {
            "tags": []
          },
          "execution_count": 61
        }
      ]
    },
    {
      "cell_type": "code",
      "metadata": {
        "id": "cVqAVj-n_ziI"
      },
      "source": [
        "train=train[train['wordcount_articles']>4500]"
      ],
      "execution_count": null,
      "outputs": []
    },
    {
      "cell_type": "code",
      "metadata": {
        "id": "nWOJwmc8CdGd"
      },
      "source": [
        "sexy=test_y.iloc[0,0]"
      ],
      "execution_count": null,
      "outputs": []
    },
    {
      "cell_type": "code",
      "metadata": {
        "colab": {
          "base_uri": "https://localhost:8080/"
        },
        "id": "D2MagG55CndB",
        "outputId": "9c7851a0-82a2-47f7-d710-eecd3c139b9b"
      },
      "source": [
        "sexy=get_wordcounts(sexy)\n",
        "sexy"
      ],
      "execution_count": null,
      "outputs": [
        {
          "output_type": "execute_result",
          "data": {
            "text/plain": [
              "4627"
            ]
          },
          "metadata": {
            "tags": []
          },
          "execution_count": 77
        }
      ]
    },
    {
      "cell_type": "code",
      "metadata": {
        "colab": {
          "base_uri": "https://localhost:8080/"
        },
        "id": "pBCjmipfCoOQ",
        "outputId": "3ab69323-0b53-4811-e3c6-9ab4e8ad12b8"
      },
      "source": [
        "test_yy=train_x[['articles', 'abstract']]\n",
        "test_xx=train_x[['conditioned', 'abstract']]\n",
        "test_xx.rename(columns = {'conditioned':'articles'}, inplace = True)"
      ],
      "execution_count": null,
      "outputs": [
        {
          "output_type": "stream",
          "text": [
            "/usr/local/lib/python3.7/dist-packages/pandas/core/frame.py:4308: SettingWithCopyWarning: \n",
            "A value is trying to be set on a copy of a slice from a DataFrame\n",
            "\n",
            "See the caveats in the documentation: https://pandas.pydata.org/pandas-docs/stable/user_guide/indexing.html#returning-a-view-versus-a-copy\n",
            "  errors=errors,\n"
          ],
          "name": "stderr"
        }
      ]
    },
    {
      "cell_type": "code",
      "metadata": {
        "id": "dIDR1sOuD5JV"
      },
      "source": [
        "test_xx=test_xx.reset_index(drop=True)\n",
        "test_yy=test_yy.reset_index(drop=True)"
      ],
      "execution_count": null,
      "outputs": []
    },
    {
      "cell_type": "code",
      "metadata": {
        "colab": {
          "base_uri": "https://localhost:8080/"
        },
        "id": "O8zxdFP9EEMp",
        "outputId": "e052d984-5fec-420b-9505-7446a06bff00"
      },
      "source": [
        "from datasets import Dataset\n",
        "testxx = Dataset.from_pandas(test_xx)\n",
        "testyy = Dataset.from_pandas(test_yy)\n",
        "testxx, testyy"
      ],
      "execution_count": null,
      "outputs": [
        {
          "output_type": "execute_result",
          "data": {
            "text/plain": [
              "(Dataset({\n",
              "     features: ['articles', 'abstract'],\n",
              "     num_rows: 4904\n",
              " }), Dataset({\n",
              "     features: ['articles', 'abstract'],\n",
              "     num_rows: 4904\n",
              " }))"
            ]
          },
          "metadata": {
            "tags": []
          },
          "execution_count": 83
        }
      ]
    },
    {
      "cell_type": "code",
      "metadata": {
        "id": "3WEOkXLLEOJx"
      },
      "source": [
        "z=test_yy.iloc[0,0]\n",
        "z1=test_yy.iloc[1,0]\n",
        "z2=test_yy.iloc[2,0]"
      ],
      "execution_count": null,
      "outputs": []
    },
    {
      "cell_type": "code",
      "metadata": {
        "colab": {
          "base_uri": "https://localhost:8080/"
        },
        "id": "6lqAQ-gzEWO4",
        "outputId": "602b2ad5-889c-40e5-fe05-7b52e8e329e4"
      },
      "source": [
        "z=get_wordcounts(z)\n",
        "z1=get_wordcounts(z1)\n",
        "z2=get_wordcounts(z2)\n",
        "z, z1, z2"
      ],
      "execution_count": null,
      "outputs": [
        {
          "output_type": "execute_result",
          "data": {
            "text/plain": [
              "(2907, 3638, 3686)"
            ]
          },
          "metadata": {
            "tags": []
          },
          "execution_count": 93
        }
      ]
    },
    {
      "cell_type": "code",
      "metadata": {
        "id": "Q8vHtv_AEe7v"
      },
      "source": [
        ""
      ],
      "execution_count": null,
      "outputs": []
    },
    {
      "cell_type": "code",
      "metadata": {
        "id": "u5Y3nuAyEe9w"
      },
      "source": [
        ""
      ],
      "execution_count": null,
      "outputs": []
    },
    {
      "cell_type": "code",
      "metadata": {
        "id": "Czb_yV4FIUzy"
      },
      "source": [
        "test_x1=test_xx[1:3]\n",
        "test_y1=test_yy[1:3]"
      ],
      "execution_count": null,
      "outputs": []
    },
    {
      "cell_type": "code",
      "metadata": {
        "colab": {
          "base_uri": "https://localhost:8080/"
        },
        "id": "FEX40zlyItgN",
        "outputId": "af098921-b340-451b-9f49-fd8c76046c02"
      },
      "source": [
        "from datasets import Dataset\n",
        "testx1 = Dataset.from_pandas(test_x1)\n",
        "testy1 = Dataset.from_pandas(test_y1)\n",
        "testx1, testy1"
      ],
      "execution_count": null,
      "outputs": [
        {
          "output_type": "execute_result",
          "data": {
            "text/plain": [
              "(Dataset({\n",
              "     features: ['articles', 'abstract'],\n",
              "     num_rows: 2\n",
              " }), Dataset({\n",
              "     features: ['articles', 'abstract'],\n",
              "     num_rows: 2\n",
              " }))"
            ]
          },
          "metadata": {
            "tags": []
          },
          "execution_count": 98
        }
      ]
    },
    {
      "cell_type": "code",
      "metadata": {
        "id": "f5nnrfAt8CvQ"
      },
      "source": [
        "from datasets import Dataset\n",
        "teet = Dataset.from_pandas(test_x1)\n",
        "testy1 = Dataset.from_pandas(test_y1)\n",
        "testx1, testy1"
      ],
      "execution_count": null,
      "outputs": []
    },
    {
      "cell_type": "code",
      "metadata": {
        "id": "HyJASH88BKlo"
      },
      "source": [
        "bittiy=trainless[['articles','abstract']]\n",
        "bittix=trainless[['conditioned', 'abstract']]"
      ],
      "execution_count": null,
      "outputs": []
    },
    {
      "cell_type": "code",
      "metadata": {
        "colab": {
          "base_uri": "https://localhost:8080/"
        },
        "id": "ylgvoObHBgAL",
        "outputId": "2a8746e6-00d1-4a4d-ab32-e60de167ab99"
      },
      "source": [
        "bittix.rename(columns = {'conditioned':'articles'}, inplace = True)"
      ],
      "execution_count": null,
      "outputs": [
        {
          "output_type": "stream",
          "text": [
            "/usr/local/lib/python3.7/dist-packages/pandas/core/frame.py:4308: SettingWithCopyWarning: \n",
            "A value is trying to be set on a copy of a slice from a DataFrame\n",
            "\n",
            "See the caveats in the documentation: https://pandas.pydata.org/pandas-docs/stable/user_guide/indexing.html#returning-a-view-versus-a-copy\n",
            "  errors=errors,\n"
          ],
          "name": "stderr"
        }
      ]
    },
    {
      "cell_type": "code",
      "metadata": {
        "id": "Ef9IFijHB2uI"
      },
      "source": [
        "from datasets import Dataset\n",
        "bity = Dataset.from_pandas(bittiy)\n",
        "bitx = Dataset.from_pandas(bittix)"
      ],
      "execution_count": null,
      "outputs": []
    },
    {
      "cell_type": "code",
      "metadata": {
        "colab": {
          "base_uri": "https://localhost:8080/"
        },
        "id": "qR46FK3qB-3r",
        "outputId": "a7690373-0034-4f52-9ca4-5a5a4eb1320c"
      },
      "source": [
        "bity, bitx"
      ],
      "execution_count": null,
      "outputs": [
        {
          "output_type": "execute_result",
          "data": {
            "text/plain": [
              "(Dataset({\n",
              "     features: ['articles', 'abstract', '__index_level_0__'],\n",
              "     num_rows: 476\n",
              " }), Dataset({\n",
              "     features: ['articles', 'abstract', '__index_level_0__'],\n",
              "     num_rows: 476\n",
              " }))"
            ]
          },
          "metadata": {
            "tags": []
          },
          "execution_count": 154
        }
      ]
    },
    {
      "cell_type": "markdown",
      "metadata": {
        "id": "T0JPGqhjuxho"
      },
      "source": [
        "##ROUGE Scores of Short Articles (<2000 words) - BIGBIRD standalone"
      ]
    },
    {
      "cell_type": "code",
      "metadata": {
        "colab": {
          "base_uri": "https://localhost:8080/",
          "height": 203,
          "referenced_widgets": [
            "d1f2222742db47d58e94ed137db7696b",
            "dd8ab0655c0a4b6eb8cf000676f94a55",
            "66e8011e5f4e4254b847fd14e5bdf915",
            "ab75a129ffba41ebbc40b4047f04a1db",
            "13d6da35f80a448b8feea87cdf8b1ec9",
            "722f6842a4314d52b5f6134785fd3f77",
            "d53443504ac741f0a0e0b3edfa6c99d5",
            "34b3b32491c04df8a1f60f6780ebef1f"
          ]
        },
        "id": "YDrZbbeUBnpw",
        "outputId": "3bc4a54e-ba10-45e7-e7da-c219689d24b9"
      },
      "source": [
        "dataset_small = bity.select(range(3))\n",
        "result_small = dataset_small.map(generate_answer1)\n",
        "\n",
        "rouge.compute(predictions=result_small[\"predicted_abstract\"], references=result_small[\"abstract\"])"
      ],
      "execution_count": null,
      "outputs": [
        {
          "output_type": "display_data",
          "data": {
            "application/vnd.jupyter.widget-view+json": {
              "model_id": "d1f2222742db47d58e94ed137db7696b",
              "version_minor": 0,
              "version_major": 2
            },
            "text/plain": [
              "HBox(children=(FloatProgress(value=0.0, max=3.0), HTML(value='')))"
            ]
          },
          "metadata": {
            "tags": []
          }
        },
        {
          "output_type": "stream",
          "text": [
            "Abstract We report the case of a 7year old boy who presented with prolonged fever, cough, and chest rays showing a welldemarcated round mass measuring 5.9 5.6 4.3 cm in the left lower lung field, findings which were typical for round pneumonia. The urinary pneumococcal antigen test was positive, and serum anti SARScoplasma pneumoniae antibody titer measurement using a microparticle agglutination method was 1 160. The oral administration of antibiotics including azithromycin and, which was subsequently replaced by ceftibuten due to moderate diarrhea, the fever subsided 2 days later and the round patch had completely resolved on the 18th day after the diagnosis. This evidence suggests treating classical round pneumonia with antibiotics first and waiving unwarranted advanced imaging studies, while alternative etiologies such as abscesses, tuberculosis, nonbacterial infections, congenital malformations, or neoplasms should still be considered in patients with atypical features or poor treatment response.\n",
            "Abstract The crazy paving sign is an area of scattered or diffuse ground glass attenuation with superimposed interlobular septal thickening and intralobular lines on thin section computed tomography images of the lungs. The crazy paving sign can be caused by a variety of diseases, including infectious, neoplastic, idiopathic, inhalational, and hemorrhagic disorders. In this report, we describe a 69 year old woman with parainfluenza virus pneumonia who had a crazy paving sign on high resolution computed tomography.\n",
            "Abstract The aim of this study was to evaluate the utility of a multiplex polymerase chain reaction assay for detection of 15 common bacterial, fungal and viral gastrointestinal pathogens in formalin fixed, paraffin embedded ileum tissue specimens from infants with acquired enterocolitis. In total, 37 paraffin embedded ileum tissue samples were analyzed for 15 common bacterial, fungal and viral gastrointestinal pathogens by using a multiplex PCR assay. The ileum samples were from 22 patients with acquired enterocolitis, 14 patients with non acquired enterocolitis and one patient with clinical confirmed gastrointestinal disease. The samples were tested positive for human beta actinV and for 15 bacterial toxins including norovirus, rotavirus, adenovirus, and enterovirus. The samples from non acquired enterocolitis were negative for any of the following pathogens norovirus, rotavirus, adenovirus, and enterovirus. In contrast, none of the ileum samples from patients with acquired enterocolitis were positive for any of the 15 bacterial pathogens. In conclusion, this is the largest collection of ileum tissue samples tested for gastrointestinal pathogens by this method. The assay should be tested in cases of acquired enterocolitis that occurred simultaneously with epidemic bacterial or viral intestinal\n",
            "\n"
          ],
          "name": "stdout"
        },
        {
          "output_type": "execute_result",
          "data": {
            "text/plain": [
              "{'rouge1': AggregateScore(low=Score(precision=0.2553191489361702, recall=0.24324324324324328, fmeasure=0.3380281690140845), mid=Score(precision=0.6064881543604947, recall=0.5271311774201948, fmeasure=0.5283221368910075), high=Score(precision=0.9797297297297297, recall=0.838150289017341, fmeasure=0.9034267912772586)),\n",
              " 'rouge2': AggregateScore(low=Score(precision=0.0588235294117647, recall=0.11578947368421051, fmeasure=0.07801418439716312), mid=Score(precision=0.4399145623161546, recall=0.34939022226952615, fmeasure=0.37641868199461737), high=Score(precision=0.9319727891156463, recall=0.7965116279069767, fmeasure=0.8589341692789968)),\n",
              " 'rougeL': AggregateScore(low=Score(precision=0.16489361702127658, recall=0.15135135135135136, fmeasure=0.2137404580152672), mid=Score(precision=0.50275323679579, recall=0.43747276901178633, fmeasure=0.44515903614915175), high=Score(precision=0.9797297297297297, recall=0.838150289017341, fmeasure=0.9034267912772586)),\n",
              " 'rougeLsum': AggregateScore(low=Score(precision=0.16489361702127658, recall=0.15135135135135136, fmeasure=0.2137404580152672), mid=Score(precision=0.50275323679579, recall=0.43747276901178633, fmeasure=0.44515903614915175), high=Score(precision=0.9797297297297297, recall=0.838150289017341, fmeasure=0.9034267912772586))}"
            ]
          },
          "metadata": {
            "tags": []
          },
          "execution_count": 155
        }
      ]
    },
    {
      "cell_type": "code",
      "metadata": {
        "colab": {
          "base_uri": "https://localhost:8080/",
          "height": 254,
          "referenced_widgets": [
            "2bc1619cfc974290bb446e8bc5680cee",
            "88512b8ab8244494b621b3cb4d348c22",
            "dd5ed920743f47408ab4921de00616e9",
            "c8cdb7998e21408cbbaf00f84431ce85",
            "48a34fd4a625496aa53c2378090ad0c0",
            "c677d8b1b28045c0a73670ebb9f946c5",
            "1a07031bc5eb40ea8fccd9ac47a8aba3",
            "6f2f9e17b1ad4287b192ef933dd0afdf"
          ]
        },
        "id": "w-XVwv_7DHt6",
        "outputId": "9b86ccf7-eebb-47e3-8e2b-7cdd89e13899"
      },
      "source": [
        "dataset_small = bity.select(range(6))\n",
        "result_small = dataset_small.map(generate_answer1)\n",
        "\n",
        "rouge.compute(predictions=result_small[\"predicted_abstract\"], references=result_small[\"abstract\"])"
      ],
      "execution_count": null,
      "outputs": [
        {
          "output_type": "display_data",
          "data": {
            "application/vnd.jupyter.widget-view+json": {
              "model_id": "2bc1619cfc974290bb446e8bc5680cee",
              "version_minor": 0,
              "version_major": 2
            },
            "text/plain": [
              "HBox(children=(FloatProgress(value=0.0, max=6.0), HTML(value='')))"
            ]
          },
          "metadata": {
            "tags": []
          }
        },
        {
          "output_type": "stream",
          "text": [
            "Abstract We report the case of a 7year old boy who presented with prolonged fever, cough, and chest rays showing a welldemarcated round mass measuring 5.9 5.6 4.3 cm in the left lower lung field, findings which were typical for round pneumonia. The urinary pneumococcal antigen test was positive, and serum anti SARScoplasma pneumoniae antibody titer measurement using a microparticle agglutination method was 1 160. The oral administration of antibiotics including azithromycin and, which was subsequently replaced by ceftibuten due to moderate diarrhea, the fever subsided 2 days later and the round patch had completely resolved on the 18th day after the diagnosis. This evidence suggests treating classical round pneumonia with antibiotics first and waiving unwarranted advanced imaging studies, while alternative etiologies such as abscesses, tuberculosis, nonbacterial infections, congenital malformations, or neoplasms should still be considered in patients with atypical features or poor treatment response.\n",
            "Abstract The crazy paving sign is an area of scattered or diffuse ground glass attenuation with superimposed interlobular septal thickening and intralobular lines on thin section computed tomography images of the lungs. The crazy paving sign can be caused by a variety of diseases, including infectious, neoplastic, idiopathic, inhalational, and hemorrhagic disorders. In this report, we describe a 69 year old woman with parainfluenza virus pneumonia who had a crazy paving sign on high resolution computed tomography.\n",
            "Abstract The aim of this study was to evaluate the utility of a multiplex polymerase chain reaction assay for detection of 15 common bacterial, fungal and viral gastrointestinal pathogens in formalin fixed, paraffin embedded ileum tissue specimens from infants with acquired enterocolitis. In total, 37 paraffin embedded ileum tissue samples were analyzed for 15 common bacterial, fungal and viral gastrointestinal pathogens by using a multiplex PCR assay. The ileum samples were from 22 patients with acquired enterocolitis, 14 patients with non acquired enterocolitis and one patient with clinical confirmed gastrointestinal disease. The samples were tested positive for human beta actinV and for 15 bacterial toxins including norovirus, rotavirus, adenovirus, and enterovirus. The samples from non acquired enterocolitis were negative for any of the following pathogens norovirus, rotavirus, adenovirus, and enterovirus. In contrast, none of the ileum samples from patients with acquired enterocolitis were positive for any of the 15 bacterial pathogens. In conclusion, this is the largest collection of ileum tissue samples tested for gastrointestinal pathogens by this method. The assay should be tested in cases of acquired enterocolitis that occurred simultaneously with epidemic bacterial or viral intestinal\n",
            "Abstract The proportion of human slow codons and slow di codons in the viral complete genomes of 590 coronaviruses isolated from human hosts was analyzed to evaluate the differences of translation efficiency of viral proteins in the human host cells. The results indicate that the analysis based on the phylogenetic tree and viral genetic codon compositions are not completely consistent. The results indicate that the analysis of genetic codon composition provides novel information that can not be revealed in the phylogenetic analysis.\n",
            "Abstract We report on the use of a monoclonal antibody to porcine coronavirus specific epitopes directed towards the peplomer protein epitope common to feline and canine coronaviruses, for the differential diagnosis of enteric and respiratory disease in scouring pigs. The sensitivity of the test was 50.21% and the specificity was 100%.\n",
            "Abstract The titers of vlrus neutrallzlng antibody were 18 to 21 times higher in neonatal pigs than in young adult pigs, after a single oral dose of virulent transmissible gastroenteritls virus. The reas for this higher response, sera from neonatal and young adult plgs, 18 to 21 days after exposure to virulent transmissible gastroenteritls virus, were collected and assayed for vlrus neutrallzlng antibody by plaque reduction. The addition, sera of vlrus posltive and vlrus negatlve neonatal pigs were analyzed for immunoglobulin classes by radial immunodlffuslon technique. The competence of neonatal pigs to produce vlrus neutrallzlng antibody with increased immunoglobulin levels was demonstrated. The higher antibody response seen in neonatal pigs, when compared to sera of young adult plgs, may be attributed to the increased replication of transmissible gastroenteritls virus in the intestinal tracts of neonatal pigs or to the lack of other immunogens that may interfere or compete with the production of specific antibody.\n",
            "\n"
          ],
          "name": "stdout"
        },
        {
          "output_type": "execute_result",
          "data": {
            "text/plain": [
              "{'rouge1': AggregateScore(low=Score(precision=0.232708780581121, recall=0.2938469736822663, fmeasure=0.23903801503118785), mid=Score(precision=0.4695417674141078, recall=0.44898140075559434, fmeasure=0.39324993546540526), high=Score(precision=0.7182990323234226, recall=0.6398877603129887, fmeasure=0.6155186692059232)),\n",
              " 'rouge2': AggregateScore(low=Score(precision=0.10009682885499878, recall=0.11728198439940431, fmeasure=0.09705050694761194), mid=Score(precision=0.2900323872238954, recall=0.2713832600785511, fmeasure=0.24989996731088582), high=Score(precision=0.5703194858190189, recall=0.5119985040119679, fmeasure=0.510530290468278)),\n",
              " 'rougeL': AggregateScore(low=Score(precision=0.18101196232845168, recall=0.20480084863773018, fmeasure=0.1686078542606252), mid=Score(precision=0.35441118977704344, recall=0.37836892916099113, fmeasure=0.31849621399127176), high=Score(precision=0.6274163377821914, recall=0.5777733601775241, fmeasure=0.5634336814047165)),\n",
              " 'rougeLsum': AggregateScore(low=Score(precision=0.17129698272666616, recall=0.1976547194577027, fmeasure=0.1682255595364169), mid=Score(precision=0.3666268110352179, recall=0.3811753690754819, fmeasure=0.3221198829479231), high=Score(precision=0.6101137994625279, recall=0.5776403516649793, fmeasure=0.552860067301328))}"
            ]
          },
          "metadata": {
            "tags": []
          },
          "execution_count": 161
        }
      ]
    },
    {
      "cell_type": "code",
      "metadata": {
        "id": "SFzCZyfCsAiO"
      },
      "source": [
        ""
      ],
      "execution_count": null,
      "outputs": []
    },
    {
      "cell_type": "markdown",
      "metadata": {
        "id": "tzWp0fKvsQvo"
      },
      "source": [
        "#Evaluation results BIGBIRD standalone trained model##"
      ]
    },
    {
      "cell_type": "code",
      "metadata": {
        "colab": {
          "base_uri": "https://localhost:8080/",
          "height": 220,
          "referenced_widgets": [
            "e034c7315cfb4129b19f99718f160b4a",
            "bf02e5f29ad24282abc615fc91b2d6f2",
            "148f3cc9e1c34b518ecd226ac29c83d7",
            "e45e212e1d29420db0b69d81edc8c827",
            "9df52048ac3a458fa4ab6f73c6698226",
            "5e5b07842465469db93e572a769ab8fd",
            "bcb9e17e3d024950bf76488e2066653b",
            "9defc0e5eba645f496398d527efb5e97"
          ]
        },
        "id": "sY2-SwjAceL2",
        "outputId": "f7e24eb8-b311-40cf-dbd8-ca46fe835b71"
      },
      "source": [
        "dataset_small = bity.select(range(4))\n",
        "result_small = dataset_small.map(generate_answer1)\n",
        "\n",
        "rouge.compute(predictions=result_small[\"predicted_abstract\"], references=result_small[\"abstract\"])"
      ],
      "execution_count": null,
      "outputs": [
        {
          "output_type": "display_data",
          "data": {
            "application/vnd.jupyter.widget-view+json": {
              "model_id": "e034c7315cfb4129b19f99718f160b4a",
              "version_minor": 0,
              "version_major": 2
            },
            "text/plain": [
              "HBox(children=(FloatProgress(value=0.0, max=4.0), HTML(value='')))"
            ]
          },
          "metadata": {
            "tags": []
          }
        },
        {
          "output_type": "stream",
          "text": [
            "Abstract We report the case of a 7year old boy who presented with prolonged fever, cough, and chest rays showing a welldemarcated round mass measuring 5.9 5.6 4.3 cm in the left lower lung field, findings which were typical for round pneumonia. The urinary pneumococcal antigen test was positive, and serum anti SARScoplasma pneumoniae antibody titer measurement using a microparticle agglutination method was 1 160. The oral administration of antibiotics including azithromycin and, which was subsequently replaced by ceftibuten due to moderate diarrhea, the fever subsided 2 days later and the round patch had completely resolved on the 18th day after the diagnosis. This evidence suggests treating classical round pneumonia with antibiotics first and waiving unwarranted advanced imaging studies, while alternative etiologies such as abscesses, tuberculosis, nonbacterial infections, congenital malformations, or neoplasms should still be considered in patients with atypical features or poor treatment response.\n",
            "Abstract The crazy paving sign is an area of scattered or diffuse ground glass attenuation with superimposed interlobular septal thickening and intralobular lines on thin section computed tomography images of the lungs. The crazy paving sign can be caused by a variety of diseases, including infectious, neoplastic, idiopathic, inhalational, and hemorrhagic disorders. In this report, we describe a 69 year old woman with parainfluenza virus pneumonia who had a crazy paving sign on high resolution computed tomography.\n",
            "Abstract The aim of this study was to evaluate the utility of a multiplex polymerase chain reaction assay for detection of 15 common bacterial, fungal and viral gastrointestinal pathogens in formalin fixed, paraffin embedded ileum tissue specimens from infants with acquired enterocolitis. In total, 37 paraffin embedded ileum tissue samples were analyzed for 15 common bacterial, fungal and viral gastrointestinal pathogens by using a multiplex PCR assay. The ileum samples were from 22 patients with acquired enterocolitis, 14 patients with non acquired enterocolitis and one patient with clinical confirmed gastrointestinal disease. The samples were tested positive for human beta actinV and for 15 bacterial toxins including norovirus, rotavirus, adenovirus, and enterovirus. The samples from non acquired enterocolitis were negative for any of the following pathogens norovirus, rotavirus, adenovirus, and enterovirus. In contrast, none of the ileum samples from patients with acquired enterocolitis were positive for any of the 15 bacterial pathogens. In conclusion, this is the largest collection of ileum tissue samples tested for gastrointestinal pathogens by this method. The assay should be tested in cases of acquired enterocolitis that occurred simultaneously with epidemic bacterial or viral intestinal\n",
            "Abstract The proportion of human slow codons and slow di codons in the viral complete genomes of 590 coronaviruses isolated from human hosts was analyzed to evaluate the differences of translation efficiency of viral proteins in the human host cells. The results indicate that the analysis based on the phylogenetic tree and viral genetic codon compositions are not completely consistent. The results indicate that the analysis of genetic codon composition provides novel information that can not be revealed in the phylogenetic analysis.\n",
            "\n"
          ],
          "name": "stdout"
        },
        {
          "output_type": "execute_result",
          "data": {
            "text/plain": [
              "{'rouge1': AggregateScore(low=Score(precision=0.35307472755578617, recall=0.21105474118186018, fmeasure=0.2967531941604066), mid=Score(precision=0.6164514816240296, recall=0.4402636373024342, fmeasure=0.4665333798565845), high=Score(precision=0.8963826631509558, recall=0.6894235275738165, fmeasure=0.7620771357114651)),\n",
              " 'rouge2': AggregateScore(low=Score(precision=0.1263544891640867, recall=0.08243677905944986, fmeasure=0.08967375886524823), mid=Score(precision=0.38857789704575785, recall=0.2781991292871786, fmeasure=0.3076473448292964), high=Score(precision=0.7576215671453767, recall=0.6263310893512851, fmeasure=0.6695339602925809)),\n",
              " 'rougeL': AggregateScore(low=Score(precision=0.21457930367504835, recall=0.1299129638112689, fmeasure=0.18189841969589418), mid=Score(precision=0.4746259032065986, recall=0.34450402705659516, fmeasure=0.3763095954142511), high=Score(precision=0.8257063882063882, recall=0.6664505546008437, fmeasure=0.7310052079617607)),\n",
              " 'rougeLsum': AggregateScore(low=Score(precision=0.22123118837571354, recall=0.1299129638112689, fmeasure=0.18189841969589418), mid=Score(precision=0.4746259032065986, recall=0.3552232208266364, fmeasure=0.3763095954142511), high=Score(precision=0.8323582729070534, recall=0.6664505546008437, fmeasure=0.7310052079617607))}"
            ]
          },
          "metadata": {
            "tags": []
          },
          "execution_count": 165
        }
      ]
    },
    {
      "cell_type": "code",
      "metadata": {
        "id": "SB0CgekXsUtc"
      },
      "source": [
        ""
      ],
      "execution_count": null,
      "outputs": []
    },
    {
      "cell_type": "markdown",
      "metadata": {
        "id": "6fu1FvIEsVzX"
      },
      "source": [
        "# Evaluation results BIGBIRD with extraction model trained model#"
      ]
    },
    {
      "cell_type": "code",
      "metadata": {
        "colab": {
          "base_uri": "https://localhost:8080/",
          "height": 254,
          "referenced_widgets": [
            "3c564e01a93544ccb2202aa011b4c45c",
            "95fe70135cde41c8a34a7ad5e88d2a3c",
            "b72668d06cf644058250b7d59c16d257",
            "695915592039495d9b19305f94a32a4f",
            "4a18086b9ee2452fa5ff2d40daf9be00",
            "fce3345f740949b2aaf4f5c9b7c0adf8",
            "c3eda10aed3246c7af40a4f7e6ebd7c3",
            "f889991b98174c05b60e2ee4414485de"
          ]
        },
        "id": "x8TevAsSDNAa",
        "outputId": "f23a54ad-c8d4-4a3c-faf8-1aa538651dd8"
      },
      "source": [
        "dataset_small = bitx.select(range(6))\n",
        "result_small = dataset_small.map(generate_answer2)\n",
        "\n",
        "rouge.compute(predictions=result_small[\"predicted_abstract\"], references=result_small[\"abstract\"])"
      ],
      "execution_count": null,
      "outputs": [
        {
          "output_type": "display_data",
          "data": {
            "application/vnd.jupyter.widget-view+json": {
              "model_id": "3c564e01a93544ccb2202aa011b4c45c",
              "version_minor": 0,
              "version_major": 2
            },
            "text/plain": [
              "HBox(children=(FloatProgress(value=0.0, max=6.0), HTML(value='')))"
            ]
          },
          "metadata": {
            "tags": []
          }
        },
        {
          "output_type": "stream",
          "text": [
            "Abstract A child may develop an opaque pulmonary consolidation with unusually round shape, which raises the concern of a tumor in the chest, causing anxiety to the pediatrician and parents. We report the case of a child with so called round pneumonia, whose initial chest computed tomography findings mimicked those of a lung mass, but subsequently showed complete response to oral antibiotics alone. The findings and recommendations in the literature are also reviewed.\n",
            "Abstract The crazy paving sign is an area of scattered or diffuse ground glass attenuation with superimposed interlobular septal thickening and intralobular lines. The crazy paving sign has a variety of causes, including infectious, neoplastic, idiopathic, inhalational, and hemorrhagic disorders. In this report, we describe the crazy paving sign in a 69 year old woman with parainfluenza virus pneumonia in a non immunocompromised host.\n",
            "Abstract The aim of this study was to evaluate a multiplex amplification and suspension array detection approach for detection of 15 common bacterial, fungal and viral gastrointestinal pathogens in formalin fixed, paraffin embedded ileum tissue samples from preterm patients with enterocolitis. A total of 28 ileum tissue samples were tested for 15 common bacterial, fungal and viral gastrointestinal pathogens by this method. The median gestational age was 28.2 completed weeks and the median age at the time of tissue resection was 27.1 days. The median gestational age was 32.8 completed weeks and the median age at the time of tissue resection was 8.3 days. The median gestational age was 28.2 completed weeks and the median age at the time of tissue resection was 27.1 days. The median gestational age was 28.2 completed weeks and the median age at the time of tissue resection was 27.1 days. The median gestational age was 28.2 completed weeks and the median age at the time of tissue resection was 27.1 days. The median gestational age was 28.2 completed weeks and the median age at the time of tissue resection was 27.1 days. The median gestational age was 28.2 completed weeks and the median age at the time of tissue resection was 27.1 days. The median gestational age was 28.2 completed weeks and\n",
            "Abstract The proportion of human slow codons and slow di codons in the genomes of 590 coronavirus complete genomes isolated from human hosts were analyzed to evaluate the differences of translation efficiency of viral proteins in the human host cells. The results indicate that the proportion of human slow codons and slow di codons in the coding sequences from 590 coronavirus complete genomes isolated from human hosts are not completely consistent. The results indicate that the proportion of human slow codons and slow di codons in the coding sequences from 590 coronavirus complete genomes isolated from human hosts are not completely consistent. The results indicate that the proportion of human slow codons and slow di codons in the coding sequences from 590 coronavirus complete genomes isolated from human hosts are not completely consistent. The results indicate that the proportion of human slow codons and slow di codons in the coding sequences from 590 coronavirus complete genomes isolated from human hosts are not completely consistent. The results indicate that the proportion of human slow codons and slow di codons in the coding sequences from 590 coronavirus complete genomes isolated from human hosts are not completely consistent. The results indicate that the proportion of human slow codons and slow di codons in the coding sequences from 590 coronavirus complete genomes isolated from human hosts are not completely consistent.\n",
            "Abstract The detection of missible gastroenteritis virus in scouring pig sera by a monoclonal antibody specific for the peplomer protein epitope common to porcine respiratory coronavirus and feline coronavirus is reported. The sensitivity and specificity of the test were compared with those of a virus neutralization test using laboratory strains of SARSV and feline coronavirus. The sensitivity of the test was 50.21% and that of the neutralization test 50.21%. The specificity of the test was 100% and that of the neutralization test was 100%. The sensitivity and specificity of the test were also compared with those of a virus neutralization test using laboratory strains of feline coronavirus and feline coronavirus. The sensitivity of the test was 100% and that of the neutralization test was 100%. The specificity of the test was 100% and that of the neutralization test was 100%. The sensitivity and specificity of the test were compared with those of a virus neutralization test using laboratory strains of feline coronavirus and feline coronavirus. The sensitivity of the test was 100% and that of the neutralization test was 100%. The specificity of the test was 100% and that of the neutralization test was 100%. The sensitivity of the test was 100% and that of the neutralization test was 100%\n",
            "Abstract A previous study showed that transmissible gastroenterltls virus neutralization serum tlters of neonatal pigs that survived the viral infection greatly exceeded those of adults given a comparable oral dose of virus. In this study, we investigated antibody responses of neonatal and young adult pigs to transmissible gastroenterltls virus antigens to determine if the higher serum tlters are due to a specific antibody present in the sera of colostrum fed pigs. The geometric mean serum tlter for the neonatal pigs was significantly higher than that of young adult pigs. The geometric mean serum tlter for the neonatal pigs was significantly higher than that of young adult pigs. In addition, the geometric mean serum tlter for the neonatal pigs was significantly higher than that of young adult pigs. The higher antibody response seen in neonatal pigs, when compared to sera of young adult plgs, may be attributed to the increased replication of transmissible gastroenterltls virus in the intestinal tracts of neonatal pigs or to the lack of other immunogens that may interfere or compete with the production of specific antibody.\n",
            "\n"
          ],
          "name": "stdout"
        },
        {
          "output_type": "execute_result",
          "data": {
            "text/plain": [
              "{'rouge1': AggregateScore(low=Score(precision=0.13039597372531836, recall=0.2542117801155716, fmeasure=0.15571714995361643), mid=Score(precision=0.30352930862924693, recall=0.33580139665544373, fmeasure=0.23778940514328348), high=Score(precision=0.4885706769210159, recall=0.4343149389137633, fmeasure=0.3086754270174341)),\n",
              " 'rouge2': AggregateScore(low=Score(precision=0.04424584484299022, recall=0.08410075576538245, fmeasure=0.05404682004198554), mid=Score(precision=0.11945540432221263, recall=0.14132437810062737, fmeasure=0.09340086502511007), high=Score(precision=0.24138707088944053, recall=0.21513191947259455, fmeasure=0.1463634236238814)),\n",
              " 'rougeL': AggregateScore(low=Score(precision=0.0991141536879048, recall=0.16829017803685922, fmeasure=0.11952814811130681), mid=Score(precision=0.2023218259816173, recall=0.2503234816281563, fmeasure=0.16256915904883257), high=Score(precision=0.32978560967082426, recall=0.3390457321471964, fmeasure=0.2126302269091667)),\n",
              " 'rougeLsum': AggregateScore(low=Score(precision=0.09984998032255947, recall=0.17605488109257736, fmeasure=0.12023756034374626), mid=Score(precision=0.20166301693492308, recall=0.2512747793486749, fmeasure=0.1618357172928357), high=Score(precision=0.3258210226271888, recall=0.3368961152496811, fmeasure=0.2123158688542601))}"
            ]
          },
          "metadata": {
            "tags": []
          },
          "execution_count": 162
        }
      ]
    },
    {
      "cell_type": "code",
      "metadata": {
        "id": "gIpgW5o5gXg1"
      },
      "source": [
        "from rouge import Rouge\n",
        "rouge = Rouge()"
      ],
      "execution_count": null,
      "outputs": []
    },
    {
      "cell_type": "code",
      "metadata": {
        "colab": {
          "base_uri": "https://localhost:8080/"
        },
        "id": "eWYY4qPDg8v8",
        "outputId": "c488ca77-61d9-447d-a417-df8411fde3df"
      },
      "source": [
        "!pip install rouge"
      ],
      "execution_count": null,
      "outputs": [
        {
          "output_type": "stream",
          "text": [
            "Collecting rouge\n",
            "  Downloading https://files.pythonhosted.org/packages/43/cc/e18e33be20971ff73a056ebdb023476b5a545e744e3fc22acd8c758f1e0d/rouge-1.0.0-py3-none-any.whl\n",
            "Requirement already satisfied: six in /usr/local/lib/python3.7/dist-packages (from rouge) (1.15.0)\n",
            "Installing collected packages: rouge\n",
            "Successfully installed rouge-1.0.0\n"
          ],
          "name": "stdout"
        }
      ]
    },
    {
      "cell_type": "code",
      "metadata": {
        "id": "CqEuovbmU4qj"
      },
      "source": [
        ""
      ],
      "execution_count": null,
      "outputs": []
    }
  ]
}